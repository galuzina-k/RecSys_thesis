{
 "cells": [
  {
   "cell_type": "code",
   "execution_count": 1,
   "id": "2834cbe0-e27a-4649-9846-737e8eb87106",
   "metadata": {},
   "outputs": [
    {
     "data": {
      "text/plain": [
       "'/Users/kristina/Desktop/University/COURSE_WORK/RecSys_thesis/recsysvenv/bin/python3.12'"
      ]
     },
     "execution_count": 1,
     "metadata": {},
     "output_type": "execute_result"
    }
   ],
   "source": [
    "## DO NOT ERASE THIS. IMPORTANT TO CORRECTLY IMPORT MODULES\n",
    "import sys\n",
    "\n",
    "sys.path.append(\"../\")\n",
    "sys.executable"
   ]
  },
  {
   "cell_type": "code",
   "execution_count": 2,
   "id": "03d08ba1",
   "metadata": {},
   "outputs": [],
   "source": [
    "import pandas as pd\n",
    "import numpy as np\n",
    "from sklearn.preprocessing import LabelEncoder\n",
    "from sklearn.preprocessing import OrdinalEncoder\n",
    "from sklearn.preprocessing import StandardScaler\n",
    "from sklearn.model_selection import train_test_split\n",
    "\n",
    "# from scipy.sparse import csr_matrix\n",
    "# from scipy.sparse.linalg import svds\n",
    "# from surprise import SVDpp, Reader, Dataset\n",
    "# from surprise.model_selection import cross_validate\n",
    "\n",
    "from typing import Union\n",
    "from tqdm.notebook import tqdm\n",
    "\n",
    "import torch.nn as nn\n",
    "from torch.utils.data import Dataset, DataLoader, TensorDataset\n",
    "import torch\n",
    "\n",
    "from src.metrics import reccomendation_report\n",
    "from src.utils import surprise_predict\n",
    "from src.utils import split_test_df\n",
    "from src.utils import seed_everything\n",
    "from src.utils import trainDataset\n",
    "from src.utils import trainDatasetWithNumCatFeatures\n",
    "\n",
    "from src.models import DeepFM, DeepFMImp\n",
    "\n",
    "import mmh3"
   ]
  },
  {
   "cell_type": "markdown",
   "id": "2a032ae8",
   "metadata": {},
   "source": [
    "## Constants"
   ]
  },
  {
   "cell_type": "code",
   "execution_count": 3,
   "id": "8de185e7",
   "metadata": {},
   "outputs": [],
   "source": [
    "DATA_FOLDER = \"../../data/ml-1m/\"\n",
    "RANDOM_STATE = 7"
   ]
  },
  {
   "cell_type": "code",
   "execution_count": 4,
   "id": "1136b767-5777-4471-8136-d4a3cdeae7dd",
   "metadata": {},
   "outputs": [],
   "source": [
    "np.random.seed(RANDOM_STATE)"
   ]
  },
  {
   "cell_type": "markdown",
   "id": "c0722360",
   "metadata": {},
   "source": [
    "## Data"
   ]
  },
  {
   "cell_type": "code",
   "execution_count": 5,
   "id": "db9e06df",
   "metadata": {},
   "outputs": [],
   "source": [
    "df_movies = pd.read_csv(\n",
    "    DATA_FOLDER + \"movies.csv\",\n",
    "    encoding=\"iso-8859-1\",\n",
    "    sep=\";\",\n",
    "    names=[\"movieId\", \"name\", \"genre\"],\n",
    ")\n",
    "df_ratings = pd.read_csv(\n",
    "    DATA_FOLDER + \"ratings.csv\",\n",
    "    encoding=\"iso-8859-1\",\n",
    "    sep=\";\",\n",
    "    names=[\"userId\", \"movieId\", \"rating\", \"timestamp\"],\n",
    ")\n",
    "df_users = pd.read_csv(\n",
    "    DATA_FOLDER + \"users.csv\",\n",
    "    encoding=\"iso-8859-1\",\n",
    "    sep=\";\",\n",
    "    names=[\"userId\", \"gender\", \"age\", \"occupation\", \"zip-code\"],\n",
    ")"
   ]
  },
  {
   "cell_type": "code",
   "execution_count": 6,
   "id": "e8af6f42",
   "metadata": {},
   "outputs": [],
   "source": [
    "## Encode usedId, movieId\n",
    "user_encoder = LabelEncoder()\n",
    "movie_encoder = LabelEncoder()\n",
    "\n",
    "df_movies[\"movieId\"] = movie_encoder.fit_transform(df_movies[\"movieId\"])\n",
    "df_users[\"userId\"] = user_encoder.fit_transform(df_users[\"userId\"])\n",
    "\n",
    "df_ratings[\"movieId\"] = movie_encoder.transform(df_ratings[\"movieId\"])\n",
    "df_ratings[\"userId\"] = user_encoder.transform(df_ratings[\"userId\"])"
   ]
  },
  {
   "cell_type": "markdown",
   "id": "59ad0c97-ef07-4ea3-a562-2c3e6c9450cd",
   "metadata": {},
   "source": [
    "### Train-test split\n",
    "Methodology: Last user interaction is a test item. The rest is train. Validation part is 10% of test."
   ]
  },
  {
   "cell_type": "code",
   "execution_count": 7,
   "id": "640bea58-f388-4778-8a1b-2622a636eee9",
   "metadata": {},
   "outputs": [],
   "source": [
    "df_ratings[\"rank\"] = (\n",
    "    df_ratings[[\"userId\", \"timestamp\"]]\n",
    "    .groupby(\"userId\", as_index=False)[\"timestamp\"]\n",
    "    .rank(method=\"first\", ascending=False)\n",
    ")\n",
    "# df_ratings = df_ratings.merge(\n",
    "#     pd.DataFrame(df_ratings[\"userId\"].value_counts()).reset_index(),\n",
    "#     how=\"left\", on=\"userId\")\n",
    "# df_ratings[\"cum_position\"] = df_ratings[\"rank\"] / df_ratings[\"count\"]\n",
    "# df_ratings = df_ratings.drop(columns=[\"rank\", \"count\"])"
   ]
  },
  {
   "cell_type": "code",
   "execution_count": 8,
   "id": "457f8830-7393-446f-8e58-74c129e3196e",
   "metadata": {},
   "outputs": [],
   "source": [
    "# leave one out\n",
    "df_train = df_ratings.loc[df_ratings[\"rank\"] != 1].reset_index(drop=True)\n",
    "df_test = (\n",
    "    df_ratings.loc[df_ratings[\"rank\"] == 1].reset_index(drop=True).assign(action=1)\n",
    ")\n",
    "df_test, df_val = train_test_split(df_test, test_size=0.2, random_state=RANDOM_STATE)"
   ]
  },
  {
   "cell_type": "code",
   "execution_count": 9,
   "id": "8273b002-c246-4b04-b806-9b2236d7472d",
   "metadata": {},
   "outputs": [
    {
     "data": {
      "application/vnd.jupyter.widget-view+json": {
       "model_id": "55aeb1c583814cc4b698230289711943",
       "version_major": 2,
       "version_minor": 0
      },
      "text/plain": [
       "Enriching test:   0%|          | 0/4832 [00:00<?, ?it/s]"
      ]
     },
     "metadata": {},
     "output_type": "display_data"
    },
    {
     "data": {
      "application/vnd.jupyter.widget-view+json": {
       "model_id": "bb627d107cda417a9b707c2712cf2559",
       "version_major": 2,
       "version_minor": 0
      },
      "text/plain": [
       "Enriching val:   0%|          | 0/1208 [00:00<?, ?it/s]"
      ]
     },
     "metadata": {},
     "output_type": "display_data"
    }
   ],
   "source": [
    "# enrich test data with 100 random movies from the ones not intercated by user\n",
    "df_add = pd.DataFrame()\n",
    "for user in tqdm(df_test.userId.unique(), desc=\"Enriching test\"):\n",
    "    movie = df_test.loc[df_test.userId == user, \"movieId\"]\n",
    "    watched_movies = np.append(\n",
    "        movie, df_train.loc[df_train.userId == user, \"movieId\"].values\n",
    "    )\n",
    "    not_wathed_movies = np.setdiff1d(\n",
    "        np.arange(df_movies[\"movieId\"].max() + 1), watched_movies\n",
    "    )\n",
    "    random_100 = np.random.choice(not_wathed_movies, 100, replace=False)\n",
    "\n",
    "    df_temp = pd.DataFrame().assign(movieId=random_100, userId=user, action=0)\n",
    "    df_add = pd.concat([df_add, df_temp], ignore_index=True)\n",
    "\n",
    "df_test = pd.concat([df_test, df_add], ignore_index=True).drop(\n",
    "    columns=[\"timestamp\", \"rating\", \"rank\"]\n",
    ")\n",
    "\n",
    "df_add = pd.DataFrame()\n",
    "for user in tqdm(df_val.userId.unique(), desc=\"Enriching val\"):\n",
    "    movie = df_val.loc[df_val.userId == user, \"movieId\"]\n",
    "    watched_movies = np.append(\n",
    "        movie, df_train.loc[df_train.userId == user, \"movieId\"].values\n",
    "    )\n",
    "    not_wathed_movies = np.setdiff1d(\n",
    "        np.arange(df_movies[\"movieId\"].max() + 1), watched_movies\n",
    "    )\n",
    "    random_100 = np.random.choice(not_wathed_movies, 100, replace=False)\n",
    "\n",
    "    df_temp = pd.DataFrame().assign(movieId=random_100, userId=user, action=0)\n",
    "    df_add = pd.concat([df_add, df_temp], ignore_index=True)\n",
    "\n",
    "df_val = pd.concat([df_val, df_add], ignore_index=True).drop(\n",
    "    columns=[\"timestamp\", \"rating\", \"rank\"]\n",
    ")"
   ]
  },
  {
   "cell_type": "markdown",
   "id": "daca3a59-2947-4594-8fd8-c1fdc20aebe6",
   "metadata": {},
   "source": [
    "## Building ordinal encoded features and normalizing continious features"
   ]
  },
  {
   "cell_type": "code",
   "execution_count": 10,
   "id": "9ef1e4b7-df05-4595-aceb-2c647984e347",
   "metadata": {},
   "outputs": [],
   "source": [
    "ord_user = OrdinalEncoder()\n",
    "user_cat = torch.tensor(ord_user.fit_transform(df_users[[\"gender\", \"occupation\"]]))\n",
    "\n",
    "ord_movie = OrdinalEncoder()\n",
    "movie_cat = torch.tensor(ord_movie.fit_transform(df_movies[[\"genre\"]]))\n",
    "\n",
    "ss_user = StandardScaler()\n",
    "user_num = torch.tensor(ss_user.fit_transform(df_users[[\"age\"]]))"
   ]
  },
  {
   "cell_type": "code",
   "execution_count": 11,
   "id": "dd76edec-9e33-48cc-8877-4c4ce329e732",
   "metadata": {},
   "outputs": [
    {
     "name": "stderr",
     "output_type": "stream",
     "text": [
      "100%|█████████████████████████████████████████████████████████████████████████████████| 994169/994169 [00:20<00:00, 47614.65it/s]\n"
     ]
    }
   ],
   "source": [
    "train_loader = DataLoader(\n",
    "    trainDatasetWithNumCatFeatures(\n",
    "        df_train, df_movies[\"movieId\"].nunique(), user_cat, user_num, movie_cat\n",
    "    ),\n",
    "    batch_size=2048,\n",
    "    shuffle=True,\n",
    ")"
   ]
  },
  {
   "cell_type": "code",
   "execution_count": 12,
   "id": "73a2f2bf-2f31-4480-8671-b9e67327fe45",
   "metadata": {},
   "outputs": [],
   "source": [
    "test_user_cat = user_cat[df_test[\"userId\"].values].clone().detach().to(torch.long)\n",
    "test_user_num = user_num[df_test[\"userId\"].values].clone().detach().to(torch.float)\n",
    "test_movie_cat = movie_cat[df_test[\"movieId\"].values].clone().detach().to(torch.long)\n",
    "test_cat = torch.hstack((test_user_cat, test_movie_cat))\n",
    "\n",
    "test_loader = DataLoader(\n",
    "    TensorDataset(\n",
    "        torch.tensor(df_test[\"userId\"]),\n",
    "        torch.tensor(df_test[\"movieId\"]),\n",
    "        test_user_num,\n",
    "        test_cat,\n",
    "    ),\n",
    "    batch_size=4096,\n",
    "    shuffle=False,\n",
    ")"
   ]
  },
  {
   "cell_type": "markdown",
   "id": "2dec1527-f30b-4cc2-885c-9d1b94bc085b",
   "metadata": {},
   "source": [
    "### DeepFM"
   ]
  },
  {
   "cell_type": "code",
   "execution_count": 22,
   "id": "880e8be0-c40a-4095-b551-273067cce92a",
   "metadata": {},
   "outputs": [],
   "source": [
    "num_users = df_users[\"userId\"].nunique()\n",
    "num_items = df_movies[\"movieId\"].nunique()\n",
    "num_numeric_feats = 1\n",
    "cat_feature_vocab = [len(i) for i in ord_user.categories_] + [\n",
    "    len(i) for i in ord_movie.categories_\n",
    "]"
   ]
  },
  {
   "cell_type": "code",
   "execution_count": 23,
   "id": "a2363a9b-3200-4bce-9bb9-6b5046547352",
   "metadata": {},
   "outputs": [
    {
     "data": {
      "text/plain": [
       "DeepFM(\n",
       "  (user_embedding): Embedding(6040, 5)\n",
       "  (item_embedding): Embedding(3883, 5)\n",
       "  (numerical_embeddings): ModuleList(\n",
       "    (0): Linear(in_features=1, out_features=5, bias=True)\n",
       "  )\n",
       "  (categorical_embeddings): ModuleList(\n",
       "    (0): Embedding(2, 5)\n",
       "    (1): Embedding(21, 5)\n",
       "    (2): Embedding(301, 5)\n",
       "  )\n",
       "  (mlp): Sequential(\n",
       "    (MLP_layer_0): Linear(in_features=30, out_features=16, bias=True)\n",
       "    (Activation_layer_0): ReLU()\n",
       "    (MLP_layer_1): Linear(in_features=16, out_features=32, bias=True)\n",
       "    (Activation_layer_1): ReLU()\n",
       "    (MLP_layer_2): Linear(in_features=32, out_features=64, bias=True)\n",
       "    (Activation_layer_2): ReLU()\n",
       "    (MLP_layer_3): Linear(in_features=64, out_features=1, bias=True)\n",
       "    (Activation_layer_3): ReLU()\n",
       "  )\n",
       "  (fm_linear): Linear(in_features=325, out_features=1, bias=True)\n",
       "  (final_sigmoid): Sigmoid()\n",
       ")"
      ]
     },
     "metadata": {},
     "output_type": "display_data"
    }
   ],
   "source": [
    "dF = DeepFM(num_users, num_items, num_numeric_feats, cat_feature_vocab)\n",
    "display(dF)"
   ]
  },
  {
   "cell_type": "code",
   "execution_count": 24,
   "id": "5cbf91a5-facf-453a-8d94-52cc0913b3ef",
   "metadata": {},
   "outputs": [],
   "source": [
    "optimizer = torch.optim.Adam(dF.parameters(), lr=3e-3)\n",
    "# scheduler = torch.optim.lr_scheduler.CyclicLR(optimizer, base_lr=0.0003, max_lr=0.001, step_size_up=100, mode=\"triangular2\", cycle_momentum=False)\n",
    "scheduler = torch.optim.lr_scheduler.CosineAnnealingLR(\n",
    "    optimizer, T_max=500, eta_min=1e-4\n",
    ")\n",
    "criterion = nn.BCELoss()\n",
    "n_epochs = 10\n",
    "device = \"cpu\""
   ]
  },
  {
   "cell_type": "code",
   "execution_count": 25,
   "id": "07ebe22c-3282-4bbf-8172-390670e1bbc9",
   "metadata": {},
   "outputs": [
    {
     "data": {
      "text/plain": [
       "[0.003]"
      ]
     },
     "execution_count": 25,
     "metadata": {},
     "output_type": "execute_result"
    }
   ],
   "source": [
    "scheduler.get_last_lr()"
   ]
  },
  {
   "cell_type": "code",
   "execution_count": 26,
   "id": "142940d0-2941-442a-84be-3fc06da6402d",
   "metadata": {},
   "outputs": [
    {
     "data": {
      "application/vnd.jupyter.widget-view+json": {
       "model_id": "48973ff3c3db40d3bae85894ef627935",
       "version_major": 2,
       "version_minor": 0
      },
      "text/plain": [
       "Epochs:   0%|          | 0/10 [00:00<?, ?it/s]"
      ]
     },
     "metadata": {},
     "output_type": "display_data"
    },
    {
     "data": {
      "application/vnd.jupyter.widget-view+json": {
       "model_id": "2c1b574a7937439797337fa04ea63fd1",
       "version_major": 2,
       "version_minor": 0
      },
      "text/plain": [
       "  0%|          | 0/2428 [00:00<?, ?batch/s]"
      ]
     },
     "metadata": {},
     "output_type": "display_data"
    },
    {
     "name": "stdout",
     "output_type": "stream",
     "text": [
      "Epoch: 0\n",
      "Train loss 1.30543\n"
     ]
    },
    {
     "data": {
      "application/vnd.jupyter.widget-view+json": {
       "model_id": "9f4b3f042ae747069cb48e3109cd89a2",
       "version_major": 2,
       "version_minor": 0
      },
      "text/plain": [
       "  0%|          | 0/2428 [00:00<?, ?batch/s]"
      ]
     },
     "metadata": {},
     "output_type": "display_data"
    },
    {
     "name": "stdout",
     "output_type": "stream",
     "text": [
      "Epoch: 1\n",
      "Train loss 0.45053\n"
     ]
    },
    {
     "data": {
      "application/vnd.jupyter.widget-view+json": {
       "model_id": "39ad27c605bd44bfb5e8d47fb2779f0f",
       "version_major": 2,
       "version_minor": 0
      },
      "text/plain": [
       "  0%|          | 0/2428 [00:00<?, ?batch/s]"
      ]
     },
     "metadata": {},
     "output_type": "display_data"
    },
    {
     "name": "stdout",
     "output_type": "stream",
     "text": [
      "Epoch: 2\n",
      "Train loss 0.37289\n"
     ]
    },
    {
     "data": {
      "application/vnd.jupyter.widget-view+json": {
       "model_id": "7381e53da7e249efafc01d97a7e6c38d",
       "version_major": 2,
       "version_minor": 0
      },
      "text/plain": [
       "  0%|          | 0/2428 [00:00<?, ?batch/s]"
      ]
     },
     "metadata": {},
     "output_type": "display_data"
    },
    {
     "name": "stdout",
     "output_type": "stream",
     "text": [
      "Epoch: 3\n",
      "Train loss 0.34612\n"
     ]
    },
    {
     "data": {
      "application/vnd.jupyter.widget-view+json": {
       "model_id": "2427c899783c4bb5ba983a93b4b3a7e3",
       "version_major": 2,
       "version_minor": 0
      },
      "text/plain": [
       "  0%|          | 0/2428 [00:00<?, ?batch/s]"
      ]
     },
     "metadata": {},
     "output_type": "display_data"
    },
    {
     "name": "stdout",
     "output_type": "stream",
     "text": [
      "Epoch: 4\n",
      "Train loss 0.32867\n"
     ]
    },
    {
     "data": {
      "application/vnd.jupyter.widget-view+json": {
       "model_id": "4d60b0d7455c4c5587b2c91216f170e4",
       "version_major": 2,
       "version_minor": 0
      },
      "text/plain": [
       "  0%|          | 0/2428 [00:00<?, ?batch/s]"
      ]
     },
     "metadata": {},
     "output_type": "display_data"
    },
    {
     "name": "stdout",
     "output_type": "stream",
     "text": [
      "Epoch: 5\n",
      "Train loss 0.3159\n"
     ]
    },
    {
     "data": {
      "application/vnd.jupyter.widget-view+json": {
       "model_id": "c4dc8bf91b6240ecb090717ea807c584",
       "version_major": 2,
       "version_minor": 0
      },
      "text/plain": [
       "  0%|          | 0/2428 [00:00<?, ?batch/s]"
      ]
     },
     "metadata": {},
     "output_type": "display_data"
    },
    {
     "name": "stdout",
     "output_type": "stream",
     "text": [
      "Epoch: 6\n",
      "Train loss 0.30831\n"
     ]
    },
    {
     "data": {
      "application/vnd.jupyter.widget-view+json": {
       "model_id": "648a3e79b1da4ec78f6b917437286f9c",
       "version_major": 2,
       "version_minor": 0
      },
      "text/plain": [
       "  0%|          | 0/2428 [00:00<?, ?batch/s]"
      ]
     },
     "metadata": {},
     "output_type": "display_data"
    },
    {
     "name": "stdout",
     "output_type": "stream",
     "text": [
      "Epoch: 7\n",
      "Train loss 0.30274\n"
     ]
    },
    {
     "data": {
      "application/vnd.jupyter.widget-view+json": {
       "model_id": "ce0b01379ed846b387a6a872a4aa5a69",
       "version_major": 2,
       "version_minor": 0
      },
      "text/plain": [
       "  0%|          | 0/2428 [00:00<?, ?batch/s]"
      ]
     },
     "metadata": {},
     "output_type": "display_data"
    },
    {
     "name": "stdout",
     "output_type": "stream",
     "text": [
      "Epoch: 8\n",
      "Train loss 0.29837\n"
     ]
    },
    {
     "data": {
      "application/vnd.jupyter.widget-view+json": {
       "model_id": "d17da5df9e584cb9b83ce732287004cd",
       "version_major": 2,
       "version_minor": 0
      },
      "text/plain": [
       "  0%|          | 0/2428 [00:00<?, ?batch/s]"
      ]
     },
     "metadata": {},
     "output_type": "display_data"
    },
    {
     "name": "stdout",
     "output_type": "stream",
     "text": [
      "Epoch: 9\n",
      "Train loss 0.29555\n"
     ]
    }
   ],
   "source": [
    "### Train DeepFM\n",
    "dF.to(device)\n",
    "num_iterations = len(train_loader)\n",
    "\n",
    "for epoch in tqdm(range(n_epochs), desc=\"Epochs\"):\n",
    "    # train\n",
    "    total_train_loss = 0\n",
    "    dF.train()\n",
    "    with tqdm(train_loader, unit=\"batch\") as tepoch:\n",
    "        for userIds, movieIds, num_feats, cat_feats, ratings in tepoch:\n",
    "            pred_train = dF(\n",
    "                userIds.to(device),\n",
    "                movieIds.to(device),\n",
    "                num_feats.to(device),\n",
    "                cat_feats.to(device),\n",
    "            )\n",
    "            loss_train = criterion(pred_train.flatten(), ratings.to(device))\n",
    "\n",
    "            optimizer.zero_grad()\n",
    "            loss_train.backward()\n",
    "            optimizer.step()\n",
    "            scheduler.step()\n",
    "            total_train_loss += loss_train.item()\n",
    "            tepoch.set_postfix(\n",
    "                loss=loss_train.item(), lr=round(scheduler.get_last_lr()[0], 7)\n",
    "            )\n",
    "    print(\"Epoch:\", epoch)\n",
    "    print(\"Train loss\", round(total_train_loss / num_iterations, 5))"
   ]
  },
  {
   "cell_type": "code",
   "execution_count": 27,
   "id": "1c727b7e-8927-4143-9df7-590bf59cb391",
   "metadata": {},
   "outputs": [
    {
     "data": {
      "application/vnd.jupyter.widget-view+json": {
       "model_id": "5da837d4698749d1a1f6e70641968221",
       "version_major": 2,
       "version_minor": 0
      },
      "text/plain": [
       "Inference:   0%|          | 0/120 [00:00<?, ?batch/s]"
      ]
     },
     "metadata": {},
     "output_type": "display_data"
    }
   ],
   "source": [
    "# predict dF\n",
    "dF.eval()\n",
    "total_preds = torch.zeros(len(test_loader.dataset))\n",
    "batch_size = test_loader.batch_size\n",
    "for i, (userIds, movieIds, num_feats, cat_feats) in enumerate(\n",
    "    tqdm(test_loader, desc=\"Inference\", unit=\"batch\")\n",
    "):\n",
    "    with torch.no_grad():\n",
    "        total_preds[i * batch_size : (i + 1) * batch_size] = dF(\n",
    "            userIds.to(device),\n",
    "            movieIds.to(device),\n",
    "            num_feats.to(device),\n",
    "            cat_feats.to(device),\n",
    "        ).flatten()"
   ]
  },
  {
   "cell_type": "code",
   "execution_count": 28,
   "id": "163da7ef-593d-4519-ab43-a869e3ad6acd",
   "metadata": {},
   "outputs": [],
   "source": [
    "df_test[\"rating_pred\"] = total_preds.numpy()\n",
    "pred, target = split_test_df(df_test)"
   ]
  },
  {
   "cell_type": "code",
   "execution_count": 29,
   "id": "ec7da670-3d47-4bec-8e49-f68ca2c09ef3",
   "metadata": {},
   "outputs": [
    {
     "data": {
      "text/plain": [
       "{'Hit rate @ K': tensor(0.6724), 'NDCG @ K': tensor(0.3407)}"
      ]
     },
     "execution_count": 29,
     "metadata": {},
     "output_type": "execute_result"
    }
   ],
   "source": [
    "reccomendation_report(pred, target, k=15)"
   ]
  },
  {
   "cell_type": "markdown",
   "id": "f687fa2b-7a85-4765-9e0f-ff2968fbc86b",
   "metadata": {},
   "source": [
    "### DeepFMImp"
   ]
  },
  {
   "cell_type": "code",
   "execution_count": 30,
   "id": "1658533e-81bf-486e-8e0d-e7bd3f22803c",
   "metadata": {},
   "outputs": [],
   "source": [
    "num_users = df_users[\"userId\"].nunique()\n",
    "num_items = df_movies[\"movieId\"].nunique()\n",
    "num_numeric_feats = 1\n",
    "cat_feature_vocab = [len(i) for i in ord_user.categories_] + [\n",
    "    len(i) for i in ord_movie.categories_\n",
    "]"
   ]
  },
  {
   "cell_type": "code",
   "execution_count": 31,
   "id": "f9a46436-a22f-4f1b-91a7-d766751744d3",
   "metadata": {},
   "outputs": [
    {
     "data": {
      "text/plain": [
       "DeepFMImp(\n",
       "  (user_embedding): Embedding(6040, 5)\n",
       "  (item_embedding): Embedding(3883, 5)\n",
       "  (numerical_embeddings): ModuleList(\n",
       "    (0): Linear(in_features=1, out_features=5, bias=True)\n",
       "  )\n",
       "  (categorical_embeddings): ModuleList(\n",
       "    (0): Embedding(2, 5)\n",
       "    (1): Embedding(21, 5)\n",
       "    (2): Embedding(301, 5)\n",
       "  )\n",
       "  (mlp): Sequential(\n",
       "    (MLP_layer_0): Linear(in_features=30, out_features=16, bias=True)\n",
       "    (Activation_layer_0): ReLU()\n",
       "    (MLP_layer_1): Linear(in_features=16, out_features=32, bias=True)\n",
       "    (Activation_layer_1): ReLU()\n",
       "    (MLP_layer_2): Linear(in_features=32, out_features=64, bias=True)\n",
       "    (Activation_layer_2): ReLU()\n",
       "    (MLP_layer_3): Linear(in_features=64, out_features=1, bias=True)\n",
       "    (Activation_layer_3): ReLU()\n",
       "  )\n",
       "  (fm_sparse): Linear(in_features=325, out_features=1, bias=True)\n",
       "  (fm_linear): Linear(in_features=2, out_features=1, bias=True)\n",
       "  (final_linear): Linear(in_features=2, out_features=1, bias=True)\n",
       "  (final_sigmoid): Sigmoid()\n",
       ")"
      ]
     },
     "metadata": {},
     "output_type": "display_data"
    }
   ],
   "source": [
    "dFI = DeepFMImp(num_users, num_items, num_numeric_feats, cat_feature_vocab)\n",
    "display(dFI)"
   ]
  },
  {
   "cell_type": "code",
   "execution_count": 32,
   "id": "93354618-66f9-42a3-a3c2-f6b45c2c73b0",
   "metadata": {},
   "outputs": [],
   "source": [
    "optimizer = torch.optim.Adam(dFI.parameters(), lr=1e-3)\n",
    "# scheduler = torch.optim.lr_scheduler.CyclicLR(optimizer, base_lr=0.0003, max_lr=0.001, step_size_up=100, mode=\"triangular2\", cycle_momentum=False)\n",
    "scheduler = torch.optim.lr_scheduler.CosineAnnealingLR(\n",
    "    optimizer, T_max=1000, eta_min=1e-4\n",
    ")\n",
    "criterion = nn.BCELoss()\n",
    "n_epochs = 10\n",
    "device = \"cpu\""
   ]
  },
  {
   "cell_type": "code",
   "execution_count": 33,
   "id": "8497799d-8d67-4c62-a4eb-c4065e60f16e",
   "metadata": {},
   "outputs": [
    {
     "data": {
      "application/vnd.jupyter.widget-view+json": {
       "model_id": "6b9e64db68b54fa496245eed89f7385b",
       "version_major": 2,
       "version_minor": 0
      },
      "text/plain": [
       "Epochs:   0%|          | 0/10 [00:00<?, ?it/s]"
      ]
     },
     "metadata": {},
     "output_type": "display_data"
    },
    {
     "data": {
      "application/vnd.jupyter.widget-view+json": {
       "model_id": "d0447eec9c8147efb5687d7e1fe39f8e",
       "version_major": 2,
       "version_minor": 0
      },
      "text/plain": [
       "  0%|          | 0/2428 [00:00<?, ?batch/s]"
      ]
     },
     "metadata": {},
     "output_type": "display_data"
    },
    {
     "name": "stdout",
     "output_type": "stream",
     "text": [
      "Epoch: 0\n",
      "Train loss 0.52266\n"
     ]
    },
    {
     "data": {
      "application/vnd.jupyter.widget-view+json": {
       "model_id": "1caeeb2ffec34931be2957071f62878a",
       "version_major": 2,
       "version_minor": 0
      },
      "text/plain": [
       "  0%|          | 0/2428 [00:00<?, ?batch/s]"
      ]
     },
     "metadata": {},
     "output_type": "display_data"
    },
    {
     "name": "stdout",
     "output_type": "stream",
     "text": [
      "Epoch: 1\n",
      "Train loss 0.44878\n"
     ]
    },
    {
     "data": {
      "application/vnd.jupyter.widget-view+json": {
       "model_id": "454ffe714e964dad9c38324e6cef8559",
       "version_major": 2,
       "version_minor": 0
      },
      "text/plain": [
       "  0%|          | 0/2428 [00:00<?, ?batch/s]"
      ]
     },
     "metadata": {},
     "output_type": "display_data"
    },
    {
     "name": "stdout",
     "output_type": "stream",
     "text": [
      "Epoch: 2\n",
      "Train loss 0.41607\n"
     ]
    },
    {
     "data": {
      "application/vnd.jupyter.widget-view+json": {
       "model_id": "dfb01044594e480baa12aa7540f26be9",
       "version_major": 2,
       "version_minor": 0
      },
      "text/plain": [
       "  0%|          | 0/2428 [00:00<?, ?batch/s]"
      ]
     },
     "metadata": {},
     "output_type": "display_data"
    },
    {
     "name": "stdout",
     "output_type": "stream",
     "text": [
      "Epoch: 3\n",
      "Train loss 0.3817\n"
     ]
    },
    {
     "data": {
      "application/vnd.jupyter.widget-view+json": {
       "model_id": "00ce33e3dabc4ed1b75070304b0a11ba",
       "version_major": 2,
       "version_minor": 0
      },
      "text/plain": [
       "  0%|          | 0/2428 [00:00<?, ?batch/s]"
      ]
     },
     "metadata": {},
     "output_type": "display_data"
    },
    {
     "name": "stdout",
     "output_type": "stream",
     "text": [
      "Epoch: 4\n",
      "Train loss 0.36469\n"
     ]
    },
    {
     "data": {
      "application/vnd.jupyter.widget-view+json": {
       "model_id": "ea595e7337cc41de864dc5469378cd1a",
       "version_major": 2,
       "version_minor": 0
      },
      "text/plain": [
       "  0%|          | 0/2428 [00:00<?, ?batch/s]"
      ]
     },
     "metadata": {},
     "output_type": "display_data"
    },
    {
     "name": "stdout",
     "output_type": "stream",
     "text": [
      "Epoch: 5\n",
      "Train loss 0.35619\n"
     ]
    },
    {
     "data": {
      "application/vnd.jupyter.widget-view+json": {
       "model_id": "0ca7b3cf253a40a99251025e4d965b88",
       "version_major": 2,
       "version_minor": 0
      },
      "text/plain": [
       "  0%|          | 0/2428 [00:00<?, ?batch/s]"
      ]
     },
     "metadata": {},
     "output_type": "display_data"
    },
    {
     "name": "stdout",
     "output_type": "stream",
     "text": [
      "Epoch: 6\n",
      "Train loss 0.35144\n"
     ]
    },
    {
     "data": {
      "application/vnd.jupyter.widget-view+json": {
       "model_id": "c2ccac0691354fb481fb8c92ca4e5bd1",
       "version_major": 2,
       "version_minor": 0
      },
      "text/plain": [
       "  0%|          | 0/2428 [00:00<?, ?batch/s]"
      ]
     },
     "metadata": {},
     "output_type": "display_data"
    },
    {
     "name": "stdout",
     "output_type": "stream",
     "text": [
      "Epoch: 7\n",
      "Train loss 0.34847\n"
     ]
    },
    {
     "data": {
      "application/vnd.jupyter.widget-view+json": {
       "model_id": "039f1a62f866464281d64f4cfd2c586a",
       "version_major": 2,
       "version_minor": 0
      },
      "text/plain": [
       "  0%|          | 0/2428 [00:00<?, ?batch/s]"
      ]
     },
     "metadata": {},
     "output_type": "display_data"
    },
    {
     "name": "stdout",
     "output_type": "stream",
     "text": [
      "Epoch: 8\n",
      "Train loss 0.34625\n"
     ]
    },
    {
     "data": {
      "application/vnd.jupyter.widget-view+json": {
       "model_id": "0968e5e07afd4e979cbd65a4858bab7c",
       "version_major": 2,
       "version_minor": 0
      },
      "text/plain": [
       "  0%|          | 0/2428 [00:00<?, ?batch/s]"
      ]
     },
     "metadata": {},
     "output_type": "display_data"
    },
    {
     "name": "stdout",
     "output_type": "stream",
     "text": [
      "Epoch: 9\n",
      "Train loss 0.34423\n"
     ]
    }
   ],
   "source": [
    "### Train DeepFM\n",
    "dFI.to(device)\n",
    "num_iterations = len(train_loader)\n",
    "\n",
    "for epoch in tqdm(range(n_epochs), desc=\"Epochs\"):\n",
    "    # train\n",
    "    total_train_loss = 0\n",
    "    dFI.train()\n",
    "    with tqdm(train_loader, unit=\"batch\") as tepoch:\n",
    "        for userIds, movieIds, num_feats, cat_feats, ratings in tepoch:\n",
    "            pred_train = dFI(\n",
    "                userIds.to(device),\n",
    "                movieIds.to(device),\n",
    "                num_feats.to(device),\n",
    "                cat_feats.to(device),\n",
    "                device,\n",
    "            )\n",
    "            loss_train = criterion(pred_train.flatten(), ratings.to(device))\n",
    "\n",
    "            optimizer.zero_grad()\n",
    "            loss_train.backward()\n",
    "            optimizer.step()\n",
    "            scheduler.step()\n",
    "            total_train_loss += loss_train.item()\n",
    "            tepoch.set_postfix(\n",
    "                loss=loss_train.item(), lr=round(scheduler.get_last_lr()[0], 7)\n",
    "            )\n",
    "    print(\"Epoch:\", epoch)\n",
    "    print(\"Train loss\", round(total_train_loss / num_iterations, 5))"
   ]
  },
  {
   "cell_type": "code",
   "execution_count": 34,
   "id": "44a92f09-09c4-439f-9063-06857870da89",
   "metadata": {},
   "outputs": [
    {
     "data": {
      "application/vnd.jupyter.widget-view+json": {
       "model_id": "5421dab2df2b4ec4970092d7a59704fc",
       "version_major": 2,
       "version_minor": 0
      },
      "text/plain": [
       "Inference:   0%|          | 0/120 [00:00<?, ?batch/s]"
      ]
     },
     "metadata": {},
     "output_type": "display_data"
    }
   ],
   "source": [
    "# predict dF\n",
    "dFI.eval()\n",
    "total_preds = torch.zeros(len(test_loader.dataset))\n",
    "batch_size = test_loader.batch_size\n",
    "for i, (userIds, movieIds, num_feats, cat_feats) in enumerate(\n",
    "    tqdm(test_loader, desc=\"Inference\", unit=\"batch\")\n",
    "):\n",
    "    with torch.no_grad():\n",
    "        total_preds[i * batch_size : (i + 1) * batch_size] = dFI(\n",
    "            userIds.to(device),\n",
    "            movieIds.to(device),\n",
    "            num_feats.to(device),\n",
    "            cat_feats.to(device),\n",
    "            device,\n",
    "        ).flatten()"
   ]
  },
  {
   "cell_type": "code",
   "execution_count": 35,
   "id": "f425e265-7bc9-4f3e-88fd-d91427f73787",
   "metadata": {},
   "outputs": [],
   "source": [
    "df_test[\"rating_pred\"] = total_preds.numpy()\n",
    "pred, target = split_test_df(df_test)"
   ]
  },
  {
   "cell_type": "code",
   "execution_count": 36,
   "id": "13703508-676c-47e8-86ab-03d2c03bd165",
   "metadata": {},
   "outputs": [
    {
     "data": {
      "text/plain": [
       "{'Hit rate @ K': tensor(0.5718), 'NDCG @ K': tensor(0.2859)}"
      ]
     },
     "execution_count": 36,
     "metadata": {},
     "output_type": "execute_result"
    }
   ],
   "source": [
    "reccomendation_report(pred, target, k=15)"
   ]
  }
 ],
 "metadata": {
  "kernelspec": {
   "display_name": "Python 3 (ipykernel)",
   "language": "python",
   "name": "python3"
  },
  "language_info": {
   "codemirror_mode": {
    "name": "ipython",
    "version": 3
   },
   "file_extension": ".py",
   "mimetype": "text/x-python",
   "name": "python",
   "nbconvert_exporter": "python",
   "pygments_lexer": "ipython3",
   "version": "3.12.2"
  }
 },
 "nbformat": 4,
 "nbformat_minor": 5
}
