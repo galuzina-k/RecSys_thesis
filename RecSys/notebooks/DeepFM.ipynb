{
 "cells": [
  {
   "cell_type": "code",
   "execution_count": 8,
   "id": "2834cbe0-e27a-4649-9846-737e8eb87106",
   "metadata": {},
   "outputs": [
    {
     "data": {
      "text/plain": [
       "'/Users/kristina/Desktop/University/COURSE_WORK/RecSys_thesis/recsysvenv/bin/python3.12'"
      ]
     },
     "execution_count": 8,
     "metadata": {},
     "output_type": "execute_result"
    }
   ],
   "source": [
    "## DO NOT ERASE THIS. IMPORTANT TO CORRECTLY IMPORT MODULES\n",
    "import sys\n",
    "\n",
    "sys.path.append(\"../\")\n",
    "sys.executable"
   ]
  },
  {
   "cell_type": "code",
   "execution_count": 9,
   "id": "03d08ba1",
   "metadata": {},
   "outputs": [],
   "source": [
    "import pandas as pd\n",
    "\n",
    "pd.set_option(\"display.max_rows\", 102)\n",
    "from tqdm.auto import tqdm\n",
    "\n",
    "import torch\n",
    "from torch.utils.data import DataLoader, TensorDataset\n",
    "\n",
    "from sklearn.preprocessing import OrdinalEncoder, StandardScaler\n",
    "\n",
    "from src.utils import (\n",
    "    load_MovieLens,\n",
    "    create_test_user,\n",
    "    train_test_val_split,\n",
    "    seed_everything,\n",
    "    trainDatasetWithNumCatFeatures,\n",
    "    split_test_df,\n",
    "    add_not_watched_movies,\n",
    "    create_test_user_display_df,\n",
    "    train,\n",
    "    predict,\n",
    ")\n",
    "from src.models import DeepFM\n",
    "from src.metrics import reccomendation_report"
   ]
  },
  {
   "cell_type": "markdown",
   "id": "2a032ae8",
   "metadata": {},
   "source": [
    "## Constants"
   ]
  },
  {
   "cell_type": "code",
   "execution_count": 10,
   "id": "8de185e7",
   "metadata": {},
   "outputs": [],
   "source": [
    "DATA_FOLDER = \"../../data/ml-1m/\"\n",
    "RANDOM_STATE = 7"
   ]
  },
  {
   "cell_type": "code",
   "execution_count": 11,
   "id": "1136b767-5777-4471-8136-d4a3cdeae7dd",
   "metadata": {},
   "outputs": [],
   "source": [
    "seed_everything(RANDOM_STATE)"
   ]
  },
  {
   "cell_type": "markdown",
   "id": "c0722360",
   "metadata": {},
   "source": [
    "## Data"
   ]
  },
  {
   "cell_type": "code",
   "execution_count": 12,
   "id": "084d98fb-79e5-4372-bde2-8662ef0b3d41",
   "metadata": {},
   "outputs": [],
   "source": [
    "df_users, df_movies, df_ratings = load_MovieLens(DATA_FOLDER)"
   ]
  },
  {
   "cell_type": "markdown",
   "id": "177d0b85-4b52-46df-b89f-23c743748f5b",
   "metadata": {},
   "source": [
    "### Creating a test_user"
   ]
  },
  {
   "cell_type": "code",
   "execution_count": 13,
   "id": "eba6aff5-c0e8-491b-8a45-0b681e66b429",
   "metadata": {},
   "outputs": [
    {
     "name": "stdout",
     "output_type": "stream",
     "text": [
      "Test user watch list:\n"
     ]
    },
    {
     "data": {
      "text/html": [
       "<div>\n",
       "<style scoped>\n",
       "    .dataframe tbody tr th:only-of-type {\n",
       "        vertical-align: middle;\n",
       "    }\n",
       "\n",
       "    .dataframe tbody tr th {\n",
       "        vertical-align: top;\n",
       "    }\n",
       "\n",
       "    .dataframe thead th {\n",
       "        text-align: right;\n",
       "    }\n",
       "</style>\n",
       "<table border=\"1\" class=\"dataframe\">\n",
       "  <thead>\n",
       "    <tr style=\"text-align: right;\">\n",
       "      <th></th>\n",
       "      <th>userId</th>\n",
       "      <th>movieId</th>\n",
       "      <th>rating</th>\n",
       "      <th>timestamp</th>\n",
       "      <th>name</th>\n",
       "      <th>genre</th>\n",
       "    </tr>\n",
       "  </thead>\n",
       "  <tbody>\n",
       "    <tr>\n",
       "      <th>0</th>\n",
       "      <td>6040</td>\n",
       "      <td>6</td>\n",
       "      <td>5</td>\n",
       "      <td>0</td>\n",
       "      <td>Sabrina (1995)</td>\n",
       "      <td>Comedy|Romance</td>\n",
       "    </tr>\n",
       "    <tr>\n",
       "      <th>1</th>\n",
       "      <td>6040</td>\n",
       "      <td>16</td>\n",
       "      <td>5</td>\n",
       "      <td>1</td>\n",
       "      <td>Sense and Sensibility (1995)</td>\n",
       "      <td>Drama|Romance</td>\n",
       "    </tr>\n",
       "    <tr>\n",
       "      <th>2</th>\n",
       "      <td>6040</td>\n",
       "      <td>3192</td>\n",
       "      <td>5</td>\n",
       "      <td>2</td>\n",
       "      <td>Singles (1992)</td>\n",
       "      <td>Comedy|Drama|Romance</td>\n",
       "    </tr>\n",
       "    <tr>\n",
       "      <th>3</th>\n",
       "      <td>6040</td>\n",
       "      <td>1461</td>\n",
       "      <td>5</td>\n",
       "      <td>3</td>\n",
       "      <td>Love and Other Catastrophes (1996)</td>\n",
       "      <td>Romance</td>\n",
       "    </tr>\n",
       "    <tr>\n",
       "      <th>4</th>\n",
       "      <td>6040</td>\n",
       "      <td>827</td>\n",
       "      <td>5</td>\n",
       "      <td>4</td>\n",
       "      <td>Emma (1996)</td>\n",
       "      <td>Comedy|Drama|Romance</td>\n",
       "    </tr>\n",
       "    <tr>\n",
       "      <th>5</th>\n",
       "      <td>6040</td>\n",
       "      <td>887</td>\n",
       "      <td>5</td>\n",
       "      <td>5</td>\n",
       "      <td>Singin' in the Rain (1952)</td>\n",
       "      <td>Musical|Romance</td>\n",
       "    </tr>\n",
       "    <tr>\n",
       "      <th>6</th>\n",
       "      <td>6040</td>\n",
       "      <td>593</td>\n",
       "      <td>5</td>\n",
       "      <td>6</td>\n",
       "      <td>Pretty Woman (1990)</td>\n",
       "      <td>Comedy|Romance</td>\n",
       "    </tr>\n",
       "  </tbody>\n",
       "</table>\n",
       "</div>"
      ],
      "text/plain": [
       "   userId  movieId  rating  timestamp                                name  \\\n",
       "0    6040        6       5          0                      Sabrina (1995)   \n",
       "1    6040       16       5          1        Sense and Sensibility (1995)   \n",
       "2    6040     3192       5          2                      Singles (1992)   \n",
       "3    6040     1461       5          3  Love and Other Catastrophes (1996)   \n",
       "4    6040      827       5          4                         Emma (1996)   \n",
       "5    6040      887       5          5          Singin' in the Rain (1952)   \n",
       "6    6040      593       5          6                 Pretty Woman (1990)   \n",
       "\n",
       "                  genre  \n",
       "0        Comedy|Romance  \n",
       "1         Drama|Romance  \n",
       "2  Comedy|Drama|Romance  \n",
       "3               Romance  \n",
       "4  Comedy|Drama|Romance  \n",
       "5       Musical|Romance  \n",
       "6        Comedy|Romance  "
      ]
     },
     "metadata": {},
     "output_type": "display_data"
    }
   ],
   "source": [
    "df_users, df_ratings, new_user_id = create_test_user(\n",
    "    df_users, df_ratings, [6, 16, 3192, 1461, 827, 887, 593]\n",
    ")\n",
    "print(\"Test user watch list:\")\n",
    "display(df_ratings[df_ratings.userId == new_user_id].merge(df_movies, on=\"movieId\"))"
   ]
  },
  {
   "cell_type": "markdown",
   "id": "59ad0c97-ef07-4ea3-a562-2c3e6c9450cd",
   "metadata": {},
   "source": [
    "### Train-test split\n",
    "Methodology: Last user interaction is a test item. The rest is train. Validation part is 20% of test."
   ]
  },
  {
   "cell_type": "code",
   "execution_count": 14,
   "id": "640bea58-f388-4778-8a1b-2622a636eee9",
   "metadata": {},
   "outputs": [
    {
     "data": {
      "application/vnd.jupyter.widget-view+json": {
       "model_id": "82488db947054da7a5d7c9e78798045f",
       "version_major": 2,
       "version_minor": 0
      },
      "text/plain": [
       "Enriching test:   0%|          | 0/4832 [00:00<?, ?it/s]"
      ]
     },
     "metadata": {},
     "output_type": "display_data"
    },
    {
     "data": {
      "application/vnd.jupyter.widget-view+json": {
       "model_id": "39f2f248b2bb42ffb4068cab02bb2a21",
       "version_major": 2,
       "version_minor": 0
      },
      "text/plain": [
       "Enriching val:   0%|          | 0/1209 [00:00<?, ?it/s]"
      ]
     },
     "metadata": {},
     "output_type": "display_data"
    }
   ],
   "source": [
    "df_train, df_test, df_val = train_test_val_split(df_ratings, df_movies, RANDOM_STATE)"
   ]
  },
  {
   "cell_type": "markdown",
   "id": "af5990e2-612a-4acc-b55c-986a278eb9d5",
   "metadata": {},
   "source": [
    "### Loading additional data"
   ]
  },
  {
   "cell_type": "code",
   "execution_count": 15,
   "id": "76aedd5b-054e-4408-be64-3f29b982fe2a",
   "metadata": {},
   "outputs": [],
   "source": [
    "# cos_dist = computeCosineSimilarities(df_train, \"userId\", \"movieId\", df_movies[\"movieId\"].nunique())\n",
    "\n",
    "# with open(\"../../data/cos_dist.pt\", \"wb\") as f:\n",
    "#     torch.save(cos_dist, f)\n",
    "\n",
    "with open(\"../../data/cos_dist.pt\", \"rb\") as f:\n",
    "    cos_dist = torch.load(f)\n",
    "popularity = torch.bincount(\n",
    "    torch.tensor(df_train.movieId.values), minlength=df_movies[\"movieId\"].nunique()\n",
    ")\n",
    "popularity = popularity / torch.max(popularity)"
   ]
  },
  {
   "cell_type": "markdown",
   "id": "7b787cb3-fef7-41a0-89c7-9826f477b70f",
   "metadata": {},
   "source": [
    "### Building ordinal encoded features and normalizing continious features"
   ]
  },
  {
   "cell_type": "code",
   "execution_count": 16,
   "id": "50befcd3-47ab-43b8-8134-022b18f8afa1",
   "metadata": {},
   "outputs": [],
   "source": [
    "ord_user = OrdinalEncoder()\n",
    "user_cat = torch.tensor(ord_user.fit_transform(df_users[[\"gender\", \"occupation\"]]))\n",
    "\n",
    "ord_movie = OrdinalEncoder()\n",
    "movie_cat = torch.tensor(ord_movie.fit_transform(df_movies[[\"genre\"]]))\n",
    "\n",
    "ss_user = StandardScaler()\n",
    "user_num = torch.tensor(ss_user.fit_transform(df_users[[\"age\"]]))\n",
    "\n",
    "# features for val\n",
    "user_cat_val = user_cat[df_val[\"userId\"].values].clone().detach().to(torch.long)\n",
    "user_num_val = user_num[df_val[\"userId\"].values].clone().detach().to(torch.float)\n",
    "movie_cat_val = movie_cat[df_val[\"movieId\"].values].clone().detach().to(torch.long)\n",
    "val_cat = torch.hstack((user_cat_val, movie_cat_val))\n",
    "\n",
    "# features for test\n",
    "user_cat_test = user_cat[df_test[\"userId\"].values].clone().detach().to(torch.long)\n",
    "user_num_test = user_num[df_test[\"userId\"].values].clone().detach().to(torch.float)\n",
    "movie_cat_test = movie_cat[df_test[\"movieId\"].values].clone().detach().to(torch.long)\n",
    "test_cat = torch.hstack((user_cat_test, movie_cat_test))\n",
    "\n",
    "\n",
    "num_numeric_feats = 1\n",
    "cat_feature_vocab = [len(i) for i in ord_user.categories_] + [\n",
    "    len(i) for i in ord_movie.categories_\n",
    "]"
   ]
  },
  {
   "cell_type": "markdown",
   "id": "2dec1527-f30b-4cc2-885c-9d1b94bc085b",
   "metadata": {},
   "source": [
    "## DeepFM"
   ]
  },
  {
   "cell_type": "code",
   "execution_count": 17,
   "id": "880e8be0-c40a-4095-b551-273067cce92a",
   "metadata": {},
   "outputs": [
    {
     "data": {
      "application/vnd.jupyter.widget-view+json": {
       "model_id": "16d1c047c9fe44f88f3d6a64cb7dfb3f",
       "version_major": 2,
       "version_minor": 0
      },
      "text/plain": [
       "  0%|          | 0/994175 [00:00<?, ?it/s]"
      ]
     },
     "metadata": {},
     "output_type": "display_data"
    }
   ],
   "source": [
    "seed_everything(RANDOM_STATE)\n",
    "train_loader = DataLoader(\n",
    "    trainDatasetWithNumCatFeatures(\n",
    "        df_train, df_movies[\"movieId\"].nunique(), user_cat, user_num, movie_cat\n",
    "    ),\n",
    "    batch_size=2048,\n",
    "    shuffle=True,\n",
    ")\n",
    "val_loader = DataLoader(\n",
    "    TensorDataset(\n",
    "        torch.tensor(df_val[\"userId\"]),\n",
    "        torch.tensor(df_val[\"movieId\"]),\n",
    "        user_num_val,\n",
    "        val_cat,\n",
    "    ),\n",
    "    batch_size=4096,\n",
    "    shuffle=False,\n",
    ")\n",
    "test_loader = DataLoader(\n",
    "    TensorDataset(\n",
    "        torch.tensor(df_test[\"userId\"]),\n",
    "        torch.tensor(df_test[\"movieId\"]),\n",
    "        user_num_test,\n",
    "        test_cat,\n",
    "    ),\n",
    "    batch_size=4096,\n",
    "    shuffle=False,\n",
    ")\n",
    "num_users = df_users[\"userId\"].nunique()\n",
    "num_items = df_movies[\"movieId\"].nunique()"
   ]
  },
  {
   "cell_type": "code",
   "execution_count": 18,
   "id": "7b612342-63cb-4893-9ae7-ee3674a45035",
   "metadata": {},
   "outputs": [
    {
     "data": {
      "text/plain": [
       "DeepFM(\n",
       "  (user_embedding): Embedding(6041, 5)\n",
       "  (item_embedding): Embedding(3883, 5)\n",
       "  (numerical_embeddings): ModuleList(\n",
       "    (0): MLP(\n",
       "      (block): Sequential(\n",
       "        (Linear): Linear(in_features=1, out_features=5, bias=True)\n",
       "      )\n",
       "    )\n",
       "  )\n",
       "  (categorical_embeddings): ModuleList(\n",
       "    (0): Embedding(2, 5)\n",
       "    (1): Embedding(21, 5)\n",
       "    (2): Embedding(301, 5)\n",
       "  )\n",
       "  (mlp): Sequential(\n",
       "    (MLP_layer_0): MLP(\n",
       "      (block): Sequential(\n",
       "        (Linear): Linear(in_features=30, out_features=32, bias=True)\n",
       "        (Activation): ReLU()\n",
       "        (Dropout): Dropout(p=0.2, inplace=False)\n",
       "        (BatchNorm): BatchNorm1d(32, eps=1e-05, momentum=0.1, affine=True, track_running_stats=True)\n",
       "      )\n",
       "    )\n",
       "    (MLP_layer_1): MLP(\n",
       "      (block): Sequential(\n",
       "        (Linear): Linear(in_features=32, out_features=32, bias=True)\n",
       "        (Activation): ReLU()\n",
       "        (Dropout): Dropout(p=0.6, inplace=False)\n",
       "        (BatchNorm): BatchNorm1d(32, eps=1e-05, momentum=0.1, affine=True, track_running_stats=True)\n",
       "      )\n",
       "    )\n",
       "    (MLP_layer_2): MLP(\n",
       "      (block): Sequential(\n",
       "        (Linear): Linear(in_features=32, out_features=32, bias=True)\n",
       "        (Activation): ReLU()\n",
       "        (Dropout): Dropout(p=0.6, inplace=False)\n",
       "        (BatchNorm): BatchNorm1d(32, eps=1e-05, momentum=0.1, affine=True, track_running_stats=True)\n",
       "      )\n",
       "    )\n",
       "    (MLP_layer_3): MLP(\n",
       "      (block): Sequential(\n",
       "        (Linear): Linear(in_features=32, out_features=1, bias=True)\n",
       "        (Activation): ReLU()\n",
       "        (Dropout): Dropout(p=0.2, inplace=False)\n",
       "        (BatchNorm): BatchNorm1d(1, eps=1e-05, momentum=0.1, affine=True, track_running_stats=True)\n",
       "      )\n",
       "    )\n",
       "  )\n",
       "  (fm_linear): MLP(\n",
       "    (block): Sequential(\n",
       "      (Linear): Linear(in_features=325, out_features=1, bias=True)\n",
       "    )\n",
       "  )\n",
       "  (final_sigmoid): Sigmoid()\n",
       ")"
      ]
     },
     "metadata": {},
     "output_type": "display_data"
    }
   ],
   "source": [
    "seed_everything(RANDOM_STATE)\n",
    "dF = DeepFM(\n",
    "    num_users,\n",
    "    num_items,\n",
    "    num_numeric_feats,\n",
    "    cat_feature_vocab,\n",
    "    n_mlp_layers=4,\n",
    "    mlp_layers_dim=32,\n",
    "    mlp_kwargs={\n",
    "        \"activation\": True,\n",
    "        \"dropout\": True,\n",
    "        \"batchnorm\": True,\n",
    "        \"dropout_rate\": 0.6,\n",
    "    },\n",
    ")\n",
    "display(dF)"
   ]
  },
  {
   "cell_type": "code",
   "execution_count": 19,
   "id": "5cbf91a5-facf-453a-8d94-52cc0913b3ef",
   "metadata": {},
   "outputs": [],
   "source": [
    "optimizer = torch.optim.Adam(dF.parameters(), lr=3e-3)\n",
    "scheduler = torch.optim.lr_scheduler.ExponentialLR(optimizer, gamma=0.8)\n",
    "criterion = torch.nn.BCELoss()\n",
    "n_epochs = 10\n",
    "device = \"cpu\""
   ]
  },
  {
   "cell_type": "code",
   "execution_count": 20,
   "id": "99a66394-5747-47a9-8bcc-8640941ea1c4",
   "metadata": {},
   "outputs": [
    {
     "data": {
      "application/vnd.jupyter.widget-view+json": {
       "model_id": "82f575ff8a544400b93c718055b362fc",
       "version_major": 2,
       "version_minor": 0
      },
      "text/plain": [
       "Epochs:   0%|          | 0/10 [00:00<?, ?it/s]"
      ]
     },
     "metadata": {},
     "output_type": "display_data"
    },
    {
     "data": {
      "application/vnd.jupyter.widget-view+json": {
       "model_id": "586e5e83d25d4319bbdafc8ca3c266f5",
       "version_major": 2,
       "version_minor": 0
      },
      "text/plain": [
       "  0%|          | 0/2428 [00:00<?, ?batch/s]"
      ]
     },
     "metadata": {},
     "output_type": "display_data"
    },
    {
     "name": "stdout",
     "output_type": "stream",
     "text": [
      "Epoch: 0\n",
      "Train loss: 0.63687\n"
     ]
    },
    {
     "data": {
      "application/vnd.jupyter.widget-view+json": {
       "model_id": "3134ad4c936649349a2b29486670fdad",
       "version_major": 2,
       "version_minor": 0
      },
      "text/plain": [
       "Inference:   0%|          | 0/30 [00:00<?, ?batch/s]"
      ]
     },
     "metadata": {},
     "output_type": "display_data"
    },
    {
     "name": "stdout",
     "output_type": "stream",
     "text": [
      "{'Hit rate @ 15': tensor(0.5029),\n",
      " 'NDCG @ 15': tensor(0.2335),\n",
      " 'Diversity (ILD)': tensor(0.1246),\n",
      " 'Novelty (EPC)': tensor(0.7349)}\n"
     ]
    },
    {
     "data": {
      "application/vnd.jupyter.widget-view+json": {
       "model_id": "a83b16eded1e4443b8de943389ab8a04",
       "version_major": 2,
       "version_minor": 0
      },
      "text/plain": [
       "  0%|          | 0/2428 [00:00<?, ?batch/s]"
      ]
     },
     "metadata": {},
     "output_type": "display_data"
    },
    {
     "name": "stdout",
     "output_type": "stream",
     "text": [
      "Epoch: 1\n",
      "Train loss: 0.38297\n"
     ]
    },
    {
     "data": {
      "application/vnd.jupyter.widget-view+json": {
       "model_id": "a3baef667cb34665b3c7323d33e79650",
       "version_major": 2,
       "version_minor": 0
      },
      "text/plain": [
       "Inference:   0%|          | 0/30 [00:00<?, ?batch/s]"
      ]
     },
     "metadata": {},
     "output_type": "display_data"
    },
    {
     "name": "stdout",
     "output_type": "stream",
     "text": [
      "{'Hit rate @ 15': tensor(0.5352),\n",
      " 'NDCG @ 15': tensor(0.2505),\n",
      " 'Diversity (ILD)': tensor(0.1330),\n",
      " 'Novelty (EPC)': tensor(0.7210)}\n"
     ]
    },
    {
     "data": {
      "application/vnd.jupyter.widget-view+json": {
       "model_id": "bb955b0b60f14235a182091304f30881",
       "version_major": 2,
       "version_minor": 0
      },
      "text/plain": [
       "  0%|          | 0/2428 [00:00<?, ?batch/s]"
      ]
     },
     "metadata": {},
     "output_type": "display_data"
    },
    {
     "name": "stdout",
     "output_type": "stream",
     "text": [
      "Epoch: 2\n",
      "Train loss: 0.35487\n"
     ]
    },
    {
     "data": {
      "application/vnd.jupyter.widget-view+json": {
       "model_id": "94aeccbc81824d13899d4241bfc9a026",
       "version_major": 2,
       "version_minor": 0
      },
      "text/plain": [
       "Inference:   0%|          | 0/30 [00:00<?, ?batch/s]"
      ]
     },
     "metadata": {},
     "output_type": "display_data"
    },
    {
     "name": "stdout",
     "output_type": "stream",
     "text": [
      "{'Hit rate @ 15': tensor(0.5567),\n",
      " 'NDCG @ 15': tensor(0.2683),\n",
      " 'Diversity (ILD)': tensor(0.1329),\n",
      " 'Novelty (EPC)': tensor(0.7220)}\n"
     ]
    },
    {
     "data": {
      "application/vnd.jupyter.widget-view+json": {
       "model_id": "d28d512d7e914b759149e63485642a8d",
       "version_major": 2,
       "version_minor": 0
      },
      "text/plain": [
       "  0%|          | 0/2428 [00:00<?, ?batch/s]"
      ]
     },
     "metadata": {},
     "output_type": "display_data"
    },
    {
     "name": "stdout",
     "output_type": "stream",
     "text": [
      "Epoch: 3\n",
      "Train loss: 0.33782\n"
     ]
    },
    {
     "data": {
      "application/vnd.jupyter.widget-view+json": {
       "model_id": "c79fba216ce94e4a9290eba871f96461",
       "version_major": 2,
       "version_minor": 0
      },
      "text/plain": [
       "Inference:   0%|          | 0/30 [00:00<?, ?batch/s]"
      ]
     },
     "metadata": {},
     "output_type": "display_data"
    },
    {
     "name": "stdout",
     "output_type": "stream",
     "text": [
      "{'Hit rate @ 15': tensor(0.5914),\n",
      " 'NDCG @ 15': tensor(0.2887),\n",
      " 'Diversity (ILD)': tensor(0.1321),\n",
      " 'Novelty (EPC)': tensor(0.7255)}\n"
     ]
    },
    {
     "data": {
      "application/vnd.jupyter.widget-view+json": {
       "model_id": "6cb6e99ad93c483a84d2ed2be82791fa",
       "version_major": 2,
       "version_minor": 0
      },
      "text/plain": [
       "  0%|          | 0/2428 [00:00<?, ?batch/s]"
      ]
     },
     "metadata": {},
     "output_type": "display_data"
    },
    {
     "name": "stdout",
     "output_type": "stream",
     "text": [
      "Epoch: 4\n",
      "Train loss: 0.32653\n"
     ]
    },
    {
     "data": {
      "application/vnd.jupyter.widget-view+json": {
       "model_id": "a042c43d84b24f5eab7ecec305dac04f",
       "version_major": 2,
       "version_minor": 0
      },
      "text/plain": [
       "Inference:   0%|          | 0/30 [00:00<?, ?batch/s]"
      ]
     },
     "metadata": {},
     "output_type": "display_data"
    },
    {
     "name": "stdout",
     "output_type": "stream",
     "text": [
      "{'Hit rate @ 15': tensor(0.6179),\n",
      " 'NDCG @ 15': tensor(0.3023),\n",
      " 'Diversity (ILD)': tensor(0.1310),\n",
      " 'Novelty (EPC)': tensor(0.7278)}\n"
     ]
    },
    {
     "data": {
      "application/vnd.jupyter.widget-view+json": {
       "model_id": "9d811b03666f414b9f18f0a55e6a0399",
       "version_major": 2,
       "version_minor": 0
      },
      "text/plain": [
       "  0%|          | 0/2428 [00:00<?, ?batch/s]"
      ]
     },
     "metadata": {},
     "output_type": "display_data"
    },
    {
     "name": "stdout",
     "output_type": "stream",
     "text": [
      "Epoch: 5\n",
      "Train loss: 0.31881\n"
     ]
    },
    {
     "data": {
      "application/vnd.jupyter.widget-view+json": {
       "model_id": "70eb50ee741c48abb0a127cbeec7f4b4",
       "version_major": 2,
       "version_minor": 0
      },
      "text/plain": [
       "Inference:   0%|          | 0/30 [00:00<?, ?batch/s]"
      ]
     },
     "metadata": {},
     "output_type": "display_data"
    },
    {
     "name": "stdout",
     "output_type": "stream",
     "text": [
      "{'Hit rate @ 15': tensor(0.6385),\n",
      " 'NDCG @ 15': tensor(0.3128),\n",
      " 'Diversity (ILD)': tensor(0.1305),\n",
      " 'Novelty (EPC)': tensor(0.7299)}\n"
     ]
    },
    {
     "data": {
      "application/vnd.jupyter.widget-view+json": {
       "model_id": "c0d511ee74c740c7b72d47fdd946a8ac",
       "version_major": 2,
       "version_minor": 0
      },
      "text/plain": [
       "  0%|          | 0/2428 [00:00<?, ?batch/s]"
      ]
     },
     "metadata": {},
     "output_type": "display_data"
    },
    {
     "name": "stdout",
     "output_type": "stream",
     "text": [
      "Epoch: 6\n",
      "Train loss: 0.31322\n"
     ]
    },
    {
     "data": {
      "application/vnd.jupyter.widget-view+json": {
       "model_id": "466f5ffe1a58444bbabece85f7ace0ab",
       "version_major": 2,
       "version_minor": 0
      },
      "text/plain": [
       "Inference:   0%|          | 0/30 [00:00<?, ?batch/s]"
      ]
     },
     "metadata": {},
     "output_type": "display_data"
    },
    {
     "name": "stdout",
     "output_type": "stream",
     "text": [
      "{'Hit rate @ 15': tensor(0.6435),\n",
      " 'NDCG @ 15': tensor(0.3182),\n",
      " 'Diversity (ILD)': tensor(0.1298),\n",
      " 'Novelty (EPC)': tensor(0.7324)}\n"
     ]
    },
    {
     "data": {
      "application/vnd.jupyter.widget-view+json": {
       "model_id": "5674baa98fc5418eba1ed64c9aca4188",
       "version_major": 2,
       "version_minor": 0
      },
      "text/plain": [
       "  0%|          | 0/2428 [00:00<?, ?batch/s]"
      ]
     },
     "metadata": {},
     "output_type": "display_data"
    },
    {
     "name": "stdout",
     "output_type": "stream",
     "text": [
      "Epoch: 7\n",
      "Train loss: 0.30928\n"
     ]
    },
    {
     "data": {
      "application/vnd.jupyter.widget-view+json": {
       "model_id": "4aaa9dea9166485a9ef89b94d3a6517e",
       "version_major": 2,
       "version_minor": 0
      },
      "text/plain": [
       "Inference:   0%|          | 0/30 [00:00<?, ?batch/s]"
      ]
     },
     "metadata": {},
     "output_type": "display_data"
    },
    {
     "name": "stdout",
     "output_type": "stream",
     "text": [
      "{'Hit rate @ 15': tensor(0.6476),\n",
      " 'NDCG @ 15': tensor(0.3226),\n",
      " 'Diversity (ILD)': tensor(0.1294),\n",
      " 'Novelty (EPC)': tensor(0.7336)}\n"
     ]
    },
    {
     "data": {
      "application/vnd.jupyter.widget-view+json": {
       "model_id": "0df8ed6832df479cb0974c2e89d282e4",
       "version_major": 2,
       "version_minor": 0
      },
      "text/plain": [
       "  0%|          | 0/2428 [00:00<?, ?batch/s]"
      ]
     },
     "metadata": {},
     "output_type": "display_data"
    },
    {
     "name": "stdout",
     "output_type": "stream",
     "text": [
      "Epoch: 8\n",
      "Train loss: 0.30633\n"
     ]
    },
    {
     "data": {
      "application/vnd.jupyter.widget-view+json": {
       "model_id": "9eec87f3a06e4fe4b74a2cad8397e92f",
       "version_major": 2,
       "version_minor": 0
      },
      "text/plain": [
       "Inference:   0%|          | 0/30 [00:00<?, ?batch/s]"
      ]
     },
     "metadata": {},
     "output_type": "display_data"
    },
    {
     "name": "stdout",
     "output_type": "stream",
     "text": [
      "{'Hit rate @ 15': tensor(0.6534),\n",
      " 'NDCG @ 15': tensor(0.3269),\n",
      " 'Diversity (ILD)': tensor(0.1290),\n",
      " 'Novelty (EPC)': tensor(0.7346)}\n"
     ]
    },
    {
     "data": {
      "application/vnd.jupyter.widget-view+json": {
       "model_id": "17a43fcf48954249aad589aaccc17bbe",
       "version_major": 2,
       "version_minor": 0
      },
      "text/plain": [
       "  0%|          | 0/2428 [00:00<?, ?batch/s]"
      ]
     },
     "metadata": {},
     "output_type": "display_data"
    },
    {
     "name": "stdout",
     "output_type": "stream",
     "text": [
      "Epoch: 9\n",
      "Train loss: 0.30426\n"
     ]
    },
    {
     "data": {
      "application/vnd.jupyter.widget-view+json": {
       "model_id": "ec48b9812e444928b1a2b68a5b9f3267",
       "version_major": 2,
       "version_minor": 0
      },
      "text/plain": [
       "Inference:   0%|          | 0/30 [00:00<?, ?batch/s]"
      ]
     },
     "metadata": {},
     "output_type": "display_data"
    },
    {
     "name": "stdout",
     "output_type": "stream",
     "text": [
      "{'Hit rate @ 15': tensor(0.6658),\n",
      " 'NDCG @ 15': tensor(0.3305),\n",
      " 'Diversity (ILD)': tensor(0.1285),\n",
      " 'Novelty (EPC)': tensor(0.7358)}\n",
      "CPU times: user 33min 16s, sys: 1h 26min 23s, total: 1h 59min 40s\n",
      "Wall time: 13min 21s\n"
     ]
    }
   ],
   "source": [
    "%%time\n",
    "train(\n",
    "    dF,\n",
    "    train_loader,\n",
    "    optimizer,\n",
    "    scheduler,\n",
    "    criterion,\n",
    "    n_epochs,\n",
    "    val_loader=val_loader,\n",
    "    df_val=df_val,\n",
    "    cos_dist=cos_dist,\n",
    "    popularity=popularity,\n",
    "    verbose=True,\n",
    ")"
   ]
  },
  {
   "cell_type": "code",
   "execution_count": 21,
   "id": "0d3aea72-c5c8-47b5-9567-7e6e01519eb9",
   "metadata": {},
   "outputs": [
    {
     "data": {
      "text/plain": [
       "{'Hit rate @ 15': tensor(0.6445),\n",
       " 'NDCG @ 15': tensor(0.3247),\n",
       " 'Diversity (ILD)': tensor(0.1292),\n",
       " 'Novelty (EPC)': tensor(0.7335)}"
      ]
     },
     "execution_count": 21,
     "metadata": {},
     "output_type": "execute_result"
    }
   ],
   "source": [
    "df_test[\"pred\"] = predict(dF, test_loader, verbose=False).numpy()\n",
    "pred, target, pred_items = split_test_df(df_test, \"userId\", \"movieId\", \"pred\", \"action\")\n",
    "reccomendation_report(pred, target, pred_items, cos_dist, popularity, k=15)"
   ]
  },
  {
   "cell_type": "markdown",
   "id": "fe8bfbbf-2eae-4fc1-a08b-53c2505f60b0",
   "metadata": {},
   "source": [
    "## Test user recommendations"
   ]
  },
  {
   "cell_type": "code",
   "execution_count": 22,
   "id": "9eac1de0-1009-4b0c-a160-c5b2fa04ceda",
   "metadata": {},
   "outputs": [],
   "source": [
    "df_test_user = add_not_watched_movies(new_user_id, df_test, df_train, df_movies)\n",
    "\n",
    "# features for test user\n",
    "user_cat_test_user = (\n",
    "    user_cat[df_test_user[\"userId\"].values].clone().detach().to(torch.long)\n",
    ")\n",
    "user_num_test_user = (\n",
    "    user_num[df_test_user[\"userId\"].values].clone().detach().to(torch.float)\n",
    ")\n",
    "movie_cat_test_user = (\n",
    "    movie_cat[df_test_user[\"movieId\"].values].clone().detach().to(torch.long)\n",
    ")\n",
    "test_user_cat = torch.hstack((user_cat_test_user, movie_cat_test_user))\n",
    "\n",
    "test_user_loader = DataLoader(\n",
    "    TensorDataset(\n",
    "        torch.tensor(df_test_user[\"userId\"]),\n",
    "        torch.tensor(df_test_user[\"movieId\"]),\n",
    "        user_num_test_user,\n",
    "        test_user_cat,\n",
    "    ),\n",
    "    batch_size=4096,\n",
    "    shuffle=False,\n",
    ")"
   ]
  },
  {
   "cell_type": "code",
   "execution_count": 23,
   "id": "73cb5232-ec11-4c5b-93d3-d7808424e8cd",
   "metadata": {},
   "outputs": [
    {
     "data": {
      "application/vnd.jupyter.widget-view+json": {
       "model_id": "47fdf287aca5436592dbdf9b37382dec",
       "version_major": 2,
       "version_minor": 0
      },
      "text/plain": [
       "Inference:   0%|          | 0/1 [00:00<?, ?batch/s]"
      ]
     },
     "metadata": {},
     "output_type": "display_data"
    },
    {
     "data": {
      "text/html": [
       "<div>\n",
       "<style scoped>\n",
       "    .dataframe tbody tr th:only-of-type {\n",
       "        vertical-align: middle;\n",
       "    }\n",
       "\n",
       "    .dataframe tbody tr th {\n",
       "        vertical-align: top;\n",
       "    }\n",
       "\n",
       "    .dataframe thead th {\n",
       "        text-align: right;\n",
       "    }\n",
       "</style>\n",
       "<table border=\"1\" class=\"dataframe\">\n",
       "  <thead>\n",
       "    <tr style=\"text-align: right;\">\n",
       "      <th></th>\n",
       "      <th>userId</th>\n",
       "      <th>movieId</th>\n",
       "      <th>name</th>\n",
       "      <th>genre</th>\n",
       "      <th>pred</th>\n",
       "    </tr>\n",
       "  </thead>\n",
       "  <tbody>\n",
       "    <tr>\n",
       "      <th>0</th>\n",
       "      <td>6040</td>\n",
       "      <td>1211</td>\n",
       "      <td>Annie Hall (1977)</td>\n",
       "      <td>Comedy|Romance</td>\n",
       "      <td>0.970746</td>\n",
       "    </tr>\n",
       "    <tr>\n",
       "      <th>1</th>\n",
       "      <td>6040</td>\n",
       "      <td>1227</td>\n",
       "      <td>Graduate, The (1967)</td>\n",
       "      <td>Drama|Romance</td>\n",
       "      <td>0.963844</td>\n",
       "    </tr>\n",
       "    <tr>\n",
       "      <th>2</th>\n",
       "      <td>6040</td>\n",
       "      <td>2222</td>\n",
       "      <td>Edward Scissorhands (1990)</td>\n",
       "      <td>Drama|Romance</td>\n",
       "      <td>0.960397</td>\n",
       "    </tr>\n",
       "    <tr>\n",
       "      <th>3</th>\n",
       "      <td>6040</td>\n",
       "      <td>591</td>\n",
       "      <td>Beauty and the Beast (1991)</td>\n",
       "      <td>Animation|Children's|Musical</td>\n",
       "      <td>0.958382</td>\n",
       "    </tr>\n",
       "    <tr>\n",
       "      <th>4</th>\n",
       "      <td>6040</td>\n",
       "      <td>1078</td>\n",
       "      <td>Crying Game, The (1992)</td>\n",
       "      <td>Drama|Romance|War</td>\n",
       "      <td>0.956313</td>\n",
       "    </tr>\n",
       "    <tr>\n",
       "      <th>5</th>\n",
       "      <td>6040</td>\n",
       "      <td>2728</td>\n",
       "      <td>Big (1988)</td>\n",
       "      <td>Comedy|Fantasy</td>\n",
       "      <td>0.906145</td>\n",
       "    </tr>\n",
       "    <tr>\n",
       "      <th>6</th>\n",
       "      <td>6040</td>\n",
       "      <td>1878</td>\n",
       "      <td>West Side Story (1961)</td>\n",
       "      <td>Musical|Romance</td>\n",
       "      <td>0.901637</td>\n",
       "    </tr>\n",
       "    <tr>\n",
       "      <th>7</th>\n",
       "      <td>6040</td>\n",
       "      <td>523</td>\n",
       "      <td>Schindler's List (1993)</td>\n",
       "      <td>Drama|War</td>\n",
       "      <td>0.892324</td>\n",
       "    </tr>\n",
       "    <tr>\n",
       "      <th>8</th>\n",
       "      <td>6040</td>\n",
       "      <td>2018</td>\n",
       "      <td>Peter Pan (1953)</td>\n",
       "      <td>Animation|Children's|Fantasy|Musical</td>\n",
       "      <td>0.874618</td>\n",
       "    </tr>\n",
       "    <tr>\n",
       "      <th>9</th>\n",
       "      <td>6040</td>\n",
       "      <td>582</td>\n",
       "      <td>Home Alone (1990)</td>\n",
       "      <td>Children's|Comedy</td>\n",
       "      <td>0.835076</td>\n",
       "    </tr>\n",
       "    <tr>\n",
       "      <th>10</th>\n",
       "      <td>6040</td>\n",
       "      <td>1019</td>\n",
       "      <td>Alice in Wonderland (1951)</td>\n",
       "      <td>Animation|Children's|Musical</td>\n",
       "      <td>0.829730</td>\n",
       "    </tr>\n",
       "    <tr>\n",
       "      <th>11</th>\n",
       "      <td>6040</td>\n",
       "      <td>3088</td>\n",
       "      <td>Stuart Little (1999)</td>\n",
       "      <td>Children's|Comedy</td>\n",
       "      <td>0.794365</td>\n",
       "    </tr>\n",
       "    <tr>\n",
       "      <th>12</th>\n",
       "      <td>6040</td>\n",
       "      <td>3476</td>\n",
       "      <td>Cabaret (1972)</td>\n",
       "      <td>Musical|War</td>\n",
       "      <td>0.785714</td>\n",
       "    </tr>\n",
       "    <tr>\n",
       "      <th>13</th>\n",
       "      <td>6040</td>\n",
       "      <td>1081</td>\n",
       "      <td>E.T. the Extra-Terrestrial (1982)</td>\n",
       "      <td>Children's|Drama|Fantasy|Sci-Fi</td>\n",
       "      <td>0.778463</td>\n",
       "    </tr>\n",
       "    <tr>\n",
       "      <th>14</th>\n",
       "      <td>6040</td>\n",
       "      <td>2401</td>\n",
       "      <td>Crocodile Dundee (1986)</td>\n",
       "      <td>Adventure|Comedy</td>\n",
       "      <td>0.736301</td>\n",
       "    </tr>\n",
       "    <tr>\n",
       "      <th>15</th>\n",
       "      <td>6040</td>\n",
       "      <td>2877</td>\n",
       "      <td>Help! (1965)</td>\n",
       "      <td>Comedy|Musical</td>\n",
       "      <td>0.725237</td>\n",
       "    </tr>\n",
       "    <tr>\n",
       "      <th>16</th>\n",
       "      <td>6040</td>\n",
       "      <td>1203</td>\n",
       "      <td>Godfather: Part II, The (1974)</td>\n",
       "      <td>Action|Crime|Drama</td>\n",
       "      <td>0.723653</td>\n",
       "    </tr>\n",
       "    <tr>\n",
       "      <th>17</th>\n",
       "      <td>6040</td>\n",
       "      <td>1336</td>\n",
       "      <td>Shine (1996)</td>\n",
       "      <td>Drama|Romance</td>\n",
       "      <td>0.722446</td>\n",
       "    </tr>\n",
       "    <tr>\n",
       "      <th>18</th>\n",
       "      <td>6040</td>\n",
       "      <td>3127</td>\n",
       "      <td>Stalag 17 (1953)</td>\n",
       "      <td>Drama|War</td>\n",
       "      <td>0.670330</td>\n",
       "    </tr>\n",
       "    <tr>\n",
       "      <th>19</th>\n",
       "      <td>6040</td>\n",
       "      <td>1263</td>\n",
       "      <td>High Noon (1952)</td>\n",
       "      <td>Western</td>\n",
       "      <td>0.668127</td>\n",
       "    </tr>\n",
       "    <tr>\n",
       "      <th>20</th>\n",
       "      <td>6040</td>\n",
       "      <td>2588</td>\n",
       "      <td>Rocky Horror Picture Show, The (1975)</td>\n",
       "      <td>Comedy|Horror|Musical|Sci-Fi</td>\n",
       "      <td>0.660880</td>\n",
       "    </tr>\n",
       "    <tr>\n",
       "      <th>21</th>\n",
       "      <td>6040</td>\n",
       "      <td>3480</td>\n",
       "      <td>Guys and Dolls (1955)</td>\n",
       "      <td>Musical</td>\n",
       "      <td>0.660819</td>\n",
       "    </tr>\n",
       "    <tr>\n",
       "      <th>22</th>\n",
       "      <td>6040</td>\n",
       "      <td>1779</td>\n",
       "      <td>Borrowers, The (1997)</td>\n",
       "      <td>Adventure|Children's|Comedy|Fantasy</td>\n",
       "      <td>0.656933</td>\n",
       "    </tr>\n",
       "    <tr>\n",
       "      <th>23</th>\n",
       "      <td>6040</td>\n",
       "      <td>1018</td>\n",
       "      <td>Bedknobs and Broomsticks (1971)</td>\n",
       "      <td>Adventure|Children's|Musical</td>\n",
       "      <td>0.637760</td>\n",
       "    </tr>\n",
       "    <tr>\n",
       "      <th>24</th>\n",
       "      <td>6040</td>\n",
       "      <td>1264</td>\n",
       "      <td>Big Sleep, The (1946)</td>\n",
       "      <td>Film-Noir|Mystery</td>\n",
       "      <td>0.622291</td>\n",
       "    </tr>\n",
       "    <tr>\n",
       "      <th>25</th>\n",
       "      <td>6040</td>\n",
       "      <td>1720</td>\n",
       "      <td>Wedding Singer, The (1998)</td>\n",
       "      <td>Comedy|Romance</td>\n",
       "      <td>0.620938</td>\n",
       "    </tr>\n",
       "    <tr>\n",
       "      <th>26</th>\n",
       "      <td>6040</td>\n",
       "      <td>1017</td>\n",
       "      <td>Pete's Dragon (1977)</td>\n",
       "      <td>Adventure|Animation|Children's|Musical</td>\n",
       "      <td>0.591092</td>\n",
       "    </tr>\n",
       "    <tr>\n",
       "      <th>27</th>\n",
       "      <td>6040</td>\n",
       "      <td>3329</td>\n",
       "      <td>Muppets Take Manhattan, The (1984)</td>\n",
       "      <td>Children's|Comedy</td>\n",
       "      <td>0.586132</td>\n",
       "    </tr>\n",
       "    <tr>\n",
       "      <th>28</th>\n",
       "      <td>6040</td>\n",
       "      <td>1884</td>\n",
       "      <td>French Connection, The (1971)</td>\n",
       "      <td>Action|Crime|Drama|Thriller</td>\n",
       "      <td>0.573739</td>\n",
       "    </tr>\n",
       "    <tr>\n",
       "      <th>29</th>\n",
       "      <td>6040</td>\n",
       "      <td>1067</td>\n",
       "      <td>Great Race, The (1965)</td>\n",
       "      <td>Comedy|Musical</td>\n",
       "      <td>0.544442</td>\n",
       "    </tr>\n",
       "    <tr>\n",
       "      <th>30</th>\n",
       "      <td>6040</td>\n",
       "      <td>10</td>\n",
       "      <td>American President, The (1995)</td>\n",
       "      <td>Comedy|Drama|Romance</td>\n",
       "      <td>0.539164</td>\n",
       "    </tr>\n",
       "    <tr>\n",
       "      <th>31</th>\n",
       "      <td>6040</td>\n",
       "      <td>919</td>\n",
       "      <td>Spellbound (1945)</td>\n",
       "      <td>Mystery|Romance|Thriller</td>\n",
       "      <td>0.521946</td>\n",
       "    </tr>\n",
       "    <tr>\n",
       "      <th>32</th>\n",
       "      <td>6040</td>\n",
       "      <td>1171</td>\n",
       "      <td>Strictly Ballroom (1992)</td>\n",
       "      <td>Comedy|Romance</td>\n",
       "      <td>0.492879</td>\n",
       "    </tr>\n",
       "    <tr>\n",
       "      <th>33</th>\n",
       "      <td>6040</td>\n",
       "      <td>1393</td>\n",
       "      <td>Evita (1996)</td>\n",
       "      <td>Drama|Musical</td>\n",
       "      <td>0.485117</td>\n",
       "    </tr>\n",
       "    <tr>\n",
       "      <th>34</th>\n",
       "      <td>6040</td>\n",
       "      <td>1010</td>\n",
       "      <td>Winnie the Pooh and the Blustery Day (1968)</td>\n",
       "      <td>Animation|Children's</td>\n",
       "      <td>0.468088</td>\n",
       "    </tr>\n",
       "    <tr>\n",
       "      <th>35</th>\n",
       "      <td>6040</td>\n",
       "      <td>2125</td>\n",
       "      <td>Untouchables, The (1987)</td>\n",
       "      <td>Action|Crime|Drama</td>\n",
       "      <td>0.465369</td>\n",
       "    </tr>\n",
       "    <tr>\n",
       "      <th>36</th>\n",
       "      <td>6040</td>\n",
       "      <td>379</td>\n",
       "      <td>Wyatt Earp (1994)</td>\n",
       "      <td>Western</td>\n",
       "      <td>0.452135</td>\n",
       "    </tr>\n",
       "    <tr>\n",
       "      <th>37</th>\n",
       "      <td>6040</td>\n",
       "      <td>1858</td>\n",
       "      <td>All Quiet on the Western Front (1930)</td>\n",
       "      <td>War</td>\n",
       "      <td>0.438108</td>\n",
       "    </tr>\n",
       "    <tr>\n",
       "      <th>38</th>\n",
       "      <td>6040</td>\n",
       "      <td>2252</td>\n",
       "      <td>Pleasantville (1998)</td>\n",
       "      <td>Comedy</td>\n",
       "      <td>0.435240</td>\n",
       "    </tr>\n",
       "    <tr>\n",
       "      <th>39</th>\n",
       "      <td>6040</td>\n",
       "      <td>3414</td>\n",
       "      <td>Road to El Dorado, The (2000)</td>\n",
       "      <td>Animation|Children's</td>\n",
       "      <td>0.429337</td>\n",
       "    </tr>\n",
       "    <tr>\n",
       "      <th>40</th>\n",
       "      <td>6040</td>\n",
       "      <td>2220</td>\n",
       "      <td>Player, The (1992)</td>\n",
       "      <td>Comedy|Drama</td>\n",
       "      <td>0.428849</td>\n",
       "    </tr>\n",
       "    <tr>\n",
       "      <th>41</th>\n",
       "      <td>6040</td>\n",
       "      <td>2332</td>\n",
       "      <td>Pale Rider (1985)</td>\n",
       "      <td>Western</td>\n",
       "      <td>0.427448</td>\n",
       "    </tr>\n",
       "    <tr>\n",
       "      <th>42</th>\n",
       "      <td>6040</td>\n",
       "      <td>3439</td>\n",
       "      <td>Outlaw Josey Wales, The (1976)</td>\n",
       "      <td>Western</td>\n",
       "      <td>0.415648</td>\n",
       "    </tr>\n",
       "    <tr>\n",
       "      <th>43</th>\n",
       "      <td>6040</td>\n",
       "      <td>3443</td>\n",
       "      <td>Return to Me (2000)</td>\n",
       "      <td>Drama|Romance</td>\n",
       "      <td>0.413595</td>\n",
       "    </tr>\n",
       "    <tr>\n",
       "      <th>44</th>\n",
       "      <td>6040</td>\n",
       "      <td>2325</td>\n",
       "      <td>Prince of Egypt, The (1998)</td>\n",
       "      <td>Animation|Musical</td>\n",
       "      <td>0.391439</td>\n",
       "    </tr>\n",
       "    <tr>\n",
       "      <th>45</th>\n",
       "      <td>6040</td>\n",
       "      <td>219</td>\n",
       "      <td>Circle of Friends (1995)</td>\n",
       "      <td>Drama|Romance</td>\n",
       "      <td>0.388310</td>\n",
       "    </tr>\n",
       "    <tr>\n",
       "      <th>46</th>\n",
       "      <td>6040</td>\n",
       "      <td>527</td>\n",
       "      <td>Secret Garden, The (1993)</td>\n",
       "      <td>Children's|Drama</td>\n",
       "      <td>0.380652</td>\n",
       "    </tr>\n",
       "    <tr>\n",
       "      <th>47</th>\n",
       "      <td>6040</td>\n",
       "      <td>891</td>\n",
       "      <td>Vertigo (1958)</td>\n",
       "      <td>Mystery|Thriller</td>\n",
       "      <td>0.374792</td>\n",
       "    </tr>\n",
       "    <tr>\n",
       "      <th>48</th>\n",
       "      <td>6040</td>\n",
       "      <td>464</td>\n",
       "      <td>Englishman Who Went Up a Hill, But Came Down a...</td>\n",
       "      <td>Comedy|Romance</td>\n",
       "      <td>0.359937</td>\n",
       "    </tr>\n",
       "    <tr>\n",
       "      <th>49</th>\n",
       "      <td>6040</td>\n",
       "      <td>925</td>\n",
       "      <td>Love in the Afternoon (1957)</td>\n",
       "      <td>Comedy|Romance</td>\n",
       "      <td>0.335647</td>\n",
       "    </tr>\n",
       "    <tr>\n",
       "      <th>50</th>\n",
       "      <td>6040</td>\n",
       "      <td>2935</td>\n",
       "      <td>Bachelor, The (1999)</td>\n",
       "      <td>Comedy|Romance</td>\n",
       "      <td>0.332024</td>\n",
       "    </tr>\n",
       "    <tr>\n",
       "      <th>51</th>\n",
       "      <td>6040</td>\n",
       "      <td>1323</td>\n",
       "      <td>Cape Fear (1962)</td>\n",
       "      <td>Film-Noir|Thriller</td>\n",
       "      <td>0.325817</td>\n",
       "    </tr>\n",
       "    <tr>\n",
       "      <th>52</th>\n",
       "      <td>6040</td>\n",
       "      <td>1899</td>\n",
       "      <td>Breakfast Club, The (1985)</td>\n",
       "      <td>Comedy|Drama</td>\n",
       "      <td>0.315851</td>\n",
       "    </tr>\n",
       "    <tr>\n",
       "      <th>53</th>\n",
       "      <td>6040</td>\n",
       "      <td>3328</td>\n",
       "      <td>Great Muppet Caper, The (1981)</td>\n",
       "      <td>Children's|Comedy</td>\n",
       "      <td>0.306798</td>\n",
       "    </tr>\n",
       "    <tr>\n",
       "      <th>54</th>\n",
       "      <td>6040</td>\n",
       "      <td>3299</td>\n",
       "      <td>Big Country, The (1958)</td>\n",
       "      <td>Romance|Western</td>\n",
       "      <td>0.304826</td>\n",
       "    </tr>\n",
       "    <tr>\n",
       "      <th>55</th>\n",
       "      <td>6040</td>\n",
       "      <td>2830</td>\n",
       "      <td>Gulliver's Travels (1939)</td>\n",
       "      <td>Adventure|Animation|Children's</td>\n",
       "      <td>0.297243</td>\n",
       "    </tr>\n",
       "    <tr>\n",
       "      <th>56</th>\n",
       "      <td>6040</td>\n",
       "      <td>3613</td>\n",
       "      <td>Magnum Force (1973)</td>\n",
       "      <td>Western</td>\n",
       "      <td>0.293488</td>\n",
       "    </tr>\n",
       "    <tr>\n",
       "      <th>57</th>\n",
       "      <td>6040</td>\n",
       "      <td>1854</td>\n",
       "      <td>There's Something About Mary (1998)</td>\n",
       "      <td>Comedy</td>\n",
       "      <td>0.284893</td>\n",
       "    </tr>\n",
       "    <tr>\n",
       "      <th>58</th>\n",
       "      <td>6040</td>\n",
       "      <td>2064</td>\n",
       "      <td>Adventures in Babysitting (1987)</td>\n",
       "      <td>Adventure|Comedy</td>\n",
       "      <td>0.283693</td>\n",
       "    </tr>\n",
       "    <tr>\n",
       "      <th>59</th>\n",
       "      <td>6040</td>\n",
       "      <td>1255</td>\n",
       "      <td>Highlander (1986)</td>\n",
       "      <td>Action|Adventure</td>\n",
       "      <td>0.268144</td>\n",
       "    </tr>\n",
       "    <tr>\n",
       "      <th>60</th>\n",
       "      <td>6040</td>\n",
       "      <td>1202</td>\n",
       "      <td>Blues Brothers, The (1980)</td>\n",
       "      <td>Action|Comedy|Musical</td>\n",
       "      <td>0.259363</td>\n",
       "    </tr>\n",
       "    <tr>\n",
       "      <th>61</th>\n",
       "      <td>6040</td>\n",
       "      <td>3467</td>\n",
       "      <td>Keeping the Faith (2000)</td>\n",
       "      <td>Comedy|Romance</td>\n",
       "      <td>0.253374</td>\n",
       "    </tr>\n",
       "    <tr>\n",
       "      <th>62</th>\n",
       "      <td>6040</td>\n",
       "      <td>1001</td>\n",
       "      <td>Pollyanna (1960)</td>\n",
       "      <td>Children's|Comedy|Drama</td>\n",
       "      <td>0.253319</td>\n",
       "    </tr>\n",
       "    <tr>\n",
       "      <th>63</th>\n",
       "      <td>6040</td>\n",
       "      <td>139</td>\n",
       "      <td>Birdcage, The (1996)</td>\n",
       "      <td>Comedy</td>\n",
       "      <td>0.239320</td>\n",
       "    </tr>\n",
       "    <tr>\n",
       "      <th>64</th>\n",
       "      <td>6040</td>\n",
       "      <td>1243</td>\n",
       "      <td>Deer Hunter, The (1978)</td>\n",
       "      <td>Drama|War</td>\n",
       "      <td>0.228690</td>\n",
       "    </tr>\n",
       "    <tr>\n",
       "      <th>65</th>\n",
       "      <td>6040</td>\n",
       "      <td>1663</td>\n",
       "      <td>Midnight in the Garden of Good and Evil (1997)</td>\n",
       "      <td>Comedy|Crime|Drama|Mystery</td>\n",
       "      <td>0.219679</td>\n",
       "    </tr>\n",
       "    <tr>\n",
       "      <th>66</th>\n",
       "      <td>6040</td>\n",
       "      <td>3215</td>\n",
       "      <td>They Might Be Giants (1971)</td>\n",
       "      <td>Comedy|Romance</td>\n",
       "      <td>0.214491</td>\n",
       "    </tr>\n",
       "    <tr>\n",
       "      <th>67</th>\n",
       "      <td>6040</td>\n",
       "      <td>206</td>\n",
       "      <td>Waterworld (1995)</td>\n",
       "      <td>Action|Adventure</td>\n",
       "      <td>0.209864</td>\n",
       "    </tr>\n",
       "    <tr>\n",
       "      <th>68</th>\n",
       "      <td>6040</td>\n",
       "      <td>2808</td>\n",
       "      <td>Tommy (1975)</td>\n",
       "      <td>Drama|Musical</td>\n",
       "      <td>0.208758</td>\n",
       "    </tr>\n",
       "    <tr>\n",
       "      <th>69</th>\n",
       "      <td>6040</td>\n",
       "      <td>2023</td>\n",
       "      <td>Return of Jafar, The (1993)</td>\n",
       "      <td>Animation|Children's|Musical</td>\n",
       "      <td>0.197867</td>\n",
       "    </tr>\n",
       "    <tr>\n",
       "      <th>70</th>\n",
       "      <td>6040</td>\n",
       "      <td>665</td>\n",
       "      <td>Mystery Science Theater 3000: The Movie (1996)</td>\n",
       "      <td>Comedy|Sci-Fi</td>\n",
       "      <td>0.189892</td>\n",
       "    </tr>\n",
       "    <tr>\n",
       "      <th>71</th>\n",
       "      <td>6040</td>\n",
       "      <td>1270</td>\n",
       "      <td>Some Kind of Wonderful (1987)</td>\n",
       "      <td>Drama|Romance</td>\n",
       "      <td>0.185387</td>\n",
       "    </tr>\n",
       "    <tr>\n",
       "      <th>72</th>\n",
       "      <td>6040</td>\n",
       "      <td>1743</td>\n",
       "      <td>Paulie (1998)</td>\n",
       "      <td>Adventure|Children's|Comedy</td>\n",
       "      <td>0.178173</td>\n",
       "    </tr>\n",
       "    <tr>\n",
       "      <th>73</th>\n",
       "      <td>6040</td>\n",
       "      <td>370</td>\n",
       "      <td>Richie Rich (1994)</td>\n",
       "      <td>Children's|Comedy</td>\n",
       "      <td>0.176415</td>\n",
       "    </tr>\n",
       "    <tr>\n",
       "      <th>74</th>\n",
       "      <td>6040</td>\n",
       "      <td>3150</td>\n",
       "      <td>Pacific Heights (1990)</td>\n",
       "      <td>Thriller</td>\n",
       "      <td>0.176328</td>\n",
       "    </tr>\n",
       "    <tr>\n",
       "      <th>75</th>\n",
       "      <td>6040</td>\n",
       "      <td>2137</td>\n",
       "      <td>Suspicion (1941)</td>\n",
       "      <td>Mystery|Thriller</td>\n",
       "      <td>0.176045</td>\n",
       "    </tr>\n",
       "    <tr>\n",
       "      <th>76</th>\n",
       "      <td>6040</td>\n",
       "      <td>2867</td>\n",
       "      <td>Sullivan's Travels (1942)</td>\n",
       "      <td>Comedy</td>\n",
       "      <td>0.175789</td>\n",
       "    </tr>\n",
       "    <tr>\n",
       "      <th>77</th>\n",
       "      <td>6040</td>\n",
       "      <td>2061</td>\n",
       "      <td>Atlantic City (1980)</td>\n",
       "      <td>Crime|Drama|Romance</td>\n",
       "      <td>0.171351</td>\n",
       "    </tr>\n",
       "    <tr>\n",
       "      <th>78</th>\n",
       "      <td>6040</td>\n",
       "      <td>3436</td>\n",
       "      <td>No Way Out (1987)</td>\n",
       "      <td>Thriller</td>\n",
       "      <td>0.171224</td>\n",
       "    </tr>\n",
       "    <tr>\n",
       "      <th>79</th>\n",
       "      <td>6040</td>\n",
       "      <td>719</td>\n",
       "      <td>Cold Comfort Farm (1995)</td>\n",
       "      <td>Comedy</td>\n",
       "      <td>0.169745</td>\n",
       "    </tr>\n",
       "    <tr>\n",
       "      <th>80</th>\n",
       "      <td>6040</td>\n",
       "      <td>1028</td>\n",
       "      <td>Secrets &amp; Lies (1996)</td>\n",
       "      <td>Drama</td>\n",
       "      <td>0.165752</td>\n",
       "    </tr>\n",
       "    <tr>\n",
       "      <th>81</th>\n",
       "      <td>6040</td>\n",
       "      <td>3180</td>\n",
       "      <td>Hand That Rocks the Cradle, The (1992)</td>\n",
       "      <td>Thriller</td>\n",
       "      <td>0.165600</td>\n",
       "    </tr>\n",
       "    <tr>\n",
       "      <th>82</th>\n",
       "      <td>6040</td>\n",
       "      <td>682</td>\n",
       "      <td>Mrs. Winterbourne (1996)</td>\n",
       "      <td>Comedy|Romance</td>\n",
       "      <td>0.160457</td>\n",
       "    </tr>\n",
       "    <tr>\n",
       "      <th>83</th>\n",
       "      <td>6040</td>\n",
       "      <td>2874</td>\n",
       "      <td>Indochine (1992)</td>\n",
       "      <td>Drama|Romance</td>\n",
       "      <td>0.158762</td>\n",
       "    </tr>\n",
       "    <tr>\n",
       "      <th>84</th>\n",
       "      <td>6040</td>\n",
       "      <td>2384</td>\n",
       "      <td>Boy Who Could Fly, The (1986)</td>\n",
       "      <td>Drama|Fantasy</td>\n",
       "      <td>0.155478</td>\n",
       "    </tr>\n",
       "    <tr>\n",
       "      <th>85</th>\n",
       "      <td>6040</td>\n",
       "      <td>2115</td>\n",
       "      <td>Trouble with Harry, The (1955)</td>\n",
       "      <td>Mystery|Thriller</td>\n",
       "      <td>0.151025</td>\n",
       "    </tr>\n",
       "    <tr>\n",
       "      <th>86</th>\n",
       "      <td>6040</td>\n",
       "      <td>3288</td>\n",
       "      <td>East-West (Est-ouest) (1999)</td>\n",
       "      <td>Drama|Romance</td>\n",
       "      <td>0.145261</td>\n",
       "    </tr>\n",
       "    <tr>\n",
       "      <th>87</th>\n",
       "      <td>6040</td>\n",
       "      <td>3660</td>\n",
       "      <td>Shaft (1971)</td>\n",
       "      <td>Action|Crime</td>\n",
       "      <td>0.142020</td>\n",
       "    </tr>\n",
       "    <tr>\n",
       "      <th>88</th>\n",
       "      <td>6040</td>\n",
       "      <td>705</td>\n",
       "      <td>Dead Man (1995)</td>\n",
       "      <td>Western</td>\n",
       "      <td>0.141811</td>\n",
       "    </tr>\n",
       "    <tr>\n",
       "      <th>89</th>\n",
       "      <td>6040</td>\n",
       "      <td>2631</td>\n",
       "      <td>South Park: Bigger, Longer and Uncut (1999)</td>\n",
       "      <td>Animation|Comedy</td>\n",
       "      <td>0.132910</td>\n",
       "    </tr>\n",
       "    <tr>\n",
       "      <th>90</th>\n",
       "      <td>6040</td>\n",
       "      <td>2651</td>\n",
       "      <td>Inspector Gadget (1999)</td>\n",
       "      <td>Action|Adventure|Children's|Comedy</td>\n",
       "      <td>0.126977</td>\n",
       "    </tr>\n",
       "    <tr>\n",
       "      <th>91</th>\n",
       "      <td>6040</td>\n",
       "      <td>2134</td>\n",
       "      <td>Shadow of a Doubt (1943)</td>\n",
       "      <td>Film-Noir|Thriller</td>\n",
       "      <td>0.124250</td>\n",
       "    </tr>\n",
       "    <tr>\n",
       "      <th>92</th>\n",
       "      <td>6040</td>\n",
       "      <td>3754</td>\n",
       "      <td>Autumn in New York (2000)</td>\n",
       "      <td>Drama|Romance</td>\n",
       "      <td>0.122216</td>\n",
       "    </tr>\n",
       "    <tr>\n",
       "      <th>93</th>\n",
       "      <td>6040</td>\n",
       "      <td>2345</td>\n",
       "      <td>Young Sherlock Holmes (1985)</td>\n",
       "      <td>Action|Adventure|Mystery</td>\n",
       "      <td>0.120011</td>\n",
       "    </tr>\n",
       "    <tr>\n",
       "      <th>94</th>\n",
       "      <td>6040</td>\n",
       "      <td>1220</td>\n",
       "      <td>Terminator, The (1984)</td>\n",
       "      <td>Action|Sci-Fi|Thriller</td>\n",
       "      <td>0.115620</td>\n",
       "    </tr>\n",
       "    <tr>\n",
       "      <th>95</th>\n",
       "      <td>6040</td>\n",
       "      <td>1551</td>\n",
       "      <td>Air Bud (1997)</td>\n",
       "      <td>Children's|Comedy</td>\n",
       "      <td>0.114721</td>\n",
       "    </tr>\n",
       "    <tr>\n",
       "      <th>96</th>\n",
       "      <td>6040</td>\n",
       "      <td>2865</td>\n",
       "      <td>Love Bewitched, A (El Amor Brujo) (1986)</td>\n",
       "      <td>Musical</td>\n",
       "      <td>0.114656</td>\n",
       "    </tr>\n",
       "    <tr>\n",
       "      <th>97</th>\n",
       "      <td>6040</td>\n",
       "      <td>937</td>\n",
       "      <td>East of Eden (1955)</td>\n",
       "      <td>Drama</td>\n",
       "      <td>0.113186</td>\n",
       "    </tr>\n",
       "    <tr>\n",
       "      <th>98</th>\n",
       "      <td>6040</td>\n",
       "      <td>2219</td>\n",
       "      <td>Thing, The (1982)</td>\n",
       "      <td>Action|Horror|Sci-Fi|Thriller</td>\n",
       "      <td>0.108910</td>\n",
       "    </tr>\n",
       "    <tr>\n",
       "      <th>99</th>\n",
       "      <td>6040</td>\n",
       "      <td>2075</td>\n",
       "      <td>Sixteen Candles (1984)</td>\n",
       "      <td>Comedy</td>\n",
       "      <td>0.108715</td>\n",
       "    </tr>\n",
       "    <tr>\n",
       "      <th>100</th>\n",
       "      <td>6040</td>\n",
       "      <td>1696</td>\n",
       "      <td>Dark City (1998)</td>\n",
       "      <td>Film-Noir|Sci-Fi|Thriller</td>\n",
       "      <td>0.106855</td>\n",
       "    </tr>\n",
       "  </tbody>\n",
       "</table>\n",
       "</div>"
      ],
      "text/plain": [
       "     userId  movieId                                               name  \\\n",
       "0      6040     1211                                  Annie Hall (1977)   \n",
       "1      6040     1227                               Graduate, The (1967)   \n",
       "2      6040     2222                         Edward Scissorhands (1990)   \n",
       "3      6040      591                        Beauty and the Beast (1991)   \n",
       "4      6040     1078                            Crying Game, The (1992)   \n",
       "5      6040     2728                                         Big (1988)   \n",
       "6      6040     1878                             West Side Story (1961)   \n",
       "7      6040      523                            Schindler's List (1993)   \n",
       "8      6040     2018                                   Peter Pan (1953)   \n",
       "9      6040      582                                  Home Alone (1990)   \n",
       "10     6040     1019                         Alice in Wonderland (1951)   \n",
       "11     6040     3088                               Stuart Little (1999)   \n",
       "12     6040     3476                                     Cabaret (1972)   \n",
       "13     6040     1081                  E.T. the Extra-Terrestrial (1982)   \n",
       "14     6040     2401                            Crocodile Dundee (1986)   \n",
       "15     6040     2877                                       Help! (1965)   \n",
       "16     6040     1203                     Godfather: Part II, The (1974)   \n",
       "17     6040     1336                                       Shine (1996)   \n",
       "18     6040     3127                                   Stalag 17 (1953)   \n",
       "19     6040     1263                                   High Noon (1952)   \n",
       "20     6040     2588              Rocky Horror Picture Show, The (1975)   \n",
       "21     6040     3480                              Guys and Dolls (1955)   \n",
       "22     6040     1779                              Borrowers, The (1997)   \n",
       "23     6040     1018                    Bedknobs and Broomsticks (1971)   \n",
       "24     6040     1264                              Big Sleep, The (1946)   \n",
       "25     6040     1720                         Wedding Singer, The (1998)   \n",
       "26     6040     1017                               Pete's Dragon (1977)   \n",
       "27     6040     3329                 Muppets Take Manhattan, The (1984)   \n",
       "28     6040     1884                      French Connection, The (1971)   \n",
       "29     6040     1067                             Great Race, The (1965)   \n",
       "30     6040       10                     American President, The (1995)   \n",
       "31     6040      919                                  Spellbound (1945)   \n",
       "32     6040     1171                           Strictly Ballroom (1992)   \n",
       "33     6040     1393                                       Evita (1996)   \n",
       "34     6040     1010        Winnie the Pooh and the Blustery Day (1968)   \n",
       "35     6040     2125                           Untouchables, The (1987)   \n",
       "36     6040      379                                  Wyatt Earp (1994)   \n",
       "37     6040     1858              All Quiet on the Western Front (1930)   \n",
       "38     6040     2252                               Pleasantville (1998)   \n",
       "39     6040     3414                      Road to El Dorado, The (2000)   \n",
       "40     6040     2220                                 Player, The (1992)   \n",
       "41     6040     2332                                  Pale Rider (1985)   \n",
       "42     6040     3439                     Outlaw Josey Wales, The (1976)   \n",
       "43     6040     3443                                Return to Me (2000)   \n",
       "44     6040     2325                        Prince of Egypt, The (1998)   \n",
       "45     6040      219                           Circle of Friends (1995)   \n",
       "46     6040      527                          Secret Garden, The (1993)   \n",
       "47     6040      891                                     Vertigo (1958)   \n",
       "48     6040      464  Englishman Who Went Up a Hill, But Came Down a...   \n",
       "49     6040      925                       Love in the Afternoon (1957)   \n",
       "50     6040     2935                               Bachelor, The (1999)   \n",
       "51     6040     1323                                   Cape Fear (1962)   \n",
       "52     6040     1899                         Breakfast Club, The (1985)   \n",
       "53     6040     3328                     Great Muppet Caper, The (1981)   \n",
       "54     6040     3299                            Big Country, The (1958)   \n",
       "55     6040     2830                          Gulliver's Travels (1939)   \n",
       "56     6040     3613                                Magnum Force (1973)   \n",
       "57     6040     1854                There's Something About Mary (1998)   \n",
       "58     6040     2064                   Adventures in Babysitting (1987)   \n",
       "59     6040     1255                                  Highlander (1986)   \n",
       "60     6040     1202                         Blues Brothers, The (1980)   \n",
       "61     6040     3467                           Keeping the Faith (2000)   \n",
       "62     6040     1001                                   Pollyanna (1960)   \n",
       "63     6040      139                               Birdcage, The (1996)   \n",
       "64     6040     1243                            Deer Hunter, The (1978)   \n",
       "65     6040     1663     Midnight in the Garden of Good and Evil (1997)   \n",
       "66     6040     3215                        They Might Be Giants (1971)   \n",
       "67     6040      206                                  Waterworld (1995)   \n",
       "68     6040     2808                                       Tommy (1975)   \n",
       "69     6040     2023                        Return of Jafar, The (1993)   \n",
       "70     6040      665     Mystery Science Theater 3000: The Movie (1996)   \n",
       "71     6040     1270                      Some Kind of Wonderful (1987)   \n",
       "72     6040     1743                                      Paulie (1998)   \n",
       "73     6040      370                                 Richie Rich (1994)   \n",
       "74     6040     3150                             Pacific Heights (1990)   \n",
       "75     6040     2137                                   Suspicion (1941)   \n",
       "76     6040     2867                          Sullivan's Travels (1942)   \n",
       "77     6040     2061                               Atlantic City (1980)   \n",
       "78     6040     3436                                  No Way Out (1987)   \n",
       "79     6040      719                           Cold Comfort Farm (1995)   \n",
       "80     6040     1028                              Secrets & Lies (1996)   \n",
       "81     6040     3180             Hand That Rocks the Cradle, The (1992)   \n",
       "82     6040      682                           Mrs. Winterbourne (1996)   \n",
       "83     6040     2874                                   Indochine (1992)   \n",
       "84     6040     2384                      Boy Who Could Fly, The (1986)   \n",
       "85     6040     2115                     Trouble with Harry, The (1955)   \n",
       "86     6040     3288                       East-West (Est-ouest) (1999)   \n",
       "87     6040     3660                                       Shaft (1971)   \n",
       "88     6040      705                                    Dead Man (1995)   \n",
       "89     6040     2631        South Park: Bigger, Longer and Uncut (1999)   \n",
       "90     6040     2651                            Inspector Gadget (1999)   \n",
       "91     6040     2134                           Shadow of a Doubt (1943)   \n",
       "92     6040     3754                          Autumn in New York (2000)   \n",
       "93     6040     2345                       Young Sherlock Holmes (1985)   \n",
       "94     6040     1220                             Terminator, The (1984)   \n",
       "95     6040     1551                                     Air Bud (1997)   \n",
       "96     6040     2865           Love Bewitched, A (El Amor Brujo) (1986)   \n",
       "97     6040      937                                East of Eden (1955)   \n",
       "98     6040     2219                                  Thing, The (1982)   \n",
       "99     6040     2075                             Sixteen Candles (1984)   \n",
       "100    6040     1696                                   Dark City (1998)   \n",
       "\n",
       "                                      genre      pred  \n",
       "0                            Comedy|Romance  0.970746  \n",
       "1                             Drama|Romance  0.963844  \n",
       "2                             Drama|Romance  0.960397  \n",
       "3              Animation|Children's|Musical  0.958382  \n",
       "4                         Drama|Romance|War  0.956313  \n",
       "5                            Comedy|Fantasy  0.906145  \n",
       "6                           Musical|Romance  0.901637  \n",
       "7                                 Drama|War  0.892324  \n",
       "8      Animation|Children's|Fantasy|Musical  0.874618  \n",
       "9                         Children's|Comedy  0.835076  \n",
       "10             Animation|Children's|Musical  0.829730  \n",
       "11                        Children's|Comedy  0.794365  \n",
       "12                              Musical|War  0.785714  \n",
       "13          Children's|Drama|Fantasy|Sci-Fi  0.778463  \n",
       "14                         Adventure|Comedy  0.736301  \n",
       "15                           Comedy|Musical  0.725237  \n",
       "16                       Action|Crime|Drama  0.723653  \n",
       "17                            Drama|Romance  0.722446  \n",
       "18                                Drama|War  0.670330  \n",
       "19                                  Western  0.668127  \n",
       "20             Comedy|Horror|Musical|Sci-Fi  0.660880  \n",
       "21                                  Musical  0.660819  \n",
       "22      Adventure|Children's|Comedy|Fantasy  0.656933  \n",
       "23             Adventure|Children's|Musical  0.637760  \n",
       "24                        Film-Noir|Mystery  0.622291  \n",
       "25                           Comedy|Romance  0.620938  \n",
       "26   Adventure|Animation|Children's|Musical  0.591092  \n",
       "27                        Children's|Comedy  0.586132  \n",
       "28              Action|Crime|Drama|Thriller  0.573739  \n",
       "29                           Comedy|Musical  0.544442  \n",
       "30                     Comedy|Drama|Romance  0.539164  \n",
       "31                 Mystery|Romance|Thriller  0.521946  \n",
       "32                           Comedy|Romance  0.492879  \n",
       "33                            Drama|Musical  0.485117  \n",
       "34                     Animation|Children's  0.468088  \n",
       "35                       Action|Crime|Drama  0.465369  \n",
       "36                                  Western  0.452135  \n",
       "37                                      War  0.438108  \n",
       "38                                   Comedy  0.435240  \n",
       "39                     Animation|Children's  0.429337  \n",
       "40                             Comedy|Drama  0.428849  \n",
       "41                                  Western  0.427448  \n",
       "42                                  Western  0.415648  \n",
       "43                            Drama|Romance  0.413595  \n",
       "44                        Animation|Musical  0.391439  \n",
       "45                            Drama|Romance  0.388310  \n",
       "46                         Children's|Drama  0.380652  \n",
       "47                         Mystery|Thriller  0.374792  \n",
       "48                           Comedy|Romance  0.359937  \n",
       "49                           Comedy|Romance  0.335647  \n",
       "50                           Comedy|Romance  0.332024  \n",
       "51                       Film-Noir|Thriller  0.325817  \n",
       "52                             Comedy|Drama  0.315851  \n",
       "53                        Children's|Comedy  0.306798  \n",
       "54                          Romance|Western  0.304826  \n",
       "55           Adventure|Animation|Children's  0.297243  \n",
       "56                                  Western  0.293488  \n",
       "57                                   Comedy  0.284893  \n",
       "58                         Adventure|Comedy  0.283693  \n",
       "59                         Action|Adventure  0.268144  \n",
       "60                    Action|Comedy|Musical  0.259363  \n",
       "61                           Comedy|Romance  0.253374  \n",
       "62                  Children's|Comedy|Drama  0.253319  \n",
       "63                                   Comedy  0.239320  \n",
       "64                                Drama|War  0.228690  \n",
       "65               Comedy|Crime|Drama|Mystery  0.219679  \n",
       "66                           Comedy|Romance  0.214491  \n",
       "67                         Action|Adventure  0.209864  \n",
       "68                            Drama|Musical  0.208758  \n",
       "69             Animation|Children's|Musical  0.197867  \n",
       "70                            Comedy|Sci-Fi  0.189892  \n",
       "71                            Drama|Romance  0.185387  \n",
       "72              Adventure|Children's|Comedy  0.178173  \n",
       "73                        Children's|Comedy  0.176415  \n",
       "74                                 Thriller  0.176328  \n",
       "75                         Mystery|Thriller  0.176045  \n",
       "76                                   Comedy  0.175789  \n",
       "77                      Crime|Drama|Romance  0.171351  \n",
       "78                                 Thriller  0.171224  \n",
       "79                                   Comedy  0.169745  \n",
       "80                                    Drama  0.165752  \n",
       "81                                 Thriller  0.165600  \n",
       "82                           Comedy|Romance  0.160457  \n",
       "83                            Drama|Romance  0.158762  \n",
       "84                            Drama|Fantasy  0.155478  \n",
       "85                         Mystery|Thriller  0.151025  \n",
       "86                            Drama|Romance  0.145261  \n",
       "87                             Action|Crime  0.142020  \n",
       "88                                  Western  0.141811  \n",
       "89                         Animation|Comedy  0.132910  \n",
       "90       Action|Adventure|Children's|Comedy  0.126977  \n",
       "91                       Film-Noir|Thriller  0.124250  \n",
       "92                            Drama|Romance  0.122216  \n",
       "93                 Action|Adventure|Mystery  0.120011  \n",
       "94                   Action|Sci-Fi|Thriller  0.115620  \n",
       "95                        Children's|Comedy  0.114721  \n",
       "96                                  Musical  0.114656  \n",
       "97                                    Drama  0.113186  \n",
       "98            Action|Horror|Sci-Fi|Thriller  0.108910  \n",
       "99                                   Comedy  0.108715  \n",
       "100               Film-Noir|Sci-Fi|Thriller  0.106855  "
      ]
     },
     "metadata": {},
     "output_type": "display_data"
    }
   ],
   "source": [
    "df_test_user[\"pred\"] = predict(dF, test_user_loader, verbose=True).numpy()\n",
    "display(create_test_user_display_df(df_test_user, df_movies, \"pred\"))"
   ]
  },
  {
   "cell_type": "code",
   "execution_count": null,
   "id": "e4f0c2cc-bdd5-423e-ab9b-af530a6ac42f",
   "metadata": {},
   "outputs": [],
   "source": []
  }
 ],
 "metadata": {
  "kernelspec": {
   "display_name": "Python 3 (ipykernel)",
   "language": "python",
   "name": "python3"
  },
  "language_info": {
   "codemirror_mode": {
    "name": "ipython",
    "version": 3
   },
   "file_extension": ".py",
   "mimetype": "text/x-python",
   "name": "python",
   "nbconvert_exporter": "python",
   "pygments_lexer": "ipython3",
   "version": "3.12.2"
  }
 },
 "nbformat": 4,
 "nbformat_minor": 5
}
