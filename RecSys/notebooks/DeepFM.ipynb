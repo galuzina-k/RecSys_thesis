{
 "cells": [
  {
   "cell_type": "code",
   "execution_count": 1,
   "id": "2834cbe0-e27a-4649-9846-737e8eb87106",
   "metadata": {},
   "outputs": [
    {
     "data": {
      "text/plain": [
       "'/Users/kristina/Desktop/University/COURSE_WORK/RecSys_thesis/recsysvenv/bin/python3.12'"
      ]
     },
     "execution_count": 1,
     "metadata": {},
     "output_type": "execute_result"
    }
   ],
   "source": [
    "## DO NOT ERASE THIS. IMPORTANT TO CORRECTLY IMPORT MODULES\n",
    "import sys\n",
    "\n",
    "sys.path.append(\"../\")\n",
    "sys.executable"
   ]
  },
  {
   "cell_type": "code",
   "execution_count": 2,
   "id": "03d08ba1",
   "metadata": {},
   "outputs": [],
   "source": [
    "import pandas as pd\n",
    "import numpy as np\n",
    "from sklearn.preprocessing import LabelEncoder\n",
    "from sklearn.preprocessing import OrdinalEncoder\n",
    "from sklearn.preprocessing import StandardScaler\n",
    "from sklearn.model_selection import train_test_split\n",
    "\n",
    "# from scipy.sparse import csr_matrix\n",
    "# from scipy.sparse.linalg import svds\n",
    "# from surprise import SVDpp, Reader, Dataset\n",
    "# from surprise.model_selection import cross_validate\n",
    "\n",
    "from typing import Union\n",
    "from tqdm.notebook import tqdm\n",
    "\n",
    "import torch.nn as nn\n",
    "from torch.utils.data import Dataset, DataLoader, TensorDataset\n",
    "import torch\n",
    "\n",
    "from src.metrics import reccomendation_report\n",
    "from src.utils import surprise_predict\n",
    "from src.utils import split_test_df\n",
    "from src.utils import seed_everything\n",
    "from src.utils import trainDataset\n",
    "from src.utils import trainDatasetWithNumCatFeatures\n",
    "\n",
    "from src.models import DeepFM, DeepFMImp\n",
    "\n",
    "import mmh3"
   ]
  },
  {
   "cell_type": "markdown",
   "id": "2a032ae8",
   "metadata": {},
   "source": [
    "## Constants"
   ]
  },
  {
   "cell_type": "code",
   "execution_count": 3,
   "id": "8de185e7",
   "metadata": {},
   "outputs": [],
   "source": [
    "DATA_FOLDER = \"../../data/ml-1m/\"\n",
    "RANDOM_STATE = 7"
   ]
  },
  {
   "cell_type": "code",
   "execution_count": 4,
   "id": "1136b767-5777-4471-8136-d4a3cdeae7dd",
   "metadata": {},
   "outputs": [],
   "source": [
    "seed_everything(RANDOM_STATE)"
   ]
  },
  {
   "cell_type": "markdown",
   "id": "c0722360",
   "metadata": {},
   "source": [
    "## Data"
   ]
  },
  {
   "cell_type": "code",
   "execution_count": 5,
   "id": "db9e06df",
   "metadata": {},
   "outputs": [],
   "source": [
    "df_movies = pd.read_csv(\n",
    "    DATA_FOLDER + \"movies.csv\",\n",
    "    encoding=\"iso-8859-1\",\n",
    "    sep=\";\",\n",
    "    names=[\"movieId\", \"name\", \"genre\"],\n",
    ")\n",
    "df_ratings = pd.read_csv(\n",
    "    DATA_FOLDER + \"ratings.csv\",\n",
    "    encoding=\"iso-8859-1\",\n",
    "    sep=\";\",\n",
    "    names=[\"userId\", \"movieId\", \"rating\", \"timestamp\"],\n",
    ")\n",
    "df_users = pd.read_csv(\n",
    "    DATA_FOLDER + \"users.csv\",\n",
    "    encoding=\"iso-8859-1\",\n",
    "    sep=\";\",\n",
    "    names=[\"userId\", \"gender\", \"age\", \"occupation\", \"zip-code\"],\n",
    ")"
   ]
  },
  {
   "cell_type": "code",
   "execution_count": 6,
   "id": "e8af6f42",
   "metadata": {},
   "outputs": [],
   "source": [
    "## Encode usedId, movieId\n",
    "user_encoder = LabelEncoder()\n",
    "movie_encoder = LabelEncoder()\n",
    "\n",
    "df_movies[\"movieId\"] = movie_encoder.fit_transform(df_movies[\"movieId\"])\n",
    "df_users[\"userId\"] = user_encoder.fit_transform(df_users[\"userId\"])\n",
    "\n",
    "df_ratings[\"movieId\"] = movie_encoder.transform(df_ratings[\"movieId\"])\n",
    "df_ratings[\"userId\"] = user_encoder.transform(df_ratings[\"userId\"])"
   ]
  },
  {
   "cell_type": "markdown",
   "id": "63202ad7-c746-4edd-8b70-d36635913713",
   "metadata": {},
   "source": [
    "#### Creating a test_user"
   ]
  },
  {
   "cell_type": "code",
   "execution_count": 7,
   "id": "eba6aff5-c0e8-491b-8a45-0b681e66b429",
   "metadata": {},
   "outputs": [
    {
     "name": "stdout",
     "output_type": "stream",
     "text": [
      "Test user watch list:\n"
     ]
    },
    {
     "data": {
      "text/html": [
       "<div>\n",
       "<style scoped>\n",
       "    .dataframe tbody tr th:only-of-type {\n",
       "        vertical-align: middle;\n",
       "    }\n",
       "\n",
       "    .dataframe tbody tr th {\n",
       "        vertical-align: top;\n",
       "    }\n",
       "\n",
       "    .dataframe thead th {\n",
       "        text-align: right;\n",
       "    }\n",
       "</style>\n",
       "<table border=\"1\" class=\"dataframe\">\n",
       "  <thead>\n",
       "    <tr style=\"text-align: right;\">\n",
       "      <th></th>\n",
       "      <th>userId</th>\n",
       "      <th>movieId</th>\n",
       "      <th>rating</th>\n",
       "      <th>timestamp</th>\n",
       "      <th>name</th>\n",
       "      <th>genre</th>\n",
       "    </tr>\n",
       "  </thead>\n",
       "  <tbody>\n",
       "    <tr>\n",
       "      <th>0</th>\n",
       "      <td>6040</td>\n",
       "      <td>6</td>\n",
       "      <td>4</td>\n",
       "      <td>0</td>\n",
       "      <td>Sabrina (1995)</td>\n",
       "      <td>Comedy|Romance</td>\n",
       "    </tr>\n",
       "    <tr>\n",
       "      <th>1</th>\n",
       "      <td>6040</td>\n",
       "      <td>16</td>\n",
       "      <td>4</td>\n",
       "      <td>1</td>\n",
       "      <td>Sense and Sensibility (1995)</td>\n",
       "      <td>Drama|Romance</td>\n",
       "    </tr>\n",
       "    <tr>\n",
       "      <th>2</th>\n",
       "      <td>6040</td>\n",
       "      <td>3192</td>\n",
       "      <td>4</td>\n",
       "      <td>2</td>\n",
       "      <td>Singles (1992)</td>\n",
       "      <td>Comedy|Drama|Romance</td>\n",
       "    </tr>\n",
       "    <tr>\n",
       "      <th>3</th>\n",
       "      <td>6040</td>\n",
       "      <td>1461</td>\n",
       "      <td>4</td>\n",
       "      <td>3</td>\n",
       "      <td>Love and Other Catastrophes (1996)</td>\n",
       "      <td>Romance</td>\n",
       "    </tr>\n",
       "    <tr>\n",
       "      <th>4</th>\n",
       "      <td>6040</td>\n",
       "      <td>827</td>\n",
       "      <td>4</td>\n",
       "      <td>4</td>\n",
       "      <td>Emma (1996)</td>\n",
       "      <td>Comedy|Drama|Romance</td>\n",
       "    </tr>\n",
       "    <tr>\n",
       "      <th>5</th>\n",
       "      <td>6040</td>\n",
       "      <td>887</td>\n",
       "      <td>4</td>\n",
       "      <td>5</td>\n",
       "      <td>Singin' in the Rain (1952)</td>\n",
       "      <td>Musical|Romance</td>\n",
       "    </tr>\n",
       "    <tr>\n",
       "      <th>6</th>\n",
       "      <td>6040</td>\n",
       "      <td>593</td>\n",
       "      <td>4</td>\n",
       "      <td>6</td>\n",
       "      <td>Pretty Woman (1990)</td>\n",
       "      <td>Comedy|Romance</td>\n",
       "    </tr>\n",
       "  </tbody>\n",
       "</table>\n",
       "</div>"
      ],
      "text/plain": [
       "   userId  movieId  rating  timestamp                                name  \\\n",
       "0    6040        6       4          0                      Sabrina (1995)   \n",
       "1    6040       16       4          1        Sense and Sensibility (1995)   \n",
       "2    6040     3192       4          2                      Singles (1992)   \n",
       "3    6040     1461       4          3  Love and Other Catastrophes (1996)   \n",
       "4    6040      827       4          4                         Emma (1996)   \n",
       "5    6040      887       4          5          Singin' in the Rain (1952)   \n",
       "6    6040      593       4          6                 Pretty Woman (1990)   \n",
       "\n",
       "                  genre  \n",
       "0        Comedy|Romance  \n",
       "1         Drama|Romance  \n",
       "2  Comedy|Drama|Romance  \n",
       "3               Romance  \n",
       "4  Comedy|Drama|Romance  \n",
       "5       Musical|Romance  \n",
       "6        Comedy|Romance  "
      ]
     },
     "metadata": {},
     "output_type": "display_data"
    }
   ],
   "source": [
    "df_users.loc[-1] = [df_users[\"userId\"].max() + 1, \"F\", 21, 5, 777777]\n",
    "df_users = df_users.reset_index(drop=True)\n",
    "df_test_user = pd.DataFrame(columns=[\"userId\", \"movieId\", \"rating\", \"timestamp\"])\n",
    "df_test_user = df_test_user.assign(movieId=[6, 16, 3192, 1461, 827, 887, 593]).assign(\n",
    "    userId=df_users[\"userId\"].max(), rating=4, timestamp=lambda x: np.arange(x.shape[0])\n",
    ")\n",
    "print(\"Test user watch list:\")\n",
    "display(df_test_user.merge(df_movies, on=\"movieId\"))\n",
    "df_ratings = pd.concat([df_ratings, df_test_user], ignore_index=True)"
   ]
  },
  {
   "cell_type": "markdown",
   "id": "59ad0c97-ef07-4ea3-a562-2c3e6c9450cd",
   "metadata": {},
   "source": [
    "### Train-test split\n",
    "Methodology: Last user interaction is a test item. The rest is train. Validation part is 10% of test."
   ]
  },
  {
   "cell_type": "code",
   "execution_count": 8,
   "id": "640bea58-f388-4778-8a1b-2622a636eee9",
   "metadata": {},
   "outputs": [],
   "source": [
    "df_ratings[\"rank\"] = (\n",
    "    df_ratings[[\"userId\", \"timestamp\"]]\n",
    "    .groupby(\"userId\", as_index=False)[\"timestamp\"]\n",
    "    .rank(method=\"first\", ascending=False)\n",
    ")"
   ]
  },
  {
   "cell_type": "code",
   "execution_count": 9,
   "id": "457f8830-7393-446f-8e58-74c129e3196e",
   "metadata": {},
   "outputs": [],
   "source": [
    "# leave one out\n",
    "df_train = df_ratings.loc[df_ratings[\"rank\"] != 1].reset_index(drop=True)\n",
    "df_test = (\n",
    "    df_ratings.loc[df_ratings[\"rank\"] == 1].reset_index(drop=True).assign(action=1)\n",
    ")\n",
    "df_test, df_val = train_test_split(df_test, test_size=0.2, random_state=RANDOM_STATE)"
   ]
  },
  {
   "cell_type": "code",
   "execution_count": 10,
   "id": "8273b002-c246-4b04-b806-9b2236d7472d",
   "metadata": {},
   "outputs": [
    {
     "data": {
      "application/vnd.jupyter.widget-view+json": {
       "model_id": "594a4cb9af7c49d484f4e3d03edbd822",
       "version_major": 2,
       "version_minor": 0
      },
      "text/plain": [
       "Enriching test:   0%|          | 0/4832 [00:00<?, ?it/s]"
      ]
     },
     "metadata": {},
     "output_type": "display_data"
    },
    {
     "data": {
      "application/vnd.jupyter.widget-view+json": {
       "model_id": "5fbe0652489a496091f1c0227ce0f45a",
       "version_major": 2,
       "version_minor": 0
      },
      "text/plain": [
       "Enriching val:   0%|          | 0/1209 [00:00<?, ?it/s]"
      ]
     },
     "metadata": {},
     "output_type": "display_data"
    }
   ],
   "source": [
    "# enrich test data with 100 random movies from the ones not intercated by user\n",
    "df_add = pd.DataFrame()\n",
    "for user in tqdm(df_test.userId.unique(), desc=\"Enriching test\"):\n",
    "    movie = df_test.loc[df_test.userId == user, \"movieId\"]\n",
    "    watched_movies = np.append(\n",
    "        movie, df_train.loc[df_train.userId == user, \"movieId\"].values\n",
    "    )\n",
    "    not_wathed_movies = np.setdiff1d(\n",
    "        np.arange(df_movies[\"movieId\"].max() + 1), watched_movies\n",
    "    )\n",
    "    random_100 = np.random.choice(not_wathed_movies, 100, replace=False)\n",
    "\n",
    "    df_temp = pd.DataFrame().assign(movieId=random_100, userId=user, action=0)\n",
    "    df_add = pd.concat([df_add, df_temp], ignore_index=True)\n",
    "\n",
    "df_test = pd.concat([df_test, df_add], ignore_index=True).drop(\n",
    "    columns=[\"timestamp\", \"rating\", \"rank\"]\n",
    ")\n",
    "\n",
    "df_add = pd.DataFrame()\n",
    "for user in tqdm(df_val.userId.unique(), desc=\"Enriching val\"):\n",
    "    movie = df_val.loc[df_val.userId == user, \"movieId\"]\n",
    "    watched_movies = np.append(\n",
    "        movie, df_train.loc[df_train.userId == user, \"movieId\"].values\n",
    "    )\n",
    "    not_wathed_movies = np.setdiff1d(\n",
    "        np.arange(df_movies[\"movieId\"].max() + 1), watched_movies\n",
    "    )\n",
    "    random_100 = np.random.choice(not_wathed_movies, 100, replace=False)\n",
    "\n",
    "    df_temp = pd.DataFrame().assign(movieId=random_100, userId=user, action=0)\n",
    "    df_add = pd.concat([df_add, df_temp], ignore_index=True)\n",
    "\n",
    "df_val = pd.concat([df_val, df_add], ignore_index=True).drop(\n",
    "    columns=[\"timestamp\", \"rating\", \"rank\"]\n",
    ")\n",
    "\n",
    "# adding data for test user\n",
    "df_add = pd.DataFrame()\n",
    "user = df_users[\"userId\"].max()\n",
    "movie = df_test.loc[df_test.userId == user, \"movieId\"]\n",
    "watched_movies = np.append(\n",
    "    movie, df_train.loc[df_train.userId == user, \"movieId\"].values\n",
    ")\n",
    "not_wathed_movies = np.setdiff1d(\n",
    "    np.arange(df_movies[\"movieId\"].max() + 1), watched_movies\n",
    ")\n",
    "random_500 = np.random.choice(not_wathed_movies, 500, replace=False)\n",
    "\n",
    "df_temp = pd.DataFrame().assign(movieId=random_500, userId=user, action=0)\n",
    "df_add = pd.concat([df_add, df_temp], ignore_index=True)\n",
    "df_test_user = df_add"
   ]
  },
  {
   "cell_type": "code",
   "execution_count": 20,
   "id": "9477bc81-799c-4741-abcc-1c4708e80190",
   "metadata": {},
   "outputs": [],
   "source": [
    "with open(\"../../data/cos_dist.pt\", \"rb\") as f:\n",
    "    cos_dist = torch.load(f)\n",
    "popularity = torch.bincount(\n",
    "    torch.tensor(df_train.movieId.values), minlength=df_movies[\"movieId\"].nunique()\n",
    ")\n",
    "popularity = popularity / torch.max(popularity)"
   ]
  },
  {
   "cell_type": "markdown",
   "id": "daca3a59-2947-4594-8fd8-c1fdc20aebe6",
   "metadata": {},
   "source": [
    "## Building ordinal encoded features and normalizing continious features"
   ]
  },
  {
   "cell_type": "code",
   "execution_count": 11,
   "id": "9ef1e4b7-df05-4595-aceb-2c647984e347",
   "metadata": {},
   "outputs": [],
   "source": [
    "ord_user = OrdinalEncoder()\n",
    "user_cat = torch.tensor(ord_user.fit_transform(df_users[[\"gender\", \"occupation\"]]))\n",
    "\n",
    "ord_movie = OrdinalEncoder()\n",
    "movie_cat = torch.tensor(ord_movie.fit_transform(df_movies[[\"genre\"]]))\n",
    "\n",
    "ss_user = StandardScaler()\n",
    "user_num = torch.tensor(ss_user.fit_transform(df_users[[\"age\"]]))"
   ]
  },
  {
   "cell_type": "code",
   "execution_count": 12,
   "id": "73a2f2bf-2f31-4480-8671-b9e67327fe45",
   "metadata": {},
   "outputs": [],
   "source": [
    "test_user_cat = user_cat[df_test[\"userId\"].values].clone().detach().to(torch.long)\n",
    "test_user_num = user_num[df_test[\"userId\"].values].clone().detach().to(torch.float)\n",
    "test_movie_cat = movie_cat[df_test[\"movieId\"].values].clone().detach().to(torch.long)\n",
    "test_cat = torch.hstack((test_user_cat, test_movie_cat))"
   ]
  },
  {
   "cell_type": "markdown",
   "id": "2dec1527-f30b-4cc2-885c-9d1b94bc085b",
   "metadata": {},
   "source": [
    "### DeepFM"
   ]
  },
  {
   "cell_type": "code",
   "execution_count": 13,
   "id": "880e8be0-c40a-4095-b551-273067cce92a",
   "metadata": {},
   "outputs": [
    {
     "name": "stderr",
     "output_type": "stream",
     "text": [
      "100%|████████████████████████████████| 994175/994175 [00:27<00:00, 35889.22it/s]\n"
     ]
    }
   ],
   "source": [
    "seed_everything(RANDOM_STATE)\n",
    "train_loader = DataLoader(\n",
    "    trainDatasetWithNumCatFeatures(\n",
    "        df_train, df_movies[\"movieId\"].nunique(), user_cat, user_num, movie_cat\n",
    "    ),\n",
    "    batch_size=2048,\n",
    "    shuffle=True,\n",
    ")\n",
    "\n",
    "num_users = df_users[\"userId\"].nunique()\n",
    "num_items = df_movies[\"movieId\"].nunique()\n",
    "num_numeric_feats = 1\n",
    "cat_feature_vocab = [len(i) for i in ord_user.categories_] + [\n",
    "    len(i) for i in ord_movie.categories_\n",
    "]"
   ]
  },
  {
   "cell_type": "code",
   "execution_count": 14,
   "id": "a2363a9b-3200-4bce-9bb9-6b5046547352",
   "metadata": {},
   "outputs": [
    {
     "data": {
      "text/plain": [
       "DeepFM(\n",
       "  (user_embedding): Embedding(6041, 5)\n",
       "  (item_embedding): Embedding(3883, 5)\n",
       "  (numerical_embeddings): ModuleList(\n",
       "    (0): Linear(in_features=1, out_features=5, bias=True)\n",
       "  )\n",
       "  (categorical_embeddings): ModuleList(\n",
       "    (0): Embedding(2, 5)\n",
       "    (1): Embedding(21, 5)\n",
       "    (2): Embedding(301, 5)\n",
       "  )\n",
       "  (mlp): Sequential(\n",
       "    (MLP_layer_0): Linear(in_features=30, out_features=16, bias=True)\n",
       "    (Activation_layer_0): ReLU()\n",
       "    (MLP_layer_1): Linear(in_features=16, out_features=32, bias=True)\n",
       "    (Activation_layer_1): ReLU()\n",
       "    (MLP_layer_2): Linear(in_features=32, out_features=64, bias=True)\n",
       "    (Activation_layer_2): ReLU()\n",
       "    (MLP_layer_3): Linear(in_features=64, out_features=1, bias=True)\n",
       "    (Activation_layer_3): ReLU()\n",
       "  )\n",
       "  (fm_linear): Linear(in_features=325, out_features=1, bias=True)\n",
       "  (final_sigmoid): Sigmoid()\n",
       ")"
      ]
     },
     "metadata": {},
     "output_type": "display_data"
    }
   ],
   "source": [
    "seed_everything(RANDOM_STATE)\n",
    "dF = DeepFM(num_users, num_items, num_numeric_feats, cat_feature_vocab)\n",
    "display(dF)"
   ]
  },
  {
   "cell_type": "code",
   "execution_count": 15,
   "id": "5cbf91a5-facf-453a-8d94-52cc0913b3ef",
   "metadata": {},
   "outputs": [],
   "source": [
    "optimizer = torch.optim.Adam(dF.parameters(), lr=3e-3)\n",
    "# scheduler = torch.optim.lr_scheduler.CyclicLR(optimizer, base_lr=0.0003, max_lr=0.001, step_size_up=100, mode=\"triangular2\", cycle_momentum=False)\n",
    "scheduler = torch.optim.lr_scheduler.CosineAnnealingLR(\n",
    "    optimizer, T_max=500, eta_min=1e-4\n",
    ")\n",
    "criterion = nn.BCELoss()\n",
    "n_epochs = 10\n",
    "device = \"cpu\""
   ]
  },
  {
   "cell_type": "code",
   "execution_count": 16,
   "id": "142940d0-2941-442a-84be-3fc06da6402d",
   "metadata": {},
   "outputs": [
    {
     "data": {
      "application/vnd.jupyter.widget-view+json": {
       "model_id": "d554c64980f84dd18a4fb6fc19394ebf",
       "version_major": 2,
       "version_minor": 0
      },
      "text/plain": [
       "Epochs:   0%|          | 0/10 [00:00<?, ?it/s]"
      ]
     },
     "metadata": {},
     "output_type": "display_data"
    },
    {
     "data": {
      "application/vnd.jupyter.widget-view+json": {
       "model_id": "994901b06cb14f4aa727a5bd2ac23f5b",
       "version_major": 2,
       "version_minor": 0
      },
      "text/plain": [
       "  0%|          | 0/2428 [00:00<?, ?batch/s]"
      ]
     },
     "metadata": {},
     "output_type": "display_data"
    },
    {
     "name": "stdout",
     "output_type": "stream",
     "text": [
      "Epoch: 0\n",
      "Train loss 0.81371\n"
     ]
    },
    {
     "data": {
      "application/vnd.jupyter.widget-view+json": {
       "model_id": "df5376ddc1df421e94c676828073becd",
       "version_major": 2,
       "version_minor": 0
      },
      "text/plain": [
       "  0%|          | 0/2428 [00:00<?, ?batch/s]"
      ]
     },
     "metadata": {},
     "output_type": "display_data"
    },
    {
     "name": "stdout",
     "output_type": "stream",
     "text": [
      "Epoch: 1\n",
      "Train loss 0.43739\n"
     ]
    },
    {
     "data": {
      "application/vnd.jupyter.widget-view+json": {
       "model_id": "2cd84ffecbf847dab4ce067d650ed961",
       "version_major": 2,
       "version_minor": 0
      },
      "text/plain": [
       "  0%|          | 0/2428 [00:00<?, ?batch/s]"
      ]
     },
     "metadata": {},
     "output_type": "display_data"
    },
    {
     "name": "stdout",
     "output_type": "stream",
     "text": [
      "Epoch: 2\n",
      "Train loss 0.3684\n"
     ]
    },
    {
     "data": {
      "application/vnd.jupyter.widget-view+json": {
       "model_id": "05089830ef8640e8b2494b57e6ee7dbc",
       "version_major": 2,
       "version_minor": 0
      },
      "text/plain": [
       "  0%|          | 0/2428 [00:00<?, ?batch/s]"
      ]
     },
     "metadata": {},
     "output_type": "display_data"
    },
    {
     "name": "stdout",
     "output_type": "stream",
     "text": [
      "Epoch: 3\n",
      "Train loss 0.34411\n"
     ]
    },
    {
     "data": {
      "application/vnd.jupyter.widget-view+json": {
       "model_id": "ab21afd551be454fba3de45c5372155e",
       "version_major": 2,
       "version_minor": 0
      },
      "text/plain": [
       "  0%|          | 0/2428 [00:00<?, ?batch/s]"
      ]
     },
     "metadata": {},
     "output_type": "display_data"
    },
    {
     "name": "stdout",
     "output_type": "stream",
     "text": [
      "Epoch: 4\n",
      "Train loss 0.32969\n"
     ]
    },
    {
     "data": {
      "application/vnd.jupyter.widget-view+json": {
       "model_id": "68d02fce81b0407ebb4efa32493f8e86",
       "version_major": 2,
       "version_minor": 0
      },
      "text/plain": [
       "  0%|          | 0/2428 [00:00<?, ?batch/s]"
      ]
     },
     "metadata": {},
     "output_type": "display_data"
    },
    {
     "name": "stdout",
     "output_type": "stream",
     "text": [
      "Epoch: 5\n",
      "Train loss 0.31831\n"
     ]
    },
    {
     "data": {
      "application/vnd.jupyter.widget-view+json": {
       "model_id": "2a43b08a25ad45278eff858e69b679e6",
       "version_major": 2,
       "version_minor": 0
      },
      "text/plain": [
       "  0%|          | 0/2428 [00:00<?, ?batch/s]"
      ]
     },
     "metadata": {},
     "output_type": "display_data"
    },
    {
     "name": "stdout",
     "output_type": "stream",
     "text": [
      "Epoch: 6\n",
      "Train loss 0.3101\n"
     ]
    },
    {
     "data": {
      "application/vnd.jupyter.widget-view+json": {
       "model_id": "8f6a63cd6c3a4704a82f4b933784eeb9",
       "version_major": 2,
       "version_minor": 0
      },
      "text/plain": [
       "  0%|          | 0/2428 [00:00<?, ?batch/s]"
      ]
     },
     "metadata": {},
     "output_type": "display_data"
    },
    {
     "name": "stdout",
     "output_type": "stream",
     "text": [
      "Epoch: 7\n",
      "Train loss 0.30372\n"
     ]
    },
    {
     "data": {
      "application/vnd.jupyter.widget-view+json": {
       "model_id": "4bf011cda3af42a9bc1ad47a2a6f274c",
       "version_major": 2,
       "version_minor": 0
      },
      "text/plain": [
       "  0%|          | 0/2428 [00:00<?, ?batch/s]"
      ]
     },
     "metadata": {},
     "output_type": "display_data"
    },
    {
     "name": "stdout",
     "output_type": "stream",
     "text": [
      "Epoch: 8\n",
      "Train loss 0.29894\n"
     ]
    },
    {
     "data": {
      "application/vnd.jupyter.widget-view+json": {
       "model_id": "97cc3347eb0c42d3b52c28c0752cdfc4",
       "version_major": 2,
       "version_minor": 0
      },
      "text/plain": [
       "  0%|          | 0/2428 [00:00<?, ?batch/s]"
      ]
     },
     "metadata": {},
     "output_type": "display_data"
    },
    {
     "name": "stdout",
     "output_type": "stream",
     "text": [
      "Epoch: 9\n",
      "Train loss 0.29595\n"
     ]
    }
   ],
   "source": [
    "### Train DeepFM\n",
    "dF.to(device)\n",
    "num_iterations = len(train_loader)\n",
    "\n",
    "for epoch in tqdm(range(n_epochs), desc=\"Epochs\"):\n",
    "    # train\n",
    "    total_train_loss = 0\n",
    "    dF.train()\n",
    "    with tqdm(train_loader, unit=\"batch\") as tepoch:\n",
    "        for userIds, movieIds, num_feats, cat_feats, ratings in tepoch:\n",
    "            pred_train = dF(\n",
    "                userIds.to(device),\n",
    "                movieIds.to(device),\n",
    "                num_feats.to(device),\n",
    "                cat_feats.to(device),\n",
    "            )\n",
    "            loss_train = criterion(pred_train.flatten(), ratings.to(device))\n",
    "\n",
    "            optimizer.zero_grad()\n",
    "            loss_train.backward()\n",
    "            optimizer.step()\n",
    "            scheduler.step()\n",
    "            total_train_loss += loss_train.item()\n",
    "            tepoch.set_postfix(\n",
    "                loss=loss_train.item(), lr=round(scheduler.get_last_lr()[0], 7)\n",
    "            )\n",
    "    print(\"Epoch:\", epoch)\n",
    "    print(\"Train loss\", round(total_train_loss / num_iterations, 5))"
   ]
  },
  {
   "cell_type": "code",
   "execution_count": 17,
   "id": "21bd760f-ed49-4589-bd39-c7317720e69b",
   "metadata": {},
   "outputs": [],
   "source": [
    "test_loader = DataLoader(\n",
    "    TensorDataset(\n",
    "        torch.tensor(df_test[\"userId\"]),\n",
    "        torch.tensor(df_test[\"movieId\"]),\n",
    "        test_user_num,\n",
    "        test_cat,\n",
    "    ),\n",
    "    batch_size=4096,\n",
    "    shuffle=False,\n",
    ")"
   ]
  },
  {
   "cell_type": "code",
   "execution_count": 18,
   "id": "1c727b7e-8927-4143-9df7-590bf59cb391",
   "metadata": {},
   "outputs": [
    {
     "data": {
      "application/vnd.jupyter.widget-view+json": {
       "model_id": "fde2a87b60d54f5e9dbe1f3e344fc7f0",
       "version_major": 2,
       "version_minor": 0
      },
      "text/plain": [
       "Inference:   0%|          | 0/120 [00:00<?, ?batch/s]"
      ]
     },
     "metadata": {},
     "output_type": "display_data"
    }
   ],
   "source": [
    "# predict dF\n",
    "dF.eval()\n",
    "total_preds = torch.zeros(len(test_loader.dataset))\n",
    "batch_size = test_loader.batch_size\n",
    "for i, (userIds, movieIds, num_feats, cat_feats) in enumerate(\n",
    "    tqdm(test_loader, desc=\"Inference\", unit=\"batch\")\n",
    "):\n",
    "    with torch.no_grad():\n",
    "        total_preds[i * batch_size : (i + 1) * batch_size] = dF(\n",
    "            userIds.to(device),\n",
    "            movieIds.to(device),\n",
    "            num_feats.to(device),\n",
    "            cat_feats.to(device),\n",
    "        ).flatten()"
   ]
  },
  {
   "cell_type": "code",
   "execution_count": 21,
   "id": "163da7ef-593d-4519-ab43-a869e3ad6acd",
   "metadata": {},
   "outputs": [
    {
     "data": {
      "text/plain": [
       "{'Hit rate @ K': tensor(0.6697),\n",
       " 'NDCG @ K': tensor(0.3392),\n",
       " 'Diversity (ILD)': tensor(0.1269),\n",
       " 'Novelty (EPC)': tensor(0.7391)}"
      ]
     },
     "execution_count": 21,
     "metadata": {},
     "output_type": "execute_result"
    }
   ],
   "source": [
    "df_test[\"rating_pred\"] = total_preds.numpy()\n",
    "pred, target, pred_items = split_test_df(\n",
    "    df_test, \"userId\", \"movieId\", \"rating_pred\", \"action\"\n",
    ")\n",
    "reccomendation_report(pred, target, pred_items, cos_dist, popularity, k=15)"
   ]
  },
  {
   "cell_type": "markdown",
   "id": "f687fa2b-7a85-4765-9e0f-ff2968fbc86b",
   "metadata": {},
   "source": [
    "### DeepFMImp"
   ]
  },
  {
   "cell_type": "code",
   "execution_count": 22,
   "id": "1658533e-81bf-486e-8e0d-e7bd3f22803c",
   "metadata": {},
   "outputs": [
    {
     "name": "stderr",
     "output_type": "stream",
     "text": [
      "100%|████████████████████████████████| 994175/994175 [00:27<00:00, 36198.93it/s]\n"
     ]
    }
   ],
   "source": [
    "seed_everything(RANDOM_STATE)\n",
    "train_loader = DataLoader(\n",
    "    trainDatasetWithNumCatFeatures(\n",
    "        df_train, df_movies[\"movieId\"].nunique(), user_cat, user_num, movie_cat\n",
    "    ),\n",
    "    batch_size=2048,\n",
    "    shuffle=True,\n",
    ")\n",
    "\n",
    "num_users = df_users[\"userId\"].nunique()\n",
    "num_items = df_movies[\"movieId\"].nunique()\n",
    "num_numeric_feats = 1\n",
    "cat_feature_vocab = [len(i) for i in ord_user.categories_] + [\n",
    "    len(i) for i in ord_movie.categories_\n",
    "]"
   ]
  },
  {
   "cell_type": "code",
   "execution_count": 23,
   "id": "f9a46436-a22f-4f1b-91a7-d766751744d3",
   "metadata": {},
   "outputs": [
    {
     "data": {
      "text/plain": [
       "DeepFMImp(\n",
       "  (user_embedding): Embedding(6041, 5)\n",
       "  (item_embedding): Embedding(3883, 5)\n",
       "  (numerical_embeddings): ModuleList(\n",
       "    (0): Linear(in_features=1, out_features=5, bias=True)\n",
       "  )\n",
       "  (categorical_embeddings): ModuleList(\n",
       "    (0): Embedding(2, 5)\n",
       "    (1): Embedding(21, 5)\n",
       "    (2): Embedding(301, 5)\n",
       "  )\n",
       "  (mlp): Sequential(\n",
       "    (MLP_layer_0): Linear(in_features=30, out_features=16, bias=True)\n",
       "    (Activation_layer_0): ReLU()\n",
       "    (MLP_layer_1): Linear(in_features=16, out_features=32, bias=True)\n",
       "    (Activation_layer_1): ReLU()\n",
       "    (MLP_layer_2): Linear(in_features=32, out_features=64, bias=True)\n",
       "    (Activation_layer_2): ReLU()\n",
       "    (MLP_layer_3): Linear(in_features=64, out_features=1, bias=True)\n",
       "    (Activation_layer_3): ReLU()\n",
       "  )\n",
       "  (fm_sparse): Linear(in_features=325, out_features=1, bias=True)\n",
       "  (fm_linear): Linear(in_features=2, out_features=1, bias=True)\n",
       "  (final_linear): Linear(in_features=2, out_features=1, bias=True)\n",
       "  (final_sigmoid): Sigmoid()\n",
       ")"
      ]
     },
     "metadata": {},
     "output_type": "display_data"
    }
   ],
   "source": [
    "seed_everything(RANDOM_STATE)\n",
    "dFI = DeepFMImp(num_users, num_items, num_numeric_feats, cat_feature_vocab)\n",
    "display(dFI)"
   ]
  },
  {
   "cell_type": "code",
   "execution_count": 24,
   "id": "93354618-66f9-42a3-a3c2-f6b45c2c73b0",
   "metadata": {},
   "outputs": [],
   "source": [
    "optimizer = torch.optim.Adam(dFI.parameters(), lr=1e-3)\n",
    "# scheduler = torch.optim.lr_scheduler.CyclicLR(optimizer, base_lr=0.0003, max_lr=0.001, step_size_up=100, mode=\"triangular2\", cycle_momentum=False)\n",
    "scheduler = torch.optim.lr_scheduler.CosineAnnealingLR(\n",
    "    optimizer, T_max=1000, eta_min=1e-4\n",
    ")\n",
    "criterion = nn.BCELoss()\n",
    "n_epochs = 10\n",
    "device = \"cpu\""
   ]
  },
  {
   "cell_type": "code",
   "execution_count": 25,
   "id": "8497799d-8d67-4c62-a4eb-c4065e60f16e",
   "metadata": {},
   "outputs": [
    {
     "data": {
      "application/vnd.jupyter.widget-view+json": {
       "model_id": "0c4ebe2504864d0e97f91e6c1354750f",
       "version_major": 2,
       "version_minor": 0
      },
      "text/plain": [
       "Epochs:   0%|          | 0/10 [00:00<?, ?it/s]"
      ]
     },
     "metadata": {},
     "output_type": "display_data"
    },
    {
     "data": {
      "application/vnd.jupyter.widget-view+json": {
       "model_id": "666c83d29d624e98b6cfba62cfece6c6",
       "version_major": 2,
       "version_minor": 0
      },
      "text/plain": [
       "  0%|          | 0/2428 [00:00<?, ?batch/s]"
      ]
     },
     "metadata": {},
     "output_type": "display_data"
    },
    {
     "name": "stdout",
     "output_type": "stream",
     "text": [
      "Epoch: 0\n",
      "Train loss 0.50295\n"
     ]
    },
    {
     "data": {
      "application/vnd.jupyter.widget-view+json": {
       "model_id": "a74b0fa6f63045d28e404c886f2ab0dd",
       "version_major": 2,
       "version_minor": 0
      },
      "text/plain": [
       "  0%|          | 0/2428 [00:00<?, ?batch/s]"
      ]
     },
     "metadata": {},
     "output_type": "display_data"
    },
    {
     "name": "stdout",
     "output_type": "stream",
     "text": [
      "Epoch: 1\n",
      "Train loss 0.43988\n"
     ]
    },
    {
     "data": {
      "application/vnd.jupyter.widget-view+json": {
       "model_id": "8294f02435ad4d6cac6fb0686a69c3aa",
       "version_major": 2,
       "version_minor": 0
      },
      "text/plain": [
       "  0%|          | 0/2428 [00:00<?, ?batch/s]"
      ]
     },
     "metadata": {},
     "output_type": "display_data"
    },
    {
     "name": "stdout",
     "output_type": "stream",
     "text": [
      "Epoch: 2\n",
      "Train loss 0.40126\n"
     ]
    },
    {
     "data": {
      "application/vnd.jupyter.widget-view+json": {
       "model_id": "53fe6621d5da4a42b342800fb4608317",
       "version_major": 2,
       "version_minor": 0
      },
      "text/plain": [
       "  0%|          | 0/2428 [00:00<?, ?batch/s]"
      ]
     },
     "metadata": {},
     "output_type": "display_data"
    },
    {
     "name": "stdout",
     "output_type": "stream",
     "text": [
      "Epoch: 3\n",
      "Train loss 0.3753\n"
     ]
    },
    {
     "data": {
      "application/vnd.jupyter.widget-view+json": {
       "model_id": "2c559af9b9a54063a1d28aaf31067c22",
       "version_major": 2,
       "version_minor": 0
      },
      "text/plain": [
       "  0%|          | 0/2428 [00:00<?, ?batch/s]"
      ]
     },
     "metadata": {},
     "output_type": "display_data"
    },
    {
     "name": "stdout",
     "output_type": "stream",
     "text": [
      "Epoch: 4\n",
      "Train loss 0.36155\n"
     ]
    },
    {
     "data": {
      "application/vnd.jupyter.widget-view+json": {
       "model_id": "7aa4a12ccfbb43f2b18c8937ce8e7d71",
       "version_major": 2,
       "version_minor": 0
      },
      "text/plain": [
       "  0%|          | 0/2428 [00:00<?, ?batch/s]"
      ]
     },
     "metadata": {},
     "output_type": "display_data"
    },
    {
     "name": "stdout",
     "output_type": "stream",
     "text": [
      "Epoch: 5\n",
      "Train loss 0.35354\n"
     ]
    },
    {
     "data": {
      "application/vnd.jupyter.widget-view+json": {
       "model_id": "c4d849ebefd14408ba27022aacd0b66b",
       "version_major": 2,
       "version_minor": 0
      },
      "text/plain": [
       "  0%|          | 0/2428 [00:00<?, ?batch/s]"
      ]
     },
     "metadata": {},
     "output_type": "display_data"
    },
    {
     "name": "stdout",
     "output_type": "stream",
     "text": [
      "Epoch: 6\n",
      "Train loss 0.34831\n"
     ]
    },
    {
     "data": {
      "application/vnd.jupyter.widget-view+json": {
       "model_id": "e328d4ca0f1541a8b0a942e313645cf5",
       "version_major": 2,
       "version_minor": 0
      },
      "text/plain": [
       "  0%|          | 0/2428 [00:00<?, ?batch/s]"
      ]
     },
     "metadata": {},
     "output_type": "display_data"
    },
    {
     "name": "stdout",
     "output_type": "stream",
     "text": [
      "Epoch: 7\n",
      "Train loss 0.34447\n"
     ]
    },
    {
     "data": {
      "application/vnd.jupyter.widget-view+json": {
       "model_id": "17ffc6b4ae09408192c943c2903a843f",
       "version_major": 2,
       "version_minor": 0
      },
      "text/plain": [
       "  0%|          | 0/2428 [00:00<?, ?batch/s]"
      ]
     },
     "metadata": {},
     "output_type": "display_data"
    },
    {
     "name": "stdout",
     "output_type": "stream",
     "text": [
      "Epoch: 8\n",
      "Train loss 0.34123\n"
     ]
    },
    {
     "data": {
      "application/vnd.jupyter.widget-view+json": {
       "model_id": "b71cdf96a74749348eed6efee6d26454",
       "version_major": 2,
       "version_minor": 0
      },
      "text/plain": [
       "  0%|          | 0/2428 [00:00<?, ?batch/s]"
      ]
     },
     "metadata": {},
     "output_type": "display_data"
    },
    {
     "name": "stdout",
     "output_type": "stream",
     "text": [
      "Epoch: 9\n",
      "Train loss 0.33824\n"
     ]
    }
   ],
   "source": [
    "### Train DeepFM\n",
    "dFI.to(device)\n",
    "num_iterations = len(train_loader)\n",
    "\n",
    "for epoch in tqdm(range(n_epochs), desc=\"Epochs\"):\n",
    "    # train\n",
    "    total_train_loss = 0\n",
    "    dFI.train()\n",
    "    with tqdm(train_loader, unit=\"batch\") as tepoch:\n",
    "        for userIds, movieIds, num_feats, cat_feats, ratings in tepoch:\n",
    "            pred_train = dFI(\n",
    "                userIds.to(device),\n",
    "                movieIds.to(device),\n",
    "                num_feats.to(device),\n",
    "                cat_feats.to(device),\n",
    "                device,\n",
    "            )\n",
    "            loss_train = criterion(pred_train.flatten(), ratings.to(device))\n",
    "\n",
    "            optimizer.zero_grad()\n",
    "            loss_train.backward()\n",
    "            optimizer.step()\n",
    "            scheduler.step()\n",
    "            total_train_loss += loss_train.item()\n",
    "            tepoch.set_postfix(\n",
    "                loss=loss_train.item(), lr=round(scheduler.get_last_lr()[0], 7)\n",
    "            )\n",
    "    print(\"Epoch:\", epoch)\n",
    "    print(\"Train loss\", round(total_train_loss / num_iterations, 5))"
   ]
  },
  {
   "cell_type": "code",
   "execution_count": 26,
   "id": "74f58702-fc7d-4913-981f-6d85774fe3bf",
   "metadata": {},
   "outputs": [],
   "source": [
    "test_loader = DataLoader(\n",
    "    TensorDataset(\n",
    "        torch.tensor(df_test[\"userId\"]),\n",
    "        torch.tensor(df_test[\"movieId\"]),\n",
    "        test_user_num,\n",
    "        test_cat,\n",
    "    ),\n",
    "    batch_size=4096,\n",
    "    shuffle=False,\n",
    ")"
   ]
  },
  {
   "cell_type": "code",
   "execution_count": 27,
   "id": "44a92f09-09c4-439f-9063-06857870da89",
   "metadata": {},
   "outputs": [
    {
     "data": {
      "application/vnd.jupyter.widget-view+json": {
       "model_id": "73a1892793ad4ab0b9c843d62b857125",
       "version_major": 2,
       "version_minor": 0
      },
      "text/plain": [
       "Inference:   0%|          | 0/120 [00:00<?, ?batch/s]"
      ]
     },
     "metadata": {},
     "output_type": "display_data"
    }
   ],
   "source": [
    "# predict dF\n",
    "dFI.eval()\n",
    "total_preds = torch.zeros(len(test_loader.dataset))\n",
    "batch_size = test_loader.batch_size\n",
    "for i, (userIds, movieIds, num_feats, cat_feats) in enumerate(\n",
    "    tqdm(test_loader, desc=\"Inference\", unit=\"batch\")\n",
    "):\n",
    "    with torch.no_grad():\n",
    "        total_preds[i * batch_size : (i + 1) * batch_size] = dFI(\n",
    "            userIds.to(device),\n",
    "            movieIds.to(device),\n",
    "            num_feats.to(device),\n",
    "            cat_feats.to(device),\n",
    "            device,\n",
    "        ).flatten()"
   ]
  },
  {
   "cell_type": "code",
   "execution_count": 28,
   "id": "f425e265-7bc9-4f3e-88fd-d91427f73787",
   "metadata": {},
   "outputs": [
    {
     "data": {
      "text/plain": [
       "{'Hit rate @ K': tensor(0.5770),\n",
       " 'NDCG @ K': tensor(0.2841),\n",
       " 'Diversity (ILD)': tensor(0.1395),\n",
       " 'Novelty (EPC)': tensor(0.7054)}"
      ]
     },
     "execution_count": 28,
     "metadata": {},
     "output_type": "execute_result"
    }
   ],
   "source": [
    "df_test[\"rating_pred\"] = total_preds.numpy()\n",
    "pred, target, pred_items = split_test_df(\n",
    "    df_test, \"userId\", \"movieId\", \"rating_pred\", \"action\"\n",
    ")\n",
    "reccomendation_report(pred, target, pred_items, cos_dist, popularity, k=15)"
   ]
  },
  {
   "cell_type": "markdown",
   "id": "d03debe0-323b-4ccf-ba5b-768c6f2f19fd",
   "metadata": {},
   "source": [
    "## Test user recommendations"
   ]
  },
  {
   "cell_type": "code",
   "execution_count": 29,
   "id": "68e8f1fd-74ca-49a7-b541-d72f0c8241cd",
   "metadata": {},
   "outputs": [],
   "source": [
    "pd.set_option(\"display.max_rows\", 102)"
   ]
  },
  {
   "cell_type": "code",
   "execution_count": 31,
   "id": "ed6965db-6e1a-402e-ac45-45d4ec1a8962",
   "metadata": {},
   "outputs": [
    {
     "data": {
      "application/vnd.jupyter.widget-view+json": {
       "model_id": "6f000df89a0640629d90b5d5cd737205",
       "version_major": 2,
       "version_minor": 0
      },
      "text/plain": [
       "Inference:   0%|          | 0/1 [00:00<?, ?batch/s]"
      ]
     },
     "metadata": {},
     "output_type": "display_data"
    },
    {
     "data": {
      "text/html": [
       "<div>\n",
       "<style scoped>\n",
       "    .dataframe tbody tr th:only-of-type {\n",
       "        vertical-align: middle;\n",
       "    }\n",
       "\n",
       "    .dataframe tbody tr th {\n",
       "        vertical-align: top;\n",
       "    }\n",
       "\n",
       "    .dataframe thead th {\n",
       "        text-align: right;\n",
       "    }\n",
       "</style>\n",
       "<table border=\"1\" class=\"dataframe\">\n",
       "  <thead>\n",
       "    <tr style=\"text-align: right;\">\n",
       "      <th></th>\n",
       "      <th>userId</th>\n",
       "      <th>movieId</th>\n",
       "      <th>name</th>\n",
       "      <th>genre</th>\n",
       "    </tr>\n",
       "  </thead>\n",
       "  <tbody>\n",
       "    <tr>\n",
       "      <th>0</th>\n",
       "      <td>6040</td>\n",
       "      <td>1227</td>\n",
       "      <td>Graduate, The (1967)</td>\n",
       "      <td>Drama|Romance</td>\n",
       "    </tr>\n",
       "    <tr>\n",
       "      <th>1</th>\n",
       "      <td>6040</td>\n",
       "      <td>1372</td>\n",
       "      <td>Jerry Maguire (1996)</td>\n",
       "      <td>Drama|Romance</td>\n",
       "    </tr>\n",
       "    <tr>\n",
       "      <th>2</th>\n",
       "      <td>6040</td>\n",
       "      <td>2016</td>\n",
       "      <td>101 Dalmatians (1961)</td>\n",
       "      <td>Animation|Children's</td>\n",
       "    </tr>\n",
       "    <tr>\n",
       "      <th>3</th>\n",
       "      <td>6040</td>\n",
       "      <td>2728</td>\n",
       "      <td>Big (1988)</td>\n",
       "      <td>Comedy|Fantasy</td>\n",
       "    </tr>\n",
       "    <tr>\n",
       "      <th>4</th>\n",
       "      <td>6040</td>\n",
       "      <td>2027</td>\n",
       "      <td>Sleeping Beauty (1959)</td>\n",
       "      <td>Animation|Children's|Musical</td>\n",
       "    </tr>\n",
       "    <tr>\n",
       "      <th>5</th>\n",
       "      <td>6040</td>\n",
       "      <td>2692</td>\n",
       "      <td>Iron Giant, The (1999)</td>\n",
       "      <td>Animation|Children's</td>\n",
       "    </tr>\n",
       "    <tr>\n",
       "      <th>6</th>\n",
       "      <td>6040</td>\n",
       "      <td>2401</td>\n",
       "      <td>Crocodile Dundee (1986)</td>\n",
       "      <td>Adventure|Comedy</td>\n",
       "    </tr>\n",
       "    <tr>\n",
       "      <th>7</th>\n",
       "      <td>6040</td>\n",
       "      <td>2872</td>\n",
       "      <td>South Pacific (1958)</td>\n",
       "      <td>Musical|Romance|War</td>\n",
       "    </tr>\n",
       "    <tr>\n",
       "      <th>8</th>\n",
       "      <td>6040</td>\n",
       "      <td>1946</td>\n",
       "      <td>Absent Minded Professor, The (1961)</td>\n",
       "      <td>Children's|Comedy|Fantasy</td>\n",
       "    </tr>\n",
       "    <tr>\n",
       "      <th>9</th>\n",
       "      <td>6040</td>\n",
       "      <td>1000</td>\n",
       "      <td>Parent Trap, The (1961)</td>\n",
       "      <td>Children's|Drama</td>\n",
       "    </tr>\n",
       "    <tr>\n",
       "      <th>10</th>\n",
       "      <td>6040</td>\n",
       "      <td>3480</td>\n",
       "      <td>Guys and Dolls (1955)</td>\n",
       "      <td>Musical</td>\n",
       "    </tr>\n",
       "    <tr>\n",
       "      <th>11</th>\n",
       "      <td>6040</td>\n",
       "      <td>2965</td>\n",
       "      <td>Robin Hood (1973)</td>\n",
       "      <td>Animation|Children's</td>\n",
       "    </tr>\n",
       "    <tr>\n",
       "      <th>12</th>\n",
       "      <td>6040</td>\n",
       "      <td>2056</td>\n",
       "      <td>Ever After: A Cinderella Story (1998)</td>\n",
       "      <td>Drama|Romance</td>\n",
       "    </tr>\n",
       "    <tr>\n",
       "      <th>13</th>\n",
       "      <td>6040</td>\n",
       "      <td>1526</td>\n",
       "      <td>Hercules (1997)</td>\n",
       "      <td>Adventure|Animation|Children's|Comedy|Musical</td>\n",
       "    </tr>\n",
       "    <tr>\n",
       "      <th>14</th>\n",
       "      <td>6040</td>\n",
       "      <td>1990</td>\n",
       "      <td>Parent Trap, The (1998)</td>\n",
       "      <td>Children's|Drama</td>\n",
       "    </tr>\n",
       "    <tr>\n",
       "      <th>15</th>\n",
       "      <td>6040</td>\n",
       "      <td>1020</td>\n",
       "      <td>Fox and the Hound, The (1981)</td>\n",
       "      <td>Animation|Children's</td>\n",
       "    </tr>\n",
       "    <tr>\n",
       "      <th>16</th>\n",
       "      <td>6040</td>\n",
       "      <td>527</td>\n",
       "      <td>Secret Garden, The (1993)</td>\n",
       "      <td>Children's|Drama</td>\n",
       "    </tr>\n",
       "    <tr>\n",
       "      <th>17</th>\n",
       "      <td>6040</td>\n",
       "      <td>1890</td>\n",
       "      <td>Out of Africa (1985)</td>\n",
       "      <td>Drama|Romance</td>\n",
       "    </tr>\n",
       "    <tr>\n",
       "      <th>18</th>\n",
       "      <td>6040</td>\n",
       "      <td>1029</td>\n",
       "      <td>That Thing You Do! (1996)</td>\n",
       "      <td>Comedy</td>\n",
       "    </tr>\n",
       "    <tr>\n",
       "      <th>19</th>\n",
       "      <td>6040</td>\n",
       "      <td>1642</td>\n",
       "      <td>Anastasia (1997)</td>\n",
       "      <td>Animation|Children's|Musical</td>\n",
       "    </tr>\n",
       "    <tr>\n",
       "      <th>20</th>\n",
       "      <td>6040</td>\n",
       "      <td>699</td>\n",
       "      <td>Truth About Cats &amp; Dogs, The (1996)</td>\n",
       "      <td>Comedy|Romance</td>\n",
       "    </tr>\n",
       "    <tr>\n",
       "      <th>21</th>\n",
       "      <td>6040</td>\n",
       "      <td>2252</td>\n",
       "      <td>Pleasantville (1998)</td>\n",
       "      <td>Comedy</td>\n",
       "    </tr>\n",
       "    <tr>\n",
       "      <th>22</th>\n",
       "      <td>6040</td>\n",
       "      <td>2300</td>\n",
       "      <td>Desperately Seeking Susan (1985)</td>\n",
       "      <td>Comedy|Romance</td>\n",
       "    </tr>\n",
       "    <tr>\n",
       "      <th>23</th>\n",
       "      <td>6040</td>\n",
       "      <td>921</td>\n",
       "      <td>To Catch a Thief (1955)</td>\n",
       "      <td>Comedy|Romance|Thriller</td>\n",
       "    </tr>\n",
       "    <tr>\n",
       "      <th>24</th>\n",
       "      <td>6040</td>\n",
       "      <td>1430</td>\n",
       "      <td>Fools Rush In (1997)</td>\n",
       "      <td>Comedy|Romance</td>\n",
       "    </tr>\n",
       "    <tr>\n",
       "      <th>25</th>\n",
       "      <td>6040</td>\n",
       "      <td>1008</td>\n",
       "      <td>Angels in the Outfield (1994)</td>\n",
       "      <td>Children's|Comedy</td>\n",
       "    </tr>\n",
       "    <tr>\n",
       "      <th>26</th>\n",
       "      <td>6040</td>\n",
       "      <td>338</td>\n",
       "      <td>Muriel's Wedding (1994)</td>\n",
       "      <td>Comedy|Romance</td>\n",
       "    </tr>\n",
       "    <tr>\n",
       "      <th>27</th>\n",
       "      <td>6040</td>\n",
       "      <td>547</td>\n",
       "      <td>Nightmare Before Christmas, The (1993)</td>\n",
       "      <td>Children's|Comedy|Musical</td>\n",
       "    </tr>\n",
       "    <tr>\n",
       "      <th>28</th>\n",
       "      <td>6040</td>\n",
       "      <td>2066</td>\n",
       "      <td>Doctor Dolittle (1967)</td>\n",
       "      <td>Adventure|Musical</td>\n",
       "    </tr>\n",
       "    <tr>\n",
       "      <th>29</th>\n",
       "      <td>6040</td>\n",
       "      <td>1850</td>\n",
       "      <td>Madeline (1998)</td>\n",
       "      <td>Children's|Comedy</td>\n",
       "    </tr>\n",
       "    <tr>\n",
       "      <th>30</th>\n",
       "      <td>6040</td>\n",
       "      <td>1984</td>\n",
       "      <td>Honey, I Blew Up the Kid (1992)</td>\n",
       "      <td>Children's|Comedy|Sci-Fi</td>\n",
       "    </tr>\n",
       "    <tr>\n",
       "      <th>31</th>\n",
       "      <td>6040</td>\n",
       "      <td>847</td>\n",
       "      <td>Godfather, The (1972)</td>\n",
       "      <td>Action|Crime|Drama</td>\n",
       "    </tr>\n",
       "    <tr>\n",
       "      <th>32</th>\n",
       "      <td>6040</td>\n",
       "      <td>451</td>\n",
       "      <td>Free Willy (1993)</td>\n",
       "      <td>Adventure|Children's|Drama</td>\n",
       "    </tr>\n",
       "    <tr>\n",
       "      <th>33</th>\n",
       "      <td>6040</td>\n",
       "      <td>234</td>\n",
       "      <td>Forget Paris (1995)</td>\n",
       "      <td>Comedy|Romance</td>\n",
       "    </tr>\n",
       "    <tr>\n",
       "      <th>34</th>\n",
       "      <td>6040</td>\n",
       "      <td>2850</td>\n",
       "      <td>Year of Living Dangerously (1982)</td>\n",
       "      <td>Drama|Romance</td>\n",
       "    </tr>\n",
       "    <tr>\n",
       "      <th>35</th>\n",
       "      <td>6040</td>\n",
       "      <td>1208</td>\n",
       "      <td>Quiet Man, The (1952)</td>\n",
       "      <td>Comedy|Romance</td>\n",
       "    </tr>\n",
       "    <tr>\n",
       "      <th>36</th>\n",
       "      <td>6040</td>\n",
       "      <td>233</td>\n",
       "      <td>French Kiss (1995)</td>\n",
       "      <td>Comedy|Romance</td>\n",
       "    </tr>\n",
       "    <tr>\n",
       "      <th>37</th>\n",
       "      <td>6040</td>\n",
       "      <td>2019</td>\n",
       "      <td>Popeye (1980)</td>\n",
       "      <td>Adventure|Comedy|Musical</td>\n",
       "    </tr>\n",
       "    <tr>\n",
       "      <th>38</th>\n",
       "      <td>6040</td>\n",
       "      <td>1338</td>\n",
       "      <td>Jingle All the Way (1996)</td>\n",
       "      <td>Adventure|Children's|Comedy</td>\n",
       "    </tr>\n",
       "    <tr>\n",
       "      <th>39</th>\n",
       "      <td>6040</td>\n",
       "      <td>2064</td>\n",
       "      <td>Adventures in Babysitting (1987)</td>\n",
       "      <td>Adventure|Comedy</td>\n",
       "    </tr>\n",
       "    <tr>\n",
       "      <th>40</th>\n",
       "      <td>6040</td>\n",
       "      <td>3530</td>\n",
       "      <td>Anchors Aweigh (1945)</td>\n",
       "      <td>Comedy|Musical</td>\n",
       "    </tr>\n",
       "    <tr>\n",
       "      <th>41</th>\n",
       "      <td>6040</td>\n",
       "      <td>1595</td>\n",
       "      <td>Full Monty, The (1997)</td>\n",
       "      <td>Comedy</td>\n",
       "    </tr>\n",
       "    <tr>\n",
       "      <th>42</th>\n",
       "      <td>6040</td>\n",
       "      <td>1707</td>\n",
       "      <td>Spice World (1997)</td>\n",
       "      <td>Comedy|Musical</td>\n",
       "    </tr>\n",
       "    <tr>\n",
       "      <th>43</th>\n",
       "      <td>6040</td>\n",
       "      <td>2026</td>\n",
       "      <td>Shaggy D.A., The (1976)</td>\n",
       "      <td>Children's|Comedy</td>\n",
       "    </tr>\n",
       "    <tr>\n",
       "      <th>44</th>\n",
       "      <td>6040</td>\n",
       "      <td>2416</td>\n",
       "      <td>She's All That (1999)</td>\n",
       "      <td>Comedy|Romance</td>\n",
       "    </tr>\n",
       "    <tr>\n",
       "      <th>45</th>\n",
       "      <td>6040</td>\n",
       "      <td>467</td>\n",
       "      <td>Hudsucker Proxy, The (1994)</td>\n",
       "      <td>Comedy|Romance</td>\n",
       "    </tr>\n",
       "    <tr>\n",
       "      <th>46</th>\n",
       "      <td>6040</td>\n",
       "      <td>2179</td>\n",
       "      <td>Say Anything... (1989)</td>\n",
       "      <td>Comedy|Drama|Romance</td>\n",
       "    </tr>\n",
       "    <tr>\n",
       "      <th>47</th>\n",
       "      <td>6040</td>\n",
       "      <td>273</td>\n",
       "      <td>Milk Money (1994)</td>\n",
       "      <td>Comedy|Romance</td>\n",
       "    </tr>\n",
       "    <tr>\n",
       "      <th>48</th>\n",
       "      <td>6040</td>\n",
       "      <td>2024</td>\n",
       "      <td>Return to Oz (1985)</td>\n",
       "      <td>Adventure|Children's|Fantasy|Sci-Fi</td>\n",
       "    </tr>\n",
       "    <tr>\n",
       "      <th>49</th>\n",
       "      <td>6040</td>\n",
       "      <td>2338</td>\n",
       "      <td>Cocoon (1985)</td>\n",
       "      <td>Comedy|Sci-Fi</td>\n",
       "    </tr>\n",
       "    <tr>\n",
       "      <th>50</th>\n",
       "      <td>6040</td>\n",
       "      <td>201</td>\n",
       "      <td>To Wong Foo, Thanks for Everything! Julie Newm...</td>\n",
       "      <td>Comedy</td>\n",
       "    </tr>\n",
       "    <tr>\n",
       "      <th>51</th>\n",
       "      <td>6040</td>\n",
       "      <td>682</td>\n",
       "      <td>Mrs. Winterbourne (1996)</td>\n",
       "      <td>Comedy|Romance</td>\n",
       "    </tr>\n",
       "    <tr>\n",
       "      <th>52</th>\n",
       "      <td>6040</td>\n",
       "      <td>2384</td>\n",
       "      <td>Boy Who Could Fly, The (1986)</td>\n",
       "      <td>Drama|Fantasy</td>\n",
       "    </tr>\n",
       "    <tr>\n",
       "      <th>53</th>\n",
       "      <td>6040</td>\n",
       "      <td>2336</td>\n",
       "      <td>Jewel of the Nile, The (1985)</td>\n",
       "      <td>Action|Adventure|Comedy|Romance</td>\n",
       "    </tr>\n",
       "    <tr>\n",
       "      <th>54</th>\n",
       "      <td>6040</td>\n",
       "      <td>3188</td>\n",
       "      <td>Bodyguard, The (1992)</td>\n",
       "      <td>Action|Drama|Romance|Thriller</td>\n",
       "    </tr>\n",
       "    <tr>\n",
       "      <th>55</th>\n",
       "      <td>6040</td>\n",
       "      <td>1263</td>\n",
       "      <td>High Noon (1952)</td>\n",
       "      <td>Western</td>\n",
       "    </tr>\n",
       "    <tr>\n",
       "      <th>56</th>\n",
       "      <td>6040</td>\n",
       "      <td>647</td>\n",
       "      <td>Dragonheart (1996)</td>\n",
       "      <td>Action|Adventure|Fantasy</td>\n",
       "    </tr>\n",
       "    <tr>\n",
       "      <th>57</th>\n",
       "      <td>6040</td>\n",
       "      <td>3360</td>\n",
       "      <td>Creature Comforts (1990)</td>\n",
       "      <td>Animation|Comedy</td>\n",
       "    </tr>\n",
       "    <tr>\n",
       "      <th>58</th>\n",
       "      <td>6040</td>\n",
       "      <td>2085</td>\n",
       "      <td>How Stella Got Her Groove Back (1998)</td>\n",
       "      <td>Drama|Romance</td>\n",
       "    </tr>\n",
       "    <tr>\n",
       "      <th>59</th>\n",
       "      <td>6040</td>\n",
       "      <td>2970</td>\n",
       "      <td>Trading Places (1983)</td>\n",
       "      <td>Comedy</td>\n",
       "    </tr>\n",
       "    <tr>\n",
       "      <th>60</th>\n",
       "      <td>6040</td>\n",
       "      <td>3230</td>\n",
       "      <td>Hanging Up (2000)</td>\n",
       "      <td>Comedy|Drama</td>\n",
       "    </tr>\n",
       "    <tr>\n",
       "      <th>61</th>\n",
       "      <td>6040</td>\n",
       "      <td>310</td>\n",
       "      <td>Swan Princess, The (1994)</td>\n",
       "      <td>Animation|Children's</td>\n",
       "    </tr>\n",
       "    <tr>\n",
       "      <th>62</th>\n",
       "      <td>6040</td>\n",
       "      <td>1202</td>\n",
       "      <td>Blues Brothers, The (1980)</td>\n",
       "      <td>Action|Comedy|Musical</td>\n",
       "    </tr>\n",
       "    <tr>\n",
       "      <th>63</th>\n",
       "      <td>6040</td>\n",
       "      <td>724</td>\n",
       "      <td>Rock, The (1996)</td>\n",
       "      <td>Action|Adventure|Thriller</td>\n",
       "    </tr>\n",
       "    <tr>\n",
       "      <th>64</th>\n",
       "      <td>6040</td>\n",
       "      <td>263</td>\n",
       "      <td>Legends of the Fall (1994)</td>\n",
       "      <td>Drama|Romance|War|Western</td>\n",
       "    </tr>\n",
       "    <tr>\n",
       "      <th>65</th>\n",
       "      <td>6040</td>\n",
       "      <td>2220</td>\n",
       "      <td>Player, The (1992)</td>\n",
       "      <td>Comedy|Drama</td>\n",
       "    </tr>\n",
       "    <tr>\n",
       "      <th>66</th>\n",
       "      <td>6040</td>\n",
       "      <td>1976</td>\n",
       "      <td>Far Off Place, A (1993)</td>\n",
       "      <td>Adventure|Children's|Drama|Romance</td>\n",
       "    </tr>\n",
       "    <tr>\n",
       "      <th>67</th>\n",
       "      <td>6040</td>\n",
       "      <td>3483</td>\n",
       "      <td>Caddyshack (1980)</td>\n",
       "      <td>Comedy</td>\n",
       "    </tr>\n",
       "    <tr>\n",
       "      <th>68</th>\n",
       "      <td>6040</td>\n",
       "      <td>345</td>\n",
       "      <td>Clear and Present Danger (1994)</td>\n",
       "      <td>Action|Adventure|Thriller</td>\n",
       "    </tr>\n",
       "    <tr>\n",
       "      <th>69</th>\n",
       "      <td>6040</td>\n",
       "      <td>2701</td>\n",
       "      <td>Bowfinger (1999)</td>\n",
       "      <td>Comedy</td>\n",
       "    </tr>\n",
       "    <tr>\n",
       "      <th>70</th>\n",
       "      <td>6040</td>\n",
       "      <td>2975</td>\n",
       "      <td>Dead Again (1991)</td>\n",
       "      <td>Mystery|Romance|Thriller</td>\n",
       "    </tr>\n",
       "    <tr>\n",
       "      <th>71</th>\n",
       "      <td>6040</td>\n",
       "      <td>1071</td>\n",
       "      <td>Madame Butterfly (1995)</td>\n",
       "      <td>Musical</td>\n",
       "    </tr>\n",
       "    <tr>\n",
       "      <th>72</th>\n",
       "      <td>6040</td>\n",
       "      <td>2837</td>\n",
       "      <td>Random Hearts (1999)</td>\n",
       "      <td>Drama|Romance</td>\n",
       "    </tr>\n",
       "    <tr>\n",
       "      <th>73</th>\n",
       "      <td>6040</td>\n",
       "      <td>1858</td>\n",
       "      <td>All Quiet on the Western Front (1930)</td>\n",
       "      <td>War</td>\n",
       "    </tr>\n",
       "    <tr>\n",
       "      <th>74</th>\n",
       "      <td>6040</td>\n",
       "      <td>2331</td>\n",
       "      <td>Prancer (1989)</td>\n",
       "      <td>Children's|Drama</td>\n",
       "    </tr>\n",
       "    <tr>\n",
       "      <th>75</th>\n",
       "      <td>6040</td>\n",
       "      <td>1457</td>\n",
       "      <td>Selena (1997)</td>\n",
       "      <td>Drama|Musical</td>\n",
       "    </tr>\n",
       "    <tr>\n",
       "      <th>76</th>\n",
       "      <td>6040</td>\n",
       "      <td>599</td>\n",
       "      <td>Bye Bye, Love (1995)</td>\n",
       "      <td>Comedy</td>\n",
       "    </tr>\n",
       "    <tr>\n",
       "      <th>77</th>\n",
       "      <td>6040</td>\n",
       "      <td>931</td>\n",
       "      <td>Ghost and Mrs. Muir, The (1947)</td>\n",
       "      <td>Drama|Romance</td>\n",
       "    </tr>\n",
       "    <tr>\n",
       "      <th>78</th>\n",
       "      <td>6040</td>\n",
       "      <td>2344</td>\n",
       "      <td>Clue (1985)</td>\n",
       "      <td>Comedy|Mystery</td>\n",
       "    </tr>\n",
       "    <tr>\n",
       "      <th>79</th>\n",
       "      <td>6040</td>\n",
       "      <td>3715</td>\n",
       "      <td>Kid, The (2000)</td>\n",
       "      <td>Comedy</td>\n",
       "    </tr>\n",
       "    <tr>\n",
       "      <th>80</th>\n",
       "      <td>6040</td>\n",
       "      <td>231</td>\n",
       "      <td>Exit to Eden (1994)</td>\n",
       "      <td>Comedy</td>\n",
       "    </tr>\n",
       "    <tr>\n",
       "      <th>81</th>\n",
       "      <td>6040</td>\n",
       "      <td>3533</td>\n",
       "      <td>G. I. Blues (1960)</td>\n",
       "      <td>Musical</td>\n",
       "    </tr>\n",
       "    <tr>\n",
       "      <th>82</th>\n",
       "      <td>6040</td>\n",
       "      <td>807</td>\n",
       "      <td>Very Brady Sequel, A (1996)</td>\n",
       "      <td>Comedy</td>\n",
       "    </tr>\n",
       "    <tr>\n",
       "      <th>83</th>\n",
       "      <td>6040</td>\n",
       "      <td>1655</td>\n",
       "      <td>For Richer or Poorer (1997)</td>\n",
       "      <td>Comedy</td>\n",
       "    </tr>\n",
       "    <tr>\n",
       "      <th>84</th>\n",
       "      <td>6040</td>\n",
       "      <td>1230</td>\n",
       "      <td>Bridge on the River Kwai, The (1957)</td>\n",
       "      <td>Drama|War</td>\n",
       "    </tr>\n",
       "    <tr>\n",
       "      <th>85</th>\n",
       "      <td>6040</td>\n",
       "      <td>2067</td>\n",
       "      <td>Nutty Professor, The (1963)</td>\n",
       "      <td>Comedy</td>\n",
       "    </tr>\n",
       "    <tr>\n",
       "      <th>86</th>\n",
       "      <td>6040</td>\n",
       "      <td>800</td>\n",
       "      <td>Kazaam (1996)</td>\n",
       "      <td>Children's|Comedy|Fantasy</td>\n",
       "    </tr>\n",
       "    <tr>\n",
       "      <th>87</th>\n",
       "      <td>6040</td>\n",
       "      <td>2394</td>\n",
       "      <td>Ruthless People (1986)</td>\n",
       "      <td>Comedy</td>\n",
       "    </tr>\n",
       "    <tr>\n",
       "      <th>88</th>\n",
       "      <td>6040</td>\n",
       "      <td>2777</td>\n",
       "      <td>Adventures of Milo and Otis, The (1986)</td>\n",
       "      <td>Children's</td>\n",
       "    </tr>\n",
       "    <tr>\n",
       "      <th>89</th>\n",
       "      <td>6040</td>\n",
       "      <td>2292</td>\n",
       "      <td>Pink Flamingos (1972)</td>\n",
       "      <td>Comedy</td>\n",
       "    </tr>\n",
       "    <tr>\n",
       "      <th>90</th>\n",
       "      <td>6040</td>\n",
       "      <td>1206</td>\n",
       "      <td>Henry V (1989)</td>\n",
       "      <td>Drama|War</td>\n",
       "    </tr>\n",
       "    <tr>\n",
       "      <th>91</th>\n",
       "      <td>6040</td>\n",
       "      <td>374</td>\n",
       "      <td>Speechless (1994)</td>\n",
       "      <td>Comedy|Romance</td>\n",
       "    </tr>\n",
       "    <tr>\n",
       "      <th>92</th>\n",
       "      <td>6040</td>\n",
       "      <td>1888</td>\n",
       "      <td>Chariots of Fire (1981)</td>\n",
       "      <td>Drama</td>\n",
       "    </tr>\n",
       "    <tr>\n",
       "      <th>93</th>\n",
       "      <td>6040</td>\n",
       "      <td>2505</td>\n",
       "      <td>Out-of-Towners, The (1999)</td>\n",
       "      <td>Comedy</td>\n",
       "    </tr>\n",
       "    <tr>\n",
       "      <th>94</th>\n",
       "      <td>6040</td>\n",
       "      <td>1513</td>\n",
       "      <td>Con Air (1997)</td>\n",
       "      <td>Action|Adventure|Thriller</td>\n",
       "    </tr>\n",
       "    <tr>\n",
       "      <th>95</th>\n",
       "      <td>6040</td>\n",
       "      <td>1070</td>\n",
       "      <td>Dial M for Murder (1954)</td>\n",
       "      <td>Mystery|Thriller</td>\n",
       "    </tr>\n",
       "    <tr>\n",
       "      <th>96</th>\n",
       "      <td>6040</td>\n",
       "      <td>3392</td>\n",
       "      <td>Lord of the Flies (1963)</td>\n",
       "      <td>Adventure|Drama|Thriller</td>\n",
       "    </tr>\n",
       "    <tr>\n",
       "      <th>97</th>\n",
       "      <td>6040</td>\n",
       "      <td>3185</td>\n",
       "      <td>Wayne's World 2 (1993)</td>\n",
       "      <td>Comedy</td>\n",
       "    </tr>\n",
       "    <tr>\n",
       "      <th>98</th>\n",
       "      <td>6040</td>\n",
       "      <td>3412</td>\n",
       "      <td>High Fidelity (2000)</td>\n",
       "      <td>Comedy</td>\n",
       "    </tr>\n",
       "    <tr>\n",
       "      <th>99</th>\n",
       "      <td>6040</td>\n",
       "      <td>2874</td>\n",
       "      <td>Indochine (1992)</td>\n",
       "      <td>Drama|Romance</td>\n",
       "    </tr>\n",
       "    <tr>\n",
       "      <th>100</th>\n",
       "      <td>6040</td>\n",
       "      <td>1967</td>\n",
       "      <td>Blank Check (1994)</td>\n",
       "      <td>Children's|Comedy</td>\n",
       "    </tr>\n",
       "  </tbody>\n",
       "</table>\n",
       "</div>"
      ],
      "text/plain": [
       "     userId  movieId                                               name  \\\n",
       "0      6040     1227                               Graduate, The (1967)   \n",
       "1      6040     1372                               Jerry Maguire (1996)   \n",
       "2      6040     2016                              101 Dalmatians (1961)   \n",
       "3      6040     2728                                         Big (1988)   \n",
       "4      6040     2027                             Sleeping Beauty (1959)   \n",
       "5      6040     2692                             Iron Giant, The (1999)   \n",
       "6      6040     2401                            Crocodile Dundee (1986)   \n",
       "7      6040     2872                               South Pacific (1958)   \n",
       "8      6040     1946                Absent Minded Professor, The (1961)   \n",
       "9      6040     1000                            Parent Trap, The (1961)   \n",
       "10     6040     3480                              Guys and Dolls (1955)   \n",
       "11     6040     2965                                  Robin Hood (1973)   \n",
       "12     6040     2056              Ever After: A Cinderella Story (1998)   \n",
       "13     6040     1526                                    Hercules (1997)   \n",
       "14     6040     1990                            Parent Trap, The (1998)   \n",
       "15     6040     1020                      Fox and the Hound, The (1981)   \n",
       "16     6040      527                          Secret Garden, The (1993)   \n",
       "17     6040     1890                               Out of Africa (1985)   \n",
       "18     6040     1029                          That Thing You Do! (1996)   \n",
       "19     6040     1642                                   Anastasia (1997)   \n",
       "20     6040      699                Truth About Cats & Dogs, The (1996)   \n",
       "21     6040     2252                               Pleasantville (1998)   \n",
       "22     6040     2300                   Desperately Seeking Susan (1985)   \n",
       "23     6040      921                            To Catch a Thief (1955)   \n",
       "24     6040     1430                               Fools Rush In (1997)   \n",
       "25     6040     1008                      Angels in the Outfield (1994)   \n",
       "26     6040      338                            Muriel's Wedding (1994)   \n",
       "27     6040      547             Nightmare Before Christmas, The (1993)   \n",
       "28     6040     2066                             Doctor Dolittle (1967)   \n",
       "29     6040     1850                                    Madeline (1998)   \n",
       "30     6040     1984                    Honey, I Blew Up the Kid (1992)   \n",
       "31     6040      847                              Godfather, The (1972)   \n",
       "32     6040      451                                  Free Willy (1993)   \n",
       "33     6040      234                                Forget Paris (1995)   \n",
       "34     6040     2850                  Year of Living Dangerously (1982)   \n",
       "35     6040     1208                              Quiet Man, The (1952)   \n",
       "36     6040      233                                 French Kiss (1995)   \n",
       "37     6040     2019                                      Popeye (1980)   \n",
       "38     6040     1338                          Jingle All the Way (1996)   \n",
       "39     6040     2064                   Adventures in Babysitting (1987)   \n",
       "40     6040     3530                              Anchors Aweigh (1945)   \n",
       "41     6040     1595                             Full Monty, The (1997)   \n",
       "42     6040     1707                                 Spice World (1997)   \n",
       "43     6040     2026                            Shaggy D.A., The (1976)   \n",
       "44     6040     2416                              She's All That (1999)   \n",
       "45     6040      467                        Hudsucker Proxy, The (1994)   \n",
       "46     6040     2179                             Say Anything... (1989)   \n",
       "47     6040      273                                  Milk Money (1994)   \n",
       "48     6040     2024                                Return to Oz (1985)   \n",
       "49     6040     2338                                      Cocoon (1985)   \n",
       "50     6040      201  To Wong Foo, Thanks for Everything! Julie Newm...   \n",
       "51     6040      682                           Mrs. Winterbourne (1996)   \n",
       "52     6040     2384                      Boy Who Could Fly, The (1986)   \n",
       "53     6040     2336                      Jewel of the Nile, The (1985)   \n",
       "54     6040     3188                              Bodyguard, The (1992)   \n",
       "55     6040     1263                                   High Noon (1952)   \n",
       "56     6040      647                                 Dragonheart (1996)   \n",
       "57     6040     3360                           Creature Comforts (1990)   \n",
       "58     6040     2085              How Stella Got Her Groove Back (1998)   \n",
       "59     6040     2970                              Trading Places (1983)   \n",
       "60     6040     3230                                  Hanging Up (2000)   \n",
       "61     6040      310                          Swan Princess, The (1994)   \n",
       "62     6040     1202                         Blues Brothers, The (1980)   \n",
       "63     6040      724                                   Rock, The (1996)   \n",
       "64     6040      263                         Legends of the Fall (1994)   \n",
       "65     6040     2220                                 Player, The (1992)   \n",
       "66     6040     1976                            Far Off Place, A (1993)   \n",
       "67     6040     3483                                  Caddyshack (1980)   \n",
       "68     6040      345                    Clear and Present Danger (1994)   \n",
       "69     6040     2701                                   Bowfinger (1999)   \n",
       "70     6040     2975                                  Dead Again (1991)   \n",
       "71     6040     1071                            Madame Butterfly (1995)   \n",
       "72     6040     2837                               Random Hearts (1999)   \n",
       "73     6040     1858              All Quiet on the Western Front (1930)   \n",
       "74     6040     2331                                     Prancer (1989)   \n",
       "75     6040     1457                                      Selena (1997)   \n",
       "76     6040      599                               Bye Bye, Love (1995)   \n",
       "77     6040      931                    Ghost and Mrs. Muir, The (1947)   \n",
       "78     6040     2344                                        Clue (1985)   \n",
       "79     6040     3715                                    Kid, The (2000)   \n",
       "80     6040      231                                Exit to Eden (1994)   \n",
       "81     6040     3533                                 G. I. Blues (1960)   \n",
       "82     6040      807                        Very Brady Sequel, A (1996)   \n",
       "83     6040     1655                        For Richer or Poorer (1997)   \n",
       "84     6040     1230               Bridge on the River Kwai, The (1957)   \n",
       "85     6040     2067                        Nutty Professor, The (1963)   \n",
       "86     6040      800                                      Kazaam (1996)   \n",
       "87     6040     2394                             Ruthless People (1986)   \n",
       "88     6040     2777            Adventures of Milo and Otis, The (1986)   \n",
       "89     6040     2292                              Pink Flamingos (1972)   \n",
       "90     6040     1206                                     Henry V (1989)   \n",
       "91     6040      374                                  Speechless (1994)   \n",
       "92     6040     1888                            Chariots of Fire (1981)   \n",
       "93     6040     2505                         Out-of-Towners, The (1999)   \n",
       "94     6040     1513                                     Con Air (1997)   \n",
       "95     6040     1070                           Dial M for Murder (1954)   \n",
       "96     6040     3392                           Lord of the Flies (1963)   \n",
       "97     6040     3185                             Wayne's World 2 (1993)   \n",
       "98     6040     3412                               High Fidelity (2000)   \n",
       "99     6040     2874                                   Indochine (1992)   \n",
       "100    6040     1967                                 Blank Check (1994)   \n",
       "\n",
       "                                             genre  \n",
       "0                                    Drama|Romance  \n",
       "1                                    Drama|Romance  \n",
       "2                             Animation|Children's  \n",
       "3                                   Comedy|Fantasy  \n",
       "4                     Animation|Children's|Musical  \n",
       "5                             Animation|Children's  \n",
       "6                                 Adventure|Comedy  \n",
       "7                              Musical|Romance|War  \n",
       "8                        Children's|Comedy|Fantasy  \n",
       "9                                 Children's|Drama  \n",
       "10                                         Musical  \n",
       "11                            Animation|Children's  \n",
       "12                                   Drama|Romance  \n",
       "13   Adventure|Animation|Children's|Comedy|Musical  \n",
       "14                                Children's|Drama  \n",
       "15                            Animation|Children's  \n",
       "16                                Children's|Drama  \n",
       "17                                   Drama|Romance  \n",
       "18                                          Comedy  \n",
       "19                    Animation|Children's|Musical  \n",
       "20                                  Comedy|Romance  \n",
       "21                                          Comedy  \n",
       "22                                  Comedy|Romance  \n",
       "23                         Comedy|Romance|Thriller  \n",
       "24                                  Comedy|Romance  \n",
       "25                               Children's|Comedy  \n",
       "26                                  Comedy|Romance  \n",
       "27                       Children's|Comedy|Musical  \n",
       "28                               Adventure|Musical  \n",
       "29                               Children's|Comedy  \n",
       "30                        Children's|Comedy|Sci-Fi  \n",
       "31                              Action|Crime|Drama  \n",
       "32                      Adventure|Children's|Drama  \n",
       "33                                  Comedy|Romance  \n",
       "34                                   Drama|Romance  \n",
       "35                                  Comedy|Romance  \n",
       "36                                  Comedy|Romance  \n",
       "37                        Adventure|Comedy|Musical  \n",
       "38                     Adventure|Children's|Comedy  \n",
       "39                                Adventure|Comedy  \n",
       "40                                  Comedy|Musical  \n",
       "41                                          Comedy  \n",
       "42                                  Comedy|Musical  \n",
       "43                               Children's|Comedy  \n",
       "44                                  Comedy|Romance  \n",
       "45                                  Comedy|Romance  \n",
       "46                            Comedy|Drama|Romance  \n",
       "47                                  Comedy|Romance  \n",
       "48             Adventure|Children's|Fantasy|Sci-Fi  \n",
       "49                                   Comedy|Sci-Fi  \n",
       "50                                          Comedy  \n",
       "51                                  Comedy|Romance  \n",
       "52                                   Drama|Fantasy  \n",
       "53                 Action|Adventure|Comedy|Romance  \n",
       "54                   Action|Drama|Romance|Thriller  \n",
       "55                                         Western  \n",
       "56                        Action|Adventure|Fantasy  \n",
       "57                                Animation|Comedy  \n",
       "58                                   Drama|Romance  \n",
       "59                                          Comedy  \n",
       "60                                    Comedy|Drama  \n",
       "61                            Animation|Children's  \n",
       "62                           Action|Comedy|Musical  \n",
       "63                       Action|Adventure|Thriller  \n",
       "64                       Drama|Romance|War|Western  \n",
       "65                                    Comedy|Drama  \n",
       "66              Adventure|Children's|Drama|Romance  \n",
       "67                                          Comedy  \n",
       "68                       Action|Adventure|Thriller  \n",
       "69                                          Comedy  \n",
       "70                        Mystery|Romance|Thriller  \n",
       "71                                         Musical  \n",
       "72                                   Drama|Romance  \n",
       "73                                             War  \n",
       "74                                Children's|Drama  \n",
       "75                                   Drama|Musical  \n",
       "76                                          Comedy  \n",
       "77                                   Drama|Romance  \n",
       "78                                  Comedy|Mystery  \n",
       "79                                          Comedy  \n",
       "80                                          Comedy  \n",
       "81                                         Musical  \n",
       "82                                          Comedy  \n",
       "83                                          Comedy  \n",
       "84                                       Drama|War  \n",
       "85                                          Comedy  \n",
       "86                       Children's|Comedy|Fantasy  \n",
       "87                                          Comedy  \n",
       "88                                      Children's  \n",
       "89                                          Comedy  \n",
       "90                                       Drama|War  \n",
       "91                                  Comedy|Romance  \n",
       "92                                           Drama  \n",
       "93                                          Comedy  \n",
       "94                       Action|Adventure|Thriller  \n",
       "95                                Mystery|Thriller  \n",
       "96                        Adventure|Drama|Thriller  \n",
       "97                                          Comedy  \n",
       "98                                          Comedy  \n",
       "99                                   Drama|Romance  \n",
       "100                              Children's|Comedy  "
      ]
     },
     "metadata": {},
     "output_type": "display_data"
    }
   ],
   "source": [
    "test_user_cat = user_cat[df_test_user[\"userId\"].values].clone().detach().to(torch.long)\n",
    "test_user_num = user_num[df_test_user[\"userId\"].values].clone().detach().to(torch.float)\n",
    "test_movie_cat = (\n",
    "    movie_cat[df_test_user[\"movieId\"].values].clone().detach().to(torch.long)\n",
    ")\n",
    "test_cat = torch.hstack((test_user_cat, test_movie_cat))\n",
    "\n",
    "test_loader = DataLoader(\n",
    "    TensorDataset(\n",
    "        torch.tensor(df_test_user[\"userId\"]),\n",
    "        torch.tensor(df_test_user[\"movieId\"]),\n",
    "        test_user_num,\n",
    "        test_cat,\n",
    "    ),\n",
    "    batch_size=4096,\n",
    "    shuffle=False,\n",
    ")\n",
    "\n",
    "# predict dF\n",
    "dF.eval()\n",
    "total_preds = torch.zeros(len(test_loader.dataset))\n",
    "batch_size = test_loader.batch_size\n",
    "for i, (userIds, movieIds, num_feats, cat_feats) in enumerate(\n",
    "    tqdm(test_loader, desc=\"Inference\", unit=\"batch\")\n",
    "):\n",
    "    with torch.no_grad():\n",
    "        total_preds[i * batch_size : (i + 1) * batch_size] = dF(\n",
    "            userIds.to(device),\n",
    "            movieIds.to(device),\n",
    "            num_feats.to(device),\n",
    "            cat_feats.to(device),\n",
    "        ).flatten()\n",
    "\n",
    "df_test_user[\"rating_pred\"] = total_preds.numpy()\n",
    "\n",
    "display(\n",
    "    df_test_user.loc[df_test_user.userId == df_test_user[\"userId\"].max()]\n",
    "    .sort_values(by=\"rating_pred\", ascending=False)\n",
    "    .merge(df_movies, on=\"movieId\")\n",
    "    .loc[:100, [\"userId\", \"movieId\", \"name\", \"genre\"]]\n",
    ")"
   ]
  },
  {
   "cell_type": "code",
   "execution_count": null,
   "id": "f95f12e3-b6e2-47fd-b6af-4ae0fc8a9abe",
   "metadata": {},
   "outputs": [],
   "source": []
  }
 ],
 "metadata": {
  "kernelspec": {
   "display_name": "Python 3 (ipykernel)",
   "language": "python",
   "name": "python3"
  },
  "language_info": {
   "codemirror_mode": {
    "name": "ipython",
    "version": 3
   },
   "file_extension": ".py",
   "mimetype": "text/x-python",
   "name": "python",
   "nbconvert_exporter": "python",
   "pygments_lexer": "ipython3",
   "version": "3.12.2"
  }
 },
 "nbformat": 4,
 "nbformat_minor": 5
}
