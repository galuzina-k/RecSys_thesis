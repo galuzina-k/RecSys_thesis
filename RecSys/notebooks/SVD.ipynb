{
 "cells": [
  {
   "cell_type": "code",
   "execution_count": 1,
   "id": "2834cbe0-e27a-4649-9846-737e8eb87106",
   "metadata": {},
   "outputs": [
    {
     "data": {
      "text/plain": [
       "'/Users/kristina/Desktop/University/COURSE_WORK/Project/recsysvenv/bin/python3.10'"
      ]
     },
     "execution_count": 1,
     "metadata": {},
     "output_type": "execute_result"
    }
   ],
   "source": [
    "## DO NOT ERASE THIS. IMPORTANT TO CORRECTLY IMPORT MODULES\n",
    "import sys\n",
    "\n",
    "sys.path.append(\"/Users/kristina/Desktop/University/COURSE_WORK/Project/RecSys\")\n",
    "sys.executable"
   ]
  },
  {
   "cell_type": "code",
   "execution_count": 2,
   "id": "03d08ba1",
   "metadata": {},
   "outputs": [],
   "source": [
    "import pandas as pd\n",
    "import numpy as np\n",
    "from sklearn.preprocessing import LabelEncoder\n",
    "from sklearn.model_selection import train_test_split\n",
    "\n",
    "# from scipy.sparse import csr_matrix\n",
    "# from scipy.sparse.linalg import svds\n",
    "from surprise import SVDpp, Reader, Dataset\n",
    "from surprise.model_selection import cross_validate\n",
    "\n",
    "from typing import Union\n",
    "from tqdm.notebook import tqdm\n",
    "\n",
    "import torch.nn as nn\n",
    "\n",
    "# from torch.utils.data import Dataset, DataLoader\n",
    "import torch\n",
    "\n",
    "from src.metrics import reccomendation_report\n",
    "from src.utils import surprise_predict\n",
    "from src.utils import split_test_df"
   ]
  },
  {
   "cell_type": "markdown",
   "id": "2a032ae8",
   "metadata": {},
   "source": [
    "## Constants"
   ]
  },
  {
   "cell_type": "code",
   "execution_count": 3,
   "id": "8de185e7",
   "metadata": {},
   "outputs": [],
   "source": [
    "DATA_FOLDER = \"../../data/ml-1m/\"\n",
    "RANDOM_STATE = 7"
   ]
  },
  {
   "cell_type": "code",
   "execution_count": 4,
   "id": "1136b767-5777-4471-8136-d4a3cdeae7dd",
   "metadata": {},
   "outputs": [],
   "source": [
    "np.random.seed(RANDOM_STATE)"
   ]
  },
  {
   "cell_type": "markdown",
   "id": "c0722360",
   "metadata": {},
   "source": [
    "## Data"
   ]
  },
  {
   "cell_type": "code",
   "execution_count": 5,
   "id": "db9e06df",
   "metadata": {},
   "outputs": [],
   "source": [
    "df_movies = pd.read_csv(\n",
    "    DATA_FOLDER + \"movies.csv\",\n",
    "    encoding=\"iso-8859-1\",\n",
    "    sep=\";\",\n",
    "    names=[\"movieId\", \"name\", \"genre\"],\n",
    ")\n",
    "df_ratings = pd.read_csv(\n",
    "    DATA_FOLDER + \"ratings.csv\",\n",
    "    encoding=\"iso-8859-1\",\n",
    "    sep=\";\",\n",
    "    names=[\"userId\", \"movieId\", \"rating\", \"timestamp\"],\n",
    ")\n",
    "df_users = pd.read_csv(\n",
    "    DATA_FOLDER + \"users.csv\",\n",
    "    encoding=\"iso-8859-1\",\n",
    "    sep=\";\",\n",
    "    names=[\"userId\", \"gender\", \"age\", \"occupation\", \"zip-code\"],\n",
    ")"
   ]
  },
  {
   "cell_type": "code",
   "execution_count": 6,
   "id": "e8af6f42",
   "metadata": {},
   "outputs": [],
   "source": [
    "## Encode usedId, movieId\n",
    "user_encoder = LabelEncoder()\n",
    "movie_encoder = LabelEncoder()\n",
    "\n",
    "df_movies[\"movieId\"] = movie_encoder.fit_transform(df_movies[\"movieId\"])\n",
    "df_users[\"userId\"] = user_encoder.fit_transform(df_users[\"userId\"])\n",
    "\n",
    "df_ratings[\"movieId\"] = movie_encoder.transform(df_ratings[\"movieId\"])\n",
    "df_ratings[\"userId\"] = user_encoder.transform(df_ratings[\"userId\"])"
   ]
  },
  {
   "cell_type": "markdown",
   "id": "59ad0c97-ef07-4ea3-a562-2c3e6c9450cd",
   "metadata": {},
   "source": [
    "### Train-test split\n",
    "Methodology: Last user interaction is a test item. The rest is train. Validation part is 20% of test."
   ]
  },
  {
   "cell_type": "code",
   "execution_count": 7,
   "id": "640bea58-f388-4778-8a1b-2622a636eee9",
   "metadata": {},
   "outputs": [],
   "source": [
    "df_ratings[\"rank\"] = (\n",
    "    df_ratings[[\"userId\", \"timestamp\"]]\n",
    "    .groupby(\"userId\", as_index=False)[\"timestamp\"]\n",
    "    .rank(method=\"first\", ascending=False)\n",
    ")\n",
    "# df_ratings = df_ratings.merge(\n",
    "#     pd.DataFrame(df_ratings[\"userId\"].value_counts()).reset_index(),\n",
    "#     how=\"left\", on=\"userId\")\n",
    "# df_ratings[\"cum_position\"] = df_ratings[\"rank\"] / df_ratings[\"count\"]\n",
    "# df_ratings = df_ratings.drop(columns=[\"rank\", \"count\"])"
   ]
  },
  {
   "cell_type": "code",
   "execution_count": 8,
   "id": "457f8830-7393-446f-8e58-74c129e3196e",
   "metadata": {},
   "outputs": [],
   "source": [
    "# leave one out\n",
    "df_train = df_ratings.loc[df_ratings[\"rank\"] != 1].reset_index(drop=True)\n",
    "df_test = (\n",
    "    df_ratings.loc[df_ratings[\"rank\"] == 1].reset_index(drop=True).assign(action=1)\n",
    ")\n",
    "df_test, df_val = train_test_split(df_test, test_size=0.2, random_state=RANDOM_STATE)"
   ]
  },
  {
   "cell_type": "code",
   "execution_count": 10,
   "id": "8273b002-c246-4b04-b806-9b2236d7472d",
   "metadata": {},
   "outputs": [
    {
     "data": {
      "application/vnd.jupyter.widget-view+json": {
       "model_id": "0e137eb9713b40aaa0c1a302e9c5a3c6",
       "version_major": 2,
       "version_minor": 0
      },
      "text/plain": [
       "Enriching test:   0%|          | 0/4832 [00:00<?, ?it/s]"
      ]
     },
     "metadata": {},
     "output_type": "display_data"
    },
    {
     "data": {
      "application/vnd.jupyter.widget-view+json": {
       "model_id": "fe083dc8e01543599f763c54f73cb532",
       "version_major": 2,
       "version_minor": 0
      },
      "text/plain": [
       "Enriching val:   0%|          | 0/1208 [00:00<?, ?it/s]"
      ]
     },
     "metadata": {},
     "output_type": "display_data"
    }
   ],
   "source": [
    "# enrich test data with 100 random movies from the ones not intercated by user\n",
    "df_add = pd.DataFrame()\n",
    "for user in tqdm(df_test.userId.unique(), desc=\"Enriching test\"):\n",
    "    movie = df_test.loc[df_test.userId == user, \"movieId\"]\n",
    "    watched_movies = np.append(\n",
    "        movie, df_train.loc[df_train.userId == user, \"movieId\"].values\n",
    "    )\n",
    "    not_wathed_movies = np.setdiff1d(\n",
    "        np.arange(df_movies[\"movieId\"].max() + 1), watched_movies\n",
    "    )\n",
    "    random_100 = np.random.choice(not_wathed_movies, 100, replace=False)\n",
    "\n",
    "    df_temp = pd.DataFrame().assign(movieId=random_100, userId=user, action=0)\n",
    "    df_add = pd.concat([df_add, df_temp], ignore_index=True)\n",
    "\n",
    "df_test = pd.concat([df_test, df_add], ignore_index=True).drop(\n",
    "    columns=[\"timestamp\", \"rating\", \"rank\"]\n",
    ")\n",
    "\n",
    "df_add = pd.DataFrame()\n",
    "for user in tqdm(df_val.userId.unique(), desc=\"Enriching val\"):\n",
    "    movie = df_val.loc[df_val.userId == user, \"movieId\"]\n",
    "    watched_movies = np.append(\n",
    "        movie, df_train.loc[df_train.userId == user, \"movieId\"].values\n",
    "    )\n",
    "    not_wathed_movies = np.setdiff1d(\n",
    "        np.arange(df_movies[\"movieId\"].max() + 1), watched_movies\n",
    "    )\n",
    "    random_100 = np.random.choice(not_wathed_movies, 100, replace=False)\n",
    "\n",
    "    df_temp = pd.DataFrame().assign(movieId=random_100, userId=user, action=0)\n",
    "    df_add = pd.concat([df_add, df_temp], ignore_index=True)\n",
    "\n",
    "df_val = pd.concat([df_val, df_add], ignore_index=True).drop(\n",
    "    columns=[\"timestamp\", \"rating\", \"rank\"]\n",
    ")"
   ]
  },
  {
   "cell_type": "markdown",
   "id": "2b4eae52-6c42-4514-8a96-6a5412dcbaae",
   "metadata": {},
   "source": [
    "## SVD++"
   ]
  },
  {
   "cell_type": "code",
   "execution_count": 11,
   "id": "4bf4e06a-1a58-42ad-b22f-e3bade9d6713",
   "metadata": {},
   "outputs": [],
   "source": [
    "reader = Reader(rating_scale=(1, 5))\n",
    "data = Dataset.load_from_df(\n",
    "    df_ratings[[\"userId\", \"movieId\", \"rating\"]], reader\n",
    ").build_full_trainset()"
   ]
  },
  {
   "cell_type": "code",
   "execution_count": 12,
   "id": "a916bbaa-4a77-4852-a245-016fbac1ff39",
   "metadata": {},
   "outputs": [
    {
     "name": "stdout",
     "output_type": "stream",
     "text": [
      " processing epoch 0\n",
      " processing epoch 1\n",
      " processing epoch 2\n",
      " processing epoch 3\n",
      " processing epoch 4\n",
      " processing epoch 5\n",
      " processing epoch 6\n",
      " processing epoch 7\n",
      " processing epoch 8\n",
      " processing epoch 9\n",
      " processing epoch 10\n",
      " processing epoch 11\n",
      " processing epoch 12\n",
      " processing epoch 13\n",
      " processing epoch 14\n",
      " processing epoch 15\n",
      " processing epoch 16\n",
      " processing epoch 17\n",
      " processing epoch 18\n",
      " processing epoch 19\n",
      "CPU times: user 2min 10s, sys: 261 ms, total: 2min 10s\n",
      "Wall time: 2min 10s\n"
     ]
    },
    {
     "data": {
      "text/plain": [
       "<surprise.prediction_algorithms.matrix_factorization.SVDpp at 0x1726ec3d0>"
      ]
     },
     "execution_count": 12,
     "metadata": {},
     "output_type": "execute_result"
    }
   ],
   "source": [
    "%%time\n",
    "svdpp = SVDpp(random_state=RANDOM_STATE, verbose=True, cache_ratings=True)\n",
    "svdpp.fit(data)"
   ]
  },
  {
   "cell_type": "code",
   "execution_count": 13,
   "id": "5ce74792-bfa9-40d7-beea-473c267bd5f6",
   "metadata": {},
   "outputs": [
    {
     "name": "stdout",
     "output_type": "stream",
     "text": [
      "CPU times: user 26.5 s, sys: 206 ms, total: 26.7 s\n",
      "Wall time: 26.7 s\n"
     ]
    }
   ],
   "source": [
    "%%time\n",
    "df_test[\"rating_pred\"] = surprise_predict(\n",
    "    svdpp, df_test, usercol=\"userId\", itemcol=\"movieId\", predcol=\"rating\"\n",
    ")[\"rating\"].values"
   ]
  },
  {
   "cell_type": "code",
   "execution_count": 14,
   "id": "c8e4f2cc-f924-408f-9a4c-94b8f2b3f685",
   "metadata": {},
   "outputs": [],
   "source": [
    "pred, target = split_test_df(df_test)"
   ]
  },
  {
   "cell_type": "code",
   "execution_count": 15,
   "id": "dce571cf-972b-4c81-a985-07fb3058a104",
   "metadata": {},
   "outputs": [
    {
     "data": {
      "text/plain": [
       "{'Hit rate @ K': tensor(0.6366), 'NDCG @ K': tensor(0.2331)}"
      ]
     },
     "execution_count": 15,
     "metadata": {},
     "output_type": "execute_result"
    }
   ],
   "source": [
    "reccomendation_report(pred, target, k=50)"
   ]
  }
 ],
 "metadata": {
  "kernelspec": {
   "display_name": "Python 3 (ipykernel)",
   "language": "python",
   "name": "python3"
  },
  "language_info": {
   "codemirror_mode": {
    "name": "ipython",
    "version": 3
   },
   "file_extension": ".py",
   "mimetype": "text/x-python",
   "name": "python",
   "nbconvert_exporter": "python",
   "pygments_lexer": "ipython3",
   "version": "3.10.13"
  }
 },
 "nbformat": 4,
 "nbformat_minor": 5
}
