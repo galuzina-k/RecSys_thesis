{
 "cells": [
  {
   "cell_type": "code",
   "execution_count": 1,
   "id": "2834cbe0-e27a-4649-9846-737e8eb87106",
   "metadata": {},
   "outputs": [
    {
     "data": {
      "text/plain": [
       "'/Users/kristina/Desktop/University/COURSE_WORK/RecSys_thesis/recsysvenv/bin/python3.12'"
      ]
     },
     "execution_count": 1,
     "metadata": {},
     "output_type": "execute_result"
    }
   ],
   "source": [
    "## DO NOT ERASE THIS. IMPORTANT TO CORRECTLY IMPORT MODULES\n",
    "import sys\n",
    "\n",
    "sys.path.append(\"../\")\n",
    "sys.executable"
   ]
  },
  {
   "cell_type": "code",
   "execution_count": 2,
   "id": "8271ee5f-d76d-4a57-874f-52e6718ca63e",
   "metadata": {},
   "outputs": [],
   "source": [
    "import pandas as pd\n",
    "\n",
    "pd.set_option(\"display.max_rows\", 102)\n",
    "from tqdm.auto import tqdm\n",
    "\n",
    "import torch\n",
    "from torch.utils.data import DataLoader, TensorDataset\n",
    "\n",
    "from src.utils import (\n",
    "    load_MovieLens,\n",
    "    create_test_user,\n",
    "    train_test_val_split,\n",
    "    seed_everything,\n",
    "    trainDataset,\n",
    "    split_test_df,\n",
    "    add_not_watched_movies,\n",
    "    create_test_user_display_df,\n",
    ")\n",
    "from src.models import SVDPlusPlus\n",
    "from src.metrics import reccomendation_report"
   ]
  },
  {
   "cell_type": "markdown",
   "id": "2a032ae8",
   "metadata": {},
   "source": [
    "## Constants"
   ]
  },
  {
   "cell_type": "code",
   "execution_count": 3,
   "id": "8de185e7",
   "metadata": {},
   "outputs": [],
   "source": [
    "DATA_FOLDER = \"../../data/ml-1m/\"\n",
    "RANDOM_STATE = 7"
   ]
  },
  {
   "cell_type": "code",
   "execution_count": 4,
   "id": "1136b767-5777-4471-8136-d4a3cdeae7dd",
   "metadata": {},
   "outputs": [],
   "source": [
    "seed_everything(RANDOM_STATE)"
   ]
  },
  {
   "cell_type": "markdown",
   "id": "c0722360",
   "metadata": {},
   "source": [
    "## Data"
   ]
  },
  {
   "cell_type": "code",
   "execution_count": 5,
   "id": "e8ef8f09-310c-4656-bed2-e5570377e28d",
   "metadata": {},
   "outputs": [],
   "source": [
    "df_users, df_movies, df_ratings = load_MovieLens(DATA_FOLDER)"
   ]
  },
  {
   "cell_type": "markdown",
   "id": "f3818b5d-51a8-4a67-8076-2230641f13a2",
   "metadata": {},
   "source": [
    "### Creating a test_user"
   ]
  },
  {
   "cell_type": "code",
   "execution_count": 6,
   "id": "5322c18a-6020-4333-bfb8-e5c08bdef08c",
   "metadata": {},
   "outputs": [
    {
     "name": "stdout",
     "output_type": "stream",
     "text": [
      "Test user watch list:\n"
     ]
    },
    {
     "data": {
      "text/html": [
       "<div>\n",
       "<style scoped>\n",
       "    .dataframe tbody tr th:only-of-type {\n",
       "        vertical-align: middle;\n",
       "    }\n",
       "\n",
       "    .dataframe tbody tr th {\n",
       "        vertical-align: top;\n",
       "    }\n",
       "\n",
       "    .dataframe thead th {\n",
       "        text-align: right;\n",
       "    }\n",
       "</style>\n",
       "<table border=\"1\" class=\"dataframe\">\n",
       "  <thead>\n",
       "    <tr style=\"text-align: right;\">\n",
       "      <th></th>\n",
       "      <th>userId</th>\n",
       "      <th>movieId</th>\n",
       "      <th>rating</th>\n",
       "      <th>timestamp</th>\n",
       "      <th>name</th>\n",
       "      <th>genre</th>\n",
       "    </tr>\n",
       "  </thead>\n",
       "  <tbody>\n",
       "    <tr>\n",
       "      <th>0</th>\n",
       "      <td>6040</td>\n",
       "      <td>6</td>\n",
       "      <td>5</td>\n",
       "      <td>0</td>\n",
       "      <td>Sabrina (1995)</td>\n",
       "      <td>Comedy|Romance</td>\n",
       "    </tr>\n",
       "    <tr>\n",
       "      <th>1</th>\n",
       "      <td>6040</td>\n",
       "      <td>16</td>\n",
       "      <td>5</td>\n",
       "      <td>1</td>\n",
       "      <td>Sense and Sensibility (1995)</td>\n",
       "      <td>Drama|Romance</td>\n",
       "    </tr>\n",
       "    <tr>\n",
       "      <th>2</th>\n",
       "      <td>6040</td>\n",
       "      <td>3192</td>\n",
       "      <td>5</td>\n",
       "      <td>2</td>\n",
       "      <td>Singles (1992)</td>\n",
       "      <td>Comedy|Drama|Romance</td>\n",
       "    </tr>\n",
       "    <tr>\n",
       "      <th>3</th>\n",
       "      <td>6040</td>\n",
       "      <td>1461</td>\n",
       "      <td>5</td>\n",
       "      <td>3</td>\n",
       "      <td>Love and Other Catastrophes (1996)</td>\n",
       "      <td>Romance</td>\n",
       "    </tr>\n",
       "    <tr>\n",
       "      <th>4</th>\n",
       "      <td>6040</td>\n",
       "      <td>827</td>\n",
       "      <td>5</td>\n",
       "      <td>4</td>\n",
       "      <td>Emma (1996)</td>\n",
       "      <td>Comedy|Drama|Romance</td>\n",
       "    </tr>\n",
       "    <tr>\n",
       "      <th>5</th>\n",
       "      <td>6040</td>\n",
       "      <td>887</td>\n",
       "      <td>5</td>\n",
       "      <td>5</td>\n",
       "      <td>Singin' in the Rain (1952)</td>\n",
       "      <td>Musical|Romance</td>\n",
       "    </tr>\n",
       "    <tr>\n",
       "      <th>6</th>\n",
       "      <td>6040</td>\n",
       "      <td>593</td>\n",
       "      <td>5</td>\n",
       "      <td>6</td>\n",
       "      <td>Pretty Woman (1990)</td>\n",
       "      <td>Comedy|Romance</td>\n",
       "    </tr>\n",
       "  </tbody>\n",
       "</table>\n",
       "</div>"
      ],
      "text/plain": [
       "   userId  movieId  rating  timestamp                                name  \\\n",
       "0    6040        6       5          0                      Sabrina (1995)   \n",
       "1    6040       16       5          1        Sense and Sensibility (1995)   \n",
       "2    6040     3192       5          2                      Singles (1992)   \n",
       "3    6040     1461       5          3  Love and Other Catastrophes (1996)   \n",
       "4    6040      827       5          4                         Emma (1996)   \n",
       "5    6040      887       5          5          Singin' in the Rain (1952)   \n",
       "6    6040      593       5          6                 Pretty Woman (1990)   \n",
       "\n",
       "                  genre  \n",
       "0        Comedy|Romance  \n",
       "1         Drama|Romance  \n",
       "2  Comedy|Drama|Romance  \n",
       "3               Romance  \n",
       "4  Comedy|Drama|Romance  \n",
       "5       Musical|Romance  \n",
       "6        Comedy|Romance  "
      ]
     },
     "metadata": {},
     "output_type": "display_data"
    }
   ],
   "source": [
    "df_users, df_ratings, new_user_id = create_test_user(\n",
    "    df_users, df_ratings, [6, 16, 3192, 1461, 827, 887, 593]\n",
    ")\n",
    "print(\"Test user watch list:\")\n",
    "display(df_ratings[df_ratings.userId == new_user_id].merge(df_movies, on=\"movieId\"))"
   ]
  },
  {
   "cell_type": "markdown",
   "id": "59ad0c97-ef07-4ea3-a562-2c3e6c9450cd",
   "metadata": {},
   "source": [
    "### Train-test split\n",
    "Methodology: Last user interaction is a test item. The rest is train. Validation part is 20% of test."
   ]
  },
  {
   "cell_type": "code",
   "execution_count": 7,
   "id": "80d76538-5ab1-4375-82c8-3f60eeacdb33",
   "metadata": {},
   "outputs": [
    {
     "data": {
      "application/vnd.jupyter.widget-view+json": {
       "model_id": "fb396ce9d4d8413b991a8c95c655dd47",
       "version_major": 2,
       "version_minor": 0
      },
      "text/plain": [
       "Enriching test:   0%|          | 0/4832 [00:00<?, ?it/s]"
      ]
     },
     "metadata": {},
     "output_type": "display_data"
    },
    {
     "data": {
      "application/vnd.jupyter.widget-view+json": {
       "model_id": "dd2f3bdc9f614604b037797fea80a4ce",
       "version_major": 2,
       "version_minor": 0
      },
      "text/plain": [
       "Enriching val:   0%|          | 0/1209 [00:00<?, ?it/s]"
      ]
     },
     "metadata": {},
     "output_type": "display_data"
    }
   ],
   "source": [
    "df_train, df_test, df_val = train_test_val_split(df_ratings, df_movies, RANDOM_STATE)"
   ]
  },
  {
   "cell_type": "markdown",
   "id": "0c3c1633-792c-4af4-a9f0-853de045d6b0",
   "metadata": {},
   "source": [
    "### Loading additional data"
   ]
  },
  {
   "cell_type": "code",
   "execution_count": 9,
   "id": "5ccf40f8-7378-4768-b45f-02e83ab4cd0d",
   "metadata": {},
   "outputs": [],
   "source": [
    "# cos_dist = computeCosineSimilarities(df_train, \"userId\", \"movieId\", df_movies[\"movieId\"].nunique())\n",
    "\n",
    "# with open(\"../../data/cos_dist.pt\", \"wb\") as f:\n",
    "#     torch.save(cos_dist, f)\n",
    "\n",
    "with open(\"../../data/cos_dist.pt\", \"rb\") as f:\n",
    "    cos_dist = torch.load(f)\n",
    "popularity = torch.bincount(\n",
    "    torch.tensor(df_train.movieId.values), minlength=df_movies[\"movieId\"].nunique()\n",
    ")\n",
    "popularity = popularity / torch.max(popularity)"
   ]
  },
  {
   "cell_type": "markdown",
   "id": "2b4eae52-6c42-4514-8a96-6a5412dcbaae",
   "metadata": {},
   "source": [
    "## SVD++"
   ]
  },
  {
   "cell_type": "code",
   "execution_count": null,
   "id": "4bf4e06a-1a58-42ad-b22f-e3bade9d6713",
   "metadata": {},
   "outputs": [
    {
     "name": "stdout",
     "output_type": "stream",
     "text": [
      " processing epoch 0\n",
      " processing epoch 1\n",
      " processing epoch 2\n"
     ]
    }
   ],
   "source": [
    "%%time\n",
    "model = SVDPlusPlus(random_state=RANDOM_STATE)\n",
    "model.fit(df_train)"
   ]
  },
  {
   "cell_type": "code",
   "execution_count": null,
   "id": "f85e3415-ffc3-491d-9425-278b07d00ea9",
   "metadata": {},
   "outputs": [],
   "source": [
    "%%time\n",
    "df_test[\"rating_pred\"] = model.predict(df_test)"
   ]
  },
  {
   "cell_type": "code",
   "execution_count": null,
   "id": "cdff4bbb-6654-4177-a6d4-9d94d3b172eb",
   "metadata": {},
   "outputs": [],
   "source": [
    "pred, target, pred_items = split_test_df(\n",
    "    df_test, \"userId\", \"movieId\", \"rating_pred\", \"action\"\n",
    ")"
   ]
  },
  {
   "cell_type": "code",
   "execution_count": null,
   "id": "6dbb5d73-2f7e-4997-83c0-b2e5b3897825",
   "metadata": {},
   "outputs": [],
   "source": [
    "reccomendation_report(pred, target, pred_items, cos_dist, popularity, k=15)"
   ]
  },
  {
   "cell_type": "markdown",
   "id": "ab0aa77d-8379-4ce8-b326-933fa68b5a33",
   "metadata": {},
   "source": [
    "## Test user recommendations"
   ]
  },
  {
   "cell_type": "code",
   "execution_count": null,
   "id": "5897daae-16b2-4f84-9d42-ecc1be693ba8",
   "metadata": {},
   "outputs": [],
   "source": [
    "df_test_user = add_not_watched_movies(new_user_id, df_test, df_train, df_movies)\n",
    "df_test_user[\"rating_pred\"] = model.predict(df_test_user)"
   ]
  },
  {
   "cell_type": "code",
   "execution_count": null,
   "id": "f9cf47f5-adda-4993-b28e-76dd4b2c3635",
   "metadata": {},
   "outputs": [],
   "source": [
    "display(create_test_user_display_df(df_test_user, df_movies))"
   ]
  }
 ],
 "metadata": {
  "kernelspec": {
   "display_name": "Python 3 (ipykernel)",
   "language": "python",
   "name": "python3"
  },
  "language_info": {
   "codemirror_mode": {
    "name": "ipython",
    "version": 3
   },
   "file_extension": ".py",
   "mimetype": "text/x-python",
   "name": "python",
   "nbconvert_exporter": "python",
   "pygments_lexer": "ipython3",
   "version": "3.12.2"
  }
 },
 "nbformat": 4,
 "nbformat_minor": 5
}
