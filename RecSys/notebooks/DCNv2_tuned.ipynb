{
 "cells": [
  {
   "cell_type": "code",
   "execution_count": 1,
   "id": "2834cbe0-e27a-4649-9846-737e8eb87106",
   "metadata": {},
   "outputs": [
    {
     "data": {
      "text/plain": [
       "'/Users/kristina/Desktop/University/COURSE_WORK/RecSys_thesis/recsysvenv/bin/python3.12'"
      ]
     },
     "execution_count": 1,
     "metadata": {},
     "output_type": "execute_result"
    }
   ],
   "source": [
    "## DO NOT ERASE THIS. IMPORTANT TO CORRECTLY IMPORT MODULES\n",
    "import sys\n",
    "\n",
    "sys.path.append(\"../\")\n",
    "sys.executable"
   ]
  },
  {
   "cell_type": "code",
   "execution_count": 2,
   "id": "03d08ba1",
   "metadata": {},
   "outputs": [],
   "source": [
    "import logging\n",
    "from datetime import datetime\n",
    "from pathlib import Path\n",
    "import pandas as pd\n",
    "\n",
    "pd.set_option(\"display.max_rows\", 102)\n",
    "from tqdm.auto import tqdm\n",
    "\n",
    "import torch\n",
    "from torch.utils.data import DataLoader, TensorDataset\n",
    "from sklearn.preprocessing import OrdinalEncoder, StandardScaler\n",
    "\n",
    "import optuna\n",
    "\n",
    "from src.utils import (\n",
    "    load_MovieLens,\n",
    "    train_test_val_split,\n",
    "    seed_everything,\n",
    "    trainDatasetWithNumCatFeatures,\n",
    "    split_test_df,\n",
    "    train,\n",
    "    predict,\n",
    ")\n",
    "from src.models import DCNv2\n",
    "from src.metrics import reccomendation_report"
   ]
  },
  {
   "cell_type": "markdown",
   "id": "2a032ae8",
   "metadata": {},
   "source": [
    "## Constants"
   ]
  },
  {
   "cell_type": "code",
   "execution_count": 3,
   "id": "8de185e7",
   "metadata": {},
   "outputs": [],
   "source": [
    "DATA_FOLDER = \"../../data/ml-1m/\"\n",
    "RANDOM_STATE = 7\n",
    "MODEL_NAME = \"DCNv2\""
   ]
  },
  {
   "cell_type": "code",
   "execution_count": 4,
   "id": "1136b767-5777-4471-8136-d4a3cdeae7dd",
   "metadata": {},
   "outputs": [],
   "source": [
    "seed_everything(RANDOM_STATE)"
   ]
  },
  {
   "cell_type": "markdown",
   "id": "c0722360",
   "metadata": {},
   "source": [
    "## Data"
   ]
  },
  {
   "cell_type": "code",
   "execution_count": 5,
   "id": "084d98fb-79e5-4372-bde2-8662ef0b3d41",
   "metadata": {},
   "outputs": [],
   "source": [
    "# subsample 30% of data for tuning\n",
    "df_users, df_movies, df_ratings = load_MovieLens(DATA_FOLDER, sample_frac=0.3)"
   ]
  },
  {
   "cell_type": "markdown",
   "id": "59ad0c97-ef07-4ea3-a562-2c3e6c9450cd",
   "metadata": {},
   "source": [
    "### Train-test split\n",
    "Methodology: Last user interaction is a test item. The rest is train. Validation part is 20% of test."
   ]
  },
  {
   "cell_type": "code",
   "execution_count": 6,
   "id": "640bea58-f388-4778-8a1b-2622a636eee9",
   "metadata": {},
   "outputs": [
    {
     "data": {
      "application/vnd.jupyter.widget-view+json": {
       "model_id": "77a0a804a90d4d8aaeed378aa202a1f0",
       "version_major": 2,
       "version_minor": 0
      },
      "text/plain": [
       "Enriching test:   0%|          | 0/48 [00:00<?, ?it/s]"
      ]
     },
     "metadata": {},
     "output_type": "display_data"
    },
    {
     "data": {
      "application/vnd.jupyter.widget-view+json": {
       "model_id": "548042ff115445908bc178cd5eb6c87b",
       "version_major": 2,
       "version_minor": 0
      },
      "text/plain": [
       "Enriching val:   0%|          | 0/12 [00:00<?, ?it/s]"
      ]
     },
     "metadata": {},
     "output_type": "display_data"
    }
   ],
   "source": [
    "df_train, df_test, df_val = train_test_val_split(df_ratings, df_movies, RANDOM_STATE)\n",
    "df_test = pd.concat([df_test, df_val], ignore_index=True)"
   ]
  },
  {
   "cell_type": "code",
   "execution_count": 7,
   "id": "52c94401-fe77-4d89-9ab1-3b46e52a745b",
   "metadata": {},
   "outputs": [],
   "source": [
    "num_users = df_users[\"userId\"].nunique()\n",
    "num_items = df_movies[\"movieId\"].nunique()"
   ]
  },
  {
   "cell_type": "markdown",
   "id": "af5990e2-612a-4acc-b55c-986a278eb9d5",
   "metadata": {},
   "source": [
    "### Loading additional data"
   ]
  },
  {
   "cell_type": "code",
   "execution_count": 8,
   "id": "76aedd5b-054e-4408-be64-3f29b982fe2a",
   "metadata": {},
   "outputs": [],
   "source": [
    "# cos_dist = computeCosineSimilarities(df_train, \"userId\", \"movieId\", df_movies[\"movieId\"].nunique())\n",
    "\n",
    "# with open(\"../../data/cos_dist.pt\", \"wb\") as f:\n",
    "#     torch.save(cos_dist, f)\n",
    "\n",
    "with open(\"../../data/cos_dist.pt\", \"rb\") as f:\n",
    "    cos_dist = torch.load(f)\n",
    "popularity = torch.bincount(\n",
    "    torch.tensor(df_train.movieId.values), minlength=df_movies[\"movieId\"].nunique()\n",
    ")\n",
    "popularity = popularity / torch.max(popularity)"
   ]
  },
  {
   "cell_type": "code",
   "execution_count": 9,
   "id": "dd284fa9-0900-481e-a380-735ade3076cd",
   "metadata": {},
   "outputs": [],
   "source": [
    "ord_user = OrdinalEncoder()\n",
    "user_cat = torch.tensor(ord_user.fit_transform(df_users[[\"gender\", \"occupation\"]]))\n",
    "\n",
    "ord_movie = OrdinalEncoder()\n",
    "movie_cat = torch.tensor(ord_movie.fit_transform(df_movies[[\"genre\"]]))\n",
    "\n",
    "ss_user = StandardScaler()\n",
    "user_num = torch.tensor(ss_user.fit_transform(df_users[[\"age\"]]))\n",
    "\n",
    "# features for test\n",
    "user_cat_test = user_cat[df_test[\"userId\"].values].clone().detach().to(torch.long)\n",
    "user_num_test = user_num[df_test[\"userId\"].values].clone().detach().to(torch.float)\n",
    "movie_cat_test = movie_cat[df_test[\"movieId\"].values].clone().detach().to(torch.long)\n",
    "test_cat = torch.hstack((user_cat_test, movie_cat_test))\n",
    "\n",
    "\n",
    "num_numeric_feats = 1\n",
    "cat_feature_vocab = [len(i) for i in ord_user.categories_] + [\n",
    "    len(i) for i in ord_movie.categories_\n",
    "]"
   ]
  },
  {
   "cell_type": "markdown",
   "id": "2dec1527-f30b-4cc2-885c-9d1b94bc085b",
   "metadata": {},
   "source": [
    "## Tuning"
   ]
  },
  {
   "cell_type": "code",
   "execution_count": 10,
   "id": "d9bb21b5-e122-4d54-92a0-f72e6413b6b0",
   "metadata": {},
   "outputs": [],
   "source": [
    "def objective(trial):\n",
    "    # Define range of values to be tested for the hyperparameters\n",
    "    l = trial.suggest_int(\"l\", 1, 25)\n",
    "    n_mlp_layers = trial.suggest_int(\"n_mlp_layers\", 3, 10)\n",
    "    mlp_layers_dim = trial.suggest_discrete_uniform(\"mlp_layers_dim\", 16, 512, 16)\n",
    "    mlp_kwargs_dropout = trial.suggest_categorical(\"mlp_kwargs_dropout\", [True, False])\n",
    "    mlp_kwargs_batchnorm = trial.suggest_categorical(\n",
    "        \"mlp_kwargs_batchnorm\", [True, False]\n",
    "    )\n",
    "    mlp_kwargs_dropout_rate = trial.suggest_float(\"mlp_kwargs_dropout_rate\", 0.1, 0.9)\n",
    "\n",
    "    lr = trial.suggest_float(\"lr\", 1e-4, 5e-3)\n",
    "    n_epochs = trial.suggest_discrete_uniform(\"n_epochs\", 5, 20, 2)\n",
    "\n",
    "    # Generate the model\n",
    "    seed_everything(RANDOM_STATE)\n",
    "    model = DCNv2(\n",
    "        num_users,\n",
    "        num_items,\n",
    "        num_numeric_feats,\n",
    "        cat_feature_vocab,\n",
    "        l=l,\n",
    "        n_mlp_layers=n_mlp_layers,\n",
    "        mlp_layers_dim=int(mlp_layers_dim),\n",
    "        mlp_kwargs={\n",
    "            \"activation\": True,\n",
    "            \"dropout\": mlp_kwargs_dropout,\n",
    "            \"batchnorm\": mlp_kwargs_batchnorm,\n",
    "            \"dropout_rate\": mlp_kwargs_dropout_rate,\n",
    "        },\n",
    "    )\n",
    "\n",
    "    # Generate the optimizers\n",
    "    optimizer = torch.optim.Adam(model.parameters(), lr=lr)\n",
    "    scheduler = torch.optim.lr_scheduler.ExponentialLR(optimizer, gamma=0.8)\n",
    "    criterion = torch.nn.BCELoss()\n",
    "    n_epochs = int(n_epochs)\n",
    "    device = \"cpu\"\n",
    "\n",
    "    # Generate data\n",
    "    seed_everything(RANDOM_STATE)\n",
    "    train_loader = DataLoader(\n",
    "        trainDatasetWithNumCatFeatures(\n",
    "            df_train,\n",
    "            df_movies[\"movieId\"].nunique(),\n",
    "            user_cat,\n",
    "            user_num,\n",
    "            movie_cat,\n",
    "            verbose=False,\n",
    "        ),\n",
    "        batch_size=2048,\n",
    "        shuffle=True,\n",
    "    )\n",
    "    test_loader = DataLoader(\n",
    "        TensorDataset(\n",
    "            torch.tensor(df_test[\"userId\"]),\n",
    "            torch.tensor(df_test[\"movieId\"]),\n",
    "            user_num_test,\n",
    "            test_cat,\n",
    "        ),\n",
    "        batch_size=4096,\n",
    "        shuffle=False,\n",
    "    )\n",
    "\n",
    "    # Train model\n",
    "    train(\n",
    "        model,\n",
    "        train_loader,\n",
    "        optimizer,\n",
    "        scheduler,\n",
    "        criterion,\n",
    "        n_epochs,\n",
    "        verbose=False,\n",
    "    )\n",
    "\n",
    "    # Evaluate\n",
    "    df_test[\"pred\"] = predict(model, test_loader, verbose=False).numpy()\n",
    "    pred, target, pred_items = split_test_df(\n",
    "        df_test, \"userId\", \"movieId\", \"pred\", \"action\"\n",
    "    )\n",
    "    k = 15\n",
    "    hit_rate = reccomendation_report(\n",
    "        pred, target, pred_items, cos_dist, popularity, k=k\n",
    "    )[f\"Hit rate @ {k}\"]\n",
    "\n",
    "    return hit_rate.item()"
   ]
  },
  {
   "cell_type": "code",
   "execution_count": 11,
   "id": "0f1ca204-ebea-4167-b154-153182784b29",
   "metadata": {},
   "outputs": [],
   "source": [
    "# set up logging\n",
    "directory = Path(f\"optuna/{MODEL_NAME}\")\n",
    "if not directory.exists():\n",
    "    directory.mkdir()\n",
    "current_time = datetime.now().strftime(\"%Y-%m-%d_%H-%M-%S\")\n",
    "\n",
    "logger = logging.getLogger(\"optuna\")\n",
    "logger.setLevel(logging.INFO)\n",
    "formatter = logging.Formatter(\"%(asctime)s | %(levelname)s | %(message)s\")\n",
    "file_handler = logging.FileHandler(\n",
    "    f\"{directory.as_posix()}/optuna_logs_{current_time}.log\"\n",
    ")\n",
    "file_handler.setFormatter(formatter)\n",
    "logger.addHandler(file_handler)"
   ]
  },
  {
   "cell_type": "code",
   "execution_count": 13,
   "id": "816c3284-60dc-4d96-a346-bf9c6d51a1b3",
   "metadata": {},
   "outputs": [
    {
     "name": "stderr",
     "output_type": "stream",
     "text": [
      "[I 2024-05-12 19:58:35,220] A new study created in memory with name: no-name-7f5b9e18-3a9a-4f9e-a3c5-cfd4852409ad\n",
      "/var/folders/b2/yfqb1mj945ncbc82gjz4yr7h0000gn/T/ipykernel_68707/1847899092.py:5: FutureWarning: suggest_discrete_uniform has been deprecated in v3.0.0. This feature will be removed in v6.0.0. See https://github.com/optuna/optuna/releases/tag/v3.0.0. Use suggest_float(..., step=...) instead.\n",
      "  mlp_layers_dim = trial.suggest_discrete_uniform(\"mlp_layers_dim\", 16, 512, 16)\n",
      "/var/folders/b2/yfqb1mj945ncbc82gjz4yr7h0000gn/T/ipykernel_68707/1847899092.py:13: FutureWarning: suggest_discrete_uniform has been deprecated in v3.0.0. This feature will be removed in v6.0.0. See https://github.com/optuna/optuna/releases/tag/v3.0.0. Use suggest_float(..., step=...) instead.\n",
      "  n_epochs = trial.suggest_discrete_uniform(\"n_epochs\", 5, 20, 2)\n",
      "/Users/kristina/Desktop/University/COURSE_WORK/RecSys_thesis/recsysvenv/lib/python3.12/site-packages/optuna/distributions.py:685: UserWarning: The distribution is specified by [5, 20] and step=2, but the range is not divisible by `step`. It will be replaced by [5, 19.0].\n",
      "  warnings.warn(\n",
      "[I 2024-05-12 19:58:59,717] Trial 0 finished with value: 0.4333333373069763 and parameters: {'l': 25, 'n_mlp_layers': 4, 'mlp_layers_dim': 144.0, 'mlp_kwargs_dropout': True, 'mlp_kwargs_batchnorm': False, 'mlp_kwargs_dropout_rate': 0.5363591245821298, 'lr': 0.004757231135862841, 'n_epochs': 19.0}. Best is trial 0 with value: 0.4333333373069763.\n",
      "/var/folders/b2/yfqb1mj945ncbc82gjz4yr7h0000gn/T/ipykernel_68707/1847899092.py:5: FutureWarning: suggest_discrete_uniform has been deprecated in v3.0.0. This feature will be removed in v6.0.0. See https://github.com/optuna/optuna/releases/tag/v3.0.0. Use suggest_float(..., step=...) instead.\n",
      "  mlp_layers_dim = trial.suggest_discrete_uniform(\"mlp_layers_dim\", 16, 512, 16)\n",
      "/var/folders/b2/yfqb1mj945ncbc82gjz4yr7h0000gn/T/ipykernel_68707/1847899092.py:13: FutureWarning: suggest_discrete_uniform has been deprecated in v3.0.0. This feature will be removed in v6.0.0. See https://github.com/optuna/optuna/releases/tag/v3.0.0. Use suggest_float(..., step=...) instead.\n",
      "  n_epochs = trial.suggest_discrete_uniform(\"n_epochs\", 5, 20, 2)\n",
      "/Users/kristina/Desktop/University/COURSE_WORK/RecSys_thesis/recsysvenv/lib/python3.12/site-packages/optuna/distributions.py:685: UserWarning: The distribution is specified by [5, 20] and step=2, but the range is not divisible by `step`. It will be replaced by [5, 19.0].\n",
      "  warnings.warn(\n",
      "[I 2024-05-12 19:59:17,876] Trial 1 finished with value: 0.3166666626930237 and parameters: {'l': 16, 'n_mlp_layers': 6, 'mlp_layers_dim': 128.0, 'mlp_kwargs_dropout': False, 'mlp_kwargs_batchnorm': False, 'mlp_kwargs_dropout_rate': 0.7655638706900982, 'lr': 0.0010268780807745853, 'n_epochs': 17.0}. Best is trial 0 with value: 0.4333333373069763.\n",
      "[I 2024-05-12 19:59:27,186] Trial 2 finished with value: 0.28333333134651184 and parameters: {'l': 2, 'n_mlp_layers': 3, 'mlp_layers_dim': 352.0, 'mlp_kwargs_dropout': True, 'mlp_kwargs_batchnorm': False, 'mlp_kwargs_dropout_rate': 0.6846777448345518, 'lr': 0.0014611046909524844, 'n_epochs': 7.0}. Best is trial 0 with value: 0.4333333373069763.\n",
      "[I 2024-05-12 19:59:37,857] Trial 3 finished with value: 0.30000001192092896 and parameters: {'l': 11, 'n_mlp_layers': 6, 'mlp_layers_dim': 80.0, 'mlp_kwargs_dropout': False, 'mlp_kwargs_batchnorm': True, 'mlp_kwargs_dropout_rate': 0.14651591798869967, 'lr': 0.0004952175813562862, 'n_epochs': 11.0}. Best is trial 0 with value: 0.4333333373069763.\n"
     ]
    }
   ],
   "source": [
    "# launch tuning\n",
    "study = optuna.create_study(direction=\"maximize\")\n",
    "study.optimize(objective, timeout=3600)"
   ]
  },
  {
   "cell_type": "code",
   "execution_count": null,
   "id": "94ff9413-28e0-46c0-bc26-98639e5d9130",
   "metadata": {},
   "outputs": [],
   "source": []
  }
 ],
 "metadata": {
  "kernelspec": {
   "display_name": "Python 3 (ipykernel)",
   "language": "python",
   "name": "python3"
  },
  "language_info": {
   "codemirror_mode": {
    "name": "ipython",
    "version": 3
   },
   "file_extension": ".py",
   "mimetype": "text/x-python",
   "name": "python",
   "nbconvert_exporter": "python",
   "pygments_lexer": "ipython3",
   "version": "3.12.2"
  }
 },
 "nbformat": 4,
 "nbformat_minor": 5
}
