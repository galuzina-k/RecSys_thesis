{
 "cells": [
  {
   "cell_type": "code",
   "execution_count": 1,
   "id": "2834cbe0-e27a-4649-9846-737e8eb87106",
   "metadata": {},
   "outputs": [
    {
     "data": {
      "text/plain": [
       "'/Users/kristina/Desktop/University/COURSE_WORK/RecSys_thesis/recsysvenv/bin/python3.12'"
      ]
     },
     "execution_count": 1,
     "metadata": {},
     "output_type": "execute_result"
    }
   ],
   "source": [
    "## DO NOT ERASE THIS. IMPORTANT TO CORRECTLY IMPORT MODULES\n",
    "import sys\n",
    "\n",
    "sys.path.append(\"../\")\n",
    "sys.executable"
   ]
  },
  {
   "cell_type": "code",
   "execution_count": 2,
   "id": "03d08ba1",
   "metadata": {},
   "outputs": [],
   "source": [
    "import pandas as pd\n",
    "\n",
    "pd.set_option(\"display.max_rows\", 102)\n",
    "from tqdm.auto import tqdm\n",
    "\n",
    "import torch\n",
    "from torch.utils.data import DataLoader, TensorDataset\n",
    "\n",
    "from sklearn.preprocessing import OrdinalEncoder, StandardScaler\n",
    "\n",
    "from src.utils import (\n",
    "    load_MovieLens,\n",
    "    create_test_user,\n",
    "    train_test_val_split,\n",
    "    seed_everything,\n",
    "    trainDatasetWithNumCatFeatures,\n",
    "    split_test_df,\n",
    "    add_not_watched_movies,\n",
    "    create_test_user_display_df,\n",
    "    train,\n",
    "    predict,\n",
    ")\n",
    "from src.models import DeepFM\n",
    "from src.metrics import reccomendation_report"
   ]
  },
  {
   "cell_type": "markdown",
   "id": "2a032ae8",
   "metadata": {},
   "source": [
    "## Constants"
   ]
  },
  {
   "cell_type": "code",
   "execution_count": 3,
   "id": "8de185e7",
   "metadata": {},
   "outputs": [],
   "source": [
    "DATA_FOLDER = \"../../data/ml-1m/\"\n",
    "RANDOM_STATE = 7"
   ]
  },
  {
   "cell_type": "code",
   "execution_count": 4,
   "id": "1136b767-5777-4471-8136-d4a3cdeae7dd",
   "metadata": {},
   "outputs": [],
   "source": [
    "seed_everything(RANDOM_STATE)"
   ]
  },
  {
   "cell_type": "markdown",
   "id": "c0722360",
   "metadata": {},
   "source": [
    "## Data"
   ]
  },
  {
   "cell_type": "code",
   "execution_count": 5,
   "id": "084d98fb-79e5-4372-bde2-8662ef0b3d41",
   "metadata": {},
   "outputs": [],
   "source": [
    "df_users, df_movies, df_ratings = load_MovieLens(DATA_FOLDER)"
   ]
  },
  {
   "cell_type": "markdown",
   "id": "177d0b85-4b52-46df-b89f-23c743748f5b",
   "metadata": {},
   "source": [
    "### Creating a test_user"
   ]
  },
  {
   "cell_type": "code",
   "execution_count": 6,
   "id": "eba6aff5-c0e8-491b-8a45-0b681e66b429",
   "metadata": {},
   "outputs": [
    {
     "name": "stdout",
     "output_type": "stream",
     "text": [
      "Test user watch list:\n"
     ]
    },
    {
     "data": {
      "text/html": [
       "<div>\n",
       "<style scoped>\n",
       "    .dataframe tbody tr th:only-of-type {\n",
       "        vertical-align: middle;\n",
       "    }\n",
       "\n",
       "    .dataframe tbody tr th {\n",
       "        vertical-align: top;\n",
       "    }\n",
       "\n",
       "    .dataframe thead th {\n",
       "        text-align: right;\n",
       "    }\n",
       "</style>\n",
       "<table border=\"1\" class=\"dataframe\">\n",
       "  <thead>\n",
       "    <tr style=\"text-align: right;\">\n",
       "      <th></th>\n",
       "      <th>userId</th>\n",
       "      <th>movieId</th>\n",
       "      <th>rating</th>\n",
       "      <th>timestamp</th>\n",
       "      <th>name</th>\n",
       "      <th>genre</th>\n",
       "    </tr>\n",
       "  </thead>\n",
       "  <tbody>\n",
       "    <tr>\n",
       "      <th>0</th>\n",
       "      <td>6040</td>\n",
       "      <td>6</td>\n",
       "      <td>5</td>\n",
       "      <td>0</td>\n",
       "      <td>Sabrina (1995)</td>\n",
       "      <td>Comedy|Romance</td>\n",
       "    </tr>\n",
       "    <tr>\n",
       "      <th>1</th>\n",
       "      <td>6040</td>\n",
       "      <td>16</td>\n",
       "      <td>5</td>\n",
       "      <td>1</td>\n",
       "      <td>Sense and Sensibility (1995)</td>\n",
       "      <td>Drama|Romance</td>\n",
       "    </tr>\n",
       "    <tr>\n",
       "      <th>2</th>\n",
       "      <td>6040</td>\n",
       "      <td>3192</td>\n",
       "      <td>5</td>\n",
       "      <td>2</td>\n",
       "      <td>Singles (1992)</td>\n",
       "      <td>Comedy|Drama|Romance</td>\n",
       "    </tr>\n",
       "    <tr>\n",
       "      <th>3</th>\n",
       "      <td>6040</td>\n",
       "      <td>1461</td>\n",
       "      <td>5</td>\n",
       "      <td>3</td>\n",
       "      <td>Love and Other Catastrophes (1996)</td>\n",
       "      <td>Romance</td>\n",
       "    </tr>\n",
       "    <tr>\n",
       "      <th>4</th>\n",
       "      <td>6040</td>\n",
       "      <td>827</td>\n",
       "      <td>5</td>\n",
       "      <td>4</td>\n",
       "      <td>Emma (1996)</td>\n",
       "      <td>Comedy|Drama|Romance</td>\n",
       "    </tr>\n",
       "    <tr>\n",
       "      <th>5</th>\n",
       "      <td>6040</td>\n",
       "      <td>887</td>\n",
       "      <td>5</td>\n",
       "      <td>5</td>\n",
       "      <td>Singin' in the Rain (1952)</td>\n",
       "      <td>Musical|Romance</td>\n",
       "    </tr>\n",
       "    <tr>\n",
       "      <th>6</th>\n",
       "      <td>6040</td>\n",
       "      <td>593</td>\n",
       "      <td>5</td>\n",
       "      <td>6</td>\n",
       "      <td>Pretty Woman (1990)</td>\n",
       "      <td>Comedy|Romance</td>\n",
       "    </tr>\n",
       "  </tbody>\n",
       "</table>\n",
       "</div>"
      ],
      "text/plain": [
       "   userId  movieId  rating  timestamp                                name  \\\n",
       "0    6040        6       5          0                      Sabrina (1995)   \n",
       "1    6040       16       5          1        Sense and Sensibility (1995)   \n",
       "2    6040     3192       5          2                      Singles (1992)   \n",
       "3    6040     1461       5          3  Love and Other Catastrophes (1996)   \n",
       "4    6040      827       5          4                         Emma (1996)   \n",
       "5    6040      887       5          5          Singin' in the Rain (1952)   \n",
       "6    6040      593       5          6                 Pretty Woman (1990)   \n",
       "\n",
       "                  genre  \n",
       "0        Comedy|Romance  \n",
       "1         Drama|Romance  \n",
       "2  Comedy|Drama|Romance  \n",
       "3               Romance  \n",
       "4  Comedy|Drama|Romance  \n",
       "5       Musical|Romance  \n",
       "6        Comedy|Romance  "
      ]
     },
     "metadata": {},
     "output_type": "display_data"
    }
   ],
   "source": [
    "df_users, df_ratings, new_user_id = create_test_user(\n",
    "    df_users, df_ratings, [6, 16, 3192, 1461, 827, 887, 593]\n",
    ")\n",
    "print(\"Test user watch list:\")\n",
    "display(df_ratings[df_ratings.userId == new_user_id].merge(df_movies, on=\"movieId\"))"
   ]
  },
  {
   "cell_type": "markdown",
   "id": "59ad0c97-ef07-4ea3-a562-2c3e6c9450cd",
   "metadata": {},
   "source": [
    "### Train-test split\n",
    "Methodology: Last user interaction is a test item. The rest is train. Validation part is 20% of test."
   ]
  },
  {
   "cell_type": "code",
   "execution_count": 7,
   "id": "640bea58-f388-4778-8a1b-2622a636eee9",
   "metadata": {},
   "outputs": [
    {
     "data": {
      "application/vnd.jupyter.widget-view+json": {
       "model_id": "3823d6938c8b4fe8a314911a544f78ab",
       "version_major": 2,
       "version_minor": 0
      },
      "text/plain": [
       "Enriching test:   0%|          | 0/4832 [00:00<?, ?it/s]"
      ]
     },
     "metadata": {},
     "output_type": "display_data"
    },
    {
     "data": {
      "application/vnd.jupyter.widget-view+json": {
       "model_id": "0aeaf544668b4bff974e39eb77e94e8d",
       "version_major": 2,
       "version_minor": 0
      },
      "text/plain": [
       "Enriching val:   0%|          | 0/1209 [00:00<?, ?it/s]"
      ]
     },
     "metadata": {},
     "output_type": "display_data"
    }
   ],
   "source": [
    "df_train, df_test, df_val = train_test_val_split(df_ratings, df_movies, RANDOM_STATE)"
   ]
  },
  {
   "cell_type": "markdown",
   "id": "af5990e2-612a-4acc-b55c-986a278eb9d5",
   "metadata": {},
   "source": [
    "### Loading additional data"
   ]
  },
  {
   "cell_type": "code",
   "execution_count": 8,
   "id": "76aedd5b-054e-4408-be64-3f29b982fe2a",
   "metadata": {},
   "outputs": [],
   "source": [
    "# cos_dist = computeCosineSimilarities(df_train, \"userId\", \"movieId\", df_movies[\"movieId\"].nunique())\n",
    "\n",
    "# with open(\"../../data/cos_dist.pt\", \"wb\") as f:\n",
    "#     torch.save(cos_dist, f)\n",
    "\n",
    "with open(\"../../data/cos_dist.pt\", \"rb\") as f:\n",
    "    cos_dist = torch.load(f)\n",
    "popularity = torch.bincount(\n",
    "    torch.tensor(df_train.movieId.values), minlength=df_movies[\"movieId\"].nunique()\n",
    ")\n",
    "popularity = popularity / torch.max(popularity)"
   ]
  },
  {
   "cell_type": "markdown",
   "id": "7b787cb3-fef7-41a0-89c7-9826f477b70f",
   "metadata": {},
   "source": [
    "### Building ordinal encoded features and normalizing continious features"
   ]
  },
  {
   "cell_type": "code",
   "execution_count": 9,
   "id": "50befcd3-47ab-43b8-8134-022b18f8afa1",
   "metadata": {},
   "outputs": [],
   "source": [
    "ord_user = OrdinalEncoder()\n",
    "user_cat = torch.tensor(ord_user.fit_transform(df_users[[\"gender\", \"occupation\"]]))\n",
    "\n",
    "ord_movie = OrdinalEncoder()\n",
    "movie_cat = torch.tensor(ord_movie.fit_transform(df_movies[[\"genre\"]]))\n",
    "\n",
    "ss_user = StandardScaler()\n",
    "user_num = torch.tensor(ss_user.fit_transform(df_users[[\"age\"]]))\n",
    "\n",
    "# features for val\n",
    "user_cat_val = user_cat[df_val[\"userId\"].values].clone().detach().to(torch.long)\n",
    "user_num_val = user_num[df_val[\"userId\"].values].clone().detach().to(torch.float)\n",
    "movie_cat_val = movie_cat[df_val[\"movieId\"].values].clone().detach().to(torch.long)\n",
    "val_cat = torch.hstack((user_cat_val, movie_cat_val))\n",
    "\n",
    "# features for test\n",
    "user_cat_test = user_cat[df_test[\"userId\"].values].clone().detach().to(torch.long)\n",
    "user_num_test = user_num[df_test[\"userId\"].values].clone().detach().to(torch.float)\n",
    "movie_cat_test = movie_cat[df_test[\"movieId\"].values].clone().detach().to(torch.long)\n",
    "test_cat = torch.hstack((user_cat_test, movie_cat_test))\n",
    "\n",
    "\n",
    "num_numeric_feats = 1\n",
    "cat_feature_vocab = [len(i) for i in ord_user.categories_] + [\n",
    "    len(i) for i in ord_movie.categories_\n",
    "]"
   ]
  },
  {
   "cell_type": "markdown",
   "id": "2dec1527-f30b-4cc2-885c-9d1b94bc085b",
   "metadata": {},
   "source": [
    "## DeepFM Best"
   ]
  },
  {
   "cell_type": "code",
   "execution_count": 10,
   "id": "880e8be0-c40a-4095-b551-273067cce92a",
   "metadata": {},
   "outputs": [
    {
     "data": {
      "application/vnd.jupyter.widget-view+json": {
       "model_id": "c6e2f3aa1e804db4ab83968b35bde718",
       "version_major": 2,
       "version_minor": 0
      },
      "text/plain": [
       "  0%|          | 0/994175 [00:00<?, ?it/s]"
      ]
     },
     "metadata": {},
     "output_type": "display_data"
    }
   ],
   "source": [
    "seed_everything(RANDOM_STATE)\n",
    "train_loader = DataLoader(\n",
    "    trainDatasetWithNumCatFeatures(\n",
    "        df_train, df_movies[\"movieId\"].nunique(), user_cat, user_num, movie_cat\n",
    "    ),\n",
    "    batch_size=2048,\n",
    "    shuffle=True,\n",
    ")\n",
    "val_loader = DataLoader(\n",
    "    TensorDataset(\n",
    "        torch.tensor(df_val[\"userId\"]),\n",
    "        torch.tensor(df_val[\"movieId\"]),\n",
    "        user_num_val,\n",
    "        val_cat,\n",
    "    ),\n",
    "    batch_size=4096,\n",
    "    shuffle=False,\n",
    ")\n",
    "test_loader = DataLoader(\n",
    "    TensorDataset(\n",
    "        torch.tensor(df_test[\"userId\"]),\n",
    "        torch.tensor(df_test[\"movieId\"]),\n",
    "        user_num_test,\n",
    "        test_cat,\n",
    "    ),\n",
    "    batch_size=4096,\n",
    "    shuffle=False,\n",
    ")\n",
    "num_users = df_users[\"userId\"].nunique()\n",
    "num_items = df_movies[\"movieId\"].nunique()"
   ]
  },
  {
   "cell_type": "markdown",
   "id": "3b740c72-48b1-4b3f-b307-954e5fc0fba0",
   "metadata": {},
   "source": [
    "**Best hyper parametres combination after tuning:**\n",
    "\n",
    "Trial 2 finished with value: 0.6015452742576599 and parameters: {\n",
    "\n",
    "'n_mlp_layers': 5, \n",
    "\n",
    "'mlp_layers_dim': 416.0, \n",
    "\n",
    "'mlp_kwargs_dropout': False, \n",
    "\n",
    "'mlp_kwargs_batchnorm': True, \n",
    "\n",
    "'mlp_kwargs_dropout_rate': 0.5413210575058315, \n",
    "\n",
    "'lr': 0.00468243880027843, \n",
    "\n",
    "'n_epochs': 15.0\n",
    "\n",
    "}"
   ]
  },
  {
   "cell_type": "code",
   "execution_count": 11,
   "id": "7b612342-63cb-4893-9ae7-ee3674a45035",
   "metadata": {},
   "outputs": [
    {
     "data": {
      "text/plain": [
       "DeepFM(\n",
       "  (user_embedding): Embedding(6041, 5)\n",
       "  (item_embedding): Embedding(3883, 5)\n",
       "  (numerical_embeddings): ModuleList(\n",
       "    (0): MLP(\n",
       "      (block): Sequential(\n",
       "        (Linear): Linear(in_features=1, out_features=5, bias=True)\n",
       "      )\n",
       "    )\n",
       "  )\n",
       "  (categorical_embeddings): ModuleList(\n",
       "    (0): Embedding(2, 5)\n",
       "    (1): Embedding(21, 5)\n",
       "    (2): Embedding(301, 5)\n",
       "  )\n",
       "  (mlp): Sequential(\n",
       "    (MLP_layer_0): MLP(\n",
       "      (block): Sequential(\n",
       "        (Linear): Linear(in_features=30, out_features=416, bias=True)\n",
       "        (Activation): ReLU()\n",
       "        (Dropout): Dropout(p=0.2, inplace=False)\n",
       "        (BatchNorm): BatchNorm1d(416, eps=1e-05, momentum=0.1, affine=True, track_running_stats=True)\n",
       "      )\n",
       "    )\n",
       "    (MLP_layer_1): MLP(\n",
       "      (block): Sequential(\n",
       "        (Linear): Linear(in_features=416, out_features=416, bias=True)\n",
       "        (Activation): ReLU()\n",
       "        (BatchNorm): BatchNorm1d(416, eps=1e-05, momentum=0.1, affine=True, track_running_stats=True)\n",
       "      )\n",
       "    )\n",
       "    (MLP_layer_2): MLP(\n",
       "      (block): Sequential(\n",
       "        (Linear): Linear(in_features=416, out_features=416, bias=True)\n",
       "        (Activation): ReLU()\n",
       "        (BatchNorm): BatchNorm1d(416, eps=1e-05, momentum=0.1, affine=True, track_running_stats=True)\n",
       "      )\n",
       "    )\n",
       "    (MLP_layer_3): MLP(\n",
       "      (block): Sequential(\n",
       "        (Linear): Linear(in_features=416, out_features=416, bias=True)\n",
       "        (Activation): ReLU()\n",
       "        (BatchNorm): BatchNorm1d(416, eps=1e-05, momentum=0.1, affine=True, track_running_stats=True)\n",
       "      )\n",
       "    )\n",
       "    (MLP_layer_4): MLP(\n",
       "      (block): Sequential(\n",
       "        (Linear): Linear(in_features=416, out_features=1, bias=True)\n",
       "        (Activation): ReLU()\n",
       "        (Dropout): Dropout(p=0.2, inplace=False)\n",
       "        (BatchNorm): BatchNorm1d(1, eps=1e-05, momentum=0.1, affine=True, track_running_stats=True)\n",
       "      )\n",
       "    )\n",
       "  )\n",
       "  (fm_linear): MLP(\n",
       "    (block): Sequential(\n",
       "      (Linear): Linear(in_features=325, out_features=1, bias=True)\n",
       "    )\n",
       "  )\n",
       "  (final_sigmoid): Sigmoid()\n",
       ")"
      ]
     },
     "metadata": {},
     "output_type": "display_data"
    }
   ],
   "source": [
    "seed_everything(RANDOM_STATE)\n",
    "dF = DeepFM(\n",
    "    num_users,\n",
    "    num_items,\n",
    "    num_numeric_feats,\n",
    "    cat_feature_vocab,\n",
    "    n_mlp_layers=5,\n",
    "    mlp_layers_dim=416,\n",
    "    mlp_kwargs={\n",
    "        \"activation\": True,\n",
    "        \"dropout\": False,\n",
    "        \"batchnorm\": True,\n",
    "        \"dropout_rate\": 0.54,\n",
    "    },\n",
    ")\n",
    "display(dF)"
   ]
  },
  {
   "cell_type": "code",
   "execution_count": 12,
   "id": "5cbf91a5-facf-453a-8d94-52cc0913b3ef",
   "metadata": {},
   "outputs": [],
   "source": [
    "optimizer = torch.optim.Adam(dF.parameters(), lr=0.0047)\n",
    "scheduler = torch.optim.lr_scheduler.ExponentialLR(optimizer, gamma=0.8)\n",
    "criterion = torch.nn.BCELoss()\n",
    "n_epochs = 15\n",
    "device = \"cpu\""
   ]
  },
  {
   "cell_type": "code",
   "execution_count": 13,
   "id": "99a66394-5747-47a9-8bcc-8640941ea1c4",
   "metadata": {},
   "outputs": [
    {
     "data": {
      "application/vnd.jupyter.widget-view+json": {
       "model_id": "e454356944714c75832034817223ea8a",
       "version_major": 2,
       "version_minor": 0
      },
      "text/plain": [
       "Epochs:   0%|          | 0/15 [00:00<?, ?it/s]"
      ]
     },
     "metadata": {},
     "output_type": "display_data"
    },
    {
     "data": {
      "application/vnd.jupyter.widget-view+json": {
       "model_id": "9ff1eadf4f854bf0a0c82507eefdbc3e",
       "version_major": 2,
       "version_minor": 0
      },
      "text/plain": [
       "  0%|          | 0/2428 [00:00<?, ?batch/s]"
      ]
     },
     "metadata": {},
     "output_type": "display_data"
    },
    {
     "name": "stdout",
     "output_type": "stream",
     "text": [
      "Epoch: 0\n",
      "Train loss: 0.52161\n"
     ]
    },
    {
     "data": {
      "application/vnd.jupyter.widget-view+json": {
       "model_id": "8d89273bb7624e9791fae41301492ecc",
       "version_major": 2,
       "version_minor": 0
      },
      "text/plain": [
       "Inference:   0%|          | 0/30 [00:00<?, ?batch/s]"
      ]
     },
     "metadata": {},
     "output_type": "display_data"
    },
    {
     "name": "stdout",
     "output_type": "stream",
     "text": [
      "{'Hit rate @ 15': tensor(0.5335),\n",
      " 'NDCG @ 15': tensor(0.2509),\n",
      " 'Diversity (ILD)': tensor(0.1331),\n",
      " 'Novelty (EPC)': tensor(0.7194)}\n"
     ]
    },
    {
     "data": {
      "application/vnd.jupyter.widget-view+json": {
       "model_id": "48cdf628447f4f8caeed48e5834f42da",
       "version_major": 2,
       "version_minor": 0
      },
      "text/plain": [
       "  0%|          | 0/2428 [00:00<?, ?batch/s]"
      ]
     },
     "metadata": {},
     "output_type": "display_data"
    },
    {
     "name": "stdout",
     "output_type": "stream",
     "text": [
      "Epoch: 1\n",
      "Train loss: 0.35932\n"
     ]
    },
    {
     "data": {
      "application/vnd.jupyter.widget-view+json": {
       "model_id": "705cc8a4a6d340f5a0a56569c594eb59",
       "version_major": 2,
       "version_minor": 0
      },
      "text/plain": [
       "Inference:   0%|          | 0/30 [00:00<?, ?batch/s]"
      ]
     },
     "metadata": {},
     "output_type": "display_data"
    },
    {
     "name": "stdout",
     "output_type": "stream",
     "text": [
      "{'Hit rate @ 15': tensor(0.5732),\n",
      " 'NDCG @ 15': tensor(0.2729),\n",
      " 'Diversity (ILD)': tensor(0.1332),\n",
      " 'Novelty (EPC)': tensor(0.7215)}\n"
     ]
    },
    {
     "data": {
      "application/vnd.jupyter.widget-view+json": {
       "model_id": "fffbc4cb92d2420f9f9a2c449324d9c4",
       "version_major": 2,
       "version_minor": 0
      },
      "text/plain": [
       "  0%|          | 0/2428 [00:00<?, ?batch/s]"
      ]
     },
     "metadata": {},
     "output_type": "display_data"
    },
    {
     "name": "stdout",
     "output_type": "stream",
     "text": [
      "Epoch: 2\n",
      "Train loss: 0.32875\n"
     ]
    },
    {
     "data": {
      "application/vnd.jupyter.widget-view+json": {
       "model_id": "59187f033ed84b8fba7b9b7294981de7",
       "version_major": 2,
       "version_minor": 0
      },
      "text/plain": [
       "Inference:   0%|          | 0/30 [00:00<?, ?batch/s]"
      ]
     },
     "metadata": {},
     "output_type": "display_data"
    },
    {
     "name": "stdout",
     "output_type": "stream",
     "text": [
      "{'Hit rate @ 15': tensor(0.6203),\n",
      " 'NDCG @ 15': tensor(0.3066),\n",
      " 'Diversity (ILD)': tensor(0.1294),\n",
      " 'Novelty (EPC)': tensor(0.7313)}\n"
     ]
    },
    {
     "data": {
      "application/vnd.jupyter.widget-view+json": {
       "model_id": "843cb15f2ebf4aa38fd20d227c5fddf1",
       "version_major": 2,
       "version_minor": 0
      },
      "text/plain": [
       "  0%|          | 0/2428 [00:00<?, ?batch/s]"
      ]
     },
     "metadata": {},
     "output_type": "display_data"
    },
    {
     "name": "stdout",
     "output_type": "stream",
     "text": [
      "Epoch: 3\n",
      "Train loss: 0.31046\n"
     ]
    },
    {
     "data": {
      "application/vnd.jupyter.widget-view+json": {
       "model_id": "70809674beb3404b9334eee40a862816",
       "version_major": 2,
       "version_minor": 0
      },
      "text/plain": [
       "Inference:   0%|          | 0/30 [00:00<?, ?batch/s]"
      ]
     },
     "metadata": {},
     "output_type": "display_data"
    },
    {
     "name": "stdout",
     "output_type": "stream",
     "text": [
      "{'Hit rate @ 15': tensor(0.6576),\n",
      " 'NDCG @ 15': tensor(0.3287),\n",
      " 'Diversity (ILD)': tensor(0.1281),\n",
      " 'Novelty (EPC)': tensor(0.7359)}\n"
     ]
    },
    {
     "data": {
      "application/vnd.jupyter.widget-view+json": {
       "model_id": "a9e69ac58bf548f8912d0e988c397203",
       "version_major": 2,
       "version_minor": 0
      },
      "text/plain": [
       "  0%|          | 0/2428 [00:00<?, ?batch/s]"
      ]
     },
     "metadata": {},
     "output_type": "display_data"
    },
    {
     "name": "stdout",
     "output_type": "stream",
     "text": [
      "Epoch: 4\n",
      "Train loss: 0.29963\n"
     ]
    },
    {
     "data": {
      "application/vnd.jupyter.widget-view+json": {
       "model_id": "4183adfcbfd44ef399666d4f218e1259",
       "version_major": 2,
       "version_minor": 0
      },
      "text/plain": [
       "Inference:   0%|          | 0/30 [00:00<?, ?batch/s]"
      ]
     },
     "metadata": {},
     "output_type": "display_data"
    },
    {
     "name": "stdout",
     "output_type": "stream",
     "text": [
      "{'Hit rate @ 15': tensor(0.6733),\n",
      " 'NDCG @ 15': tensor(0.3381),\n",
      " 'Diversity (ILD)': tensor(0.1260),\n",
      " 'Novelty (EPC)': tensor(0.7405)}\n"
     ]
    },
    {
     "data": {
      "application/vnd.jupyter.widget-view+json": {
       "model_id": "22ade792111c451899e5b1e0e2549411",
       "version_major": 2,
       "version_minor": 0
      },
      "text/plain": [
       "  0%|          | 0/2428 [00:00<?, ?batch/s]"
      ]
     },
     "metadata": {},
     "output_type": "display_data"
    },
    {
     "name": "stdout",
     "output_type": "stream",
     "text": [
      "Epoch: 5\n",
      "Train loss: 0.2933\n"
     ]
    },
    {
     "data": {
      "application/vnd.jupyter.widget-view+json": {
       "model_id": "0e4b6631628541a3ac901f4b9634a9d8",
       "version_major": 2,
       "version_minor": 0
      },
      "text/plain": [
       "Inference:   0%|          | 0/30 [00:00<?, ?batch/s]"
      ]
     },
     "metadata": {},
     "output_type": "display_data"
    },
    {
     "name": "stdout",
     "output_type": "stream",
     "text": [
      "{'Hit rate @ 15': tensor(0.6824),\n",
      " 'NDCG @ 15': tensor(0.3452),\n",
      " 'Diversity (ILD)': tensor(0.1242),\n",
      " 'Novelty (EPC)': tensor(0.7444)}\n"
     ]
    },
    {
     "data": {
      "application/vnd.jupyter.widget-view+json": {
       "model_id": "e2dde048159b4eafa987aa72564aa1df",
       "version_major": 2,
       "version_minor": 0
      },
      "text/plain": [
       "  0%|          | 0/2428 [00:00<?, ?batch/s]"
      ]
     },
     "metadata": {},
     "output_type": "display_data"
    },
    {
     "name": "stdout",
     "output_type": "stream",
     "text": [
      "Epoch: 6\n",
      "Train loss: 0.28906\n"
     ]
    },
    {
     "data": {
      "application/vnd.jupyter.widget-view+json": {
       "model_id": "293f7f94b61c4c74a9f2decaaa03d3bf",
       "version_major": 2,
       "version_minor": 0
      },
      "text/plain": [
       "Inference:   0%|          | 0/30 [00:00<?, ?batch/s]"
      ]
     },
     "metadata": {},
     "output_type": "display_data"
    },
    {
     "name": "stdout",
     "output_type": "stream",
     "text": [
      "{'Hit rate @ 15': tensor(0.6964),\n",
      " 'NDCG @ 15': tensor(0.3549),\n",
      " 'Diversity (ILD)': tensor(0.1235),\n",
      " 'Novelty (EPC)': tensor(0.7468)}\n"
     ]
    },
    {
     "data": {
      "application/vnd.jupyter.widget-view+json": {
       "model_id": "13b4988af91b4c96bcb71a3894295c97",
       "version_major": 2,
       "version_minor": 0
      },
      "text/plain": [
       "  0%|          | 0/2428 [00:00<?, ?batch/s]"
      ]
     },
     "metadata": {},
     "output_type": "display_data"
    },
    {
     "name": "stdout",
     "output_type": "stream",
     "text": [
      "Epoch: 7\n",
      "Train loss: 0.28611\n"
     ]
    },
    {
     "data": {
      "application/vnd.jupyter.widget-view+json": {
       "model_id": "55f7319fa2e44d918b2dbd16777114bd",
       "version_major": 2,
       "version_minor": 0
      },
      "text/plain": [
       "Inference:   0%|          | 0/30 [00:00<?, ?batch/s]"
      ]
     },
     "metadata": {},
     "output_type": "display_data"
    },
    {
     "name": "stdout",
     "output_type": "stream",
     "text": [
      "{'Hit rate @ 15': tensor(0.7080),\n",
      " 'NDCG @ 15': tensor(0.3548),\n",
      " 'Diversity (ILD)': tensor(0.1225),\n",
      " 'Novelty (EPC)': tensor(0.7483)}\n"
     ]
    },
    {
     "data": {
      "application/vnd.jupyter.widget-view+json": {
       "model_id": "6804f63a971f47d68f8910aa704c5d2c",
       "version_major": 2,
       "version_minor": 0
      },
      "text/plain": [
       "  0%|          | 0/2428 [00:00<?, ?batch/s]"
      ]
     },
     "metadata": {},
     "output_type": "display_data"
    },
    {
     "name": "stdout",
     "output_type": "stream",
     "text": [
      "Epoch: 8\n",
      "Train loss: 0.2838\n"
     ]
    },
    {
     "data": {
      "application/vnd.jupyter.widget-view+json": {
       "model_id": "25047540cf8d4d6d8a49f58c50d57eef",
       "version_major": 2,
       "version_minor": 0
      },
      "text/plain": [
       "Inference:   0%|          | 0/30 [00:00<?, ?batch/s]"
      ]
     },
     "metadata": {},
     "output_type": "display_data"
    },
    {
     "name": "stdout",
     "output_type": "stream",
     "text": [
      "{'Hit rate @ 15': tensor(0.7097),\n",
      " 'NDCG @ 15': tensor(0.3543),\n",
      " 'Diversity (ILD)': tensor(0.1218),\n",
      " 'Novelty (EPC)': tensor(0.7501)}\n"
     ]
    },
    {
     "data": {
      "application/vnd.jupyter.widget-view+json": {
       "model_id": "738106d98cb142849391f5ee32e6f8df",
       "version_major": 2,
       "version_minor": 0
      },
      "text/plain": [
       "  0%|          | 0/2428 [00:00<?, ?batch/s]"
      ]
     },
     "metadata": {},
     "output_type": "display_data"
    },
    {
     "name": "stdout",
     "output_type": "stream",
     "text": [
      "Epoch: 9\n",
      "Train loss: 0.28214\n"
     ]
    },
    {
     "data": {
      "application/vnd.jupyter.widget-view+json": {
       "model_id": "dc58ae1f127f4e68a6fb9cb46ed80f50",
       "version_major": 2,
       "version_minor": 0
      },
      "text/plain": [
       "Inference:   0%|          | 0/30 [00:00<?, ?batch/s]"
      ]
     },
     "metadata": {},
     "output_type": "display_data"
    },
    {
     "name": "stdout",
     "output_type": "stream",
     "text": [
      "{'Hit rate @ 15': tensor(0.7113),\n",
      " 'NDCG @ 15': tensor(0.3619),\n",
      " 'Diversity (ILD)': tensor(0.1217),\n",
      " 'Novelty (EPC)': tensor(0.7486)}\n"
     ]
    },
    {
     "data": {
      "application/vnd.jupyter.widget-view+json": {
       "model_id": "0843aa1ee79c4646b26f33979dc3b4cc",
       "version_major": 2,
       "version_minor": 0
      },
      "text/plain": [
       "  0%|          | 0/2428 [00:00<?, ?batch/s]"
      ]
     },
     "metadata": {},
     "output_type": "display_data"
    },
    {
     "name": "stdout",
     "output_type": "stream",
     "text": [
      "Epoch: 10\n",
      "Train loss: 0.28085\n"
     ]
    },
    {
     "data": {
      "application/vnd.jupyter.widget-view+json": {
       "model_id": "7351f583a5b14bfea731a8943a7338cb",
       "version_major": 2,
       "version_minor": 0
      },
      "text/plain": [
       "Inference:   0%|          | 0/30 [00:00<?, ?batch/s]"
      ]
     },
     "metadata": {},
     "output_type": "display_data"
    },
    {
     "name": "stdout",
     "output_type": "stream",
     "text": [
      "{'Hit rate @ 15': tensor(0.7155),\n",
      " 'NDCG @ 15': tensor(0.3613),\n",
      " 'Diversity (ILD)': tensor(0.1208),\n",
      " 'Novelty (EPC)': tensor(0.7518)}\n"
     ]
    },
    {
     "data": {
      "application/vnd.jupyter.widget-view+json": {
       "model_id": "94e9edf7c4804d7dbd3800ad1ff638d9",
       "version_major": 2,
       "version_minor": 0
      },
      "text/plain": [
       "  0%|          | 0/2428 [00:00<?, ?batch/s]"
      ]
     },
     "metadata": {},
     "output_type": "display_data"
    },
    {
     "name": "stdout",
     "output_type": "stream",
     "text": [
      "Epoch: 11\n",
      "Train loss: 0.27979\n"
     ]
    },
    {
     "data": {
      "application/vnd.jupyter.widget-view+json": {
       "model_id": "cc5b233102764d078a123a43f9d1e833",
       "version_major": 2,
       "version_minor": 0
      },
      "text/plain": [
       "Inference:   0%|          | 0/30 [00:00<?, ?batch/s]"
      ]
     },
     "metadata": {},
     "output_type": "display_data"
    },
    {
     "name": "stdout",
     "output_type": "stream",
     "text": [
      "{'Hit rate @ 15': tensor(0.7146),\n",
      " 'NDCG @ 15': tensor(0.3581),\n",
      " 'Diversity (ILD)': tensor(0.1207),\n",
      " 'Novelty (EPC)': tensor(0.7526)}\n"
     ]
    },
    {
     "data": {
      "application/vnd.jupyter.widget-view+json": {
       "model_id": "fd96be5fc59d470984d58a8b6b61d522",
       "version_major": 2,
       "version_minor": 0
      },
      "text/plain": [
       "  0%|          | 0/2428 [00:00<?, ?batch/s]"
      ]
     },
     "metadata": {},
     "output_type": "display_data"
    },
    {
     "name": "stdout",
     "output_type": "stream",
     "text": [
      "Epoch: 12\n",
      "Train loss: 0.27889\n"
     ]
    },
    {
     "data": {
      "application/vnd.jupyter.widget-view+json": {
       "model_id": "ed398757b09544e3abdbcbe80eb26d8a",
       "version_major": 2,
       "version_minor": 0
      },
      "text/plain": [
       "Inference:   0%|          | 0/30 [00:00<?, ?batch/s]"
      ]
     },
     "metadata": {},
     "output_type": "display_data"
    },
    {
     "name": "stdout",
     "output_type": "stream",
     "text": [
      "{'Hit rate @ 15': tensor(0.7122),\n",
      " 'NDCG @ 15': tensor(0.3596),\n",
      " 'Diversity (ILD)': tensor(0.1204),\n",
      " 'Novelty (EPC)': tensor(0.7532)}\n"
     ]
    },
    {
     "data": {
      "application/vnd.jupyter.widget-view+json": {
       "model_id": "315e0c9634894ac1ab5fe717fec9cd4f",
       "version_major": 2,
       "version_minor": 0
      },
      "text/plain": [
       "  0%|          | 0/2428 [00:00<?, ?batch/s]"
      ]
     },
     "metadata": {},
     "output_type": "display_data"
    },
    {
     "name": "stdout",
     "output_type": "stream",
     "text": [
      "Epoch: 13\n",
      "Train loss: 0.27833\n"
     ]
    },
    {
     "data": {
      "application/vnd.jupyter.widget-view+json": {
       "model_id": "7f5a1b146c6d436499b3259e6040a35b",
       "version_major": 2,
       "version_minor": 0
      },
      "text/plain": [
       "Inference:   0%|          | 0/30 [00:00<?, ?batch/s]"
      ]
     },
     "metadata": {},
     "output_type": "display_data"
    },
    {
     "name": "stdout",
     "output_type": "stream",
     "text": [
      "{'Hit rate @ 15': tensor(0.7146),\n",
      " 'NDCG @ 15': tensor(0.3586),\n",
      " 'Diversity (ILD)': tensor(0.1203),\n",
      " 'Novelty (EPC)': tensor(0.7532)}\n"
     ]
    },
    {
     "data": {
      "application/vnd.jupyter.widget-view+json": {
       "model_id": "1966c50f8a9f4c2d9d94d91dd112e2bd",
       "version_major": 2,
       "version_minor": 0
      },
      "text/plain": [
       "  0%|          | 0/2428 [00:00<?, ?batch/s]"
      ]
     },
     "metadata": {},
     "output_type": "display_data"
    },
    {
     "name": "stdout",
     "output_type": "stream",
     "text": [
      "Epoch: 14\n",
      "Train loss: 0.27778\n"
     ]
    },
    {
     "data": {
      "application/vnd.jupyter.widget-view+json": {
       "model_id": "64e14a8e5d97428fa86e810b4647db23",
       "version_major": 2,
       "version_minor": 0
      },
      "text/plain": [
       "Inference:   0%|          | 0/30 [00:00<?, ?batch/s]"
      ]
     },
     "metadata": {},
     "output_type": "display_data"
    },
    {
     "name": "stdout",
     "output_type": "stream",
     "text": [
      "{'Hit rate @ 15': tensor(0.7089),\n",
      " 'NDCG @ 15': tensor(0.3594),\n",
      " 'Diversity (ILD)': tensor(0.1204),\n",
      " 'Novelty (EPC)': tensor(0.7532)}\n",
      "CPU times: user 1h 34min 14s, sys: 4h 15min 2s, total: 5h 49min 16s\n",
      "Wall time: 38min 50s\n"
     ]
    }
   ],
   "source": [
    "%%time\n",
    "train(\n",
    "    dF,\n",
    "    train_loader,\n",
    "    optimizer,\n",
    "    scheduler,\n",
    "    criterion,\n",
    "    n_epochs,\n",
    "    val_loader=val_loader,\n",
    "    df_val=df_val,\n",
    "    cos_dist=cos_dist,\n",
    "    popularity=popularity,\n",
    "    verbose=True,\n",
    ")"
   ]
  },
  {
   "cell_type": "code",
   "execution_count": 14,
   "id": "0d3aea72-c5c8-47b5-9567-7e6e01519eb9",
   "metadata": {},
   "outputs": [
    {
     "data": {
      "text/plain": [
       "{'Hit rate @ 15': tensor(0.7092),\n",
       " 'NDCG @ 15': tensor(0.3650),\n",
       " 'Diversity (ILD)': tensor(0.1205),\n",
       " 'Novelty (EPC)': tensor(0.7512)}"
      ]
     },
     "execution_count": 14,
     "metadata": {},
     "output_type": "execute_result"
    }
   ],
   "source": [
    "df_test[\"pred\"] = predict(dF, test_loader, verbose=False).numpy()\n",
    "pred, target, pred_items = split_test_df(df_test, \"userId\", \"movieId\", \"pred\", \"action\")\n",
    "reccomendation_report(pred, target, pred_items, cos_dist, popularity, k=15)"
   ]
  },
  {
   "cell_type": "markdown",
   "id": "fe8bfbbf-2eae-4fc1-a08b-53c2505f60b0",
   "metadata": {},
   "source": [
    "## Test user recommendations"
   ]
  },
  {
   "cell_type": "code",
   "execution_count": 15,
   "id": "9eac1de0-1009-4b0c-a160-c5b2fa04ceda",
   "metadata": {},
   "outputs": [],
   "source": [
    "df_test_user = add_not_watched_movies(new_user_id, df_test, df_train, df_movies)\n",
    "\n",
    "# features for test user\n",
    "user_cat_test_user = (\n",
    "    user_cat[df_test_user[\"userId\"].values].clone().detach().to(torch.long)\n",
    ")\n",
    "user_num_test_user = (\n",
    "    user_num[df_test_user[\"userId\"].values].clone().detach().to(torch.float)\n",
    ")\n",
    "movie_cat_test_user = (\n",
    "    movie_cat[df_test_user[\"movieId\"].values].clone().detach().to(torch.long)\n",
    ")\n",
    "test_user_cat = torch.hstack((user_cat_test_user, movie_cat_test_user))\n",
    "\n",
    "test_user_loader = DataLoader(\n",
    "    TensorDataset(\n",
    "        torch.tensor(df_test_user[\"userId\"]),\n",
    "        torch.tensor(df_test_user[\"movieId\"]),\n",
    "        user_num_test_user,\n",
    "        test_user_cat,\n",
    "    ),\n",
    "    batch_size=4096,\n",
    "    shuffle=False,\n",
    ")"
   ]
  },
  {
   "cell_type": "code",
   "execution_count": 16,
   "id": "73cb5232-ec11-4c5b-93d3-d7808424e8cd",
   "metadata": {},
   "outputs": [
    {
     "data": {
      "application/vnd.jupyter.widget-view+json": {
       "model_id": "b19fece0a3b244c4b160b5820b7e9ae8",
       "version_major": 2,
       "version_minor": 0
      },
      "text/plain": [
       "Inference:   0%|          | 0/1 [00:00<?, ?batch/s]"
      ]
     },
     "metadata": {},
     "output_type": "display_data"
    },
    {
     "data": {
      "text/html": [
       "<div>\n",
       "<style scoped>\n",
       "    .dataframe tbody tr th:only-of-type {\n",
       "        vertical-align: middle;\n",
       "    }\n",
       "\n",
       "    .dataframe tbody tr th {\n",
       "        vertical-align: top;\n",
       "    }\n",
       "\n",
       "    .dataframe thead th {\n",
       "        text-align: right;\n",
       "    }\n",
       "</style>\n",
       "<table border=\"1\" class=\"dataframe\">\n",
       "  <thead>\n",
       "    <tr style=\"text-align: right;\">\n",
       "      <th></th>\n",
       "      <th>userId</th>\n",
       "      <th>movieId</th>\n",
       "      <th>name</th>\n",
       "      <th>genre</th>\n",
       "      <th>pred</th>\n",
       "    </tr>\n",
       "  </thead>\n",
       "  <tbody>\n",
       "    <tr>\n",
       "      <th>0</th>\n",
       "      <td>6040</td>\n",
       "      <td>1211</td>\n",
       "      <td>Annie Hall (1977)</td>\n",
       "      <td>Comedy|Romance</td>\n",
       "      <td>0.976902</td>\n",
       "    </tr>\n",
       "    <tr>\n",
       "      <th>1</th>\n",
       "      <td>6040</td>\n",
       "      <td>10</td>\n",
       "      <td>American President, The (1995)</td>\n",
       "      <td>Comedy|Drama|Romance</td>\n",
       "      <td>0.971082</td>\n",
       "    </tr>\n",
       "    <tr>\n",
       "      <th>2</th>\n",
       "      <td>6040</td>\n",
       "      <td>591</td>\n",
       "      <td>Beauty and the Beast (1991)</td>\n",
       "      <td>Animation|Children's|Musical</td>\n",
       "      <td>0.970533</td>\n",
       "    </tr>\n",
       "    <tr>\n",
       "      <th>3</th>\n",
       "      <td>6040</td>\n",
       "      <td>1878</td>\n",
       "      <td>West Side Story (1961)</td>\n",
       "      <td>Musical|Romance</td>\n",
       "      <td>0.958688</td>\n",
       "    </tr>\n",
       "    <tr>\n",
       "      <th>4</th>\n",
       "      <td>6040</td>\n",
       "      <td>2728</td>\n",
       "      <td>Big (1988)</td>\n",
       "      <td>Comedy|Fantasy</td>\n",
       "      <td>0.956907</td>\n",
       "    </tr>\n",
       "    <tr>\n",
       "      <th>5</th>\n",
       "      <td>6040</td>\n",
       "      <td>2018</td>\n",
       "      <td>Peter Pan (1953)</td>\n",
       "      <td>Animation|Children's|Fantasy|Musical</td>\n",
       "      <td>0.938302</td>\n",
       "    </tr>\n",
       "    <tr>\n",
       "      <th>6</th>\n",
       "      <td>6040</td>\n",
       "      <td>1227</td>\n",
       "      <td>Graduate, The (1967)</td>\n",
       "      <td>Drama|Romance</td>\n",
       "      <td>0.932407</td>\n",
       "    </tr>\n",
       "    <tr>\n",
       "      <th>7</th>\n",
       "      <td>6040</td>\n",
       "      <td>2222</td>\n",
       "      <td>Edward Scissorhands (1990)</td>\n",
       "      <td>Drama|Romance</td>\n",
       "      <td>0.927531</td>\n",
       "    </tr>\n",
       "    <tr>\n",
       "      <th>8</th>\n",
       "      <td>6040</td>\n",
       "      <td>1171</td>\n",
       "      <td>Strictly Ballroom (1992)</td>\n",
       "      <td>Comedy|Romance</td>\n",
       "      <td>0.912916</td>\n",
       "    </tr>\n",
       "    <tr>\n",
       "      <th>9</th>\n",
       "      <td>6040</td>\n",
       "      <td>2401</td>\n",
       "      <td>Crocodile Dundee (1986)</td>\n",
       "      <td>Adventure|Comedy</td>\n",
       "      <td>0.908548</td>\n",
       "    </tr>\n",
       "    <tr>\n",
       "      <th>10</th>\n",
       "      <td>6040</td>\n",
       "      <td>3088</td>\n",
       "      <td>Stuart Little (1999)</td>\n",
       "      <td>Children's|Comedy</td>\n",
       "      <td>0.907914</td>\n",
       "    </tr>\n",
       "    <tr>\n",
       "      <th>11</th>\n",
       "      <td>6040</td>\n",
       "      <td>1019</td>\n",
       "      <td>Alice in Wonderland (1951)</td>\n",
       "      <td>Animation|Children's|Musical</td>\n",
       "      <td>0.895465</td>\n",
       "    </tr>\n",
       "    <tr>\n",
       "      <th>12</th>\n",
       "      <td>6040</td>\n",
       "      <td>582</td>\n",
       "      <td>Home Alone (1990)</td>\n",
       "      <td>Children's|Comedy</td>\n",
       "      <td>0.889178</td>\n",
       "    </tr>\n",
       "    <tr>\n",
       "      <th>13</th>\n",
       "      <td>6040</td>\n",
       "      <td>1720</td>\n",
       "      <td>Wedding Singer, The (1998)</td>\n",
       "      <td>Comedy|Romance</td>\n",
       "      <td>0.888719</td>\n",
       "    </tr>\n",
       "    <tr>\n",
       "      <th>14</th>\n",
       "      <td>6040</td>\n",
       "      <td>2252</td>\n",
       "      <td>Pleasantville (1998)</td>\n",
       "      <td>Comedy</td>\n",
       "      <td>0.888628</td>\n",
       "    </tr>\n",
       "    <tr>\n",
       "      <th>15</th>\n",
       "      <td>6040</td>\n",
       "      <td>464</td>\n",
       "      <td>Englishman Who Went Up a Hill, But Came Down a...</td>\n",
       "      <td>Comedy|Romance</td>\n",
       "      <td>0.885045</td>\n",
       "    </tr>\n",
       "    <tr>\n",
       "      <th>16</th>\n",
       "      <td>6040</td>\n",
       "      <td>1270</td>\n",
       "      <td>Some Kind of Wonderful (1987)</td>\n",
       "      <td>Drama|Romance</td>\n",
       "      <td>0.850637</td>\n",
       "    </tr>\n",
       "    <tr>\n",
       "      <th>17</th>\n",
       "      <td>6040</td>\n",
       "      <td>219</td>\n",
       "      <td>Circle of Friends (1995)</td>\n",
       "      <td>Drama|Romance</td>\n",
       "      <td>0.844560</td>\n",
       "    </tr>\n",
       "    <tr>\n",
       "      <th>18</th>\n",
       "      <td>6040</td>\n",
       "      <td>3476</td>\n",
       "      <td>Cabaret (1972)</td>\n",
       "      <td>Musical|War</td>\n",
       "      <td>0.832331</td>\n",
       "    </tr>\n",
       "    <tr>\n",
       "      <th>19</th>\n",
       "      <td>6040</td>\n",
       "      <td>1001</td>\n",
       "      <td>Pollyanna (1960)</td>\n",
       "      <td>Children's|Comedy|Drama</td>\n",
       "      <td>0.816669</td>\n",
       "    </tr>\n",
       "    <tr>\n",
       "      <th>20</th>\n",
       "      <td>6040</td>\n",
       "      <td>3329</td>\n",
       "      <td>Muppets Take Manhattan, The (1984)</td>\n",
       "      <td>Children's|Comedy</td>\n",
       "      <td>0.815139</td>\n",
       "    </tr>\n",
       "    <tr>\n",
       "      <th>21</th>\n",
       "      <td>6040</td>\n",
       "      <td>1018</td>\n",
       "      <td>Bedknobs and Broomsticks (1971)</td>\n",
       "      <td>Adventure|Children's|Musical</td>\n",
       "      <td>0.806526</td>\n",
       "    </tr>\n",
       "    <tr>\n",
       "      <th>22</th>\n",
       "      <td>6040</td>\n",
       "      <td>3480</td>\n",
       "      <td>Guys and Dolls (1955)</td>\n",
       "      <td>Musical</td>\n",
       "      <td>0.797352</td>\n",
       "    </tr>\n",
       "    <tr>\n",
       "      <th>23</th>\n",
       "      <td>6040</td>\n",
       "      <td>1081</td>\n",
       "      <td>E.T. the Extra-Terrestrial (1982)</td>\n",
       "      <td>Children's|Drama|Fantasy|Sci-Fi</td>\n",
       "      <td>0.785567</td>\n",
       "    </tr>\n",
       "    <tr>\n",
       "      <th>24</th>\n",
       "      <td>6040</td>\n",
       "      <td>3328</td>\n",
       "      <td>Great Muppet Caper, The (1981)</td>\n",
       "      <td>Children's|Comedy</td>\n",
       "      <td>0.773449</td>\n",
       "    </tr>\n",
       "    <tr>\n",
       "      <th>25</th>\n",
       "      <td>6040</td>\n",
       "      <td>1078</td>\n",
       "      <td>Crying Game, The (1992)</td>\n",
       "      <td>Drama|Romance|War</td>\n",
       "      <td>0.767434</td>\n",
       "    </tr>\n",
       "    <tr>\n",
       "      <th>26</th>\n",
       "      <td>6040</td>\n",
       "      <td>1393</td>\n",
       "      <td>Evita (1996)</td>\n",
       "      <td>Drama|Musical</td>\n",
       "      <td>0.761140</td>\n",
       "    </tr>\n",
       "    <tr>\n",
       "      <th>27</th>\n",
       "      <td>6040</td>\n",
       "      <td>2877</td>\n",
       "      <td>Help! (1965)</td>\n",
       "      <td>Comedy|Musical</td>\n",
       "      <td>0.757052</td>\n",
       "    </tr>\n",
       "    <tr>\n",
       "      <th>28</th>\n",
       "      <td>6040</td>\n",
       "      <td>1854</td>\n",
       "      <td>There's Something About Mary (1998)</td>\n",
       "      <td>Comedy</td>\n",
       "      <td>0.748933</td>\n",
       "    </tr>\n",
       "    <tr>\n",
       "      <th>29</th>\n",
       "      <td>6040</td>\n",
       "      <td>527</td>\n",
       "      <td>Secret Garden, The (1993)</td>\n",
       "      <td>Children's|Drama</td>\n",
       "      <td>0.745801</td>\n",
       "    </tr>\n",
       "    <tr>\n",
       "      <th>30</th>\n",
       "      <td>6040</td>\n",
       "      <td>139</td>\n",
       "      <td>Birdcage, The (1996)</td>\n",
       "      <td>Comedy</td>\n",
       "      <td>0.744810</td>\n",
       "    </tr>\n",
       "    <tr>\n",
       "      <th>31</th>\n",
       "      <td>6040</td>\n",
       "      <td>925</td>\n",
       "      <td>Love in the Afternoon (1957)</td>\n",
       "      <td>Comedy|Romance</td>\n",
       "      <td>0.720914</td>\n",
       "    </tr>\n",
       "    <tr>\n",
       "      <th>32</th>\n",
       "      <td>6040</td>\n",
       "      <td>1017</td>\n",
       "      <td>Pete's Dragon (1977)</td>\n",
       "      <td>Adventure|Animation|Children's|Musical</td>\n",
       "      <td>0.720180</td>\n",
       "    </tr>\n",
       "    <tr>\n",
       "      <th>33</th>\n",
       "      <td>6040</td>\n",
       "      <td>682</td>\n",
       "      <td>Mrs. Winterbourne (1996)</td>\n",
       "      <td>Comedy|Romance</td>\n",
       "      <td>0.710261</td>\n",
       "    </tr>\n",
       "    <tr>\n",
       "      <th>34</th>\n",
       "      <td>6040</td>\n",
       "      <td>1067</td>\n",
       "      <td>Great Race, The (1965)</td>\n",
       "      <td>Comedy|Musical</td>\n",
       "      <td>0.675233</td>\n",
       "    </tr>\n",
       "    <tr>\n",
       "      <th>35</th>\n",
       "      <td>6040</td>\n",
       "      <td>3215</td>\n",
       "      <td>They Might Be Giants (1971)</td>\n",
       "      <td>Comedy|Romance</td>\n",
       "      <td>0.649621</td>\n",
       "    </tr>\n",
       "    <tr>\n",
       "      <th>36</th>\n",
       "      <td>6040</td>\n",
       "      <td>2325</td>\n",
       "      <td>Prince of Egypt, The (1998)</td>\n",
       "      <td>Animation|Musical</td>\n",
       "      <td>0.635159</td>\n",
       "    </tr>\n",
       "    <tr>\n",
       "      <th>37</th>\n",
       "      <td>6040</td>\n",
       "      <td>1336</td>\n",
       "      <td>Shine (1996)</td>\n",
       "      <td>Drama|Romance</td>\n",
       "      <td>0.616313</td>\n",
       "    </tr>\n",
       "    <tr>\n",
       "      <th>38</th>\n",
       "      <td>6040</td>\n",
       "      <td>2588</td>\n",
       "      <td>Rocky Horror Picture Show, The (1975)</td>\n",
       "      <td>Comedy|Horror|Musical|Sci-Fi</td>\n",
       "      <td>0.613860</td>\n",
       "    </tr>\n",
       "    <tr>\n",
       "      <th>39</th>\n",
       "      <td>6040</td>\n",
       "      <td>1899</td>\n",
       "      <td>Breakfast Club, The (1985)</td>\n",
       "      <td>Comedy|Drama</td>\n",
       "      <td>0.611734</td>\n",
       "    </tr>\n",
       "    <tr>\n",
       "      <th>40</th>\n",
       "      <td>6040</td>\n",
       "      <td>1010</td>\n",
       "      <td>Winnie the Pooh and the Blustery Day (1968)</td>\n",
       "      <td>Animation|Children's</td>\n",
       "      <td>0.568870</td>\n",
       "    </tr>\n",
       "    <tr>\n",
       "      <th>41</th>\n",
       "      <td>6040</td>\n",
       "      <td>1455</td>\n",
       "      <td>Liar Liar (1997)</td>\n",
       "      <td>Comedy</td>\n",
       "      <td>0.566815</td>\n",
       "    </tr>\n",
       "    <tr>\n",
       "      <th>42</th>\n",
       "      <td>6040</td>\n",
       "      <td>3467</td>\n",
       "      <td>Keeping the Faith (2000)</td>\n",
       "      <td>Comedy|Romance</td>\n",
       "      <td>0.565554</td>\n",
       "    </tr>\n",
       "    <tr>\n",
       "      <th>43</th>\n",
       "      <td>6040</td>\n",
       "      <td>2935</td>\n",
       "      <td>Bachelor, The (1999)</td>\n",
       "      <td>Comedy|Romance</td>\n",
       "      <td>0.555027</td>\n",
       "    </tr>\n",
       "    <tr>\n",
       "      <th>44</th>\n",
       "      <td>6040</td>\n",
       "      <td>523</td>\n",
       "      <td>Schindler's List (1993)</td>\n",
       "      <td>Drama|War</td>\n",
       "      <td>0.543198</td>\n",
       "    </tr>\n",
       "    <tr>\n",
       "      <th>45</th>\n",
       "      <td>6040</td>\n",
       "      <td>1499</td>\n",
       "      <td>Shall We Dance? (Shall We Dansu?) (1996)</td>\n",
       "      <td>Comedy</td>\n",
       "      <td>0.524923</td>\n",
       "    </tr>\n",
       "    <tr>\n",
       "      <th>46</th>\n",
       "      <td>6040</td>\n",
       "      <td>2867</td>\n",
       "      <td>Sullivan's Travels (1942)</td>\n",
       "      <td>Comedy</td>\n",
       "      <td>0.517217</td>\n",
       "    </tr>\n",
       "    <tr>\n",
       "      <th>47</th>\n",
       "      <td>6040</td>\n",
       "      <td>2023</td>\n",
       "      <td>Return of Jafar, The (1993)</td>\n",
       "      <td>Animation|Children's|Musical</td>\n",
       "      <td>0.507421</td>\n",
       "    </tr>\n",
       "    <tr>\n",
       "      <th>48</th>\n",
       "      <td>6040</td>\n",
       "      <td>2075</td>\n",
       "      <td>Sixteen Candles (1984)</td>\n",
       "      <td>Comedy</td>\n",
       "      <td>0.506087</td>\n",
       "    </tr>\n",
       "    <tr>\n",
       "      <th>49</th>\n",
       "      <td>6040</td>\n",
       "      <td>719</td>\n",
       "      <td>Cold Comfort Farm (1995)</td>\n",
       "      <td>Comedy</td>\n",
       "      <td>0.505507</td>\n",
       "    </tr>\n",
       "    <tr>\n",
       "      <th>50</th>\n",
       "      <td>6040</td>\n",
       "      <td>1743</td>\n",
       "      <td>Paulie (1998)</td>\n",
       "      <td>Adventure|Children's|Comedy</td>\n",
       "      <td>0.497773</td>\n",
       "    </tr>\n",
       "    <tr>\n",
       "      <th>51</th>\n",
       "      <td>6040</td>\n",
       "      <td>1968</td>\n",
       "      <td>Candleshoe (1977)</td>\n",
       "      <td>Adventure|Children's|Comedy</td>\n",
       "      <td>0.470983</td>\n",
       "    </tr>\n",
       "    <tr>\n",
       "      <th>52</th>\n",
       "      <td>6040</td>\n",
       "      <td>1779</td>\n",
       "      <td>Borrowers, The (1997)</td>\n",
       "      <td>Adventure|Children's|Comedy|Fantasy</td>\n",
       "      <td>0.470316</td>\n",
       "    </tr>\n",
       "    <tr>\n",
       "      <th>53</th>\n",
       "      <td>6040</td>\n",
       "      <td>3443</td>\n",
       "      <td>Return to Me (2000)</td>\n",
       "      <td>Drama|Romance</td>\n",
       "      <td>0.468291</td>\n",
       "    </tr>\n",
       "    <tr>\n",
       "      <th>54</th>\n",
       "      <td>6040</td>\n",
       "      <td>2064</td>\n",
       "      <td>Adventures in Babysitting (1987)</td>\n",
       "      <td>Adventure|Comedy</td>\n",
       "      <td>0.436406</td>\n",
       "    </tr>\n",
       "    <tr>\n",
       "      <th>55</th>\n",
       "      <td>6040</td>\n",
       "      <td>2367</td>\n",
       "      <td>Tea with Mussolini (1999)</td>\n",
       "      <td>Comedy</td>\n",
       "      <td>0.418861</td>\n",
       "    </tr>\n",
       "    <tr>\n",
       "      <th>56</th>\n",
       "      <td>6040</td>\n",
       "      <td>2520</td>\n",
       "      <td>Friends &amp; Lovers (1999)</td>\n",
       "      <td>Comedy|Drama|Romance</td>\n",
       "      <td>0.405133</td>\n",
       "    </tr>\n",
       "    <tr>\n",
       "      <th>57</th>\n",
       "      <td>6040</td>\n",
       "      <td>2220</td>\n",
       "      <td>Player, The (1992)</td>\n",
       "      <td>Comedy|Drama</td>\n",
       "      <td>0.402671</td>\n",
       "    </tr>\n",
       "    <tr>\n",
       "      <th>58</th>\n",
       "      <td>6040</td>\n",
       "      <td>63</td>\n",
       "      <td>Two if by Sea (1996)</td>\n",
       "      <td>Comedy|Romance</td>\n",
       "      <td>0.398598</td>\n",
       "    </tr>\n",
       "    <tr>\n",
       "      <th>59</th>\n",
       "      <td>6040</td>\n",
       "      <td>1551</td>\n",
       "      <td>Air Bud (1997)</td>\n",
       "      <td>Children's|Comedy</td>\n",
       "      <td>0.385467</td>\n",
       "    </tr>\n",
       "    <tr>\n",
       "      <th>60</th>\n",
       "      <td>6040</td>\n",
       "      <td>1457</td>\n",
       "      <td>Selena (1997)</td>\n",
       "      <td>Drama|Musical</td>\n",
       "      <td>0.366582</td>\n",
       "    </tr>\n",
       "    <tr>\n",
       "      <th>61</th>\n",
       "      <td>6040</td>\n",
       "      <td>3438</td>\n",
       "      <td>Odd Couple, The (1968)</td>\n",
       "      <td>Comedy</td>\n",
       "      <td>0.363979</td>\n",
       "    </tr>\n",
       "    <tr>\n",
       "      <th>62</th>\n",
       "      <td>6040</td>\n",
       "      <td>2830</td>\n",
       "      <td>Gulliver's Travels (1939)</td>\n",
       "      <td>Adventure|Animation|Children's</td>\n",
       "      <td>0.360030</td>\n",
       "    </tr>\n",
       "    <tr>\n",
       "      <th>63</th>\n",
       "      <td>6040</td>\n",
       "      <td>2631</td>\n",
       "      <td>South Park: Bigger, Longer and Uncut (1999)</td>\n",
       "      <td>Animation|Comedy</td>\n",
       "      <td>0.346887</td>\n",
       "    </tr>\n",
       "    <tr>\n",
       "      <th>64</th>\n",
       "      <td>6040</td>\n",
       "      <td>443</td>\n",
       "      <td>Favor, The (1994)</td>\n",
       "      <td>Comedy|Romance</td>\n",
       "      <td>0.343700</td>\n",
       "    </tr>\n",
       "    <tr>\n",
       "      <th>65</th>\n",
       "      <td>6040</td>\n",
       "      <td>3414</td>\n",
       "      <td>Road to El Dorado, The (2000)</td>\n",
       "      <td>Animation|Children's</td>\n",
       "      <td>0.328214</td>\n",
       "    </tr>\n",
       "    <tr>\n",
       "      <th>66</th>\n",
       "      <td>6040</td>\n",
       "      <td>1608</td>\n",
       "      <td>FairyTale: A True Story (1997)</td>\n",
       "      <td>Children's|Drama|Fantasy</td>\n",
       "      <td>0.327540</td>\n",
       "    </tr>\n",
       "    <tr>\n",
       "      <th>67</th>\n",
       "      <td>6040</td>\n",
       "      <td>2815</td>\n",
       "      <td>Dog Park (1998)</td>\n",
       "      <td>Comedy|Romance</td>\n",
       "      <td>0.308580</td>\n",
       "    </tr>\n",
       "    <tr>\n",
       "      <th>68</th>\n",
       "      <td>6040</td>\n",
       "      <td>3406</td>\n",
       "      <td>Place in the Sun, A (1951)</td>\n",
       "      <td>Drama|Romance</td>\n",
       "      <td>0.304367</td>\n",
       "    </tr>\n",
       "    <tr>\n",
       "      <th>69</th>\n",
       "      <td>6040</td>\n",
       "      <td>370</td>\n",
       "      <td>Richie Rich (1994)</td>\n",
       "      <td>Children's|Comedy</td>\n",
       "      <td>0.296569</td>\n",
       "    </tr>\n",
       "    <tr>\n",
       "      <th>70</th>\n",
       "      <td>6040</td>\n",
       "      <td>1264</td>\n",
       "      <td>Big Sleep, The (1946)</td>\n",
       "      <td>Film-Noir|Mystery</td>\n",
       "      <td>0.289138</td>\n",
       "    </tr>\n",
       "    <tr>\n",
       "      <th>71</th>\n",
       "      <td>6040</td>\n",
       "      <td>1202</td>\n",
       "      <td>Blues Brothers, The (1980)</td>\n",
       "      <td>Action|Comedy|Musical</td>\n",
       "      <td>0.289110</td>\n",
       "    </tr>\n",
       "    <tr>\n",
       "      <th>72</th>\n",
       "      <td>6040</td>\n",
       "      <td>2384</td>\n",
       "      <td>Boy Who Could Fly, The (1986)</td>\n",
       "      <td>Drama|Fantasy</td>\n",
       "      <td>0.285077</td>\n",
       "    </tr>\n",
       "    <tr>\n",
       "      <th>73</th>\n",
       "      <td>6040</td>\n",
       "      <td>102</td>\n",
       "      <td>Happy Gilmore (1996)</td>\n",
       "      <td>Comedy</td>\n",
       "      <td>0.273330</td>\n",
       "    </tr>\n",
       "    <tr>\n",
       "      <th>74</th>\n",
       "      <td>6040</td>\n",
       "      <td>2874</td>\n",
       "      <td>Indochine (1992)</td>\n",
       "      <td>Drama|Romance</td>\n",
       "      <td>0.271305</td>\n",
       "    </tr>\n",
       "    <tr>\n",
       "      <th>75</th>\n",
       "      <td>6040</td>\n",
       "      <td>919</td>\n",
       "      <td>Spellbound (1945)</td>\n",
       "      <td>Mystery|Romance|Thriller</td>\n",
       "      <td>0.252871</td>\n",
       "    </tr>\n",
       "    <tr>\n",
       "      <th>76</th>\n",
       "      <td>6040</td>\n",
       "      <td>2820</td>\n",
       "      <td>Mystery, Alaska (1999)</td>\n",
       "      <td>Comedy</td>\n",
       "      <td>0.251206</td>\n",
       "    </tr>\n",
       "    <tr>\n",
       "      <th>77</th>\n",
       "      <td>6040</td>\n",
       "      <td>1028</td>\n",
       "      <td>Secrets &amp; Lies (1996)</td>\n",
       "      <td>Drama</td>\n",
       "      <td>0.249680</td>\n",
       "    </tr>\n",
       "    <tr>\n",
       "      <th>78</th>\n",
       "      <td>6040</td>\n",
       "      <td>3745</td>\n",
       "      <td>Love and Death (1975)</td>\n",
       "      <td>Comedy</td>\n",
       "      <td>0.236249</td>\n",
       "    </tr>\n",
       "    <tr>\n",
       "      <th>79</th>\n",
       "      <td>6040</td>\n",
       "      <td>1428</td>\n",
       "      <td>Hotel de Love (1996)</td>\n",
       "      <td>Comedy|Romance</td>\n",
       "      <td>0.234248</td>\n",
       "    </tr>\n",
       "    <tr>\n",
       "      <th>80</th>\n",
       "      <td>6040</td>\n",
       "      <td>3754</td>\n",
       "      <td>Autumn in New York (2000)</td>\n",
       "      <td>Drama|Romance</td>\n",
       "      <td>0.232469</td>\n",
       "    </tr>\n",
       "    <tr>\n",
       "      <th>81</th>\n",
       "      <td>6040</td>\n",
       "      <td>2651</td>\n",
       "      <td>Inspector Gadget (1999)</td>\n",
       "      <td>Action|Adventure|Children's|Comedy</td>\n",
       "      <td>0.231593</td>\n",
       "    </tr>\n",
       "    <tr>\n",
       "      <th>82</th>\n",
       "      <td>6040</td>\n",
       "      <td>2223</td>\n",
       "      <td>Overnight Delivery (1996)</td>\n",
       "      <td>Romance</td>\n",
       "      <td>0.228710</td>\n",
       "    </tr>\n",
       "    <tr>\n",
       "      <th>83</th>\n",
       "      <td>6040</td>\n",
       "      <td>1263</td>\n",
       "      <td>High Noon (1952)</td>\n",
       "      <td>Western</td>\n",
       "      <td>0.227173</td>\n",
       "    </tr>\n",
       "    <tr>\n",
       "      <th>84</th>\n",
       "      <td>6040</td>\n",
       "      <td>2759</td>\n",
       "      <td>Dudley Do-Right (1999)</td>\n",
       "      <td>Children's|Comedy</td>\n",
       "      <td>0.206233</td>\n",
       "    </tr>\n",
       "    <tr>\n",
       "      <th>85</th>\n",
       "      <td>6040</td>\n",
       "      <td>3715</td>\n",
       "      <td>Kid, The (2000)</td>\n",
       "      <td>Comedy</td>\n",
       "      <td>0.205146</td>\n",
       "    </tr>\n",
       "    <tr>\n",
       "      <th>86</th>\n",
       "      <td>6040</td>\n",
       "      <td>1663</td>\n",
       "      <td>Midnight in the Garden of Good and Evil (1997)</td>\n",
       "      <td>Comedy|Crime|Drama|Mystery</td>\n",
       "      <td>0.204176</td>\n",
       "    </tr>\n",
       "    <tr>\n",
       "      <th>87</th>\n",
       "      <td>6040</td>\n",
       "      <td>2505</td>\n",
       "      <td>Out-of-Towners, The (1999)</td>\n",
       "      <td>Comedy</td>\n",
       "      <td>0.202708</td>\n",
       "    </tr>\n",
       "    <tr>\n",
       "      <th>88</th>\n",
       "      <td>6040</td>\n",
       "      <td>1164</td>\n",
       "      <td>Hear My Song (1991)</td>\n",
       "      <td>Comedy</td>\n",
       "      <td>0.194056</td>\n",
       "    </tr>\n",
       "    <tr>\n",
       "      <th>89</th>\n",
       "      <td>6040</td>\n",
       "      <td>665</td>\n",
       "      <td>Mystery Science Theater 3000: The Movie (1996)</td>\n",
       "      <td>Comedy|Sci-Fi</td>\n",
       "      <td>0.188641</td>\n",
       "    </tr>\n",
       "    <tr>\n",
       "      <th>90</th>\n",
       "      <td>6040</td>\n",
       "      <td>368</td>\n",
       "      <td>Reality Bites (1994)</td>\n",
       "      <td>Comedy|Drama</td>\n",
       "      <td>0.188301</td>\n",
       "    </tr>\n",
       "    <tr>\n",
       "      <th>91</th>\n",
       "      <td>6040</td>\n",
       "      <td>1770</td>\n",
       "      <td>My Giant (1998)</td>\n",
       "      <td>Comedy</td>\n",
       "      <td>0.180266</td>\n",
       "    </tr>\n",
       "    <tr>\n",
       "      <th>92</th>\n",
       "      <td>6040</td>\n",
       "      <td>510</td>\n",
       "      <td>Ref, The (1994)</td>\n",
       "      <td>Comedy</td>\n",
       "      <td>0.176834</td>\n",
       "    </tr>\n",
       "    <tr>\n",
       "      <th>93</th>\n",
       "      <td>6040</td>\n",
       "      <td>2808</td>\n",
       "      <td>Tommy (1975)</td>\n",
       "      <td>Drama|Musical</td>\n",
       "      <td>0.171171</td>\n",
       "    </tr>\n",
       "    <tr>\n",
       "      <th>94</th>\n",
       "      <td>6040</td>\n",
       "      <td>2625</td>\n",
       "      <td>Big Daddy (1999)</td>\n",
       "      <td>Comedy</td>\n",
       "      <td>0.170094</td>\n",
       "    </tr>\n",
       "    <tr>\n",
       "      <th>95</th>\n",
       "      <td>6040</td>\n",
       "      <td>3495</td>\n",
       "      <td>Flintstones in Viva Rock Vegas, The (2000)</td>\n",
       "      <td>Children's|Comedy</td>\n",
       "      <td>0.169999</td>\n",
       "    </tr>\n",
       "    <tr>\n",
       "      <th>96</th>\n",
       "      <td>6040</td>\n",
       "      <td>437</td>\n",
       "      <td>Dazed and Confused (1993)</td>\n",
       "      <td>Comedy</td>\n",
       "      <td>0.169764</td>\n",
       "    </tr>\n",
       "    <tr>\n",
       "      <th>97</th>\n",
       "      <td>6040</td>\n",
       "      <td>3525</td>\n",
       "      <td>Center Stage (2000)</td>\n",
       "      <td>Drama</td>\n",
       "      <td>0.169620</td>\n",
       "    </tr>\n",
       "    <tr>\n",
       "      <th>98</th>\n",
       "      <td>6040</td>\n",
       "      <td>1684</td>\n",
       "      <td>Afterglow (1997)</td>\n",
       "      <td>Drama|Romance</td>\n",
       "      <td>0.168752</td>\n",
       "    </tr>\n",
       "    <tr>\n",
       "      <th>99</th>\n",
       "      <td>6040</td>\n",
       "      <td>3841</td>\n",
       "      <td>Best in Show (2000)</td>\n",
       "      <td>Comedy</td>\n",
       "      <td>0.165692</td>\n",
       "    </tr>\n",
       "    <tr>\n",
       "      <th>100</th>\n",
       "      <td>6040</td>\n",
       "      <td>2309</td>\n",
       "      <td>Police Academy (1984)</td>\n",
       "      <td>Comedy</td>\n",
       "      <td>0.161641</td>\n",
       "    </tr>\n",
       "  </tbody>\n",
       "</table>\n",
       "</div>"
      ],
      "text/plain": [
       "     userId  movieId                                               name  \\\n",
       "0      6040     1211                                  Annie Hall (1977)   \n",
       "1      6040       10                     American President, The (1995)   \n",
       "2      6040      591                        Beauty and the Beast (1991)   \n",
       "3      6040     1878                             West Side Story (1961)   \n",
       "4      6040     2728                                         Big (1988)   \n",
       "5      6040     2018                                   Peter Pan (1953)   \n",
       "6      6040     1227                               Graduate, The (1967)   \n",
       "7      6040     2222                         Edward Scissorhands (1990)   \n",
       "8      6040     1171                           Strictly Ballroom (1992)   \n",
       "9      6040     2401                            Crocodile Dundee (1986)   \n",
       "10     6040     3088                               Stuart Little (1999)   \n",
       "11     6040     1019                         Alice in Wonderland (1951)   \n",
       "12     6040      582                                  Home Alone (1990)   \n",
       "13     6040     1720                         Wedding Singer, The (1998)   \n",
       "14     6040     2252                               Pleasantville (1998)   \n",
       "15     6040      464  Englishman Who Went Up a Hill, But Came Down a...   \n",
       "16     6040     1270                      Some Kind of Wonderful (1987)   \n",
       "17     6040      219                           Circle of Friends (1995)   \n",
       "18     6040     3476                                     Cabaret (1972)   \n",
       "19     6040     1001                                   Pollyanna (1960)   \n",
       "20     6040     3329                 Muppets Take Manhattan, The (1984)   \n",
       "21     6040     1018                    Bedknobs and Broomsticks (1971)   \n",
       "22     6040     3480                              Guys and Dolls (1955)   \n",
       "23     6040     1081                  E.T. the Extra-Terrestrial (1982)   \n",
       "24     6040     3328                     Great Muppet Caper, The (1981)   \n",
       "25     6040     1078                            Crying Game, The (1992)   \n",
       "26     6040     1393                                       Evita (1996)   \n",
       "27     6040     2877                                       Help! (1965)   \n",
       "28     6040     1854                There's Something About Mary (1998)   \n",
       "29     6040      527                          Secret Garden, The (1993)   \n",
       "30     6040      139                               Birdcage, The (1996)   \n",
       "31     6040      925                       Love in the Afternoon (1957)   \n",
       "32     6040     1017                               Pete's Dragon (1977)   \n",
       "33     6040      682                           Mrs. Winterbourne (1996)   \n",
       "34     6040     1067                             Great Race, The (1965)   \n",
       "35     6040     3215                        They Might Be Giants (1971)   \n",
       "36     6040     2325                        Prince of Egypt, The (1998)   \n",
       "37     6040     1336                                       Shine (1996)   \n",
       "38     6040     2588              Rocky Horror Picture Show, The (1975)   \n",
       "39     6040     1899                         Breakfast Club, The (1985)   \n",
       "40     6040     1010        Winnie the Pooh and the Blustery Day (1968)   \n",
       "41     6040     1455                                   Liar Liar (1997)   \n",
       "42     6040     3467                           Keeping the Faith (2000)   \n",
       "43     6040     2935                               Bachelor, The (1999)   \n",
       "44     6040      523                            Schindler's List (1993)   \n",
       "45     6040     1499           Shall We Dance? (Shall We Dansu?) (1996)   \n",
       "46     6040     2867                          Sullivan's Travels (1942)   \n",
       "47     6040     2023                        Return of Jafar, The (1993)   \n",
       "48     6040     2075                             Sixteen Candles (1984)   \n",
       "49     6040      719                           Cold Comfort Farm (1995)   \n",
       "50     6040     1743                                      Paulie (1998)   \n",
       "51     6040     1968                                  Candleshoe (1977)   \n",
       "52     6040     1779                              Borrowers, The (1997)   \n",
       "53     6040     3443                                Return to Me (2000)   \n",
       "54     6040     2064                   Adventures in Babysitting (1987)   \n",
       "55     6040     2367                          Tea with Mussolini (1999)   \n",
       "56     6040     2520                            Friends & Lovers (1999)   \n",
       "57     6040     2220                                 Player, The (1992)   \n",
       "58     6040       63                               Two if by Sea (1996)   \n",
       "59     6040     1551                                     Air Bud (1997)   \n",
       "60     6040     1457                                      Selena (1997)   \n",
       "61     6040     3438                             Odd Couple, The (1968)   \n",
       "62     6040     2830                          Gulliver's Travels (1939)   \n",
       "63     6040     2631        South Park: Bigger, Longer and Uncut (1999)   \n",
       "64     6040      443                                  Favor, The (1994)   \n",
       "65     6040     3414                      Road to El Dorado, The (2000)   \n",
       "66     6040     1608                     FairyTale: A True Story (1997)   \n",
       "67     6040     2815                                    Dog Park (1998)   \n",
       "68     6040     3406                         Place in the Sun, A (1951)   \n",
       "69     6040      370                                 Richie Rich (1994)   \n",
       "70     6040     1264                              Big Sleep, The (1946)   \n",
       "71     6040     1202                         Blues Brothers, The (1980)   \n",
       "72     6040     2384                      Boy Who Could Fly, The (1986)   \n",
       "73     6040      102                               Happy Gilmore (1996)   \n",
       "74     6040     2874                                   Indochine (1992)   \n",
       "75     6040      919                                  Spellbound (1945)   \n",
       "76     6040     2820                             Mystery, Alaska (1999)   \n",
       "77     6040     1028                              Secrets & Lies (1996)   \n",
       "78     6040     3745                              Love and Death (1975)   \n",
       "79     6040     1428                               Hotel de Love (1996)   \n",
       "80     6040     3754                          Autumn in New York (2000)   \n",
       "81     6040     2651                            Inspector Gadget (1999)   \n",
       "82     6040     2223                          Overnight Delivery (1996)   \n",
       "83     6040     1263                                   High Noon (1952)   \n",
       "84     6040     2759                             Dudley Do-Right (1999)   \n",
       "85     6040     3715                                    Kid, The (2000)   \n",
       "86     6040     1663     Midnight in the Garden of Good and Evil (1997)   \n",
       "87     6040     2505                         Out-of-Towners, The (1999)   \n",
       "88     6040     1164                                Hear My Song (1991)   \n",
       "89     6040      665     Mystery Science Theater 3000: The Movie (1996)   \n",
       "90     6040      368                               Reality Bites (1994)   \n",
       "91     6040     1770                                    My Giant (1998)   \n",
       "92     6040      510                                    Ref, The (1994)   \n",
       "93     6040     2808                                       Tommy (1975)   \n",
       "94     6040     2625                                   Big Daddy (1999)   \n",
       "95     6040     3495         Flintstones in Viva Rock Vegas, The (2000)   \n",
       "96     6040      437                          Dazed and Confused (1993)   \n",
       "97     6040     3525                                Center Stage (2000)   \n",
       "98     6040     1684                                   Afterglow (1997)   \n",
       "99     6040     3841                                Best in Show (2000)   \n",
       "100    6040     2309                              Police Academy (1984)   \n",
       "\n",
       "                                      genre      pred  \n",
       "0                            Comedy|Romance  0.976902  \n",
       "1                      Comedy|Drama|Romance  0.971082  \n",
       "2              Animation|Children's|Musical  0.970533  \n",
       "3                           Musical|Romance  0.958688  \n",
       "4                            Comedy|Fantasy  0.956907  \n",
       "5      Animation|Children's|Fantasy|Musical  0.938302  \n",
       "6                             Drama|Romance  0.932407  \n",
       "7                             Drama|Romance  0.927531  \n",
       "8                            Comedy|Romance  0.912916  \n",
       "9                          Adventure|Comedy  0.908548  \n",
       "10                        Children's|Comedy  0.907914  \n",
       "11             Animation|Children's|Musical  0.895465  \n",
       "12                        Children's|Comedy  0.889178  \n",
       "13                           Comedy|Romance  0.888719  \n",
       "14                                   Comedy  0.888628  \n",
       "15                           Comedy|Romance  0.885045  \n",
       "16                            Drama|Romance  0.850637  \n",
       "17                            Drama|Romance  0.844560  \n",
       "18                              Musical|War  0.832331  \n",
       "19                  Children's|Comedy|Drama  0.816669  \n",
       "20                        Children's|Comedy  0.815139  \n",
       "21             Adventure|Children's|Musical  0.806526  \n",
       "22                                  Musical  0.797352  \n",
       "23          Children's|Drama|Fantasy|Sci-Fi  0.785567  \n",
       "24                        Children's|Comedy  0.773449  \n",
       "25                        Drama|Romance|War  0.767434  \n",
       "26                            Drama|Musical  0.761140  \n",
       "27                           Comedy|Musical  0.757052  \n",
       "28                                   Comedy  0.748933  \n",
       "29                         Children's|Drama  0.745801  \n",
       "30                                   Comedy  0.744810  \n",
       "31                           Comedy|Romance  0.720914  \n",
       "32   Adventure|Animation|Children's|Musical  0.720180  \n",
       "33                           Comedy|Romance  0.710261  \n",
       "34                           Comedy|Musical  0.675233  \n",
       "35                           Comedy|Romance  0.649621  \n",
       "36                        Animation|Musical  0.635159  \n",
       "37                            Drama|Romance  0.616313  \n",
       "38             Comedy|Horror|Musical|Sci-Fi  0.613860  \n",
       "39                             Comedy|Drama  0.611734  \n",
       "40                     Animation|Children's  0.568870  \n",
       "41                                   Comedy  0.566815  \n",
       "42                           Comedy|Romance  0.565554  \n",
       "43                           Comedy|Romance  0.555027  \n",
       "44                                Drama|War  0.543198  \n",
       "45                                   Comedy  0.524923  \n",
       "46                                   Comedy  0.517217  \n",
       "47             Animation|Children's|Musical  0.507421  \n",
       "48                                   Comedy  0.506087  \n",
       "49                                   Comedy  0.505507  \n",
       "50              Adventure|Children's|Comedy  0.497773  \n",
       "51              Adventure|Children's|Comedy  0.470983  \n",
       "52      Adventure|Children's|Comedy|Fantasy  0.470316  \n",
       "53                            Drama|Romance  0.468291  \n",
       "54                         Adventure|Comedy  0.436406  \n",
       "55                                   Comedy  0.418861  \n",
       "56                     Comedy|Drama|Romance  0.405133  \n",
       "57                             Comedy|Drama  0.402671  \n",
       "58                           Comedy|Romance  0.398598  \n",
       "59                        Children's|Comedy  0.385467  \n",
       "60                            Drama|Musical  0.366582  \n",
       "61                                   Comedy  0.363979  \n",
       "62           Adventure|Animation|Children's  0.360030  \n",
       "63                         Animation|Comedy  0.346887  \n",
       "64                           Comedy|Romance  0.343700  \n",
       "65                     Animation|Children's  0.328214  \n",
       "66                 Children's|Drama|Fantasy  0.327540  \n",
       "67                           Comedy|Romance  0.308580  \n",
       "68                            Drama|Romance  0.304367  \n",
       "69                        Children's|Comedy  0.296569  \n",
       "70                        Film-Noir|Mystery  0.289138  \n",
       "71                    Action|Comedy|Musical  0.289110  \n",
       "72                            Drama|Fantasy  0.285077  \n",
       "73                                   Comedy  0.273330  \n",
       "74                            Drama|Romance  0.271305  \n",
       "75                 Mystery|Romance|Thriller  0.252871  \n",
       "76                                   Comedy  0.251206  \n",
       "77                                    Drama  0.249680  \n",
       "78                                   Comedy  0.236249  \n",
       "79                           Comedy|Romance  0.234248  \n",
       "80                            Drama|Romance  0.232469  \n",
       "81       Action|Adventure|Children's|Comedy  0.231593  \n",
       "82                                  Romance  0.228710  \n",
       "83                                  Western  0.227173  \n",
       "84                        Children's|Comedy  0.206233  \n",
       "85                                   Comedy  0.205146  \n",
       "86               Comedy|Crime|Drama|Mystery  0.204176  \n",
       "87                                   Comedy  0.202708  \n",
       "88                                   Comedy  0.194056  \n",
       "89                            Comedy|Sci-Fi  0.188641  \n",
       "90                             Comedy|Drama  0.188301  \n",
       "91                                   Comedy  0.180266  \n",
       "92                                   Comedy  0.176834  \n",
       "93                            Drama|Musical  0.171171  \n",
       "94                                   Comedy  0.170094  \n",
       "95                        Children's|Comedy  0.169999  \n",
       "96                                   Comedy  0.169764  \n",
       "97                                    Drama  0.169620  \n",
       "98                            Drama|Romance  0.168752  \n",
       "99                                   Comedy  0.165692  \n",
       "100                                  Comedy  0.161641  "
      ]
     },
     "metadata": {},
     "output_type": "display_data"
    }
   ],
   "source": [
    "df_test_user[\"pred\"] = predict(dF, test_user_loader, verbose=True).numpy()\n",
    "display(create_test_user_display_df(df_test_user, df_movies, \"pred\"))"
   ]
  }
 ],
 "metadata": {
  "kernelspec": {
   "display_name": "Python 3 (ipykernel)",
   "language": "python",
   "name": "python3"
  },
  "language_info": {
   "codemirror_mode": {
    "name": "ipython",
    "version": 3
   },
   "file_extension": ".py",
   "mimetype": "text/x-python",
   "name": "python",
   "nbconvert_exporter": "python",
   "pygments_lexer": "ipython3",
   "version": "3.12.2"
  }
 },
 "nbformat": 4,
 "nbformat_minor": 5
}
