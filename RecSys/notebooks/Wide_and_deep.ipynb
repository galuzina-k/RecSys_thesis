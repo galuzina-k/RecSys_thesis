{
 "cells": [
  {
   "cell_type": "code",
   "execution_count": 1,
   "id": "2834cbe0-e27a-4649-9846-737e8eb87106",
   "metadata": {},
   "outputs": [
    {
     "data": {
      "text/plain": [
       "'/Users/kristina/Desktop/University/COURSE_WORK/RecSys_thesis/recsysvenv/bin/python3.12'"
      ]
     },
     "execution_count": 1,
     "metadata": {},
     "output_type": "execute_result"
    }
   ],
   "source": [
    "## DO NOT ERASE THIS. IMPORTANT TO CORRECTLY IMPORT MODULES\n",
    "import sys\n",
    "\n",
    "sys.path.append(\"../\")\n",
    "sys.executable"
   ]
  },
  {
   "cell_type": "code",
   "execution_count": 2,
   "id": "03d08ba1",
   "metadata": {},
   "outputs": [],
   "source": [
    "import pandas as pd\n",
    "\n",
    "pd.set_option(\"display.max_rows\", 102)\n",
    "\n",
    "from tqdm.auto import tqdm\n",
    "import mmh3\n",
    "\n",
    "import torch\n",
    "from torch.utils.data import DataLoader, TensorDataset\n",
    "\n",
    "from src.utils import (\n",
    "    load_MovieLens,\n",
    "    create_test_user,\n",
    "    train_test_val_split,\n",
    "    seed_everything,\n",
    "    trainDatasetWithCrossFeatures,\n",
    "    split_test_df,\n",
    "    add_not_watched_movies,\n",
    "    create_test_user_display_df,\n",
    "    train,\n",
    "    predict,\n",
    ")\n",
    "from src.models import wideAndDeep\n",
    "from src.metrics import reccomendation_report"
   ]
  },
  {
   "cell_type": "markdown",
   "id": "2a032ae8",
   "metadata": {},
   "source": [
    "## Constants"
   ]
  },
  {
   "cell_type": "code",
   "execution_count": 3,
   "id": "8de185e7",
   "metadata": {},
   "outputs": [],
   "source": [
    "DATA_FOLDER = \"../../data/ml-1m/\"\n",
    "RANDOM_STATE = 7"
   ]
  },
  {
   "cell_type": "code",
   "execution_count": 4,
   "id": "1136b767-5777-4471-8136-d4a3cdeae7dd",
   "metadata": {},
   "outputs": [],
   "source": [
    "seed_everything(RANDOM_STATE)"
   ]
  },
  {
   "cell_type": "markdown",
   "id": "c0722360",
   "metadata": {},
   "source": [
    "## Data"
   ]
  },
  {
   "cell_type": "code",
   "execution_count": 5,
   "id": "084d98fb-79e5-4372-bde2-8662ef0b3d41",
   "metadata": {},
   "outputs": [],
   "source": [
    "df_users, df_movies, df_ratings = load_MovieLens(DATA_FOLDER)"
   ]
  },
  {
   "cell_type": "markdown",
   "id": "177d0b85-4b52-46df-b89f-23c743748f5b",
   "metadata": {},
   "source": [
    "### Creating a test_user"
   ]
  },
  {
   "cell_type": "code",
   "execution_count": 6,
   "id": "eba6aff5-c0e8-491b-8a45-0b681e66b429",
   "metadata": {},
   "outputs": [
    {
     "name": "stdout",
     "output_type": "stream",
     "text": [
      "Test user watch list:\n"
     ]
    },
    {
     "data": {
      "text/html": [
       "<div>\n",
       "<style scoped>\n",
       "    .dataframe tbody tr th:only-of-type {\n",
       "        vertical-align: middle;\n",
       "    }\n",
       "\n",
       "    .dataframe tbody tr th {\n",
       "        vertical-align: top;\n",
       "    }\n",
       "\n",
       "    .dataframe thead th {\n",
       "        text-align: right;\n",
       "    }\n",
       "</style>\n",
       "<table border=\"1\" class=\"dataframe\">\n",
       "  <thead>\n",
       "    <tr style=\"text-align: right;\">\n",
       "      <th></th>\n",
       "      <th>userId</th>\n",
       "      <th>movieId</th>\n",
       "      <th>rating</th>\n",
       "      <th>timestamp</th>\n",
       "      <th>name</th>\n",
       "      <th>genre</th>\n",
       "    </tr>\n",
       "  </thead>\n",
       "  <tbody>\n",
       "    <tr>\n",
       "      <th>0</th>\n",
       "      <td>6040</td>\n",
       "      <td>6</td>\n",
       "      <td>5</td>\n",
       "      <td>0</td>\n",
       "      <td>Sabrina (1995)</td>\n",
       "      <td>Comedy|Romance</td>\n",
       "    </tr>\n",
       "    <tr>\n",
       "      <th>1</th>\n",
       "      <td>6040</td>\n",
       "      <td>16</td>\n",
       "      <td>5</td>\n",
       "      <td>1</td>\n",
       "      <td>Sense and Sensibility (1995)</td>\n",
       "      <td>Drama|Romance</td>\n",
       "    </tr>\n",
       "    <tr>\n",
       "      <th>2</th>\n",
       "      <td>6040</td>\n",
       "      <td>3192</td>\n",
       "      <td>5</td>\n",
       "      <td>2</td>\n",
       "      <td>Singles (1992)</td>\n",
       "      <td>Comedy|Drama|Romance</td>\n",
       "    </tr>\n",
       "    <tr>\n",
       "      <th>3</th>\n",
       "      <td>6040</td>\n",
       "      <td>1461</td>\n",
       "      <td>5</td>\n",
       "      <td>3</td>\n",
       "      <td>Love and Other Catastrophes (1996)</td>\n",
       "      <td>Romance</td>\n",
       "    </tr>\n",
       "    <tr>\n",
       "      <th>4</th>\n",
       "      <td>6040</td>\n",
       "      <td>827</td>\n",
       "      <td>5</td>\n",
       "      <td>4</td>\n",
       "      <td>Emma (1996)</td>\n",
       "      <td>Comedy|Drama|Romance</td>\n",
       "    </tr>\n",
       "    <tr>\n",
       "      <th>5</th>\n",
       "      <td>6040</td>\n",
       "      <td>887</td>\n",
       "      <td>5</td>\n",
       "      <td>5</td>\n",
       "      <td>Singin' in the Rain (1952)</td>\n",
       "      <td>Musical|Romance</td>\n",
       "    </tr>\n",
       "    <tr>\n",
       "      <th>6</th>\n",
       "      <td>6040</td>\n",
       "      <td>593</td>\n",
       "      <td>5</td>\n",
       "      <td>6</td>\n",
       "      <td>Pretty Woman (1990)</td>\n",
       "      <td>Comedy|Romance</td>\n",
       "    </tr>\n",
       "  </tbody>\n",
       "</table>\n",
       "</div>"
      ],
      "text/plain": [
       "   userId  movieId  rating  timestamp                                name  \\\n",
       "0    6040        6       5          0                      Sabrina (1995)   \n",
       "1    6040       16       5          1        Sense and Sensibility (1995)   \n",
       "2    6040     3192       5          2                      Singles (1992)   \n",
       "3    6040     1461       5          3  Love and Other Catastrophes (1996)   \n",
       "4    6040      827       5          4                         Emma (1996)   \n",
       "5    6040      887       5          5          Singin' in the Rain (1952)   \n",
       "6    6040      593       5          6                 Pretty Woman (1990)   \n",
       "\n",
       "                  genre  \n",
       "0        Comedy|Romance  \n",
       "1         Drama|Romance  \n",
       "2  Comedy|Drama|Romance  \n",
       "3               Romance  \n",
       "4  Comedy|Drama|Romance  \n",
       "5       Musical|Romance  \n",
       "6        Comedy|Romance  "
      ]
     },
     "metadata": {},
     "output_type": "display_data"
    }
   ],
   "source": [
    "df_users, df_ratings, new_user_id = create_test_user(\n",
    "    df_users, df_ratings, [6, 16, 3192, 1461, 827, 887, 593]\n",
    ")\n",
    "print(\"Test user watch list:\")\n",
    "display(df_ratings[df_ratings.userId == new_user_id].merge(df_movies, on=\"movieId\"))"
   ]
  },
  {
   "cell_type": "markdown",
   "id": "59ad0c97-ef07-4ea3-a562-2c3e6c9450cd",
   "metadata": {},
   "source": [
    "### Train-test split\n",
    "Methodology: Last user interaction is a test item. The rest is train. Validation part is 20% of test."
   ]
  },
  {
   "cell_type": "code",
   "execution_count": 7,
   "id": "640bea58-f388-4778-8a1b-2622a636eee9",
   "metadata": {},
   "outputs": [
    {
     "data": {
      "application/vnd.jupyter.widget-view+json": {
       "model_id": "230df44dfa33457c9631d6c1d8eefb60",
       "version_major": 2,
       "version_minor": 0
      },
      "text/plain": [
       "Enriching test:   0%|          | 0/4832 [00:00<?, ?it/s]"
      ]
     },
     "metadata": {},
     "output_type": "display_data"
    },
    {
     "data": {
      "application/vnd.jupyter.widget-view+json": {
       "model_id": "d36414c5ae0b419286da8cb81b0fe775",
       "version_major": 2,
       "version_minor": 0
      },
      "text/plain": [
       "Enriching val:   0%|          | 0/1209 [00:00<?, ?it/s]"
      ]
     },
     "metadata": {},
     "output_type": "display_data"
    }
   ],
   "source": [
    "df_train, df_test, df_val = train_test_val_split(df_ratings, df_movies, RANDOM_STATE)"
   ]
  },
  {
   "cell_type": "markdown",
   "id": "af5990e2-612a-4acc-b55c-986a278eb9d5",
   "metadata": {},
   "source": [
    "### Loading additional data"
   ]
  },
  {
   "cell_type": "code",
   "execution_count": 8,
   "id": "76aedd5b-054e-4408-be64-3f29b982fe2a",
   "metadata": {},
   "outputs": [],
   "source": [
    "# cos_dist = computeCosineSimilarities(df_train, \"userId\", \"movieId\", df_movies[\"movieId\"].nunique())\n",
    "\n",
    "# with open(\"../../data/cos_dist.pt\", \"wb\") as f:\n",
    "#     torch.save(cos_dist, f)\n",
    "\n",
    "with open(\"../../data/cos_dist.pt\", \"rb\") as f:\n",
    "    cos_dist = torch.load(f)\n",
    "popularity = torch.bincount(\n",
    "    torch.tensor(df_train.movieId.values), minlength=df_movies[\"movieId\"].nunique()\n",
    ")\n",
    "popularity = popularity / torch.max(popularity)"
   ]
  },
  {
   "cell_type": "markdown",
   "id": "8d26f8cd-129a-445a-90fe-d0e515fd5018",
   "metadata": {},
   "source": [
    "### Building cross features"
   ]
  },
  {
   "cell_type": "code",
   "execution_count": 9,
   "id": "f390ac73-e083-4acc-befe-8f9cd5340275",
   "metadata": {},
   "outputs": [],
   "source": [
    "cross_feats_dim = 30\n",
    "df_users[\"combined_feat\"] = (\n",
    "    df_users[\"gender\"].astype(str)\n",
    "    + df_users[\"age\"].astype(str)\n",
    "    + df_users[\"occupation\"].astype(str)\n",
    ")\n",
    "user_features_mapping = {\n",
    "    i: df_users.loc[df_users.userId == i, \"combined_feat\"].values[0]\n",
    "    for i in df_users.userId.unique()\n",
    "}\n",
    "movie_features_mapping = {\n",
    "    i: df_movies.loc[df_movies.movieId == i, \"genre\"].values[0]\n",
    "    for i in df_movies.movieId.unique()\n",
    "}\n",
    "\n",
    "\n",
    "# cross features for test\n",
    "test_idx = (\n",
    "    (\n",
    "        pd.Series(list(map(lambda x: user_features_mapping[x], df_test[\"userId\"])))\n",
    "        + pd.Series(list(map(lambda x: movie_features_mapping[x], df_test[\"movieId\"])))\n",
    "    )\n",
    "    .apply(lambda x: mmh3.hash(x) % cross_feats_dim)\n",
    "    .values\n",
    ")\n",
    "cross_test = torch.zeros(df_test.shape[0], cross_feats_dim)\n",
    "cross_test[torch.arange(cross_test.shape[0]), test_idx] = 1\n",
    "\n",
    "\n",
    "# cross features for val\n",
    "val_idx = (\n",
    "    (\n",
    "        pd.Series(list(map(lambda x: user_features_mapping[x], df_val[\"userId\"])))\n",
    "        + pd.Series(list(map(lambda x: movie_features_mapping[x], df_val[\"movieId\"])))\n",
    "    )\n",
    "    .apply(lambda x: mmh3.hash(x) % cross_feats_dim)\n",
    "    .values\n",
    ")\n",
    "cross_val = torch.zeros(df_val.shape[0], cross_feats_dim)\n",
    "cross_val[torch.arange(cross_val.shape[0]), val_idx] = 1"
   ]
  },
  {
   "cell_type": "markdown",
   "id": "2dec1527-f30b-4cc2-885c-9d1b94bc085b",
   "metadata": {},
   "source": [
    "## Wide-and-Deep"
   ]
  },
  {
   "cell_type": "code",
   "execution_count": 10,
   "id": "880e8be0-c40a-4095-b551-273067cce92a",
   "metadata": {},
   "outputs": [
    {
     "data": {
      "application/vnd.jupyter.widget-view+json": {
       "model_id": "2e4e20ba5c804d4ebfac084f8dd568cf",
       "version_major": 2,
       "version_minor": 0
      },
      "text/plain": [
       "  0%|          | 0/994175 [00:00<?, ?it/s]"
      ]
     },
     "metadata": {},
     "output_type": "display_data"
    },
    {
     "data": {
      "application/vnd.jupyter.widget-view+json": {
       "model_id": "658362d2b9264da4be0aff5ba2e35187",
       "version_major": 2,
       "version_minor": 0
      },
      "text/plain": [
       "  0%|          | 0/4970875 [00:00<?, ?it/s]"
      ]
     },
     "metadata": {},
     "output_type": "display_data"
    }
   ],
   "source": [
    "seed_everything(RANDOM_STATE)\n",
    "train_loader = DataLoader(\n",
    "    trainDatasetWithCrossFeatures(\n",
    "        df_train,\n",
    "        df_movies[\"movieId\"].nunique(),\n",
    "        user_features_mapping,\n",
    "        movie_features_mapping,\n",
    "        hash_bucket_size=cross_feats_dim,\n",
    "    ),\n",
    "    batch_size=2048,\n",
    "    shuffle=True,\n",
    ")\n",
    "val_loader = DataLoader(\n",
    "    TensorDataset(\n",
    "        torch.tensor(df_val[\"userId\"]), torch.tensor(df_val[\"movieId\"]), cross_val\n",
    "    ),\n",
    "    batch_size=4096,\n",
    "    shuffle=False,\n",
    ")\n",
    "test_loader = DataLoader(\n",
    "    TensorDataset(\n",
    "        torch.tensor(df_test[\"userId\"]), torch.tensor(df_test[\"movieId\"]), cross_test\n",
    "    ),\n",
    "    batch_size=4096,\n",
    "    shuffle=False,\n",
    ")\n",
    "num_users = df_users[\"userId\"].nunique()\n",
    "num_items = df_movies[\"movieId\"].nunique()"
   ]
  },
  {
   "cell_type": "code",
   "execution_count": 11,
   "id": "7b612342-63cb-4893-9ae7-ee3674a45035",
   "metadata": {},
   "outputs": [
    {
     "data": {
      "text/plain": [
       "wideAndDeep(\n",
       "  (user_embedding): Embedding(6041, 16)\n",
       "  (item_embedding): Embedding(3883, 16)\n",
       "  (mlp): Sequential(\n",
       "    (MLP_layer_0): MLP(\n",
       "      (block): Sequential(\n",
       "        (Linear): Linear(in_features=32, out_features=32, bias=True)\n",
       "        (Activation): ReLU()\n",
       "        (Dropout): Dropout(p=0.6, inplace=False)\n",
       "        (BatchNorm): BatchNorm1d(32, eps=1e-05, momentum=0.1, affine=True, track_running_stats=True)\n",
       "      )\n",
       "    )\n",
       "    (MLP_layer_1): MLP(\n",
       "      (block): Sequential(\n",
       "        (Linear): Linear(in_features=32, out_features=32, bias=True)\n",
       "        (Activation): ReLU()\n",
       "        (Dropout): Dropout(p=0.6, inplace=False)\n",
       "        (BatchNorm): BatchNorm1d(32, eps=1e-05, momentum=0.1, affine=True, track_running_stats=True)\n",
       "      )\n",
       "    )\n",
       "    (MLP_layer_2): MLP(\n",
       "      (block): Sequential(\n",
       "        (Linear): Linear(in_features=32, out_features=32, bias=True)\n",
       "        (Activation): ReLU()\n",
       "        (Dropout): Dropout(p=0.6, inplace=False)\n",
       "        (BatchNorm): BatchNorm1d(32, eps=1e-05, momentum=0.1, affine=True, track_running_stats=True)\n",
       "      )\n",
       "    )\n",
       "    (MLP_layer_3): MLP(\n",
       "      (block): Sequential(\n",
       "        (Linear): Linear(in_features=32, out_features=32, bias=True)\n",
       "        (Activation): ReLU()\n",
       "        (Dropout): Dropout(p=0.6, inplace=False)\n",
       "        (BatchNorm): BatchNorm1d(32, eps=1e-05, momentum=0.1, affine=True, track_running_stats=True)\n",
       "      )\n",
       "    )\n",
       "  )\n",
       "  (cross): MLP(\n",
       "    (block): Sequential(\n",
       "      (Linear): Linear(in_features=30, out_features=32, bias=True)\n",
       "    )\n",
       "  )\n",
       "  (final): MLP(\n",
       "    (block): Sequential(\n",
       "      (Linear): Linear(in_features=64, out_features=1, bias=True)\n",
       "    )\n",
       "  )\n",
       ")"
      ]
     },
     "metadata": {},
     "output_type": "display_data"
    }
   ],
   "source": [
    "seed_everything(RANDOM_STATE)\n",
    "wd = wideAndDeep(\n",
    "    num_users,\n",
    "    num_items,\n",
    "    cross_feats_dim=cross_feats_dim,\n",
    "    n_mlp_layers=4,\n",
    "    mlp_layers_dim=32,\n",
    "    mlp_kwargs={\n",
    "        \"activation\": True,\n",
    "        \"dropout\": True,\n",
    "        \"batchnorm\": True,\n",
    "        \"dropout_rate\": 0.6,\n",
    "    },\n",
    ")\n",
    "display(wd)"
   ]
  },
  {
   "cell_type": "code",
   "execution_count": 12,
   "id": "5cbf91a5-facf-453a-8d94-52cc0913b3ef",
   "metadata": {},
   "outputs": [],
   "source": [
    "optimizer = torch.optim.Adam(wd.parameters(), lr=3e-3)\n",
    "scheduler = torch.optim.lr_scheduler.ExponentialLR(optimizer, gamma=0.8)\n",
    "criterion = torch.nn.BCELoss()\n",
    "n_epochs = 10\n",
    "device = \"cpu\""
   ]
  },
  {
   "cell_type": "code",
   "execution_count": 13,
   "id": "99a66394-5747-47a9-8bcc-8640941ea1c4",
   "metadata": {},
   "outputs": [
    {
     "data": {
      "application/vnd.jupyter.widget-view+json": {
       "model_id": "1c1a0b6c49dd4255a1cf3bd39d76b97f",
       "version_major": 2,
       "version_minor": 0
      },
      "text/plain": [
       "Epochs:   0%|          | 0/10 [00:00<?, ?it/s]"
      ]
     },
     "metadata": {},
     "output_type": "display_data"
    },
    {
     "data": {
      "application/vnd.jupyter.widget-view+json": {
       "model_id": "492d30ed104d423cbbc04c0107b7ef2c",
       "version_major": 2,
       "version_minor": 0
      },
      "text/plain": [
       "  0%|          | 0/2428 [00:00<?, ?batch/s]"
      ]
     },
     "metadata": {},
     "output_type": "display_data"
    },
    {
     "name": "stdout",
     "output_type": "stream",
     "text": [
      "Epoch: 0\n",
      "Train loss: 0.41626\n"
     ]
    },
    {
     "data": {
      "application/vnd.jupyter.widget-view+json": {
       "model_id": "a76655fad48f44bfa4009829769484f5",
       "version_major": 2,
       "version_minor": 0
      },
      "text/plain": [
       "Inference:   0%|          | 0/30 [00:00<?, ?batch/s]"
      ]
     },
     "metadata": {},
     "output_type": "display_data"
    },
    {
     "name": "stdout",
     "output_type": "stream",
     "text": [
      "{'Hit rate @ 15': tensor(0.5641),\n",
      " 'NDCG @ 15': tensor(0.2395),\n",
      " 'Diversity (ILD)': tensor(0.1430),\n",
      " 'Novelty (EPC)': tensor(0.7244)}\n"
     ]
    },
    {
     "data": {
      "application/vnd.jupyter.widget-view+json": {
       "model_id": "35536030f0ab4f519c239135b5414477",
       "version_major": 2,
       "version_minor": 0
      },
      "text/plain": [
       "  0%|          | 0/2428 [00:00<?, ?batch/s]"
      ]
     },
     "metadata": {},
     "output_type": "display_data"
    },
    {
     "name": "stdout",
     "output_type": "stream",
     "text": [
      "Epoch: 1\n",
      "Train loss: 0.37823\n"
     ]
    },
    {
     "data": {
      "application/vnd.jupyter.widget-view+json": {
       "model_id": "ce9017513c3448488856e60f91977e22",
       "version_major": 2,
       "version_minor": 0
      },
      "text/plain": [
       "Inference:   0%|          | 0/30 [00:00<?, ?batch/s]"
      ]
     },
     "metadata": {},
     "output_type": "display_data"
    },
    {
     "name": "stdout",
     "output_type": "stream",
     "text": [
      "{'Hit rate @ 15': tensor(0.5699),\n",
      " 'NDCG @ 15': tensor(0.2529),\n",
      " 'Diversity (ILD)': tensor(0.1439),\n",
      " 'Novelty (EPC)': tensor(0.7083)}\n"
     ]
    },
    {
     "data": {
      "application/vnd.jupyter.widget-view+json": {
       "model_id": "c7580e2aec324505879a838bc7d3d234",
       "version_major": 2,
       "version_minor": 0
      },
      "text/plain": [
       "  0%|          | 0/2428 [00:00<?, ?batch/s]"
      ]
     },
     "metadata": {},
     "output_type": "display_data"
    },
    {
     "name": "stdout",
     "output_type": "stream",
     "text": [
      "Epoch: 2\n",
      "Train loss: 0.37445\n"
     ]
    },
    {
     "data": {
      "application/vnd.jupyter.widget-view+json": {
       "model_id": "fe2ad67896ef4062a264854294e74012",
       "version_major": 2,
       "version_minor": 0
      },
      "text/plain": [
       "Inference:   0%|          | 0/30 [00:00<?, ?batch/s]"
      ]
     },
     "metadata": {},
     "output_type": "display_data"
    },
    {
     "name": "stdout",
     "output_type": "stream",
     "text": [
      "{'Hit rate @ 15': tensor(0.5691),\n",
      " 'NDCG @ 15': tensor(0.2525),\n",
      " 'Diversity (ILD)': tensor(0.1442),\n",
      " 'Novelty (EPC)': tensor(0.7103)}\n"
     ]
    },
    {
     "data": {
      "application/vnd.jupyter.widget-view+json": {
       "model_id": "eb756b6ce596419ca84a3c7dd4c84b3b",
       "version_major": 2,
       "version_minor": 0
      },
      "text/plain": [
       "  0%|          | 0/2428 [00:00<?, ?batch/s]"
      ]
     },
     "metadata": {},
     "output_type": "display_data"
    },
    {
     "name": "stdout",
     "output_type": "stream",
     "text": [
      "Epoch: 3\n",
      "Train loss: 0.37279\n"
     ]
    },
    {
     "data": {
      "application/vnd.jupyter.widget-view+json": {
       "model_id": "2dca93a8d6e14a7092fec6b8b039c548",
       "version_major": 2,
       "version_minor": 0
      },
      "text/plain": [
       "Inference:   0%|          | 0/30 [00:00<?, ?batch/s]"
      ]
     },
     "metadata": {},
     "output_type": "display_data"
    },
    {
     "name": "stdout",
     "output_type": "stream",
     "text": [
      "{'Hit rate @ 15': tensor(0.5765),\n",
      " 'NDCG @ 15': tensor(0.2650),\n",
      " 'Diversity (ILD)': tensor(0.1442),\n",
      " 'Novelty (EPC)': tensor(0.7056)}\n"
     ]
    },
    {
     "data": {
      "application/vnd.jupyter.widget-view+json": {
       "model_id": "d866d0de42ff4266ab513e26956b9bf5",
       "version_major": 2,
       "version_minor": 0
      },
      "text/plain": [
       "  0%|          | 0/2428 [00:00<?, ?batch/s]"
      ]
     },
     "metadata": {},
     "output_type": "display_data"
    },
    {
     "name": "stdout",
     "output_type": "stream",
     "text": [
      "Epoch: 4\n",
      "Train loss: 0.37165\n"
     ]
    },
    {
     "data": {
      "application/vnd.jupyter.widget-view+json": {
       "model_id": "b77acafc69b84ff0a7d49d0a3a3bff73",
       "version_major": 2,
       "version_minor": 0
      },
      "text/plain": [
       "Inference:   0%|          | 0/30 [00:00<?, ?batch/s]"
      ]
     },
     "metadata": {},
     "output_type": "display_data"
    },
    {
     "name": "stdout",
     "output_type": "stream",
     "text": [
      "{'Hit rate @ 15': tensor(0.5773),\n",
      " 'NDCG @ 15': tensor(0.2689),\n",
      " 'Diversity (ILD)': tensor(0.1443),\n",
      " 'Novelty (EPC)': tensor(0.7000)}\n"
     ]
    },
    {
     "data": {
      "application/vnd.jupyter.widget-view+json": {
       "model_id": "a78dd06314d841298d4c32d1680177b4",
       "version_major": 2,
       "version_minor": 0
      },
      "text/plain": [
       "  0%|          | 0/2428 [00:00<?, ?batch/s]"
      ]
     },
     "metadata": {},
     "output_type": "display_data"
    },
    {
     "name": "stdout",
     "output_type": "stream",
     "text": [
      "Epoch: 5\n",
      "Train loss: 0.37063\n"
     ]
    },
    {
     "data": {
      "application/vnd.jupyter.widget-view+json": {
       "model_id": "cf9524c6b5b848fc9d04d703e65404fd",
       "version_major": 2,
       "version_minor": 0
      },
      "text/plain": [
       "Inference:   0%|          | 0/30 [00:00<?, ?batch/s]"
      ]
     },
     "metadata": {},
     "output_type": "display_data"
    },
    {
     "name": "stdout",
     "output_type": "stream",
     "text": [
      "{'Hit rate @ 15': tensor(0.5831),\n",
      " 'NDCG @ 15': tensor(0.2650),\n",
      " 'Diversity (ILD)': tensor(0.1443),\n",
      " 'Novelty (EPC)': tensor(0.7034)}\n"
     ]
    },
    {
     "data": {
      "application/vnd.jupyter.widget-view+json": {
       "model_id": "d5045c2e7717498bb229279b18988dbe",
       "version_major": 2,
       "version_minor": 0
      },
      "text/plain": [
       "  0%|          | 0/2428 [00:00<?, ?batch/s]"
      ]
     },
     "metadata": {},
     "output_type": "display_data"
    },
    {
     "name": "stdout",
     "output_type": "stream",
     "text": [
      "Epoch: 6\n",
      "Train loss: 0.37018\n"
     ]
    },
    {
     "data": {
      "application/vnd.jupyter.widget-view+json": {
       "model_id": "3278749f3301401aaec99f16b74b5df0",
       "version_major": 2,
       "version_minor": 0
      },
      "text/plain": [
       "Inference:   0%|          | 0/30 [00:00<?, ?batch/s]"
      ]
     },
     "metadata": {},
     "output_type": "display_data"
    },
    {
     "name": "stdout",
     "output_type": "stream",
     "text": [
      "{'Hit rate @ 15': tensor(0.5732),\n",
      " 'NDCG @ 15': tensor(0.2642),\n",
      " 'Diversity (ILD)': tensor(0.1445),\n",
      " 'Novelty (EPC)': tensor(0.7066)}\n"
     ]
    },
    {
     "data": {
      "application/vnd.jupyter.widget-view+json": {
       "model_id": "bfaed2267dd14dac9434c301cdf54719",
       "version_major": 2,
       "version_minor": 0
      },
      "text/plain": [
       "  0%|          | 0/2428 [00:00<?, ?batch/s]"
      ]
     },
     "metadata": {},
     "output_type": "display_data"
    },
    {
     "name": "stdout",
     "output_type": "stream",
     "text": [
      "Epoch: 7\n",
      "Train loss: 0.36948\n"
     ]
    },
    {
     "data": {
      "application/vnd.jupyter.widget-view+json": {
       "model_id": "fd9dcb39465142d69be68099cbf8d887",
       "version_major": 2,
       "version_minor": 0
      },
      "text/plain": [
       "Inference:   0%|          | 0/30 [00:00<?, ?batch/s]"
      ]
     },
     "metadata": {},
     "output_type": "display_data"
    },
    {
     "name": "stdout",
     "output_type": "stream",
     "text": [
      "{'Hit rate @ 15': tensor(0.5798),\n",
      " 'NDCG @ 15': tensor(0.2680),\n",
      " 'Diversity (ILD)': tensor(0.1446),\n",
      " 'Novelty (EPC)': tensor(0.7015)}\n"
     ]
    },
    {
     "data": {
      "application/vnd.jupyter.widget-view+json": {
       "model_id": "3a2e50f0c43944a0967626fbda87d7ef",
       "version_major": 2,
       "version_minor": 0
      },
      "text/plain": [
       "  0%|          | 0/2428 [00:00<?, ?batch/s]"
      ]
     },
     "metadata": {},
     "output_type": "display_data"
    },
    {
     "name": "stdout",
     "output_type": "stream",
     "text": [
      "Epoch: 8\n",
      "Train loss: 0.36907\n"
     ]
    },
    {
     "data": {
      "application/vnd.jupyter.widget-view+json": {
       "model_id": "118e2111c169434b861c7d4a0a79f213",
       "version_major": 2,
       "version_minor": 0
      },
      "text/plain": [
       "Inference:   0%|          | 0/30 [00:00<?, ?batch/s]"
      ]
     },
     "metadata": {},
     "output_type": "display_data"
    },
    {
     "name": "stdout",
     "output_type": "stream",
     "text": [
      "{'Hit rate @ 15': tensor(0.5798),\n",
      " 'NDCG @ 15': tensor(0.2715),\n",
      " 'Diversity (ILD)': tensor(0.1448),\n",
      " 'Novelty (EPC)': tensor(0.7007)}\n"
     ]
    },
    {
     "data": {
      "application/vnd.jupyter.widget-view+json": {
       "model_id": "6ceea4d6a76a46beb2693888e493184b",
       "version_major": 2,
       "version_minor": 0
      },
      "text/plain": [
       "  0%|          | 0/2428 [00:00<?, ?batch/s]"
      ]
     },
     "metadata": {},
     "output_type": "display_data"
    },
    {
     "name": "stdout",
     "output_type": "stream",
     "text": [
      "Epoch: 9\n",
      "Train loss: 0.36896\n"
     ]
    },
    {
     "data": {
      "application/vnd.jupyter.widget-view+json": {
       "model_id": "b4d1e983416045ddaccad949edb7c557",
       "version_major": 2,
       "version_minor": 0
      },
      "text/plain": [
       "Inference:   0%|          | 0/30 [00:00<?, ?batch/s]"
      ]
     },
     "metadata": {},
     "output_type": "display_data"
    },
    {
     "name": "stdout",
     "output_type": "stream",
     "text": [
      "{'Hit rate @ 15': tensor(0.5806),\n",
      " 'NDCG @ 15': tensor(0.2698),\n",
      " 'Diversity (ILD)': tensor(0.1447),\n",
      " 'Novelty (EPC)': tensor(0.7017)}\n",
      "CPU times: user 26min 25s, sys: 1h 15min 40s, total: 1h 42min 6s\n",
      "Wall time: 12min\n"
     ]
    }
   ],
   "source": [
    "%%time\n",
    "train(\n",
    "    wd,\n",
    "    train_loader,\n",
    "    optimizer,\n",
    "    scheduler,\n",
    "    criterion,\n",
    "    n_epochs,\n",
    "    val_loader=val_loader,\n",
    "    df_val=df_val,\n",
    "    cos_dist=cos_dist,\n",
    "    popularity=popularity,\n",
    "    verbose=True,\n",
    ")"
   ]
  },
  {
   "cell_type": "code",
   "execution_count": 14,
   "id": "0d3aea72-c5c8-47b5-9567-7e6e01519eb9",
   "metadata": {},
   "outputs": [
    {
     "data": {
      "text/plain": [
       "{'Hit rate @ 15': tensor(0.5604),\n",
       " 'NDCG @ 15': tensor(0.2679),\n",
       " 'Diversity (ILD)': tensor(0.1454),\n",
       " 'Novelty (EPC)': tensor(0.6998)}"
      ]
     },
     "execution_count": 14,
     "metadata": {},
     "output_type": "execute_result"
    }
   ],
   "source": [
    "df_test[\"pred\"] = predict(wd, test_loader, verbose=False).numpy()\n",
    "pred, target, pred_items = split_test_df(df_test, \"userId\", \"movieId\", \"pred\", \"action\")\n",
    "reccomendation_report(pred, target, pred_items, cos_dist, popularity, k=15)"
   ]
  },
  {
   "cell_type": "markdown",
   "id": "fe8bfbbf-2eae-4fc1-a08b-53c2505f60b0",
   "metadata": {},
   "source": [
    "## Test user recommendations"
   ]
  },
  {
   "cell_type": "code",
   "execution_count": 15,
   "id": "9eac1de0-1009-4b0c-a160-c5b2fa04ceda",
   "metadata": {},
   "outputs": [],
   "source": [
    "df_test_user = add_not_watched_movies(new_user_id, df_test, df_train, df_movies)\n",
    "\n",
    "# cross features for test user\n",
    "test_idx = (\n",
    "    (\n",
    "        pd.Series(list(map(lambda x: user_features_mapping[x], df_test_user[\"userId\"])))\n",
    "        + pd.Series(\n",
    "            list(map(lambda x: movie_features_mapping[x], df_test_user[\"movieId\"]))\n",
    "        )\n",
    "    )\n",
    "    .apply(lambda x: mmh3.hash(x) % cross_feats_dim)\n",
    "    .values\n",
    ")\n",
    "cross_test_user = torch.zeros(df_test_user.shape[0], cross_feats_dim)\n",
    "cross_test_user[torch.arange(cross_test_user.shape[0]), test_idx] = 1\n",
    "\n",
    "test_user_loader = DataLoader(\n",
    "    TensorDataset(\n",
    "        torch.tensor(df_test_user[\"userId\"]),\n",
    "        torch.tensor(df_test_user[\"movieId\"]),\n",
    "        cross_test_user,\n",
    "    ),\n",
    "    batch_size=4096,\n",
    "    shuffle=False,\n",
    ")"
   ]
  },
  {
   "cell_type": "code",
   "execution_count": 16,
   "id": "defadbb0-91bb-4da4-ad44-3309665f8986",
   "metadata": {},
   "outputs": [
    {
     "data": {
      "text/html": [
       "<div>\n",
       "<style scoped>\n",
       "    .dataframe tbody tr th:only-of-type {\n",
       "        vertical-align: middle;\n",
       "    }\n",
       "\n",
       "    .dataframe tbody tr th {\n",
       "        vertical-align: top;\n",
       "    }\n",
       "\n",
       "    .dataframe thead th {\n",
       "        text-align: right;\n",
       "    }\n",
       "</style>\n",
       "<table border=\"1\" class=\"dataframe\">\n",
       "  <thead>\n",
       "    <tr style=\"text-align: right;\">\n",
       "      <th></th>\n",
       "      <th>userId</th>\n",
       "      <th>movieId</th>\n",
       "      <th>name</th>\n",
       "      <th>genre</th>\n",
       "      <th>pred</th>\n",
       "    </tr>\n",
       "  </thead>\n",
       "  <tbody>\n",
       "    <tr>\n",
       "      <th>0</th>\n",
       "      <td>6040</td>\n",
       "      <td>1227</td>\n",
       "      <td>Graduate, The (1967)</td>\n",
       "      <td>Drama|Romance</td>\n",
       "      <td>0.621546</td>\n",
       "    </tr>\n",
       "    <tr>\n",
       "      <th>1</th>\n",
       "      <td>6040</td>\n",
       "      <td>2222</td>\n",
       "      <td>Edward Scissorhands (1990)</td>\n",
       "      <td>Drama|Romance</td>\n",
       "      <td>0.621535</td>\n",
       "    </tr>\n",
       "    <tr>\n",
       "      <th>2</th>\n",
       "      <td>6040</td>\n",
       "      <td>523</td>\n",
       "      <td>Schindler's List (1993)</td>\n",
       "      <td>Drama|War</td>\n",
       "      <td>0.610455</td>\n",
       "    </tr>\n",
       "    <tr>\n",
       "      <th>3</th>\n",
       "      <td>6040</td>\n",
       "      <td>1203</td>\n",
       "      <td>Godfather: Part II, The (1974)</td>\n",
       "      <td>Action|Crime|Drama</td>\n",
       "      <td>0.610390</td>\n",
       "    </tr>\n",
       "    <tr>\n",
       "      <th>4</th>\n",
       "      <td>6040</td>\n",
       "      <td>2588</td>\n",
       "      <td>Rocky Horror Picture Show, The (1975)</td>\n",
       "      <td>Comedy|Horror|Musical|Sci-Fi</td>\n",
       "      <td>0.609445</td>\n",
       "    </tr>\n",
       "    <tr>\n",
       "      <th>5</th>\n",
       "      <td>6040</td>\n",
       "      <td>1656</td>\n",
       "      <td>Good Will Hunting (1997)</td>\n",
       "      <td>Drama</td>\n",
       "      <td>0.609445</td>\n",
       "    </tr>\n",
       "    <tr>\n",
       "      <th>6</th>\n",
       "      <td>6040</td>\n",
       "      <td>1081</td>\n",
       "      <td>E.T. the Extra-Terrestrial (1982)</td>\n",
       "      <td>Children's|Drama|Fantasy|Sci-Fi</td>\n",
       "      <td>0.606774</td>\n",
       "    </tr>\n",
       "    <tr>\n",
       "      <th>7</th>\n",
       "      <td>6040</td>\n",
       "      <td>2220</td>\n",
       "      <td>Player, The (1992)</td>\n",
       "      <td>Comedy|Drama</td>\n",
       "      <td>0.606644</td>\n",
       "    </tr>\n",
       "    <tr>\n",
       "      <th>8</th>\n",
       "      <td>6040</td>\n",
       "      <td>1220</td>\n",
       "      <td>Terminator, The (1984)</td>\n",
       "      <td>Action|Sci-Fi|Thriller</td>\n",
       "      <td>0.606589</td>\n",
       "    </tr>\n",
       "    <tr>\n",
       "      <th>9</th>\n",
       "      <td>6040</td>\n",
       "      <td>1078</td>\n",
       "      <td>Crying Game, The (1992)</td>\n",
       "      <td>Drama|Romance|War</td>\n",
       "      <td>0.605579</td>\n",
       "    </tr>\n",
       "    <tr>\n",
       "      <th>10</th>\n",
       "      <td>6040</td>\n",
       "      <td>1211</td>\n",
       "      <td>Annie Hall (1977)</td>\n",
       "      <td>Comedy|Romance</td>\n",
       "      <td>0.603754</td>\n",
       "    </tr>\n",
       "    <tr>\n",
       "      <th>11</th>\n",
       "      <td>6040</td>\n",
       "      <td>10</td>\n",
       "      <td>American President, The (1995)</td>\n",
       "      <td>Comedy|Drama|Romance</td>\n",
       "      <td>0.602557</td>\n",
       "    </tr>\n",
       "    <tr>\n",
       "      <th>12</th>\n",
       "      <td>6040</td>\n",
       "      <td>1899</td>\n",
       "      <td>Breakfast Club, The (1985)</td>\n",
       "      <td>Comedy|Drama</td>\n",
       "      <td>0.601927</td>\n",
       "    </tr>\n",
       "    <tr>\n",
       "      <th>13</th>\n",
       "      <td>6040</td>\n",
       "      <td>2728</td>\n",
       "      <td>Big (1988)</td>\n",
       "      <td>Comedy|Fantasy</td>\n",
       "      <td>0.598021</td>\n",
       "    </tr>\n",
       "    <tr>\n",
       "      <th>14</th>\n",
       "      <td>6040</td>\n",
       "      <td>2252</td>\n",
       "      <td>Pleasantville (1998)</td>\n",
       "      <td>Comedy</td>\n",
       "      <td>0.588499</td>\n",
       "    </tr>\n",
       "    <tr>\n",
       "      <th>15</th>\n",
       "      <td>6040</td>\n",
       "      <td>1854</td>\n",
       "      <td>There's Something About Mary (1998)</td>\n",
       "      <td>Comedy</td>\n",
       "      <td>0.584029</td>\n",
       "    </tr>\n",
       "    <tr>\n",
       "      <th>16</th>\n",
       "      <td>6040</td>\n",
       "      <td>2631</td>\n",
       "      <td>South Park: Bigger, Longer and Uncut (1999)</td>\n",
       "      <td>Animation|Comedy</td>\n",
       "      <td>0.583804</td>\n",
       "    </tr>\n",
       "    <tr>\n",
       "      <th>17</th>\n",
       "      <td>6040</td>\n",
       "      <td>1300</td>\n",
       "      <td>Alien³ (1992)</td>\n",
       "      <td>Action|Horror|Sci-Fi|Thriller</td>\n",
       "      <td>0.581088</td>\n",
       "    </tr>\n",
       "    <tr>\n",
       "      <th>18</th>\n",
       "      <td>6040</td>\n",
       "      <td>1202</td>\n",
       "      <td>Blues Brothers, The (1980)</td>\n",
       "      <td>Action|Comedy|Musical</td>\n",
       "      <td>0.574370</td>\n",
       "    </tr>\n",
       "    <tr>\n",
       "      <th>19</th>\n",
       "      <td>6040</td>\n",
       "      <td>1683</td>\n",
       "      <td>Big Lebowski, The (1998)</td>\n",
       "      <td>Comedy|Crime|Mystery|Thriller</td>\n",
       "      <td>0.572366</td>\n",
       "    </tr>\n",
       "    <tr>\n",
       "      <th>20</th>\n",
       "      <td>6040</td>\n",
       "      <td>591</td>\n",
       "      <td>Beauty and the Beast (1991)</td>\n",
       "      <td>Animation|Children's|Musical</td>\n",
       "      <td>0.567411</td>\n",
       "    </tr>\n",
       "    <tr>\n",
       "      <th>21</th>\n",
       "      <td>6040</td>\n",
       "      <td>1384</td>\n",
       "      <td>Scream (1996)</td>\n",
       "      <td>Horror|Thriller</td>\n",
       "      <td>0.531463</td>\n",
       "    </tr>\n",
       "    <tr>\n",
       "      <th>22</th>\n",
       "      <td>6040</td>\n",
       "      <td>2125</td>\n",
       "      <td>Untouchables, The (1987)</td>\n",
       "      <td>Action|Crime|Drama</td>\n",
       "      <td>0.515394</td>\n",
       "    </tr>\n",
       "    <tr>\n",
       "      <th>23</th>\n",
       "      <td>6040</td>\n",
       "      <td>1720</td>\n",
       "      <td>Wedding Singer, The (1998)</td>\n",
       "      <td>Comedy|Romance</td>\n",
       "      <td>0.476802</td>\n",
       "    </tr>\n",
       "    <tr>\n",
       "      <th>24</th>\n",
       "      <td>6040</td>\n",
       "      <td>2401</td>\n",
       "      <td>Crocodile Dundee (1986)</td>\n",
       "      <td>Adventure|Comedy</td>\n",
       "      <td>0.473115</td>\n",
       "    </tr>\n",
       "    <tr>\n",
       "      <th>25</th>\n",
       "      <td>6040</td>\n",
       "      <td>891</td>\n",
       "      <td>Vertigo (1958)</td>\n",
       "      <td>Mystery|Thriller</td>\n",
       "      <td>0.470824</td>\n",
       "    </tr>\n",
       "    <tr>\n",
       "      <th>26</th>\n",
       "      <td>6040</td>\n",
       "      <td>450</td>\n",
       "      <td>Firm, The (1993)</td>\n",
       "      <td>Drama|Thriller</td>\n",
       "      <td>0.432647</td>\n",
       "    </tr>\n",
       "    <tr>\n",
       "      <th>27</th>\n",
       "      <td>6040</td>\n",
       "      <td>1644</td>\n",
       "      <td>Alien: Resurrection (1997)</td>\n",
       "      <td>Action|Horror|Sci-Fi</td>\n",
       "      <td>0.432387</td>\n",
       "    </tr>\n",
       "    <tr>\n",
       "      <th>28</th>\n",
       "      <td>6040</td>\n",
       "      <td>1255</td>\n",
       "      <td>Highlander (1986)</td>\n",
       "      <td>Action|Adventure</td>\n",
       "      <td>0.427654</td>\n",
       "    </tr>\n",
       "    <tr>\n",
       "      <th>29</th>\n",
       "      <td>6040</td>\n",
       "      <td>2075</td>\n",
       "      <td>Sixteen Candles (1984)</td>\n",
       "      <td>Comedy</td>\n",
       "      <td>0.426942</td>\n",
       "    </tr>\n",
       "    <tr>\n",
       "      <th>30</th>\n",
       "      <td>6040</td>\n",
       "      <td>2219</td>\n",
       "      <td>Thing, The (1982)</td>\n",
       "      <td>Action|Horror|Sci-Fi|Thriller</td>\n",
       "      <td>0.424693</td>\n",
       "    </tr>\n",
       "    <tr>\n",
       "      <th>31</th>\n",
       "      <td>6040</td>\n",
       "      <td>1696</td>\n",
       "      <td>Dark City (1998)</td>\n",
       "      <td>Film-Noir|Sci-Fi|Thriller</td>\n",
       "      <td>0.421393</td>\n",
       "    </tr>\n",
       "    <tr>\n",
       "      <th>32</th>\n",
       "      <td>6040</td>\n",
       "      <td>2757</td>\n",
       "      <td>13th Warrior, The (1999)</td>\n",
       "      <td>Action|Horror|Thriller</td>\n",
       "      <td>0.419851</td>\n",
       "    </tr>\n",
       "    <tr>\n",
       "      <th>33</th>\n",
       "      <td>6040</td>\n",
       "      <td>206</td>\n",
       "      <td>Waterworld (1995)</td>\n",
       "      <td>Action|Adventure</td>\n",
       "      <td>0.419723</td>\n",
       "    </tr>\n",
       "    <tr>\n",
       "      <th>34</th>\n",
       "      <td>6040</td>\n",
       "      <td>1884</td>\n",
       "      <td>French Connection, The (1971)</td>\n",
       "      <td>Action|Crime|Drama|Thriller</td>\n",
       "      <td>0.419440</td>\n",
       "    </tr>\n",
       "    <tr>\n",
       "      <th>35</th>\n",
       "      <td>6040</td>\n",
       "      <td>1212</td>\n",
       "      <td>Right Stuff, The (1983)</td>\n",
       "      <td>Drama</td>\n",
       "      <td>0.417032</td>\n",
       "    </tr>\n",
       "    <tr>\n",
       "      <th>36</th>\n",
       "      <td>6040</td>\n",
       "      <td>3486</td>\n",
       "      <td>U-571 (2000)</td>\n",
       "      <td>Action|Thriller</td>\n",
       "      <td>0.416268</td>\n",
       "    </tr>\n",
       "    <tr>\n",
       "      <th>37</th>\n",
       "      <td>6040</td>\n",
       "      <td>2625</td>\n",
       "      <td>Big Daddy (1999)</td>\n",
       "      <td>Comedy</td>\n",
       "      <td>0.415503</td>\n",
       "    </tr>\n",
       "    <tr>\n",
       "      <th>38</th>\n",
       "      <td>6040</td>\n",
       "      <td>2511</td>\n",
       "      <td>Go (1999)</td>\n",
       "      <td>Crime</td>\n",
       "      <td>0.413447</td>\n",
       "    </tr>\n",
       "    <tr>\n",
       "      <th>39</th>\n",
       "      <td>6040</td>\n",
       "      <td>1243</td>\n",
       "      <td>Deer Hunter, The (1978)</td>\n",
       "      <td>Drama|War</td>\n",
       "      <td>0.412571</td>\n",
       "    </tr>\n",
       "    <tr>\n",
       "      <th>40</th>\n",
       "      <td>6040</td>\n",
       "      <td>349</td>\n",
       "      <td>Crow, The (1994)</td>\n",
       "      <td>Action|Romance|Thriller</td>\n",
       "      <td>0.412268</td>\n",
       "    </tr>\n",
       "    <tr>\n",
       "      <th>41</th>\n",
       "      <td>6040</td>\n",
       "      <td>102</td>\n",
       "      <td>Happy Gilmore (1996)</td>\n",
       "      <td>Comedy</td>\n",
       "      <td>0.411177</td>\n",
       "    </tr>\n",
       "    <tr>\n",
       "      <th>42</th>\n",
       "      <td>6040</td>\n",
       "      <td>250</td>\n",
       "      <td>Interview with the Vampire (1994)</td>\n",
       "      <td>Drama|Horror</td>\n",
       "      <td>0.409699</td>\n",
       "    </tr>\n",
       "    <tr>\n",
       "      <th>43</th>\n",
       "      <td>6040</td>\n",
       "      <td>2802</td>\n",
       "      <td>Deliverance (1972)</td>\n",
       "      <td>Adventure|Thriller</td>\n",
       "      <td>0.409570</td>\n",
       "    </tr>\n",
       "    <tr>\n",
       "      <th>44</th>\n",
       "      <td>6040</td>\n",
       "      <td>3632</td>\n",
       "      <td>Alien Nation (1988)</td>\n",
       "      <td>Crime|Drama|Sci-Fi</td>\n",
       "      <td>0.409378</td>\n",
       "    </tr>\n",
       "    <tr>\n",
       "      <th>45</th>\n",
       "      <td>6040</td>\n",
       "      <td>139</td>\n",
       "      <td>Birdcage, The (1996)</td>\n",
       "      <td>Comedy</td>\n",
       "      <td>0.408513</td>\n",
       "    </tr>\n",
       "    <tr>\n",
       "      <th>46</th>\n",
       "      <td>6040</td>\n",
       "      <td>1455</td>\n",
       "      <td>Liar Liar (1997)</td>\n",
       "      <td>Comedy</td>\n",
       "      <td>0.407757</td>\n",
       "    </tr>\n",
       "    <tr>\n",
       "      <th>47</th>\n",
       "      <td>6040</td>\n",
       "      <td>1663</td>\n",
       "      <td>Midnight in the Garden of Good and Evil (1997)</td>\n",
       "      <td>Comedy|Crime|Drama|Mystery</td>\n",
       "      <td>0.406121</td>\n",
       "    </tr>\n",
       "    <tr>\n",
       "      <th>48</th>\n",
       "      <td>6040</td>\n",
       "      <td>3291</td>\n",
       "      <td>Hoosiers (1986)</td>\n",
       "      <td>Drama</td>\n",
       "      <td>0.403943</td>\n",
       "    </tr>\n",
       "    <tr>\n",
       "      <th>49</th>\n",
       "      <td>6040</td>\n",
       "      <td>430</td>\n",
       "      <td>Cliffhanger (1993)</td>\n",
       "      <td>Action|Adventure|Crime</td>\n",
       "      <td>0.403898</td>\n",
       "    </tr>\n",
       "    <tr>\n",
       "      <th>50</th>\n",
       "      <td>6040</td>\n",
       "      <td>3614</td>\n",
       "      <td>Blood Simple (1984)</td>\n",
       "      <td>Drama|Film-Noir</td>\n",
       "      <td>0.402604</td>\n",
       "    </tr>\n",
       "    <tr>\n",
       "      <th>51</th>\n",
       "      <td>6040</td>\n",
       "      <td>3793</td>\n",
       "      <td>Cell, The (2000)</td>\n",
       "      <td>Sci-Fi|Thriller</td>\n",
       "      <td>0.401634</td>\n",
       "    </tr>\n",
       "    <tr>\n",
       "      <th>52</th>\n",
       "      <td>6040</td>\n",
       "      <td>2619</td>\n",
       "      <td>General's Daughter, The (1999)</td>\n",
       "      <td>Drama|Thriller</td>\n",
       "      <td>0.400857</td>\n",
       "    </tr>\n",
       "    <tr>\n",
       "      <th>53</th>\n",
       "      <td>6040</td>\n",
       "      <td>3229</td>\n",
       "      <td>Boiler Room (2000)</td>\n",
       "      <td>Drama</td>\n",
       "      <td>0.399545</td>\n",
       "    </tr>\n",
       "    <tr>\n",
       "      <th>54</th>\n",
       "      <td>6040</td>\n",
       "      <td>582</td>\n",
       "      <td>Home Alone (1990)</td>\n",
       "      <td>Children's|Comedy</td>\n",
       "      <td>0.398983</td>\n",
       "    </tr>\n",
       "    <tr>\n",
       "      <th>55</th>\n",
       "      <td>6040</td>\n",
       "      <td>183</td>\n",
       "      <td>Net, The (1995)</td>\n",
       "      <td>Sci-Fi|Thriller</td>\n",
       "      <td>0.397467</td>\n",
       "    </tr>\n",
       "    <tr>\n",
       "      <th>56</th>\n",
       "      <td>6040</td>\n",
       "      <td>3676</td>\n",
       "      <td>Titan A.E. (2000)</td>\n",
       "      <td>Adventure|Animation|Sci-Fi</td>\n",
       "      <td>0.395833</td>\n",
       "    </tr>\n",
       "    <tr>\n",
       "      <th>57</th>\n",
       "      <td>6040</td>\n",
       "      <td>1336</td>\n",
       "      <td>Shine (1996)</td>\n",
       "      <td>Drama|Romance</td>\n",
       "      <td>0.394100</td>\n",
       "    </tr>\n",
       "    <tr>\n",
       "      <th>58</th>\n",
       "      <td>6040</td>\n",
       "      <td>3841</td>\n",
       "      <td>Best in Show (2000)</td>\n",
       "      <td>Comedy</td>\n",
       "      <td>0.392327</td>\n",
       "    </tr>\n",
       "    <tr>\n",
       "      <th>59</th>\n",
       "      <td>6040</td>\n",
       "      <td>2064</td>\n",
       "      <td>Adventures in Babysitting (1987)</td>\n",
       "      <td>Adventure|Comedy</td>\n",
       "      <td>0.392267</td>\n",
       "    </tr>\n",
       "    <tr>\n",
       "      <th>60</th>\n",
       "      <td>6040</td>\n",
       "      <td>1450</td>\n",
       "      <td>Saint, The (1997)</td>\n",
       "      <td>Action|Romance|Thriller</td>\n",
       "      <td>0.391966</td>\n",
       "    </tr>\n",
       "    <tr>\n",
       "      <th>61</th>\n",
       "      <td>6040</td>\n",
       "      <td>2018</td>\n",
       "      <td>Peter Pan (1953)</td>\n",
       "      <td>Animation|Children's|Fantasy|Musical</td>\n",
       "      <td>0.390921</td>\n",
       "    </tr>\n",
       "    <tr>\n",
       "      <th>62</th>\n",
       "      <td>6040</td>\n",
       "      <td>437</td>\n",
       "      <td>Dazed and Confused (1993)</td>\n",
       "      <td>Comedy</td>\n",
       "      <td>0.390885</td>\n",
       "    </tr>\n",
       "    <tr>\n",
       "      <th>63</th>\n",
       "      <td>6040</td>\n",
       "      <td>1878</td>\n",
       "      <td>West Side Story (1961)</td>\n",
       "      <td>Musical|Romance</td>\n",
       "      <td>0.390786</td>\n",
       "    </tr>\n",
       "    <tr>\n",
       "      <th>64</th>\n",
       "      <td>6040</td>\n",
       "      <td>1171</td>\n",
       "      <td>Strictly Ballroom (1992)</td>\n",
       "      <td>Comedy|Romance</td>\n",
       "      <td>0.389427</td>\n",
       "    </tr>\n",
       "    <tr>\n",
       "      <th>65</th>\n",
       "      <td>6040</td>\n",
       "      <td>2472</td>\n",
       "      <td>Cruel Intentions (1999)</td>\n",
       "      <td>Drama</td>\n",
       "      <td>0.384053</td>\n",
       "    </tr>\n",
       "    <tr>\n",
       "      <th>66</th>\n",
       "      <td>6040</td>\n",
       "      <td>2345</td>\n",
       "      <td>Young Sherlock Holmes (1985)</td>\n",
       "      <td>Action|Adventure|Mystery</td>\n",
       "      <td>0.383355</td>\n",
       "    </tr>\n",
       "    <tr>\n",
       "      <th>67</th>\n",
       "      <td>6040</td>\n",
       "      <td>3205</td>\n",
       "      <td>Single White Female (1992)</td>\n",
       "      <td>Action</td>\n",
       "      <td>0.383347</td>\n",
       "    </tr>\n",
       "    <tr>\n",
       "      <th>68</th>\n",
       "      <td>6040</td>\n",
       "      <td>2325</td>\n",
       "      <td>Prince of Egypt, The (1998)</td>\n",
       "      <td>Animation|Musical</td>\n",
       "      <td>0.380503</td>\n",
       "    </tr>\n",
       "    <tr>\n",
       "      <th>69</th>\n",
       "      <td>6040</td>\n",
       "      <td>3566</td>\n",
       "      <td>Spy Who Loved Me, The (1977)</td>\n",
       "      <td>Action</td>\n",
       "      <td>0.380204</td>\n",
       "    </tr>\n",
       "    <tr>\n",
       "      <th>70</th>\n",
       "      <td>6040</td>\n",
       "      <td>2772</td>\n",
       "      <td>Stir of Echoes (1999)</td>\n",
       "      <td>Thriller</td>\n",
       "      <td>0.379579</td>\n",
       "    </tr>\n",
       "    <tr>\n",
       "      <th>71</th>\n",
       "      <td>6040</td>\n",
       "      <td>665</td>\n",
       "      <td>Mystery Science Theater 3000: The Movie (1996)</td>\n",
       "      <td>Comedy|Sci-Fi</td>\n",
       "      <td>0.378528</td>\n",
       "    </tr>\n",
       "    <tr>\n",
       "      <th>72</th>\n",
       "      <td>6040</td>\n",
       "      <td>3290</td>\n",
       "      <td>Breaking Away (1979)</td>\n",
       "      <td>Drama</td>\n",
       "      <td>0.377789</td>\n",
       "    </tr>\n",
       "    <tr>\n",
       "      <th>73</th>\n",
       "      <td>6040</td>\n",
       "      <td>3044</td>\n",
       "      <td>End of Days (1999)</td>\n",
       "      <td>Action|Thriller</td>\n",
       "      <td>0.377529</td>\n",
       "    </tr>\n",
       "    <tr>\n",
       "      <th>74</th>\n",
       "      <td>6040</td>\n",
       "      <td>1264</td>\n",
       "      <td>Big Sleep, The (1946)</td>\n",
       "      <td>Film-Noir|Mystery</td>\n",
       "      <td>0.375747</td>\n",
       "    </tr>\n",
       "    <tr>\n",
       "      <th>75</th>\n",
       "      <td>6040</td>\n",
       "      <td>3150</td>\n",
       "      <td>Pacific Heights (1990)</td>\n",
       "      <td>Thriller</td>\n",
       "      <td>0.374464</td>\n",
       "    </tr>\n",
       "    <tr>\n",
       "      <th>76</th>\n",
       "      <td>6040</td>\n",
       "      <td>2244</td>\n",
       "      <td>Elephant Man, The (1980)</td>\n",
       "      <td>Drama</td>\n",
       "      <td>0.373706</td>\n",
       "    </tr>\n",
       "    <tr>\n",
       "      <th>77</th>\n",
       "      <td>6040</td>\n",
       "      <td>1019</td>\n",
       "      <td>Alice in Wonderland (1951)</td>\n",
       "      <td>Animation|Children's|Musical</td>\n",
       "      <td>0.373346</td>\n",
       "    </tr>\n",
       "    <tr>\n",
       "      <th>78</th>\n",
       "      <td>6040</td>\n",
       "      <td>3443</td>\n",
       "      <td>Return to Me (2000)</td>\n",
       "      <td>Drama|Romance</td>\n",
       "      <td>0.371938</td>\n",
       "    </tr>\n",
       "    <tr>\n",
       "      <th>79</th>\n",
       "      <td>6040</td>\n",
       "      <td>2341</td>\n",
       "      <td>Rocky III (1982)</td>\n",
       "      <td>Action|Drama</td>\n",
       "      <td>0.371812</td>\n",
       "    </tr>\n",
       "    <tr>\n",
       "      <th>80</th>\n",
       "      <td>6040</td>\n",
       "      <td>1028</td>\n",
       "      <td>Secrets &amp; Lies (1996)</td>\n",
       "      <td>Drama</td>\n",
       "      <td>0.371665</td>\n",
       "    </tr>\n",
       "    <tr>\n",
       "      <th>81</th>\n",
       "      <td>6040</td>\n",
       "      <td>1647</td>\n",
       "      <td>Apostle, The (1997)</td>\n",
       "      <td>Drama</td>\n",
       "      <td>0.371635</td>\n",
       "    </tr>\n",
       "    <tr>\n",
       "      <th>82</th>\n",
       "      <td>6040</td>\n",
       "      <td>3467</td>\n",
       "      <td>Keeping the Faith (2000)</td>\n",
       "      <td>Comedy|Romance</td>\n",
       "      <td>0.371112</td>\n",
       "    </tr>\n",
       "    <tr>\n",
       "      <th>83</th>\n",
       "      <td>6040</td>\n",
       "      <td>3585</td>\n",
       "      <td>Guns of Navarone, The (1961)</td>\n",
       "      <td>Action|Drama|War</td>\n",
       "      <td>0.369789</td>\n",
       "    </tr>\n",
       "    <tr>\n",
       "      <th>84</th>\n",
       "      <td>6040</td>\n",
       "      <td>2921</td>\n",
       "      <td>Licence to Kill (1989)</td>\n",
       "      <td>Action</td>\n",
       "      <td>0.368466</td>\n",
       "    </tr>\n",
       "    <tr>\n",
       "      <th>85</th>\n",
       "      <td>6040</td>\n",
       "      <td>2309</td>\n",
       "      <td>Police Academy (1984)</td>\n",
       "      <td>Comedy</td>\n",
       "      <td>0.367778</td>\n",
       "    </tr>\n",
       "    <tr>\n",
       "      <th>86</th>\n",
       "      <td>6040</td>\n",
       "      <td>368</td>\n",
       "      <td>Reality Bites (1994)</td>\n",
       "      <td>Comedy|Drama</td>\n",
       "      <td>0.367194</td>\n",
       "    </tr>\n",
       "    <tr>\n",
       "      <th>87</th>\n",
       "      <td>6040</td>\n",
       "      <td>3439</td>\n",
       "      <td>Outlaw Josey Wales, The (1976)</td>\n",
       "      <td>Western</td>\n",
       "      <td>0.365893</td>\n",
       "    </tr>\n",
       "    <tr>\n",
       "      <th>88</th>\n",
       "      <td>6040</td>\n",
       "      <td>2843</td>\n",
       "      <td>Limey, The (1999)</td>\n",
       "      <td>Action|Crime|Drama</td>\n",
       "      <td>0.365698</td>\n",
       "    </tr>\n",
       "    <tr>\n",
       "      <th>89</th>\n",
       "      <td>6040</td>\n",
       "      <td>558</td>\n",
       "      <td>Welcome to the Dollhouse (1995)</td>\n",
       "      <td>Comedy|Drama</td>\n",
       "      <td>0.365022</td>\n",
       "    </tr>\n",
       "    <tr>\n",
       "      <th>90</th>\n",
       "      <td>6040</td>\n",
       "      <td>2334</td>\n",
       "      <td>First Blood (1982)</td>\n",
       "      <td>Action</td>\n",
       "      <td>0.364708</td>\n",
       "    </tr>\n",
       "    <tr>\n",
       "      <th>91</th>\n",
       "      <td>6040</td>\n",
       "      <td>1263</td>\n",
       "      <td>High Noon (1952)</td>\n",
       "      <td>Western</td>\n",
       "      <td>0.363969</td>\n",
       "    </tr>\n",
       "    <tr>\n",
       "      <th>92</th>\n",
       "      <td>6040</td>\n",
       "      <td>1467</td>\n",
       "      <td>Anaconda (1997)</td>\n",
       "      <td>Action|Adventure|Thriller</td>\n",
       "      <td>0.361381</td>\n",
       "    </tr>\n",
       "    <tr>\n",
       "      <th>93</th>\n",
       "      <td>6040</td>\n",
       "      <td>1432</td>\n",
       "      <td>Absolute Power (1997)</td>\n",
       "      <td>Mystery|Thriller</td>\n",
       "      <td>0.360421</td>\n",
       "    </tr>\n",
       "    <tr>\n",
       "      <th>94</th>\n",
       "      <td>6040</td>\n",
       "      <td>3436</td>\n",
       "      <td>No Way Out (1987)</td>\n",
       "      <td>Thriller</td>\n",
       "      <td>0.359877</td>\n",
       "    </tr>\n",
       "    <tr>\n",
       "      <th>95</th>\n",
       "      <td>6040</td>\n",
       "      <td>269</td>\n",
       "      <td>Madness of King George, The (1994)</td>\n",
       "      <td>Drama</td>\n",
       "      <td>0.359797</td>\n",
       "    </tr>\n",
       "    <tr>\n",
       "      <th>96</th>\n",
       "      <td>6040</td>\n",
       "      <td>3088</td>\n",
       "      <td>Stuart Little (1999)</td>\n",
       "      <td>Children's|Comedy</td>\n",
       "      <td>0.358106</td>\n",
       "    </tr>\n",
       "    <tr>\n",
       "      <th>97</th>\n",
       "      <td>6040</td>\n",
       "      <td>2734</td>\n",
       "      <td>Pelican Brief, The (1993)</td>\n",
       "      <td>Thriller</td>\n",
       "      <td>0.353746</td>\n",
       "    </tr>\n",
       "    <tr>\n",
       "      <th>98</th>\n",
       "      <td>6040</td>\n",
       "      <td>2926</td>\n",
       "      <td>House on Haunted Hill, The (1999)</td>\n",
       "      <td>Horror</td>\n",
       "      <td>0.352830</td>\n",
       "    </tr>\n",
       "    <tr>\n",
       "      <th>99</th>\n",
       "      <td>6040</td>\n",
       "      <td>3476</td>\n",
       "      <td>Cabaret (1972)</td>\n",
       "      <td>Musical|War</td>\n",
       "      <td>0.352094</td>\n",
       "    </tr>\n",
       "    <tr>\n",
       "      <th>100</th>\n",
       "      <td>6040</td>\n",
       "      <td>1823</td>\n",
       "      <td>Perfect Murder, A (1998)</td>\n",
       "      <td>Mystery|Thriller</td>\n",
       "      <td>0.350837</td>\n",
       "    </tr>\n",
       "  </tbody>\n",
       "</table>\n",
       "</div>"
      ],
      "text/plain": [
       "     userId  movieId                                            name  \\\n",
       "0      6040     1227                            Graduate, The (1967)   \n",
       "1      6040     2222                      Edward Scissorhands (1990)   \n",
       "2      6040      523                         Schindler's List (1993)   \n",
       "3      6040     1203                  Godfather: Part II, The (1974)   \n",
       "4      6040     2588           Rocky Horror Picture Show, The (1975)   \n",
       "5      6040     1656                        Good Will Hunting (1997)   \n",
       "6      6040     1081               E.T. the Extra-Terrestrial (1982)   \n",
       "7      6040     2220                              Player, The (1992)   \n",
       "8      6040     1220                          Terminator, The (1984)   \n",
       "9      6040     1078                         Crying Game, The (1992)   \n",
       "10     6040     1211                               Annie Hall (1977)   \n",
       "11     6040       10                  American President, The (1995)   \n",
       "12     6040     1899                      Breakfast Club, The (1985)   \n",
       "13     6040     2728                                      Big (1988)   \n",
       "14     6040     2252                            Pleasantville (1998)   \n",
       "15     6040     1854             There's Something About Mary (1998)   \n",
       "16     6040     2631     South Park: Bigger, Longer and Uncut (1999)   \n",
       "17     6040     1300                                   Alien³ (1992)   \n",
       "18     6040     1202                      Blues Brothers, The (1980)   \n",
       "19     6040     1683                        Big Lebowski, The (1998)   \n",
       "20     6040      591                     Beauty and the Beast (1991)   \n",
       "21     6040     1384                                   Scream (1996)   \n",
       "22     6040     2125                        Untouchables, The (1987)   \n",
       "23     6040     1720                      Wedding Singer, The (1998)   \n",
       "24     6040     2401                         Crocodile Dundee (1986)   \n",
       "25     6040      891                                  Vertigo (1958)   \n",
       "26     6040      450                                Firm, The (1993)   \n",
       "27     6040     1644                      Alien: Resurrection (1997)   \n",
       "28     6040     1255                               Highlander (1986)   \n",
       "29     6040     2075                          Sixteen Candles (1984)   \n",
       "30     6040     2219                               Thing, The (1982)   \n",
       "31     6040     1696                                Dark City (1998)   \n",
       "32     6040     2757                        13th Warrior, The (1999)   \n",
       "33     6040      206                               Waterworld (1995)   \n",
       "34     6040     1884                   French Connection, The (1971)   \n",
       "35     6040     1212                         Right Stuff, The (1983)   \n",
       "36     6040     3486                                    U-571 (2000)   \n",
       "37     6040     2625                                Big Daddy (1999)   \n",
       "38     6040     2511                                       Go (1999)   \n",
       "39     6040     1243                         Deer Hunter, The (1978)   \n",
       "40     6040      349                                Crow, The (1994)   \n",
       "41     6040      102                            Happy Gilmore (1996)   \n",
       "42     6040      250               Interview with the Vampire (1994)   \n",
       "43     6040     2802                              Deliverance (1972)   \n",
       "44     6040     3632                             Alien Nation (1988)   \n",
       "45     6040      139                            Birdcage, The (1996)   \n",
       "46     6040     1455                                Liar Liar (1997)   \n",
       "47     6040     1663  Midnight in the Garden of Good and Evil (1997)   \n",
       "48     6040     3291                                 Hoosiers (1986)   \n",
       "49     6040      430                              Cliffhanger (1993)   \n",
       "50     6040     3614                             Blood Simple (1984)   \n",
       "51     6040     3793                                Cell, The (2000)   \n",
       "52     6040     2619                  General's Daughter, The (1999)   \n",
       "53     6040     3229                              Boiler Room (2000)   \n",
       "54     6040      582                               Home Alone (1990)   \n",
       "55     6040      183                                 Net, The (1995)   \n",
       "56     6040     3676                               Titan A.E. (2000)   \n",
       "57     6040     1336                                    Shine (1996)   \n",
       "58     6040     3841                             Best in Show (2000)   \n",
       "59     6040     2064                Adventures in Babysitting (1987)   \n",
       "60     6040     1450                               Saint, The (1997)   \n",
       "61     6040     2018                                Peter Pan (1953)   \n",
       "62     6040      437                       Dazed and Confused (1993)   \n",
       "63     6040     1878                          West Side Story (1961)   \n",
       "64     6040     1171                        Strictly Ballroom (1992)   \n",
       "65     6040     2472                         Cruel Intentions (1999)   \n",
       "66     6040     2345                    Young Sherlock Holmes (1985)   \n",
       "67     6040     3205                      Single White Female (1992)   \n",
       "68     6040     2325                     Prince of Egypt, The (1998)   \n",
       "69     6040     3566                    Spy Who Loved Me, The (1977)   \n",
       "70     6040     2772                           Stir of Echoes (1999)   \n",
       "71     6040      665  Mystery Science Theater 3000: The Movie (1996)   \n",
       "72     6040     3290                            Breaking Away (1979)   \n",
       "73     6040     3044                              End of Days (1999)   \n",
       "74     6040     1264                           Big Sleep, The (1946)   \n",
       "75     6040     3150                          Pacific Heights (1990)   \n",
       "76     6040     2244                        Elephant Man, The (1980)   \n",
       "77     6040     1019                      Alice in Wonderland (1951)   \n",
       "78     6040     3443                             Return to Me (2000)   \n",
       "79     6040     2341                                Rocky III (1982)   \n",
       "80     6040     1028                           Secrets & Lies (1996)   \n",
       "81     6040     1647                             Apostle, The (1997)   \n",
       "82     6040     3467                        Keeping the Faith (2000)   \n",
       "83     6040     3585                    Guns of Navarone, The (1961)   \n",
       "84     6040     2921                          Licence to Kill (1989)   \n",
       "85     6040     2309                           Police Academy (1984)   \n",
       "86     6040      368                            Reality Bites (1994)   \n",
       "87     6040     3439                  Outlaw Josey Wales, The (1976)   \n",
       "88     6040     2843                               Limey, The (1999)   \n",
       "89     6040      558                 Welcome to the Dollhouse (1995)   \n",
       "90     6040     2334                              First Blood (1982)   \n",
       "91     6040     1263                                High Noon (1952)   \n",
       "92     6040     1467                                 Anaconda (1997)   \n",
       "93     6040     1432                           Absolute Power (1997)   \n",
       "94     6040     3436                               No Way Out (1987)   \n",
       "95     6040      269              Madness of King George, The (1994)   \n",
       "96     6040     3088                            Stuart Little (1999)   \n",
       "97     6040     2734                       Pelican Brief, The (1993)   \n",
       "98     6040     2926               House on Haunted Hill, The (1999)   \n",
       "99     6040     3476                                  Cabaret (1972)   \n",
       "100    6040     1823                        Perfect Murder, A (1998)   \n",
       "\n",
       "                                    genre      pred  \n",
       "0                           Drama|Romance  0.621546  \n",
       "1                           Drama|Romance  0.621535  \n",
       "2                               Drama|War  0.610455  \n",
       "3                      Action|Crime|Drama  0.610390  \n",
       "4            Comedy|Horror|Musical|Sci-Fi  0.609445  \n",
       "5                                   Drama  0.609445  \n",
       "6         Children's|Drama|Fantasy|Sci-Fi  0.606774  \n",
       "7                            Comedy|Drama  0.606644  \n",
       "8                  Action|Sci-Fi|Thriller  0.606589  \n",
       "9                       Drama|Romance|War  0.605579  \n",
       "10                         Comedy|Romance  0.603754  \n",
       "11                   Comedy|Drama|Romance  0.602557  \n",
       "12                           Comedy|Drama  0.601927  \n",
       "13                         Comedy|Fantasy  0.598021  \n",
       "14                                 Comedy  0.588499  \n",
       "15                                 Comedy  0.584029  \n",
       "16                       Animation|Comedy  0.583804  \n",
       "17          Action|Horror|Sci-Fi|Thriller  0.581088  \n",
       "18                  Action|Comedy|Musical  0.574370  \n",
       "19          Comedy|Crime|Mystery|Thriller  0.572366  \n",
       "20           Animation|Children's|Musical  0.567411  \n",
       "21                        Horror|Thriller  0.531463  \n",
       "22                     Action|Crime|Drama  0.515394  \n",
       "23                         Comedy|Romance  0.476802  \n",
       "24                       Adventure|Comedy  0.473115  \n",
       "25                       Mystery|Thriller  0.470824  \n",
       "26                         Drama|Thriller  0.432647  \n",
       "27                   Action|Horror|Sci-Fi  0.432387  \n",
       "28                       Action|Adventure  0.427654  \n",
       "29                                 Comedy  0.426942  \n",
       "30          Action|Horror|Sci-Fi|Thriller  0.424693  \n",
       "31              Film-Noir|Sci-Fi|Thriller  0.421393  \n",
       "32                 Action|Horror|Thriller  0.419851  \n",
       "33                       Action|Adventure  0.419723  \n",
       "34            Action|Crime|Drama|Thriller  0.419440  \n",
       "35                                  Drama  0.417032  \n",
       "36                        Action|Thriller  0.416268  \n",
       "37                                 Comedy  0.415503  \n",
       "38                                  Crime  0.413447  \n",
       "39                              Drama|War  0.412571  \n",
       "40                Action|Romance|Thriller  0.412268  \n",
       "41                                 Comedy  0.411177  \n",
       "42                           Drama|Horror  0.409699  \n",
       "43                     Adventure|Thriller  0.409570  \n",
       "44                     Crime|Drama|Sci-Fi  0.409378  \n",
       "45                                 Comedy  0.408513  \n",
       "46                                 Comedy  0.407757  \n",
       "47             Comedy|Crime|Drama|Mystery  0.406121  \n",
       "48                                  Drama  0.403943  \n",
       "49                 Action|Adventure|Crime  0.403898  \n",
       "50                        Drama|Film-Noir  0.402604  \n",
       "51                        Sci-Fi|Thriller  0.401634  \n",
       "52                         Drama|Thriller  0.400857  \n",
       "53                                  Drama  0.399545  \n",
       "54                      Children's|Comedy  0.398983  \n",
       "55                        Sci-Fi|Thriller  0.397467  \n",
       "56             Adventure|Animation|Sci-Fi  0.395833  \n",
       "57                          Drama|Romance  0.394100  \n",
       "58                                 Comedy  0.392327  \n",
       "59                       Adventure|Comedy  0.392267  \n",
       "60                Action|Romance|Thriller  0.391966  \n",
       "61   Animation|Children's|Fantasy|Musical  0.390921  \n",
       "62                                 Comedy  0.390885  \n",
       "63                        Musical|Romance  0.390786  \n",
       "64                         Comedy|Romance  0.389427  \n",
       "65                                  Drama  0.384053  \n",
       "66               Action|Adventure|Mystery  0.383355  \n",
       "67                                 Action  0.383347  \n",
       "68                      Animation|Musical  0.380503  \n",
       "69                                 Action  0.380204  \n",
       "70                               Thriller  0.379579  \n",
       "71                          Comedy|Sci-Fi  0.378528  \n",
       "72                                  Drama  0.377789  \n",
       "73                        Action|Thriller  0.377529  \n",
       "74                      Film-Noir|Mystery  0.375747  \n",
       "75                               Thriller  0.374464  \n",
       "76                                  Drama  0.373706  \n",
       "77           Animation|Children's|Musical  0.373346  \n",
       "78                          Drama|Romance  0.371938  \n",
       "79                           Action|Drama  0.371812  \n",
       "80                                  Drama  0.371665  \n",
       "81                                  Drama  0.371635  \n",
       "82                         Comedy|Romance  0.371112  \n",
       "83                       Action|Drama|War  0.369789  \n",
       "84                                 Action  0.368466  \n",
       "85                                 Comedy  0.367778  \n",
       "86                           Comedy|Drama  0.367194  \n",
       "87                                Western  0.365893  \n",
       "88                     Action|Crime|Drama  0.365698  \n",
       "89                           Comedy|Drama  0.365022  \n",
       "90                                 Action  0.364708  \n",
       "91                                Western  0.363969  \n",
       "92              Action|Adventure|Thriller  0.361381  \n",
       "93                       Mystery|Thriller  0.360421  \n",
       "94                               Thriller  0.359877  \n",
       "95                                  Drama  0.359797  \n",
       "96                      Children's|Comedy  0.358106  \n",
       "97                               Thriller  0.353746  \n",
       "98                                 Horror  0.352830  \n",
       "99                            Musical|War  0.352094  \n",
       "100                      Mystery|Thriller  0.350837  "
      ]
     },
     "metadata": {},
     "output_type": "display_data"
    }
   ],
   "source": [
    "df_test_user[\"pred\"] = predict(wd, test_user_loader, verbose=False).numpy()\n",
    "display(create_test_user_display_df(df_test_user, df_movies, \"pred\"))"
   ]
  },
  {
   "cell_type": "code",
   "execution_count": null,
   "id": "76b754f2-7ab7-4ea0-abe0-542025cce9e6",
   "metadata": {},
   "outputs": [],
   "source": []
  }
 ],
 "metadata": {
  "kernelspec": {
   "display_name": "Python 3 (ipykernel)",
   "language": "python",
   "name": "python3"
  },
  "language_info": {
   "codemirror_mode": {
    "name": "ipython",
    "version": 3
   },
   "file_extension": ".py",
   "mimetype": "text/x-python",
   "name": "python",
   "nbconvert_exporter": "python",
   "pygments_lexer": "ipython3",
   "version": "3.12.2"
  }
 },
 "nbformat": 4,
 "nbformat_minor": 5
}
