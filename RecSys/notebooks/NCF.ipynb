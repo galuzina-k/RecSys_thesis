{
 "cells": [
  {
   "cell_type": "code",
   "execution_count": 28,
   "id": "2834cbe0-e27a-4649-9846-737e8eb87106",
   "metadata": {},
   "outputs": [
    {
     "data": {
      "text/plain": [
       "'/Users/kristina/Desktop/University/COURSE_WORK/RecSys_thesis/recsysvenv/bin/python3.12'"
      ]
     },
     "execution_count": 28,
     "metadata": {},
     "output_type": "execute_result"
    }
   ],
   "source": [
    "## DO NOT ERASE THIS. IMPORTANT TO CORRECTLY IMPORT MODULES\n",
    "import sys\n",
    "\n",
    "sys.path.append(\"../\")\n",
    "sys.executable"
   ]
  },
  {
   "cell_type": "code",
   "execution_count": 29,
   "id": "03d08ba1",
   "metadata": {},
   "outputs": [],
   "source": [
    "import pandas as pd\n",
    "import numpy as np\n",
    "from sklearn.preprocessing import LabelEncoder\n",
    "from sklearn.model_selection import train_test_split\n",
    "\n",
    "# from scipy.sparse import csr_matrix\n",
    "# from scipy.sparse.linalg import svds\n",
    "from surprise import SVDpp, Reader, Dataset\n",
    "from surprise.model_selection import cross_validate\n",
    "\n",
    "from typing import Union\n",
    "from tqdm.notebook import tqdm\n",
    "\n",
    "import torch.nn as nn\n",
    "from torch.utils.data import Dataset, DataLoader, TensorDataset\n",
    "import torch\n",
    "\n",
    "from src.metrics import reccomendation_report\n",
    "from src.utils import surprise_predict\n",
    "from src.utils import split_test_df\n",
    "from src.utils import seed_everything\n",
    "from src.utils import trainDataset\n",
    "\n",
    "from src.models import NCF\n",
    "from src.models import NeuMF"
   ]
  },
  {
   "cell_type": "markdown",
   "id": "2a032ae8",
   "metadata": {},
   "source": [
    "## Constants"
   ]
  },
  {
   "cell_type": "code",
   "execution_count": 30,
   "id": "8de185e7",
   "metadata": {},
   "outputs": [],
   "source": [
    "DATA_FOLDER = \"../../data/ml-1m/\"\n",
    "RANDOM_STATE = 7"
   ]
  },
  {
   "cell_type": "code",
   "execution_count": 31,
   "id": "1136b767-5777-4471-8136-d4a3cdeae7dd",
   "metadata": {},
   "outputs": [],
   "source": [
    "np.random.seed(RANDOM_STATE)"
   ]
  },
  {
   "cell_type": "markdown",
   "id": "c0722360",
   "metadata": {},
   "source": [
    "## Data"
   ]
  },
  {
   "cell_type": "code",
   "execution_count": 32,
   "id": "db9e06df",
   "metadata": {},
   "outputs": [],
   "source": [
    "df_movies = pd.read_csv(\n",
    "    DATA_FOLDER + \"movies.csv\",\n",
    "    encoding=\"iso-8859-1\",\n",
    "    sep=\";\",\n",
    "    names=[\"movieId\", \"name\", \"genre\"],\n",
    ")\n",
    "df_ratings = pd.read_csv(\n",
    "    DATA_FOLDER + \"ratings.csv\",\n",
    "    encoding=\"iso-8859-1\",\n",
    "    sep=\";\",\n",
    "    names=[\"userId\", \"movieId\", \"rating\", \"timestamp\"],\n",
    ")\n",
    "df_users = pd.read_csv(\n",
    "    DATA_FOLDER + \"users.csv\",\n",
    "    encoding=\"iso-8859-1\",\n",
    "    sep=\";\",\n",
    "    names=[\"userId\", \"gender\", \"age\", \"occupation\", \"zip-code\"],\n",
    ")"
   ]
  },
  {
   "cell_type": "code",
   "execution_count": 6,
   "id": "e8af6f42",
   "metadata": {},
   "outputs": [],
   "source": [
    "## Encode usedId, movieId\n",
    "user_encoder = LabelEncoder()\n",
    "movie_encoder = LabelEncoder()\n",
    "\n",
    "df_movies[\"movieId\"] = movie_encoder.fit_transform(df_movies[\"movieId\"])\n",
    "df_users[\"userId\"] = user_encoder.fit_transform(df_users[\"userId\"])\n",
    "\n",
    "df_ratings[\"movieId\"] = movie_encoder.transform(df_ratings[\"movieId\"])\n",
    "df_ratings[\"userId\"] = user_encoder.transform(df_ratings[\"userId\"])"
   ]
  },
  {
   "cell_type": "markdown",
   "id": "59ad0c97-ef07-4ea3-a562-2c3e6c9450cd",
   "metadata": {},
   "source": [
    "### Train-test split\n",
    "Methodology: Last user interaction is a test item. The rest is train. Validation part is 10% of test."
   ]
  },
  {
   "cell_type": "code",
   "execution_count": 7,
   "id": "640bea58-f388-4778-8a1b-2622a636eee9",
   "metadata": {},
   "outputs": [],
   "source": [
    "df_ratings[\"rank\"] = (\n",
    "    df_ratings[[\"userId\", \"timestamp\"]]\n",
    "    .groupby(\"userId\", as_index=False)[\"timestamp\"]\n",
    "    .rank(method=\"first\", ascending=False)\n",
    ")\n",
    "# df_ratings = df_ratings.merge(\n",
    "#     pd.DataFrame(df_ratings[\"userId\"].value_counts()).reset_index(),\n",
    "#     how=\"left\", on=\"userId\")\n",
    "# df_ratings[\"cum_position\"] = df_ratings[\"rank\"] / df_ratings[\"count\"]\n",
    "# df_ratings = df_ratings.drop(columns=[\"rank\", \"count\"])"
   ]
  },
  {
   "cell_type": "code",
   "execution_count": 8,
   "id": "457f8830-7393-446f-8e58-74c129e3196e",
   "metadata": {},
   "outputs": [],
   "source": [
    "# leave one out\n",
    "df_train = df_ratings.loc[df_ratings[\"rank\"] != 1].reset_index(drop=True)\n",
    "df_test = (\n",
    "    df_ratings.loc[df_ratings[\"rank\"] == 1].reset_index(drop=True).assign(action=1)\n",
    ")\n",
    "df_test, df_val = train_test_split(df_test, test_size=0.2, random_state=RANDOM_STATE)"
   ]
  },
  {
   "cell_type": "code",
   "execution_count": 9,
   "id": "8273b002-c246-4b04-b806-9b2236d7472d",
   "metadata": {},
   "outputs": [
    {
     "data": {
      "application/vnd.jupyter.widget-view+json": {
       "model_id": "d9127e1afe6c497385aab557257a691d",
       "version_major": 2,
       "version_minor": 0
      },
      "text/plain": [
       "Enriching test:   0%|          | 0/4832 [00:00<?, ?it/s]"
      ]
     },
     "metadata": {},
     "output_type": "display_data"
    },
    {
     "data": {
      "application/vnd.jupyter.widget-view+json": {
       "model_id": "32175ba669df488aa566e1be3fafd197",
       "version_major": 2,
       "version_minor": 0
      },
      "text/plain": [
       "Enriching val:   0%|          | 0/1208 [00:00<?, ?it/s]"
      ]
     },
     "metadata": {},
     "output_type": "display_data"
    }
   ],
   "source": [
    "# enrich test data with 100 random movies from the ones not intercated by user\n",
    "df_add = pd.DataFrame()\n",
    "for user in tqdm(df_test.userId.unique(), desc=\"Enriching test\"):\n",
    "    movie = df_test.loc[df_test.userId == user, \"movieId\"]\n",
    "    watched_movies = np.append(\n",
    "        movie, df_train.loc[df_train.userId == user, \"movieId\"].values\n",
    "    )\n",
    "    not_wathed_movies = np.setdiff1d(\n",
    "        np.arange(df_movies[\"movieId\"].max() + 1), watched_movies\n",
    "    )\n",
    "    random_100 = np.random.choice(not_wathed_movies, 100, replace=False)\n",
    "\n",
    "    df_temp = pd.DataFrame().assign(movieId=random_100, userId=user, action=0)\n",
    "    df_add = pd.concat([df_add, df_temp], ignore_index=True)\n",
    "\n",
    "df_test = pd.concat([df_test, df_add], ignore_index=True).drop(\n",
    "    columns=[\"timestamp\", \"rating\", \"rank\"]\n",
    ")\n",
    "\n",
    "df_add = pd.DataFrame()\n",
    "for user in tqdm(df_val.userId.unique(), desc=\"Enriching val\"):\n",
    "    movie = df_val.loc[df_val.userId == user, \"movieId\"]\n",
    "    watched_movies = np.append(\n",
    "        movie, df_train.loc[df_train.userId == user, \"movieId\"].values\n",
    "    )\n",
    "    not_wathed_movies = np.setdiff1d(\n",
    "        np.arange(df_movies[\"movieId\"].max() + 1), watched_movies\n",
    "    )\n",
    "    random_100 = np.random.choice(not_wathed_movies, 100, replace=False)\n",
    "\n",
    "    df_temp = pd.DataFrame().assign(movieId=random_100, userId=user, action=0)\n",
    "    df_add = pd.concat([df_add, df_temp], ignore_index=True)\n",
    "\n",
    "df_val = pd.concat([df_val, df_add], ignore_index=True).drop(\n",
    "    columns=[\"timestamp\", \"rating\", \"rank\"]\n",
    ")"
   ]
  },
  {
   "cell_type": "code",
   "execution_count": 10,
   "id": "064f4056-05dd-42b1-aed3-2298b857c1df",
   "metadata": {},
   "outputs": [],
   "source": [
    "train_loader = DataLoader(\n",
    "    trainDataset(df_train, df_movies[\"movieId\"].nunique()),\n",
    "    batch_size=2048,\n",
    "    shuffle=True,\n",
    ")"
   ]
  },
  {
   "cell_type": "markdown",
   "id": "2dec1527-f30b-4cc2-885c-9d1b94bc085b",
   "metadata": {},
   "source": [
    "### NCF"
   ]
  },
  {
   "cell_type": "code",
   "execution_count": 11,
   "id": "880e8be0-c40a-4095-b551-273067cce92a",
   "metadata": {},
   "outputs": [],
   "source": [
    "num_users = df_users[\"userId\"].nunique()\n",
    "num_items = df_movies[\"movieId\"].nunique()"
   ]
  },
  {
   "cell_type": "code",
   "execution_count": 12,
   "id": "7b612342-63cb-4893-9ae7-ee3674a45035",
   "metadata": {},
   "outputs": [
    {
     "data": {
      "text/plain": [
       "NCF(\n",
       "  (user_embedding): Embedding(6040, 8)\n",
       "  (item_embedding): Embedding(3883, 8)\n",
       "  (mlp): Sequential(\n",
       "    (MLP_layer_1): Linear(in_features=16, out_features=64, bias=True)\n",
       "    (Activation_layer_1): ReLU()\n",
       "    (MLP_layer_2): Linear(in_features=64, out_features=32, bias=True)\n",
       "    (Activation_layer_2): ReLU()\n",
       "  )\n",
       "  (final): Linear(in_features=32, out_features=1, bias=True)\n",
       ")"
      ]
     },
     "metadata": {},
     "output_type": "display_data"
    }
   ],
   "source": [
    "ncf = NCF(num_users, num_items, mlp_layer_sizes=[16, 64, 32])\n",
    "display(ncf)"
   ]
  },
  {
   "cell_type": "code",
   "execution_count": 13,
   "id": "5cbf91a5-facf-453a-8d94-52cc0913b3ef",
   "metadata": {},
   "outputs": [],
   "source": [
    "optimizer = torch.optim.Adam(ncf.parameters(), lr=3e-4)\n",
    "criterion = nn.BCELoss()\n",
    "n_epochs = 5\n",
    "device = \"cpu\""
   ]
  },
  {
   "cell_type": "code",
   "execution_count": 14,
   "id": "803854c0-aa03-4958-a506-151f11d2f1f3",
   "metadata": {},
   "outputs": [
    {
     "data": {
      "application/vnd.jupyter.widget-view+json": {
       "model_id": "3f12aaea9e9a48d78e15f2c69fcae6c4",
       "version_major": 2,
       "version_minor": 0
      },
      "text/plain": [
       "Epochs:   0%|          | 0/5 [00:00<?, ?it/s]"
      ]
     },
     "metadata": {},
     "output_type": "display_data"
    },
    {
     "data": {
      "application/vnd.jupyter.widget-view+json": {
       "model_id": "3bc3c4d55cc64df0aea997afe6cc7ab5",
       "version_major": 2,
       "version_minor": 0
      },
      "text/plain": [
       "  0%|          | 0/2428 [00:00<?, ?batch/s]"
      ]
     },
     "metadata": {},
     "output_type": "display_data"
    },
    {
     "name": "stdout",
     "output_type": "stream",
     "text": [
      "Epoch: 0\n",
      "Train loss 0.46874\n"
     ]
    },
    {
     "data": {
      "application/vnd.jupyter.widget-view+json": {
       "model_id": "e749f8b5212a4b6b888a0dda907bbda4",
       "version_major": 2,
       "version_minor": 0
      },
      "text/plain": [
       "  0%|          | 0/2428 [00:00<?, ?batch/s]"
      ]
     },
     "metadata": {},
     "output_type": "display_data"
    },
    {
     "name": "stdout",
     "output_type": "stream",
     "text": [
      "Epoch: 1\n",
      "Train loss 0.37392\n"
     ]
    },
    {
     "data": {
      "application/vnd.jupyter.widget-view+json": {
       "model_id": "ef0055efc48543f3805a2b6401f35a41",
       "version_major": 2,
       "version_minor": 0
      },
      "text/plain": [
       "  0%|          | 0/2428 [00:00<?, ?batch/s]"
      ]
     },
     "metadata": {},
     "output_type": "display_data"
    },
    {
     "name": "stdout",
     "output_type": "stream",
     "text": [
      "Epoch: 2\n",
      "Train loss 0.35695\n"
     ]
    },
    {
     "data": {
      "application/vnd.jupyter.widget-view+json": {
       "model_id": "a4e763d2c6074c2da223546a0ca787b9",
       "version_major": 2,
       "version_minor": 0
      },
      "text/plain": [
       "  0%|          | 0/2428 [00:00<?, ?batch/s]"
      ]
     },
     "metadata": {},
     "output_type": "display_data"
    },
    {
     "name": "stdout",
     "output_type": "stream",
     "text": [
      "Epoch: 3\n",
      "Train loss 0.35344\n"
     ]
    },
    {
     "data": {
      "application/vnd.jupyter.widget-view+json": {
       "model_id": "47f8311b11344edfb7ba2d4d2c2a4918",
       "version_major": 2,
       "version_minor": 0
      },
      "text/plain": [
       "  0%|          | 0/2428 [00:00<?, ?batch/s]"
      ]
     },
     "metadata": {},
     "output_type": "display_data"
    },
    {
     "name": "stdout",
     "output_type": "stream",
     "text": [
      "Epoch: 4\n",
      "Train loss 0.35214\n"
     ]
    }
   ],
   "source": [
    "### Train NCF\n",
    "ncf.to(device)\n",
    "num_iterations = len(train_loader)\n",
    "\n",
    "for epoch in tqdm(range(n_epochs), desc=\"Epochs\"):\n",
    "    # train\n",
    "    total_train_loss = 0\n",
    "    ncf.train()\n",
    "    with tqdm(train_loader, unit=\"batch\") as tepoch:\n",
    "        for userIds, movieIds, ratings in tepoch:\n",
    "            pred_train = ncf(userIds.to(device), movieIds.to(device))\n",
    "            loss_train = criterion(pred_train.flatten(), ratings.to(device))\n",
    "\n",
    "            optimizer.zero_grad()\n",
    "            loss_train.backward()\n",
    "            optimizer.step()\n",
    "            total_train_loss += loss_train.item()\n",
    "            tepoch.set_postfix(loss=loss_train.item())\n",
    "    print(\"Epoch:\", epoch)\n",
    "    print(\"Train loss\", round(total_train_loss / num_iterations, 5))"
   ]
  },
  {
   "cell_type": "code",
   "execution_count": 15,
   "id": "d11c5edd-ee76-47d7-8d3c-3e93fb3c2dcc",
   "metadata": {},
   "outputs": [],
   "source": [
    "test_loader = DataLoader(\n",
    "    TensorDataset(torch.tensor(df_test[\"userId\"]), torch.tensor(df_test[\"movieId\"])),\n",
    "    batch_size=4096,\n",
    "    shuffle=False,\n",
    ")"
   ]
  },
  {
   "cell_type": "code",
   "execution_count": 16,
   "id": "8400ce4a-da33-4699-bf5e-b69459c102a9",
   "metadata": {},
   "outputs": [
    {
     "data": {
      "text/plain": [
       "488032"
      ]
     },
     "execution_count": 16,
     "metadata": {},
     "output_type": "execute_result"
    }
   ],
   "source": [
    "len(test_loader.dataset)"
   ]
  },
  {
   "cell_type": "code",
   "execution_count": 17,
   "id": "1c727b7e-8927-4143-9df7-590bf59cb391",
   "metadata": {},
   "outputs": [
    {
     "data": {
      "application/vnd.jupyter.widget-view+json": {
       "model_id": "8422ec1d54274a04968328bf7d6c6ded",
       "version_major": 2,
       "version_minor": 0
      },
      "text/plain": [
       "Inference:   0%|          | 0/120 [00:00<?, ?batch/s]"
      ]
     },
     "metadata": {},
     "output_type": "display_data"
    }
   ],
   "source": [
    "# predict ncf\n",
    "ncf.eval()\n",
    "total_preds = torch.zeros(len(test_loader.dataset))\n",
    "batch_size = test_loader.batch_size\n",
    "for i, (userIds, movieIds) in enumerate(\n",
    "    tqdm(test_loader, desc=\"Inference\", unit=\"batch\")\n",
    "):\n",
    "    with torch.no_grad():\n",
    "        total_preds[i * batch_size : (i + 1) * batch_size] = ncf(\n",
    "            userIds, movieIds\n",
    "        ).flatten()"
   ]
  },
  {
   "cell_type": "code",
   "execution_count": 18,
   "id": "163da7ef-593d-4519-ab43-a869e3ad6acd",
   "metadata": {},
   "outputs": [],
   "source": [
    "df_test[\"rating_pred\"] = total_preds.numpy()\n",
    "pred, target = split_test_df(df_test)"
   ]
  },
  {
   "cell_type": "code",
   "execution_count": 19,
   "id": "ec7da670-3d47-4bec-8e49-f68ca2c09ef3",
   "metadata": {},
   "outputs": [
    {
     "data": {
      "text/plain": [
       "{'Hit rate @ K': tensor(0.5594), 'NDCG @ K': tensor(0.2842)}"
      ]
     },
     "execution_count": 19,
     "metadata": {},
     "output_type": "execute_result"
    }
   ],
   "source": [
    "reccomendation_report(pred, target, k=15)"
   ]
  },
  {
   "cell_type": "markdown",
   "id": "2f2c56f5-de91-4360-9ae1-e109207c6eed",
   "metadata": {},
   "source": [
    "### NeuMF"
   ]
  },
  {
   "cell_type": "code",
   "execution_count": 20,
   "id": "2558ed4f-97be-4701-82d4-1f329b92f407",
   "metadata": {},
   "outputs": [],
   "source": [
    "num_users = df_users[\"userId\"].nunique()\n",
    "num_items = df_movies[\"movieId\"].nunique()"
   ]
  },
  {
   "cell_type": "code",
   "execution_count": 21,
   "id": "6a0c2ae3-935a-465a-8f2e-6e9ddbd276d6",
   "metadata": {},
   "outputs": [
    {
     "data": {
      "text/plain": [
       "NeuMF(\n",
       "  (mf_user_embed): Embedding(6040, 32)\n",
       "  (mf_item_embed): Embedding(3883, 32)\n",
       "  (mlp_user_embed): Embedding(6040, 8)\n",
       "  (mlp_item_embed): Embedding(3883, 8)\n",
       "  (mlp): Sequential(\n",
       "    (MLP_layer_1): Linear(in_features=16, out_features=64, bias=True)\n",
       "    (Activation_layer_1): ReLU()\n",
       "    (MLP_layer_2): Linear(in_features=64, out_features=32, bias=True)\n",
       "    (Activation_layer_2): ReLU()\n",
       "  )\n",
       "  (final): Linear(in_features=64, out_features=1, bias=True)\n",
       ")"
      ]
     },
     "metadata": {},
     "output_type": "display_data"
    }
   ],
   "source": [
    "neumf = NeuMF(num_users, num_items, mf_dim=32, mlp_layer_sizes=[16, 64, 32])\n",
    "display(neumf)"
   ]
  },
  {
   "cell_type": "code",
   "execution_count": 22,
   "id": "80e9e79c-7897-4b75-ae76-fe9581d4e75f",
   "metadata": {},
   "outputs": [],
   "source": [
    "optimizer = torch.optim.Adam(neumf.parameters(), lr=3e-4)\n",
    "criterion = nn.BCELoss()\n",
    "n_epochs = 5\n",
    "device = \"cpu\""
   ]
  },
  {
   "cell_type": "code",
   "execution_count": 23,
   "id": "0e2e07cf-c59a-4736-ae15-566504141fe1",
   "metadata": {},
   "outputs": [
    {
     "data": {
      "application/vnd.jupyter.widget-view+json": {
       "model_id": "8e716e069fdb436b920a4155484cb1e1",
       "version_major": 2,
       "version_minor": 0
      },
      "text/plain": [
       "Epochs:   0%|          | 0/5 [00:00<?, ?it/s]"
      ]
     },
     "metadata": {},
     "output_type": "display_data"
    },
    {
     "data": {
      "application/vnd.jupyter.widget-view+json": {
       "model_id": "9b5965013e564a00973a8d61bb4352ae",
       "version_major": 2,
       "version_minor": 0
      },
      "text/plain": [
       "  0%|          | 0/2428 [00:00<?, ?batch/s]"
      ]
     },
     "metadata": {},
     "output_type": "display_data"
    },
    {
     "name": "stdout",
     "output_type": "stream",
     "text": [
      "Epoch: 0\n",
      "Train loss 0.37599\n"
     ]
    },
    {
     "data": {
      "application/vnd.jupyter.widget-view+json": {
       "model_id": "4fb9110c3b774fa2ae2a9e4bbc955b68",
       "version_major": 2,
       "version_minor": 0
      },
      "text/plain": [
       "  0%|          | 0/2428 [00:00<?, ?batch/s]"
      ]
     },
     "metadata": {},
     "output_type": "display_data"
    },
    {
     "name": "stdout",
     "output_type": "stream",
     "text": [
      "Epoch: 1\n",
      "Train loss 0.30842\n"
     ]
    },
    {
     "data": {
      "application/vnd.jupyter.widget-view+json": {
       "model_id": "185f41eb14104b1aa21fa0c7889ff6f1",
       "version_major": 2,
       "version_minor": 0
      },
      "text/plain": [
       "  0%|          | 0/2428 [00:00<?, ?batch/s]"
      ]
     },
     "metadata": {},
     "output_type": "display_data"
    },
    {
     "name": "stdout",
     "output_type": "stream",
     "text": [
      "Epoch: 2\n",
      "Train loss 0.28933\n"
     ]
    },
    {
     "data": {
      "application/vnd.jupyter.widget-view+json": {
       "model_id": "4eca1ca66a7847f28e077b18c36a2f6e",
       "version_major": 2,
       "version_minor": 0
      },
      "text/plain": [
       "  0%|          | 0/2428 [00:00<?, ?batch/s]"
      ]
     },
     "metadata": {},
     "output_type": "display_data"
    },
    {
     "name": "stdout",
     "output_type": "stream",
     "text": [
      "Epoch: 3\n",
      "Train loss 0.27851\n"
     ]
    },
    {
     "data": {
      "application/vnd.jupyter.widget-view+json": {
       "model_id": "eb6ce7a68be24583a73f0d505a51933f",
       "version_major": 2,
       "version_minor": 0
      },
      "text/plain": [
       "  0%|          | 0/2428 [00:00<?, ?batch/s]"
      ]
     },
     "metadata": {},
     "output_type": "display_data"
    },
    {
     "name": "stdout",
     "output_type": "stream",
     "text": [
      "Epoch: 4\n",
      "Train loss 0.26983\n"
     ]
    }
   ],
   "source": [
    "### Train NeuMF\n",
    "neumf.to(device)\n",
    "num_iterations = len(train_loader)\n",
    "\n",
    "for epoch in tqdm(range(n_epochs), desc=\"Epochs\"):\n",
    "    # train\n",
    "    total_train_loss = 0\n",
    "    neumf.train()\n",
    "    with tqdm(train_loader, unit=\"batch\") as tepoch:\n",
    "        for userIds, movieIds, ratings in tepoch:\n",
    "            pred_train = neumf(userIds.to(device), movieIds.to(device), sigmoid=True)\n",
    "            loss_train = criterion(pred_train.flatten(), ratings.to(device))\n",
    "\n",
    "            optimizer.zero_grad()\n",
    "            loss_train.backward()\n",
    "            optimizer.step()\n",
    "            total_train_loss += loss_train.item()\n",
    "            tepoch.set_postfix(loss=loss_train.item())\n",
    "    print(\"Epoch:\", epoch)\n",
    "    print(\"Train loss\", round(total_train_loss / num_iterations, 5))"
   ]
  },
  {
   "cell_type": "code",
   "execution_count": 24,
   "id": "35de0eca-e5e6-4fe7-8751-e089819eedbd",
   "metadata": {},
   "outputs": [],
   "source": [
    "test_loader = DataLoader(\n",
    "    TensorDataset(torch.tensor(df_test[\"userId\"]), torch.tensor(df_test[\"movieId\"])),\n",
    "    batch_size=4096,\n",
    "    shuffle=False,\n",
    ")"
   ]
  },
  {
   "cell_type": "code",
   "execution_count": 25,
   "id": "ab16fdeb-8792-446c-b0af-0ecd07615a30",
   "metadata": {},
   "outputs": [
    {
     "data": {
      "application/vnd.jupyter.widget-view+json": {
       "model_id": "2b8c6cad47014a86b3cc9840a713fe92",
       "version_major": 2,
       "version_minor": 0
      },
      "text/plain": [
       "Inference:   0%|          | 0/120 [00:00<?, ?batch/s]"
      ]
     },
     "metadata": {},
     "output_type": "display_data"
    }
   ],
   "source": [
    "# predict NeuMF\n",
    "neumf.eval()\n",
    "total_preds = torch.zeros(len(test_loader.dataset))\n",
    "batch_size = test_loader.batch_size\n",
    "for i, (userIds, movieIds) in enumerate(\n",
    "    tqdm(test_loader, desc=\"Inference\", unit=\"batch\")\n",
    "):\n",
    "    with torch.no_grad():\n",
    "        total_preds[i * batch_size : (i + 1) * batch_size] = neumf(\n",
    "            userIds, movieIds, sigmoid=True\n",
    "        ).flatten()"
   ]
  },
  {
   "cell_type": "code",
   "execution_count": 26,
   "id": "c263fb72-8ce5-4e5e-9d6e-e9ac8e9ec3e9",
   "metadata": {},
   "outputs": [],
   "source": [
    "df_test[\"rating_pred\"] = total_preds.numpy()\n",
    "pred, target = split_test_df(df_test)"
   ]
  },
  {
   "cell_type": "code",
   "execution_count": 27,
   "id": "43831fd2-60d6-4283-9755-d24d154d85f9",
   "metadata": {},
   "outputs": [
    {
     "data": {
      "text/plain": [
       "{'Hit rate @ K': tensor(0.7297), 'NDCG @ K': tensor(0.3819)}"
      ]
     },
     "execution_count": 27,
     "metadata": {},
     "output_type": "execute_result"
    }
   ],
   "source": [
    "reccomendation_report(pred, target, k=15)"
   ]
  }
 ],
 "metadata": {
  "kernelspec": {
   "display_name": "Python 3 (ipykernel)",
   "language": "python",
   "name": "python3"
  },
  "language_info": {
   "codemirror_mode": {
    "name": "ipython",
    "version": 3
   },
   "file_extension": ".py",
   "mimetype": "text/x-python",
   "name": "python",
   "nbconvert_exporter": "python",
   "pygments_lexer": "ipython3",
   "version": "3.12.2"
  }
 },
 "nbformat": 4,
 "nbformat_minor": 5
}
