{
 "cells": [
  {
   "cell_type": "code",
   "execution_count": 1,
   "id": "2834cbe0-e27a-4649-9846-737e8eb87106",
   "metadata": {},
   "outputs": [
    {
     "data": {
      "text/plain": [
       "'/Users/kristina/Desktop/University/COURSE_WORK/RecSys_thesis/recsysvenv/bin/python3.12'"
      ]
     },
     "execution_count": 1,
     "metadata": {},
     "output_type": "execute_result"
    }
   ],
   "source": [
    "## DO NOT ERASE THIS. IMPORTANT TO CORRECTLY IMPORT MODULES\n",
    "import sys\n",
    "\n",
    "sys.path.append(\"../\")\n",
    "sys.executable"
   ]
  },
  {
   "cell_type": "code",
   "execution_count": 2,
   "id": "03d08ba1",
   "metadata": {},
   "outputs": [],
   "source": [
    "import pandas as pd\n",
    "\n",
    "pd.set_option(\"display.max_rows\", 102)\n",
    "from tqdm.auto import tqdm\n",
    "\n",
    "import torch\n",
    "from torch.utils.data import DataLoader, TensorDataset\n",
    "\n",
    "from sklearn.preprocessing import OrdinalEncoder, StandardScaler\n",
    "\n",
    "from src.utils import (\n",
    "    load_MovieLens,\n",
    "    create_test_user,\n",
    "    train_test_val_split,\n",
    "    seed_everything,\n",
    "    trainDatasetWithNumCatFeatures,\n",
    "    split_test_df,\n",
    "    add_not_watched_movies,\n",
    "    create_test_user_display_df,\n",
    "    train,\n",
    "    predict,\n",
    ")\n",
    "from src.models import DCNv2\n",
    "from src.metrics import reccomendation_report"
   ]
  },
  {
   "cell_type": "markdown",
   "id": "2a032ae8",
   "metadata": {},
   "source": [
    "## Constants"
   ]
  },
  {
   "cell_type": "code",
   "execution_count": 3,
   "id": "8de185e7",
   "metadata": {},
   "outputs": [],
   "source": [
    "DATA_FOLDER = \"../../data/ml-1m/\"\n",
    "RANDOM_STATE = 7"
   ]
  },
  {
   "cell_type": "code",
   "execution_count": 4,
   "id": "1136b767-5777-4471-8136-d4a3cdeae7dd",
   "metadata": {},
   "outputs": [],
   "source": [
    "seed_everything(RANDOM_STATE)"
   ]
  },
  {
   "cell_type": "markdown",
   "id": "c0722360",
   "metadata": {},
   "source": [
    "## Data"
   ]
  },
  {
   "cell_type": "code",
   "execution_count": 5,
   "id": "084d98fb-79e5-4372-bde2-8662ef0b3d41",
   "metadata": {},
   "outputs": [],
   "source": [
    "df_users, df_movies, df_ratings = load_MovieLens(DATA_FOLDER)"
   ]
  },
  {
   "cell_type": "markdown",
   "id": "177d0b85-4b52-46df-b89f-23c743748f5b",
   "metadata": {},
   "source": [
    "### Creating a test_user"
   ]
  },
  {
   "cell_type": "code",
   "execution_count": 6,
   "id": "eba6aff5-c0e8-491b-8a45-0b681e66b429",
   "metadata": {},
   "outputs": [
    {
     "name": "stdout",
     "output_type": "stream",
     "text": [
      "Test user watch list:\n"
     ]
    },
    {
     "data": {
      "text/html": [
       "<div>\n",
       "<style scoped>\n",
       "    .dataframe tbody tr th:only-of-type {\n",
       "        vertical-align: middle;\n",
       "    }\n",
       "\n",
       "    .dataframe tbody tr th {\n",
       "        vertical-align: top;\n",
       "    }\n",
       "\n",
       "    .dataframe thead th {\n",
       "        text-align: right;\n",
       "    }\n",
       "</style>\n",
       "<table border=\"1\" class=\"dataframe\">\n",
       "  <thead>\n",
       "    <tr style=\"text-align: right;\">\n",
       "      <th></th>\n",
       "      <th>userId</th>\n",
       "      <th>movieId</th>\n",
       "      <th>rating</th>\n",
       "      <th>timestamp</th>\n",
       "      <th>name</th>\n",
       "      <th>genre</th>\n",
       "    </tr>\n",
       "  </thead>\n",
       "  <tbody>\n",
       "    <tr>\n",
       "      <th>0</th>\n",
       "      <td>6040</td>\n",
       "      <td>6</td>\n",
       "      <td>5</td>\n",
       "      <td>0</td>\n",
       "      <td>Sabrina (1995)</td>\n",
       "      <td>Comedy|Romance</td>\n",
       "    </tr>\n",
       "    <tr>\n",
       "      <th>1</th>\n",
       "      <td>6040</td>\n",
       "      <td>16</td>\n",
       "      <td>5</td>\n",
       "      <td>1</td>\n",
       "      <td>Sense and Sensibility (1995)</td>\n",
       "      <td>Drama|Romance</td>\n",
       "    </tr>\n",
       "    <tr>\n",
       "      <th>2</th>\n",
       "      <td>6040</td>\n",
       "      <td>3192</td>\n",
       "      <td>5</td>\n",
       "      <td>2</td>\n",
       "      <td>Singles (1992)</td>\n",
       "      <td>Comedy|Drama|Romance</td>\n",
       "    </tr>\n",
       "    <tr>\n",
       "      <th>3</th>\n",
       "      <td>6040</td>\n",
       "      <td>1461</td>\n",
       "      <td>5</td>\n",
       "      <td>3</td>\n",
       "      <td>Love and Other Catastrophes (1996)</td>\n",
       "      <td>Romance</td>\n",
       "    </tr>\n",
       "    <tr>\n",
       "      <th>4</th>\n",
       "      <td>6040</td>\n",
       "      <td>827</td>\n",
       "      <td>5</td>\n",
       "      <td>4</td>\n",
       "      <td>Emma (1996)</td>\n",
       "      <td>Comedy|Drama|Romance</td>\n",
       "    </tr>\n",
       "    <tr>\n",
       "      <th>5</th>\n",
       "      <td>6040</td>\n",
       "      <td>887</td>\n",
       "      <td>5</td>\n",
       "      <td>5</td>\n",
       "      <td>Singin' in the Rain (1952)</td>\n",
       "      <td>Musical|Romance</td>\n",
       "    </tr>\n",
       "    <tr>\n",
       "      <th>6</th>\n",
       "      <td>6040</td>\n",
       "      <td>593</td>\n",
       "      <td>5</td>\n",
       "      <td>6</td>\n",
       "      <td>Pretty Woman (1990)</td>\n",
       "      <td>Comedy|Romance</td>\n",
       "    </tr>\n",
       "  </tbody>\n",
       "</table>\n",
       "</div>"
      ],
      "text/plain": [
       "   userId  movieId  rating  timestamp                                name  \\\n",
       "0    6040        6       5          0                      Sabrina (1995)   \n",
       "1    6040       16       5          1        Sense and Sensibility (1995)   \n",
       "2    6040     3192       5          2                      Singles (1992)   \n",
       "3    6040     1461       5          3  Love and Other Catastrophes (1996)   \n",
       "4    6040      827       5          4                         Emma (1996)   \n",
       "5    6040      887       5          5          Singin' in the Rain (1952)   \n",
       "6    6040      593       5          6                 Pretty Woman (1990)   \n",
       "\n",
       "                  genre  \n",
       "0        Comedy|Romance  \n",
       "1         Drama|Romance  \n",
       "2  Comedy|Drama|Romance  \n",
       "3               Romance  \n",
       "4  Comedy|Drama|Romance  \n",
       "5       Musical|Romance  \n",
       "6        Comedy|Romance  "
      ]
     },
     "metadata": {},
     "output_type": "display_data"
    }
   ],
   "source": [
    "df_users, df_ratings, new_user_id = create_test_user(\n",
    "    df_users, df_ratings, [6, 16, 3192, 1461, 827, 887, 593]\n",
    ")\n",
    "print(\"Test user watch list:\")\n",
    "display(df_ratings[df_ratings.userId == new_user_id].merge(df_movies, on=\"movieId\"))"
   ]
  },
  {
   "cell_type": "markdown",
   "id": "59ad0c97-ef07-4ea3-a562-2c3e6c9450cd",
   "metadata": {},
   "source": [
    "### Train-test split\n",
    "Methodology: Last user interaction is a test item. The rest is train. Validation part is 20% of test."
   ]
  },
  {
   "cell_type": "code",
   "execution_count": 7,
   "id": "640bea58-f388-4778-8a1b-2622a636eee9",
   "metadata": {},
   "outputs": [
    {
     "data": {
      "application/vnd.jupyter.widget-view+json": {
       "model_id": "a28f9193dba34e3fb16f3388476c35ba",
       "version_major": 2,
       "version_minor": 0
      },
      "text/plain": [
       "Enriching test:   0%|          | 0/4832 [00:00<?, ?it/s]"
      ]
     },
     "metadata": {},
     "output_type": "display_data"
    },
    {
     "data": {
      "application/vnd.jupyter.widget-view+json": {
       "model_id": "cffe2a1b894d4ffb9682be765e6ea2b8",
       "version_major": 2,
       "version_minor": 0
      },
      "text/plain": [
       "Enriching val:   0%|          | 0/1209 [00:00<?, ?it/s]"
      ]
     },
     "metadata": {},
     "output_type": "display_data"
    }
   ],
   "source": [
    "df_train, df_test, df_val = train_test_val_split(df_ratings, df_movies, RANDOM_STATE)"
   ]
  },
  {
   "cell_type": "markdown",
   "id": "af5990e2-612a-4acc-b55c-986a278eb9d5",
   "metadata": {},
   "source": [
    "### Loading additional data"
   ]
  },
  {
   "cell_type": "code",
   "execution_count": 8,
   "id": "76aedd5b-054e-4408-be64-3f29b982fe2a",
   "metadata": {},
   "outputs": [],
   "source": [
    "# cos_dist = computeCosineSimilarities(df_train, \"userId\", \"movieId\", df_movies[\"movieId\"].nunique())\n",
    "\n",
    "# with open(\"../../data/cos_dist.pt\", \"wb\") as f:\n",
    "#     torch.save(cos_dist, f)\n",
    "\n",
    "with open(\"../../data/cos_dist.pt\", \"rb\") as f:\n",
    "    cos_dist = torch.load(f)\n",
    "popularity = torch.bincount(\n",
    "    torch.tensor(df_train.movieId.values), minlength=df_movies[\"movieId\"].nunique()\n",
    ")\n",
    "popularity = popularity / torch.max(popularity)"
   ]
  },
  {
   "cell_type": "markdown",
   "id": "7b787cb3-fef7-41a0-89c7-9826f477b70f",
   "metadata": {},
   "source": [
    "### Building ordinal encoded features and normalizing continious features"
   ]
  },
  {
   "cell_type": "code",
   "execution_count": 9,
   "id": "50befcd3-47ab-43b8-8134-022b18f8afa1",
   "metadata": {},
   "outputs": [],
   "source": [
    "ord_user = OrdinalEncoder()\n",
    "user_cat = torch.tensor(ord_user.fit_transform(df_users[[\"gender\", \"occupation\"]]))\n",
    "\n",
    "ord_movie = OrdinalEncoder()\n",
    "movie_cat = torch.tensor(ord_movie.fit_transform(df_movies[[\"genre\"]]))\n",
    "\n",
    "ss_user = StandardScaler()\n",
    "user_num = torch.tensor(ss_user.fit_transform(df_users[[\"age\"]]))\n",
    "\n",
    "# features for val\n",
    "user_cat_val = user_cat[df_val[\"userId\"].values].clone().detach().to(torch.long)\n",
    "user_num_val = user_num[df_val[\"userId\"].values].clone().detach().to(torch.float)\n",
    "movie_cat_val = movie_cat[df_val[\"movieId\"].values].clone().detach().to(torch.long)\n",
    "val_cat = torch.hstack((user_cat_val, movie_cat_val))\n",
    "\n",
    "# features for test\n",
    "user_cat_test = user_cat[df_test[\"userId\"].values].clone().detach().to(torch.long)\n",
    "user_num_test = user_num[df_test[\"userId\"].values].clone().detach().to(torch.float)\n",
    "movie_cat_test = movie_cat[df_test[\"movieId\"].values].clone().detach().to(torch.long)\n",
    "test_cat = torch.hstack((user_cat_test, movie_cat_test))\n",
    "\n",
    "\n",
    "num_numeric_feats = 1\n",
    "cat_feature_vocab = [len(i) for i in ord_user.categories_] + [\n",
    "    len(i) for i in ord_movie.categories_\n",
    "]"
   ]
  },
  {
   "cell_type": "markdown",
   "id": "2dec1527-f30b-4cc2-885c-9d1b94bc085b",
   "metadata": {},
   "source": [
    "## DCN V2 Best"
   ]
  },
  {
   "cell_type": "code",
   "execution_count": 10,
   "id": "880e8be0-c40a-4095-b551-273067cce92a",
   "metadata": {},
   "outputs": [
    {
     "data": {
      "application/vnd.jupyter.widget-view+json": {
       "model_id": "5430251698eb4109a625d232002d01e4",
       "version_major": 2,
       "version_minor": 0
      },
      "text/plain": [
       "  0%|          | 0/994175 [00:00<?, ?it/s]"
      ]
     },
     "metadata": {},
     "output_type": "display_data"
    },
    {
     "name": "stderr",
     "output_type": "stream",
     "text": [
      "IOStream.flush timed out\n"
     ]
    }
   ],
   "source": [
    "seed_everything(RANDOM_STATE)\n",
    "train_loader = DataLoader(\n",
    "    trainDatasetWithNumCatFeatures(\n",
    "        df_train, df_movies[\"movieId\"].nunique(), user_cat, user_num, movie_cat\n",
    "    ),\n",
    "    batch_size=2048,\n",
    "    shuffle=True,\n",
    ")\n",
    "val_loader = DataLoader(\n",
    "    TensorDataset(\n",
    "        torch.tensor(df_val[\"userId\"]),\n",
    "        torch.tensor(df_val[\"movieId\"]),\n",
    "        user_num_val,\n",
    "        val_cat,\n",
    "    ),\n",
    "    batch_size=4096,\n",
    "    shuffle=False,\n",
    ")\n",
    "test_loader = DataLoader(\n",
    "    TensorDataset(\n",
    "        torch.tensor(df_test[\"userId\"]),\n",
    "        torch.tensor(df_test[\"movieId\"]),\n",
    "        user_num_test,\n",
    "        test_cat,\n",
    "    ),\n",
    "    batch_size=4096,\n",
    "    shuffle=False,\n",
    ")\n",
    "num_users = df_users[\"userId\"].nunique()\n",
    "num_items = df_movies[\"movieId\"].nunique()"
   ]
  },
  {
   "cell_type": "markdown",
   "id": "91eec5b8-3b12-4895-82b4-f8f528d25836",
   "metadata": {},
   "source": [
    "**Best hyper parametres combination after tuning:**\n",
    "\n",
    "Trial 6 finished with value: 0.6274834275245667 and parameters: {\n",
    "\n",
    "'l': 1, \n",
    "\n",
    "'n_mlp_layers': 10, \n",
    "\n",
    "'mlp_layers_dim': 304.0, \n",
    "\n",
    "'mlp_kwargs_dropout': False, \n",
    "\n",
    "'mlp_kwargs_batchnorm': False, \n",
    "\n",
    "'mlp_kwargs_dropout_rate': 0.2299671130204035, \n",
    "\n",
    "'lr': 0.003144141618479194, \n",
    "\n",
    "'n_epochs': 19.0\n",
    "}\n",
    "\n",
    "2024-05-14 18:49:10,185 | INFO | Trial 5 finished with value: 0.6214128136634827 and parameters: {'l': 10, 'n_mlp_layers': 3, 'mlp_layers_dim': 224.0, 'mlp_kwargs_dropout': True, 'mlp_kwargs_batchnorm': True, 'mlp_kwargs_dropout_rate': 0.4719799629637327, 'lr': 0.004796725329128699, 'n_epochs': 9.0}. Best is trial 5 with value: 0.6214128136634827."
   ]
  },
  {
   "cell_type": "code",
   "execution_count": 11,
   "id": "7b612342-63cb-4893-9ae7-ee3674a45035",
   "metadata": {},
   "outputs": [
    {
     "data": {
      "text/plain": [
       "DCNv2(\n",
       "  (user_embedding): Embedding(6041, 5)\n",
       "  (item_embedding): Embedding(3883, 5)\n",
       "  (numerical_embeddings): ModuleList(\n",
       "    (0): MLP(\n",
       "      (block): Sequential(\n",
       "        (Linear): Linear(in_features=1, out_features=5, bias=True)\n",
       "      )\n",
       "    )\n",
       "  )\n",
       "  (categorical_embeddings): ModuleList(\n",
       "    (0): Embedding(2, 5)\n",
       "    (1): Embedding(21, 5)\n",
       "    (2): Embedding(301, 5)\n",
       "  )\n",
       "  (mlp): Sequential(\n",
       "    (MLP_layer_0): MLP(\n",
       "      (block): Sequential(\n",
       "        (Linear): Linear(in_features=30, out_features=304, bias=True)\n",
       "        (Activation): ReLU()\n",
       "        (Dropout): Dropout(p=0.2, inplace=False)\n",
       "        (BatchNorm): BatchNorm1d(304, eps=1e-05, momentum=0.1, affine=True, track_running_stats=True)\n",
       "      )\n",
       "    )\n",
       "    (MLP_layer_1): MLP(\n",
       "      (block): Sequential(\n",
       "        (Linear): Linear(in_features=304, out_features=304, bias=True)\n",
       "        (Activation): ReLU()\n",
       "      )\n",
       "    )\n",
       "    (MLP_layer_2): MLP(\n",
       "      (block): Sequential(\n",
       "        (Linear): Linear(in_features=304, out_features=304, bias=True)\n",
       "        (Activation): ReLU()\n",
       "      )\n",
       "    )\n",
       "    (MLP_layer_3): MLP(\n",
       "      (block): Sequential(\n",
       "        (Linear): Linear(in_features=304, out_features=304, bias=True)\n",
       "        (Activation): ReLU()\n",
       "      )\n",
       "    )\n",
       "    (MLP_layer_4): MLP(\n",
       "      (block): Sequential(\n",
       "        (Linear): Linear(in_features=304, out_features=304, bias=True)\n",
       "        (Activation): ReLU()\n",
       "      )\n",
       "    )\n",
       "    (MLP_layer_5): MLP(\n",
       "      (block): Sequential(\n",
       "        (Linear): Linear(in_features=304, out_features=304, bias=True)\n",
       "        (Activation): ReLU()\n",
       "      )\n",
       "    )\n",
       "    (MLP_layer_6): MLP(\n",
       "      (block): Sequential(\n",
       "        (Linear): Linear(in_features=304, out_features=304, bias=True)\n",
       "        (Activation): ReLU()\n",
       "      )\n",
       "    )\n",
       "    (MLP_layer_7): MLP(\n",
       "      (block): Sequential(\n",
       "        (Linear): Linear(in_features=304, out_features=304, bias=True)\n",
       "        (Activation): ReLU()\n",
       "      )\n",
       "    )\n",
       "    (MLP_layer_8): MLP(\n",
       "      (block): Sequential(\n",
       "        (Linear): Linear(in_features=304, out_features=304, bias=True)\n",
       "        (Activation): ReLU()\n",
       "      )\n",
       "    )\n",
       "    (MLP_layer_9): MLP(\n",
       "      (block): Sequential(\n",
       "        (Linear): Linear(in_features=304, out_features=304, bias=True)\n",
       "        (Activation): ReLU()\n",
       "      )\n",
       "    )\n",
       "  )\n",
       "  (feature_crossing): ModuleList(\n",
       "    (0): MLP(\n",
       "      (block): Sequential(\n",
       "        (Linear): Linear(in_features=30, out_features=30, bias=True)\n",
       "      )\n",
       "    )\n",
       "  )\n",
       "  (final): MLP(\n",
       "    (block): Sequential(\n",
       "      (Linear): Linear(in_features=334, out_features=1, bias=True)\n",
       "    )\n",
       "  )\n",
       ")"
      ]
     },
     "metadata": {},
     "output_type": "display_data"
    }
   ],
   "source": [
    "seed_everything(RANDOM_STATE)\n",
    "dcn = DCNv2(\n",
    "    num_users,\n",
    "    num_items,\n",
    "    num_numeric_feats,\n",
    "    cat_feature_vocab,\n",
    "    l=1,\n",
    "    n_mlp_layers=10,\n",
    "    mlp_layers_dim=304,\n",
    "    mlp_kwargs={\n",
    "        \"activation\": True,\n",
    "        \"dropout\": False,\n",
    "        \"batchnorm\": False,\n",
    "        \"dropout_rate\": 0.23,\n",
    "    },\n",
    ")\n",
    "display(dcn)"
   ]
  },
  {
   "cell_type": "code",
   "execution_count": 12,
   "id": "5cbf91a5-facf-453a-8d94-52cc0913b3ef",
   "metadata": {},
   "outputs": [],
   "source": [
    "optimizer = torch.optim.Adam(dcn.parameters(), lr=0.0031)\n",
    "scheduler = torch.optim.lr_scheduler.ExponentialLR(optimizer, gamma=0.8)\n",
    "criterion = torch.nn.BCELoss()\n",
    "n_epochs = 19\n",
    "device = \"cpu\""
   ]
  },
  {
   "cell_type": "code",
   "execution_count": 13,
   "id": "99a66394-5747-47a9-8bcc-8640941ea1c4",
   "metadata": {},
   "outputs": [
    {
     "data": {
      "application/vnd.jupyter.widget-view+json": {
       "model_id": "1f80e35316204a1db401e7da1d59d60d",
       "version_major": 2,
       "version_minor": 0
      },
      "text/plain": [
       "Epochs:   0%|          | 0/19 [00:00<?, ?it/s]"
      ]
     },
     "metadata": {},
     "output_type": "display_data"
    },
    {
     "data": {
      "application/vnd.jupyter.widget-view+json": {
       "model_id": "b80b172e1afa4e2b8086382e72b49142",
       "version_major": 2,
       "version_minor": 0
      },
      "text/plain": [
       "  0%|          | 0/2428 [00:00<?, ?batch/s]"
      ]
     },
     "metadata": {},
     "output_type": "display_data"
    },
    {
     "name": "stdout",
     "output_type": "stream",
     "text": [
      "Epoch: 0\n",
      "Train loss: 0.36857\n"
     ]
    },
    {
     "data": {
      "application/vnd.jupyter.widget-view+json": {
       "model_id": "c2c215c9b72648cda6eff1f93386d078",
       "version_major": 2,
       "version_minor": 0
      },
      "text/plain": [
       "Inference:   0%|          | 0/30 [00:00<?, ?batch/s]"
      ]
     },
     "metadata": {},
     "output_type": "display_data"
    },
    {
     "name": "stdout",
     "output_type": "stream",
     "text": [
      "{'Hit rate @ 15': tensor(0.5815),\n",
      " 'NDCG @ 15': tensor(0.2806),\n",
      " 'Diversity (ILD)': tensor(0.1413),\n",
      " 'Novelty (EPC)': tensor(0.6992)}\n"
     ]
    },
    {
     "data": {
      "application/vnd.jupyter.widget-view+json": {
       "model_id": "7e57eac9c17b4c93a473c794f906e206",
       "version_major": 2,
       "version_minor": 0
      },
      "text/plain": [
       "  0%|          | 0/2428 [00:00<?, ?batch/s]"
      ]
     },
     "metadata": {},
     "output_type": "display_data"
    },
    {
     "name": "stdout",
     "output_type": "stream",
     "text": [
      "Epoch: 1\n",
      "Train loss: 0.33789\n"
     ]
    },
    {
     "data": {
      "application/vnd.jupyter.widget-view+json": {
       "model_id": "6684a556c2c3419888c696e6c2d5964c",
       "version_major": 2,
       "version_minor": 0
      },
      "text/plain": [
       "Inference:   0%|          | 0/30 [00:00<?, ?batch/s]"
      ]
     },
     "metadata": {},
     "output_type": "display_data"
    },
    {
     "name": "stdout",
     "output_type": "stream",
     "text": [
      "{'Hit rate @ 15': tensor(0.5897),\n",
      " 'NDCG @ 15': tensor(0.2961),\n",
      " 'Diversity (ILD)': tensor(0.1378),\n",
      " 'Novelty (EPC)': tensor(0.7093)}\n"
     ]
    },
    {
     "data": {
      "application/vnd.jupyter.widget-view+json": {
       "model_id": "9352f26f19b04b60852bdd55050d09f1",
       "version_major": 2,
       "version_minor": 0
      },
      "text/plain": [
       "  0%|          | 0/2428 [00:00<?, ?batch/s]"
      ]
     },
     "metadata": {},
     "output_type": "display_data"
    },
    {
     "name": "stdout",
     "output_type": "stream",
     "text": [
      "Epoch: 2\n",
      "Train loss: 0.32976\n"
     ]
    },
    {
     "data": {
      "application/vnd.jupyter.widget-view+json": {
       "model_id": "b900785dae8c4b2789b770eb05cba7bc",
       "version_major": 2,
       "version_minor": 0
      },
      "text/plain": [
       "Inference:   0%|          | 0/30 [00:00<?, ?batch/s]"
      ]
     },
     "metadata": {},
     "output_type": "display_data"
    },
    {
     "name": "stdout",
     "output_type": "stream",
     "text": [
      "{'Hit rate @ 15': tensor(0.6005),\n",
      " 'NDCG @ 15': tensor(0.3065),\n",
      " 'Diversity (ILD)': tensor(0.1360),\n",
      " 'Novelty (EPC)': tensor(0.7138)}\n"
     ]
    },
    {
     "data": {
      "application/vnd.jupyter.widget-view+json": {
       "model_id": "bc8bbc9227064119bacc09921173067d",
       "version_major": 2,
       "version_minor": 0
      },
      "text/plain": [
       "  0%|          | 0/2428 [00:00<?, ?batch/s]"
      ]
     },
     "metadata": {},
     "output_type": "display_data"
    },
    {
     "name": "stdout",
     "output_type": "stream",
     "text": [
      "Epoch: 3\n",
      "Train loss: 0.32514\n"
     ]
    },
    {
     "data": {
      "application/vnd.jupyter.widget-view+json": {
       "model_id": "98b2276adf2842ae9f3263f1fbee54d1",
       "version_major": 2,
       "version_minor": 0
      },
      "text/plain": [
       "Inference:   0%|          | 0/30 [00:00<?, ?batch/s]"
      ]
     },
     "metadata": {},
     "output_type": "display_data"
    },
    {
     "name": "stdout",
     "output_type": "stream",
     "text": [
      "{'Hit rate @ 15': tensor(0.6055),\n",
      " 'NDCG @ 15': tensor(0.3099),\n",
      " 'Diversity (ILD)': tensor(0.1345),\n",
      " 'Novelty (EPC)': tensor(0.7184)}\n"
     ]
    },
    {
     "data": {
      "application/vnd.jupyter.widget-view+json": {
       "model_id": "178f3b30ecc244ef963a5a78b593173e",
       "version_major": 2,
       "version_minor": 0
      },
      "text/plain": [
       "  0%|          | 0/2428 [00:00<?, ?batch/s]"
      ]
     },
     "metadata": {},
     "output_type": "display_data"
    },
    {
     "name": "stdout",
     "output_type": "stream",
     "text": [
      "Epoch: 4\n",
      "Train loss: 0.32128\n"
     ]
    },
    {
     "data": {
      "application/vnd.jupyter.widget-view+json": {
       "model_id": "fa28d797d0a5489ba4a121579f335f57",
       "version_major": 2,
       "version_minor": 0
      },
      "text/plain": [
       "Inference:   0%|          | 0/30 [00:00<?, ?batch/s]"
      ]
     },
     "metadata": {},
     "output_type": "display_data"
    },
    {
     "name": "stdout",
     "output_type": "stream",
     "text": [
      "{'Hit rate @ 15': tensor(0.6079),\n",
      " 'NDCG @ 15': tensor(0.3109),\n",
      " 'Diversity (ILD)': tensor(0.1334),\n",
      " 'Novelty (EPC)': tensor(0.7212)}\n"
     ]
    },
    {
     "data": {
      "application/vnd.jupyter.widget-view+json": {
       "model_id": "11530945f9414d39aac3413c17fa70a6",
       "version_major": 2,
       "version_minor": 0
      },
      "text/plain": [
       "  0%|          | 0/2428 [00:00<?, ?batch/s]"
      ]
     },
     "metadata": {},
     "output_type": "display_data"
    },
    {
     "name": "stdout",
     "output_type": "stream",
     "text": [
      "Epoch: 5\n",
      "Train loss: 0.31828\n"
     ]
    },
    {
     "data": {
      "application/vnd.jupyter.widget-view+json": {
       "model_id": "af71e620213f40d69bdb5961d9c7f036",
       "version_major": 2,
       "version_minor": 0
      },
      "text/plain": [
       "Inference:   0%|          | 0/30 [00:00<?, ?batch/s]"
      ]
     },
     "metadata": {},
     "output_type": "display_data"
    },
    {
     "name": "stdout",
     "output_type": "stream",
     "text": [
      "{'Hit rate @ 15': tensor(0.6187),\n",
      " 'NDCG @ 15': tensor(0.3143),\n",
      " 'Diversity (ILD)': tensor(0.1325),\n",
      " 'Novelty (EPC)': tensor(0.7241)}\n"
     ]
    },
    {
     "data": {
      "application/vnd.jupyter.widget-view+json": {
       "model_id": "91a9e60df126426dbb1451dc7f6312bb",
       "version_major": 2,
       "version_minor": 0
      },
      "text/plain": [
       "  0%|          | 0/2428 [00:00<?, ?batch/s]"
      ]
     },
     "metadata": {},
     "output_type": "display_data"
    },
    {
     "name": "stdout",
     "output_type": "stream",
     "text": [
      "Epoch: 6\n",
      "Train loss: 0.316\n"
     ]
    },
    {
     "data": {
      "application/vnd.jupyter.widget-view+json": {
       "model_id": "ee17371f6ed84faba512831dea252dcf",
       "version_major": 2,
       "version_minor": 0
      },
      "text/plain": [
       "Inference:   0%|          | 0/30 [00:00<?, ?batch/s]"
      ]
     },
     "metadata": {},
     "output_type": "display_data"
    },
    {
     "name": "stdout",
     "output_type": "stream",
     "text": [
      "{'Hit rate @ 15': tensor(0.6154),\n",
      " 'NDCG @ 15': tensor(0.3118),\n",
      " 'Diversity (ILD)': tensor(0.1320),\n",
      " 'Novelty (EPC)': tensor(0.7258)}\n"
     ]
    },
    {
     "data": {
      "application/vnd.jupyter.widget-view+json": {
       "model_id": "c4436058170e463dad0d2ae64e2d029a",
       "version_major": 2,
       "version_minor": 0
      },
      "text/plain": [
       "  0%|          | 0/2428 [00:00<?, ?batch/s]"
      ]
     },
     "metadata": {},
     "output_type": "display_data"
    },
    {
     "name": "stdout",
     "output_type": "stream",
     "text": [
      "Epoch: 7\n",
      "Train loss: 0.31427\n"
     ]
    },
    {
     "data": {
      "application/vnd.jupyter.widget-view+json": {
       "model_id": "302c5baa27cc466f9a571d8fb0a7521b",
       "version_major": 2,
       "version_minor": 0
      },
      "text/plain": [
       "Inference:   0%|          | 0/30 [00:00<?, ?batch/s]"
      ]
     },
     "metadata": {},
     "output_type": "display_data"
    },
    {
     "name": "stdout",
     "output_type": "stream",
     "text": [
      "{'Hit rate @ 15': tensor(0.6270),\n",
      " 'NDCG @ 15': tensor(0.3147),\n",
      " 'Diversity (ILD)': tensor(0.1321),\n",
      " 'Novelty (EPC)': tensor(0.7257)}\n"
     ]
    },
    {
     "data": {
      "application/vnd.jupyter.widget-view+json": {
       "model_id": "441ee372a2154cc6b555827c5a1413b4",
       "version_major": 2,
       "version_minor": 0
      },
      "text/plain": [
       "  0%|          | 0/2428 [00:00<?, ?batch/s]"
      ]
     },
     "metadata": {},
     "output_type": "display_data"
    },
    {
     "name": "stdout",
     "output_type": "stream",
     "text": [
      "Epoch: 8\n",
      "Train loss: 0.31296\n"
     ]
    },
    {
     "data": {
      "application/vnd.jupyter.widget-view+json": {
       "model_id": "db1e3232dc724bf09bd4253e1d89fc47",
       "version_major": 2,
       "version_minor": 0
      },
      "text/plain": [
       "Inference:   0%|          | 0/30 [00:00<?, ?batch/s]"
      ]
     },
     "metadata": {},
     "output_type": "display_data"
    },
    {
     "name": "stdout",
     "output_type": "stream",
     "text": [
      "{'Hit rate @ 15': tensor(0.6336),\n",
      " 'NDCG @ 15': tensor(0.3151),\n",
      " 'Diversity (ILD)': tensor(0.1314),\n",
      " 'Novelty (EPC)': tensor(0.7277)}\n"
     ]
    },
    {
     "data": {
      "application/vnd.jupyter.widget-view+json": {
       "model_id": "ff157585dc8f4d4698ab5d8bd970ec3e",
       "version_major": 2,
       "version_minor": 0
      },
      "text/plain": [
       "  0%|          | 0/2428 [00:00<?, ?batch/s]"
      ]
     },
     "metadata": {},
     "output_type": "display_data"
    },
    {
     "name": "stdout",
     "output_type": "stream",
     "text": [
      "Epoch: 9\n",
      "Train loss: 0.31194\n"
     ]
    },
    {
     "data": {
      "application/vnd.jupyter.widget-view+json": {
       "model_id": "04a025bbe6c74784ae71c00228c8666e",
       "version_major": 2,
       "version_minor": 0
      },
      "text/plain": [
       "Inference:   0%|          | 0/30 [00:00<?, ?batch/s]"
      ]
     },
     "metadata": {},
     "output_type": "display_data"
    },
    {
     "name": "stdout",
     "output_type": "stream",
     "text": [
      "{'Hit rate @ 15': tensor(0.6344),\n",
      " 'NDCG @ 15': tensor(0.3167),\n",
      " 'Diversity (ILD)': tensor(0.1312),\n",
      " 'Novelty (EPC)': tensor(0.7282)}\n"
     ]
    },
    {
     "data": {
      "application/vnd.jupyter.widget-view+json": {
       "model_id": "cb1814cb797241f5975ebb6c06b2c9fb",
       "version_major": 2,
       "version_minor": 0
      },
      "text/plain": [
       "  0%|          | 0/2428 [00:00<?, ?batch/s]"
      ]
     },
     "metadata": {},
     "output_type": "display_data"
    },
    {
     "name": "stdout",
     "output_type": "stream",
     "text": [
      "Epoch: 10\n",
      "Train loss: 0.31117\n"
     ]
    },
    {
     "data": {
      "application/vnd.jupyter.widget-view+json": {
       "model_id": "1297c3d2801d4420a4ba578ca2e1eab3",
       "version_major": 2,
       "version_minor": 0
      },
      "text/plain": [
       "Inference:   0%|          | 0/30 [00:00<?, ?batch/s]"
      ]
     },
     "metadata": {},
     "output_type": "display_data"
    },
    {
     "name": "stdout",
     "output_type": "stream",
     "text": [
      "{'Hit rate @ 15': tensor(0.6328),\n",
      " 'NDCG @ 15': tensor(0.3168),\n",
      " 'Diversity (ILD)': tensor(0.1311),\n",
      " 'Novelty (EPC)': tensor(0.7287)}\n"
     ]
    },
    {
     "data": {
      "application/vnd.jupyter.widget-view+json": {
       "model_id": "cf26ca74a1e94515a88b401814ceb85b",
       "version_major": 2,
       "version_minor": 0
      },
      "text/plain": [
       "  0%|          | 0/2428 [00:00<?, ?batch/s]"
      ]
     },
     "metadata": {},
     "output_type": "display_data"
    },
    {
     "name": "stdout",
     "output_type": "stream",
     "text": [
      "Epoch: 11\n",
      "Train loss: 0.31052\n"
     ]
    },
    {
     "data": {
      "application/vnd.jupyter.widget-view+json": {
       "model_id": "d6de82042d7a48d394b489034d407b0f",
       "version_major": 2,
       "version_minor": 0
      },
      "text/plain": [
       "Inference:   0%|          | 0/30 [00:00<?, ?batch/s]"
      ]
     },
     "metadata": {},
     "output_type": "display_data"
    },
    {
     "name": "stdout",
     "output_type": "stream",
     "text": [
      "{'Hit rate @ 15': tensor(0.6328),\n",
      " 'NDCG @ 15': tensor(0.3172),\n",
      " 'Diversity (ILD)': tensor(0.1312),\n",
      " 'Novelty (EPC)': tensor(0.7288)}\n"
     ]
    },
    {
     "data": {
      "application/vnd.jupyter.widget-view+json": {
       "model_id": "f2859beb3d1b405c84a90dbfc84bc82f",
       "version_major": 2,
       "version_minor": 0
      },
      "text/plain": [
       "  0%|          | 0/2428 [00:00<?, ?batch/s]"
      ]
     },
     "metadata": {},
     "output_type": "display_data"
    },
    {
     "name": "stdout",
     "output_type": "stream",
     "text": [
      "Epoch: 12\n",
      "Train loss: 0.31005\n"
     ]
    },
    {
     "data": {
      "application/vnd.jupyter.widget-view+json": {
       "model_id": "d2c70249e9164397887b55afe36712f0",
       "version_major": 2,
       "version_minor": 0
      },
      "text/plain": [
       "Inference:   0%|          | 0/30 [00:00<?, ?batch/s]"
      ]
     },
     "metadata": {},
     "output_type": "display_data"
    },
    {
     "name": "stdout",
     "output_type": "stream",
     "text": [
      "{'Hit rate @ 15': tensor(0.6344),\n",
      " 'NDCG @ 15': tensor(0.3168),\n",
      " 'Diversity (ILD)': tensor(0.1310),\n",
      " 'Novelty (EPC)': tensor(0.7290)}\n"
     ]
    },
    {
     "data": {
      "application/vnd.jupyter.widget-view+json": {
       "model_id": "eec9bb1335384d6690d19c399da6fff6",
       "version_major": 2,
       "version_minor": 0
      },
      "text/plain": [
       "  0%|          | 0/2428 [00:00<?, ?batch/s]"
      ]
     },
     "metadata": {},
     "output_type": "display_data"
    },
    {
     "name": "stdout",
     "output_type": "stream",
     "text": [
      "Epoch: 13\n",
      "Train loss: 0.30969\n"
     ]
    },
    {
     "data": {
      "application/vnd.jupyter.widget-view+json": {
       "model_id": "0b5bd00c464f4a7495f1ab5dcd030c8b",
       "version_major": 2,
       "version_minor": 0
      },
      "text/plain": [
       "Inference:   0%|          | 0/30 [00:00<?, ?batch/s]"
      ]
     },
     "metadata": {},
     "output_type": "display_data"
    },
    {
     "name": "stdout",
     "output_type": "stream",
     "text": [
      "{'Hit rate @ 15': tensor(0.6352),\n",
      " 'NDCG @ 15': tensor(0.3172),\n",
      " 'Diversity (ILD)': tensor(0.1313),\n",
      " 'Novelty (EPC)': tensor(0.7286)}\n"
     ]
    },
    {
     "data": {
      "application/vnd.jupyter.widget-view+json": {
       "model_id": "0fdfee5ba8124a4ca8da40adf91a3e96",
       "version_major": 2,
       "version_minor": 0
      },
      "text/plain": [
       "  0%|          | 0/2428 [00:00<?, ?batch/s]"
      ]
     },
     "metadata": {},
     "output_type": "display_data"
    },
    {
     "name": "stdout",
     "output_type": "stream",
     "text": [
      "Epoch: 14\n",
      "Train loss: 0.30938\n"
     ]
    },
    {
     "data": {
      "application/vnd.jupyter.widget-view+json": {
       "model_id": "ec2f116fe79e4625beceb66cdf011f73",
       "version_major": 2,
       "version_minor": 0
      },
      "text/plain": [
       "Inference:   0%|          | 0/30 [00:00<?, ?batch/s]"
      ]
     },
     "metadata": {},
     "output_type": "display_data"
    },
    {
     "name": "stdout",
     "output_type": "stream",
     "text": [
      "{'Hit rate @ 15': tensor(0.6344),\n",
      " 'NDCG @ 15': tensor(0.3180),\n",
      " 'Diversity (ILD)': tensor(0.1310),\n",
      " 'Novelty (EPC)': tensor(0.7292)}\n"
     ]
    },
    {
     "data": {
      "application/vnd.jupyter.widget-view+json": {
       "model_id": "018f924cd2e2449ca581ce72d24e8fa4",
       "version_major": 2,
       "version_minor": 0
      },
      "text/plain": [
       "  0%|          | 0/2428 [00:00<?, ?batch/s]"
      ]
     },
     "metadata": {},
     "output_type": "display_data"
    },
    {
     "name": "stdout",
     "output_type": "stream",
     "text": [
      "Epoch: 15\n",
      "Train loss: 0.30914\n"
     ]
    },
    {
     "data": {
      "application/vnd.jupyter.widget-view+json": {
       "model_id": "c8e59fc9d8c246e3ab83353688b7b7c6",
       "version_major": 2,
       "version_minor": 0
      },
      "text/plain": [
       "Inference:   0%|          | 0/30 [00:00<?, ?batch/s]"
      ]
     },
     "metadata": {},
     "output_type": "display_data"
    },
    {
     "name": "stdout",
     "output_type": "stream",
     "text": [
      "{'Hit rate @ 15': tensor(0.6352),\n",
      " 'NDCG @ 15': tensor(0.3186),\n",
      " 'Diversity (ILD)': tensor(0.1311),\n",
      " 'Novelty (EPC)': tensor(0.7290)}\n"
     ]
    },
    {
     "data": {
      "application/vnd.jupyter.widget-view+json": {
       "model_id": "24244c88cb2f4c228c4fce38b7e7f014",
       "version_major": 2,
       "version_minor": 0
      },
      "text/plain": [
       "  0%|          | 0/2428 [00:00<?, ?batch/s]"
      ]
     },
     "metadata": {},
     "output_type": "display_data"
    },
    {
     "name": "stdout",
     "output_type": "stream",
     "text": [
      "Epoch: 16\n",
      "Train loss: 0.30895\n"
     ]
    },
    {
     "data": {
      "application/vnd.jupyter.widget-view+json": {
       "model_id": "ea7d78f08a4448dbbcd64cf59ce88f52",
       "version_major": 2,
       "version_minor": 0
      },
      "text/plain": [
       "Inference:   0%|          | 0/30 [00:00<?, ?batch/s]"
      ]
     },
     "metadata": {},
     "output_type": "display_data"
    },
    {
     "name": "stdout",
     "output_type": "stream",
     "text": [
      "{'Hit rate @ 15': tensor(0.6361),\n",
      " 'NDCG @ 15': tensor(0.3180),\n",
      " 'Diversity (ILD)': tensor(0.1309),\n",
      " 'Novelty (EPC)': tensor(0.7297)}\n"
     ]
    },
    {
     "data": {
      "application/vnd.jupyter.widget-view+json": {
       "model_id": "2df2d020287e4c6d92da6bbc267a4e06",
       "version_major": 2,
       "version_minor": 0
      },
      "text/plain": [
       "  0%|          | 0/2428 [00:00<?, ?batch/s]"
      ]
     },
     "metadata": {},
     "output_type": "display_data"
    },
    {
     "name": "stdout",
     "output_type": "stream",
     "text": [
      "Epoch: 17\n",
      "Train loss: 0.3088\n"
     ]
    },
    {
     "data": {
      "application/vnd.jupyter.widget-view+json": {
       "model_id": "e3041f1c8d434bd6bf2d729c04577016",
       "version_major": 2,
       "version_minor": 0
      },
      "text/plain": [
       "Inference:   0%|          | 0/30 [00:00<?, ?batch/s]"
      ]
     },
     "metadata": {},
     "output_type": "display_data"
    },
    {
     "name": "stdout",
     "output_type": "stream",
     "text": [
      "{'Hit rate @ 15': tensor(0.6361),\n",
      " 'NDCG @ 15': tensor(0.3172),\n",
      " 'Diversity (ILD)': tensor(0.1310),\n",
      " 'Novelty (EPC)': tensor(0.7296)}\n"
     ]
    },
    {
     "data": {
      "application/vnd.jupyter.widget-view+json": {
       "model_id": "44cc09b7ace74e5c8ee5723ea9c6c6a5",
       "version_major": 2,
       "version_minor": 0
      },
      "text/plain": [
       "  0%|          | 0/2428 [00:00<?, ?batch/s]"
      ]
     },
     "metadata": {},
     "output_type": "display_data"
    },
    {
     "name": "stdout",
     "output_type": "stream",
     "text": [
      "Epoch: 18\n",
      "Train loss: 0.30868\n"
     ]
    },
    {
     "data": {
      "application/vnd.jupyter.widget-view+json": {
       "model_id": "018ad1f36a7c40df9185c9eba8a15a7e",
       "version_major": 2,
       "version_minor": 0
      },
      "text/plain": [
       "Inference:   0%|          | 0/30 [00:00<?, ?batch/s]"
      ]
     },
     "metadata": {},
     "output_type": "display_data"
    },
    {
     "name": "stdout",
     "output_type": "stream",
     "text": [
      "{'Hit rate @ 15': tensor(0.6361),\n",
      " 'NDCG @ 15': tensor(0.3181),\n",
      " 'Diversity (ILD)': tensor(0.1310),\n",
      " 'Novelty (EPC)': tensor(0.7296)}\n",
      "CPU times: user 1h 55min 19s, sys: 5h 32min 23s, total: 7h 27min 42s\n",
      "Wall time: 48min 10s\n"
     ]
    }
   ],
   "source": [
    "%%time\n",
    "train(\n",
    "    dcn,\n",
    "    train_loader,\n",
    "    optimizer,\n",
    "    scheduler,\n",
    "    criterion,\n",
    "    n_epochs,\n",
    "    val_loader=val_loader,\n",
    "    df_val=df_val,\n",
    "    cos_dist=cos_dist,\n",
    "    popularity=popularity,\n",
    "    verbose=True,\n",
    ")"
   ]
  },
  {
   "cell_type": "code",
   "execution_count": 14,
   "id": "0d3aea72-c5c8-47b5-9567-7e6e01519eb9",
   "metadata": {},
   "outputs": [
    {
     "data": {
      "text/plain": [
       "{'Hit rate @ 15': tensor(0.6287),\n",
       " 'NDCG @ 15': tensor(0.3186),\n",
       " 'Diversity (ILD)': tensor(0.1316),\n",
       " 'Novelty (EPC)': tensor(0.7278)}"
      ]
     },
     "execution_count": 14,
     "metadata": {},
     "output_type": "execute_result"
    }
   ],
   "source": [
    "df_test[\"pred\"] = predict(dcn, test_loader, verbose=False).numpy()\n",
    "pred, target, pred_items = split_test_df(df_test, \"userId\", \"movieId\", \"pred\", \"action\")\n",
    "reccomendation_report(pred, target, pred_items, cos_dist, popularity, k=15)"
   ]
  },
  {
   "cell_type": "markdown",
   "id": "fe8bfbbf-2eae-4fc1-a08b-53c2505f60b0",
   "metadata": {},
   "source": [
    "## Test user recommendations"
   ]
  },
  {
   "cell_type": "code",
   "execution_count": 15,
   "id": "9eac1de0-1009-4b0c-a160-c5b2fa04ceda",
   "metadata": {},
   "outputs": [],
   "source": [
    "df_test_user = add_not_watched_movies(new_user_id, df_test, df_train, df_movies)\n",
    "\n",
    "# features for test user\n",
    "user_cat_test_user = (\n",
    "    user_cat[df_test_user[\"userId\"].values].clone().detach().to(torch.long)\n",
    ")\n",
    "user_num_test_user = (\n",
    "    user_num[df_test_user[\"userId\"].values].clone().detach().to(torch.float)\n",
    ")\n",
    "movie_cat_test_user = (\n",
    "    movie_cat[df_test_user[\"movieId\"].values].clone().detach().to(torch.long)\n",
    ")\n",
    "test_user_cat = torch.hstack((user_cat_test_user, movie_cat_test_user))\n",
    "\n",
    "test_user_loader = DataLoader(\n",
    "    TensorDataset(\n",
    "        torch.tensor(df_test_user[\"userId\"]),\n",
    "        torch.tensor(df_test_user[\"movieId\"]),\n",
    "        user_num_test_user,\n",
    "        test_user_cat,\n",
    "    ),\n",
    "    batch_size=4096,\n",
    "    shuffle=False,\n",
    ")"
   ]
  },
  {
   "cell_type": "code",
   "execution_count": 16,
   "id": "73cb5232-ec11-4c5b-93d3-d7808424e8cd",
   "metadata": {},
   "outputs": [
    {
     "data": {
      "application/vnd.jupyter.widget-view+json": {
       "model_id": "463186ee35c44555ad97dc6bedbb35d3",
       "version_major": 2,
       "version_minor": 0
      },
      "text/plain": [
       "Inference:   0%|          | 0/1 [00:00<?, ?batch/s]"
      ]
     },
     "metadata": {},
     "output_type": "display_data"
    },
    {
     "data": {
      "text/html": [
       "<div>\n",
       "<style scoped>\n",
       "    .dataframe tbody tr th:only-of-type {\n",
       "        vertical-align: middle;\n",
       "    }\n",
       "\n",
       "    .dataframe tbody tr th {\n",
       "        vertical-align: top;\n",
       "    }\n",
       "\n",
       "    .dataframe thead th {\n",
       "        text-align: right;\n",
       "    }\n",
       "</style>\n",
       "<table border=\"1\" class=\"dataframe\">\n",
       "  <thead>\n",
       "    <tr style=\"text-align: right;\">\n",
       "      <th></th>\n",
       "      <th>userId</th>\n",
       "      <th>movieId</th>\n",
       "      <th>name</th>\n",
       "      <th>genre</th>\n",
       "      <th>pred</th>\n",
       "    </tr>\n",
       "  </thead>\n",
       "  <tbody>\n",
       "    <tr>\n",
       "      <th>0</th>\n",
       "      <td>6040</td>\n",
       "      <td>1720</td>\n",
       "      <td>Wedding Singer, The (1998)</td>\n",
       "      <td>Comedy|Romance</td>\n",
       "      <td>0.953705</td>\n",
       "    </tr>\n",
       "    <tr>\n",
       "      <th>1</th>\n",
       "      <td>6040</td>\n",
       "      <td>1899</td>\n",
       "      <td>Breakfast Club, The (1985)</td>\n",
       "      <td>Comedy|Drama</td>\n",
       "      <td>0.938518</td>\n",
       "    </tr>\n",
       "    <tr>\n",
       "      <th>2</th>\n",
       "      <td>6040</td>\n",
       "      <td>1854</td>\n",
       "      <td>There's Something About Mary (1998)</td>\n",
       "      <td>Comedy</td>\n",
       "      <td>0.923268</td>\n",
       "    </tr>\n",
       "    <tr>\n",
       "      <th>3</th>\n",
       "      <td>6040</td>\n",
       "      <td>2222</td>\n",
       "      <td>Edward Scissorhands (1990)</td>\n",
       "      <td>Drama|Romance</td>\n",
       "      <td>0.916178</td>\n",
       "    </tr>\n",
       "    <tr>\n",
       "      <th>4</th>\n",
       "      <td>6040</td>\n",
       "      <td>102</td>\n",
       "      <td>Happy Gilmore (1996)</td>\n",
       "      <td>Comedy</td>\n",
       "      <td>0.890119</td>\n",
       "    </tr>\n",
       "    <tr>\n",
       "      <th>5</th>\n",
       "      <td>6040</td>\n",
       "      <td>2252</td>\n",
       "      <td>Pleasantville (1998)</td>\n",
       "      <td>Comedy</td>\n",
       "      <td>0.873970</td>\n",
       "    </tr>\n",
       "    <tr>\n",
       "      <th>6</th>\n",
       "      <td>6040</td>\n",
       "      <td>10</td>\n",
       "      <td>American President, The (1995)</td>\n",
       "      <td>Comedy|Drama|Romance</td>\n",
       "      <td>0.870376</td>\n",
       "    </tr>\n",
       "    <tr>\n",
       "      <th>7</th>\n",
       "      <td>6040</td>\n",
       "      <td>2625</td>\n",
       "      <td>Big Daddy (1999)</td>\n",
       "      <td>Comedy</td>\n",
       "      <td>0.862656</td>\n",
       "    </tr>\n",
       "    <tr>\n",
       "      <th>8</th>\n",
       "      <td>6040</td>\n",
       "      <td>2631</td>\n",
       "      <td>South Park: Bigger, Longer and Uncut (1999)</td>\n",
       "      <td>Animation|Comedy</td>\n",
       "      <td>0.846404</td>\n",
       "    </tr>\n",
       "    <tr>\n",
       "      <th>9</th>\n",
       "      <td>6040</td>\n",
       "      <td>368</td>\n",
       "      <td>Reality Bites (1994)</td>\n",
       "      <td>Comedy|Drama</td>\n",
       "      <td>0.804024</td>\n",
       "    </tr>\n",
       "    <tr>\n",
       "      <th>10</th>\n",
       "      <td>6040</td>\n",
       "      <td>1455</td>\n",
       "      <td>Liar Liar (1997)</td>\n",
       "      <td>Comedy</td>\n",
       "      <td>0.802922</td>\n",
       "    </tr>\n",
       "    <tr>\n",
       "      <th>11</th>\n",
       "      <td>6040</td>\n",
       "      <td>1656</td>\n",
       "      <td>Good Will Hunting (1997)</td>\n",
       "      <td>Drama</td>\n",
       "      <td>0.791316</td>\n",
       "    </tr>\n",
       "    <tr>\n",
       "      <th>12</th>\n",
       "      <td>6040</td>\n",
       "      <td>2075</td>\n",
       "      <td>Sixteen Candles (1984)</td>\n",
       "      <td>Comedy</td>\n",
       "      <td>0.781505</td>\n",
       "    </tr>\n",
       "    <tr>\n",
       "      <th>13</th>\n",
       "      <td>6040</td>\n",
       "      <td>2728</td>\n",
       "      <td>Big (1988)</td>\n",
       "      <td>Comedy|Fantasy</td>\n",
       "      <td>0.776912</td>\n",
       "    </tr>\n",
       "    <tr>\n",
       "      <th>14</th>\n",
       "      <td>6040</td>\n",
       "      <td>437</td>\n",
       "      <td>Dazed and Confused (1993)</td>\n",
       "      <td>Comedy</td>\n",
       "      <td>0.765360</td>\n",
       "    </tr>\n",
       "    <tr>\n",
       "      <th>15</th>\n",
       "      <td>6040</td>\n",
       "      <td>3467</td>\n",
       "      <td>Keeping the Faith (2000)</td>\n",
       "      <td>Comedy|Romance</td>\n",
       "      <td>0.748949</td>\n",
       "    </tr>\n",
       "    <tr>\n",
       "      <th>16</th>\n",
       "      <td>6040</td>\n",
       "      <td>139</td>\n",
       "      <td>Birdcage, The (1996)</td>\n",
       "      <td>Comedy</td>\n",
       "      <td>0.745358</td>\n",
       "    </tr>\n",
       "    <tr>\n",
       "      <th>17</th>\n",
       "      <td>6040</td>\n",
       "      <td>582</td>\n",
       "      <td>Home Alone (1990)</td>\n",
       "      <td>Children's|Comedy</td>\n",
       "      <td>0.743778</td>\n",
       "    </tr>\n",
       "    <tr>\n",
       "      <th>18</th>\n",
       "      <td>6040</td>\n",
       "      <td>1683</td>\n",
       "      <td>Big Lebowski, The (1998)</td>\n",
       "      <td>Comedy|Crime|Mystery|Thriller</td>\n",
       "      <td>0.660356</td>\n",
       "    </tr>\n",
       "    <tr>\n",
       "      <th>19</th>\n",
       "      <td>6040</td>\n",
       "      <td>2472</td>\n",
       "      <td>Cruel Intentions (1999)</td>\n",
       "      <td>Drama</td>\n",
       "      <td>0.631394</td>\n",
       "    </tr>\n",
       "    <tr>\n",
       "      <th>20</th>\n",
       "      <td>6040</td>\n",
       "      <td>2309</td>\n",
       "      <td>Police Academy (1984)</td>\n",
       "      <td>Comedy</td>\n",
       "      <td>0.630691</td>\n",
       "    </tr>\n",
       "    <tr>\n",
       "      <th>21</th>\n",
       "      <td>6040</td>\n",
       "      <td>2935</td>\n",
       "      <td>Bachelor, The (1999)</td>\n",
       "      <td>Comedy|Romance</td>\n",
       "      <td>0.620164</td>\n",
       "    </tr>\n",
       "    <tr>\n",
       "      <th>22</th>\n",
       "      <td>6040</td>\n",
       "      <td>3229</td>\n",
       "      <td>Boiler Room (2000)</td>\n",
       "      <td>Drama</td>\n",
       "      <td>0.573778</td>\n",
       "    </tr>\n",
       "    <tr>\n",
       "      <th>23</th>\n",
       "      <td>6040</td>\n",
       "      <td>1211</td>\n",
       "      <td>Annie Hall (1977)</td>\n",
       "      <td>Comedy|Romance</td>\n",
       "      <td>0.570235</td>\n",
       "    </tr>\n",
       "    <tr>\n",
       "      <th>24</th>\n",
       "      <td>6040</td>\n",
       "      <td>510</td>\n",
       "      <td>Ref, The (1994)</td>\n",
       "      <td>Comedy</td>\n",
       "      <td>0.561962</td>\n",
       "    </tr>\n",
       "    <tr>\n",
       "      <th>25</th>\n",
       "      <td>6040</td>\n",
       "      <td>1081</td>\n",
       "      <td>E.T. the Extra-Terrestrial (1982)</td>\n",
       "      <td>Children's|Drama|Fantasy|Sci-Fi</td>\n",
       "      <td>0.561268</td>\n",
       "    </tr>\n",
       "    <tr>\n",
       "      <th>26</th>\n",
       "      <td>6040</td>\n",
       "      <td>2220</td>\n",
       "      <td>Player, The (1992)</td>\n",
       "      <td>Comedy|Drama</td>\n",
       "      <td>0.553056</td>\n",
       "    </tr>\n",
       "    <tr>\n",
       "      <th>27</th>\n",
       "      <td>6040</td>\n",
       "      <td>538</td>\n",
       "      <td>Son in Law (1993)</td>\n",
       "      <td>Comedy</td>\n",
       "      <td>0.551621</td>\n",
       "    </tr>\n",
       "    <tr>\n",
       "      <th>28</th>\n",
       "      <td>6040</td>\n",
       "      <td>1171</td>\n",
       "      <td>Strictly Ballroom (1992)</td>\n",
       "      <td>Comedy|Romance</td>\n",
       "      <td>0.550798</td>\n",
       "    </tr>\n",
       "    <tr>\n",
       "      <th>29</th>\n",
       "      <td>6040</td>\n",
       "      <td>2401</td>\n",
       "      <td>Crocodile Dundee (1986)</td>\n",
       "      <td>Adventure|Comedy</td>\n",
       "      <td>0.545472</td>\n",
       "    </tr>\n",
       "    <tr>\n",
       "      <th>30</th>\n",
       "      <td>6040</td>\n",
       "      <td>1227</td>\n",
       "      <td>Graduate, The (1967)</td>\n",
       "      <td>Drama|Romance</td>\n",
       "      <td>0.537437</td>\n",
       "    </tr>\n",
       "    <tr>\n",
       "      <th>31</th>\n",
       "      <td>6040</td>\n",
       "      <td>558</td>\n",
       "      <td>Welcome to the Dollhouse (1995)</td>\n",
       "      <td>Comedy|Drama</td>\n",
       "      <td>0.535411</td>\n",
       "    </tr>\n",
       "    <tr>\n",
       "      <th>32</th>\n",
       "      <td>6040</td>\n",
       "      <td>657</td>\n",
       "      <td>Kids in the Hall: Brain Candy (1996)</td>\n",
       "      <td>Comedy</td>\n",
       "      <td>0.533074</td>\n",
       "    </tr>\n",
       "    <tr>\n",
       "      <th>33</th>\n",
       "      <td>6040</td>\n",
       "      <td>2232</td>\n",
       "      <td>History of the World: Part I (1981)</td>\n",
       "      <td>Comedy</td>\n",
       "      <td>0.528779</td>\n",
       "    </tr>\n",
       "    <tr>\n",
       "      <th>34</th>\n",
       "      <td>6040</td>\n",
       "      <td>523</td>\n",
       "      <td>Schindler's List (1993)</td>\n",
       "      <td>Drama|War</td>\n",
       "      <td>0.522859</td>\n",
       "    </tr>\n",
       "    <tr>\n",
       "      <th>35</th>\n",
       "      <td>6040</td>\n",
       "      <td>3329</td>\n",
       "      <td>Muppets Take Manhattan, The (1984)</td>\n",
       "      <td>Children's|Comedy</td>\n",
       "      <td>0.521651</td>\n",
       "    </tr>\n",
       "    <tr>\n",
       "      <th>36</th>\n",
       "      <td>6040</td>\n",
       "      <td>591</td>\n",
       "      <td>Beauty and the Beast (1991)</td>\n",
       "      <td>Animation|Children's|Musical</td>\n",
       "      <td>0.517902</td>\n",
       "    </tr>\n",
       "    <tr>\n",
       "      <th>37</th>\n",
       "      <td>6040</td>\n",
       "      <td>464</td>\n",
       "      <td>Englishman Who Went Up a Hill, But Came Down a...</td>\n",
       "      <td>Comedy|Romance</td>\n",
       "      <td>0.508434</td>\n",
       "    </tr>\n",
       "    <tr>\n",
       "      <th>38</th>\n",
       "      <td>6040</td>\n",
       "      <td>3443</td>\n",
       "      <td>Return to Me (2000)</td>\n",
       "      <td>Drama|Romance</td>\n",
       "      <td>0.507358</td>\n",
       "    </tr>\n",
       "    <tr>\n",
       "      <th>39</th>\n",
       "      <td>6040</td>\n",
       "      <td>3328</td>\n",
       "      <td>Great Muppet Caper, The (1981)</td>\n",
       "      <td>Children's|Comedy</td>\n",
       "      <td>0.485220</td>\n",
       "    </tr>\n",
       "    <tr>\n",
       "      <th>40</th>\n",
       "      <td>6040</td>\n",
       "      <td>2820</td>\n",
       "      <td>Mystery, Alaska (1999)</td>\n",
       "      <td>Comedy</td>\n",
       "      <td>0.446405</td>\n",
       "    </tr>\n",
       "    <tr>\n",
       "      <th>41</th>\n",
       "      <td>6040</td>\n",
       "      <td>2511</td>\n",
       "      <td>Go (1999)</td>\n",
       "      <td>Crime</td>\n",
       "      <td>0.443854</td>\n",
       "    </tr>\n",
       "    <tr>\n",
       "      <th>42</th>\n",
       "      <td>6040</td>\n",
       "      <td>3088</td>\n",
       "      <td>Stuart Little (1999)</td>\n",
       "      <td>Children's|Comedy</td>\n",
       "      <td>0.440724</td>\n",
       "    </tr>\n",
       "    <tr>\n",
       "      <th>43</th>\n",
       "      <td>6040</td>\n",
       "      <td>1663</td>\n",
       "      <td>Midnight in the Garden of Good and Evil (1997)</td>\n",
       "      <td>Comedy|Crime|Drama|Mystery</td>\n",
       "      <td>0.440399</td>\n",
       "    </tr>\n",
       "    <tr>\n",
       "      <th>44</th>\n",
       "      <td>6040</td>\n",
       "      <td>3181</td>\n",
       "      <td>Alive (1993)</td>\n",
       "      <td>Drama</td>\n",
       "      <td>0.416941</td>\n",
       "    </tr>\n",
       "    <tr>\n",
       "      <th>45</th>\n",
       "      <td>6040</td>\n",
       "      <td>425</td>\n",
       "      <td>Cabin Boy (1994)</td>\n",
       "      <td>Comedy</td>\n",
       "      <td>0.410982</td>\n",
       "    </tr>\n",
       "    <tr>\n",
       "      <th>46</th>\n",
       "      <td>6040</td>\n",
       "      <td>1336</td>\n",
       "      <td>Shine (1996)</td>\n",
       "      <td>Drama|Romance</td>\n",
       "      <td>0.404563</td>\n",
       "    </tr>\n",
       "    <tr>\n",
       "      <th>47</th>\n",
       "      <td>6040</td>\n",
       "      <td>1202</td>\n",
       "      <td>Blues Brothers, The (1980)</td>\n",
       "      <td>Action|Comedy|Musical</td>\n",
       "      <td>0.401079</td>\n",
       "    </tr>\n",
       "    <tr>\n",
       "      <th>48</th>\n",
       "      <td>6040</td>\n",
       "      <td>3841</td>\n",
       "      <td>Best in Show (2000)</td>\n",
       "      <td>Comedy</td>\n",
       "      <td>0.396903</td>\n",
       "    </tr>\n",
       "    <tr>\n",
       "      <th>49</th>\n",
       "      <td>6040</td>\n",
       "      <td>3291</td>\n",
       "      <td>Hoosiers (1986)</td>\n",
       "      <td>Drama</td>\n",
       "      <td>0.391457</td>\n",
       "    </tr>\n",
       "    <tr>\n",
       "      <th>50</th>\n",
       "      <td>6040</td>\n",
       "      <td>450</td>\n",
       "      <td>Firm, The (1993)</td>\n",
       "      <td>Drama|Thriller</td>\n",
       "      <td>0.390481</td>\n",
       "    </tr>\n",
       "    <tr>\n",
       "      <th>51</th>\n",
       "      <td>6040</td>\n",
       "      <td>99</td>\n",
       "      <td>Bottle Rocket (1996)</td>\n",
       "      <td>Comedy</td>\n",
       "      <td>0.390144</td>\n",
       "    </tr>\n",
       "    <tr>\n",
       "      <th>52</th>\n",
       "      <td>6040</td>\n",
       "      <td>1270</td>\n",
       "      <td>Some Kind of Wonderful (1987)</td>\n",
       "      <td>Drama|Romance</td>\n",
       "      <td>0.390112</td>\n",
       "    </tr>\n",
       "    <tr>\n",
       "      <th>53</th>\n",
       "      <td>6040</td>\n",
       "      <td>219</td>\n",
       "      <td>Circle of Friends (1995)</td>\n",
       "      <td>Drama|Romance</td>\n",
       "      <td>0.388880</td>\n",
       "    </tr>\n",
       "    <tr>\n",
       "      <th>54</th>\n",
       "      <td>6040</td>\n",
       "      <td>2325</td>\n",
       "      <td>Prince of Egypt, The (1998)</td>\n",
       "      <td>Animation|Musical</td>\n",
       "      <td>0.369408</td>\n",
       "    </tr>\n",
       "    <tr>\n",
       "      <th>55</th>\n",
       "      <td>6040</td>\n",
       "      <td>2064</td>\n",
       "      <td>Adventures in Babysitting (1987)</td>\n",
       "      <td>Adventure|Comedy</td>\n",
       "      <td>0.369269</td>\n",
       "    </tr>\n",
       "    <tr>\n",
       "      <th>56</th>\n",
       "      <td>6040</td>\n",
       "      <td>191</td>\n",
       "      <td>Showgirls (1995)</td>\n",
       "      <td>Drama</td>\n",
       "      <td>0.349766</td>\n",
       "    </tr>\n",
       "    <tr>\n",
       "      <th>57</th>\n",
       "      <td>6040</td>\n",
       "      <td>2505</td>\n",
       "      <td>Out-of-Towners, The (1999)</td>\n",
       "      <td>Comedy</td>\n",
       "      <td>0.339203</td>\n",
       "    </tr>\n",
       "    <tr>\n",
       "      <th>58</th>\n",
       "      <td>6040</td>\n",
       "      <td>367</td>\n",
       "      <td>Paper, The (1994)</td>\n",
       "      <td>Comedy|Drama</td>\n",
       "      <td>0.336078</td>\n",
       "    </tr>\n",
       "    <tr>\n",
       "      <th>59</th>\n",
       "      <td>6040</td>\n",
       "      <td>1794</td>\n",
       "      <td>Major League: Back to the Minors (1998)</td>\n",
       "      <td>Comedy</td>\n",
       "      <td>0.329450</td>\n",
       "    </tr>\n",
       "    <tr>\n",
       "      <th>60</th>\n",
       "      <td>6040</td>\n",
       "      <td>1078</td>\n",
       "      <td>Crying Game, The (1992)</td>\n",
       "      <td>Drama|Romance|War</td>\n",
       "      <td>0.326364</td>\n",
       "    </tr>\n",
       "    <tr>\n",
       "      <th>61</th>\n",
       "      <td>6040</td>\n",
       "      <td>2256</td>\n",
       "      <td>Orgazmo (1997)</td>\n",
       "      <td>Comedy</td>\n",
       "      <td>0.320216</td>\n",
       "    </tr>\n",
       "    <tr>\n",
       "      <th>62</th>\n",
       "      <td>6040</td>\n",
       "      <td>2619</td>\n",
       "      <td>General's Daughter, The (1999)</td>\n",
       "      <td>Drama|Thriller</td>\n",
       "      <td>0.305757</td>\n",
       "    </tr>\n",
       "    <tr>\n",
       "      <th>63</th>\n",
       "      <td>6040</td>\n",
       "      <td>1602</td>\n",
       "      <td>House of Yes, The (1997)</td>\n",
       "      <td>Comedy|Drama|Thriller</td>\n",
       "      <td>0.287187</td>\n",
       "    </tr>\n",
       "    <tr>\n",
       "      <th>64</th>\n",
       "      <td>6040</td>\n",
       "      <td>410</td>\n",
       "      <td>Air Up There, The (1994)</td>\n",
       "      <td>Comedy</td>\n",
       "      <td>0.269381</td>\n",
       "    </tr>\n",
       "    <tr>\n",
       "      <th>65</th>\n",
       "      <td>6040</td>\n",
       "      <td>1878</td>\n",
       "      <td>West Side Story (1961)</td>\n",
       "      <td>Musical|Romance</td>\n",
       "      <td>0.268116</td>\n",
       "    </tr>\n",
       "    <tr>\n",
       "      <th>66</th>\n",
       "      <td>6040</td>\n",
       "      <td>1177</td>\n",
       "      <td>Up in Smoke (1978)</td>\n",
       "      <td>Comedy</td>\n",
       "      <td>0.265824</td>\n",
       "    </tr>\n",
       "    <tr>\n",
       "      <th>67</th>\n",
       "      <td>6040</td>\n",
       "      <td>3438</td>\n",
       "      <td>Odd Couple, The (1968)</td>\n",
       "      <td>Comedy</td>\n",
       "      <td>0.257081</td>\n",
       "    </tr>\n",
       "    <tr>\n",
       "      <th>68</th>\n",
       "      <td>6040</td>\n",
       "      <td>2018</td>\n",
       "      <td>Peter Pan (1953)</td>\n",
       "      <td>Animation|Children's|Fantasy|Musical</td>\n",
       "      <td>0.243296</td>\n",
       "    </tr>\n",
       "    <tr>\n",
       "      <th>69</th>\n",
       "      <td>6040</td>\n",
       "      <td>1019</td>\n",
       "      <td>Alice in Wonderland (1951)</td>\n",
       "      <td>Animation|Children's|Musical</td>\n",
       "      <td>0.239906</td>\n",
       "    </tr>\n",
       "    <tr>\n",
       "      <th>70</th>\n",
       "      <td>6040</td>\n",
       "      <td>424</td>\n",
       "      <td>Bronx Tale, A (1993)</td>\n",
       "      <td>Drama</td>\n",
       "      <td>0.237988</td>\n",
       "    </tr>\n",
       "    <tr>\n",
       "      <th>71</th>\n",
       "      <td>6040</td>\n",
       "      <td>2527</td>\n",
       "      <td>SLC Punk! (1998)</td>\n",
       "      <td>Comedy|Drama</td>\n",
       "      <td>0.235760</td>\n",
       "    </tr>\n",
       "    <tr>\n",
       "      <th>72</th>\n",
       "      <td>6040</td>\n",
       "      <td>1259</td>\n",
       "      <td>Night on Earth (1991)</td>\n",
       "      <td>Comedy|Drama</td>\n",
       "      <td>0.235167</td>\n",
       "    </tr>\n",
       "    <tr>\n",
       "      <th>73</th>\n",
       "      <td>6040</td>\n",
       "      <td>822</td>\n",
       "      <td>High School High (1996)</td>\n",
       "      <td>Comedy</td>\n",
       "      <td>0.234224</td>\n",
       "    </tr>\n",
       "    <tr>\n",
       "      <th>74</th>\n",
       "      <td>6040</td>\n",
       "      <td>1835</td>\n",
       "      <td>Henry Fool (1997)</td>\n",
       "      <td>Comedy|Drama</td>\n",
       "      <td>0.231626</td>\n",
       "    </tr>\n",
       "    <tr>\n",
       "      <th>75</th>\n",
       "      <td>6040</td>\n",
       "      <td>1847</td>\n",
       "      <td>Buffalo 66 (1998)</td>\n",
       "      <td>Action|Comedy|Drama</td>\n",
       "      <td>0.227505</td>\n",
       "    </tr>\n",
       "    <tr>\n",
       "      <th>76</th>\n",
       "      <td>6040</td>\n",
       "      <td>1212</td>\n",
       "      <td>Right Stuff, The (1983)</td>\n",
       "      <td>Drama</td>\n",
       "      <td>0.227297</td>\n",
       "    </tr>\n",
       "    <tr>\n",
       "      <th>77</th>\n",
       "      <td>6040</td>\n",
       "      <td>91</td>\n",
       "      <td>Vampire in Brooklyn (1995)</td>\n",
       "      <td>Comedy|Romance</td>\n",
       "      <td>0.226370</td>\n",
       "    </tr>\n",
       "    <tr>\n",
       "      <th>78</th>\n",
       "      <td>6040</td>\n",
       "      <td>349</td>\n",
       "      <td>Crow, The (1994)</td>\n",
       "      <td>Action|Romance|Thriller</td>\n",
       "      <td>0.221620</td>\n",
       "    </tr>\n",
       "    <tr>\n",
       "      <th>79</th>\n",
       "      <td>6040</td>\n",
       "      <td>1499</td>\n",
       "      <td>Shall We Dance? (Shall We Dansu?) (1996)</td>\n",
       "      <td>Comedy</td>\n",
       "      <td>0.219728</td>\n",
       "    </tr>\n",
       "    <tr>\n",
       "      <th>80</th>\n",
       "      <td>6040</td>\n",
       "      <td>682</td>\n",
       "      <td>Mrs. Winterbourne (1996)</td>\n",
       "      <td>Comedy|Romance</td>\n",
       "      <td>0.219535</td>\n",
       "    </tr>\n",
       "    <tr>\n",
       "      <th>81</th>\n",
       "      <td>6040</td>\n",
       "      <td>370</td>\n",
       "      <td>Richie Rich (1994)</td>\n",
       "      <td>Children's|Comedy</td>\n",
       "      <td>0.214529</td>\n",
       "    </tr>\n",
       "    <tr>\n",
       "      <th>82</th>\n",
       "      <td>6040</td>\n",
       "      <td>2588</td>\n",
       "      <td>Rocky Horror Picture Show, The (1975)</td>\n",
       "      <td>Comedy|Horror|Musical|Sci-Fi</td>\n",
       "      <td>0.210548</td>\n",
       "    </tr>\n",
       "    <tr>\n",
       "      <th>83</th>\n",
       "      <td>6040</td>\n",
       "      <td>1647</td>\n",
       "      <td>Apostle, The (1997)</td>\n",
       "      <td>Drama</td>\n",
       "      <td>0.208878</td>\n",
       "    </tr>\n",
       "    <tr>\n",
       "      <th>84</th>\n",
       "      <td>6040</td>\n",
       "      <td>1393</td>\n",
       "      <td>Evita (1996)</td>\n",
       "      <td>Drama|Musical</td>\n",
       "      <td>0.206191</td>\n",
       "    </tr>\n",
       "    <tr>\n",
       "      <th>85</th>\n",
       "      <td>6040</td>\n",
       "      <td>3715</td>\n",
       "      <td>Kid, The (2000)</td>\n",
       "      <td>Comedy</td>\n",
       "      <td>0.205932</td>\n",
       "    </tr>\n",
       "    <tr>\n",
       "      <th>86</th>\n",
       "      <td>6040</td>\n",
       "      <td>2772</td>\n",
       "      <td>Stir of Echoes (1999)</td>\n",
       "      <td>Thriller</td>\n",
       "      <td>0.205782</td>\n",
       "    </tr>\n",
       "    <tr>\n",
       "      <th>87</th>\n",
       "      <td>6040</td>\n",
       "      <td>1374</td>\n",
       "      <td>Tin Men (1987)</td>\n",
       "      <td>Comedy|Drama</td>\n",
       "      <td>0.205710</td>\n",
       "    </tr>\n",
       "    <tr>\n",
       "      <th>88</th>\n",
       "      <td>6040</td>\n",
       "      <td>3705</td>\n",
       "      <td>House Party 2 (1991)</td>\n",
       "      <td>Comedy</td>\n",
       "      <td>0.192429</td>\n",
       "    </tr>\n",
       "    <tr>\n",
       "      <th>89</th>\n",
       "      <td>6040</td>\n",
       "      <td>2518</td>\n",
       "      <td>Life (1999)</td>\n",
       "      <td>Comedy</td>\n",
       "      <td>0.190756</td>\n",
       "    </tr>\n",
       "    <tr>\n",
       "      <th>90</th>\n",
       "      <td>6040</td>\n",
       "      <td>1958</td>\n",
       "      <td>Mafia! (1998)</td>\n",
       "      <td>Comedy|Crime</td>\n",
       "      <td>0.187257</td>\n",
       "    </tr>\n",
       "    <tr>\n",
       "      <th>91</th>\n",
       "      <td>6040</td>\n",
       "      <td>527</td>\n",
       "      <td>Secret Garden, The (1993)</td>\n",
       "      <td>Children's|Drama</td>\n",
       "      <td>0.186091</td>\n",
       "    </tr>\n",
       "    <tr>\n",
       "      <th>92</th>\n",
       "      <td>6040</td>\n",
       "      <td>3076</td>\n",
       "      <td>Cradle Will Rock, The (1999)</td>\n",
       "      <td>Drama</td>\n",
       "      <td>0.179577</td>\n",
       "    </tr>\n",
       "    <tr>\n",
       "      <th>93</th>\n",
       "      <td>6040</td>\n",
       "      <td>2125</td>\n",
       "      <td>Untouchables, The (1987)</td>\n",
       "      <td>Action|Crime|Drama</td>\n",
       "      <td>0.176673</td>\n",
       "    </tr>\n",
       "    <tr>\n",
       "      <th>94</th>\n",
       "      <td>6040</td>\n",
       "      <td>3527</td>\n",
       "      <td>Screwed (2000)</td>\n",
       "      <td>Comedy</td>\n",
       "      <td>0.176139</td>\n",
       "    </tr>\n",
       "    <tr>\n",
       "      <th>95</th>\n",
       "      <td>6040</td>\n",
       "      <td>3525</td>\n",
       "      <td>Center Stage (2000)</td>\n",
       "      <td>Drama</td>\n",
       "      <td>0.168541</td>\n",
       "    </tr>\n",
       "    <tr>\n",
       "      <th>96</th>\n",
       "      <td>6040</td>\n",
       "      <td>2651</td>\n",
       "      <td>Inspector Gadget (1999)</td>\n",
       "      <td>Action|Adventure|Children's|Comedy</td>\n",
       "      <td>0.156678</td>\n",
       "    </tr>\n",
       "    <tr>\n",
       "      <th>97</th>\n",
       "      <td>6040</td>\n",
       "      <td>701</td>\n",
       "      <td>Celtic Pride (1996)</td>\n",
       "      <td>Comedy</td>\n",
       "      <td>0.155640</td>\n",
       "    </tr>\n",
       "    <tr>\n",
       "      <th>98</th>\n",
       "      <td>6040</td>\n",
       "      <td>1450</td>\n",
       "      <td>Saint, The (1997)</td>\n",
       "      <td>Action|Romance|Thriller</td>\n",
       "      <td>0.155475</td>\n",
       "    </tr>\n",
       "    <tr>\n",
       "      <th>99</th>\n",
       "      <td>6040</td>\n",
       "      <td>3495</td>\n",
       "      <td>Flintstones in Viva Rock Vegas, The (2000)</td>\n",
       "      <td>Children's|Comedy</td>\n",
       "      <td>0.152204</td>\n",
       "    </tr>\n",
       "    <tr>\n",
       "      <th>100</th>\n",
       "      <td>6040</td>\n",
       "      <td>608</td>\n",
       "      <td>Pallbearer, The (1996)</td>\n",
       "      <td>Comedy</td>\n",
       "      <td>0.152156</td>\n",
       "    </tr>\n",
       "  </tbody>\n",
       "</table>\n",
       "</div>"
      ],
      "text/plain": [
       "     userId  movieId                                               name  \\\n",
       "0      6040     1720                         Wedding Singer, The (1998)   \n",
       "1      6040     1899                         Breakfast Club, The (1985)   \n",
       "2      6040     1854                There's Something About Mary (1998)   \n",
       "3      6040     2222                         Edward Scissorhands (1990)   \n",
       "4      6040      102                               Happy Gilmore (1996)   \n",
       "5      6040     2252                               Pleasantville (1998)   \n",
       "6      6040       10                     American President, The (1995)   \n",
       "7      6040     2625                                   Big Daddy (1999)   \n",
       "8      6040     2631        South Park: Bigger, Longer and Uncut (1999)   \n",
       "9      6040      368                               Reality Bites (1994)   \n",
       "10     6040     1455                                   Liar Liar (1997)   \n",
       "11     6040     1656                           Good Will Hunting (1997)   \n",
       "12     6040     2075                             Sixteen Candles (1984)   \n",
       "13     6040     2728                                         Big (1988)   \n",
       "14     6040      437                          Dazed and Confused (1993)   \n",
       "15     6040     3467                           Keeping the Faith (2000)   \n",
       "16     6040      139                               Birdcage, The (1996)   \n",
       "17     6040      582                                  Home Alone (1990)   \n",
       "18     6040     1683                           Big Lebowski, The (1998)   \n",
       "19     6040     2472                            Cruel Intentions (1999)   \n",
       "20     6040     2309                              Police Academy (1984)   \n",
       "21     6040     2935                               Bachelor, The (1999)   \n",
       "22     6040     3229                                 Boiler Room (2000)   \n",
       "23     6040     1211                                  Annie Hall (1977)   \n",
       "24     6040      510                                    Ref, The (1994)   \n",
       "25     6040     1081                  E.T. the Extra-Terrestrial (1982)   \n",
       "26     6040     2220                                 Player, The (1992)   \n",
       "27     6040      538                                  Son in Law (1993)   \n",
       "28     6040     1171                           Strictly Ballroom (1992)   \n",
       "29     6040     2401                            Crocodile Dundee (1986)   \n",
       "30     6040     1227                               Graduate, The (1967)   \n",
       "31     6040      558                    Welcome to the Dollhouse (1995)   \n",
       "32     6040      657               Kids in the Hall: Brain Candy (1996)   \n",
       "33     6040     2232                History of the World: Part I (1981)   \n",
       "34     6040      523                            Schindler's List (1993)   \n",
       "35     6040     3329                 Muppets Take Manhattan, The (1984)   \n",
       "36     6040      591                        Beauty and the Beast (1991)   \n",
       "37     6040      464  Englishman Who Went Up a Hill, But Came Down a...   \n",
       "38     6040     3443                                Return to Me (2000)   \n",
       "39     6040     3328                     Great Muppet Caper, The (1981)   \n",
       "40     6040     2820                             Mystery, Alaska (1999)   \n",
       "41     6040     2511                                          Go (1999)   \n",
       "42     6040     3088                               Stuart Little (1999)   \n",
       "43     6040     1663     Midnight in the Garden of Good and Evil (1997)   \n",
       "44     6040     3181                                       Alive (1993)   \n",
       "45     6040      425                                   Cabin Boy (1994)   \n",
       "46     6040     1336                                       Shine (1996)   \n",
       "47     6040     1202                         Blues Brothers, The (1980)   \n",
       "48     6040     3841                                Best in Show (2000)   \n",
       "49     6040     3291                                    Hoosiers (1986)   \n",
       "50     6040      450                                   Firm, The (1993)   \n",
       "51     6040       99                               Bottle Rocket (1996)   \n",
       "52     6040     1270                      Some Kind of Wonderful (1987)   \n",
       "53     6040      219                           Circle of Friends (1995)   \n",
       "54     6040     2325                        Prince of Egypt, The (1998)   \n",
       "55     6040     2064                   Adventures in Babysitting (1987)   \n",
       "56     6040      191                                   Showgirls (1995)   \n",
       "57     6040     2505                         Out-of-Towners, The (1999)   \n",
       "58     6040      367                                  Paper, The (1994)   \n",
       "59     6040     1794            Major League: Back to the Minors (1998)   \n",
       "60     6040     1078                            Crying Game, The (1992)   \n",
       "61     6040     2256                                     Orgazmo (1997)   \n",
       "62     6040     2619                     General's Daughter, The (1999)   \n",
       "63     6040     1602                           House of Yes, The (1997)   \n",
       "64     6040      410                           Air Up There, The (1994)   \n",
       "65     6040     1878                             West Side Story (1961)   \n",
       "66     6040     1177                                 Up in Smoke (1978)   \n",
       "67     6040     3438                             Odd Couple, The (1968)   \n",
       "68     6040     2018                                   Peter Pan (1953)   \n",
       "69     6040     1019                         Alice in Wonderland (1951)   \n",
       "70     6040      424                               Bronx Tale, A (1993)   \n",
       "71     6040     2527                                   SLC Punk! (1998)   \n",
       "72     6040     1259                              Night on Earth (1991)   \n",
       "73     6040      822                            High School High (1996)   \n",
       "74     6040     1835                                  Henry Fool (1997)   \n",
       "75     6040     1847                                  Buffalo 66 (1998)   \n",
       "76     6040     1212                            Right Stuff, The (1983)   \n",
       "77     6040       91                         Vampire in Brooklyn (1995)   \n",
       "78     6040      349                                   Crow, The (1994)   \n",
       "79     6040     1499           Shall We Dance? (Shall We Dansu?) (1996)   \n",
       "80     6040      682                           Mrs. Winterbourne (1996)   \n",
       "81     6040      370                                 Richie Rich (1994)   \n",
       "82     6040     2588              Rocky Horror Picture Show, The (1975)   \n",
       "83     6040     1647                                Apostle, The (1997)   \n",
       "84     6040     1393                                       Evita (1996)   \n",
       "85     6040     3715                                    Kid, The (2000)   \n",
       "86     6040     2772                              Stir of Echoes (1999)   \n",
       "87     6040     1374                                     Tin Men (1987)   \n",
       "88     6040     3705                               House Party 2 (1991)   \n",
       "89     6040     2518                                        Life (1999)   \n",
       "90     6040     1958                                      Mafia! (1998)   \n",
       "91     6040      527                          Secret Garden, The (1993)   \n",
       "92     6040     3076                       Cradle Will Rock, The (1999)   \n",
       "93     6040     2125                           Untouchables, The (1987)   \n",
       "94     6040     3527                                     Screwed (2000)   \n",
       "95     6040     3525                                Center Stage (2000)   \n",
       "96     6040     2651                            Inspector Gadget (1999)   \n",
       "97     6040      701                                Celtic Pride (1996)   \n",
       "98     6040     1450                                  Saint, The (1997)   \n",
       "99     6040     3495         Flintstones in Viva Rock Vegas, The (2000)   \n",
       "100    6040      608                             Pallbearer, The (1996)   \n",
       "\n",
       "                                    genre      pred  \n",
       "0                          Comedy|Romance  0.953705  \n",
       "1                            Comedy|Drama  0.938518  \n",
       "2                                  Comedy  0.923268  \n",
       "3                           Drama|Romance  0.916178  \n",
       "4                                  Comedy  0.890119  \n",
       "5                                  Comedy  0.873970  \n",
       "6                    Comedy|Drama|Romance  0.870376  \n",
       "7                                  Comedy  0.862656  \n",
       "8                        Animation|Comedy  0.846404  \n",
       "9                            Comedy|Drama  0.804024  \n",
       "10                                 Comedy  0.802922  \n",
       "11                                  Drama  0.791316  \n",
       "12                                 Comedy  0.781505  \n",
       "13                         Comedy|Fantasy  0.776912  \n",
       "14                                 Comedy  0.765360  \n",
       "15                         Comedy|Romance  0.748949  \n",
       "16                                 Comedy  0.745358  \n",
       "17                      Children's|Comedy  0.743778  \n",
       "18          Comedy|Crime|Mystery|Thriller  0.660356  \n",
       "19                                  Drama  0.631394  \n",
       "20                                 Comedy  0.630691  \n",
       "21                         Comedy|Romance  0.620164  \n",
       "22                                  Drama  0.573778  \n",
       "23                         Comedy|Romance  0.570235  \n",
       "24                                 Comedy  0.561962  \n",
       "25        Children's|Drama|Fantasy|Sci-Fi  0.561268  \n",
       "26                           Comedy|Drama  0.553056  \n",
       "27                                 Comedy  0.551621  \n",
       "28                         Comedy|Romance  0.550798  \n",
       "29                       Adventure|Comedy  0.545472  \n",
       "30                          Drama|Romance  0.537437  \n",
       "31                           Comedy|Drama  0.535411  \n",
       "32                                 Comedy  0.533074  \n",
       "33                                 Comedy  0.528779  \n",
       "34                              Drama|War  0.522859  \n",
       "35                      Children's|Comedy  0.521651  \n",
       "36           Animation|Children's|Musical  0.517902  \n",
       "37                         Comedy|Romance  0.508434  \n",
       "38                          Drama|Romance  0.507358  \n",
       "39                      Children's|Comedy  0.485220  \n",
       "40                                 Comedy  0.446405  \n",
       "41                                  Crime  0.443854  \n",
       "42                      Children's|Comedy  0.440724  \n",
       "43             Comedy|Crime|Drama|Mystery  0.440399  \n",
       "44                                  Drama  0.416941  \n",
       "45                                 Comedy  0.410982  \n",
       "46                          Drama|Romance  0.404563  \n",
       "47                  Action|Comedy|Musical  0.401079  \n",
       "48                                 Comedy  0.396903  \n",
       "49                                  Drama  0.391457  \n",
       "50                         Drama|Thriller  0.390481  \n",
       "51                                 Comedy  0.390144  \n",
       "52                          Drama|Romance  0.390112  \n",
       "53                          Drama|Romance  0.388880  \n",
       "54                      Animation|Musical  0.369408  \n",
       "55                       Adventure|Comedy  0.369269  \n",
       "56                                  Drama  0.349766  \n",
       "57                                 Comedy  0.339203  \n",
       "58                           Comedy|Drama  0.336078  \n",
       "59                                 Comedy  0.329450  \n",
       "60                      Drama|Romance|War  0.326364  \n",
       "61                                 Comedy  0.320216  \n",
       "62                         Drama|Thriller  0.305757  \n",
       "63                  Comedy|Drama|Thriller  0.287187  \n",
       "64                                 Comedy  0.269381  \n",
       "65                        Musical|Romance  0.268116  \n",
       "66                                 Comedy  0.265824  \n",
       "67                                 Comedy  0.257081  \n",
       "68   Animation|Children's|Fantasy|Musical  0.243296  \n",
       "69           Animation|Children's|Musical  0.239906  \n",
       "70                                  Drama  0.237988  \n",
       "71                           Comedy|Drama  0.235760  \n",
       "72                           Comedy|Drama  0.235167  \n",
       "73                                 Comedy  0.234224  \n",
       "74                           Comedy|Drama  0.231626  \n",
       "75                    Action|Comedy|Drama  0.227505  \n",
       "76                                  Drama  0.227297  \n",
       "77                         Comedy|Romance  0.226370  \n",
       "78                Action|Romance|Thriller  0.221620  \n",
       "79                                 Comedy  0.219728  \n",
       "80                         Comedy|Romance  0.219535  \n",
       "81                      Children's|Comedy  0.214529  \n",
       "82           Comedy|Horror|Musical|Sci-Fi  0.210548  \n",
       "83                                  Drama  0.208878  \n",
       "84                          Drama|Musical  0.206191  \n",
       "85                                 Comedy  0.205932  \n",
       "86                               Thriller  0.205782  \n",
       "87                           Comedy|Drama  0.205710  \n",
       "88                                 Comedy  0.192429  \n",
       "89                                 Comedy  0.190756  \n",
       "90                           Comedy|Crime  0.187257  \n",
       "91                       Children's|Drama  0.186091  \n",
       "92                                  Drama  0.179577  \n",
       "93                     Action|Crime|Drama  0.176673  \n",
       "94                                 Comedy  0.176139  \n",
       "95                                  Drama  0.168541  \n",
       "96     Action|Adventure|Children's|Comedy  0.156678  \n",
       "97                                 Comedy  0.155640  \n",
       "98                Action|Romance|Thriller  0.155475  \n",
       "99                      Children's|Comedy  0.152204  \n",
       "100                                Comedy  0.152156  "
      ]
     },
     "metadata": {},
     "output_type": "display_data"
    }
   ],
   "source": [
    "df_test_user[\"pred\"] = predict(dcn, test_user_loader, verbose=True).numpy()\n",
    "display(create_test_user_display_df(df_test_user, df_movies, \"pred\"))"
   ]
  }
 ],
 "metadata": {
  "kernelspec": {
   "display_name": "Python 3 (ipykernel)",
   "language": "python",
   "name": "python3"
  },
  "language_info": {
   "codemirror_mode": {
    "name": "ipython",
    "version": 3
   },
   "file_extension": ".py",
   "mimetype": "text/x-python",
   "name": "python",
   "nbconvert_exporter": "python",
   "pygments_lexer": "ipython3",
   "version": "3.12.2"
  }
 },
 "nbformat": 4,
 "nbformat_minor": 5
}
