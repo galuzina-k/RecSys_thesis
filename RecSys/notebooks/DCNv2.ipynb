{
 "cells": [
  {
   "cell_type": "code",
   "execution_count": 1,
   "id": "2834cbe0-e27a-4649-9846-737e8eb87106",
   "metadata": {},
   "outputs": [
    {
     "data": {
      "text/plain": [
       "'/Users/kristina/Desktop/University/COURSE_WORK/RecSys_thesis/recsysvenv/bin/python3.12'"
      ]
     },
     "execution_count": 1,
     "metadata": {},
     "output_type": "execute_result"
    }
   ],
   "source": [
    "## DO NOT ERASE THIS. IMPORTANT TO CORRECTLY IMPORT MODULES\n",
    "import sys\n",
    "\n",
    "sys.path.append(\"../\")\n",
    "sys.executable"
   ]
  },
  {
   "cell_type": "code",
   "execution_count": 2,
   "id": "03d08ba1",
   "metadata": {},
   "outputs": [],
   "source": [
    "import pandas as pd\n",
    "\n",
    "pd.set_option(\"display.max_rows\", 102)\n",
    "from tqdm.auto import tqdm\n",
    "\n",
    "import torch\n",
    "from torch.utils.data import DataLoader, TensorDataset\n",
    "\n",
    "from sklearn.preprocessing import OrdinalEncoder, StandardScaler\n",
    "\n",
    "from src.utils import (\n",
    "    load_MovieLens,\n",
    "    create_test_user,\n",
    "    train_test_val_split,\n",
    "    seed_everything,\n",
    "    trainDatasetWithNumCatFeatures,\n",
    "    split_test_df,\n",
    "    add_not_watched_movies,\n",
    "    create_test_user_display_df,\n",
    "    train,\n",
    "    predict,\n",
    ")\n",
    "from src.models import DCNv2\n",
    "from src.metrics import reccomendation_report"
   ]
  },
  {
   "cell_type": "markdown",
   "id": "2a032ae8",
   "metadata": {},
   "source": [
    "## Constants"
   ]
  },
  {
   "cell_type": "code",
   "execution_count": 3,
   "id": "8de185e7",
   "metadata": {},
   "outputs": [],
   "source": [
    "DATA_FOLDER = \"../../data/ml-1m/\"\n",
    "RANDOM_STATE = 7"
   ]
  },
  {
   "cell_type": "code",
   "execution_count": 4,
   "id": "1136b767-5777-4471-8136-d4a3cdeae7dd",
   "metadata": {},
   "outputs": [],
   "source": [
    "seed_everything(RANDOM_STATE)"
   ]
  },
  {
   "cell_type": "markdown",
   "id": "c0722360",
   "metadata": {},
   "source": [
    "## Data"
   ]
  },
  {
   "cell_type": "code",
   "execution_count": 5,
   "id": "084d98fb-79e5-4372-bde2-8662ef0b3d41",
   "metadata": {},
   "outputs": [],
   "source": [
    "df_users, df_movies, df_ratings = load_MovieLens(DATA_FOLDER)"
   ]
  },
  {
   "cell_type": "markdown",
   "id": "177d0b85-4b52-46df-b89f-23c743748f5b",
   "metadata": {},
   "source": [
    "### Creating a test_user"
   ]
  },
  {
   "cell_type": "code",
   "execution_count": 6,
   "id": "eba6aff5-c0e8-491b-8a45-0b681e66b429",
   "metadata": {},
   "outputs": [
    {
     "name": "stdout",
     "output_type": "stream",
     "text": [
      "Test user watch list:\n"
     ]
    },
    {
     "data": {
      "text/html": [
       "<div>\n",
       "<style scoped>\n",
       "    .dataframe tbody tr th:only-of-type {\n",
       "        vertical-align: middle;\n",
       "    }\n",
       "\n",
       "    .dataframe tbody tr th {\n",
       "        vertical-align: top;\n",
       "    }\n",
       "\n",
       "    .dataframe thead th {\n",
       "        text-align: right;\n",
       "    }\n",
       "</style>\n",
       "<table border=\"1\" class=\"dataframe\">\n",
       "  <thead>\n",
       "    <tr style=\"text-align: right;\">\n",
       "      <th></th>\n",
       "      <th>userId</th>\n",
       "      <th>movieId</th>\n",
       "      <th>rating</th>\n",
       "      <th>timestamp</th>\n",
       "      <th>name</th>\n",
       "      <th>genre</th>\n",
       "    </tr>\n",
       "  </thead>\n",
       "  <tbody>\n",
       "    <tr>\n",
       "      <th>0</th>\n",
       "      <td>6040</td>\n",
       "      <td>6</td>\n",
       "      <td>5</td>\n",
       "      <td>0</td>\n",
       "      <td>Sabrina (1995)</td>\n",
       "      <td>Comedy|Romance</td>\n",
       "    </tr>\n",
       "    <tr>\n",
       "      <th>1</th>\n",
       "      <td>6040</td>\n",
       "      <td>16</td>\n",
       "      <td>5</td>\n",
       "      <td>1</td>\n",
       "      <td>Sense and Sensibility (1995)</td>\n",
       "      <td>Drama|Romance</td>\n",
       "    </tr>\n",
       "    <tr>\n",
       "      <th>2</th>\n",
       "      <td>6040</td>\n",
       "      <td>3192</td>\n",
       "      <td>5</td>\n",
       "      <td>2</td>\n",
       "      <td>Singles (1992)</td>\n",
       "      <td>Comedy|Drama|Romance</td>\n",
       "    </tr>\n",
       "    <tr>\n",
       "      <th>3</th>\n",
       "      <td>6040</td>\n",
       "      <td>1461</td>\n",
       "      <td>5</td>\n",
       "      <td>3</td>\n",
       "      <td>Love and Other Catastrophes (1996)</td>\n",
       "      <td>Romance</td>\n",
       "    </tr>\n",
       "    <tr>\n",
       "      <th>4</th>\n",
       "      <td>6040</td>\n",
       "      <td>827</td>\n",
       "      <td>5</td>\n",
       "      <td>4</td>\n",
       "      <td>Emma (1996)</td>\n",
       "      <td>Comedy|Drama|Romance</td>\n",
       "    </tr>\n",
       "    <tr>\n",
       "      <th>5</th>\n",
       "      <td>6040</td>\n",
       "      <td>887</td>\n",
       "      <td>5</td>\n",
       "      <td>5</td>\n",
       "      <td>Singin' in the Rain (1952)</td>\n",
       "      <td>Musical|Romance</td>\n",
       "    </tr>\n",
       "    <tr>\n",
       "      <th>6</th>\n",
       "      <td>6040</td>\n",
       "      <td>593</td>\n",
       "      <td>5</td>\n",
       "      <td>6</td>\n",
       "      <td>Pretty Woman (1990)</td>\n",
       "      <td>Comedy|Romance</td>\n",
       "    </tr>\n",
       "  </tbody>\n",
       "</table>\n",
       "</div>"
      ],
      "text/plain": [
       "   userId  movieId  rating  timestamp                                name  \\\n",
       "0    6040        6       5          0                      Sabrina (1995)   \n",
       "1    6040       16       5          1        Sense and Sensibility (1995)   \n",
       "2    6040     3192       5          2                      Singles (1992)   \n",
       "3    6040     1461       5          3  Love and Other Catastrophes (1996)   \n",
       "4    6040      827       5          4                         Emma (1996)   \n",
       "5    6040      887       5          5          Singin' in the Rain (1952)   \n",
       "6    6040      593       5          6                 Pretty Woman (1990)   \n",
       "\n",
       "                  genre  \n",
       "0        Comedy|Romance  \n",
       "1         Drama|Romance  \n",
       "2  Comedy|Drama|Romance  \n",
       "3               Romance  \n",
       "4  Comedy|Drama|Romance  \n",
       "5       Musical|Romance  \n",
       "6        Comedy|Romance  "
      ]
     },
     "metadata": {},
     "output_type": "display_data"
    }
   ],
   "source": [
    "df_users, df_ratings, new_user_id = create_test_user(\n",
    "    df_users, df_ratings, [6, 16, 3192, 1461, 827, 887, 593]\n",
    ")\n",
    "print(\"Test user watch list:\")\n",
    "display(df_ratings[df_ratings.userId == new_user_id].merge(df_movies, on=\"movieId\"))"
   ]
  },
  {
   "cell_type": "markdown",
   "id": "59ad0c97-ef07-4ea3-a562-2c3e6c9450cd",
   "metadata": {},
   "source": [
    "### Train-test split\n",
    "Methodology: Last user interaction is a test item. The rest is train. Validation part is 20% of test."
   ]
  },
  {
   "cell_type": "code",
   "execution_count": 7,
   "id": "640bea58-f388-4778-8a1b-2622a636eee9",
   "metadata": {},
   "outputs": [
    {
     "data": {
      "application/vnd.jupyter.widget-view+json": {
       "model_id": "ba3ecf9793d34597a04900e0dc2a6a01",
       "version_major": 2,
       "version_minor": 0
      },
      "text/plain": [
       "Enriching test:   0%|          | 0/4832 [00:00<?, ?it/s]"
      ]
     },
     "metadata": {},
     "output_type": "display_data"
    },
    {
     "data": {
      "application/vnd.jupyter.widget-view+json": {
       "model_id": "e7f047c6fc5f4f3fa08b12ad346a360e",
       "version_major": 2,
       "version_minor": 0
      },
      "text/plain": [
       "Enriching val:   0%|          | 0/1209 [00:00<?, ?it/s]"
      ]
     },
     "metadata": {},
     "output_type": "display_data"
    }
   ],
   "source": [
    "df_train, df_test, df_val = train_test_val_split(df_ratings, df_movies, RANDOM_STATE)"
   ]
  },
  {
   "cell_type": "markdown",
   "id": "af5990e2-612a-4acc-b55c-986a278eb9d5",
   "metadata": {},
   "source": [
    "### Loading additional data"
   ]
  },
  {
   "cell_type": "code",
   "execution_count": 8,
   "id": "76aedd5b-054e-4408-be64-3f29b982fe2a",
   "metadata": {},
   "outputs": [],
   "source": [
    "# cos_dist = computeCosineSimilarities(df_train, \"userId\", \"movieId\", df_movies[\"movieId\"].nunique())\n",
    "\n",
    "# with open(\"../../data/cos_dist.pt\", \"wb\") as f:\n",
    "#     torch.save(cos_dist, f)\n",
    "\n",
    "with open(\"../../data/cos_dist.pt\", \"rb\") as f:\n",
    "    cos_dist = torch.load(f)\n",
    "popularity = torch.bincount(\n",
    "    torch.tensor(df_train.movieId.values), minlength=df_movies[\"movieId\"].nunique()\n",
    ")\n",
    "popularity = popularity / torch.max(popularity)"
   ]
  },
  {
   "cell_type": "markdown",
   "id": "7b787cb3-fef7-41a0-89c7-9826f477b70f",
   "metadata": {},
   "source": [
    "### Building ordinal encoded features and normalizing continious features"
   ]
  },
  {
   "cell_type": "code",
   "execution_count": 9,
   "id": "50befcd3-47ab-43b8-8134-022b18f8afa1",
   "metadata": {},
   "outputs": [],
   "source": [
    "ord_user = OrdinalEncoder()\n",
    "user_cat = torch.tensor(ord_user.fit_transform(df_users[[\"gender\", \"occupation\"]]))\n",
    "\n",
    "ord_movie = OrdinalEncoder()\n",
    "movie_cat = torch.tensor(ord_movie.fit_transform(df_movies[[\"genre\"]]))\n",
    "\n",
    "ss_user = StandardScaler()\n",
    "user_num = torch.tensor(ss_user.fit_transform(df_users[[\"age\"]]))\n",
    "\n",
    "# features for val\n",
    "user_cat_val = user_cat[df_val[\"userId\"].values].clone().detach().to(torch.long)\n",
    "user_num_val = user_num[df_val[\"userId\"].values].clone().detach().to(torch.float)\n",
    "movie_cat_val = movie_cat[df_val[\"movieId\"].values].clone().detach().to(torch.long)\n",
    "val_cat = torch.hstack((user_cat_val, movie_cat_val))\n",
    "\n",
    "# features for test\n",
    "user_cat_test = user_cat[df_test[\"userId\"].values].clone().detach().to(torch.long)\n",
    "user_num_test = user_num[df_test[\"userId\"].values].clone().detach().to(torch.float)\n",
    "movie_cat_test = movie_cat[df_test[\"movieId\"].values].clone().detach().to(torch.long)\n",
    "test_cat = torch.hstack((user_cat_test, movie_cat_test))\n",
    "\n",
    "\n",
    "num_numeric_feats = 1\n",
    "cat_feature_vocab = [len(i) for i in ord_user.categories_] + [\n",
    "    len(i) for i in ord_movie.categories_\n",
    "]"
   ]
  },
  {
   "cell_type": "markdown",
   "id": "2dec1527-f30b-4cc2-885c-9d1b94bc085b",
   "metadata": {},
   "source": [
    "## DCN V2"
   ]
  },
  {
   "cell_type": "code",
   "execution_count": 10,
   "id": "880e8be0-c40a-4095-b551-273067cce92a",
   "metadata": {},
   "outputs": [
    {
     "data": {
      "application/vnd.jupyter.widget-view+json": {
       "model_id": "2b10108a9c2143afaf9a39fbcc7f4198",
       "version_major": 2,
       "version_minor": 0
      },
      "text/plain": [
       "  0%|          | 0/994175 [00:00<?, ?it/s]"
      ]
     },
     "metadata": {},
     "output_type": "display_data"
    }
   ],
   "source": [
    "seed_everything(RANDOM_STATE)\n",
    "train_loader = DataLoader(\n",
    "    trainDatasetWithNumCatFeatures(\n",
    "        df_train, df_movies[\"movieId\"].nunique(), user_cat, user_num, movie_cat\n",
    "    ),\n",
    "    batch_size=2048,\n",
    "    shuffle=True,\n",
    ")\n",
    "val_loader = DataLoader(\n",
    "    TensorDataset(\n",
    "        torch.tensor(df_val[\"userId\"]),\n",
    "        torch.tensor(df_val[\"movieId\"]),\n",
    "        user_num_val,\n",
    "        val_cat,\n",
    "    ),\n",
    "    batch_size=4096,\n",
    "    shuffle=False,\n",
    ")\n",
    "test_loader = DataLoader(\n",
    "    TensorDataset(\n",
    "        torch.tensor(df_test[\"userId\"]),\n",
    "        torch.tensor(df_test[\"movieId\"]),\n",
    "        user_num_test,\n",
    "        test_cat,\n",
    "    ),\n",
    "    batch_size=4096,\n",
    "    shuffle=False,\n",
    ")\n",
    "num_users = df_users[\"userId\"].nunique()\n",
    "num_items = df_movies[\"movieId\"].nunique()"
   ]
  },
  {
   "cell_type": "code",
   "execution_count": 11,
   "id": "7b612342-63cb-4893-9ae7-ee3674a45035",
   "metadata": {},
   "outputs": [
    {
     "data": {
      "text/plain": [
       "DCNv2(\n",
       "  (user_embedding): Embedding(6041, 5)\n",
       "  (item_embedding): Embedding(3883, 5)\n",
       "  (numerical_embeddings): ModuleList(\n",
       "    (0): MLP(\n",
       "      (block): Sequential(\n",
       "        (Linear): Linear(in_features=1, out_features=5, bias=True)\n",
       "      )\n",
       "    )\n",
       "  )\n",
       "  (categorical_embeddings): ModuleList(\n",
       "    (0): Embedding(2, 5)\n",
       "    (1): Embedding(21, 5)\n",
       "    (2): Embedding(301, 5)\n",
       "  )\n",
       "  (mlp): Sequential(\n",
       "    (MLP_layer_0): MLP(\n",
       "      (block): Sequential(\n",
       "        (Linear): Linear(in_features=30, out_features=32, bias=True)\n",
       "        (Activation): ReLU()\n",
       "        (Dropout): Dropout(p=0.2, inplace=False)\n",
       "        (BatchNorm): BatchNorm1d(32, eps=1e-05, momentum=0.1, affine=True, track_running_stats=True)\n",
       "      )\n",
       "    )\n",
       "    (MLP_layer_1): MLP(\n",
       "      (block): Sequential(\n",
       "        (Linear): Linear(in_features=32, out_features=32, bias=True)\n",
       "        (Activation): ReLU()\n",
       "        (Dropout): Dropout(p=0.6, inplace=False)\n",
       "        (BatchNorm): BatchNorm1d(32, eps=1e-05, momentum=0.1, affine=True, track_running_stats=True)\n",
       "      )\n",
       "    )\n",
       "    (MLP_layer_2): MLP(\n",
       "      (block): Sequential(\n",
       "        (Linear): Linear(in_features=32, out_features=32, bias=True)\n",
       "        (Activation): ReLU()\n",
       "        (Dropout): Dropout(p=0.6, inplace=False)\n",
       "        (BatchNorm): BatchNorm1d(32, eps=1e-05, momentum=0.1, affine=True, track_running_stats=True)\n",
       "      )\n",
       "    )\n",
       "    (MLP_layer_3): MLP(\n",
       "      (block): Sequential(\n",
       "        (Linear): Linear(in_features=32, out_features=32, bias=True)\n",
       "        (Activation): ReLU()\n",
       "        (Dropout): Dropout(p=0.6, inplace=False)\n",
       "        (BatchNorm): BatchNorm1d(32, eps=1e-05, momentum=0.1, affine=True, track_running_stats=True)\n",
       "      )\n",
       "    )\n",
       "  )\n",
       "  (feature_crossing): ModuleList(\n",
       "    (0-3): 4 x MLP(\n",
       "      (block): Sequential(\n",
       "        (Linear): Linear(in_features=30, out_features=30, bias=True)\n",
       "      )\n",
       "    )\n",
       "  )\n",
       "  (final): MLP(\n",
       "    (block): Sequential(\n",
       "      (Linear): Linear(in_features=62, out_features=1, bias=True)\n",
       "    )\n",
       "  )\n",
       ")"
      ]
     },
     "metadata": {},
     "output_type": "display_data"
    }
   ],
   "source": [
    "seed_everything(RANDOM_STATE)\n",
    "dcn = DCNv2(\n",
    "    num_users,\n",
    "    num_items,\n",
    "    num_numeric_feats,\n",
    "    cat_feature_vocab,\n",
    "    l=4,\n",
    "    n_mlp_layers=4,\n",
    "    mlp_layers_dim=32,\n",
    "    mlp_kwargs={\n",
    "        \"activation\": True,\n",
    "        \"dropout\": True,\n",
    "        \"batchnorm\": True,\n",
    "        \"dropout_rate\": 0.6,\n",
    "    },\n",
    ")\n",
    "display(dcn)"
   ]
  },
  {
   "cell_type": "code",
   "execution_count": 12,
   "id": "5cbf91a5-facf-453a-8d94-52cc0913b3ef",
   "metadata": {},
   "outputs": [],
   "source": [
    "optimizer = torch.optim.Adam(dcn.parameters(), lr=3e-3)\n",
    "scheduler = torch.optim.lr_scheduler.ExponentialLR(optimizer, gamma=0.8)\n",
    "criterion = torch.nn.BCELoss()\n",
    "n_epochs = 10\n",
    "device = \"cpu\""
   ]
  },
  {
   "cell_type": "code",
   "execution_count": 13,
   "id": "99a66394-5747-47a9-8bcc-8640941ea1c4",
   "metadata": {},
   "outputs": [
    {
     "data": {
      "application/vnd.jupyter.widget-view+json": {
       "model_id": "c5817b6956224286b7689d09e20a6631",
       "version_major": 2,
       "version_minor": 0
      },
      "text/plain": [
       "Epochs:   0%|          | 0/10 [00:00<?, ?it/s]"
      ]
     },
     "metadata": {},
     "output_type": "display_data"
    },
    {
     "data": {
      "application/vnd.jupyter.widget-view+json": {
       "model_id": "7c38c8b7ed934996a12ca6be4a4ffb40",
       "version_major": 2,
       "version_minor": 0
      },
      "text/plain": [
       "  0%|          | 0/2428 [00:00<?, ?batch/s]"
      ]
     },
     "metadata": {},
     "output_type": "display_data"
    },
    {
     "name": "stdout",
     "output_type": "stream",
     "text": [
      "Epoch: 0\n",
      "Train loss: 0.36806\n"
     ]
    },
    {
     "data": {
      "application/vnd.jupyter.widget-view+json": {
       "model_id": "3185b683415c4b098ec0adf576b95d2a",
       "version_major": 2,
       "version_minor": 0
      },
      "text/plain": [
       "Inference:   0%|          | 0/30 [00:00<?, ?batch/s]"
      ]
     },
     "metadata": {},
     "output_type": "display_data"
    },
    {
     "name": "stdout",
     "output_type": "stream",
     "text": [
      "{'Hit rate @ 15': tensor(0.5873),\n",
      " 'NDCG @ 15': tensor(0.2811),\n",
      " 'Diversity (ILD)': tensor(0.1406),\n",
      " 'Novelty (EPC)': tensor(0.7008)}\n"
     ]
    },
    {
     "data": {
      "application/vnd.jupyter.widget-view+json": {
       "model_id": "e05e4c2a86c24f8fb948d8f43bacd346",
       "version_major": 2,
       "version_minor": 0
      },
      "text/plain": [
       "  0%|          | 0/2428 [00:00<?, ?batch/s]"
      ]
     },
     "metadata": {},
     "output_type": "display_data"
    },
    {
     "name": "stdout",
     "output_type": "stream",
     "text": [
      "Epoch: 1\n",
      "Train loss: 0.33683\n"
     ]
    },
    {
     "data": {
      "application/vnd.jupyter.widget-view+json": {
       "model_id": "3530573ee91843a39df1e70af030d9ae",
       "version_major": 2,
       "version_minor": 0
      },
      "text/plain": [
       "Inference:   0%|          | 0/30 [00:00<?, ?batch/s]"
      ]
     },
     "metadata": {},
     "output_type": "display_data"
    },
    {
     "name": "stdout",
     "output_type": "stream",
     "text": [
      "{'Hit rate @ 15': tensor(0.6112),\n",
      " 'NDCG @ 15': tensor(0.2982),\n",
      " 'Diversity (ILD)': tensor(0.1364),\n",
      " 'Novelty (EPC)': tensor(0.7118)}\n"
     ]
    },
    {
     "data": {
      "application/vnd.jupyter.widget-view+json": {
       "model_id": "e96350e490fe4eb4b67a86f4dfcb305a",
       "version_major": 2,
       "version_minor": 0
      },
      "text/plain": [
       "  0%|          | 0/2428 [00:00<?, ?batch/s]"
      ]
     },
     "metadata": {},
     "output_type": "display_data"
    },
    {
     "name": "stdout",
     "output_type": "stream",
     "text": [
      "Epoch: 2\n",
      "Train loss: 0.32636\n"
     ]
    },
    {
     "data": {
      "application/vnd.jupyter.widget-view+json": {
       "model_id": "6f4df51562864fe4be639b05b40bf4de",
       "version_major": 2,
       "version_minor": 0
      },
      "text/plain": [
       "Inference:   0%|          | 0/30 [00:00<?, ?batch/s]"
      ]
     },
     "metadata": {},
     "output_type": "display_data"
    },
    {
     "name": "stdout",
     "output_type": "stream",
     "text": [
      "{'Hit rate @ 15': tensor(0.6228),\n",
      " 'NDCG @ 15': tensor(0.3105),\n",
      " 'Diversity (ILD)': tensor(0.1337),\n",
      " 'Novelty (EPC)': tensor(0.7198)}\n"
     ]
    },
    {
     "data": {
      "application/vnd.jupyter.widget-view+json": {
       "model_id": "e1d55bfcb3524e26b8e7da952584a86e",
       "version_major": 2,
       "version_minor": 0
      },
      "text/plain": [
       "  0%|          | 0/2428 [00:00<?, ?batch/s]"
      ]
     },
     "metadata": {},
     "output_type": "display_data"
    },
    {
     "name": "stdout",
     "output_type": "stream",
     "text": [
      "Epoch: 3\n",
      "Train loss: 0.3206\n"
     ]
    },
    {
     "data": {
      "application/vnd.jupyter.widget-view+json": {
       "model_id": "8ddeaaba318f4d9e9eceae700382b3e6",
       "version_major": 2,
       "version_minor": 0
      },
      "text/plain": [
       "Inference:   0%|          | 0/30 [00:00<?, ?batch/s]"
      ]
     },
     "metadata": {},
     "output_type": "display_data"
    },
    {
     "name": "stdout",
     "output_type": "stream",
     "text": [
      "{'Hit rate @ 15': tensor(0.6369),\n",
      " 'NDCG @ 15': tensor(0.3161),\n",
      " 'Diversity (ILD)': tensor(0.1330),\n",
      " 'Novelty (EPC)': tensor(0.7216)}\n"
     ]
    },
    {
     "data": {
      "application/vnd.jupyter.widget-view+json": {
       "model_id": "d1307f5892354fe5b1a4b8c44de7e55c",
       "version_major": 2,
       "version_minor": 0
      },
      "text/plain": [
       "  0%|          | 0/2428 [00:00<?, ?batch/s]"
      ]
     },
     "metadata": {},
     "output_type": "display_data"
    },
    {
     "name": "stdout",
     "output_type": "stream",
     "text": [
      "Epoch: 4\n",
      "Train loss: 0.3166\n"
     ]
    },
    {
     "data": {
      "application/vnd.jupyter.widget-view+json": {
       "model_id": "945673806a1045bc8c24159fb3db9d1a",
       "version_major": 2,
       "version_minor": 0
      },
      "text/plain": [
       "Inference:   0%|          | 0/30 [00:00<?, ?batch/s]"
      ]
     },
     "metadata": {},
     "output_type": "display_data"
    },
    {
     "name": "stdout",
     "output_type": "stream",
     "text": [
      "{'Hit rate @ 15': tensor(0.6377),\n",
      " 'NDCG @ 15': tensor(0.3196),\n",
      " 'Diversity (ILD)': tensor(0.1323),\n",
      " 'Novelty (EPC)': tensor(0.7239)}\n"
     ]
    },
    {
     "data": {
      "application/vnd.jupyter.widget-view+json": {
       "model_id": "9fca3d06c80c4d0da51785463dfcd1cd",
       "version_major": 2,
       "version_minor": 0
      },
      "text/plain": [
       "  0%|          | 0/2428 [00:00<?, ?batch/s]"
      ]
     },
     "metadata": {},
     "output_type": "display_data"
    },
    {
     "name": "stdout",
     "output_type": "stream",
     "text": [
      "Epoch: 5\n",
      "Train loss: 0.31359\n"
     ]
    },
    {
     "data": {
      "application/vnd.jupyter.widget-view+json": {
       "model_id": "21a9b3d7f1a1495181fe9cce21807e9b",
       "version_major": 2,
       "version_minor": 0
      },
      "text/plain": [
       "Inference:   0%|          | 0/30 [00:00<?, ?batch/s]"
      ]
     },
     "metadata": {},
     "output_type": "display_data"
    },
    {
     "name": "stdout",
     "output_type": "stream",
     "text": [
      "{'Hit rate @ 15': tensor(0.6352),\n",
      " 'NDCG @ 15': tensor(0.3186),\n",
      " 'Diversity (ILD)': tensor(0.1321),\n",
      " 'Novelty (EPC)': tensor(0.7244)}\n"
     ]
    },
    {
     "data": {
      "application/vnd.jupyter.widget-view+json": {
       "model_id": "cad49c7c32184a71abf3f60fb865879a",
       "version_major": 2,
       "version_minor": 0
      },
      "text/plain": [
       "  0%|          | 0/2428 [00:00<?, ?batch/s]"
      ]
     },
     "metadata": {},
     "output_type": "display_data"
    },
    {
     "name": "stdout",
     "output_type": "stream",
     "text": [
      "Epoch: 6\n",
      "Train loss: 0.31134\n"
     ]
    },
    {
     "data": {
      "application/vnd.jupyter.widget-view+json": {
       "model_id": "12d24d448e074fcbb8a202f512667df5",
       "version_major": 2,
       "version_minor": 0
      },
      "text/plain": [
       "Inference:   0%|          | 0/30 [00:00<?, ?batch/s]"
      ]
     },
     "metadata": {},
     "output_type": "display_data"
    },
    {
     "name": "stdout",
     "output_type": "stream",
     "text": [
      "{'Hit rate @ 15': tensor(0.6369),\n",
      " 'NDCG @ 15': tensor(0.3177),\n",
      " 'Diversity (ILD)': tensor(0.1313),\n",
      " 'Novelty (EPC)': tensor(0.7266)}\n"
     ]
    },
    {
     "data": {
      "application/vnd.jupyter.widget-view+json": {
       "model_id": "f252d1cac6e24e72b56be28fd45deacc",
       "version_major": 2,
       "version_minor": 0
      },
      "text/plain": [
       "  0%|          | 0/2428 [00:00<?, ?batch/s]"
      ]
     },
     "metadata": {},
     "output_type": "display_data"
    },
    {
     "name": "stdout",
     "output_type": "stream",
     "text": [
      "Epoch: 7\n",
      "Train loss: 0.30954\n"
     ]
    },
    {
     "data": {
      "application/vnd.jupyter.widget-view+json": {
       "model_id": "a2045637227b4aec91ab328c89e432a7",
       "version_major": 2,
       "version_minor": 0
      },
      "text/plain": [
       "Inference:   0%|          | 0/30 [00:00<?, ?batch/s]"
      ]
     },
     "metadata": {},
     "output_type": "display_data"
    },
    {
     "name": "stdout",
     "output_type": "stream",
     "text": [
      "{'Hit rate @ 15': tensor(0.6443),\n",
      " 'NDCG @ 15': tensor(0.3221),\n",
      " 'Diversity (ILD)': tensor(0.1304),\n",
      " 'Novelty (EPC)': tensor(0.7296)}\n"
     ]
    },
    {
     "data": {
      "application/vnd.jupyter.widget-view+json": {
       "model_id": "7fcd6217e1cc46d9aac33f23f9dca705",
       "version_major": 2,
       "version_minor": 0
      },
      "text/plain": [
       "  0%|          | 0/2428 [00:00<?, ?batch/s]"
      ]
     },
     "metadata": {},
     "output_type": "display_data"
    },
    {
     "name": "stdout",
     "output_type": "stream",
     "text": [
      "Epoch: 8\n",
      "Train loss: 0.30814\n"
     ]
    },
    {
     "data": {
      "application/vnd.jupyter.widget-view+json": {
       "model_id": "1d5f3cba457b43f7a3d38883aadf3d3c",
       "version_major": 2,
       "version_minor": 0
      },
      "text/plain": [
       "Inference:   0%|          | 0/30 [00:00<?, ?batch/s]"
      ]
     },
     "metadata": {},
     "output_type": "display_data"
    },
    {
     "name": "stdout",
     "output_type": "stream",
     "text": [
      "{'Hit rate @ 15': tensor(0.6394),\n",
      " 'NDCG @ 15': tensor(0.3198),\n",
      " 'Diversity (ILD)': tensor(0.1302),\n",
      " 'Novelty (EPC)': tensor(0.7299)}\n"
     ]
    },
    {
     "data": {
      "application/vnd.jupyter.widget-view+json": {
       "model_id": "5b94cd1fac784e2f8414362cdfc6179a",
       "version_major": 2,
       "version_minor": 0
      },
      "text/plain": [
       "  0%|          | 0/2428 [00:00<?, ?batch/s]"
      ]
     },
     "metadata": {},
     "output_type": "display_data"
    },
    {
     "name": "stdout",
     "output_type": "stream",
     "text": [
      "Epoch: 9\n",
      "Train loss: 0.30701\n"
     ]
    },
    {
     "data": {
      "application/vnd.jupyter.widget-view+json": {
       "model_id": "c70fa73e76e8423d8c2edc18544d9ff0",
       "version_major": 2,
       "version_minor": 0
      },
      "text/plain": [
       "Inference:   0%|          | 0/30 [00:00<?, ?batch/s]"
      ]
     },
     "metadata": {},
     "output_type": "display_data"
    },
    {
     "name": "stdout",
     "output_type": "stream",
     "text": [
      "{'Hit rate @ 15': tensor(0.6410),\n",
      " 'NDCG @ 15': tensor(0.3221),\n",
      " 'Diversity (ILD)': tensor(0.1303),\n",
      " 'Novelty (EPC)': tensor(0.7302)}\n",
      "CPU times: user 29min 48s, sys: 1h 23min 42s, total: 1h 53min 30s\n",
      "Wall time: 13min 40s\n"
     ]
    }
   ],
   "source": [
    "%%time\n",
    "train(\n",
    "    dcn,\n",
    "    train_loader,\n",
    "    optimizer,\n",
    "    scheduler,\n",
    "    criterion,\n",
    "    n_epochs,\n",
    "    val_loader=val_loader,\n",
    "    df_val=df_val,\n",
    "    cos_dist=cos_dist,\n",
    "    popularity=popularity,\n",
    "    verbose=True,\n",
    ")"
   ]
  },
  {
   "cell_type": "code",
   "execution_count": 14,
   "id": "0d3aea72-c5c8-47b5-9567-7e6e01519eb9",
   "metadata": {},
   "outputs": [
    {
     "data": {
      "text/plain": [
       "{'Hit rate @ 15': tensor(0.6312),\n",
       " 'NDCG @ 15': tensor(0.3186),\n",
       " 'Diversity (ILD)': tensor(0.1311),\n",
       " 'Novelty (EPC)': tensor(0.7275)}"
      ]
     },
     "execution_count": 14,
     "metadata": {},
     "output_type": "execute_result"
    }
   ],
   "source": [
    "df_test[\"pred\"] = predict(dcn, test_loader, verbose=False).numpy()\n",
    "pred, target, pred_items = split_test_df(df_test, \"userId\", \"movieId\", \"pred\", \"action\")\n",
    "reccomendation_report(pred, target, pred_items, cos_dist, popularity, k=15)"
   ]
  },
  {
   "cell_type": "markdown",
   "id": "fe8bfbbf-2eae-4fc1-a08b-53c2505f60b0",
   "metadata": {},
   "source": [
    "## Test user recommendations"
   ]
  },
  {
   "cell_type": "code",
   "execution_count": 15,
   "id": "9eac1de0-1009-4b0c-a160-c5b2fa04ceda",
   "metadata": {},
   "outputs": [],
   "source": [
    "df_test_user = add_not_watched_movies(new_user_id, df_test, df_train, df_movies)\n",
    "\n",
    "# features for test user\n",
    "user_cat_test_user = (\n",
    "    user_cat[df_test_user[\"userId\"].values].clone().detach().to(torch.long)\n",
    ")\n",
    "user_num_test_user = (\n",
    "    user_num[df_test_user[\"userId\"].values].clone().detach().to(torch.float)\n",
    ")\n",
    "movie_cat_test_user = (\n",
    "    movie_cat[df_test_user[\"movieId\"].values].clone().detach().to(torch.long)\n",
    ")\n",
    "test_user_cat = torch.hstack((user_cat_test_user, movie_cat_test_user))\n",
    "\n",
    "test_user_loader = DataLoader(\n",
    "    TensorDataset(\n",
    "        torch.tensor(df_test_user[\"userId\"]),\n",
    "        torch.tensor(df_test_user[\"movieId\"]),\n",
    "        user_num_test_user,\n",
    "        test_user_cat,\n",
    "    ),\n",
    "    batch_size=4096,\n",
    "    shuffle=False,\n",
    ")"
   ]
  },
  {
   "cell_type": "code",
   "execution_count": 16,
   "id": "73cb5232-ec11-4c5b-93d3-d7808424e8cd",
   "metadata": {},
   "outputs": [
    {
     "data": {
      "application/vnd.jupyter.widget-view+json": {
       "model_id": "d61b7c32f0eb4effa24b27ca5bcff3fe",
       "version_major": 2,
       "version_minor": 0
      },
      "text/plain": [
       "Inference:   0%|          | 0/1 [00:00<?, ?batch/s]"
      ]
     },
     "metadata": {},
     "output_type": "display_data"
    },
    {
     "data": {
      "text/html": [
       "<div>\n",
       "<style scoped>\n",
       "    .dataframe tbody tr th:only-of-type {\n",
       "        vertical-align: middle;\n",
       "    }\n",
       "\n",
       "    .dataframe tbody tr th {\n",
       "        vertical-align: top;\n",
       "    }\n",
       "\n",
       "    .dataframe thead th {\n",
       "        text-align: right;\n",
       "    }\n",
       "</style>\n",
       "<table border=\"1\" class=\"dataframe\">\n",
       "  <thead>\n",
       "    <tr style=\"text-align: right;\">\n",
       "      <th></th>\n",
       "      <th>userId</th>\n",
       "      <th>movieId</th>\n",
       "      <th>name</th>\n",
       "      <th>genre</th>\n",
       "      <th>pred</th>\n",
       "    </tr>\n",
       "  </thead>\n",
       "  <tbody>\n",
       "    <tr>\n",
       "      <th>0</th>\n",
       "      <td>6040</td>\n",
       "      <td>2222</td>\n",
       "      <td>Edward Scissorhands (1990)</td>\n",
       "      <td>Drama|Romance</td>\n",
       "      <td>0.944912</td>\n",
       "    </tr>\n",
       "    <tr>\n",
       "      <th>1</th>\n",
       "      <td>6040</td>\n",
       "      <td>1899</td>\n",
       "      <td>Breakfast Club, The (1985)</td>\n",
       "      <td>Comedy|Drama</td>\n",
       "      <td>0.924641</td>\n",
       "    </tr>\n",
       "    <tr>\n",
       "      <th>2</th>\n",
       "      <td>6040</td>\n",
       "      <td>10</td>\n",
       "      <td>American President, The (1995)</td>\n",
       "      <td>Comedy|Drama|Romance</td>\n",
       "      <td>0.881600</td>\n",
       "    </tr>\n",
       "    <tr>\n",
       "      <th>3</th>\n",
       "      <td>6040</td>\n",
       "      <td>1081</td>\n",
       "      <td>E.T. the Extra-Terrestrial (1982)</td>\n",
       "      <td>Children's|Drama|Fantasy|Sci-Fi</td>\n",
       "      <td>0.864544</td>\n",
       "    </tr>\n",
       "    <tr>\n",
       "      <th>4</th>\n",
       "      <td>6040</td>\n",
       "      <td>1656</td>\n",
       "      <td>Good Will Hunting (1997)</td>\n",
       "      <td>Drama</td>\n",
       "      <td>0.857766</td>\n",
       "    </tr>\n",
       "    <tr>\n",
       "      <th>5</th>\n",
       "      <td>6040</td>\n",
       "      <td>2252</td>\n",
       "      <td>Pleasantville (1998)</td>\n",
       "      <td>Comedy</td>\n",
       "      <td>0.844122</td>\n",
       "    </tr>\n",
       "    <tr>\n",
       "      <th>6</th>\n",
       "      <td>6040</td>\n",
       "      <td>523</td>\n",
       "      <td>Schindler's List (1993)</td>\n",
       "      <td>Drama|War</td>\n",
       "      <td>0.840052</td>\n",
       "    </tr>\n",
       "    <tr>\n",
       "      <th>7</th>\n",
       "      <td>6040</td>\n",
       "      <td>1854</td>\n",
       "      <td>There's Something About Mary (1998)</td>\n",
       "      <td>Comedy</td>\n",
       "      <td>0.828717</td>\n",
       "    </tr>\n",
       "    <tr>\n",
       "      <th>8</th>\n",
       "      <td>6040</td>\n",
       "      <td>2728</td>\n",
       "      <td>Big (1988)</td>\n",
       "      <td>Comedy|Fantasy</td>\n",
       "      <td>0.820365</td>\n",
       "    </tr>\n",
       "    <tr>\n",
       "      <th>9</th>\n",
       "      <td>6040</td>\n",
       "      <td>1720</td>\n",
       "      <td>Wedding Singer, The (1998)</td>\n",
       "      <td>Comedy|Romance</td>\n",
       "      <td>0.789821</td>\n",
       "    </tr>\n",
       "    <tr>\n",
       "      <th>10</th>\n",
       "      <td>6040</td>\n",
       "      <td>1227</td>\n",
       "      <td>Graduate, The (1967)</td>\n",
       "      <td>Drama|Romance</td>\n",
       "      <td>0.786968</td>\n",
       "    </tr>\n",
       "    <tr>\n",
       "      <th>11</th>\n",
       "      <td>6040</td>\n",
       "      <td>1683</td>\n",
       "      <td>Big Lebowski, The (1998)</td>\n",
       "      <td>Comedy|Crime|Mystery|Thriller</td>\n",
       "      <td>0.767669</td>\n",
       "    </tr>\n",
       "    <tr>\n",
       "      <th>12</th>\n",
       "      <td>6040</td>\n",
       "      <td>591</td>\n",
       "      <td>Beauty and the Beast (1991)</td>\n",
       "      <td>Animation|Children's|Musical</td>\n",
       "      <td>0.766049</td>\n",
       "    </tr>\n",
       "    <tr>\n",
       "      <th>13</th>\n",
       "      <td>6040</td>\n",
       "      <td>2631</td>\n",
       "      <td>South Park: Bigger, Longer and Uncut (1999)</td>\n",
       "      <td>Animation|Comedy</td>\n",
       "      <td>0.762336</td>\n",
       "    </tr>\n",
       "    <tr>\n",
       "      <th>14</th>\n",
       "      <td>6040</td>\n",
       "      <td>558</td>\n",
       "      <td>Welcome to the Dollhouse (1995)</td>\n",
       "      <td>Comedy|Drama</td>\n",
       "      <td>0.749642</td>\n",
       "    </tr>\n",
       "    <tr>\n",
       "      <th>15</th>\n",
       "      <td>6040</td>\n",
       "      <td>368</td>\n",
       "      <td>Reality Bites (1994)</td>\n",
       "      <td>Comedy|Drama</td>\n",
       "      <td>0.734236</td>\n",
       "    </tr>\n",
       "    <tr>\n",
       "      <th>16</th>\n",
       "      <td>6040</td>\n",
       "      <td>1078</td>\n",
       "      <td>Crying Game, The (1992)</td>\n",
       "      <td>Drama|Romance|War</td>\n",
       "      <td>0.724975</td>\n",
       "    </tr>\n",
       "    <tr>\n",
       "      <th>17</th>\n",
       "      <td>6040</td>\n",
       "      <td>2220</td>\n",
       "      <td>Player, The (1992)</td>\n",
       "      <td>Comedy|Drama</td>\n",
       "      <td>0.709156</td>\n",
       "    </tr>\n",
       "    <tr>\n",
       "      <th>18</th>\n",
       "      <td>6040</td>\n",
       "      <td>2625</td>\n",
       "      <td>Big Daddy (1999)</td>\n",
       "      <td>Comedy</td>\n",
       "      <td>0.692456</td>\n",
       "    </tr>\n",
       "    <tr>\n",
       "      <th>19</th>\n",
       "      <td>6040</td>\n",
       "      <td>2075</td>\n",
       "      <td>Sixteen Candles (1984)</td>\n",
       "      <td>Comedy</td>\n",
       "      <td>0.686180</td>\n",
       "    </tr>\n",
       "    <tr>\n",
       "      <th>20</th>\n",
       "      <td>6040</td>\n",
       "      <td>1203</td>\n",
       "      <td>Godfather: Part II, The (1974)</td>\n",
       "      <td>Action|Crime|Drama</td>\n",
       "      <td>0.664662</td>\n",
       "    </tr>\n",
       "    <tr>\n",
       "      <th>21</th>\n",
       "      <td>6040</td>\n",
       "      <td>2472</td>\n",
       "      <td>Cruel Intentions (1999)</td>\n",
       "      <td>Drama</td>\n",
       "      <td>0.658979</td>\n",
       "    </tr>\n",
       "    <tr>\n",
       "      <th>22</th>\n",
       "      <td>6040</td>\n",
       "      <td>1171</td>\n",
       "      <td>Strictly Ballroom (1992)</td>\n",
       "      <td>Comedy|Romance</td>\n",
       "      <td>0.656225</td>\n",
       "    </tr>\n",
       "    <tr>\n",
       "      <th>23</th>\n",
       "      <td>6040</td>\n",
       "      <td>139</td>\n",
       "      <td>Birdcage, The (1996)</td>\n",
       "      <td>Comedy</td>\n",
       "      <td>0.649516</td>\n",
       "    </tr>\n",
       "    <tr>\n",
       "      <th>24</th>\n",
       "      <td>6040</td>\n",
       "      <td>437</td>\n",
       "      <td>Dazed and Confused (1993)</td>\n",
       "      <td>Comedy</td>\n",
       "      <td>0.643075</td>\n",
       "    </tr>\n",
       "    <tr>\n",
       "      <th>25</th>\n",
       "      <td>6040</td>\n",
       "      <td>1211</td>\n",
       "      <td>Annie Hall (1977)</td>\n",
       "      <td>Comedy|Romance</td>\n",
       "      <td>0.642307</td>\n",
       "    </tr>\n",
       "    <tr>\n",
       "      <th>26</th>\n",
       "      <td>6040</td>\n",
       "      <td>3443</td>\n",
       "      <td>Return to Me (2000)</td>\n",
       "      <td>Drama|Romance</td>\n",
       "      <td>0.636317</td>\n",
       "    </tr>\n",
       "    <tr>\n",
       "      <th>27</th>\n",
       "      <td>6040</td>\n",
       "      <td>582</td>\n",
       "      <td>Home Alone (1990)</td>\n",
       "      <td>Children's|Comedy</td>\n",
       "      <td>0.631173</td>\n",
       "    </tr>\n",
       "    <tr>\n",
       "      <th>28</th>\n",
       "      <td>6040</td>\n",
       "      <td>3467</td>\n",
       "      <td>Keeping the Faith (2000)</td>\n",
       "      <td>Comedy|Romance</td>\n",
       "      <td>0.626289</td>\n",
       "    </tr>\n",
       "    <tr>\n",
       "      <th>29</th>\n",
       "      <td>6040</td>\n",
       "      <td>2401</td>\n",
       "      <td>Crocodile Dundee (1986)</td>\n",
       "      <td>Adventure|Comedy</td>\n",
       "      <td>0.623298</td>\n",
       "    </tr>\n",
       "    <tr>\n",
       "      <th>30</th>\n",
       "      <td>6040</td>\n",
       "      <td>1455</td>\n",
       "      <td>Liar Liar (1997)</td>\n",
       "      <td>Comedy</td>\n",
       "      <td>0.622968</td>\n",
       "    </tr>\n",
       "    <tr>\n",
       "      <th>31</th>\n",
       "      <td>6040</td>\n",
       "      <td>102</td>\n",
       "      <td>Happy Gilmore (1996)</td>\n",
       "      <td>Comedy</td>\n",
       "      <td>0.612235</td>\n",
       "    </tr>\n",
       "    <tr>\n",
       "      <th>32</th>\n",
       "      <td>6040</td>\n",
       "      <td>2511</td>\n",
       "      <td>Go (1999)</td>\n",
       "      <td>Crime</td>\n",
       "      <td>0.601003</td>\n",
       "    </tr>\n",
       "    <tr>\n",
       "      <th>33</th>\n",
       "      <td>6040</td>\n",
       "      <td>1220</td>\n",
       "      <td>Terminator, The (1984)</td>\n",
       "      <td>Action|Sci-Fi|Thriller</td>\n",
       "      <td>0.591098</td>\n",
       "    </tr>\n",
       "    <tr>\n",
       "      <th>34</th>\n",
       "      <td>6040</td>\n",
       "      <td>1336</td>\n",
       "      <td>Shine (1996)</td>\n",
       "      <td>Drama|Romance</td>\n",
       "      <td>0.588292</td>\n",
       "    </tr>\n",
       "    <tr>\n",
       "      <th>35</th>\n",
       "      <td>6040</td>\n",
       "      <td>3229</td>\n",
       "      <td>Boiler Room (2000)</td>\n",
       "      <td>Drama</td>\n",
       "      <td>0.579135</td>\n",
       "    </tr>\n",
       "    <tr>\n",
       "      <th>36</th>\n",
       "      <td>6040</td>\n",
       "      <td>2588</td>\n",
       "      <td>Rocky Horror Picture Show, The (1975)</td>\n",
       "      <td>Comedy|Horror|Musical|Sci-Fi</td>\n",
       "      <td>0.571832</td>\n",
       "    </tr>\n",
       "    <tr>\n",
       "      <th>37</th>\n",
       "      <td>6040</td>\n",
       "      <td>1878</td>\n",
       "      <td>West Side Story (1961)</td>\n",
       "      <td>Musical|Romance</td>\n",
       "      <td>0.570745</td>\n",
       "    </tr>\n",
       "    <tr>\n",
       "      <th>38</th>\n",
       "      <td>6040</td>\n",
       "      <td>1663</td>\n",
       "      <td>Midnight in the Garden of Good and Evil (1997)</td>\n",
       "      <td>Comedy|Crime|Drama|Mystery</td>\n",
       "      <td>0.553352</td>\n",
       "    </tr>\n",
       "    <tr>\n",
       "      <th>39</th>\n",
       "      <td>6040</td>\n",
       "      <td>1384</td>\n",
       "      <td>Scream (1996)</td>\n",
       "      <td>Horror|Thriller</td>\n",
       "      <td>0.546303</td>\n",
       "    </tr>\n",
       "    <tr>\n",
       "      <th>40</th>\n",
       "      <td>6040</td>\n",
       "      <td>1019</td>\n",
       "      <td>Alice in Wonderland (1951)</td>\n",
       "      <td>Animation|Children's|Musical</td>\n",
       "      <td>0.543224</td>\n",
       "    </tr>\n",
       "    <tr>\n",
       "      <th>41</th>\n",
       "      <td>6040</td>\n",
       "      <td>1202</td>\n",
       "      <td>Blues Brothers, The (1980)</td>\n",
       "      <td>Action|Comedy|Musical</td>\n",
       "      <td>0.539407</td>\n",
       "    </tr>\n",
       "    <tr>\n",
       "      <th>42</th>\n",
       "      <td>6040</td>\n",
       "      <td>3841</td>\n",
       "      <td>Best in Show (2000)</td>\n",
       "      <td>Comedy</td>\n",
       "      <td>0.533110</td>\n",
       "    </tr>\n",
       "    <tr>\n",
       "      <th>43</th>\n",
       "      <td>6040</td>\n",
       "      <td>3088</td>\n",
       "      <td>Stuart Little (1999)</td>\n",
       "      <td>Children's|Comedy</td>\n",
       "      <td>0.506319</td>\n",
       "    </tr>\n",
       "    <tr>\n",
       "      <th>44</th>\n",
       "      <td>6040</td>\n",
       "      <td>450</td>\n",
       "      <td>Firm, The (1993)</td>\n",
       "      <td>Drama|Thriller</td>\n",
       "      <td>0.499454</td>\n",
       "    </tr>\n",
       "    <tr>\n",
       "      <th>45</th>\n",
       "      <td>6040</td>\n",
       "      <td>219</td>\n",
       "      <td>Circle of Friends (1995)</td>\n",
       "      <td>Drama|Romance</td>\n",
       "      <td>0.498722</td>\n",
       "    </tr>\n",
       "    <tr>\n",
       "      <th>46</th>\n",
       "      <td>6040</td>\n",
       "      <td>3291</td>\n",
       "      <td>Hoosiers (1986)</td>\n",
       "      <td>Drama</td>\n",
       "      <td>0.491561</td>\n",
       "    </tr>\n",
       "    <tr>\n",
       "      <th>47</th>\n",
       "      <td>6040</td>\n",
       "      <td>2619</td>\n",
       "      <td>General's Daughter, The (1999)</td>\n",
       "      <td>Drama|Thriller</td>\n",
       "      <td>0.475395</td>\n",
       "    </tr>\n",
       "    <tr>\n",
       "      <th>48</th>\n",
       "      <td>6040</td>\n",
       "      <td>2125</td>\n",
       "      <td>Untouchables, The (1987)</td>\n",
       "      <td>Action|Crime|Drama</td>\n",
       "      <td>0.473625</td>\n",
       "    </tr>\n",
       "    <tr>\n",
       "      <th>49</th>\n",
       "      <td>6040</td>\n",
       "      <td>3181</td>\n",
       "      <td>Alive (1993)</td>\n",
       "      <td>Drama</td>\n",
       "      <td>0.462109</td>\n",
       "    </tr>\n",
       "    <tr>\n",
       "      <th>50</th>\n",
       "      <td>6040</td>\n",
       "      <td>1212</td>\n",
       "      <td>Right Stuff, The (1983)</td>\n",
       "      <td>Drama</td>\n",
       "      <td>0.455182</td>\n",
       "    </tr>\n",
       "    <tr>\n",
       "      <th>51</th>\n",
       "      <td>6040</td>\n",
       "      <td>2325</td>\n",
       "      <td>Prince of Egypt, The (1998)</td>\n",
       "      <td>Animation|Musical</td>\n",
       "      <td>0.439750</td>\n",
       "    </tr>\n",
       "    <tr>\n",
       "      <th>52</th>\n",
       "      <td>6040</td>\n",
       "      <td>891</td>\n",
       "      <td>Vertigo (1958)</td>\n",
       "      <td>Mystery|Thriller</td>\n",
       "      <td>0.436040</td>\n",
       "    </tr>\n",
       "    <tr>\n",
       "      <th>53</th>\n",
       "      <td>6040</td>\n",
       "      <td>2309</td>\n",
       "      <td>Police Academy (1984)</td>\n",
       "      <td>Comedy</td>\n",
       "      <td>0.428003</td>\n",
       "    </tr>\n",
       "    <tr>\n",
       "      <th>54</th>\n",
       "      <td>6040</td>\n",
       "      <td>510</td>\n",
       "      <td>Ref, The (1994)</td>\n",
       "      <td>Comedy</td>\n",
       "      <td>0.417898</td>\n",
       "    </tr>\n",
       "    <tr>\n",
       "      <th>55</th>\n",
       "      <td>6040</td>\n",
       "      <td>527</td>\n",
       "      <td>Secret Garden, The (1993)</td>\n",
       "      <td>Children's|Drama</td>\n",
       "      <td>0.411265</td>\n",
       "    </tr>\n",
       "    <tr>\n",
       "      <th>56</th>\n",
       "      <td>6040</td>\n",
       "      <td>2018</td>\n",
       "      <td>Peter Pan (1953)</td>\n",
       "      <td>Animation|Children's|Fantasy|Musical</td>\n",
       "      <td>0.410053</td>\n",
       "    </tr>\n",
       "    <tr>\n",
       "      <th>57</th>\n",
       "      <td>6040</td>\n",
       "      <td>464</td>\n",
       "      <td>Englishman Who Went Up a Hill, But Came Down a...</td>\n",
       "      <td>Comedy|Romance</td>\n",
       "      <td>0.404863</td>\n",
       "    </tr>\n",
       "    <tr>\n",
       "      <th>58</th>\n",
       "      <td>6040</td>\n",
       "      <td>349</td>\n",
       "      <td>Crow, The (1994)</td>\n",
       "      <td>Action|Romance|Thriller</td>\n",
       "      <td>0.404506</td>\n",
       "    </tr>\n",
       "    <tr>\n",
       "      <th>59</th>\n",
       "      <td>6040</td>\n",
       "      <td>250</td>\n",
       "      <td>Interview with the Vampire (1994)</td>\n",
       "      <td>Drama|Horror</td>\n",
       "      <td>0.402742</td>\n",
       "    </tr>\n",
       "    <tr>\n",
       "      <th>60</th>\n",
       "      <td>6040</td>\n",
       "      <td>3486</td>\n",
       "      <td>U-571 (2000)</td>\n",
       "      <td>Action|Thriller</td>\n",
       "      <td>0.393714</td>\n",
       "    </tr>\n",
       "    <tr>\n",
       "      <th>61</th>\n",
       "      <td>6040</td>\n",
       "      <td>1270</td>\n",
       "      <td>Some Kind of Wonderful (1987)</td>\n",
       "      <td>Drama|Romance</td>\n",
       "      <td>0.393142</td>\n",
       "    </tr>\n",
       "    <tr>\n",
       "      <th>62</th>\n",
       "      <td>6040</td>\n",
       "      <td>2064</td>\n",
       "      <td>Adventures in Babysitting (1987)</td>\n",
       "      <td>Adventure|Comedy</td>\n",
       "      <td>0.387943</td>\n",
       "    </tr>\n",
       "    <tr>\n",
       "      <th>63</th>\n",
       "      <td>6040</td>\n",
       "      <td>2232</td>\n",
       "      <td>History of the World: Part I (1981)</td>\n",
       "      <td>Comedy</td>\n",
       "      <td>0.381901</td>\n",
       "    </tr>\n",
       "    <tr>\n",
       "      <th>64</th>\n",
       "      <td>6040</td>\n",
       "      <td>367</td>\n",
       "      <td>Paper, The (1994)</td>\n",
       "      <td>Comedy|Drama</td>\n",
       "      <td>0.373877</td>\n",
       "    </tr>\n",
       "    <tr>\n",
       "      <th>65</th>\n",
       "      <td>6040</td>\n",
       "      <td>3329</td>\n",
       "      <td>Muppets Take Manhattan, The (1984)</td>\n",
       "      <td>Children's|Comedy</td>\n",
       "      <td>0.370174</td>\n",
       "    </tr>\n",
       "    <tr>\n",
       "      <th>66</th>\n",
       "      <td>6040</td>\n",
       "      <td>3328</td>\n",
       "      <td>Great Muppet Caper, The (1981)</td>\n",
       "      <td>Children's|Comedy</td>\n",
       "      <td>0.365688</td>\n",
       "    </tr>\n",
       "    <tr>\n",
       "      <th>67</th>\n",
       "      <td>6040</td>\n",
       "      <td>424</td>\n",
       "      <td>Bronx Tale, A (1993)</td>\n",
       "      <td>Drama</td>\n",
       "      <td>0.361089</td>\n",
       "    </tr>\n",
       "    <tr>\n",
       "      <th>68</th>\n",
       "      <td>6040</td>\n",
       "      <td>1647</td>\n",
       "      <td>Apostle, The (1997)</td>\n",
       "      <td>Drama</td>\n",
       "      <td>0.355561</td>\n",
       "    </tr>\n",
       "    <tr>\n",
       "      <th>69</th>\n",
       "      <td>6040</td>\n",
       "      <td>1499</td>\n",
       "      <td>Shall We Dance? (Shall We Dansu?) (1996)</td>\n",
       "      <td>Comedy</td>\n",
       "      <td>0.352120</td>\n",
       "    </tr>\n",
       "    <tr>\n",
       "      <th>70</th>\n",
       "      <td>6040</td>\n",
       "      <td>1259</td>\n",
       "      <td>Night on Earth (1991)</td>\n",
       "      <td>Comedy|Drama</td>\n",
       "      <td>0.349360</td>\n",
       "    </tr>\n",
       "    <tr>\n",
       "      <th>71</th>\n",
       "      <td>6040</td>\n",
       "      <td>657</td>\n",
       "      <td>Kids in the Hall: Brain Candy (1996)</td>\n",
       "      <td>Comedy</td>\n",
       "      <td>0.348758</td>\n",
       "    </tr>\n",
       "    <tr>\n",
       "      <th>72</th>\n",
       "      <td>6040</td>\n",
       "      <td>1374</td>\n",
       "      <td>Tin Men (1987)</td>\n",
       "      <td>Comedy|Drama</td>\n",
       "      <td>0.347776</td>\n",
       "    </tr>\n",
       "    <tr>\n",
       "      <th>73</th>\n",
       "      <td>6040</td>\n",
       "      <td>2772</td>\n",
       "      <td>Stir of Echoes (1999)</td>\n",
       "      <td>Thriller</td>\n",
       "      <td>0.343592</td>\n",
       "    </tr>\n",
       "    <tr>\n",
       "      <th>74</th>\n",
       "      <td>6040</td>\n",
       "      <td>1847</td>\n",
       "      <td>Buffalo 66 (1998)</td>\n",
       "      <td>Action|Comedy|Drama</td>\n",
       "      <td>0.343352</td>\n",
       "    </tr>\n",
       "    <tr>\n",
       "      <th>75</th>\n",
       "      <td>6040</td>\n",
       "      <td>2935</td>\n",
       "      <td>Bachelor, The (1999)</td>\n",
       "      <td>Comedy|Romance</td>\n",
       "      <td>0.339450</td>\n",
       "    </tr>\n",
       "    <tr>\n",
       "      <th>76</th>\n",
       "      <td>6040</td>\n",
       "      <td>3614</td>\n",
       "      <td>Blood Simple (1984)</td>\n",
       "      <td>Drama|Film-Noir</td>\n",
       "      <td>0.334750</td>\n",
       "    </tr>\n",
       "    <tr>\n",
       "      <th>77</th>\n",
       "      <td>6040</td>\n",
       "      <td>2820</td>\n",
       "      <td>Mystery, Alaska (1999)</td>\n",
       "      <td>Comedy</td>\n",
       "      <td>0.333111</td>\n",
       "    </tr>\n",
       "    <tr>\n",
       "      <th>78</th>\n",
       "      <td>6040</td>\n",
       "      <td>1028</td>\n",
       "      <td>Secrets &amp; Lies (1996)</td>\n",
       "      <td>Drama</td>\n",
       "      <td>0.327073</td>\n",
       "    </tr>\n",
       "    <tr>\n",
       "      <th>79</th>\n",
       "      <td>6040</td>\n",
       "      <td>1393</td>\n",
       "      <td>Evita (1996)</td>\n",
       "      <td>Drama|Musical</td>\n",
       "      <td>0.321767</td>\n",
       "    </tr>\n",
       "    <tr>\n",
       "      <th>80</th>\n",
       "      <td>6040</td>\n",
       "      <td>3438</td>\n",
       "      <td>Odd Couple, The (1968)</td>\n",
       "      <td>Comedy</td>\n",
       "      <td>0.293535</td>\n",
       "    </tr>\n",
       "    <tr>\n",
       "      <th>81</th>\n",
       "      <td>6040</td>\n",
       "      <td>3076</td>\n",
       "      <td>Cradle Will Rock, The (1999)</td>\n",
       "      <td>Drama</td>\n",
       "      <td>0.288111</td>\n",
       "    </tr>\n",
       "    <tr>\n",
       "      <th>82</th>\n",
       "      <td>6040</td>\n",
       "      <td>3180</td>\n",
       "      <td>Hand That Rocks the Cradle, The (1992)</td>\n",
       "      <td>Thriller</td>\n",
       "      <td>0.285745</td>\n",
       "    </tr>\n",
       "    <tr>\n",
       "      <th>83</th>\n",
       "      <td>6040</td>\n",
       "      <td>269</td>\n",
       "      <td>Madness of King George, The (1994)</td>\n",
       "      <td>Drama</td>\n",
       "      <td>0.283951</td>\n",
       "    </tr>\n",
       "    <tr>\n",
       "      <th>84</th>\n",
       "      <td>6040</td>\n",
       "      <td>99</td>\n",
       "      <td>Bottle Rocket (1996)</td>\n",
       "      <td>Comedy</td>\n",
       "      <td>0.281840</td>\n",
       "    </tr>\n",
       "    <tr>\n",
       "      <th>85</th>\n",
       "      <td>6040</td>\n",
       "      <td>3290</td>\n",
       "      <td>Breaking Away (1979)</td>\n",
       "      <td>Drama</td>\n",
       "      <td>0.275972</td>\n",
       "    </tr>\n",
       "    <tr>\n",
       "      <th>86</th>\n",
       "      <td>6040</td>\n",
       "      <td>1823</td>\n",
       "      <td>Perfect Murder, A (1998)</td>\n",
       "      <td>Mystery|Thriller</td>\n",
       "      <td>0.271330</td>\n",
       "    </tr>\n",
       "    <tr>\n",
       "      <th>87</th>\n",
       "      <td>6040</td>\n",
       "      <td>191</td>\n",
       "      <td>Showgirls (1995)</td>\n",
       "      <td>Drama</td>\n",
       "      <td>0.270360</td>\n",
       "    </tr>\n",
       "    <tr>\n",
       "      <th>88</th>\n",
       "      <td>6040</td>\n",
       "      <td>3793</td>\n",
       "      <td>Cell, The (2000)</td>\n",
       "      <td>Sci-Fi|Thriller</td>\n",
       "      <td>0.267426</td>\n",
       "    </tr>\n",
       "    <tr>\n",
       "      <th>89</th>\n",
       "      <td>6040</td>\n",
       "      <td>1450</td>\n",
       "      <td>Saint, The (1997)</td>\n",
       "      <td>Action|Romance|Thriller</td>\n",
       "      <td>0.266300</td>\n",
       "    </tr>\n",
       "    <tr>\n",
       "      <th>90</th>\n",
       "      <td>6040</td>\n",
       "      <td>1131</td>\n",
       "      <td>When We Were Kings (1996)</td>\n",
       "      <td>Documentary</td>\n",
       "      <td>0.264203</td>\n",
       "    </tr>\n",
       "    <tr>\n",
       "      <th>91</th>\n",
       "      <td>6040</td>\n",
       "      <td>1670</td>\n",
       "      <td>Sweet Hereafter, The (1997)</td>\n",
       "      <td>Drama</td>\n",
       "      <td>0.255793</td>\n",
       "    </tr>\n",
       "    <tr>\n",
       "      <th>92</th>\n",
       "      <td>6040</td>\n",
       "      <td>1734</td>\n",
       "      <td>Love and Death on Long Island (1997)</td>\n",
       "      <td>Comedy|Drama</td>\n",
       "      <td>0.255675</td>\n",
       "    </tr>\n",
       "    <tr>\n",
       "      <th>93</th>\n",
       "      <td>6040</td>\n",
       "      <td>2527</td>\n",
       "      <td>SLC Punk! (1998)</td>\n",
       "      <td>Comedy|Drama</td>\n",
       "      <td>0.255039</td>\n",
       "    </tr>\n",
       "    <tr>\n",
       "      <th>94</th>\n",
       "      <td>6040</td>\n",
       "      <td>303</td>\n",
       "      <td>Three Colors: Red (1994)</td>\n",
       "      <td>Drama</td>\n",
       "      <td>0.247879</td>\n",
       "    </tr>\n",
       "    <tr>\n",
       "      <th>95</th>\n",
       "      <td>6040</td>\n",
       "      <td>3638</td>\n",
       "      <td>Nine 1/2 Weeks (1986)</td>\n",
       "      <td>Drama</td>\n",
       "      <td>0.247601</td>\n",
       "    </tr>\n",
       "    <tr>\n",
       "      <th>96</th>\n",
       "      <td>6040</td>\n",
       "      <td>1177</td>\n",
       "      <td>Up in Smoke (1978)</td>\n",
       "      <td>Comedy</td>\n",
       "      <td>0.247593</td>\n",
       "    </tr>\n",
       "    <tr>\n",
       "      <th>97</th>\n",
       "      <td>6040</td>\n",
       "      <td>2244</td>\n",
       "      <td>Elephant Man, The (1980)</td>\n",
       "      <td>Drama</td>\n",
       "      <td>0.247459</td>\n",
       "    </tr>\n",
       "    <tr>\n",
       "      <th>98</th>\n",
       "      <td>6040</td>\n",
       "      <td>986</td>\n",
       "      <td>2 Days in the Valley (1996)</td>\n",
       "      <td>Crime</td>\n",
       "      <td>0.244351</td>\n",
       "    </tr>\n",
       "    <tr>\n",
       "      <th>99</th>\n",
       "      <td>6040</td>\n",
       "      <td>1884</td>\n",
       "      <td>French Connection, The (1971)</td>\n",
       "      <td>Action|Crime|Drama|Thriller</td>\n",
       "      <td>0.240932</td>\n",
       "    </tr>\n",
       "    <tr>\n",
       "      <th>100</th>\n",
       "      <td>6040</td>\n",
       "      <td>2734</td>\n",
       "      <td>Pelican Brief, The (1993)</td>\n",
       "      <td>Thriller</td>\n",
       "      <td>0.239183</td>\n",
       "    </tr>\n",
       "  </tbody>\n",
       "</table>\n",
       "</div>"
      ],
      "text/plain": [
       "     userId  movieId                                               name  \\\n",
       "0      6040     2222                         Edward Scissorhands (1990)   \n",
       "1      6040     1899                         Breakfast Club, The (1985)   \n",
       "2      6040       10                     American President, The (1995)   \n",
       "3      6040     1081                  E.T. the Extra-Terrestrial (1982)   \n",
       "4      6040     1656                           Good Will Hunting (1997)   \n",
       "5      6040     2252                               Pleasantville (1998)   \n",
       "6      6040      523                            Schindler's List (1993)   \n",
       "7      6040     1854                There's Something About Mary (1998)   \n",
       "8      6040     2728                                         Big (1988)   \n",
       "9      6040     1720                         Wedding Singer, The (1998)   \n",
       "10     6040     1227                               Graduate, The (1967)   \n",
       "11     6040     1683                           Big Lebowski, The (1998)   \n",
       "12     6040      591                        Beauty and the Beast (1991)   \n",
       "13     6040     2631        South Park: Bigger, Longer and Uncut (1999)   \n",
       "14     6040      558                    Welcome to the Dollhouse (1995)   \n",
       "15     6040      368                               Reality Bites (1994)   \n",
       "16     6040     1078                            Crying Game, The (1992)   \n",
       "17     6040     2220                                 Player, The (1992)   \n",
       "18     6040     2625                                   Big Daddy (1999)   \n",
       "19     6040     2075                             Sixteen Candles (1984)   \n",
       "20     6040     1203                     Godfather: Part II, The (1974)   \n",
       "21     6040     2472                            Cruel Intentions (1999)   \n",
       "22     6040     1171                           Strictly Ballroom (1992)   \n",
       "23     6040      139                               Birdcage, The (1996)   \n",
       "24     6040      437                          Dazed and Confused (1993)   \n",
       "25     6040     1211                                  Annie Hall (1977)   \n",
       "26     6040     3443                                Return to Me (2000)   \n",
       "27     6040      582                                  Home Alone (1990)   \n",
       "28     6040     3467                           Keeping the Faith (2000)   \n",
       "29     6040     2401                            Crocodile Dundee (1986)   \n",
       "30     6040     1455                                   Liar Liar (1997)   \n",
       "31     6040      102                               Happy Gilmore (1996)   \n",
       "32     6040     2511                                          Go (1999)   \n",
       "33     6040     1220                             Terminator, The (1984)   \n",
       "34     6040     1336                                       Shine (1996)   \n",
       "35     6040     3229                                 Boiler Room (2000)   \n",
       "36     6040     2588              Rocky Horror Picture Show, The (1975)   \n",
       "37     6040     1878                             West Side Story (1961)   \n",
       "38     6040     1663     Midnight in the Garden of Good and Evil (1997)   \n",
       "39     6040     1384                                      Scream (1996)   \n",
       "40     6040     1019                         Alice in Wonderland (1951)   \n",
       "41     6040     1202                         Blues Brothers, The (1980)   \n",
       "42     6040     3841                                Best in Show (2000)   \n",
       "43     6040     3088                               Stuart Little (1999)   \n",
       "44     6040      450                                   Firm, The (1993)   \n",
       "45     6040      219                           Circle of Friends (1995)   \n",
       "46     6040     3291                                    Hoosiers (1986)   \n",
       "47     6040     2619                     General's Daughter, The (1999)   \n",
       "48     6040     2125                           Untouchables, The (1987)   \n",
       "49     6040     3181                                       Alive (1993)   \n",
       "50     6040     1212                            Right Stuff, The (1983)   \n",
       "51     6040     2325                        Prince of Egypt, The (1998)   \n",
       "52     6040      891                                     Vertigo (1958)   \n",
       "53     6040     2309                              Police Academy (1984)   \n",
       "54     6040      510                                    Ref, The (1994)   \n",
       "55     6040      527                          Secret Garden, The (1993)   \n",
       "56     6040     2018                                   Peter Pan (1953)   \n",
       "57     6040      464  Englishman Who Went Up a Hill, But Came Down a...   \n",
       "58     6040      349                                   Crow, The (1994)   \n",
       "59     6040      250                  Interview with the Vampire (1994)   \n",
       "60     6040     3486                                       U-571 (2000)   \n",
       "61     6040     1270                      Some Kind of Wonderful (1987)   \n",
       "62     6040     2064                   Adventures in Babysitting (1987)   \n",
       "63     6040     2232                History of the World: Part I (1981)   \n",
       "64     6040      367                                  Paper, The (1994)   \n",
       "65     6040     3329                 Muppets Take Manhattan, The (1984)   \n",
       "66     6040     3328                     Great Muppet Caper, The (1981)   \n",
       "67     6040      424                               Bronx Tale, A (1993)   \n",
       "68     6040     1647                                Apostle, The (1997)   \n",
       "69     6040     1499           Shall We Dance? (Shall We Dansu?) (1996)   \n",
       "70     6040     1259                              Night on Earth (1991)   \n",
       "71     6040      657               Kids in the Hall: Brain Candy (1996)   \n",
       "72     6040     1374                                     Tin Men (1987)   \n",
       "73     6040     2772                              Stir of Echoes (1999)   \n",
       "74     6040     1847                                  Buffalo 66 (1998)   \n",
       "75     6040     2935                               Bachelor, The (1999)   \n",
       "76     6040     3614                                Blood Simple (1984)   \n",
       "77     6040     2820                             Mystery, Alaska (1999)   \n",
       "78     6040     1028                              Secrets & Lies (1996)   \n",
       "79     6040     1393                                       Evita (1996)   \n",
       "80     6040     3438                             Odd Couple, The (1968)   \n",
       "81     6040     3076                       Cradle Will Rock, The (1999)   \n",
       "82     6040     3180             Hand That Rocks the Cradle, The (1992)   \n",
       "83     6040      269                 Madness of King George, The (1994)   \n",
       "84     6040       99                               Bottle Rocket (1996)   \n",
       "85     6040     3290                               Breaking Away (1979)   \n",
       "86     6040     1823                           Perfect Murder, A (1998)   \n",
       "87     6040      191                                   Showgirls (1995)   \n",
       "88     6040     3793                                   Cell, The (2000)   \n",
       "89     6040     1450                                  Saint, The (1997)   \n",
       "90     6040     1131                          When We Were Kings (1996)   \n",
       "91     6040     1670                        Sweet Hereafter, The (1997)   \n",
       "92     6040     1734               Love and Death on Long Island (1997)   \n",
       "93     6040     2527                                   SLC Punk! (1998)   \n",
       "94     6040      303                           Three Colors: Red (1994)   \n",
       "95     6040     3638                              Nine 1/2 Weeks (1986)   \n",
       "96     6040     1177                                 Up in Smoke (1978)   \n",
       "97     6040     2244                           Elephant Man, The (1980)   \n",
       "98     6040      986                        2 Days in the Valley (1996)   \n",
       "99     6040     1884                      French Connection, The (1971)   \n",
       "100    6040     2734                          Pelican Brief, The (1993)   \n",
       "\n",
       "                                    genre      pred  \n",
       "0                           Drama|Romance  0.944912  \n",
       "1                            Comedy|Drama  0.924641  \n",
       "2                    Comedy|Drama|Romance  0.881600  \n",
       "3         Children's|Drama|Fantasy|Sci-Fi  0.864544  \n",
       "4                                   Drama  0.857766  \n",
       "5                                  Comedy  0.844122  \n",
       "6                               Drama|War  0.840052  \n",
       "7                                  Comedy  0.828717  \n",
       "8                          Comedy|Fantasy  0.820365  \n",
       "9                          Comedy|Romance  0.789821  \n",
       "10                          Drama|Romance  0.786968  \n",
       "11          Comedy|Crime|Mystery|Thriller  0.767669  \n",
       "12           Animation|Children's|Musical  0.766049  \n",
       "13                       Animation|Comedy  0.762336  \n",
       "14                           Comedy|Drama  0.749642  \n",
       "15                           Comedy|Drama  0.734236  \n",
       "16                      Drama|Romance|War  0.724975  \n",
       "17                           Comedy|Drama  0.709156  \n",
       "18                                 Comedy  0.692456  \n",
       "19                                 Comedy  0.686180  \n",
       "20                     Action|Crime|Drama  0.664662  \n",
       "21                                  Drama  0.658979  \n",
       "22                         Comedy|Romance  0.656225  \n",
       "23                                 Comedy  0.649516  \n",
       "24                                 Comedy  0.643075  \n",
       "25                         Comedy|Romance  0.642307  \n",
       "26                          Drama|Romance  0.636317  \n",
       "27                      Children's|Comedy  0.631173  \n",
       "28                         Comedy|Romance  0.626289  \n",
       "29                       Adventure|Comedy  0.623298  \n",
       "30                                 Comedy  0.622968  \n",
       "31                                 Comedy  0.612235  \n",
       "32                                  Crime  0.601003  \n",
       "33                 Action|Sci-Fi|Thriller  0.591098  \n",
       "34                          Drama|Romance  0.588292  \n",
       "35                                  Drama  0.579135  \n",
       "36           Comedy|Horror|Musical|Sci-Fi  0.571832  \n",
       "37                        Musical|Romance  0.570745  \n",
       "38             Comedy|Crime|Drama|Mystery  0.553352  \n",
       "39                        Horror|Thriller  0.546303  \n",
       "40           Animation|Children's|Musical  0.543224  \n",
       "41                  Action|Comedy|Musical  0.539407  \n",
       "42                                 Comedy  0.533110  \n",
       "43                      Children's|Comedy  0.506319  \n",
       "44                         Drama|Thriller  0.499454  \n",
       "45                          Drama|Romance  0.498722  \n",
       "46                                  Drama  0.491561  \n",
       "47                         Drama|Thriller  0.475395  \n",
       "48                     Action|Crime|Drama  0.473625  \n",
       "49                                  Drama  0.462109  \n",
       "50                                  Drama  0.455182  \n",
       "51                      Animation|Musical  0.439750  \n",
       "52                       Mystery|Thriller  0.436040  \n",
       "53                                 Comedy  0.428003  \n",
       "54                                 Comedy  0.417898  \n",
       "55                       Children's|Drama  0.411265  \n",
       "56   Animation|Children's|Fantasy|Musical  0.410053  \n",
       "57                         Comedy|Romance  0.404863  \n",
       "58                Action|Romance|Thriller  0.404506  \n",
       "59                           Drama|Horror  0.402742  \n",
       "60                        Action|Thriller  0.393714  \n",
       "61                          Drama|Romance  0.393142  \n",
       "62                       Adventure|Comedy  0.387943  \n",
       "63                                 Comedy  0.381901  \n",
       "64                           Comedy|Drama  0.373877  \n",
       "65                      Children's|Comedy  0.370174  \n",
       "66                      Children's|Comedy  0.365688  \n",
       "67                                  Drama  0.361089  \n",
       "68                                  Drama  0.355561  \n",
       "69                                 Comedy  0.352120  \n",
       "70                           Comedy|Drama  0.349360  \n",
       "71                                 Comedy  0.348758  \n",
       "72                           Comedy|Drama  0.347776  \n",
       "73                               Thriller  0.343592  \n",
       "74                    Action|Comedy|Drama  0.343352  \n",
       "75                         Comedy|Romance  0.339450  \n",
       "76                        Drama|Film-Noir  0.334750  \n",
       "77                                 Comedy  0.333111  \n",
       "78                                  Drama  0.327073  \n",
       "79                          Drama|Musical  0.321767  \n",
       "80                                 Comedy  0.293535  \n",
       "81                                  Drama  0.288111  \n",
       "82                               Thriller  0.285745  \n",
       "83                                  Drama  0.283951  \n",
       "84                                 Comedy  0.281840  \n",
       "85                                  Drama  0.275972  \n",
       "86                       Mystery|Thriller  0.271330  \n",
       "87                                  Drama  0.270360  \n",
       "88                        Sci-Fi|Thriller  0.267426  \n",
       "89                Action|Romance|Thriller  0.266300  \n",
       "90                            Documentary  0.264203  \n",
       "91                                  Drama  0.255793  \n",
       "92                           Comedy|Drama  0.255675  \n",
       "93                           Comedy|Drama  0.255039  \n",
       "94                                  Drama  0.247879  \n",
       "95                                  Drama  0.247601  \n",
       "96                                 Comedy  0.247593  \n",
       "97                                  Drama  0.247459  \n",
       "98                                  Crime  0.244351  \n",
       "99            Action|Crime|Drama|Thriller  0.240932  \n",
       "100                              Thriller  0.239183  "
      ]
     },
     "metadata": {},
     "output_type": "display_data"
    }
   ],
   "source": [
    "df_test_user[\"pred\"] = predict(dcn, test_user_loader, verbose=True).numpy()\n",
    "display(create_test_user_display_df(df_test_user, df_movies, \"pred\"))"
   ]
  },
  {
   "cell_type": "code",
   "execution_count": null,
   "id": "e4f0c2cc-bdd5-423e-ab9b-af530a6ac42f",
   "metadata": {},
   "outputs": [],
   "source": []
  }
 ],
 "metadata": {
  "kernelspec": {
   "display_name": "Python 3 (ipykernel)",
   "language": "python",
   "name": "python3"
  },
  "language_info": {
   "codemirror_mode": {
    "name": "ipython",
    "version": 3
   },
   "file_extension": ".py",
   "mimetype": "text/x-python",
   "name": "python",
   "nbconvert_exporter": "python",
   "pygments_lexer": "ipython3",
   "version": "3.12.2"
  }
 },
 "nbformat": 4,
 "nbformat_minor": 5
}
