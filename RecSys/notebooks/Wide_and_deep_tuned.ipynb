{
 "cells": [
  {
   "cell_type": "code",
   "execution_count": 1,
   "id": "2834cbe0-e27a-4649-9846-737e8eb87106",
   "metadata": {},
   "outputs": [
    {
     "data": {
      "text/plain": [
       "'/Users/kristina/Desktop/University/COURSE_WORK/RecSys_thesis/recsysvenv/bin/python3.12'"
      ]
     },
     "execution_count": 1,
     "metadata": {},
     "output_type": "execute_result"
    }
   ],
   "source": [
    "## DO NOT ERASE THIS. IMPORTANT TO CORRECTLY IMPORT MODULES\n",
    "import sys\n",
    "\n",
    "sys.path.append(\"../\")\n",
    "sys.executable"
   ]
  },
  {
   "cell_type": "code",
   "execution_count": 2,
   "id": "03d08ba1",
   "metadata": {},
   "outputs": [],
   "source": [
    "import logging\n",
    "from datetime import datetime\n",
    "from pathlib import Path\n",
    "import pandas as pd\n",
    "import mmh3\n",
    "\n",
    "pd.set_option(\"display.max_rows\", 102)\n",
    "from tqdm.auto import tqdm\n",
    "\n",
    "import torch\n",
    "from torch.utils.data import DataLoader, TensorDataset\n",
    "\n",
    "import optuna\n",
    "\n",
    "from src.utils import (\n",
    "    load_MovieLens,\n",
    "    train_test_val_split,\n",
    "    seed_everything,\n",
    "    trainDatasetWithCrossFeatures,\n",
    "    split_test_df,\n",
    "    train,\n",
    "    predict,\n",
    ")\n",
    "from src.models import wideAndDeep\n",
    "from src.metrics import reccomendation_report"
   ]
  },
  {
   "cell_type": "markdown",
   "id": "2a032ae8",
   "metadata": {},
   "source": [
    "## Constants"
   ]
  },
  {
   "cell_type": "code",
   "execution_count": 3,
   "id": "8de185e7",
   "metadata": {},
   "outputs": [],
   "source": [
    "DATA_FOLDER = \"../../data/ml-1m/\"\n",
    "RANDOM_STATE = 7\n",
    "MODEL_NAME = \"Wide_and_deep\""
   ]
  },
  {
   "cell_type": "code",
   "execution_count": 4,
   "id": "1136b767-5777-4471-8136-d4a3cdeae7dd",
   "metadata": {},
   "outputs": [],
   "source": [
    "seed_everything(RANDOM_STATE)"
   ]
  },
  {
   "cell_type": "markdown",
   "id": "c0722360",
   "metadata": {},
   "source": [
    "## Data"
   ]
  },
  {
   "cell_type": "code",
   "execution_count": 5,
   "id": "084d98fb-79e5-4372-bde2-8662ef0b3d41",
   "metadata": {},
   "outputs": [],
   "source": [
    "# subsample 30% of data for tuning\n",
    "df_users, df_movies, df_ratings = load_MovieLens(DATA_FOLDER, sample_frac=0.3)"
   ]
  },
  {
   "cell_type": "markdown",
   "id": "59ad0c97-ef07-4ea3-a562-2c3e6c9450cd",
   "metadata": {},
   "source": [
    "### Train-test split\n",
    "Methodology: Last user interaction is a test item. The rest is train. Validation part is 20% of test."
   ]
  },
  {
   "cell_type": "code",
   "execution_count": 6,
   "id": "640bea58-f388-4778-8a1b-2622a636eee9",
   "metadata": {},
   "outputs": [
    {
     "data": {
      "application/vnd.jupyter.widget-view+json": {
       "model_id": "64aa354c063c40bc89ae886443c1b5ef",
       "version_major": 2,
       "version_minor": 0
      },
      "text/plain": [
       "Enriching test:   0%|          | 0/48 [00:00<?, ?it/s]"
      ]
     },
     "metadata": {},
     "output_type": "display_data"
    },
    {
     "data": {
      "application/vnd.jupyter.widget-view+json": {
       "model_id": "cb488bf6caf942f7a9ce1db6cb142842",
       "version_major": 2,
       "version_minor": 0
      },
      "text/plain": [
       "Enriching val:   0%|          | 0/12 [00:00<?, ?it/s]"
      ]
     },
     "metadata": {},
     "output_type": "display_data"
    }
   ],
   "source": [
    "df_train, df_test, df_val = train_test_val_split(df_ratings, df_movies, RANDOM_STATE)\n",
    "df_test = pd.concat([df_test, df_val], ignore_index=True)"
   ]
  },
  {
   "cell_type": "code",
   "execution_count": 7,
   "id": "52c94401-fe77-4d89-9ab1-3b46e52a745b",
   "metadata": {},
   "outputs": [],
   "source": [
    "num_users = df_users[\"userId\"].nunique()\n",
    "num_items = df_movies[\"movieId\"].nunique()"
   ]
  },
  {
   "cell_type": "markdown",
   "id": "af5990e2-612a-4acc-b55c-986a278eb9d5",
   "metadata": {},
   "source": [
    "### Loading additional data"
   ]
  },
  {
   "cell_type": "code",
   "execution_count": 8,
   "id": "76aedd5b-054e-4408-be64-3f29b982fe2a",
   "metadata": {},
   "outputs": [],
   "source": [
    "# cos_dist = computeCosineSimilarities(df_train, \"userId\", \"movieId\", df_movies[\"movieId\"].nunique())\n",
    "\n",
    "# with open(\"../../data/cos_dist.pt\", \"wb\") as f:\n",
    "#     torch.save(cos_dist, f)\n",
    "\n",
    "with open(\"../../data/cos_dist.pt\", \"rb\") as f:\n",
    "    cos_dist = torch.load(f)\n",
    "popularity = torch.bincount(\n",
    "    torch.tensor(df_train.movieId.values), minlength=df_movies[\"movieId\"].nunique()\n",
    ")\n",
    "popularity = popularity / torch.max(popularity)"
   ]
  },
  {
   "cell_type": "code",
   "execution_count": 9,
   "id": "57ff74b5-eb63-407c-9d4a-877bb9ccfd01",
   "metadata": {},
   "outputs": [],
   "source": [
    "# building cross features\n",
    "cross_feats_dim = 30\n",
    "df_users[\"combined_feat\"] = (\n",
    "    df_users[\"gender\"].astype(str)\n",
    "    + df_users[\"age\"].astype(str)\n",
    "    + df_users[\"occupation\"].astype(str)\n",
    ")\n",
    "user_features_mapping = {\n",
    "    i: df_users.loc[df_users.userId == i, \"combined_feat\"].values[0]\n",
    "    for i in df_users.userId.unique()\n",
    "}\n",
    "movie_features_mapping = {\n",
    "    i: df_movies.loc[df_movies.movieId == i, \"genre\"].values[0]\n",
    "    for i in df_movies.movieId.unique()\n",
    "}\n",
    "\n",
    "\n",
    "# cross features for test\n",
    "test_idx = (\n",
    "    (\n",
    "        pd.Series(list(map(lambda x: user_features_mapping[x], df_test[\"userId\"])))\n",
    "        + pd.Series(list(map(lambda x: movie_features_mapping[x], df_test[\"movieId\"])))\n",
    "    )\n",
    "    .apply(lambda x: mmh3.hash(x) % cross_feats_dim)\n",
    "    .values\n",
    ")\n",
    "cross_test = torch.zeros(df_test.shape[0], cross_feats_dim)\n",
    "cross_test[torch.arange(cross_test.shape[0]), test_idx] = 1"
   ]
  },
  {
   "cell_type": "markdown",
   "id": "2dec1527-f30b-4cc2-885c-9d1b94bc085b",
   "metadata": {},
   "source": [
    "## Tuning"
   ]
  },
  {
   "cell_type": "code",
   "execution_count": 10,
   "id": "d9bb21b5-e122-4d54-92a0-f72e6413b6b0",
   "metadata": {},
   "outputs": [],
   "source": [
    "def objective(trial):\n",
    "    # Define range of values to be tested for the hyperparameters\n",
    "    n_mlp_layers = trial.suggest_int(\"n_mlp_layers\", 3, 10)\n",
    "    mlp_layers_dim = trial.suggest_discrete_uniform(\"mlp_layers_dim\", 16, 512, 16)\n",
    "    mlp_kwargs_dropout = trial.suggest_categorical(\"mlp_kwargs_dropout\", [True, False])\n",
    "    mlp_kwargs_batchnorm = trial.suggest_categorical(\n",
    "        \"mlp_kwargs_batchnorm\", [True, False]\n",
    "    )\n",
    "    mlp_kwargs_dropout_rate = trial.suggest_float(\"mlp_kwargs_dropout_rate\", 0.1, 0.9)\n",
    "\n",
    "    lr = trial.suggest_float(\"lr\", 1e-4, 5e-3)\n",
    "    n_epochs = trial.suggest_discrete_uniform(\"n_epochs\", 5, 20, 2)\n",
    "\n",
    "    # Generate the model\n",
    "    seed_everything(RANDOM_STATE)\n",
    "    model = wideAndDeep(\n",
    "        num_users,\n",
    "        num_items,\n",
    "        cross_feats_dim=cross_feats_dim,\n",
    "        n_mlp_layers=n_mlp_layers,\n",
    "        mlp_layers_dim=int(mlp_layers_dim),\n",
    "        mlp_kwargs={\n",
    "            \"activation\": True,\n",
    "            \"dropout\": mlp_kwargs_dropout,\n",
    "            \"batchnorm\": mlp_kwargs_batchnorm,\n",
    "            \"dropout_rate\": mlp_kwargs_dropout_rate,\n",
    "        },\n",
    "    )\n",
    "\n",
    "    # Generate the optimizers\n",
    "    optimizer = torch.optim.Adam(model.parameters(), lr=lr)\n",
    "    scheduler = torch.optim.lr_scheduler.ExponentialLR(optimizer, gamma=0.8)\n",
    "    criterion = torch.nn.BCELoss()\n",
    "    n_epochs = int(n_epochs)\n",
    "    device = \"cpu\"\n",
    "\n",
    "    # Generate data\n",
    "    seed_everything(RANDOM_STATE)\n",
    "    train_loader = DataLoader(\n",
    "        trainDatasetWithCrossFeatures(\n",
    "            df_train,\n",
    "            df_movies[\"movieId\"].nunique(),\n",
    "            user_features_mapping,\n",
    "            movie_features_mapping,\n",
    "            hash_bucket_size=cross_feats_dim,\n",
    "            verbose=False,\n",
    "        ),\n",
    "        batch_size=2048,\n",
    "        shuffle=True,\n",
    "    )\n",
    "    test_loader = DataLoader(\n",
    "        TensorDataset(\n",
    "            torch.tensor(df_test[\"userId\"]),\n",
    "            torch.tensor(df_test[\"movieId\"]),\n",
    "            cross_test,\n",
    "        ),\n",
    "        batch_size=4096,\n",
    "        shuffle=False,\n",
    "    )\n",
    "    # Train model\n",
    "    train(\n",
    "        model,\n",
    "        train_loader,\n",
    "        optimizer,\n",
    "        scheduler,\n",
    "        criterion,\n",
    "        n_epochs,\n",
    "        verbose=False,\n",
    "    )\n",
    "\n",
    "    # Evaluate\n",
    "    df_test[\"pred\"] = predict(model, test_loader, verbose=False).numpy()\n",
    "    pred, target, pred_items = split_test_df(\n",
    "        df_test, \"userId\", \"movieId\", \"pred\", \"action\"\n",
    "    )\n",
    "    k = 15\n",
    "    hit_rate = reccomendation_report(\n",
    "        pred, target, pred_items, cos_dist, popularity, k=k\n",
    "    )[f\"Hit rate @ {k}\"]\n",
    "\n",
    "    return hit_rate.item()"
   ]
  },
  {
   "cell_type": "code",
   "execution_count": 11,
   "id": "0f1ca204-ebea-4167-b154-153182784b29",
   "metadata": {},
   "outputs": [],
   "source": [
    "# set up logging\n",
    "directory = Path(f\"optuna/{MODEL_NAME}\")\n",
    "if not directory.exists():\n",
    "    directory.mkdir()\n",
    "current_time = datetime.now().strftime(\"%Y-%m-%d_%H-%M-%S\")\n",
    "\n",
    "logger = logging.getLogger(\"optuna\")\n",
    "logger.setLevel(logging.INFO)\n",
    "formatter = logging.Formatter(\"%(asctime)s | %(levelname)s | %(message)s\")\n",
    "file_handler = logging.FileHandler(\n",
    "    f\"{directory.as_posix()}/optuna_logs_{current_time}.log\"\n",
    ")\n",
    "file_handler.setFormatter(formatter)\n",
    "logger.addHandler(file_handler)"
   ]
  },
  {
   "cell_type": "code",
   "execution_count": 12,
   "id": "816c3284-60dc-4d96-a346-bf9c6d51a1b3",
   "metadata": {},
   "outputs": [
    {
     "name": "stderr",
     "output_type": "stream",
     "text": [
      "[I 2024-05-12 19:46:12,565] A new study created in memory with name: no-name-4adff778-f11c-43bf-8a1e-526e42781b1d\n",
      "/var/folders/b2/yfqb1mj945ncbc82gjz4yr7h0000gn/T/ipykernel_67974/4127194309.py:4: FutureWarning: suggest_discrete_uniform has been deprecated in v3.0.0. This feature will be removed in v6.0.0. See https://github.com/optuna/optuna/releases/tag/v3.0.0. Use suggest_float(..., step=...) instead.\n",
      "  mlp_layers_dim = trial.suggest_discrete_uniform(\"mlp_layers_dim\", 16, 512, 16)\n",
      "/var/folders/b2/yfqb1mj945ncbc82gjz4yr7h0000gn/T/ipykernel_67974/4127194309.py:12: FutureWarning: suggest_discrete_uniform has been deprecated in v3.0.0. This feature will be removed in v6.0.0. See https://github.com/optuna/optuna/releases/tag/v3.0.0. Use suggest_float(..., step=...) instead.\n",
      "  n_epochs = trial.suggest_discrete_uniform(\"n_epochs\", 5, 20, 2)\n",
      "/Users/kristina/Desktop/University/COURSE_WORK/RecSys_thesis/recsysvenv/lib/python3.12/site-packages/optuna/distributions.py:685: UserWarning: The distribution is specified by [5, 20] and step=2, but the range is not divisible by `step`. It will be replaced by [5, 19.0].\n",
      "  warnings.warn(\n",
      "[I 2024-05-12 19:46:23,643] Trial 0 finished with value: 0.6000000238418579 and parameters: {'n_mlp_layers': 5, 'mlp_layers_dim': 304.0, 'mlp_kwargs_dropout': False, 'mlp_kwargs_batchnorm': False, 'mlp_kwargs_dropout_rate': 0.5863867713543387, 'lr': 0.0008643998134096216, 'n_epochs': 9.0}. Best is trial 0 with value: 0.6000000238418579.\n",
      "/var/folders/b2/yfqb1mj945ncbc82gjz4yr7h0000gn/T/ipykernel_67974/4127194309.py:4: FutureWarning: suggest_discrete_uniform has been deprecated in v3.0.0. This feature will be removed in v6.0.0. See https://github.com/optuna/optuna/releases/tag/v3.0.0. Use suggest_float(..., step=...) instead.\n",
      "  mlp_layers_dim = trial.suggest_discrete_uniform(\"mlp_layers_dim\", 16, 512, 16)\n",
      "/var/folders/b2/yfqb1mj945ncbc82gjz4yr7h0000gn/T/ipykernel_67974/4127194309.py:12: FutureWarning: suggest_discrete_uniform has been deprecated in v3.0.0. This feature will be removed in v6.0.0. See https://github.com/optuna/optuna/releases/tag/v3.0.0. Use suggest_float(..., step=...) instead.\n",
      "  n_epochs = trial.suggest_discrete_uniform(\"n_epochs\", 5, 20, 2)\n",
      "/Users/kristina/Desktop/University/COURSE_WORK/RecSys_thesis/recsysvenv/lib/python3.12/site-packages/optuna/distributions.py:685: UserWarning: The distribution is specified by [5, 20] and step=2, but the range is not divisible by `step`. It will be replaced by [5, 19.0].\n",
      "  warnings.warn(\n",
      "[I 2024-05-12 19:46:34,687] Trial 1 finished with value: 0.5333333611488342 and parameters: {'n_mlp_layers': 8, 'mlp_layers_dim': 224.0, 'mlp_kwargs_dropout': False, 'mlp_kwargs_batchnorm': False, 'mlp_kwargs_dropout_rate': 0.7913950276958189, 'lr': 0.0038483613376130827, 'n_epochs': 9.0}. Best is trial 0 with value: 0.6000000238418579.\n",
      "[I 2024-05-12 19:46:49,972] Trial 2 finished with value: 0.21666666865348816 and parameters: {'n_mlp_layers': 8, 'mlp_layers_dim': 80.0, 'mlp_kwargs_dropout': False, 'mlp_kwargs_batchnorm': True, 'mlp_kwargs_dropout_rate': 0.7776127065895749, 'lr': 0.0028281125723065544, 'n_epochs': 17.0}. Best is trial 0 with value: 0.6000000238418579.\n",
      "[I 2024-05-12 19:47:00,678] Trial 3 finished with value: 0.2666666805744171 and parameters: {'n_mlp_layers': 6, 'mlp_layers_dim': 80.0, 'mlp_kwargs_dropout': False, 'mlp_kwargs_batchnorm': True, 'mlp_kwargs_dropout_rate': 0.6143573307527822, 'lr': 0.0008730744434541887, 'n_epochs': 13.0}. Best is trial 0 with value: 0.6000000238418579.\n",
      "[I 2024-05-12 19:47:10,779] Trial 4 finished with value: 0.5666666626930237 and parameters: {'n_mlp_layers': 3, 'mlp_layers_dim': 288.0, 'mlp_kwargs_dropout': True, 'mlp_kwargs_batchnorm': True, 'mlp_kwargs_dropout_rate': 0.17128853889135512, 'lr': 0.0048614122591775395, 'n_epochs': 7.0}. Best is trial 0 with value: 0.6000000238418579.\n",
      "[I 2024-05-12 19:47:40,006] Trial 5 finished with value: 0.4166666567325592 and parameters: {'n_mlp_layers': 7, 'mlp_layers_dim': 400.0, 'mlp_kwargs_dropout': False, 'mlp_kwargs_batchnorm': True, 'mlp_kwargs_dropout_rate': 0.6380596370195779, 'lr': 0.004648510565202792, 'n_epochs': 17.0}. Best is trial 0 with value: 0.6000000238418579.\n"
     ]
    }
   ],
   "source": [
    "# launch tuning\n",
    "study = optuna.create_study(direction=\"maximize\")\n",
    "study.optimize(objective, timeout=3600)"
   ]
  },
  {
   "cell_type": "code",
   "execution_count": null,
   "id": "94ff9413-28e0-46c0-bc26-98639e5d9130",
   "metadata": {},
   "outputs": [],
   "source": []
  }
 ],
 "metadata": {
  "kernelspec": {
   "display_name": "Python 3 (ipykernel)",
   "language": "python",
   "name": "python3"
  },
  "language_info": {
   "codemirror_mode": {
    "name": "ipython",
    "version": 3
   },
   "file_extension": ".py",
   "mimetype": "text/x-python",
   "name": "python",
   "nbconvert_exporter": "python",
   "pygments_lexer": "ipython3",
   "version": "3.12.2"
  }
 },
 "nbformat": 4,
 "nbformat_minor": 5
}
