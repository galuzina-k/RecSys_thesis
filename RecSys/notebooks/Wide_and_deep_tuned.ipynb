{
 "cells": [
  {
   "cell_type": "code",
   "execution_count": 13,
   "id": "2834cbe0-e27a-4649-9846-737e8eb87106",
   "metadata": {},
   "outputs": [
    {
     "data": {
      "text/plain": [
       "'/Users/kristina/Desktop/University/COURSE_WORK/RecSys_thesis/recsysvenv/bin/python3.12'"
      ]
     },
     "execution_count": 13,
     "metadata": {},
     "output_type": "execute_result"
    }
   ],
   "source": [
    "## DO NOT ERASE THIS. IMPORTANT TO CORRECTLY IMPORT MODULES\n",
    "import sys\n",
    "\n",
    "sys.path.append(\"../\")\n",
    "sys.executable"
   ]
  },
  {
   "cell_type": "code",
   "execution_count": 14,
   "id": "03d08ba1",
   "metadata": {},
   "outputs": [],
   "source": [
    "import logging\n",
    "from datetime import datetime\n",
    "from pathlib import Path\n",
    "import pandas as pd\n",
    "import mmh3\n",
    "\n",
    "pd.set_option(\"display.max_rows\", 102)\n",
    "from tqdm.auto import tqdm\n",
    "\n",
    "import torch\n",
    "from torch.utils.data import DataLoader, TensorDataset\n",
    "\n",
    "import optuna\n",
    "\n",
    "from src.utils import (\n",
    "    load_MovieLens,\n",
    "    train_test_val_split,\n",
    "    seed_everything,\n",
    "    trainDatasetWithCrossFeatures,\n",
    "    split_test_df,\n",
    "    train,\n",
    "    predict,\n",
    ")\n",
    "from src.models import wideAndDeep\n",
    "from src.metrics import reccomendation_report"
   ]
  },
  {
   "cell_type": "markdown",
   "id": "2a032ae8",
   "metadata": {},
   "source": [
    "## Constants"
   ]
  },
  {
   "cell_type": "code",
   "execution_count": 15,
   "id": "8de185e7",
   "metadata": {},
   "outputs": [],
   "source": [
    "DATA_FOLDER = \"../../data/ml-1m/\"\n",
    "RANDOM_STATE = 7\n",
    "MODEL_NAME = \"Wide_and_deep\""
   ]
  },
  {
   "cell_type": "code",
   "execution_count": 16,
   "id": "1136b767-5777-4471-8136-d4a3cdeae7dd",
   "metadata": {},
   "outputs": [],
   "source": [
    "seed_everything(RANDOM_STATE)"
   ]
  },
  {
   "cell_type": "markdown",
   "id": "c0722360",
   "metadata": {},
   "source": [
    "## Data"
   ]
  },
  {
   "cell_type": "code",
   "execution_count": 17,
   "id": "084d98fb-79e5-4372-bde2-8662ef0b3d41",
   "metadata": {},
   "outputs": [],
   "source": [
    "# subsample 30% of data for tuning\n",
    "df_users, df_movies, df_ratings = load_MovieLens(DATA_FOLDER, sample_frac=0.3)"
   ]
  },
  {
   "cell_type": "markdown",
   "id": "59ad0c97-ef07-4ea3-a562-2c3e6c9450cd",
   "metadata": {},
   "source": [
    "### Train-test split\n",
    "Methodology: Last user interaction is a test item. The rest is train. Validation part is 20% of test."
   ]
  },
  {
   "cell_type": "code",
   "execution_count": 18,
   "id": "640bea58-f388-4778-8a1b-2622a636eee9",
   "metadata": {},
   "outputs": [
    {
     "data": {
      "application/vnd.jupyter.widget-view+json": {
       "model_id": "16fc12a2222f496f85e5f84755fd2c9f",
       "version_major": 2,
       "version_minor": 0
      },
      "text/plain": [
       "Enriching test:   0%|          | 0/1449 [00:00<?, ?it/s]"
      ]
     },
     "metadata": {},
     "output_type": "display_data"
    },
    {
     "data": {
      "application/vnd.jupyter.widget-view+json": {
       "model_id": "55d5a35ab4634dfaac104ba4f6cd030f",
       "version_major": 2,
       "version_minor": 0
      },
      "text/plain": [
       "Enriching val:   0%|          | 0/363 [00:00<?, ?it/s]"
      ]
     },
     "metadata": {},
     "output_type": "display_data"
    }
   ],
   "source": [
    "df_train, df_test, df_val = train_test_val_split(df_ratings, df_movies, RANDOM_STATE)\n",
    "df_test = pd.concat([df_test, df_val], ignore_index=True)"
   ]
  },
  {
   "cell_type": "code",
   "execution_count": 19,
   "id": "52c94401-fe77-4d89-9ab1-3b46e52a745b",
   "metadata": {},
   "outputs": [],
   "source": [
    "num_users = df_users[\"userId\"].nunique()\n",
    "num_items = df_movies[\"movieId\"].nunique()"
   ]
  },
  {
   "cell_type": "markdown",
   "id": "af5990e2-612a-4acc-b55c-986a278eb9d5",
   "metadata": {},
   "source": [
    "### Loading additional data"
   ]
  },
  {
   "cell_type": "code",
   "execution_count": 20,
   "id": "76aedd5b-054e-4408-be64-3f29b982fe2a",
   "metadata": {},
   "outputs": [],
   "source": [
    "# cos_dist = computeCosineSimilarities(df_train, \"userId\", \"movieId\", df_movies[\"movieId\"].nunique())\n",
    "\n",
    "# with open(\"../../data/cos_dist.pt\", \"wb\") as f:\n",
    "#     torch.save(cos_dist, f)\n",
    "\n",
    "with open(\"../../data/cos_dist.pt\", \"rb\") as f:\n",
    "    cos_dist = torch.load(f)\n",
    "popularity = torch.bincount(\n",
    "    torch.tensor(df_train.movieId.values), minlength=df_movies[\"movieId\"].nunique()\n",
    ")\n",
    "popularity = popularity / torch.max(popularity)"
   ]
  },
  {
   "cell_type": "code",
   "execution_count": 21,
   "id": "57ff74b5-eb63-407c-9d4a-877bb9ccfd01",
   "metadata": {},
   "outputs": [],
   "source": [
    "# building cross features\n",
    "cross_feats_dim = 30\n",
    "df_users[\"combined_feat\"] = (\n",
    "    df_users[\"gender\"].astype(str)\n",
    "    + df_users[\"age\"].astype(str)\n",
    "    + df_users[\"occupation\"].astype(str)\n",
    ")\n",
    "user_features_mapping = {\n",
    "    i: df_users.loc[df_users.userId == i, \"combined_feat\"].values[0]\n",
    "    for i in df_users.userId.unique()\n",
    "}\n",
    "movie_features_mapping = {\n",
    "    i: df_movies.loc[df_movies.movieId == i, \"genre\"].values[0]\n",
    "    for i in df_movies.movieId.unique()\n",
    "}\n",
    "\n",
    "\n",
    "# cross features for test\n",
    "test_idx = (\n",
    "    (\n",
    "        pd.Series(list(map(lambda x: user_features_mapping[x], df_test[\"userId\"])))\n",
    "        + pd.Series(list(map(lambda x: movie_features_mapping[x], df_test[\"movieId\"])))\n",
    "    )\n",
    "    .apply(lambda x: mmh3.hash(x) % cross_feats_dim)\n",
    "    .values\n",
    ")\n",
    "cross_test = torch.zeros(df_test.shape[0], cross_feats_dim)\n",
    "cross_test[torch.arange(cross_test.shape[0]), test_idx] = 1"
   ]
  },
  {
   "cell_type": "markdown",
   "id": "2dec1527-f30b-4cc2-885c-9d1b94bc085b",
   "metadata": {},
   "source": [
    "## Tuning"
   ]
  },
  {
   "cell_type": "code",
   "execution_count": 22,
   "id": "d9bb21b5-e122-4d54-92a0-f72e6413b6b0",
   "metadata": {},
   "outputs": [],
   "source": [
    "def objective(trial):\n",
    "    # Define range of values to be tested for the hyperparameters\n",
    "    n_mlp_layers = trial.suggest_int(\"n_mlp_layers\", 3, 10)\n",
    "    mlp_layers_dim = trial.suggest_discrete_uniform(\"mlp_layers_dim\", 16, 512, 16)\n",
    "    mlp_kwargs_dropout = trial.suggest_categorical(\"mlp_kwargs_dropout\", [True, False])\n",
    "    mlp_kwargs_batchnorm = trial.suggest_categorical(\n",
    "        \"mlp_kwargs_batchnorm\", [True, False]\n",
    "    )\n",
    "    mlp_kwargs_dropout_rate = trial.suggest_float(\"mlp_kwargs_dropout_rate\", 0.1, 0.9)\n",
    "\n",
    "    lr = trial.suggest_float(\"lr\", 1e-4, 5e-3)\n",
    "    n_epochs = trial.suggest_discrete_uniform(\"n_epochs\", 5, 20, 2)\n",
    "\n",
    "    # Generate the model\n",
    "    seed_everything(RANDOM_STATE)\n",
    "    model = wideAndDeep(\n",
    "        num_users,\n",
    "        num_items,\n",
    "        cross_feats_dim=cross_feats_dim,\n",
    "        n_mlp_layers=n_mlp_layers,\n",
    "        mlp_layers_dim=int(mlp_layers_dim),\n",
    "        mlp_kwargs={\n",
    "            \"activation\": True,\n",
    "            \"dropout\": mlp_kwargs_dropout,\n",
    "            \"batchnorm\": mlp_kwargs_batchnorm,\n",
    "            \"dropout_rate\": mlp_kwargs_dropout_rate,\n",
    "        },\n",
    "    )\n",
    "\n",
    "    # Generate the optimizers\n",
    "    optimizer = torch.optim.Adam(model.parameters(), lr=lr)\n",
    "    scheduler = torch.optim.lr_scheduler.ExponentialLR(optimizer, gamma=0.8)\n",
    "    criterion = torch.nn.BCELoss()\n",
    "    n_epochs = int(n_epochs)\n",
    "    device = \"cpu\"\n",
    "\n",
    "    # Generate data\n",
    "    seed_everything(RANDOM_STATE)\n",
    "    train_loader = DataLoader(\n",
    "        trainDatasetWithCrossFeatures(\n",
    "            df_train,\n",
    "            df_movies[\"movieId\"].nunique(),\n",
    "            user_features_mapping,\n",
    "            movie_features_mapping,\n",
    "            hash_bucket_size=cross_feats_dim,\n",
    "            verbose=False,\n",
    "        ),\n",
    "        batch_size=2048,\n",
    "        shuffle=True,\n",
    "    )\n",
    "    test_loader = DataLoader(\n",
    "        TensorDataset(\n",
    "            torch.tensor(df_test[\"userId\"]),\n",
    "            torch.tensor(df_test[\"movieId\"]),\n",
    "            cross_test,\n",
    "        ),\n",
    "        batch_size=4096,\n",
    "        shuffle=False,\n",
    "    )\n",
    "    # Train model\n",
    "    train(\n",
    "        model,\n",
    "        train_loader,\n",
    "        optimizer,\n",
    "        scheduler,\n",
    "        criterion,\n",
    "        n_epochs,\n",
    "        verbose=False,\n",
    "    )\n",
    "\n",
    "    # Evaluate\n",
    "    df_test[\"pred\"] = predict(model, test_loader, verbose=False).numpy()\n",
    "    pred, target, pred_items = split_test_df(\n",
    "        df_test, \"userId\", \"movieId\", \"pred\", \"action\"\n",
    "    )\n",
    "    k = 15\n",
    "    hit_rate = reccomendation_report(\n",
    "        pred, target, pred_items, cos_dist, popularity, k=k\n",
    "    )[f\"Hit rate @ {k}\"]\n",
    "\n",
    "    return hit_rate.item()"
   ]
  },
  {
   "cell_type": "code",
   "execution_count": 23,
   "id": "0f1ca204-ebea-4167-b154-153182784b29",
   "metadata": {},
   "outputs": [],
   "source": [
    "# set up logging\n",
    "directory = Path(f\"optuna/{MODEL_NAME}\")\n",
    "if not directory.exists():\n",
    "    directory.mkdir()\n",
    "current_time = datetime.now().strftime(\"%Y-%m-%d_%H-%M-%S\")\n",
    "\n",
    "logger = logging.getLogger(\"optuna\")\n",
    "logger.setLevel(logging.INFO)\n",
    "formatter = logging.Formatter(\"%(asctime)s | %(levelname)s | %(message)s\")\n",
    "file_handler = logging.FileHandler(\n",
    "    f\"{directory.as_posix()}/optuna_logs_{current_time}.log\"\n",
    ")\n",
    "file_handler.setFormatter(formatter)\n",
    "logger.addHandler(file_handler)"
   ]
  },
  {
   "cell_type": "code",
   "execution_count": 24,
   "id": "816c3284-60dc-4d96-a346-bf9c6d51a1b3",
   "metadata": {},
   "outputs": [
    {
     "name": "stderr",
     "output_type": "stream",
     "text": [
      "[I 2024-05-14 15:23:20,421] A new study created in memory with name: no-name-973a406d-efe9-41ab-961b-e881c9f33fb7\n",
      "/var/folders/b2/yfqb1mj945ncbc82gjz4yr7h0000gn/T/ipykernel_5836/1405335273.py:4: FutureWarning: suggest_discrete_uniform has been deprecated in v3.0.0. This feature will be removed in v6.0.0. See https://github.com/optuna/optuna/releases/tag/v3.0.0. Use suggest_float(..., step=...) instead.\n",
      "  mlp_layers_dim = trial.suggest_discrete_uniform(\"mlp_layers_dim\", 16, 512, 16)\n",
      "/var/folders/b2/yfqb1mj945ncbc82gjz4yr7h0000gn/T/ipykernel_5836/1405335273.py:12: FutureWarning: suggest_discrete_uniform has been deprecated in v3.0.0. This feature will be removed in v6.0.0. See https://github.com/optuna/optuna/releases/tag/v3.0.0. Use suggest_float(..., step=...) instead.\n",
      "  n_epochs = trial.suggest_discrete_uniform(\"n_epochs\", 5, 20, 2)\n",
      "/Users/kristina/Desktop/University/COURSE_WORK/RecSys_thesis/recsysvenv/lib/python3.12/site-packages/optuna/distributions.py:685: UserWarning: The distribution is specified by [5, 20] and step=2, but the range is not divisible by `step`. It will be replaced by [5, 19.0].\n",
      "  warnings.warn(\n",
      "[I 2024-05-14 15:31:30,349] Trial 0 finished with value: 0.19260485470294952 and parameters: {'n_mlp_layers': 9, 'mlp_layers_dim': 448.0, 'mlp_kwargs_dropout': True, 'mlp_kwargs_batchnorm': True, 'mlp_kwargs_dropout_rate': 0.8180674440911959, 'lr': 0.0006128156928358027, 'n_epochs': 5.0}. Best is trial 0 with value: 0.19260485470294952.\n",
      "/var/folders/b2/yfqb1mj945ncbc82gjz4yr7h0000gn/T/ipykernel_5836/1405335273.py:4: FutureWarning: suggest_discrete_uniform has been deprecated in v3.0.0. This feature will be removed in v6.0.0. See https://github.com/optuna/optuna/releases/tag/v3.0.0. Use suggest_float(..., step=...) instead.\n",
      "  mlp_layers_dim = trial.suggest_discrete_uniform(\"mlp_layers_dim\", 16, 512, 16)\n",
      "/var/folders/b2/yfqb1mj945ncbc82gjz4yr7h0000gn/T/ipykernel_5836/1405335273.py:12: FutureWarning: suggest_discrete_uniform has been deprecated in v3.0.0. This feature will be removed in v6.0.0. See https://github.com/optuna/optuna/releases/tag/v3.0.0. Use suggest_float(..., step=...) instead.\n",
      "  n_epochs = trial.suggest_discrete_uniform(\"n_epochs\", 5, 20, 2)\n",
      "/Users/kristina/Desktop/University/COURSE_WORK/RecSys_thesis/recsysvenv/lib/python3.12/site-packages/optuna/distributions.py:685: UserWarning: The distribution is specified by [5, 20] and step=2, but the range is not divisible by `step`. It will be replaced by [5, 19.0].\n",
      "  warnings.warn(\n",
      "[I 2024-05-14 15:38:38,872] Trial 1 finished with value: 0.567328929901123 and parameters: {'n_mlp_layers': 5, 'mlp_layers_dim': 48.0, 'mlp_kwargs_dropout': True, 'mlp_kwargs_batchnorm': True, 'mlp_kwargs_dropout_rate': 0.4643348562793439, 'lr': 0.0015644649939056084, 'n_epochs': 17.0}. Best is trial 1 with value: 0.567328929901123.\n",
      "[I 2024-05-14 15:42:06,770] Trial 2 finished with value: 0.5767108201980591 and parameters: {'n_mlp_layers': 10, 'mlp_layers_dim': 48.0, 'mlp_kwargs_dropout': False, 'mlp_kwargs_batchnorm': False, 'mlp_kwargs_dropout_rate': 0.5975416794824503, 'lr': 0.0034334062236579094, 'n_epochs': 9.0}. Best is trial 2 with value: 0.5767108201980591.\n",
      "[I 2024-05-14 15:47:04,367] Trial 3 finished with value: 0.41887417435646057 and parameters: {'n_mlp_layers': 9, 'mlp_layers_dim': 96.0, 'mlp_kwargs_dropout': True, 'mlp_kwargs_batchnorm': False, 'mlp_kwargs_dropout_rate': 0.7276639130222693, 'lr': 0.0042376657651797935, 'n_epochs': 9.0}. Best is trial 2 with value: 0.5767108201980591.\n",
      "[I 2024-05-14 15:52:15,174] Trial 4 finished with value: 0.6230684518814087 and parameters: {'n_mlp_layers': 9, 'mlp_layers_dim': 400.0, 'mlp_kwargs_dropout': False, 'mlp_kwargs_batchnorm': False, 'mlp_kwargs_dropout_rate': 0.10651146716504352, 'lr': 0.002457932493849651, 'n_epochs': 7.0}. Best is trial 4 with value: 0.6230684518814087.\n",
      "[I 2024-05-14 15:54:22,201] Trial 5 finished with value: 0.5761589407920837 and parameters: {'n_mlp_layers': 9, 'mlp_layers_dim': 48.0, 'mlp_kwargs_dropout': False, 'mlp_kwargs_batchnorm': False, 'mlp_kwargs_dropout_rate': 0.3265362469953097, 'lr': 0.0031158140711736075, 'n_epochs': 5.0}. Best is trial 4 with value: 0.6230684518814087.\n",
      "[I 2024-05-14 15:59:27,997] Trial 6 finished with value: 0.6098234057426453 and parameters: {'n_mlp_layers': 9, 'mlp_layers_dim': 176.0, 'mlp_kwargs_dropout': False, 'mlp_kwargs_batchnorm': True, 'mlp_kwargs_dropout_rate': 0.5430741492989233, 'lr': 0.0036075533907081415, 'n_epochs': 9.0}. Best is trial 4 with value: 0.6230684518814087.\n",
      "[I 2024-05-14 16:08:04,850] Trial 7 finished with value: 0.5176600217819214 and parameters: {'n_mlp_layers': 9, 'mlp_layers_dim': 160.0, 'mlp_kwargs_dropout': False, 'mlp_kwargs_batchnorm': True, 'mlp_kwargs_dropout_rate': 0.31230652619230953, 'lr': 0.0012193145109717157, 'n_epochs': 17.0}. Best is trial 4 with value: 0.6230684518814087.\n",
      "[I 2024-05-14 16:17:12,464] Trial 8 finished with value: 0.5700883269309998 and parameters: {'n_mlp_layers': 4, 'mlp_layers_dim': 160.0, 'mlp_kwargs_dropout': True, 'mlp_kwargs_batchnorm': False, 'mlp_kwargs_dropout_rate': 0.7046721970491788, 'lr': 0.00472914056138591, 'n_epochs': 19.0}. Best is trial 4 with value: 0.6230684518814087.\n",
      "[I 2024-05-14 16:22:53,342] Trial 9 finished with value: 0.5811258554458618 and parameters: {'n_mlp_layers': 3, 'mlp_layers_dim': 64.0, 'mlp_kwargs_dropout': True, 'mlp_kwargs_batchnorm': True, 'mlp_kwargs_dropout_rate': 0.4593769957338708, 'lr': 0.0023240991605324992, 'n_epochs': 15.0}. Best is trial 4 with value: 0.6230684518814087.\n",
      "[I 2024-05-14 16:29:42,555] Trial 10 finished with value: 0.5789183378219604 and parameters: {'n_mlp_layers': 7, 'mlp_layers_dim': 400.0, 'mlp_kwargs_dropout': False, 'mlp_kwargs_batchnorm': False, 'mlp_kwargs_dropout_rate': 0.11465850149073678, 'lr': 0.0023414429424274724, 'n_epochs': 11.0}. Best is trial 4 with value: 0.6230684518814087.\n"
     ]
    }
   ],
   "source": [
    "# launch tuning\n",
    "study = optuna.create_study(direction=\"maximize\")\n",
    "study.optimize(objective, timeout=3600)"
   ]
  }
 ],
 "metadata": {
  "kernelspec": {
   "display_name": "Python 3 (ipykernel)",
   "language": "python",
   "name": "python3"
  },
  "language_info": {
   "codemirror_mode": {
    "name": "ipython",
    "version": 3
   },
   "file_extension": ".py",
   "mimetype": "text/x-python",
   "name": "python",
   "nbconvert_exporter": "python",
   "pygments_lexer": "ipython3",
   "version": "3.12.2"
  }
 },
 "nbformat": 4,
 "nbformat_minor": 5
}
