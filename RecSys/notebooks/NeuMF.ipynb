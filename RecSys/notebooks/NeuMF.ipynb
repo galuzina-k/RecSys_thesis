{
 "cells": [
  {
   "cell_type": "code",
   "execution_count": 1,
   "id": "2834cbe0-e27a-4649-9846-737e8eb87106",
   "metadata": {},
   "outputs": [
    {
     "data": {
      "text/plain": [
       "'/Users/kristina/Desktop/University/COURSE_WORK/RecSys_thesis/recsysvenv/bin/python3.12'"
      ]
     },
     "execution_count": 1,
     "metadata": {},
     "output_type": "execute_result"
    }
   ],
   "source": [
    "## DO NOT ERASE THIS. IMPORTANT TO CORRECTLY IMPORT MODULES\n",
    "import sys\n",
    "\n",
    "sys.path.append(\"../\")\n",
    "sys.executable"
   ]
  },
  {
   "cell_type": "code",
   "execution_count": 2,
   "id": "03d08ba1",
   "metadata": {},
   "outputs": [],
   "source": [
    "import pandas as pd\n",
    "\n",
    "pd.set_option(\"display.max_rows\", 102)\n",
    "from tqdm.auto import tqdm\n",
    "\n",
    "import torch\n",
    "from torch.utils.data import DataLoader, TensorDataset\n",
    "\n",
    "from src.utils import (\n",
    "    load_MovieLens,\n",
    "    create_test_user,\n",
    "    train_test_val_split,\n",
    "    seed_everything,\n",
    "    UserMovieDataset,\n",
    "    split_test_df,\n",
    "    add_not_watched_movies,\n",
    "    create_test_user_display_df,\n",
    "    train,\n",
    "    predict,\n",
    ")\n",
    "from src.models import NeuMF\n",
    "from src.metrics import reccomendation_report"
   ]
  },
  {
   "cell_type": "markdown",
   "id": "2a032ae8",
   "metadata": {},
   "source": [
    "## Constants"
   ]
  },
  {
   "cell_type": "code",
   "execution_count": 3,
   "id": "8de185e7",
   "metadata": {},
   "outputs": [],
   "source": [
    "DATA_FOLDER = \"../../data/ml-1m/\"\n",
    "RANDOM_STATE = 7"
   ]
  },
  {
   "cell_type": "code",
   "execution_count": 4,
   "id": "1136b767-5777-4471-8136-d4a3cdeae7dd",
   "metadata": {},
   "outputs": [],
   "source": [
    "seed_everything(RANDOM_STATE)"
   ]
  },
  {
   "cell_type": "markdown",
   "id": "c0722360",
   "metadata": {},
   "source": [
    "## Data"
   ]
  },
  {
   "cell_type": "code",
   "execution_count": 5,
   "id": "084d98fb-79e5-4372-bde2-8662ef0b3d41",
   "metadata": {},
   "outputs": [],
   "source": [
    "df_users, df_movies, df_ratings = load_MovieLens(DATA_FOLDER)"
   ]
  },
  {
   "cell_type": "markdown",
   "id": "177d0b85-4b52-46df-b89f-23c743748f5b",
   "metadata": {},
   "source": [
    "### Creating a test_user"
   ]
  },
  {
   "cell_type": "code",
   "execution_count": 6,
   "id": "eba6aff5-c0e8-491b-8a45-0b681e66b429",
   "metadata": {},
   "outputs": [
    {
     "name": "stdout",
     "output_type": "stream",
     "text": [
      "Test user watch list:\n"
     ]
    },
    {
     "data": {
      "text/html": [
       "<div>\n",
       "<style scoped>\n",
       "    .dataframe tbody tr th:only-of-type {\n",
       "        vertical-align: middle;\n",
       "    }\n",
       "\n",
       "    .dataframe tbody tr th {\n",
       "        vertical-align: top;\n",
       "    }\n",
       "\n",
       "    .dataframe thead th {\n",
       "        text-align: right;\n",
       "    }\n",
       "</style>\n",
       "<table border=\"1\" class=\"dataframe\">\n",
       "  <thead>\n",
       "    <tr style=\"text-align: right;\">\n",
       "      <th></th>\n",
       "      <th>userId</th>\n",
       "      <th>movieId</th>\n",
       "      <th>rating</th>\n",
       "      <th>timestamp</th>\n",
       "      <th>name</th>\n",
       "      <th>genre</th>\n",
       "    </tr>\n",
       "  </thead>\n",
       "  <tbody>\n",
       "    <tr>\n",
       "      <th>0</th>\n",
       "      <td>6040</td>\n",
       "      <td>6</td>\n",
       "      <td>5</td>\n",
       "      <td>0</td>\n",
       "      <td>Sabrina (1995)</td>\n",
       "      <td>Comedy|Romance</td>\n",
       "    </tr>\n",
       "    <tr>\n",
       "      <th>1</th>\n",
       "      <td>6040</td>\n",
       "      <td>16</td>\n",
       "      <td>5</td>\n",
       "      <td>1</td>\n",
       "      <td>Sense and Sensibility (1995)</td>\n",
       "      <td>Drama|Romance</td>\n",
       "    </tr>\n",
       "    <tr>\n",
       "      <th>2</th>\n",
       "      <td>6040</td>\n",
       "      <td>3192</td>\n",
       "      <td>5</td>\n",
       "      <td>2</td>\n",
       "      <td>Singles (1992)</td>\n",
       "      <td>Comedy|Drama|Romance</td>\n",
       "    </tr>\n",
       "    <tr>\n",
       "      <th>3</th>\n",
       "      <td>6040</td>\n",
       "      <td>1461</td>\n",
       "      <td>5</td>\n",
       "      <td>3</td>\n",
       "      <td>Love and Other Catastrophes (1996)</td>\n",
       "      <td>Romance</td>\n",
       "    </tr>\n",
       "    <tr>\n",
       "      <th>4</th>\n",
       "      <td>6040</td>\n",
       "      <td>827</td>\n",
       "      <td>5</td>\n",
       "      <td>4</td>\n",
       "      <td>Emma (1996)</td>\n",
       "      <td>Comedy|Drama|Romance</td>\n",
       "    </tr>\n",
       "    <tr>\n",
       "      <th>5</th>\n",
       "      <td>6040</td>\n",
       "      <td>887</td>\n",
       "      <td>5</td>\n",
       "      <td>5</td>\n",
       "      <td>Singin' in the Rain (1952)</td>\n",
       "      <td>Musical|Romance</td>\n",
       "    </tr>\n",
       "    <tr>\n",
       "      <th>6</th>\n",
       "      <td>6040</td>\n",
       "      <td>593</td>\n",
       "      <td>5</td>\n",
       "      <td>6</td>\n",
       "      <td>Pretty Woman (1990)</td>\n",
       "      <td>Comedy|Romance</td>\n",
       "    </tr>\n",
       "  </tbody>\n",
       "</table>\n",
       "</div>"
      ],
      "text/plain": [
       "   userId  movieId  rating  timestamp                                name  \\\n",
       "0    6040        6       5          0                      Sabrina (1995)   \n",
       "1    6040       16       5          1        Sense and Sensibility (1995)   \n",
       "2    6040     3192       5          2                      Singles (1992)   \n",
       "3    6040     1461       5          3  Love and Other Catastrophes (1996)   \n",
       "4    6040      827       5          4                         Emma (1996)   \n",
       "5    6040      887       5          5          Singin' in the Rain (1952)   \n",
       "6    6040      593       5          6                 Pretty Woman (1990)   \n",
       "\n",
       "                  genre  \n",
       "0        Comedy|Romance  \n",
       "1         Drama|Romance  \n",
       "2  Comedy|Drama|Romance  \n",
       "3               Romance  \n",
       "4  Comedy|Drama|Romance  \n",
       "5       Musical|Romance  \n",
       "6        Comedy|Romance  "
      ]
     },
     "metadata": {},
     "output_type": "display_data"
    }
   ],
   "source": [
    "df_users, df_ratings, new_user_id = create_test_user(\n",
    "    df_users, df_ratings, [6, 16, 3192, 1461, 827, 887, 593]\n",
    ")\n",
    "print(\"Test user watch list:\")\n",
    "display(df_ratings[df_ratings.userId == new_user_id].merge(df_movies, on=\"movieId\"))"
   ]
  },
  {
   "cell_type": "markdown",
   "id": "59ad0c97-ef07-4ea3-a562-2c3e6c9450cd",
   "metadata": {},
   "source": [
    "### Train-test split\n",
    "Methodology: Last user interaction is a test item. The rest is train. Validation part is 20% of test."
   ]
  },
  {
   "cell_type": "code",
   "execution_count": 7,
   "id": "640bea58-f388-4778-8a1b-2622a636eee9",
   "metadata": {},
   "outputs": [
    {
     "data": {
      "application/vnd.jupyter.widget-view+json": {
       "model_id": "36e1d0cf9cba492da3119a7daa558605",
       "version_major": 2,
       "version_minor": 0
      },
      "text/plain": [
       "Enriching test:   0%|          | 0/4832 [00:00<?, ?it/s]"
      ]
     },
     "metadata": {},
     "output_type": "display_data"
    },
    {
     "data": {
      "application/vnd.jupyter.widget-view+json": {
       "model_id": "613ae98687964f6fbed87342215253b9",
       "version_major": 2,
       "version_minor": 0
      },
      "text/plain": [
       "Enriching val:   0%|          | 0/1209 [00:00<?, ?it/s]"
      ]
     },
     "metadata": {},
     "output_type": "display_data"
    }
   ],
   "source": [
    "df_train, df_test, df_val = train_test_val_split(df_ratings, df_movies, RANDOM_STATE)"
   ]
  },
  {
   "cell_type": "markdown",
   "id": "af5990e2-612a-4acc-b55c-986a278eb9d5",
   "metadata": {},
   "source": [
    "### Loading additional data"
   ]
  },
  {
   "cell_type": "code",
   "execution_count": 8,
   "id": "76aedd5b-054e-4408-be64-3f29b982fe2a",
   "metadata": {},
   "outputs": [],
   "source": [
    "# cos_dist = computeCosineSimilarities(df_train, \"userId\", \"movieId\", df_movies[\"movieId\"].nunique())\n",
    "\n",
    "# with open(\"../../data/cos_dist.pt\", \"wb\") as f:\n",
    "#     torch.save(cos_dist, f)\n",
    "\n",
    "with open(\"../../data/cos_dist.pt\", \"rb\") as f:\n",
    "    cos_dist = torch.load(f)\n",
    "popularity = torch.bincount(\n",
    "    torch.tensor(df_train.movieId.values), minlength=df_movies[\"movieId\"].nunique()\n",
    ")\n",
    "popularity = popularity / torch.max(popularity)"
   ]
  },
  {
   "cell_type": "markdown",
   "id": "2dec1527-f30b-4cc2-885c-9d1b94bc085b",
   "metadata": {},
   "source": [
    "## NeuMF"
   ]
  },
  {
   "cell_type": "code",
   "execution_count": 9,
   "id": "880e8be0-c40a-4095-b551-273067cce92a",
   "metadata": {},
   "outputs": [
    {
     "data": {
      "application/vnd.jupyter.widget-view+json": {
       "model_id": "b6421f223944445daa72af3453bf137b",
       "version_major": 2,
       "version_minor": 0
      },
      "text/plain": [
       "  0%|          | 0/994175 [00:00<?, ?it/s]"
      ]
     },
     "metadata": {},
     "output_type": "display_data"
    }
   ],
   "source": [
    "seed_everything(RANDOM_STATE)\n",
    "train_loader = DataLoader(\n",
    "    UserMovieDataset(df_train, df_movies[\"movieId\"].nunique()),\n",
    "    batch_size=2048,\n",
    "    shuffle=True,\n",
    ")\n",
    "val_loader = DataLoader(\n",
    "    TensorDataset(torch.tensor(df_val[\"userId\"]), torch.tensor(df_val[\"movieId\"])),\n",
    "    batch_size=4096,\n",
    "    shuffle=False,\n",
    ")\n",
    "test_loader = DataLoader(\n",
    "    TensorDataset(torch.tensor(df_test[\"userId\"]), torch.tensor(df_test[\"movieId\"])),\n",
    "    batch_size=4096,\n",
    "    shuffle=False,\n",
    ")\n",
    "num_users = df_users[\"userId\"].nunique()\n",
    "num_items = df_movies[\"movieId\"].nunique()"
   ]
  },
  {
   "cell_type": "code",
   "execution_count": 10,
   "id": "7b612342-63cb-4893-9ae7-ee3674a45035",
   "metadata": {},
   "outputs": [
    {
     "data": {
      "text/plain": [
       "NeuMF(\n",
       "  (mf_user_embed): Embedding(6041, 32)\n",
       "  (mf_item_embed): Embedding(3883, 32)\n",
       "  (mlp_user_embed): Embedding(6041, 16)\n",
       "  (mlp_item_embed): Embedding(3883, 16)\n",
       "  (mlp): Sequential(\n",
       "    (MLP_layer_0): MLP(\n",
       "      (block): Sequential(\n",
       "        (Linear): Linear(in_features=32, out_features=32, bias=True)\n",
       "        (Activation): ReLU()\n",
       "        (Dropout): Dropout(p=0.6, inplace=False)\n",
       "        (BatchNorm): BatchNorm1d(32, eps=1e-05, momentum=0.1, affine=True, track_running_stats=True)\n",
       "      )\n",
       "    )\n",
       "    (MLP_layer_1): MLP(\n",
       "      (block): Sequential(\n",
       "        (Linear): Linear(in_features=32, out_features=32, bias=True)\n",
       "        (Activation): ReLU()\n",
       "        (Dropout): Dropout(p=0.6, inplace=False)\n",
       "        (BatchNorm): BatchNorm1d(32, eps=1e-05, momentum=0.1, affine=True, track_running_stats=True)\n",
       "      )\n",
       "    )\n",
       "    (MLP_layer_2): MLP(\n",
       "      (block): Sequential(\n",
       "        (Linear): Linear(in_features=32, out_features=32, bias=True)\n",
       "        (Activation): ReLU()\n",
       "        (Dropout): Dropout(p=0.6, inplace=False)\n",
       "        (BatchNorm): BatchNorm1d(32, eps=1e-05, momentum=0.1, affine=True, track_running_stats=True)\n",
       "      )\n",
       "    )\n",
       "    (MLP_layer_3): MLP(\n",
       "      (block): Sequential(\n",
       "        (Linear): Linear(in_features=32, out_features=32, bias=True)\n",
       "        (Activation): ReLU()\n",
       "        (Dropout): Dropout(p=0.6, inplace=False)\n",
       "        (BatchNorm): BatchNorm1d(32, eps=1e-05, momentum=0.1, affine=True, track_running_stats=True)\n",
       "      )\n",
       "    )\n",
       "  )\n",
       "  (final): MLP(\n",
       "    (block): Sequential(\n",
       "      (Linear): Linear(in_features=64, out_features=1, bias=True)\n",
       "    )\n",
       "  )\n",
       ")"
      ]
     },
     "metadata": {},
     "output_type": "display_data"
    }
   ],
   "source": [
    "seed_everything(RANDOM_STATE)\n",
    "neumf = NeuMF(\n",
    "    num_users,\n",
    "    num_items,\n",
    "    mf_dim=32,\n",
    "    n_mlp_layers=4,\n",
    "    mlp_layers_dim=32,\n",
    "    mlp_kwargs={\n",
    "        \"activation\": True,\n",
    "        \"dropout\": True,\n",
    "        \"batchnorm\": True,\n",
    "        \"dropout_rate\": 0.6,\n",
    "    },\n",
    ")\n",
    "display(neumf)"
   ]
  },
  {
   "cell_type": "code",
   "execution_count": 11,
   "id": "5cbf91a5-facf-453a-8d94-52cc0913b3ef",
   "metadata": {},
   "outputs": [],
   "source": [
    "optimizer = torch.optim.Adam(neumf.parameters(), lr=3e-3)\n",
    "scheduler = torch.optim.lr_scheduler.ExponentialLR(optimizer, gamma=0.8)\n",
    "criterion = torch.nn.BCELoss()\n",
    "n_epochs = 10\n",
    "device = \"cpu\""
   ]
  },
  {
   "cell_type": "code",
   "execution_count": 12,
   "id": "99a66394-5747-47a9-8bcc-8640941ea1c4",
   "metadata": {},
   "outputs": [
    {
     "data": {
      "application/vnd.jupyter.widget-view+json": {
       "model_id": "8d1611925a2a49c2bd4e79c01b6a30b2",
       "version_major": 2,
       "version_minor": 0
      },
      "text/plain": [
       "Epochs:   0%|          | 0/10 [00:00<?, ?it/s]"
      ]
     },
     "metadata": {},
     "output_type": "display_data"
    },
    {
     "data": {
      "application/vnd.jupyter.widget-view+json": {
       "model_id": "93eabf37c30149508aafb97d4a7a5b9f",
       "version_major": 2,
       "version_minor": 0
      },
      "text/plain": [
       "  0%|          | 0/2428 [00:00<?, ?batch/s]"
      ]
     },
     "metadata": {},
     "output_type": "display_data"
    },
    {
     "name": "stdout",
     "output_type": "stream",
     "text": [
      "Epoch: 0\n",
      "Train loss: 0.43623\n"
     ]
    },
    {
     "data": {
      "application/vnd.jupyter.widget-view+json": {
       "model_id": "7c31d154f43c484d8ac027eecc4c3e5f",
       "version_major": 2,
       "version_minor": 0
      },
      "text/plain": [
       "Inference:   0%|          | 0/30 [00:00<?, ?batch/s]"
      ]
     },
     "metadata": {},
     "output_type": "display_data"
    },
    {
     "name": "stdout",
     "output_type": "stream",
     "text": [
      "{'Hit rate @ 15': tensor(0.5633),\n",
      " 'NDCG @ 15': tensor(0.2401),\n",
      " 'Diversity (ILD)': tensor(0.1432),\n",
      " 'Novelty (EPC)': tensor(0.7215)}\n"
     ]
    },
    {
     "data": {
      "application/vnd.jupyter.widget-view+json": {
       "model_id": "9e1c64f10bb9418dbca88068687b902b",
       "version_major": 2,
       "version_minor": 0
      },
      "text/plain": [
       "  0%|          | 0/2428 [00:00<?, ?batch/s]"
      ]
     },
     "metadata": {},
     "output_type": "display_data"
    },
    {
     "name": "stdout",
     "output_type": "stream",
     "text": [
      "Epoch: 1\n",
      "Train loss: 0.38271\n"
     ]
    },
    {
     "data": {
      "application/vnd.jupyter.widget-view+json": {
       "model_id": "2e0991fc54be4cf2bb250d338f8c95dd",
       "version_major": 2,
       "version_minor": 0
      },
      "text/plain": [
       "Inference:   0%|          | 0/30 [00:00<?, ?batch/s]"
      ]
     },
     "metadata": {},
     "output_type": "display_data"
    },
    {
     "name": "stdout",
     "output_type": "stream",
     "text": [
      "{'Hit rate @ 15': tensor(0.5699),\n",
      " 'NDCG @ 15': tensor(0.2506),\n",
      " 'Diversity (ILD)': tensor(0.1434),\n",
      " 'Novelty (EPC)': tensor(0.7160)}\n"
     ]
    },
    {
     "data": {
      "application/vnd.jupyter.widget-view+json": {
       "model_id": "95cb3753c9c7483ab27bbdf937e818e1",
       "version_major": 2,
       "version_minor": 0
      },
      "text/plain": [
       "  0%|          | 0/2428 [00:00<?, ?batch/s]"
      ]
     },
     "metadata": {},
     "output_type": "display_data"
    },
    {
     "name": "stdout",
     "output_type": "stream",
     "text": [
      "Epoch: 2\n",
      "Train loss: 0.37652\n"
     ]
    },
    {
     "data": {
      "application/vnd.jupyter.widget-view+json": {
       "model_id": "8b82fc2d63624805a02fe6141e2828f6",
       "version_major": 2,
       "version_minor": 0
      },
      "text/plain": [
       "Inference:   0%|          | 0/30 [00:00<?, ?batch/s]"
      ]
     },
     "metadata": {},
     "output_type": "display_data"
    },
    {
     "name": "stdout",
     "output_type": "stream",
     "text": [
      "{'Hit rate @ 15': tensor(0.5666),\n",
      " 'NDCG @ 15': tensor(0.2492),\n",
      " 'Diversity (ILD)': tensor(0.1381),\n",
      " 'Novelty (EPC)': tensor(0.7255)}\n"
     ]
    },
    {
     "data": {
      "application/vnd.jupyter.widget-view+json": {
       "model_id": "acb2fc60f717464192c837e3792baae2",
       "version_major": 2,
       "version_minor": 0
      },
      "text/plain": [
       "  0%|          | 0/2428 [00:00<?, ?batch/s]"
      ]
     },
     "metadata": {},
     "output_type": "display_data"
    },
    {
     "name": "stdout",
     "output_type": "stream",
     "text": [
      "Epoch: 3\n",
      "Train loss: 0.36561\n"
     ]
    },
    {
     "data": {
      "application/vnd.jupyter.widget-view+json": {
       "model_id": "499b3ea396944453a8187f87a3915d2f",
       "version_major": 2,
       "version_minor": 0
      },
      "text/plain": [
       "Inference:   0%|          | 0/30 [00:00<?, ?batch/s]"
      ]
     },
     "metadata": {},
     "output_type": "display_data"
    },
    {
     "name": "stdout",
     "output_type": "stream",
     "text": [
      "{'Hit rate @ 15': tensor(0.5691),\n",
      " 'NDCG @ 15': tensor(0.2573),\n",
      " 'Diversity (ILD)': tensor(0.1304),\n",
      " 'Novelty (EPC)': tensor(0.7422)}\n"
     ]
    },
    {
     "data": {
      "application/vnd.jupyter.widget-view+json": {
       "model_id": "fb835deedba241f4bca5b3dbce392d5f",
       "version_major": 2,
       "version_minor": 0
      },
      "text/plain": [
       "  0%|          | 0/2428 [00:00<?, ?batch/s]"
      ]
     },
     "metadata": {},
     "output_type": "display_data"
    },
    {
     "name": "stdout",
     "output_type": "stream",
     "text": [
      "Epoch: 4\n",
      "Train loss: 0.3508\n"
     ]
    },
    {
     "data": {
      "application/vnd.jupyter.widget-view+json": {
       "model_id": "8dbb68c72d9e4533a6d3f724f606d626",
       "version_major": 2,
       "version_minor": 0
      },
      "text/plain": [
       "Inference:   0%|          | 0/30 [00:00<?, ?batch/s]"
      ]
     },
     "metadata": {},
     "output_type": "display_data"
    },
    {
     "name": "stdout",
     "output_type": "stream",
     "text": [
      "{'Hit rate @ 15': tensor(0.5889),\n",
      " 'NDCG @ 15': tensor(0.2689),\n",
      " 'Diversity (ILD)': tensor(0.1269),\n",
      " 'Novelty (EPC)': tensor(0.7463)}\n"
     ]
    },
    {
     "data": {
      "application/vnd.jupyter.widget-view+json": {
       "model_id": "86f58347a0bd45daa49ac2185faabc38",
       "version_major": 2,
       "version_minor": 0
      },
      "text/plain": [
       "  0%|          | 0/2428 [00:00<?, ?batch/s]"
      ]
     },
     "metadata": {},
     "output_type": "display_data"
    },
    {
     "name": "stdout",
     "output_type": "stream",
     "text": [
      "Epoch: 5\n",
      "Train loss: 0.33618\n"
     ]
    },
    {
     "data": {
      "application/vnd.jupyter.widget-view+json": {
       "model_id": "32731ebab5224ef7ae75d84a87b96580",
       "version_major": 2,
       "version_minor": 0
      },
      "text/plain": [
       "Inference:   0%|          | 0/30 [00:00<?, ?batch/s]"
      ]
     },
     "metadata": {},
     "output_type": "display_data"
    },
    {
     "name": "stdout",
     "output_type": "stream",
     "text": [
      "{'Hit rate @ 15': tensor(0.5840),\n",
      " 'NDCG @ 15': tensor(0.2666),\n",
      " 'Diversity (ILD)': tensor(0.1196),\n",
      " 'Novelty (EPC)': tensor(0.7667)}\n"
     ]
    },
    {
     "data": {
      "application/vnd.jupyter.widget-view+json": {
       "model_id": "d9a2b469e9fe40bc8e2ae1aed0d18ae2",
       "version_major": 2,
       "version_minor": 0
      },
      "text/plain": [
       "  0%|          | 0/2428 [00:00<?, ?batch/s]"
      ]
     },
     "metadata": {},
     "output_type": "display_data"
    },
    {
     "name": "stdout",
     "output_type": "stream",
     "text": [
      "Epoch: 6\n",
      "Train loss: 0.32355\n"
     ]
    },
    {
     "data": {
      "application/vnd.jupyter.widget-view+json": {
       "model_id": "32b8a2199f96404289f166468235b55b",
       "version_major": 2,
       "version_minor": 0
      },
      "text/plain": [
       "Inference:   0%|          | 0/30 [00:00<?, ?batch/s]"
      ]
     },
     "metadata": {},
     "output_type": "display_data"
    },
    {
     "name": "stdout",
     "output_type": "stream",
     "text": [
      "{'Hit rate @ 15': tensor(0.5897),\n",
      " 'NDCG @ 15': tensor(0.2735),\n",
      " 'Diversity (ILD)': tensor(0.1165),\n",
      " 'Novelty (EPC)': tensor(0.7726)}\n"
     ]
    },
    {
     "data": {
      "application/vnd.jupyter.widget-view+json": {
       "model_id": "c6c91b81993e482aa48e33cbb49830e3",
       "version_major": 2,
       "version_minor": 0
      },
      "text/plain": [
       "  0%|          | 0/2428 [00:00<?, ?batch/s]"
      ]
     },
     "metadata": {},
     "output_type": "display_data"
    },
    {
     "name": "stdout",
     "output_type": "stream",
     "text": [
      "Epoch: 7\n",
      "Train loss: 0.3134\n"
     ]
    },
    {
     "data": {
      "application/vnd.jupyter.widget-view+json": {
       "model_id": "5f2b44fb5b864c98871b2b4c19e2d857",
       "version_major": 2,
       "version_minor": 0
      },
      "text/plain": [
       "Inference:   0%|          | 0/30 [00:00<?, ?batch/s]"
      ]
     },
     "metadata": {},
     "output_type": "display_data"
    },
    {
     "name": "stdout",
     "output_type": "stream",
     "text": [
      "{'Hit rate @ 15': tensor(0.5906),\n",
      " 'NDCG @ 15': tensor(0.2786),\n",
      " 'Diversity (ILD)': tensor(0.1140),\n",
      " 'Novelty (EPC)': tensor(0.7781)}\n"
     ]
    },
    {
     "data": {
      "application/vnd.jupyter.widget-view+json": {
       "model_id": "8e00a130d7d548679631871226afa659",
       "version_major": 2,
       "version_minor": 0
      },
      "text/plain": [
       "  0%|          | 0/2428 [00:00<?, ?batch/s]"
      ]
     },
     "metadata": {},
     "output_type": "display_data"
    },
    {
     "name": "stdout",
     "output_type": "stream",
     "text": [
      "Epoch: 8\n",
      "Train loss: 0.30572\n"
     ]
    },
    {
     "data": {
      "application/vnd.jupyter.widget-view+json": {
       "model_id": "d41b6a434c15465983ad14ddecd6c85d",
       "version_major": 2,
       "version_minor": 0
      },
      "text/plain": [
       "Inference:   0%|          | 0/30 [00:00<?, ?batch/s]"
      ]
     },
     "metadata": {},
     "output_type": "display_data"
    },
    {
     "name": "stdout",
     "output_type": "stream",
     "text": [
      "{'Hit rate @ 15': tensor(0.5955),\n",
      " 'NDCG @ 15': tensor(0.2826),\n",
      " 'Diversity (ILD)': tensor(0.1133),\n",
      " 'Novelty (EPC)': tensor(0.7793)}\n"
     ]
    },
    {
     "data": {
      "application/vnd.jupyter.widget-view+json": {
       "model_id": "4e7eccbc9b414a9d8a06419f02deb9a2",
       "version_major": 2,
       "version_minor": 0
      },
      "text/plain": [
       "  0%|          | 0/2428 [00:00<?, ?batch/s]"
      ]
     },
     "metadata": {},
     "output_type": "display_data"
    },
    {
     "name": "stdout",
     "output_type": "stream",
     "text": [
      "Epoch: 9\n",
      "Train loss: 0.2998\n"
     ]
    },
    {
     "data": {
      "application/vnd.jupyter.widget-view+json": {
       "model_id": "f4c559b70022457c99fd6ee5dd377aa8",
       "version_major": 2,
       "version_minor": 0
      },
      "text/plain": [
       "Inference:   0%|          | 0/30 [00:00<?, ?batch/s]"
      ]
     },
     "metadata": {},
     "output_type": "display_data"
    },
    {
     "name": "stdout",
     "output_type": "stream",
     "text": [
      "{'Hit rate @ 15': tensor(0.5955),\n",
      " 'NDCG @ 15': tensor(0.2847),\n",
      " 'Diversity (ILD)': tensor(0.1118),\n",
      " 'Novelty (EPC)': tensor(0.7839)}\n",
      "CPU times: user 17min 22s, sys: 46min 39s, total: 1h 4min 1s\n",
      "Wall time: 7min 32s\n"
     ]
    }
   ],
   "source": [
    "%%time\n",
    "train(\n",
    "    neumf,\n",
    "    train_loader,\n",
    "    optimizer,\n",
    "    scheduler,\n",
    "    criterion,\n",
    "    n_epochs,\n",
    "    val_loader=val_loader,\n",
    "    df_val=df_val,\n",
    "    cos_dist=cos_dist,\n",
    "    popularity=popularity,\n",
    "    verbose=True,\n",
    ")"
   ]
  },
  {
   "cell_type": "code",
   "execution_count": 13,
   "id": "0d3aea72-c5c8-47b5-9567-7e6e01519eb9",
   "metadata": {},
   "outputs": [
    {
     "data": {
      "text/plain": [
       "{'Hit rate @ 15': tensor(0.5919),\n",
       " 'NDCG @ 15': tensor(0.2877),\n",
       " 'Diversity (ILD)': tensor(0.1116),\n",
       " 'Novelty (EPC)': tensor(0.7843)}"
      ]
     },
     "execution_count": 13,
     "metadata": {},
     "output_type": "execute_result"
    }
   ],
   "source": [
    "df_test[\"pred\"] = predict(neumf, test_loader, verbose=False).numpy()\n",
    "pred, target, pred_items = split_test_df(df_test, \"userId\", \"movieId\", \"pred\", \"action\")\n",
    "reccomendation_report(pred, target, pred_items, cos_dist, popularity, k=15)"
   ]
  },
  {
   "cell_type": "markdown",
   "id": "fe8bfbbf-2eae-4fc1-a08b-53c2505f60b0",
   "metadata": {},
   "source": [
    "## Test user recommendations"
   ]
  },
  {
   "cell_type": "code",
   "execution_count": 14,
   "id": "9eac1de0-1009-4b0c-a160-c5b2fa04ceda",
   "metadata": {},
   "outputs": [
    {
     "data": {
      "text/html": [
       "<div>\n",
       "<style scoped>\n",
       "    .dataframe tbody tr th:only-of-type {\n",
       "        vertical-align: middle;\n",
       "    }\n",
       "\n",
       "    .dataframe tbody tr th {\n",
       "        vertical-align: top;\n",
       "    }\n",
       "\n",
       "    .dataframe thead th {\n",
       "        text-align: right;\n",
       "    }\n",
       "</style>\n",
       "<table border=\"1\" class=\"dataframe\">\n",
       "  <thead>\n",
       "    <tr style=\"text-align: right;\">\n",
       "      <th></th>\n",
       "      <th>userId</th>\n",
       "      <th>movieId</th>\n",
       "      <th>name</th>\n",
       "      <th>genre</th>\n",
       "      <th>pred</th>\n",
       "    </tr>\n",
       "  </thead>\n",
       "  <tbody>\n",
       "    <tr>\n",
       "      <th>0</th>\n",
       "      <td>6040</td>\n",
       "      <td>2061</td>\n",
       "      <td>Atlantic City (1980)</td>\n",
       "      <td>Crime|Drama|Romance</td>\n",
       "      <td>0.925224</td>\n",
       "    </tr>\n",
       "    <tr>\n",
       "      <th>1</th>\n",
       "      <td>6040</td>\n",
       "      <td>1227</td>\n",
       "      <td>Graduate, The (1967)</td>\n",
       "      <td>Drama|Romance</td>\n",
       "      <td>0.865895</td>\n",
       "    </tr>\n",
       "    <tr>\n",
       "      <th>2</th>\n",
       "      <td>6040</td>\n",
       "      <td>3476</td>\n",
       "      <td>Cabaret (1972)</td>\n",
       "      <td>Musical|War</td>\n",
       "      <td>0.814038</td>\n",
       "    </tr>\n",
       "    <tr>\n",
       "      <th>3</th>\n",
       "      <td>6040</td>\n",
       "      <td>2401</td>\n",
       "      <td>Crocodile Dundee (1986)</td>\n",
       "      <td>Adventure|Comedy</td>\n",
       "      <td>0.798640</td>\n",
       "    </tr>\n",
       "    <tr>\n",
       "      <th>4</th>\n",
       "      <td>6040</td>\n",
       "      <td>1211</td>\n",
       "      <td>Annie Hall (1977)</td>\n",
       "      <td>Comedy|Romance</td>\n",
       "      <td>0.786102</td>\n",
       "    </tr>\n",
       "    <tr>\n",
       "      <th>5</th>\n",
       "      <td>6040</td>\n",
       "      <td>1067</td>\n",
       "      <td>Great Race, The (1965)</td>\n",
       "      <td>Comedy|Musical</td>\n",
       "      <td>0.783455</td>\n",
       "    </tr>\n",
       "    <tr>\n",
       "      <th>6</th>\n",
       "      <td>6040</td>\n",
       "      <td>1202</td>\n",
       "      <td>Blues Brothers, The (1980)</td>\n",
       "      <td>Action|Comedy|Musical</td>\n",
       "      <td>0.783216</td>\n",
       "    </tr>\n",
       "    <tr>\n",
       "      <th>7</th>\n",
       "      <td>6040</td>\n",
       "      <td>1243</td>\n",
       "      <td>Deer Hunter, The (1978)</td>\n",
       "      <td>Drama|War</td>\n",
       "      <td>0.773092</td>\n",
       "    </tr>\n",
       "    <tr>\n",
       "      <th>8</th>\n",
       "      <td>6040</td>\n",
       "      <td>1081</td>\n",
       "      <td>E.T. the Extra-Terrestrial (1982)</td>\n",
       "      <td>Children's|Drama|Fantasy|Sci-Fi</td>\n",
       "      <td>0.764825</td>\n",
       "    </tr>\n",
       "    <tr>\n",
       "      <th>9</th>\n",
       "      <td>6040</td>\n",
       "      <td>1220</td>\n",
       "      <td>Terminator, The (1984)</td>\n",
       "      <td>Action|Sci-Fi|Thriller</td>\n",
       "      <td>0.764572</td>\n",
       "    </tr>\n",
       "    <tr>\n",
       "      <th>10</th>\n",
       "      <td>6040</td>\n",
       "      <td>3566</td>\n",
       "      <td>Spy Who Loved Me, The (1977)</td>\n",
       "      <td>Action</td>\n",
       "      <td>0.752492</td>\n",
       "    </tr>\n",
       "    <tr>\n",
       "      <th>11</th>\n",
       "      <td>6040</td>\n",
       "      <td>2018</td>\n",
       "      <td>Peter Pan (1953)</td>\n",
       "      <td>Animation|Children's|Fantasy|Musical</td>\n",
       "      <td>0.751629</td>\n",
       "    </tr>\n",
       "    <tr>\n",
       "      <th>12</th>\n",
       "      <td>6040</td>\n",
       "      <td>3585</td>\n",
       "      <td>Guns of Navarone, The (1961)</td>\n",
       "      <td>Action|Drama|War</td>\n",
       "      <td>0.749633</td>\n",
       "    </tr>\n",
       "    <tr>\n",
       "      <th>13</th>\n",
       "      <td>6040</td>\n",
       "      <td>3127</td>\n",
       "      <td>Stalag 17 (1953)</td>\n",
       "      <td>Drama|War</td>\n",
       "      <td>0.726205</td>\n",
       "    </tr>\n",
       "    <tr>\n",
       "      <th>14</th>\n",
       "      <td>6040</td>\n",
       "      <td>3764</td>\n",
       "      <td>Bronco Billy (1980)</td>\n",
       "      <td>Adventure|Drama|Romance</td>\n",
       "      <td>0.717771</td>\n",
       "    </tr>\n",
       "    <tr>\n",
       "      <th>15</th>\n",
       "      <td>6040</td>\n",
       "      <td>3290</td>\n",
       "      <td>Breaking Away (1979)</td>\n",
       "      <td>Drama</td>\n",
       "      <td>0.714263</td>\n",
       "    </tr>\n",
       "    <tr>\n",
       "      <th>16</th>\n",
       "      <td>6040</td>\n",
       "      <td>1263</td>\n",
       "      <td>High Noon (1952)</td>\n",
       "      <td>Western</td>\n",
       "      <td>0.708468</td>\n",
       "    </tr>\n",
       "    <tr>\n",
       "      <th>17</th>\n",
       "      <td>6040</td>\n",
       "      <td>591</td>\n",
       "      <td>Beauty and the Beast (1991)</td>\n",
       "      <td>Animation|Children's|Musical</td>\n",
       "      <td>0.708107</td>\n",
       "    </tr>\n",
       "    <tr>\n",
       "      <th>18</th>\n",
       "      <td>6040</td>\n",
       "      <td>2075</td>\n",
       "      <td>Sixteen Candles (1984)</td>\n",
       "      <td>Comedy</td>\n",
       "      <td>0.706203</td>\n",
       "    </tr>\n",
       "    <tr>\n",
       "      <th>19</th>\n",
       "      <td>6040</td>\n",
       "      <td>3205</td>\n",
       "      <td>Single White Female (1992)</td>\n",
       "      <td>Action</td>\n",
       "      <td>0.706086</td>\n",
       "    </tr>\n",
       "    <tr>\n",
       "      <th>20</th>\n",
       "      <td>6040</td>\n",
       "      <td>891</td>\n",
       "      <td>Vertigo (1958)</td>\n",
       "      <td>Mystery|Thriller</td>\n",
       "      <td>0.704535</td>\n",
       "    </tr>\n",
       "    <tr>\n",
       "      <th>21</th>\n",
       "      <td>6040</td>\n",
       "      <td>3439</td>\n",
       "      <td>Outlaw Josey Wales, The (1976)</td>\n",
       "      <td>Western</td>\n",
       "      <td>0.703695</td>\n",
       "    </tr>\n",
       "    <tr>\n",
       "      <th>22</th>\n",
       "      <td>6040</td>\n",
       "      <td>1884</td>\n",
       "      <td>French Connection, The (1971)</td>\n",
       "      <td>Action|Crime|Drama|Thriller</td>\n",
       "      <td>0.702903</td>\n",
       "    </tr>\n",
       "    <tr>\n",
       "      <th>23</th>\n",
       "      <td>6040</td>\n",
       "      <td>2280</td>\n",
       "      <td>Mona Lisa (1986)</td>\n",
       "      <td>Comedy|Thriller</td>\n",
       "      <td>0.685548</td>\n",
       "    </tr>\n",
       "    <tr>\n",
       "      <th>24</th>\n",
       "      <td>6040</td>\n",
       "      <td>3438</td>\n",
       "      <td>Odd Couple, The (1968)</td>\n",
       "      <td>Comedy</td>\n",
       "      <td>0.683871</td>\n",
       "    </tr>\n",
       "    <tr>\n",
       "      <th>25</th>\n",
       "      <td>6040</td>\n",
       "      <td>1393</td>\n",
       "      <td>Evita (1996)</td>\n",
       "      <td>Drama|Musical</td>\n",
       "      <td>0.668842</td>\n",
       "    </tr>\n",
       "    <tr>\n",
       "      <th>26</th>\n",
       "      <td>6040</td>\n",
       "      <td>2921</td>\n",
       "      <td>Licence to Kill (1989)</td>\n",
       "      <td>Action</td>\n",
       "      <td>0.662595</td>\n",
       "    </tr>\n",
       "    <tr>\n",
       "      <th>27</th>\n",
       "      <td>6040</td>\n",
       "      <td>1264</td>\n",
       "      <td>Big Sleep, The (1946)</td>\n",
       "      <td>Film-Noir|Mystery</td>\n",
       "      <td>0.659214</td>\n",
       "    </tr>\n",
       "    <tr>\n",
       "      <th>28</th>\n",
       "      <td>6040</td>\n",
       "      <td>2341</td>\n",
       "      <td>Rocky III (1982)</td>\n",
       "      <td>Action|Drama</td>\n",
       "      <td>0.648445</td>\n",
       "    </tr>\n",
       "    <tr>\n",
       "      <th>29</th>\n",
       "      <td>6040</td>\n",
       "      <td>1203</td>\n",
       "      <td>Godfather: Part II, The (1974)</td>\n",
       "      <td>Action|Crime|Drama</td>\n",
       "      <td>0.635945</td>\n",
       "    </tr>\n",
       "    <tr>\n",
       "      <th>30</th>\n",
       "      <td>6040</td>\n",
       "      <td>464</td>\n",
       "      <td>Englishman Who Went Up a Hill, But Came Down a...</td>\n",
       "      <td>Comedy|Romance</td>\n",
       "      <td>0.614462</td>\n",
       "    </tr>\n",
       "    <tr>\n",
       "      <th>31</th>\n",
       "      <td>6040</td>\n",
       "      <td>2588</td>\n",
       "      <td>Rocky Horror Picture Show, The (1975)</td>\n",
       "      <td>Comedy|Horror|Musical|Sci-Fi</td>\n",
       "      <td>0.612256</td>\n",
       "    </tr>\n",
       "    <tr>\n",
       "      <th>32</th>\n",
       "      <td>6040</td>\n",
       "      <td>2125</td>\n",
       "      <td>Untouchables, The (1987)</td>\n",
       "      <td>Action|Crime|Drama</td>\n",
       "      <td>0.604076</td>\n",
       "    </tr>\n",
       "    <tr>\n",
       "      <th>33</th>\n",
       "      <td>6040</td>\n",
       "      <td>2901</td>\n",
       "      <td>Fitzcarraldo (1982)</td>\n",
       "      <td>Adventure|Drama</td>\n",
       "      <td>0.584073</td>\n",
       "    </tr>\n",
       "    <tr>\n",
       "      <th>34</th>\n",
       "      <td>6040</td>\n",
       "      <td>2808</td>\n",
       "      <td>Tommy (1975)</td>\n",
       "      <td>Drama|Musical</td>\n",
       "      <td>0.583987</td>\n",
       "    </tr>\n",
       "    <tr>\n",
       "      <th>35</th>\n",
       "      <td>6040</td>\n",
       "      <td>3771</td>\n",
       "      <td>Air America (1990)</td>\n",
       "      <td>Action|Comedy</td>\n",
       "      <td>0.580954</td>\n",
       "    </tr>\n",
       "    <tr>\n",
       "      <th>36</th>\n",
       "      <td>6040</td>\n",
       "      <td>1212</td>\n",
       "      <td>Right Stuff, The (1983)</td>\n",
       "      <td>Drama</td>\n",
       "      <td>0.574783</td>\n",
       "    </tr>\n",
       "    <tr>\n",
       "      <th>37</th>\n",
       "      <td>6040</td>\n",
       "      <td>2275</td>\n",
       "      <td>Runaway Train (1985)</td>\n",
       "      <td>Action|Adventure|Drama|Thriller</td>\n",
       "      <td>0.573620</td>\n",
       "    </tr>\n",
       "    <tr>\n",
       "      <th>38</th>\n",
       "      <td>6040</td>\n",
       "      <td>3401</td>\n",
       "      <td>Dersu Uzala (1974)</td>\n",
       "      <td>Adventure|Drama</td>\n",
       "      <td>0.572833</td>\n",
       "    </tr>\n",
       "    <tr>\n",
       "      <th>39</th>\n",
       "      <td>6040</td>\n",
       "      <td>2134</td>\n",
       "      <td>Shadow of a Doubt (1943)</td>\n",
       "      <td>Film-Noir|Thriller</td>\n",
       "      <td>0.572184</td>\n",
       "    </tr>\n",
       "    <tr>\n",
       "      <th>40</th>\n",
       "      <td>6040</td>\n",
       "      <td>2797</td>\n",
       "      <td>Buddy Holly Story, The (1978)</td>\n",
       "      <td>Drama</td>\n",
       "      <td>0.564211</td>\n",
       "    </tr>\n",
       "    <tr>\n",
       "      <th>41</th>\n",
       "      <td>6040</td>\n",
       "      <td>1858</td>\n",
       "      <td>All Quiet on the Western Front (1930)</td>\n",
       "      <td>War</td>\n",
       "      <td>0.558985</td>\n",
       "    </tr>\n",
       "    <tr>\n",
       "      <th>42</th>\n",
       "      <td>6040</td>\n",
       "      <td>1336</td>\n",
       "      <td>Shine (1996)</td>\n",
       "      <td>Drama|Romance</td>\n",
       "      <td>0.556608</td>\n",
       "    </tr>\n",
       "    <tr>\n",
       "      <th>43</th>\n",
       "      <td>6040</td>\n",
       "      <td>3745</td>\n",
       "      <td>Love and Death (1975)</td>\n",
       "      <td>Comedy</td>\n",
       "      <td>0.553161</td>\n",
       "    </tr>\n",
       "    <tr>\n",
       "      <th>44</th>\n",
       "      <td>6040</td>\n",
       "      <td>1374</td>\n",
       "      <td>Tin Men (1987)</td>\n",
       "      <td>Comedy|Drama</td>\n",
       "      <td>0.542521</td>\n",
       "    </tr>\n",
       "    <tr>\n",
       "      <th>45</th>\n",
       "      <td>6040</td>\n",
       "      <td>1899</td>\n",
       "      <td>Breakfast Club, The (1985)</td>\n",
       "      <td>Comedy|Drama</td>\n",
       "      <td>0.536911</td>\n",
       "    </tr>\n",
       "    <tr>\n",
       "      <th>46</th>\n",
       "      <td>6040</td>\n",
       "      <td>1171</td>\n",
       "      <td>Strictly Ballroom (1992)</td>\n",
       "      <td>Comedy|Romance</td>\n",
       "      <td>0.535314</td>\n",
       "    </tr>\n",
       "    <tr>\n",
       "      <th>47</th>\n",
       "      <td>6040</td>\n",
       "      <td>2877</td>\n",
       "      <td>Help! (1965)</td>\n",
       "      <td>Comedy|Musical</td>\n",
       "      <td>0.534034</td>\n",
       "    </tr>\n",
       "    <tr>\n",
       "      <th>48</th>\n",
       "      <td>6040</td>\n",
       "      <td>1656</td>\n",
       "      <td>Good Will Hunting (1997)</td>\n",
       "      <td>Drama</td>\n",
       "      <td>0.520856</td>\n",
       "    </tr>\n",
       "    <tr>\n",
       "      <th>49</th>\n",
       "      <td>6040</td>\n",
       "      <td>3480</td>\n",
       "      <td>Guys and Dolls (1955)</td>\n",
       "      <td>Musical</td>\n",
       "      <td>0.514411</td>\n",
       "    </tr>\n",
       "    <tr>\n",
       "      <th>50</th>\n",
       "      <td>6040</td>\n",
       "      <td>1869</td>\n",
       "      <td>Lost Weekend, The (1945)</td>\n",
       "      <td>Drama</td>\n",
       "      <td>0.512501</td>\n",
       "    </tr>\n",
       "    <tr>\n",
       "      <th>51</th>\n",
       "      <td>6040</td>\n",
       "      <td>2332</td>\n",
       "      <td>Pale Rider (1985)</td>\n",
       "      <td>Western</td>\n",
       "      <td>0.506043</td>\n",
       "    </tr>\n",
       "    <tr>\n",
       "      <th>52</th>\n",
       "      <td>6040</td>\n",
       "      <td>582</td>\n",
       "      <td>Home Alone (1990)</td>\n",
       "      <td>Children's|Comedy</td>\n",
       "      <td>0.503926</td>\n",
       "    </tr>\n",
       "    <tr>\n",
       "      <th>53</th>\n",
       "      <td>6040</td>\n",
       "      <td>2802</td>\n",
       "      <td>Deliverance (1972)</td>\n",
       "      <td>Adventure|Thriller</td>\n",
       "      <td>0.495165</td>\n",
       "    </tr>\n",
       "    <tr>\n",
       "      <th>54</th>\n",
       "      <td>6040</td>\n",
       "      <td>2728</td>\n",
       "      <td>Big (1988)</td>\n",
       "      <td>Comedy|Fantasy</td>\n",
       "      <td>0.492800</td>\n",
       "    </tr>\n",
       "    <tr>\n",
       "      <th>55</th>\n",
       "      <td>6040</td>\n",
       "      <td>1878</td>\n",
       "      <td>West Side Story (1961)</td>\n",
       "      <td>Musical|Romance</td>\n",
       "      <td>0.488903</td>\n",
       "    </tr>\n",
       "    <tr>\n",
       "      <th>56</th>\n",
       "      <td>6040</td>\n",
       "      <td>2064</td>\n",
       "      <td>Adventures in Babysitting (1987)</td>\n",
       "      <td>Adventure|Comedy</td>\n",
       "      <td>0.485681</td>\n",
       "    </tr>\n",
       "    <tr>\n",
       "      <th>57</th>\n",
       "      <td>6040</td>\n",
       "      <td>523</td>\n",
       "      <td>Schindler's List (1993)</td>\n",
       "      <td>Drama|War</td>\n",
       "      <td>0.477758</td>\n",
       "    </tr>\n",
       "    <tr>\n",
       "      <th>58</th>\n",
       "      <td>6040</td>\n",
       "      <td>3638</td>\n",
       "      <td>Nine 1/2 Weeks (1986)</td>\n",
       "      <td>Drama</td>\n",
       "      <td>0.471307</td>\n",
       "    </tr>\n",
       "    <tr>\n",
       "      <th>59</th>\n",
       "      <td>6040</td>\n",
       "      <td>1972</td>\n",
       "      <td>Condorman (1981)</td>\n",
       "      <td>Action|Adventure|Children's|Comedy</td>\n",
       "      <td>0.471183</td>\n",
       "    </tr>\n",
       "    <tr>\n",
       "      <th>60</th>\n",
       "      <td>6040</td>\n",
       "      <td>2287</td>\n",
       "      <td>Celebrity (1998)</td>\n",
       "      <td>Comedy</td>\n",
       "      <td>0.469690</td>\n",
       "    </tr>\n",
       "    <tr>\n",
       "      <th>61</th>\n",
       "      <td>6040</td>\n",
       "      <td>937</td>\n",
       "      <td>East of Eden (1955)</td>\n",
       "      <td>Drama</td>\n",
       "      <td>0.468312</td>\n",
       "    </tr>\n",
       "    <tr>\n",
       "      <th>62</th>\n",
       "      <td>6040</td>\n",
       "      <td>2867</td>\n",
       "      <td>Sullivan's Travels (1942)</td>\n",
       "      <td>Comedy</td>\n",
       "      <td>0.466110</td>\n",
       "    </tr>\n",
       "    <tr>\n",
       "      <th>63</th>\n",
       "      <td>6040</td>\n",
       "      <td>2244</td>\n",
       "      <td>Elephant Man, The (1980)</td>\n",
       "      <td>Drama</td>\n",
       "      <td>0.464787</td>\n",
       "    </tr>\n",
       "    <tr>\n",
       "      <th>64</th>\n",
       "      <td>6040</td>\n",
       "      <td>1164</td>\n",
       "      <td>Hear My Song (1991)</td>\n",
       "      <td>Comedy</td>\n",
       "      <td>0.464577</td>\n",
       "    </tr>\n",
       "    <tr>\n",
       "      <th>65</th>\n",
       "      <td>6040</td>\n",
       "      <td>3866</td>\n",
       "      <td>Phantom of the Opera, The (1943)</td>\n",
       "      <td>Drama|Thriller</td>\n",
       "      <td>0.461717</td>\n",
       "    </tr>\n",
       "    <tr>\n",
       "      <th>66</th>\n",
       "      <td>6040</td>\n",
       "      <td>2252</td>\n",
       "      <td>Pleasantville (1998)</td>\n",
       "      <td>Comedy</td>\n",
       "      <td>0.460076</td>\n",
       "    </tr>\n",
       "    <tr>\n",
       "      <th>67</th>\n",
       "      <td>6040</td>\n",
       "      <td>1078</td>\n",
       "      <td>Crying Game, The (1992)</td>\n",
       "      <td>Drama|Romance|War</td>\n",
       "      <td>0.452923</td>\n",
       "    </tr>\n",
       "    <tr>\n",
       "      <th>68</th>\n",
       "      <td>6040</td>\n",
       "      <td>1177</td>\n",
       "      <td>Up in Smoke (1978)</td>\n",
       "      <td>Comedy</td>\n",
       "      <td>0.452673</td>\n",
       "    </tr>\n",
       "    <tr>\n",
       "      <th>69</th>\n",
       "      <td>6040</td>\n",
       "      <td>1663</td>\n",
       "      <td>Midnight in the Garden of Good and Evil (1997)</td>\n",
       "      <td>Comedy|Crime|Drama|Mystery</td>\n",
       "      <td>0.450726</td>\n",
       "    </tr>\n",
       "    <tr>\n",
       "      <th>70</th>\n",
       "      <td>6040</td>\n",
       "      <td>3613</td>\n",
       "      <td>Magnum Force (1973)</td>\n",
       "      <td>Western</td>\n",
       "      <td>0.441944</td>\n",
       "    </tr>\n",
       "    <tr>\n",
       "      <th>71</th>\n",
       "      <td>6040</td>\n",
       "      <td>1017</td>\n",
       "      <td>Pete's Dragon (1977)</td>\n",
       "      <td>Adventure|Animation|Children's|Musical</td>\n",
       "      <td>0.440104</td>\n",
       "    </tr>\n",
       "    <tr>\n",
       "      <th>72</th>\n",
       "      <td>6040</td>\n",
       "      <td>2112</td>\n",
       "      <td>Marnie (1964)</td>\n",
       "      <td>Thriller</td>\n",
       "      <td>0.439763</td>\n",
       "    </tr>\n",
       "    <tr>\n",
       "      <th>73</th>\n",
       "      <td>6040</td>\n",
       "      <td>3329</td>\n",
       "      <td>Muppets Take Manhattan, The (1984)</td>\n",
       "      <td>Children's|Comedy</td>\n",
       "      <td>0.436625</td>\n",
       "    </tr>\n",
       "    <tr>\n",
       "      <th>74</th>\n",
       "      <td>6040</td>\n",
       "      <td>3363</td>\n",
       "      <td>Death Wish 3 (1985)</td>\n",
       "      <td>Action|Drama</td>\n",
       "      <td>0.434757</td>\n",
       "    </tr>\n",
       "    <tr>\n",
       "      <th>75</th>\n",
       "      <td>6040</td>\n",
       "      <td>1010</td>\n",
       "      <td>Winnie the Pooh and the Blustery Day (1968)</td>\n",
       "      <td>Animation|Children's</td>\n",
       "      <td>0.428908</td>\n",
       "    </tr>\n",
       "    <tr>\n",
       "      <th>76</th>\n",
       "      <td>6040</td>\n",
       "      <td>2232</td>\n",
       "      <td>History of the World: Part I (1981)</td>\n",
       "      <td>Comedy</td>\n",
       "      <td>0.419370</td>\n",
       "    </tr>\n",
       "    <tr>\n",
       "      <th>77</th>\n",
       "      <td>6040</td>\n",
       "      <td>1341</td>\n",
       "      <td>Garden of Finzi-Contini, The (Giardino dei Fin...</td>\n",
       "      <td>Drama</td>\n",
       "      <td>0.419126</td>\n",
       "    </tr>\n",
       "    <tr>\n",
       "      <th>78</th>\n",
       "      <td>6040</td>\n",
       "      <td>3328</td>\n",
       "      <td>Great Muppet Caper, The (1981)</td>\n",
       "      <td>Children's|Comedy</td>\n",
       "      <td>0.413461</td>\n",
       "    </tr>\n",
       "    <tr>\n",
       "      <th>79</th>\n",
       "      <td>6040</td>\n",
       "      <td>983</td>\n",
       "      <td>Last Man Standing (1996)</td>\n",
       "      <td>Action|Drama|Western</td>\n",
       "      <td>0.410104</td>\n",
       "    </tr>\n",
       "    <tr>\n",
       "      <th>80</th>\n",
       "      <td>6040</td>\n",
       "      <td>3437</td>\n",
       "      <td>North Dallas Forty (1979)</td>\n",
       "      <td>Comedy|Drama</td>\n",
       "      <td>0.407608</td>\n",
       "    </tr>\n",
       "    <tr>\n",
       "      <th>81</th>\n",
       "      <td>6040</td>\n",
       "      <td>1647</td>\n",
       "      <td>Apostle, The (1997)</td>\n",
       "      <td>Drama</td>\n",
       "      <td>0.407093</td>\n",
       "    </tr>\n",
       "    <tr>\n",
       "      <th>82</th>\n",
       "      <td>6040</td>\n",
       "      <td>2309</td>\n",
       "      <td>Police Academy (1984)</td>\n",
       "      <td>Comedy</td>\n",
       "      <td>0.405009</td>\n",
       "    </tr>\n",
       "    <tr>\n",
       "      <th>83</th>\n",
       "      <td>6040</td>\n",
       "      <td>3614</td>\n",
       "      <td>Blood Simple (1984)</td>\n",
       "      <td>Drama|Film-Noir</td>\n",
       "      <td>0.401190</td>\n",
       "    </tr>\n",
       "    <tr>\n",
       "      <th>84</th>\n",
       "      <td>6040</td>\n",
       "      <td>1019</td>\n",
       "      <td>Alice in Wonderland (1951)</td>\n",
       "      <td>Animation|Children's|Musical</td>\n",
       "      <td>0.400269</td>\n",
       "    </tr>\n",
       "    <tr>\n",
       "      <th>85</th>\n",
       "      <td>6040</td>\n",
       "      <td>705</td>\n",
       "      <td>Dead Man (1995)</td>\n",
       "      <td>Western</td>\n",
       "      <td>0.397040</td>\n",
       "    </tr>\n",
       "    <tr>\n",
       "      <th>86</th>\n",
       "      <td>6040</td>\n",
       "      <td>206</td>\n",
       "      <td>Waterworld (1995)</td>\n",
       "      <td>Action|Adventure</td>\n",
       "      <td>0.396055</td>\n",
       "    </tr>\n",
       "    <tr>\n",
       "      <th>87</th>\n",
       "      <td>6040</td>\n",
       "      <td>269</td>\n",
       "      <td>Madness of King George, The (1994)</td>\n",
       "      <td>Drama</td>\n",
       "      <td>0.395189</td>\n",
       "    </tr>\n",
       "    <tr>\n",
       "      <th>88</th>\n",
       "      <td>6040</td>\n",
       "      <td>219</td>\n",
       "      <td>Circle of Friends (1995)</td>\n",
       "      <td>Drama|Romance</td>\n",
       "      <td>0.394404</td>\n",
       "    </tr>\n",
       "    <tr>\n",
       "      <th>89</th>\n",
       "      <td>6040</td>\n",
       "      <td>1259</td>\n",
       "      <td>Night on Earth (1991)</td>\n",
       "      <td>Comedy|Drama</td>\n",
       "      <td>0.389534</td>\n",
       "    </tr>\n",
       "    <tr>\n",
       "      <th>90</th>\n",
       "      <td>6040</td>\n",
       "      <td>139</td>\n",
       "      <td>Birdcage, The (1996)</td>\n",
       "      <td>Comedy</td>\n",
       "      <td>0.386610</td>\n",
       "    </tr>\n",
       "    <tr>\n",
       "      <th>91</th>\n",
       "      <td>6040</td>\n",
       "      <td>2133</td>\n",
       "      <td>Lifeboat (1944)</td>\n",
       "      <td>Drama|Thriller|War</td>\n",
       "      <td>0.380663</td>\n",
       "    </tr>\n",
       "    <tr>\n",
       "      <th>92</th>\n",
       "      <td>6040</td>\n",
       "      <td>3436</td>\n",
       "      <td>No Way Out (1987)</td>\n",
       "      <td>Thriller</td>\n",
       "      <td>0.380316</td>\n",
       "    </tr>\n",
       "    <tr>\n",
       "      <th>93</th>\n",
       "      <td>6040</td>\n",
       "      <td>3288</td>\n",
       "      <td>East-West (Est-ouest) (1999)</td>\n",
       "      <td>Drama|Romance</td>\n",
       "      <td>0.374620</td>\n",
       "    </tr>\n",
       "    <tr>\n",
       "      <th>94</th>\n",
       "      <td>6040</td>\n",
       "      <td>1115</td>\n",
       "      <td>Jean de Florette (1986)</td>\n",
       "      <td>Drama</td>\n",
       "      <td>0.359046</td>\n",
       "    </tr>\n",
       "    <tr>\n",
       "      <th>95</th>\n",
       "      <td>6040</td>\n",
       "      <td>788</td>\n",
       "      <td>Daylight (1996)</td>\n",
       "      <td>Action|Adventure|Thriller</td>\n",
       "      <td>0.356174</td>\n",
       "    </tr>\n",
       "    <tr>\n",
       "      <th>96</th>\n",
       "      <td>6040</td>\n",
       "      <td>2651</td>\n",
       "      <td>Inspector Gadget (1999)</td>\n",
       "      <td>Action|Adventure|Children's|Comedy</td>\n",
       "      <td>0.355609</td>\n",
       "    </tr>\n",
       "    <tr>\n",
       "      <th>97</th>\n",
       "      <td>6040</td>\n",
       "      <td>3299</td>\n",
       "      <td>Big Country, The (1958)</td>\n",
       "      <td>Romance|Western</td>\n",
       "      <td>0.350354</td>\n",
       "    </tr>\n",
       "    <tr>\n",
       "      <th>98</th>\n",
       "      <td>6040</td>\n",
       "      <td>961</td>\n",
       "      <td>Meet John Doe (1941)</td>\n",
       "      <td>Drama</td>\n",
       "      <td>0.345661</td>\n",
       "    </tr>\n",
       "    <tr>\n",
       "      <th>99</th>\n",
       "      <td>6040</td>\n",
       "      <td>450</td>\n",
       "      <td>Firm, The (1993)</td>\n",
       "      <td>Drama|Thriller</td>\n",
       "      <td>0.338205</td>\n",
       "    </tr>\n",
       "    <tr>\n",
       "      <th>100</th>\n",
       "      <td>6040</td>\n",
       "      <td>3428</td>\n",
       "      <td>Max Dugan Returns (1983)</td>\n",
       "      <td>Comedy</td>\n",
       "      <td>0.337368</td>\n",
       "    </tr>\n",
       "  </tbody>\n",
       "</table>\n",
       "</div>"
      ],
      "text/plain": [
       "     userId  movieId                                               name  \\\n",
       "0      6040     2061                               Atlantic City (1980)   \n",
       "1      6040     1227                               Graduate, The (1967)   \n",
       "2      6040     3476                                     Cabaret (1972)   \n",
       "3      6040     2401                            Crocodile Dundee (1986)   \n",
       "4      6040     1211                                  Annie Hall (1977)   \n",
       "5      6040     1067                             Great Race, The (1965)   \n",
       "6      6040     1202                         Blues Brothers, The (1980)   \n",
       "7      6040     1243                            Deer Hunter, The (1978)   \n",
       "8      6040     1081                  E.T. the Extra-Terrestrial (1982)   \n",
       "9      6040     1220                             Terminator, The (1984)   \n",
       "10     6040     3566                       Spy Who Loved Me, The (1977)   \n",
       "11     6040     2018                                   Peter Pan (1953)   \n",
       "12     6040     3585                       Guns of Navarone, The (1961)   \n",
       "13     6040     3127                                   Stalag 17 (1953)   \n",
       "14     6040     3764                                Bronco Billy (1980)   \n",
       "15     6040     3290                               Breaking Away (1979)   \n",
       "16     6040     1263                                   High Noon (1952)   \n",
       "17     6040      591                        Beauty and the Beast (1991)   \n",
       "18     6040     2075                             Sixteen Candles (1984)   \n",
       "19     6040     3205                         Single White Female (1992)   \n",
       "20     6040      891                                     Vertigo (1958)   \n",
       "21     6040     3439                     Outlaw Josey Wales, The (1976)   \n",
       "22     6040     1884                      French Connection, The (1971)   \n",
       "23     6040     2280                                   Mona Lisa (1986)   \n",
       "24     6040     3438                             Odd Couple, The (1968)   \n",
       "25     6040     1393                                       Evita (1996)   \n",
       "26     6040     2921                             Licence to Kill (1989)   \n",
       "27     6040     1264                              Big Sleep, The (1946)   \n",
       "28     6040     2341                                   Rocky III (1982)   \n",
       "29     6040     1203                     Godfather: Part II, The (1974)   \n",
       "30     6040      464  Englishman Who Went Up a Hill, But Came Down a...   \n",
       "31     6040     2588              Rocky Horror Picture Show, The (1975)   \n",
       "32     6040     2125                           Untouchables, The (1987)   \n",
       "33     6040     2901                                Fitzcarraldo (1982)   \n",
       "34     6040     2808                                       Tommy (1975)   \n",
       "35     6040     3771                                 Air America (1990)   \n",
       "36     6040     1212                            Right Stuff, The (1983)   \n",
       "37     6040     2275                               Runaway Train (1985)   \n",
       "38     6040     3401                                 Dersu Uzala (1974)   \n",
       "39     6040     2134                           Shadow of a Doubt (1943)   \n",
       "40     6040     2797                      Buddy Holly Story, The (1978)   \n",
       "41     6040     1858              All Quiet on the Western Front (1930)   \n",
       "42     6040     1336                                       Shine (1996)   \n",
       "43     6040     3745                              Love and Death (1975)   \n",
       "44     6040     1374                                     Tin Men (1987)   \n",
       "45     6040     1899                         Breakfast Club, The (1985)   \n",
       "46     6040     1171                           Strictly Ballroom (1992)   \n",
       "47     6040     2877                                       Help! (1965)   \n",
       "48     6040     1656                           Good Will Hunting (1997)   \n",
       "49     6040     3480                              Guys and Dolls (1955)   \n",
       "50     6040     1869                           Lost Weekend, The (1945)   \n",
       "51     6040     2332                                  Pale Rider (1985)   \n",
       "52     6040      582                                  Home Alone (1990)   \n",
       "53     6040     2802                                 Deliverance (1972)   \n",
       "54     6040     2728                                         Big (1988)   \n",
       "55     6040     1878                             West Side Story (1961)   \n",
       "56     6040     2064                   Adventures in Babysitting (1987)   \n",
       "57     6040      523                            Schindler's List (1993)   \n",
       "58     6040     3638                              Nine 1/2 Weeks (1986)   \n",
       "59     6040     1972                                   Condorman (1981)   \n",
       "60     6040     2287                                   Celebrity (1998)   \n",
       "61     6040      937                                East of Eden (1955)   \n",
       "62     6040     2867                          Sullivan's Travels (1942)   \n",
       "63     6040     2244                           Elephant Man, The (1980)   \n",
       "64     6040     1164                                Hear My Song (1991)   \n",
       "65     6040     3866                   Phantom of the Opera, The (1943)   \n",
       "66     6040     2252                               Pleasantville (1998)   \n",
       "67     6040     1078                            Crying Game, The (1992)   \n",
       "68     6040     1177                                 Up in Smoke (1978)   \n",
       "69     6040     1663     Midnight in the Garden of Good and Evil (1997)   \n",
       "70     6040     3613                                Magnum Force (1973)   \n",
       "71     6040     1017                               Pete's Dragon (1977)   \n",
       "72     6040     2112                                      Marnie (1964)   \n",
       "73     6040     3329                 Muppets Take Manhattan, The (1984)   \n",
       "74     6040     3363                                Death Wish 3 (1985)   \n",
       "75     6040     1010        Winnie the Pooh and the Blustery Day (1968)   \n",
       "76     6040     2232                History of the World: Part I (1981)   \n",
       "77     6040     1341  Garden of Finzi-Contini, The (Giardino dei Fin...   \n",
       "78     6040     3328                     Great Muppet Caper, The (1981)   \n",
       "79     6040      983                           Last Man Standing (1996)   \n",
       "80     6040     3437                          North Dallas Forty (1979)   \n",
       "81     6040     1647                                Apostle, The (1997)   \n",
       "82     6040     2309                              Police Academy (1984)   \n",
       "83     6040     3614                                Blood Simple (1984)   \n",
       "84     6040     1019                         Alice in Wonderland (1951)   \n",
       "85     6040      705                                    Dead Man (1995)   \n",
       "86     6040      206                                  Waterworld (1995)   \n",
       "87     6040      269                 Madness of King George, The (1994)   \n",
       "88     6040      219                           Circle of Friends (1995)   \n",
       "89     6040     1259                              Night on Earth (1991)   \n",
       "90     6040      139                               Birdcage, The (1996)   \n",
       "91     6040     2133                                    Lifeboat (1944)   \n",
       "92     6040     3436                                  No Way Out (1987)   \n",
       "93     6040     3288                       East-West (Est-ouest) (1999)   \n",
       "94     6040     1115                            Jean de Florette (1986)   \n",
       "95     6040      788                                    Daylight (1996)   \n",
       "96     6040     2651                            Inspector Gadget (1999)   \n",
       "97     6040     3299                            Big Country, The (1958)   \n",
       "98     6040      961                               Meet John Doe (1941)   \n",
       "99     6040      450                                   Firm, The (1993)   \n",
       "100    6040     3428                           Max Dugan Returns (1983)   \n",
       "\n",
       "                                      genre      pred  \n",
       "0                       Crime|Drama|Romance  0.925224  \n",
       "1                             Drama|Romance  0.865895  \n",
       "2                               Musical|War  0.814038  \n",
       "3                          Adventure|Comedy  0.798640  \n",
       "4                            Comedy|Romance  0.786102  \n",
       "5                            Comedy|Musical  0.783455  \n",
       "6                     Action|Comedy|Musical  0.783216  \n",
       "7                                 Drama|War  0.773092  \n",
       "8           Children's|Drama|Fantasy|Sci-Fi  0.764825  \n",
       "9                    Action|Sci-Fi|Thriller  0.764572  \n",
       "10                                   Action  0.752492  \n",
       "11     Animation|Children's|Fantasy|Musical  0.751629  \n",
       "12                         Action|Drama|War  0.749633  \n",
       "13                                Drama|War  0.726205  \n",
       "14                  Adventure|Drama|Romance  0.717771  \n",
       "15                                    Drama  0.714263  \n",
       "16                                  Western  0.708468  \n",
       "17             Animation|Children's|Musical  0.708107  \n",
       "18                                   Comedy  0.706203  \n",
       "19                                   Action  0.706086  \n",
       "20                         Mystery|Thriller  0.704535  \n",
       "21                                  Western  0.703695  \n",
       "22              Action|Crime|Drama|Thriller  0.702903  \n",
       "23                          Comedy|Thriller  0.685548  \n",
       "24                                   Comedy  0.683871  \n",
       "25                            Drama|Musical  0.668842  \n",
       "26                                   Action  0.662595  \n",
       "27                        Film-Noir|Mystery  0.659214  \n",
       "28                             Action|Drama  0.648445  \n",
       "29                       Action|Crime|Drama  0.635945  \n",
       "30                           Comedy|Romance  0.614462  \n",
       "31             Comedy|Horror|Musical|Sci-Fi  0.612256  \n",
       "32                       Action|Crime|Drama  0.604076  \n",
       "33                          Adventure|Drama  0.584073  \n",
       "34                            Drama|Musical  0.583987  \n",
       "35                            Action|Comedy  0.580954  \n",
       "36                                    Drama  0.574783  \n",
       "37          Action|Adventure|Drama|Thriller  0.573620  \n",
       "38                          Adventure|Drama  0.572833  \n",
       "39                       Film-Noir|Thriller  0.572184  \n",
       "40                                    Drama  0.564211  \n",
       "41                                      War  0.558985  \n",
       "42                            Drama|Romance  0.556608  \n",
       "43                                   Comedy  0.553161  \n",
       "44                             Comedy|Drama  0.542521  \n",
       "45                             Comedy|Drama  0.536911  \n",
       "46                           Comedy|Romance  0.535314  \n",
       "47                           Comedy|Musical  0.534034  \n",
       "48                                    Drama  0.520856  \n",
       "49                                  Musical  0.514411  \n",
       "50                                    Drama  0.512501  \n",
       "51                                  Western  0.506043  \n",
       "52                        Children's|Comedy  0.503926  \n",
       "53                       Adventure|Thriller  0.495165  \n",
       "54                           Comedy|Fantasy  0.492800  \n",
       "55                          Musical|Romance  0.488903  \n",
       "56                         Adventure|Comedy  0.485681  \n",
       "57                                Drama|War  0.477758  \n",
       "58                                    Drama  0.471307  \n",
       "59       Action|Adventure|Children's|Comedy  0.471183  \n",
       "60                                   Comedy  0.469690  \n",
       "61                                    Drama  0.468312  \n",
       "62                                   Comedy  0.466110  \n",
       "63                                    Drama  0.464787  \n",
       "64                                   Comedy  0.464577  \n",
       "65                           Drama|Thriller  0.461717  \n",
       "66                                   Comedy  0.460076  \n",
       "67                        Drama|Romance|War  0.452923  \n",
       "68                                   Comedy  0.452673  \n",
       "69               Comedy|Crime|Drama|Mystery  0.450726  \n",
       "70                                  Western  0.441944  \n",
       "71   Adventure|Animation|Children's|Musical  0.440104  \n",
       "72                                 Thriller  0.439763  \n",
       "73                        Children's|Comedy  0.436625  \n",
       "74                             Action|Drama  0.434757  \n",
       "75                     Animation|Children's  0.428908  \n",
       "76                                   Comedy  0.419370  \n",
       "77                                    Drama  0.419126  \n",
       "78                        Children's|Comedy  0.413461  \n",
       "79                     Action|Drama|Western  0.410104  \n",
       "80                             Comedy|Drama  0.407608  \n",
       "81                                    Drama  0.407093  \n",
       "82                                   Comedy  0.405009  \n",
       "83                          Drama|Film-Noir  0.401190  \n",
       "84             Animation|Children's|Musical  0.400269  \n",
       "85                                  Western  0.397040  \n",
       "86                         Action|Adventure  0.396055  \n",
       "87                                    Drama  0.395189  \n",
       "88                            Drama|Romance  0.394404  \n",
       "89                             Comedy|Drama  0.389534  \n",
       "90                                   Comedy  0.386610  \n",
       "91                       Drama|Thriller|War  0.380663  \n",
       "92                                 Thriller  0.380316  \n",
       "93                            Drama|Romance  0.374620  \n",
       "94                                    Drama  0.359046  \n",
       "95                Action|Adventure|Thriller  0.356174  \n",
       "96       Action|Adventure|Children's|Comedy  0.355609  \n",
       "97                          Romance|Western  0.350354  \n",
       "98                                    Drama  0.345661  \n",
       "99                           Drama|Thriller  0.338205  \n",
       "100                                  Comedy  0.337368  "
      ]
     },
     "metadata": {},
     "output_type": "display_data"
    }
   ],
   "source": [
    "df_test_user = add_not_watched_movies(new_user_id, df_test, df_train, df_movies)\n",
    "test_user_loader = DataLoader(\n",
    "    TensorDataset(\n",
    "        torch.tensor(df_test_user[\"userId\"]), torch.tensor(df_test_user[\"movieId\"])\n",
    "    ),\n",
    "    batch_size=4096,\n",
    "    shuffle=False,\n",
    ")\n",
    "df_test_user[\"pred\"] = predict(neumf, test_user_loader, verbose=False).numpy()\n",
    "display(create_test_user_display_df(df_test_user, df_movies, \"pred\"))"
   ]
  }
 ],
 "metadata": {
  "kernelspec": {
   "display_name": "Python 3 (ipykernel)",
   "language": "python",
   "name": "python3"
  },
  "language_info": {
   "codemirror_mode": {
    "name": "ipython",
    "version": 3
   },
   "file_extension": ".py",
   "mimetype": "text/x-python",
   "name": "python",
   "nbconvert_exporter": "python",
   "pygments_lexer": "ipython3",
   "version": "3.12.2"
  }
 },
 "nbformat": 4,
 "nbformat_minor": 5
}
