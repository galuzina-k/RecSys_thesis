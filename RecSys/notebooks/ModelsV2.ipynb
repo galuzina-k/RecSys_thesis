{
 "cells": [
  {
   "cell_type": "code",
   "execution_count": 1,
   "id": "03d08ba1",
   "metadata": {},
   "outputs": [],
   "source": [
    "import pandas as pd\n",
    "import numpy as np\n",
    "from sklearn.preprocessing import LabelEncoder\n",
    "\n",
    "from scipy.sparse import csr_matrix\n",
    "from scipy.sparse.linalg import svds\n",
    "\n",
    "from typing import Union\n",
    "from tqdm.notebook import tqdm\n",
    "\n",
    "import torch.nn as nn\n",
    "from torch.utils.data import Dataset, DataLoader\n",
    "import torch"
   ]
  },
  {
   "cell_type": "code",
   "execution_count": 2,
   "id": "96fa6933",
   "metadata": {},
   "outputs": [
    {
     "name": "stdout",
     "output_type": "stream",
     "text": [
      "README      movies.csv  ratings.csv users.csv\n"
     ]
    }
   ],
   "source": [
    "!ls ../data/ml-1m"
   ]
  },
  {
   "cell_type": "code",
   "execution_count": 3,
   "id": "cc52dc8c-20e4-40d2-9340-540ac9d059a3",
   "metadata": {},
   "outputs": [
    {
     "data": {
      "text/plain": [
       "'/Users/kristina/Desktop/University/COURSE_WORK/Project/recsysvenv/bin/python3.10'"
      ]
     },
     "execution_count": 3,
     "metadata": {},
     "output_type": "execute_result"
    }
   ],
   "source": [
    "import sys\n",
    "\n",
    "sys.executable"
   ]
  },
  {
   "cell_type": "markdown",
   "id": "2a032ae8",
   "metadata": {},
   "source": [
    "## Constants"
   ]
  },
  {
   "cell_type": "code",
   "execution_count": 4,
   "id": "8de185e7",
   "metadata": {},
   "outputs": [],
   "source": [
    "DATA_FOLDER = \"../data/ml-1m/\""
   ]
  },
  {
   "cell_type": "markdown",
   "id": "c0722360",
   "metadata": {},
   "source": [
    "## Data"
   ]
  },
  {
   "cell_type": "code",
   "execution_count": 6,
   "id": "db9e06df",
   "metadata": {},
   "outputs": [],
   "source": [
    "df_movies = pd.read_csv(\n",
    "    DATA_FOLDER + \"movies.csv\",\n",
    "    encoding=\"iso-8859-1\",\n",
    "    sep=\";\",\n",
    "    names=[\"movieId\", \"name\", \"genre\"],\n",
    ")\n",
    "df_ratings = pd.read_csv(\n",
    "    DATA_FOLDER + \"ratings.csv\",\n",
    "    encoding=\"iso-8859-1\",\n",
    "    sep=\";\",\n",
    "    names=[\"userId\", \"movieId\", \"rating\", \"timestamp\"],\n",
    ")\n",
    "df_users = pd.read_csv(\n",
    "    DATA_FOLDER + \"users.csv\",\n",
    "    encoding=\"iso-8859-1\",\n",
    "    sep=\";\",\n",
    "    names=[\"userId\", \"gender\", \"age\", \"occupation\", \"zip-code\"],\n",
    ")"
   ]
  },
  {
   "cell_type": "code",
   "execution_count": 7,
   "id": "2f5753fb",
   "metadata": {},
   "outputs": [],
   "source": [
    "# throw out movies that were not graded at all\n",
    "df_movies = df_movies[df_movies.movieId.isin(df_ratings[\"movieId\"].unique())]"
   ]
  },
  {
   "cell_type": "code",
   "execution_count": 8,
   "id": "e8af6f42",
   "metadata": {},
   "outputs": [],
   "source": [
    "## Encode usedId, movieId\n",
    "user_encoder = LabelEncoder()\n",
    "movie_encoder = LabelEncoder()\n",
    "\n",
    "df_movies[\"movieId\"] = movie_encoder.fit_transform(df_movies[\"movieId\"])\n",
    "df_users[\"userId\"] = user_encoder.fit_transform(df_users[\"userId\"])\n",
    "\n",
    "df_ratings[\"movieId\"] = movie_encoder.transform(df_ratings[\"movieId\"])\n",
    "df_ratings[\"userId\"] = user_encoder.transform(df_ratings[\"userId\"])"
   ]
  },
  {
   "cell_type": "markdown",
   "id": "4e5ba69e",
   "metadata": {},
   "source": [
    "#### Define test users for toy experiments"
   ]
  },
  {
   "cell_type": "code",
   "execution_count": 8,
   "id": "6334dae6",
   "metadata": {},
   "outputs": [],
   "source": [
    "test_user_1 = (\n",
    "    df_movies.loc[df_movies.genre.str.contains(\"Comedy\")]\n",
    "    .sample(60, random_state=777)\n",
    "    .movieId.values\n",
    ")\n",
    "\n",
    "test_user_2 = (\n",
    "    df_movies.loc[df_movies.genre.str.contains(\"Horror\")]\n",
    "    .sample(60, random_state=777)\n",
    "    .movieId.values\n",
    ")\n",
    "\n",
    "test_user_3 = (\n",
    "    df_movies.loc[df_movies.genre.str.contains(\"Sci-Fi\")]\n",
    "    .sample(60, random_state=777)\n",
    "    .movieId.values\n",
    ")\n",
    "\n",
    "\n",
    "# test_user_1 = (df_movies\n",
    "#                .loc[df_movies.genre == \"Comedy\"]\n",
    "#                .sample(20, random_state=777).movieId.values)\n",
    "\n",
    "# test_user_2 = (df_movies\n",
    "#                .loc[df_movies.genre == \"Horror\"]\n",
    "#                .sample(20, random_state=777).movieId.values)\n",
    "\n",
    "# test_user_3 = (df_movies\n",
    "#                .loc[df_movies.genre == \"Sci-Fi\"]\n",
    "#                .sample(20, random_state=777).movieId.values)\n",
    "\n",
    "\n",
    "test_user_1 = pd.DataFrame(test_user_1, columns=[\"movieId\"]).assign(rating=5)\n",
    "test_user_2 = pd.DataFrame(test_user_2, columns=[\"movieId\"]).assign(rating=5)\n",
    "test_user_3 = pd.DataFrame(test_user_3, columns=[\"movieId\"]).assign(rating=5)"
   ]
  },
  {
   "cell_type": "code",
   "execution_count": 9,
   "id": "83136dbd",
   "metadata": {},
   "outputs": [
    {
     "data": {
      "text/html": [
       "<div>\n",
       "<style scoped>\n",
       "    .dataframe tbody tr th:only-of-type {\n",
       "        vertical-align: middle;\n",
       "    }\n",
       "\n",
       "    .dataframe tbody tr th {\n",
       "        vertical-align: top;\n",
       "    }\n",
       "\n",
       "    .dataframe thead th {\n",
       "        text-align: right;\n",
       "    }\n",
       "</style>\n",
       "<table border=\"1\" class=\"dataframe\">\n",
       "  <thead>\n",
       "    <tr style=\"text-align: right;\">\n",
       "      <th></th>\n",
       "      <th>movieId</th>\n",
       "      <th>rating</th>\n",
       "      <th>name</th>\n",
       "      <th>genre</th>\n",
       "    </tr>\n",
       "  </thead>\n",
       "  <tbody>\n",
       "    <tr>\n",
       "      <th>0</th>\n",
       "      <td>1561</td>\n",
       "      <td>5</td>\n",
       "      <td>Flubber (1997)</td>\n",
       "      <td>Children's|Comedy|Fantasy</td>\n",
       "    </tr>\n",
       "    <tr>\n",
       "      <th>1</th>\n",
       "      <td>1351</td>\n",
       "      <td>5</td>\n",
       "      <td>That Darn Cat! (1997)</td>\n",
       "      <td>Children's|Comedy|Mystery</td>\n",
       "    </tr>\n",
       "    <tr>\n",
       "      <th>2</th>\n",
       "      <td>1659</td>\n",
       "      <td>5</td>\n",
       "      <td>Odd Couple II, The (1998)</td>\n",
       "      <td>Comedy</td>\n",
       "    </tr>\n",
       "    <tr>\n",
       "      <th>3</th>\n",
       "      <td>210</td>\n",
       "      <td>5</td>\n",
       "      <td>Billy Madison (1995)</td>\n",
       "      <td>Comedy</td>\n",
       "    </tr>\n",
       "    <tr>\n",
       "      <th>4</th>\n",
       "      <td>3535</td>\n",
       "      <td>5</td>\n",
       "      <td>On Our Merry Way (1948)</td>\n",
       "      <td>Comedy|Drama</td>\n",
       "    </tr>\n",
       "  </tbody>\n",
       "</table>\n",
       "</div>"
      ],
      "text/plain": [
       "   movieId  rating                       name                      genre\n",
       "0     1561       5             Flubber (1997)  Children's|Comedy|Fantasy\n",
       "1     1351       5      That Darn Cat! (1997)  Children's|Comedy|Mystery\n",
       "2     1659       5  Odd Couple II, The (1998)                     Comedy\n",
       "3      210       5       Billy Madison (1995)                     Comedy\n",
       "4     3535       5    On Our Merry Way (1948)               Comedy|Drama"
      ]
     },
     "metadata": {},
     "output_type": "display_data"
    },
    {
     "data": {
      "text/html": [
       "<div>\n",
       "<style scoped>\n",
       "    .dataframe tbody tr th:only-of-type {\n",
       "        vertical-align: middle;\n",
       "    }\n",
       "\n",
       "    .dataframe tbody tr th {\n",
       "        vertical-align: top;\n",
       "    }\n",
       "\n",
       "    .dataframe thead th {\n",
       "        text-align: right;\n",
       "    }\n",
       "</style>\n",
       "<table border=\"1\" class=\"dataframe\">\n",
       "  <thead>\n",
       "    <tr style=\"text-align: right;\">\n",
       "      <th></th>\n",
       "      <th>movieId</th>\n",
       "      <th>rating</th>\n",
       "      <th>name</th>\n",
       "      <th>genre</th>\n",
       "    </tr>\n",
       "  </thead>\n",
       "  <tbody>\n",
       "    <tr>\n",
       "      <th>0</th>\n",
       "      <td>246</td>\n",
       "      <td>5</td>\n",
       "      <td>Interview with the Vampire (1994)</td>\n",
       "      <td>Drama|Horror</td>\n",
       "    </tr>\n",
       "    <tr>\n",
       "      <th>1</th>\n",
       "      <td>3326</td>\n",
       "      <td>5</td>\n",
       "      <td>Crow: Salvation, The (2000)</td>\n",
       "      <td>Action|Horror</td>\n",
       "    </tr>\n",
       "    <tr>\n",
       "      <th>2</th>\n",
       "      <td>1940</td>\n",
       "      <td>5</td>\n",
       "      <td>Cujo (1983)</td>\n",
       "      <td>Horror|Thriller</td>\n",
       "    </tr>\n",
       "    <tr>\n",
       "      <th>3</th>\n",
       "      <td>1288</td>\n",
       "      <td>5</td>\n",
       "      <td>Jaws (1975)</td>\n",
       "      <td>Action|Horror</td>\n",
       "    </tr>\n",
       "    <tr>\n",
       "      <th>4</th>\n",
       "      <td>2196</td>\n",
       "      <td>5</td>\n",
       "      <td>Psycho (1998)</td>\n",
       "      <td>Crime|Horror|Thriller</td>\n",
       "    </tr>\n",
       "  </tbody>\n",
       "</table>\n",
       "</div>"
      ],
      "text/plain": [
       "   movieId  rating                               name                  genre\n",
       "0      246       5  Interview with the Vampire (1994)           Drama|Horror\n",
       "1     3326       5        Crow: Salvation, The (2000)          Action|Horror\n",
       "2     1940       5                        Cujo (1983)        Horror|Thriller\n",
       "3     1288       5                        Jaws (1975)          Action|Horror\n",
       "4     2196       5                      Psycho (1998)  Crime|Horror|Thriller"
      ]
     },
     "metadata": {},
     "output_type": "display_data"
    },
    {
     "data": {
      "text/html": [
       "<div>\n",
       "<style scoped>\n",
       "    .dataframe tbody tr th:only-of-type {\n",
       "        vertical-align: middle;\n",
       "    }\n",
       "\n",
       "    .dataframe tbody tr th {\n",
       "        vertical-align: top;\n",
       "    }\n",
       "\n",
       "    .dataframe thead th {\n",
       "        text-align: right;\n",
       "    }\n",
       "</style>\n",
       "<table border=\"1\" class=\"dataframe\">\n",
       "  <thead>\n",
       "    <tr style=\"text-align: right;\">\n",
       "      <th></th>\n",
       "      <th>movieId</th>\n",
       "      <th>rating</th>\n",
       "      <th>name</th>\n",
       "      <th>genre</th>\n",
       "    </tr>\n",
       "  </thead>\n",
       "  <tbody>\n",
       "    <tr>\n",
       "      <th>0</th>\n",
       "      <td>2517</td>\n",
       "      <td>5</td>\n",
       "      <td>Deep Blue Sea (1999)</td>\n",
       "      <td>Action|Sci-Fi|Thriller</td>\n",
       "    </tr>\n",
       "    <tr>\n",
       "      <th>1</th>\n",
       "      <td>3045</td>\n",
       "      <td>5</td>\n",
       "      <td>Forever Young (1992)</td>\n",
       "      <td>Adventure|Romance|Sci-Fi</td>\n",
       "    </tr>\n",
       "    <tr>\n",
       "      <th>2</th>\n",
       "      <td>2263</td>\n",
       "      <td>5</td>\n",
       "      <td>Fly II, The (1989)</td>\n",
       "      <td>Horror|Sci-Fi</td>\n",
       "    </tr>\n",
       "    <tr>\n",
       "      <th>3</th>\n",
       "      <td>490</td>\n",
       "      <td>5</td>\n",
       "      <td>No Escape (1994)</td>\n",
       "      <td>Action|Sci-Fi</td>\n",
       "    </tr>\n",
       "    <tr>\n",
       "      <th>4</th>\n",
       "      <td>3503</td>\n",
       "      <td>5</td>\n",
       "      <td>Titan A.E. (2000)</td>\n",
       "      <td>Adventure|Animation|Sci-Fi</td>\n",
       "    </tr>\n",
       "  </tbody>\n",
       "</table>\n",
       "</div>"
      ],
      "text/plain": [
       "   movieId  rating                  name                       genre\n",
       "0     2517       5  Deep Blue Sea (1999)      Action|Sci-Fi|Thriller\n",
       "1     3045       5  Forever Young (1992)    Adventure|Romance|Sci-Fi\n",
       "2     2263       5    Fly II, The (1989)               Horror|Sci-Fi\n",
       "3      490       5      No Escape (1994)               Action|Sci-Fi\n",
       "4     3503       5     Titan A.E. (2000)  Adventure|Animation|Sci-Fi"
      ]
     },
     "metadata": {},
     "output_type": "display_data"
    }
   ],
   "source": [
    "display(test_user_1.sample(5).merge(df_movies, on=\"movieId\"))\n",
    "display(test_user_2.sample(5).merge(df_movies, on=\"movieId\"))\n",
    "display(test_user_3.sample(5).merge(df_movies, on=\"movieId\"))"
   ]
  },
  {
   "cell_type": "markdown",
   "id": "0c4245c9",
   "metadata": {},
   "source": [
    "## Models"
   ]
  },
  {
   "cell_type": "markdown",
   "id": "758ade06",
   "metadata": {},
   "source": [
    "### SVD"
   ]
  },
  {
   "cell_type": "markdown",
   "id": "f9f36a9c",
   "metadata": {},
   "source": [
    "Нужно убрать из рекоммендаций фильмы, которые он уже смотрел"
   ]
  },
  {
   "cell_type": "code",
   "execution_count": 10,
   "id": "1ed7130b",
   "metadata": {},
   "outputs": [],
   "source": [
    "class SVD:\n",
    "    def __init__(self, random_seed: int = 777):\n",
    "        self.random_seed = random_seed\n",
    "\n",
    "    def fit(self, df: pd.DataFrame, k: int = 50):\n",
    "        \"\"\"\n",
    "        * df: DataFrame with ratings\n",
    "        * k: number of latent features\n",
    "        \"\"\"\n",
    "        self.max_movieId = df.movieId.values.max()\n",
    "        data_matrix = csr_matrix(\n",
    "            (df.rating.values.astype(\"f8\"), (df.userId.values, df.movieId.values))\n",
    "        )\n",
    "        _, _, self.Vt = svds(\n",
    "            data_matrix,\n",
    "            k=k,\n",
    "            return_singular_vectors=\"vh\",\n",
    "            random_state=self.random_seed,\n",
    "        )\n",
    "\n",
    "    def predict(self, df: pd.DataFrame, k_best: int = 100) -> pd.DataFrame:\n",
    "        \"\"\"\n",
    "        * k_best: return k best reccomendations for user. Default is None which returns all the ratings.\n",
    "        ___\n",
    "        Returns: DataFrame of ratings sorted in descending order.\n",
    "\n",
    "        \"\"\"\n",
    "        a0 = (\n",
    "            pd.DataFrame(np.arange(self.max_movieId + 1), columns=[\"movieId\"])\n",
    "            .merge(df[[\"movieId\", \"rating\"]], on=\"movieId\", how=\"left\")\n",
    "            .fillna(0)\n",
    "            .loc[:, \"rating\"]\n",
    "            .values\n",
    "        )\n",
    "        pred_ratings = self.Vt.T @ (self.Vt @ a0)\n",
    "        res_df = (\n",
    "            pd.DataFrame(np.arange(self.max_movieId + 1), columns=[\"movieId\"])\n",
    "            .assign(rating=pred_ratings)\n",
    "            .sort_values(by=\"rating\", ascending=False)\n",
    "            .reset_index(drop=True)\n",
    "        )\n",
    "\n",
    "        if k_best:\n",
    "            res_df = res_df.iloc[:k_best]\n",
    "\n",
    "        return res_df"
   ]
  },
  {
   "cell_type": "code",
   "execution_count": 11,
   "id": "b3835e31",
   "metadata": {},
   "outputs": [],
   "source": [
    "svd = SVD()\n",
    "svd.fit(df_ratings, k=50)"
   ]
  },
  {
   "cell_type": "code",
   "execution_count": 16,
   "id": "c15b8b21",
   "metadata": {},
   "outputs": [
    {
     "data": {
      "text/html": [
       "<div>\n",
       "<style scoped>\n",
       "    .dataframe tbody tr th:only-of-type {\n",
       "        vertical-align: middle;\n",
       "    }\n",
       "\n",
       "    .dataframe tbody tr th {\n",
       "        vertical-align: top;\n",
       "    }\n",
       "\n",
       "    .dataframe thead th {\n",
       "        text-align: right;\n",
       "    }\n",
       "</style>\n",
       "<table border=\"1\" class=\"dataframe\">\n",
       "  <thead>\n",
       "    <tr style=\"text-align: right;\">\n",
       "      <th></th>\n",
       "      <th>movieId</th>\n",
       "      <th>rating</th>\n",
       "      <th>name</th>\n",
       "      <th>genre</th>\n",
       "    </tr>\n",
       "  </thead>\n",
       "  <tbody>\n",
       "    <tr>\n",
       "      <th>0</th>\n",
       "      <td>2384</td>\n",
       "      <td>5</td>\n",
       "      <td>Never Been Kissed (1999)</td>\n",
       "      <td>Comedy|Romance</td>\n",
       "    </tr>\n",
       "    <tr>\n",
       "      <th>1</th>\n",
       "      <td>2542</td>\n",
       "      <td>5</td>\n",
       "      <td>Little Shop of Horrors, The (1960)</td>\n",
       "      <td>Comedy|Horror</td>\n",
       "    </tr>\n",
       "    <tr>\n",
       "      <th>2</th>\n",
       "      <td>2599</td>\n",
       "      <td>5</td>\n",
       "      <td>Christmas Story, A (1983)</td>\n",
       "      <td>Comedy|Drama</td>\n",
       "    </tr>\n",
       "    <tr>\n",
       "      <th>3</th>\n",
       "      <td>138</td>\n",
       "      <td>5</td>\n",
       "      <td>Brothers McMullen, The (1995)</td>\n",
       "      <td>Comedy</td>\n",
       "    </tr>\n",
       "    <tr>\n",
       "      <th>4</th>\n",
       "      <td>120</td>\n",
       "      <td>5</td>\n",
       "      <td>Flirting With Disaster (1996)</td>\n",
       "      <td>Comedy</td>\n",
       "    </tr>\n",
       "  </tbody>\n",
       "</table>\n",
       "</div>"
      ],
      "text/plain": [
       "   movieId  rating                                name           genre\n",
       "0     2384       5            Never Been Kissed (1999)  Comedy|Romance\n",
       "1     2542       5  Little Shop of Horrors, The (1960)   Comedy|Horror\n",
       "2     2599       5           Christmas Story, A (1983)    Comedy|Drama\n",
       "3      138       5       Brothers McMullen, The (1995)          Comedy\n",
       "4      120       5       Flirting With Disaster (1996)          Comedy"
      ]
     },
     "metadata": {},
     "output_type": "display_data"
    },
    {
     "data": {
      "text/html": [
       "<div>\n",
       "<style scoped>\n",
       "    .dataframe tbody tr th:only-of-type {\n",
       "        vertical-align: middle;\n",
       "    }\n",
       "\n",
       "    .dataframe tbody tr th {\n",
       "        vertical-align: top;\n",
       "    }\n",
       "\n",
       "    .dataframe thead th {\n",
       "        text-align: right;\n",
       "    }\n",
       "</style>\n",
       "<table border=\"1\" class=\"dataframe\">\n",
       "  <thead>\n",
       "    <tr style=\"text-align: right;\">\n",
       "      <th></th>\n",
       "      <th>movieId</th>\n",
       "      <th>rating</th>\n",
       "      <th>name</th>\n",
       "      <th>genre</th>\n",
       "    </tr>\n",
       "  </thead>\n",
       "  <tbody>\n",
       "    <tr>\n",
       "      <th>0</th>\n",
       "      <td>3351</td>\n",
       "      <td>0.675054</td>\n",
       "      <td>Mr. Mom (1983)</td>\n",
       "      <td>Comedy|Drama</td>\n",
       "    </tr>\n",
       "    <tr>\n",
       "      <th>1</th>\n",
       "      <td>2131</td>\n",
       "      <td>0.668345</td>\n",
       "      <td>Life Is Beautiful (La Vita è bella) (1997)</td>\n",
       "      <td>Comedy|Drama</td>\n",
       "    </tr>\n",
       "    <tr>\n",
       "      <th>2</th>\n",
       "      <td>2990</td>\n",
       "      <td>0.623566</td>\n",
       "      <td>Fast Times at Ridgemont High (1982)</td>\n",
       "      <td>Comedy</td>\n",
       "    </tr>\n",
       "    <tr>\n",
       "      <th>3</th>\n",
       "      <td>1963</td>\n",
       "      <td>0.616907</td>\n",
       "      <td>Sixteen Candles (1984)</td>\n",
       "      <td>Comedy</td>\n",
       "    </tr>\n",
       "    <tr>\n",
       "      <th>4</th>\n",
       "      <td>3651</td>\n",
       "      <td>0.614373</td>\n",
       "      <td>Almost Famous (2000)</td>\n",
       "      <td>Comedy|Drama</td>\n",
       "    </tr>\n",
       "  </tbody>\n",
       "</table>\n",
       "</div>"
      ],
      "text/plain": [
       "   movieId    rating                                        name         genre\n",
       "0     3351  0.675054                              Mr. Mom (1983)  Comedy|Drama\n",
       "1     2131  0.668345  Life Is Beautiful (La Vita è bella) (1997)  Comedy|Drama\n",
       "2     2990  0.623566         Fast Times at Ridgemont High (1982)        Comedy\n",
       "3     1963  0.616907                      Sixteen Candles (1984)        Comedy\n",
       "4     3651  0.614373                        Almost Famous (2000)  Comedy|Drama"
      ]
     },
     "metadata": {},
     "output_type": "display_data"
    }
   ],
   "source": [
    "display(test_user_1.sample(5).merge(df_movies, on=\"movieId\"))\n",
    "display(svd.predict(test_user_1, k_best=5).merge(df_movies, on=\"movieId\"))"
   ]
  },
  {
   "cell_type": "code",
   "execution_count": 13,
   "id": "6c95a404",
   "metadata": {},
   "outputs": [
    {
     "data": {
      "text/html": [
       "<div>\n",
       "<style scoped>\n",
       "    .dataframe tbody tr th:only-of-type {\n",
       "        vertical-align: middle;\n",
       "    }\n",
       "\n",
       "    .dataframe tbody tr th {\n",
       "        vertical-align: top;\n",
       "    }\n",
       "\n",
       "    .dataframe thead th {\n",
       "        text-align: right;\n",
       "    }\n",
       "</style>\n",
       "<table border=\"1\" class=\"dataframe\">\n",
       "  <thead>\n",
       "    <tr style=\"text-align: right;\">\n",
       "      <th></th>\n",
       "      <th>movieId</th>\n",
       "      <th>rating</th>\n",
       "      <th>name</th>\n",
       "      <th>genre</th>\n",
       "    </tr>\n",
       "  </thead>\n",
       "  <tbody>\n",
       "    <tr>\n",
       "      <th>0</th>\n",
       "      <td>1793</td>\n",
       "      <td>5</td>\n",
       "      <td>Freddy's Dead: The Final Nightmare (1991)</td>\n",
       "      <td>Horror</td>\n",
       "    </tr>\n",
       "    <tr>\n",
       "      <th>1</th>\n",
       "      <td>2511</td>\n",
       "      <td>5</td>\n",
       "      <td>Ghostbusters (1984)</td>\n",
       "      <td>Comedy|Horror</td>\n",
       "    </tr>\n",
       "    <tr>\n",
       "      <th>2</th>\n",
       "      <td>214</td>\n",
       "      <td>5</td>\n",
       "      <td>Castle Freak (1995)</td>\n",
       "      <td>Horror</td>\n",
       "    </tr>\n",
       "    <tr>\n",
       "      <th>3</th>\n",
       "      <td>3588</td>\n",
       "      <td>5</td>\n",
       "      <td>Brain That Wouldn't Die, The (1962)</td>\n",
       "      <td>Horror|Sci-Fi</td>\n",
       "    </tr>\n",
       "    <tr>\n",
       "      <th>4</th>\n",
       "      <td>1570</td>\n",
       "      <td>5</td>\n",
       "      <td>Scream 2 (1997)</td>\n",
       "      <td>Horror|Thriller</td>\n",
       "    </tr>\n",
       "  </tbody>\n",
       "</table>\n",
       "</div>"
      ],
      "text/plain": [
       "   movieId  rating                                       name            genre\n",
       "0     1793       5  Freddy's Dead: The Final Nightmare (1991)           Horror\n",
       "1     2511       5                        Ghostbusters (1984)    Comedy|Horror\n",
       "2      214       5                        Castle Freak (1995)           Horror\n",
       "3     3588       5        Brain That Wouldn't Die, The (1962)    Horror|Sci-Fi\n",
       "4     1570       5                            Scream 2 (1997)  Horror|Thriller"
      ]
     },
     "metadata": {},
     "output_type": "display_data"
    },
    {
     "data": {
      "text/html": [
       "<div>\n",
       "<style scoped>\n",
       "    .dataframe tbody tr th:only-of-type {\n",
       "        vertical-align: middle;\n",
       "    }\n",
       "\n",
       "    .dataframe tbody tr th {\n",
       "        vertical-align: top;\n",
       "    }\n",
       "\n",
       "    .dataframe thead th {\n",
       "        text-align: right;\n",
       "    }\n",
       "</style>\n",
       "<table border=\"1\" class=\"dataframe\">\n",
       "  <thead>\n",
       "    <tr style=\"text-align: right;\">\n",
       "      <th></th>\n",
       "      <th>movieId</th>\n",
       "      <th>rating</th>\n",
       "      <th>name</th>\n",
       "      <th>genre</th>\n",
       "    </tr>\n",
       "  </thead>\n",
       "  <tbody>\n",
       "    <tr>\n",
       "      <th>0</th>\n",
       "      <td>1166</td>\n",
       "      <td>1.933450</td>\n",
       "      <td>Shining, The (1980)</td>\n",
       "      <td>Horror</td>\n",
       "    </tr>\n",
       "    <tr>\n",
       "      <th>1</th>\n",
       "      <td>1288</td>\n",
       "      <td>1.923832</td>\n",
       "      <td>Jaws (1975)</td>\n",
       "      <td>Action|Horror</td>\n",
       "    </tr>\n",
       "    <tr>\n",
       "      <th>2</th>\n",
       "      <td>1802</td>\n",
       "      <td>1.850637</td>\n",
       "      <td>Halloween (1978)</td>\n",
       "      <td>Horror</td>\n",
       "    </tr>\n",
       "    <tr>\n",
       "      <th>3</th>\n",
       "      <td>1817</td>\n",
       "      <td>1.846517</td>\n",
       "      <td>Exorcist, The (1973)</td>\n",
       "      <td>Horror</td>\n",
       "    </tr>\n",
       "    <tr>\n",
       "      <th>4</th>\n",
       "      <td>1305</td>\n",
       "      <td>1.772426</td>\n",
       "      <td>Scream (1996)</td>\n",
       "      <td>Horror|Thriller</td>\n",
       "    </tr>\n",
       "  </tbody>\n",
       "</table>\n",
       "</div>"
      ],
      "text/plain": [
       "   movieId    rating                  name            genre\n",
       "0     1166  1.933450   Shining, The (1980)           Horror\n",
       "1     1288  1.923832           Jaws (1975)    Action|Horror\n",
       "2     1802  1.850637      Halloween (1978)           Horror\n",
       "3     1817  1.846517  Exorcist, The (1973)           Horror\n",
       "4     1305  1.772426         Scream (1996)  Horror|Thriller"
      ]
     },
     "metadata": {},
     "output_type": "display_data"
    }
   ],
   "source": [
    "display(test_user_2.sample(5).merge(df_movies, on=\"movieId\"))\n",
    "display(svd.predict(test_user_2, k_best=5).merge(df_movies, on=\"movieId\"))"
   ]
  },
  {
   "cell_type": "code",
   "execution_count": 14,
   "id": "7a6bbec6",
   "metadata": {},
   "outputs": [
    {
     "data": {
      "text/html": [
       "<div>\n",
       "<style scoped>\n",
       "    .dataframe tbody tr th:only-of-type {\n",
       "        vertical-align: middle;\n",
       "    }\n",
       "\n",
       "    .dataframe tbody tr th {\n",
       "        vertical-align: top;\n",
       "    }\n",
       "\n",
       "    .dataframe thead th {\n",
       "        text-align: right;\n",
       "    }\n",
       "</style>\n",
       "<table border=\"1\" class=\"dataframe\">\n",
       "  <thead>\n",
       "    <tr style=\"text-align: right;\">\n",
       "      <th></th>\n",
       "      <th>movieId</th>\n",
       "      <th>rating</th>\n",
       "      <th>name</th>\n",
       "      <th>genre</th>\n",
       "    </tr>\n",
       "  </thead>\n",
       "  <tbody>\n",
       "    <tr>\n",
       "      <th>0</th>\n",
       "      <td>1913</td>\n",
       "      <td>5</td>\n",
       "      <td>Rocketeer, The (1991)</td>\n",
       "      <td>Action|Adventure|Sci-Fi</td>\n",
       "    </tr>\n",
       "    <tr>\n",
       "      <th>1</th>\n",
       "      <td>3687</td>\n",
       "      <td>5</td>\n",
       "      <td>Kronos (1957)</td>\n",
       "      <td>Sci-Fi</td>\n",
       "    </tr>\n",
       "    <tr>\n",
       "      <th>2</th>\n",
       "      <td>1682</td>\n",
       "      <td>5</td>\n",
       "      <td>Species II (1998)</td>\n",
       "      <td>Horror|Sci-Fi</td>\n",
       "    </tr>\n",
       "    <tr>\n",
       "      <th>3</th>\n",
       "      <td>3458</td>\n",
       "      <td>5</td>\n",
       "      <td>Brother from Another Planet, The (1984)</td>\n",
       "      <td>Drama|Sci-Fi</td>\n",
       "    </tr>\n",
       "    <tr>\n",
       "      <th>4</th>\n",
       "      <td>1853</td>\n",
       "      <td>5</td>\n",
       "      <td>Black Hole, The (1979)</td>\n",
       "      <td>Sci-Fi</td>\n",
       "    </tr>\n",
       "  </tbody>\n",
       "</table>\n",
       "</div>"
      ],
      "text/plain": [
       "   movieId  rating                                     name  \\\n",
       "0     1913       5                    Rocketeer, The (1991)   \n",
       "1     3687       5                            Kronos (1957)   \n",
       "2     1682       5                        Species II (1998)   \n",
       "3     3458       5  Brother from Another Planet, The (1984)   \n",
       "4     1853       5                   Black Hole, The (1979)   \n",
       "\n",
       "                     genre  \n",
       "0  Action|Adventure|Sci-Fi  \n",
       "1                   Sci-Fi  \n",
       "2            Horror|Sci-Fi  \n",
       "3             Drama|Sci-Fi  \n",
       "4                   Sci-Fi  "
      ]
     },
     "metadata": {},
     "output_type": "display_data"
    },
    {
     "data": {
      "text/html": [
       "<div>\n",
       "<style scoped>\n",
       "    .dataframe tbody tr th:only-of-type {\n",
       "        vertical-align: middle;\n",
       "    }\n",
       "\n",
       "    .dataframe tbody tr th {\n",
       "        vertical-align: top;\n",
       "    }\n",
       "\n",
       "    .dataframe thead th {\n",
       "        text-align: right;\n",
       "    }\n",
       "</style>\n",
       "<table border=\"1\" class=\"dataframe\">\n",
       "  <thead>\n",
       "    <tr style=\"text-align: right;\">\n",
       "      <th></th>\n",
       "      <th>movieId</th>\n",
       "      <th>rating</th>\n",
       "      <th>name</th>\n",
       "      <th>genre</th>\n",
       "    </tr>\n",
       "  </thead>\n",
       "  <tbody>\n",
       "    <tr>\n",
       "      <th>0</th>\n",
       "      <td>1258</td>\n",
       "      <td>2.480544</td>\n",
       "      <td>Star Trek: First Contact (1996)</td>\n",
       "      <td>Action|Adventure|Sci-Fi</td>\n",
       "    </tr>\n",
       "    <tr>\n",
       "      <th>1</th>\n",
       "      <td>1275</td>\n",
       "      <td>2.243518</td>\n",
       "      <td>Star Trek: The Wrath of Khan (1982)</td>\n",
       "      <td>Action|Adventure|Sci-Fi</td>\n",
       "    </tr>\n",
       "    <tr>\n",
       "      <th>2</th>\n",
       "      <td>1277</td>\n",
       "      <td>2.223127</td>\n",
       "      <td>Star Trek IV: The Voyage Home (1986)</td>\n",
       "      <td>Action|Adventure|Sci-Fi</td>\n",
       "    </tr>\n",
       "    <tr>\n",
       "      <th>3</th>\n",
       "      <td>319</td>\n",
       "      <td>2.051509</td>\n",
       "      <td>Star Trek: Generations (1994)</td>\n",
       "      <td>Action|Adventure|Sci-Fi</td>\n",
       "    </tr>\n",
       "    <tr>\n",
       "      <th>4</th>\n",
       "      <td>1273</td>\n",
       "      <td>1.965524</td>\n",
       "      <td>Star Trek VI: The Undiscovered Country (1991)</td>\n",
       "      <td>Action|Adventure|Sci-Fi</td>\n",
       "    </tr>\n",
       "  </tbody>\n",
       "</table>\n",
       "</div>"
      ],
      "text/plain": [
       "   movieId    rating                                           name  \\\n",
       "0     1258  2.480544                Star Trek: First Contact (1996)   \n",
       "1     1275  2.243518            Star Trek: The Wrath of Khan (1982)   \n",
       "2     1277  2.223127           Star Trek IV: The Voyage Home (1986)   \n",
       "3      319  2.051509                  Star Trek: Generations (1994)   \n",
       "4     1273  1.965524  Star Trek VI: The Undiscovered Country (1991)   \n",
       "\n",
       "                     genre  \n",
       "0  Action|Adventure|Sci-Fi  \n",
       "1  Action|Adventure|Sci-Fi  \n",
       "2  Action|Adventure|Sci-Fi  \n",
       "3  Action|Adventure|Sci-Fi  \n",
       "4  Action|Adventure|Sci-Fi  "
      ]
     },
     "metadata": {},
     "output_type": "display_data"
    }
   ],
   "source": [
    "display(test_user_3.sample(5).merge(df_movies, on=\"movieId\"))\n",
    "display(svd.predict(test_user_3, k_best=5).merge(df_movies, on=\"movieId\"))"
   ]
  },
  {
   "cell_type": "markdown",
   "id": "dc7bcc65",
   "metadata": {},
   "source": [
    "Seems like it is actually working)))"
   ]
  },
  {
   "cell_type": "markdown",
   "id": "61d12a59",
   "metadata": {},
   "source": [
    "### NCF\n",
    "\n",
    "https://www.kaggle.com/code/jamesloy/deep-learning-based-recommender-systems"
   ]
  },
  {
   "cell_type": "code",
   "execution_count": 17,
   "id": "82d800c5",
   "metadata": {},
   "outputs": [],
   "source": [
    "df_ratings[\"rank_latest\"] = df_ratings.groupby([\"userId\"])[\"timestamp\"].rank(\n",
    "    method=\"first\", ascending=False\n",
    ")\n",
    "\n",
    "train_ratings = df_ratings[df_ratings[\"rank_latest\"] > 2]\n",
    "val_ratings = df_ratings[df_ratings[\"rank_latest\"] == 2]\n",
    "test_ratings = df_ratings[df_ratings[\"rank_latest\"] == 1]\n",
    "\n",
    "# drop columns that we no longer need\n",
    "train_ratings = train_ratings[[\"userId\", \"movieId\", \"rating\"]]\n",
    "val_ratings = val_ratings[[\"userId\", \"movieId\", \"rating\"]]\n",
    "test_ratings = test_ratings[[\"userId\", \"movieId\", \"rating\"]]"
   ]
  },
  {
   "cell_type": "code",
   "execution_count": 18,
   "id": "3f19457e",
   "metadata": {},
   "outputs": [
    {
     "data": {
      "text/plain": [
       "Index(['userId', 'movieId', 'rating'], dtype='object')"
      ]
     },
     "execution_count": 18,
     "metadata": {},
     "output_type": "execute_result"
    }
   ],
   "source": [
    "train_ratings.columns"
   ]
  },
  {
   "cell_type": "code",
   "execution_count": 19,
   "id": "3ceb55f2",
   "metadata": {},
   "outputs": [
    {
     "data": {
      "text/plain": [
       "True"
      ]
     },
     "execution_count": 19,
     "metadata": {},
     "output_type": "execute_result"
    }
   ],
   "source": [
    "\"rating\" in train_ratings.columns"
   ]
  },
  {
   "cell_type": "code",
   "execution_count": 20,
   "id": "25c80e44",
   "metadata": {},
   "outputs": [],
   "source": [
    "class MovieLensTrainDataset(Dataset):\n",
    "    \"\"\"MovieLens PyTorch Dataset for Training\n",
    "\n",
    "    Args:\n",
    "        ratings (pd.DataFrame): Dataframe containing the movie ratings\n",
    "        all_movieIds (list): List containing all movieIds\n",
    "\n",
    "    \"\"\"\n",
    "\n",
    "    def __init__(self, ratings):\n",
    "        if \"rating\" in ratings.columns:\n",
    "            # train data\n",
    "            self.userIds, self.movieIds, self.ratings = (\n",
    "                torch.tensor(ratings[\"userId\"].values).to(torch.int),\n",
    "                torch.tensor(ratings[\"movieId\"].values).to(torch.int),\n",
    "                torch.tensor(ratings[\"rating\"].values).to(torch.float32),\n",
    "            )\n",
    "        else:\n",
    "            # test data\n",
    "            self.userIds, self.movieIds, self.ratings = (\n",
    "                torch.tensor(ratings[\"userId\"].values).to(torch.int),\n",
    "                torch.tensor(ratings[\"movieId\"].values).to(torch.int),\n",
    "            )\n",
    "            self.ratings = torch.empty(len(self.userIds))\n",
    "\n",
    "    def __len__(self):\n",
    "        return len(self.userIds)\n",
    "\n",
    "    def __getitem__(self, idx):\n",
    "        return self.userIds[idx], self.movieIds[idx], self.ratings[idx]"
   ]
  },
  {
   "cell_type": "code",
   "execution_count": 21,
   "id": "afb80491",
   "metadata": {},
   "outputs": [],
   "source": [
    "class NCF_internal(nn.Module):\n",
    "    \"\"\"Neural Collaborative Filtering (NCF)\n",
    "\n",
    "    Args:\n",
    "        num_users (int): Number of unique users\n",
    "        num_items (int): Number of unique items\n",
    "        ratings (pd.DataFrame): Dataframe containing the movie ratings for training\n",
    "        all_movieIds (list): List containing all movieIds (train + test)\n",
    "    \"\"\"\n",
    "\n",
    "    def __init__(self, num_users, num_items):\n",
    "        super().__init__()\n",
    "        self.user_embedding = nn.Embedding(num_embeddings=num_users, embedding_dim=8)\n",
    "        self.item_embedding = nn.Embedding(num_embeddings=num_items, embedding_dim=8)\n",
    "        self.fc1 = nn.Linear(in_features=16, out_features=64)\n",
    "        self.fc2 = nn.Linear(in_features=64, out_features=32)\n",
    "        self.output = nn.Linear(in_features=32, out_features=1)\n",
    "\n",
    "    def forward(self, user_input, item_input):\n",
    "\n",
    "        # Pass through embedding layers\n",
    "        user_embedded = self.user_embedding(user_input)\n",
    "        item_embedded = self.item_embedding(item_input)\n",
    "\n",
    "        # Concat the two embedding layers\n",
    "        vector = torch.cat([user_embedded, item_embedded], dim=-1)\n",
    "\n",
    "        # Pass through dense layer\n",
    "        vector = nn.ReLU()(self.fc1(vector))\n",
    "        vector = nn.ReLU()(self.fc2(vector))\n",
    "\n",
    "        # Output layer\n",
    "        pred = nn.ReLU6()(self.output(vector))\n",
    "\n",
    "        return pred.flatten()\n",
    "\n",
    "    # def training_step(self, batch, batch_idx):\n",
    "    #     user_input, item_input, labels = batch\n",
    "    #     predicted_labels = self(user_input, item_input)\n",
    "    #     loss = nn.BCELoss()(predicted_labels, labels.view(-1, 1).float())\n",
    "    #     return loss\n",
    "\n",
    "    # def configure_optimizers(self):\n",
    "    #     return torch.optim.Adam(self.parameters())\n",
    "\n",
    "    # def train_dataloader(self):\n",
    "    #     return DataLoader(MovieLensTrainDataset(self.ratings, self.all_movieIds),\n",
    "    #                       batch_size=512, num_workers=4)"
   ]
  },
  {
   "cell_type": "code",
   "execution_count": 70,
   "id": "92b30a2b",
   "metadata": {},
   "outputs": [],
   "source": [
    "class NCF(nn.Module):\n",
    "    def __init__(self, num_users, num_items):\n",
    "        super().__init__()\n",
    "        # configure the model\n",
    "        self.model = NCF_internal(num_users, num_items)\n",
    "        self.loss_fn = nn.MSELoss()\n",
    "        self.optimizer = torch.optim.Adam(self.model.parameters(), lr=3e-4)\n",
    "        self.device = \"cpu\"\n",
    "\n",
    "    def to(self, device):\n",
    "        super().to(device)\n",
    "        self.device = device\n",
    "\n",
    "    def train(self, train_ratings, val_ratings=None, n_epochs: int = 5):\n",
    "        # configure train data loader\n",
    "        train_loader = DataLoader(MovieLensTrainDataset(train_ratings), batch_size=512)\n",
    "        batch_size = 512\n",
    "        num_iterations = len(train_loader)\n",
    "\n",
    "        # configure val data loader\n",
    "        flag_validation = False\n",
    "        if val_ratings is not None:\n",
    "            val_loader = DataLoader(MovieLensTrainDataset(val_ratings), batch_size=512)\n",
    "            flag_validation = True\n",
    "\n",
    "        for epoch in tqdm(range(n_epochs), desc=\"Epochs\"):\n",
    "\n",
    "            # train\n",
    "            total_train_loss = 0\n",
    "            self.model.train()\n",
    "            for userIds, movieIds, ratings in tqdm(train_loader, desc=\"Training\"):\n",
    "\n",
    "                pred_train = self.model(\n",
    "                    userIds.to(self.device), movieIds.to(self.device)\n",
    "                )\n",
    "                loss_train = self.loss_fn(pred_train, ratings.to(self.device))\n",
    "\n",
    "                self.optimizer.zero_grad()\n",
    "                loss_train.backward()\n",
    "                self.optimizer.step()\n",
    "                total_train_loss += loss_train.item()\n",
    "\n",
    "            print(\"Epoch:\", epoch)\n",
    "            print(\"Train loss\", round(total_train_loss / num_iterations, 5))\n",
    "\n",
    "            if flag_validation:\n",
    "                self.model.eval()\n",
    "                val_preds = torch.empty(0)\n",
    "                val_ratings = torch.empty(0)\n",
    "                with torch.no_grad():\n",
    "                    for userIds, movieIds, ratings in val_loader:\n",
    "\n",
    "                        # training step\n",
    "                        pred = self.model(\n",
    "                            userIds.to(self.device), movieIds.to(self.device)\n",
    "                        )\n",
    "                        val_preds = torch.cat([val_preds, pred.cpu()])\n",
    "                        val_ratings = torch.cat([val_ratings, ratings])\n",
    "\n",
    "                loss_val = self.loss_fn(val_preds, val_ratings).item()\n",
    "                print(\"Val loss\", round(loss_val, 5))\n",
    "\n",
    "            print(\"-\" * 50)\n",
    "\n",
    "    def predict_straight(self, test_ratings):\n",
    "        # configure test data loader\n",
    "        test_loader = DataLoader(MovieLensTrainDataset(test_ratings), batch_size=512)\n",
    "\n",
    "        self.model.eval()\n",
    "        test_preds = torch.empty(0)\n",
    "        with torch.no_grad():\n",
    "            for userIds, movieIds, _ in tqdm(test_loader):\n",
    "\n",
    "                # training step\n",
    "                pred = self.model(userIds.to(self.device), movieIds.to(self.device))\n",
    "                test_preds = torch.cat([test_preds, pred.cpu()])\n",
    "\n",
    "        return test_preds\n",
    "\n",
    "    # def predict(self, userId):\n",
    "    #     # predict all the ratings for the concrete user"
   ]
  },
  {
   "cell_type": "code",
   "execution_count": 71,
   "id": "8935f9ed-6d27-4e7e-8672-731fc1352a90",
   "metadata": {},
   "outputs": [],
   "source": [
    "device = \"cpu\""
   ]
  },
  {
   "cell_type": "code",
   "execution_count": 72,
   "id": "a73ef70f",
   "metadata": {},
   "outputs": [],
   "source": [
    "ncf = NCF(df_ratings.userId.nunique(), df_ratings.movieId.nunique())\n",
    "ncf.to(device)"
   ]
  },
  {
   "cell_type": "code",
   "execution_count": 73,
   "id": "24613c29",
   "metadata": {},
   "outputs": [
    {
     "data": {
      "application/vnd.jupyter.widget-view+json": {
       "model_id": "f480a289c8f948dbb6a7191936e4248d",
       "version_major": 2,
       "version_minor": 0
      },
      "text/plain": [
       "Epochs:   0%|          | 0/50 [00:00<?, ?it/s]"
      ]
     },
     "metadata": {},
     "output_type": "display_data"
    },
    {
     "data": {
      "application/vnd.jupyter.widget-view+json": {
       "model_id": "9833bdd04a8a40c7b6c3a9025ea1c6d1",
       "version_major": 2,
       "version_minor": 0
      },
      "text/plain": [
       "Training:   0%|          | 0/1930 [00:00<?, ?it/s]"
      ]
     },
     "metadata": {},
     "output_type": "display_data"
    },
    {
     "name": "stdout",
     "output_type": "stream",
     "text": [
      "Epoch: 0\n",
      "Train loss 1.99008\n",
      "Val loss 1.34709\n",
      "--------------------------------------------------\n"
     ]
    },
    {
     "data": {
      "application/vnd.jupyter.widget-view+json": {
       "model_id": "fec743503d13462690114bb47fd0083d",
       "version_major": 2,
       "version_minor": 0
      },
      "text/plain": [
       "Training:   0%|          | 0/1930 [00:00<?, ?it/s]"
      ]
     },
     "metadata": {},
     "output_type": "display_data"
    },
    {
     "name": "stdout",
     "output_type": "stream",
     "text": [
      "Epoch: 1\n",
      "Train loss 1.20738\n",
      "Val loss 1.21664\n",
      "--------------------------------------------------\n"
     ]
    },
    {
     "data": {
      "application/vnd.jupyter.widget-view+json": {
       "model_id": "c42cd78d069a45c69d46a895005d0d3b",
       "version_major": 2,
       "version_minor": 0
      },
      "text/plain": [
       "Training:   0%|          | 0/1930 [00:00<?, ?it/s]"
      ]
     },
     "metadata": {},
     "output_type": "display_data"
    },
    {
     "name": "stdout",
     "output_type": "stream",
     "text": [
      "Epoch: 2\n",
      "Train loss 1.10276\n",
      "Val loss 1.13617\n",
      "--------------------------------------------------\n"
     ]
    },
    {
     "data": {
      "application/vnd.jupyter.widget-view+json": {
       "model_id": "e2c10039493e437c9314f6cfd7da02ef",
       "version_major": 2,
       "version_minor": 0
      },
      "text/plain": [
       "Training:   0%|          | 0/1930 [00:00<?, ?it/s]"
      ]
     },
     "metadata": {},
     "output_type": "display_data"
    },
    {
     "name": "stdout",
     "output_type": "stream",
     "text": [
      "Epoch: 3\n",
      "Train loss 1.04177\n",
      "Val loss 1.08978\n",
      "--------------------------------------------------\n"
     ]
    },
    {
     "data": {
      "application/vnd.jupyter.widget-view+json": {
       "model_id": "a32568f734d547dda83043df83a8a4aa",
       "version_major": 2,
       "version_minor": 0
      },
      "text/plain": [
       "Training:   0%|          | 0/1930 [00:00<?, ?it/s]"
      ]
     },
     "metadata": {},
     "output_type": "display_data"
    },
    {
     "name": "stdout",
     "output_type": "stream",
     "text": [
      "Epoch: 4\n",
      "Train loss 1.0082\n",
      "Val loss 1.06344\n",
      "--------------------------------------------------\n"
     ]
    },
    {
     "data": {
      "application/vnd.jupyter.widget-view+json": {
       "model_id": "b82c1c6e044e4f41a0c2680381b59817",
       "version_major": 2,
       "version_minor": 0
      },
      "text/plain": [
       "Training:   0%|          | 0/1930 [00:00<?, ?it/s]"
      ]
     },
     "metadata": {},
     "output_type": "display_data"
    },
    {
     "name": "stdout",
     "output_type": "stream",
     "text": [
      "Epoch: 5\n",
      "Train loss 0.98893\n",
      "Val loss 1.04814\n",
      "--------------------------------------------------\n"
     ]
    },
    {
     "data": {
      "application/vnd.jupyter.widget-view+json": {
       "model_id": "87643e52724b4817975412a7f54b6f4f",
       "version_major": 2,
       "version_minor": 0
      },
      "text/plain": [
       "Training:   0%|          | 0/1930 [00:00<?, ?it/s]"
      ]
     },
     "metadata": {},
     "output_type": "display_data"
    },
    {
     "name": "stdout",
     "output_type": "stream",
     "text": [
      "Epoch: 6\n",
      "Train loss 0.97692\n",
      "Val loss 1.03866\n",
      "--------------------------------------------------\n"
     ]
    },
    {
     "data": {
      "application/vnd.jupyter.widget-view+json": {
       "model_id": "f5b3bc7d3ec04765aeb6581e49d5c241",
       "version_major": 2,
       "version_minor": 0
      },
      "text/plain": [
       "Training:   0%|          | 0/1930 [00:00<?, ?it/s]"
      ]
     },
     "metadata": {},
     "output_type": "display_data"
    },
    {
     "name": "stdout",
     "output_type": "stream",
     "text": [
      "Epoch: 7\n",
      "Train loss 0.96864\n",
      "Val loss 1.03231\n",
      "--------------------------------------------------\n"
     ]
    },
    {
     "data": {
      "application/vnd.jupyter.widget-view+json": {
       "model_id": "936d3102516e4b149794171112eb145e",
       "version_major": 2,
       "version_minor": 0
      },
      "text/plain": [
       "Training:   0%|          | 0/1930 [00:00<?, ?it/s]"
      ]
     },
     "metadata": {},
     "output_type": "display_data"
    },
    {
     "name": "stdout",
     "output_type": "stream",
     "text": [
      "Epoch: 8\n",
      "Train loss 0.96252\n",
      "Val loss 1.02768\n",
      "--------------------------------------------------\n"
     ]
    },
    {
     "data": {
      "application/vnd.jupyter.widget-view+json": {
       "model_id": "2073c6c853914cc0be772a8592ed104e",
       "version_major": 2,
       "version_minor": 0
      },
      "text/plain": [
       "Training:   0%|          | 0/1930 [00:00<?, ?it/s]"
      ]
     },
     "metadata": {},
     "output_type": "display_data"
    },
    {
     "name": "stdout",
     "output_type": "stream",
     "text": [
      "Epoch: 9\n",
      "Train loss 0.95764\n",
      "Val loss 1.02408\n",
      "--------------------------------------------------\n"
     ]
    },
    {
     "data": {
      "application/vnd.jupyter.widget-view+json": {
       "model_id": "0e44656716a442c392dd331a634a157b",
       "version_major": 2,
       "version_minor": 0
      },
      "text/plain": [
       "Training:   0%|          | 0/1930 [00:00<?, ?it/s]"
      ]
     },
     "metadata": {},
     "output_type": "display_data"
    },
    {
     "name": "stdout",
     "output_type": "stream",
     "text": [
      "Epoch: 10\n",
      "Train loss 0.95348\n",
      "Val loss 1.02119\n",
      "--------------------------------------------------\n"
     ]
    },
    {
     "data": {
      "application/vnd.jupyter.widget-view+json": {
       "model_id": "d56faeb7ea4842afb9eda4d744b57ef3",
       "version_major": 2,
       "version_minor": 0
      },
      "text/plain": [
       "Training:   0%|          | 0/1930 [00:00<?, ?it/s]"
      ]
     },
     "metadata": {},
     "output_type": "display_data"
    },
    {
     "name": "stdout",
     "output_type": "stream",
     "text": [
      "Epoch: 11\n",
      "Train loss 0.94972\n",
      "Val loss 1.01876\n",
      "--------------------------------------------------\n"
     ]
    },
    {
     "data": {
      "application/vnd.jupyter.widget-view+json": {
       "model_id": "4737d3c460b144b180792fa14e18a0e5",
       "version_major": 2,
       "version_minor": 0
      },
      "text/plain": [
       "Training:   0%|          | 0/1930 [00:00<?, ?it/s]"
      ]
     },
     "metadata": {},
     "output_type": "display_data"
    },
    {
     "name": "stdout",
     "output_type": "stream",
     "text": [
      "Epoch: 12\n",
      "Train loss 0.9462\n",
      "Val loss 1.01657\n",
      "--------------------------------------------------\n"
     ]
    },
    {
     "data": {
      "application/vnd.jupyter.widget-view+json": {
       "model_id": "a307579d15084c6e8f9c57a28f213065",
       "version_major": 2,
       "version_minor": 0
      },
      "text/plain": [
       "Training:   0%|          | 0/1930 [00:00<?, ?it/s]"
      ]
     },
     "metadata": {},
     "output_type": "display_data"
    },
    {
     "name": "stdout",
     "output_type": "stream",
     "text": [
      "Epoch: 13\n",
      "Train loss 0.94283\n",
      "Val loss 1.0146\n",
      "--------------------------------------------------\n"
     ]
    },
    {
     "data": {
      "application/vnd.jupyter.widget-view+json": {
       "model_id": "a49472f1d38f44428aff0f30a8d6de46",
       "version_major": 2,
       "version_minor": 0
      },
      "text/plain": [
       "Training:   0%|          | 0/1930 [00:00<?, ?it/s]"
      ]
     },
     "metadata": {},
     "output_type": "display_data"
    },
    {
     "name": "stdout",
     "output_type": "stream",
     "text": [
      "Epoch: 14\n",
      "Train loss 0.93953\n",
      "Val loss 1.01276\n",
      "--------------------------------------------------\n"
     ]
    },
    {
     "data": {
      "application/vnd.jupyter.widget-view+json": {
       "model_id": "35fc3fe9468345319b6470a0e6868325",
       "version_major": 2,
       "version_minor": 0
      },
      "text/plain": [
       "Training:   0%|          | 0/1930 [00:00<?, ?it/s]"
      ]
     },
     "metadata": {},
     "output_type": "display_data"
    },
    {
     "name": "stdout",
     "output_type": "stream",
     "text": [
      "Epoch: 15\n",
      "Train loss 0.93625\n",
      "Val loss 1.01091\n",
      "--------------------------------------------------\n"
     ]
    },
    {
     "data": {
      "application/vnd.jupyter.widget-view+json": {
       "model_id": "db4219fa843a4483af23db4bb9b70ed6",
       "version_major": 2,
       "version_minor": 0
      },
      "text/plain": [
       "Training:   0%|          | 0/1930 [00:00<?, ?it/s]"
      ]
     },
     "metadata": {},
     "output_type": "display_data"
    },
    {
     "name": "stdout",
     "output_type": "stream",
     "text": [
      "Epoch: 16\n",
      "Train loss 0.93293\n",
      "Val loss 1.00917\n",
      "--------------------------------------------------\n"
     ]
    },
    {
     "data": {
      "application/vnd.jupyter.widget-view+json": {
       "model_id": "a1d253482c214021880c7d83716e5528",
       "version_major": 2,
       "version_minor": 0
      },
      "text/plain": [
       "Training:   0%|          | 0/1930 [00:00<?, ?it/s]"
      ]
     },
     "metadata": {},
     "output_type": "display_data"
    },
    {
     "name": "stdout",
     "output_type": "stream",
     "text": [
      "Epoch: 17\n",
      "Train loss 0.92962\n",
      "Val loss 1.00735\n",
      "--------------------------------------------------\n"
     ]
    },
    {
     "data": {
      "application/vnd.jupyter.widget-view+json": {
       "model_id": "4454baa7a1414d0a8b6b4072ce792a60",
       "version_major": 2,
       "version_minor": 0
      },
      "text/plain": [
       "Training:   0%|          | 0/1930 [00:00<?, ?it/s]"
      ]
     },
     "metadata": {},
     "output_type": "display_data"
    },
    {
     "name": "stdout",
     "output_type": "stream",
     "text": [
      "Epoch: 18\n",
      "Train loss 0.92626\n",
      "Val loss 1.00553\n",
      "--------------------------------------------------\n"
     ]
    },
    {
     "data": {
      "application/vnd.jupyter.widget-view+json": {
       "model_id": "aabd9eac0a1a4a319cba4fbea65a8de8",
       "version_major": 2,
       "version_minor": 0
      },
      "text/plain": [
       "Training:   0%|          | 0/1930 [00:00<?, ?it/s]"
      ]
     },
     "metadata": {},
     "output_type": "display_data"
    },
    {
     "name": "stdout",
     "output_type": "stream",
     "text": [
      "Epoch: 19\n",
      "Train loss 0.92287\n",
      "Val loss 1.00374\n",
      "--------------------------------------------------\n"
     ]
    },
    {
     "data": {
      "application/vnd.jupyter.widget-view+json": {
       "model_id": "a1c99249baee4258b270e1fdae0506ce",
       "version_major": 2,
       "version_minor": 0
      },
      "text/plain": [
       "Training:   0%|          | 0/1930 [00:00<?, ?it/s]"
      ]
     },
     "metadata": {},
     "output_type": "display_data"
    },
    {
     "name": "stdout",
     "output_type": "stream",
     "text": [
      "Epoch: 20\n",
      "Train loss 0.91946\n",
      "Val loss 1.00181\n",
      "--------------------------------------------------\n"
     ]
    },
    {
     "data": {
      "application/vnd.jupyter.widget-view+json": {
       "model_id": "28056ea3b4bb47f1b98be7cb55bae931",
       "version_major": 2,
       "version_minor": 0
      },
      "text/plain": [
       "Training:   0%|          | 0/1930 [00:00<?, ?it/s]"
      ]
     },
     "metadata": {},
     "output_type": "display_data"
    },
    {
     "name": "stdout",
     "output_type": "stream",
     "text": [
      "Epoch: 21\n",
      "Train loss 0.91601\n",
      "Val loss 1.00003\n",
      "--------------------------------------------------\n"
     ]
    },
    {
     "data": {
      "application/vnd.jupyter.widget-view+json": {
       "model_id": "2c0b8347c28a4ca1b4d293d8d01580e0",
       "version_major": 2,
       "version_minor": 0
      },
      "text/plain": [
       "Training:   0%|          | 0/1930 [00:00<?, ?it/s]"
      ]
     },
     "metadata": {},
     "output_type": "display_data"
    },
    {
     "name": "stdout",
     "output_type": "stream",
     "text": [
      "Epoch: 22\n",
      "Train loss 0.91253\n",
      "Val loss 0.99819\n",
      "--------------------------------------------------\n"
     ]
    },
    {
     "data": {
      "application/vnd.jupyter.widget-view+json": {
       "model_id": "844758555448497692e9a8cd920823c6",
       "version_major": 2,
       "version_minor": 0
      },
      "text/plain": [
       "Training:   0%|          | 0/1930 [00:00<?, ?it/s]"
      ]
     },
     "metadata": {},
     "output_type": "display_data"
    },
    {
     "name": "stdout",
     "output_type": "stream",
     "text": [
      "Epoch: 23\n",
      "Train loss 0.909\n",
      "Val loss 0.99638\n",
      "--------------------------------------------------\n"
     ]
    },
    {
     "data": {
      "application/vnd.jupyter.widget-view+json": {
       "model_id": "b7d56a860c2d46ca937f35730e832a0f",
       "version_major": 2,
       "version_minor": 0
      },
      "text/plain": [
       "Training:   0%|          | 0/1930 [00:00<?, ?it/s]"
      ]
     },
     "metadata": {},
     "output_type": "display_data"
    },
    {
     "name": "stdout",
     "output_type": "stream",
     "text": [
      "Epoch: 24\n",
      "Train loss 0.90545\n",
      "Val loss 0.99458\n",
      "--------------------------------------------------\n"
     ]
    },
    {
     "data": {
      "application/vnd.jupyter.widget-view+json": {
       "model_id": "8937f47680c94e74ba47198165d4354c",
       "version_major": 2,
       "version_minor": 0
      },
      "text/plain": [
       "Training:   0%|          | 0/1930 [00:00<?, ?it/s]"
      ]
     },
     "metadata": {},
     "output_type": "display_data"
    },
    {
     "name": "stdout",
     "output_type": "stream",
     "text": [
      "Epoch: 25\n",
      "Train loss 0.90188\n",
      "Val loss 0.99266\n",
      "--------------------------------------------------\n"
     ]
    },
    {
     "data": {
      "application/vnd.jupyter.widget-view+json": {
       "model_id": "b86c77a44144488c92acb42029c1c574",
       "version_major": 2,
       "version_minor": 0
      },
      "text/plain": [
       "Training:   0%|          | 0/1930 [00:00<?, ?it/s]"
      ]
     },
     "metadata": {},
     "output_type": "display_data"
    },
    {
     "name": "stdout",
     "output_type": "stream",
     "text": [
      "Epoch: 26\n",
      "Train loss 0.89827\n",
      "Val loss 0.99068\n",
      "--------------------------------------------------\n"
     ]
    },
    {
     "data": {
      "application/vnd.jupyter.widget-view+json": {
       "model_id": "de96aee5fc23492fa3fa4dd7acc6c033",
       "version_major": 2,
       "version_minor": 0
      },
      "text/plain": [
       "Training:   0%|          | 0/1930 [00:00<?, ?it/s]"
      ]
     },
     "metadata": {},
     "output_type": "display_data"
    },
    {
     "name": "stdout",
     "output_type": "stream",
     "text": [
      "Epoch: 27\n",
      "Train loss 0.89462\n",
      "Val loss 0.98862\n",
      "--------------------------------------------------\n"
     ]
    },
    {
     "data": {
      "application/vnd.jupyter.widget-view+json": {
       "model_id": "72c1ca1bae8d4380864cbb18b58025d9",
       "version_major": 2,
       "version_minor": 0
      },
      "text/plain": [
       "Training:   0%|          | 0/1930 [00:00<?, ?it/s]"
      ]
     },
     "metadata": {},
     "output_type": "display_data"
    },
    {
     "name": "stdout",
     "output_type": "stream",
     "text": [
      "Epoch: 28\n",
      "Train loss 0.89096\n",
      "Val loss 0.98654\n",
      "--------------------------------------------------\n"
     ]
    },
    {
     "data": {
      "application/vnd.jupyter.widget-view+json": {
       "model_id": "7410eeb3e98144a08807a86987198183",
       "version_major": 2,
       "version_minor": 0
      },
      "text/plain": [
       "Training:   0%|          | 0/1930 [00:00<?, ?it/s]"
      ]
     },
     "metadata": {},
     "output_type": "display_data"
    },
    {
     "name": "stdout",
     "output_type": "stream",
     "text": [
      "Epoch: 29\n",
      "Train loss 0.88731\n",
      "Val loss 0.98435\n",
      "--------------------------------------------------\n"
     ]
    },
    {
     "data": {
      "application/vnd.jupyter.widget-view+json": {
       "model_id": "01ae4fccdafb4addbef64f3b582ace21",
       "version_major": 2,
       "version_minor": 0
      },
      "text/plain": [
       "Training:   0%|          | 0/1930 [00:00<?, ?it/s]"
      ]
     },
     "metadata": {},
     "output_type": "display_data"
    },
    {
     "name": "stdout",
     "output_type": "stream",
     "text": [
      "Epoch: 30\n",
      "Train loss 0.8837\n",
      "Val loss 0.9822\n",
      "--------------------------------------------------\n"
     ]
    },
    {
     "data": {
      "application/vnd.jupyter.widget-view+json": {
       "model_id": "a6d6315a89d04c89a8ee2c2de05e8490",
       "version_major": 2,
       "version_minor": 0
      },
      "text/plain": [
       "Training:   0%|          | 0/1930 [00:00<?, ?it/s]"
      ]
     },
     "metadata": {},
     "output_type": "display_data"
    },
    {
     "name": "stdout",
     "output_type": "stream",
     "text": [
      "Epoch: 31\n",
      "Train loss 0.88008\n",
      "Val loss 0.98005\n",
      "--------------------------------------------------\n"
     ]
    },
    {
     "data": {
      "application/vnd.jupyter.widget-view+json": {
       "model_id": "20cbd2563fba42899e9114fa7d06620d",
       "version_major": 2,
       "version_minor": 0
      },
      "text/plain": [
       "Training:   0%|          | 0/1930 [00:00<?, ?it/s]"
      ]
     },
     "metadata": {},
     "output_type": "display_data"
    },
    {
     "name": "stdout",
     "output_type": "stream",
     "text": [
      "Epoch: 32\n",
      "Train loss 0.87648\n",
      "Val loss 0.97794\n",
      "--------------------------------------------------\n"
     ]
    },
    {
     "data": {
      "application/vnd.jupyter.widget-view+json": {
       "model_id": "4efed85f66ba4c43b518263fc53fdd91",
       "version_major": 2,
       "version_minor": 0
      },
      "text/plain": [
       "Training:   0%|          | 0/1930 [00:00<?, ?it/s]"
      ]
     },
     "metadata": {},
     "output_type": "display_data"
    },
    {
     "name": "stdout",
     "output_type": "stream",
     "text": [
      "Epoch: 33\n",
      "Train loss 0.87288\n",
      "Val loss 0.97568\n",
      "--------------------------------------------------\n"
     ]
    },
    {
     "data": {
      "application/vnd.jupyter.widget-view+json": {
       "model_id": "9e0dad3cb5aa4683bf96715893cac5ba",
       "version_major": 2,
       "version_minor": 0
      },
      "text/plain": [
       "Training:   0%|          | 0/1930 [00:00<?, ?it/s]"
      ]
     },
     "metadata": {},
     "output_type": "display_data"
    },
    {
     "name": "stdout",
     "output_type": "stream",
     "text": [
      "Epoch: 34\n",
      "Train loss 0.8693\n",
      "Val loss 0.9735\n",
      "--------------------------------------------------\n"
     ]
    },
    {
     "data": {
      "application/vnd.jupyter.widget-view+json": {
       "model_id": "468c937348a645a7b44fa720a0437bfb",
       "version_major": 2,
       "version_minor": 0
      },
      "text/plain": [
       "Training:   0%|          | 0/1930 [00:00<?, ?it/s]"
      ]
     },
     "metadata": {},
     "output_type": "display_data"
    },
    {
     "name": "stdout",
     "output_type": "stream",
     "text": [
      "Epoch: 35\n",
      "Train loss 0.86578\n",
      "Val loss 0.97131\n",
      "--------------------------------------------------\n"
     ]
    },
    {
     "data": {
      "application/vnd.jupyter.widget-view+json": {
       "model_id": "5b7585dea2a04a78ab9ebc29662fe2d9",
       "version_major": 2,
       "version_minor": 0
      },
      "text/plain": [
       "Training:   0%|          | 0/1930 [00:00<?, ?it/s]"
      ]
     },
     "metadata": {},
     "output_type": "display_data"
    },
    {
     "name": "stdout",
     "output_type": "stream",
     "text": [
      "Epoch: 36\n",
      "Train loss 0.86235\n",
      "Val loss 0.96933\n",
      "--------------------------------------------------\n"
     ]
    },
    {
     "data": {
      "application/vnd.jupyter.widget-view+json": {
       "model_id": "5f93ac41190d45ad8f8a432c5d5bf407",
       "version_major": 2,
       "version_minor": 0
      },
      "text/plain": [
       "Training:   0%|          | 0/1930 [00:00<?, ?it/s]"
      ]
     },
     "metadata": {},
     "output_type": "display_data"
    },
    {
     "name": "stdout",
     "output_type": "stream",
     "text": [
      "Epoch: 37\n",
      "Train loss 0.85899\n",
      "Val loss 0.96721\n",
      "--------------------------------------------------\n"
     ]
    },
    {
     "data": {
      "application/vnd.jupyter.widget-view+json": {
       "model_id": "55a59c440f3047cc9f9440395e9e4ab1",
       "version_major": 2,
       "version_minor": 0
      },
      "text/plain": [
       "Training:   0%|          | 0/1930 [00:00<?, ?it/s]"
      ]
     },
     "metadata": {},
     "output_type": "display_data"
    },
    {
     "name": "stdout",
     "output_type": "stream",
     "text": [
      "Epoch: 38\n",
      "Train loss 0.85569\n",
      "Val loss 0.96543\n",
      "--------------------------------------------------\n"
     ]
    },
    {
     "data": {
      "application/vnd.jupyter.widget-view+json": {
       "model_id": "6c93ff452d3d48fe91f5e60ce44ee676",
       "version_major": 2,
       "version_minor": 0
      },
      "text/plain": [
       "Training:   0%|          | 0/1930 [00:00<?, ?it/s]"
      ]
     },
     "metadata": {},
     "output_type": "display_data"
    },
    {
     "name": "stdout",
     "output_type": "stream",
     "text": [
      "Epoch: 39\n",
      "Train loss 0.85244\n",
      "Val loss 0.96363\n",
      "--------------------------------------------------\n"
     ]
    },
    {
     "data": {
      "application/vnd.jupyter.widget-view+json": {
       "model_id": "96da9c97a47649ffa40c2a518b45ff7c",
       "version_major": 2,
       "version_minor": 0
      },
      "text/plain": [
       "Training:   0%|          | 0/1930 [00:00<?, ?it/s]"
      ]
     },
     "metadata": {},
     "output_type": "display_data"
    },
    {
     "name": "stdout",
     "output_type": "stream",
     "text": [
      "Epoch: 40\n",
      "Train loss 0.8493\n",
      "Val loss 0.96201\n",
      "--------------------------------------------------\n"
     ]
    },
    {
     "data": {
      "application/vnd.jupyter.widget-view+json": {
       "model_id": "eed9f7bf67d049ad822f908d710feb87",
       "version_major": 2,
       "version_minor": 0
      },
      "text/plain": [
       "Training:   0%|          | 0/1930 [00:00<?, ?it/s]"
      ]
     },
     "metadata": {},
     "output_type": "display_data"
    },
    {
     "name": "stdout",
     "output_type": "stream",
     "text": [
      "Epoch: 41\n",
      "Train loss 0.84626\n",
      "Val loss 0.96041\n",
      "--------------------------------------------------\n"
     ]
    },
    {
     "data": {
      "application/vnd.jupyter.widget-view+json": {
       "model_id": "75b6d45beb994a8b85f621313947e48d",
       "version_major": 2,
       "version_minor": 0
      },
      "text/plain": [
       "Training:   0%|          | 0/1930 [00:00<?, ?it/s]"
      ]
     },
     "metadata": {},
     "output_type": "display_data"
    },
    {
     "name": "stdout",
     "output_type": "stream",
     "text": [
      "Epoch: 42\n",
      "Train loss 0.84331\n",
      "Val loss 0.95911\n",
      "--------------------------------------------------\n"
     ]
    },
    {
     "data": {
      "application/vnd.jupyter.widget-view+json": {
       "model_id": "7a33f140ea6a49faa1c926566837acb5",
       "version_major": 2,
       "version_minor": 0
      },
      "text/plain": [
       "Training:   0%|          | 0/1930 [00:00<?, ?it/s]"
      ]
     },
     "metadata": {},
     "output_type": "display_data"
    },
    {
     "name": "stdout",
     "output_type": "stream",
     "text": [
      "Epoch: 43\n",
      "Train loss 0.84045\n",
      "Val loss 0.95745\n",
      "--------------------------------------------------\n"
     ]
    },
    {
     "data": {
      "application/vnd.jupyter.widget-view+json": {
       "model_id": "42dfba5320a344069969748b16061e09",
       "version_major": 2,
       "version_minor": 0
      },
      "text/plain": [
       "Training:   0%|          | 0/1930 [00:00<?, ?it/s]"
      ]
     },
     "metadata": {},
     "output_type": "display_data"
    },
    {
     "name": "stdout",
     "output_type": "stream",
     "text": [
      "Epoch: 44\n",
      "Train loss 0.83771\n",
      "Val loss 0.95612\n",
      "--------------------------------------------------\n"
     ]
    },
    {
     "data": {
      "application/vnd.jupyter.widget-view+json": {
       "model_id": "4f8dd3210158476e8bd251a9975da77d",
       "version_major": 2,
       "version_minor": 0
      },
      "text/plain": [
       "Training:   0%|          | 0/1930 [00:00<?, ?it/s]"
      ]
     },
     "metadata": {},
     "output_type": "display_data"
    },
    {
     "name": "stdout",
     "output_type": "stream",
     "text": [
      "Epoch: 45\n",
      "Train loss 0.83505\n",
      "Val loss 0.95437\n",
      "--------------------------------------------------\n"
     ]
    },
    {
     "data": {
      "application/vnd.jupyter.widget-view+json": {
       "model_id": "42e936dae0fd45e5909a78d8d76f6649",
       "version_major": 2,
       "version_minor": 0
      },
      "text/plain": [
       "Training:   0%|          | 0/1930 [00:00<?, ?it/s]"
      ]
     },
     "metadata": {},
     "output_type": "display_data"
    },
    {
     "name": "stdout",
     "output_type": "stream",
     "text": [
      "Epoch: 46\n",
      "Train loss 0.83254\n",
      "Val loss 0.9529\n",
      "--------------------------------------------------\n"
     ]
    },
    {
     "data": {
      "application/vnd.jupyter.widget-view+json": {
       "model_id": "e5837ee0bc5845c2b9d3d93c7da025ec",
       "version_major": 2,
       "version_minor": 0
      },
      "text/plain": [
       "Training:   0%|          | 0/1930 [00:00<?, ?it/s]"
      ]
     },
     "metadata": {},
     "output_type": "display_data"
    },
    {
     "name": "stdout",
     "output_type": "stream",
     "text": [
      "Epoch: 47\n",
      "Train loss 0.83004\n",
      "Val loss 0.95136\n",
      "--------------------------------------------------\n"
     ]
    },
    {
     "data": {
      "application/vnd.jupyter.widget-view+json": {
       "model_id": "19cd0b4006654b21bfbdde34eae6b914",
       "version_major": 2,
       "version_minor": 0
      },
      "text/plain": [
       "Training:   0%|          | 0/1930 [00:00<?, ?it/s]"
      ]
     },
     "metadata": {},
     "output_type": "display_data"
    },
    {
     "name": "stdout",
     "output_type": "stream",
     "text": [
      "Epoch: 48\n",
      "Train loss 0.8277\n",
      "Val loss 0.94989\n",
      "--------------------------------------------------\n"
     ]
    },
    {
     "data": {
      "application/vnd.jupyter.widget-view+json": {
       "model_id": "de8f0c8ce9664bab803e0554c7be90ff",
       "version_major": 2,
       "version_minor": 0
      },
      "text/plain": [
       "Training:   0%|          | 0/1930 [00:00<?, ?it/s]"
      ]
     },
     "metadata": {},
     "output_type": "display_data"
    },
    {
     "name": "stdout",
     "output_type": "stream",
     "text": [
      "Epoch: 49\n",
      "Train loss 0.8254\n",
      "Val loss 0.94903\n",
      "--------------------------------------------------\n"
     ]
    }
   ],
   "source": [
    "ncf.train(train_ratings, val_ratings, n_epochs=50)"
   ]
  },
  {
   "cell_type": "code",
   "execution_count": 25,
   "id": "2109cecb",
   "metadata": {},
   "outputs": [
    {
     "data": {
      "application/vnd.jupyter.widget-view+json": {
       "model_id": "44ac66e450f145858e7c6b1c27b98a80",
       "version_major": 2,
       "version_minor": 0
      },
      "text/plain": [
       "  0%|          | 0/12 [00:00<?, ?it/s]"
      ]
     },
     "metadata": {},
     "output_type": "display_data"
    },
    {
     "data": {
      "text/plain": [
       "tensor([2.9348, 3.0938, 3.7552,  ..., 3.6536, 4.5211, 4.3658])"
      ]
     },
     "execution_count": 25,
     "metadata": {},
     "output_type": "execute_result"
    }
   ],
   "source": [
    "ncf.predict_straight(test_ratings)"
   ]
  },
  {
   "cell_type": "code",
   "execution_count": 69,
   "id": "177788a3-ce84-4d46-83ae-ed60117a3527",
   "metadata": {},
   "outputs": [
    {
     "data": {
      "application/vnd.jupyter.widget-view+json": {
       "model_id": "deee4925b13847d7ac5e1a83a1509e76",
       "version_major": 2,
       "version_minor": 0
      },
      "text/plain": [
       "  0%|          | 0/12 [00:00<?, ?it/s]"
      ]
     },
     "metadata": {},
     "output_type": "display_data"
    },
    {
     "data": {
      "text/plain": [
       "tensor([3.2317, 2.9274, 3.7919,  ..., 3.3790, 5.1271, 4.0765])"
      ]
     },
     "execution_count": 69,
     "metadata": {},
     "output_type": "execute_result"
    }
   ],
   "source": [
    "ncf.predict_straight(test_ratings)"
   ]
  },
  {
   "cell_type": "code",
   "execution_count": 74,
   "id": "ceff3500-bd37-4a84-be63-71b650f9ed8a",
   "metadata": {},
   "outputs": [
    {
     "data": {
      "application/vnd.jupyter.widget-view+json": {
       "model_id": "2a6e899c2d2348cd8c8ae9469bed6104",
       "version_major": 2,
       "version_minor": 0
      },
      "text/plain": [
       "  0%|          | 0/12 [00:00<?, ?it/s]"
      ]
     },
     "metadata": {},
     "output_type": "display_data"
    },
    {
     "data": {
      "text/plain": [
       "tensor([3.4524, 2.6045, 3.9055,  ..., 4.0072, 4.3311, 3.9072])"
      ]
     },
     "execution_count": 74,
     "metadata": {},
     "output_type": "execute_result"
    }
   ],
   "source": [
    "ncf.predict_straight(test_ratings)"
   ]
  },
  {
   "cell_type": "code",
   "execution_count": 26,
   "id": "f459614e",
   "metadata": {},
   "outputs": [
    {
     "data": {
      "text/html": [
       "<div>\n",
       "<style scoped>\n",
       "    .dataframe tbody tr th:only-of-type {\n",
       "        vertical-align: middle;\n",
       "    }\n",
       "\n",
       "    .dataframe tbody tr th {\n",
       "        vertical-align: top;\n",
       "    }\n",
       "\n",
       "    .dataframe thead th {\n",
       "        text-align: right;\n",
       "    }\n",
       "</style>\n",
       "<table border=\"1\" class=\"dataframe\">\n",
       "  <thead>\n",
       "    <tr style=\"text-align: right;\">\n",
       "      <th></th>\n",
       "      <th>userId</th>\n",
       "      <th>movieId</th>\n",
       "      <th>rating</th>\n",
       "    </tr>\n",
       "  </thead>\n",
       "  <tbody>\n",
       "    <tr>\n",
       "      <th>25</th>\n",
       "      <td>0</td>\n",
       "      <td>47</td>\n",
       "      <td>5</td>\n",
       "    </tr>\n",
       "    <tr>\n",
       "      <th>66</th>\n",
       "      <td>1</td>\n",
       "      <td>1550</td>\n",
       "      <td>3</td>\n",
       "    </tr>\n",
       "    <tr>\n",
       "      <th>232</th>\n",
       "      <td>2</td>\n",
       "      <td>1900</td>\n",
       "      <td>4</td>\n",
       "    </tr>\n",
       "    <tr>\n",
       "      <th>235</th>\n",
       "      <td>3</td>\n",
       "      <td>2743</td>\n",
       "      <td>4</td>\n",
       "    </tr>\n",
       "    <tr>\n",
       "      <th>258</th>\n",
       "      <td>4</td>\n",
       "      <td>279</td>\n",
       "      <td>2</td>\n",
       "    </tr>\n",
       "    <tr>\n",
       "      <th>...</th>\n",
       "      <td>...</td>\n",
       "      <td>...</td>\n",
       "      <td>...</td>\n",
       "    </tr>\n",
       "    <tr>\n",
       "      <th>998803</th>\n",
       "      <td>6035</td>\n",
       "      <td>2602</td>\n",
       "      <td>1</td>\n",
       "    </tr>\n",
       "    <tr>\n",
       "      <th>999557</th>\n",
       "      <td>6036</td>\n",
       "      <td>907</td>\n",
       "      <td>4</td>\n",
       "    </tr>\n",
       "    <tr>\n",
       "      <th>999731</th>\n",
       "      <td>6037</td>\n",
       "      <td>1094</td>\n",
       "      <td>5</td>\n",
       "    </tr>\n",
       "    <tr>\n",
       "      <th>999764</th>\n",
       "      <td>6038</td>\n",
       "      <td>851</td>\n",
       "      <td>4</td>\n",
       "    </tr>\n",
       "    <tr>\n",
       "      <th>1000042</th>\n",
       "      <td>6039</td>\n",
       "      <td>1131</td>\n",
       "      <td>4</td>\n",
       "    </tr>\n",
       "  </tbody>\n",
       "</table>\n",
       "<p>6040 rows × 3 columns</p>\n",
       "</div>"
      ],
      "text/plain": [
       "         userId  movieId  rating\n",
       "25            0       47       5\n",
       "66            1     1550       3\n",
       "232           2     1900       4\n",
       "235           3     2743       4\n",
       "258           4      279       2\n",
       "...         ...      ...     ...\n",
       "998803     6035     2602       1\n",
       "999557     6036      907       4\n",
       "999731     6037     1094       5\n",
       "999764     6038      851       4\n",
       "1000042    6039     1131       4\n",
       "\n",
       "[6040 rows x 3 columns]"
      ]
     },
     "execution_count": 26,
     "metadata": {},
     "output_type": "execute_result"
    }
   ],
   "source": [
    "test_ratings"
   ]
  },
  {
   "cell_type": "code",
   "execution_count": 27,
   "id": "54998336",
   "metadata": {},
   "outputs": [
    {
     "ename": "NameError",
     "evalue": "name 'train_loader' is not defined",
     "output_type": "error",
     "traceback": [
      "\u001b[0;31m---------------------------------------------------------------------------\u001b[0m",
      "\u001b[0;31mNameError\u001b[0m                                 Traceback (most recent call last)",
      "Cell \u001b[0;32mIn[27], line 1\u001b[0m\n\u001b[0;32m----> 1\u001b[0m \u001b[38;5;28mlen\u001b[39m(\u001b[43mtrain_loader\u001b[49m)\n",
      "\u001b[0;31mNameError\u001b[0m: name 'train_loader' is not defined"
     ]
    }
   ],
   "source": [
    "len(train_loader)"
   ]
  },
  {
   "cell_type": "code",
   "execution_count": 28,
   "id": "20ac07d7",
   "metadata": {},
   "outputs": [
    {
     "ename": "NameError",
     "evalue": "name 'train_loader' is not defined",
     "output_type": "error",
     "traceback": [
      "\u001b[0;31m---------------------------------------------------------------------------\u001b[0m",
      "\u001b[0;31mNameError\u001b[0m                                 Traceback (most recent call last)",
      "Cell \u001b[0;32mIn[28], line 1\u001b[0m\n\u001b[0;32m----> 1\u001b[0m \u001b[38;5;28;01mfor\u001b[39;00m batch \u001b[38;5;129;01min\u001b[39;00m tqdm(\u001b[43mtrain_loader\u001b[49m, desc\u001b[38;5;241m=\u001b[39m\u001b[38;5;124m\"\u001b[39m\u001b[38;5;124mIterations\u001b[39m\u001b[38;5;124m\"\u001b[39m):\n\u001b[1;32m      2\u001b[0m     \u001b[38;5;28mprint\u001b[39m(batch[\u001b[38;5;241m0\u001b[39m])\n\u001b[1;32m      3\u001b[0m     \u001b[38;5;28;01mbreak\u001b[39;00m\n",
      "\u001b[0;31mNameError\u001b[0m: name 'train_loader' is not defined"
     ]
    }
   ],
   "source": [
    "for batch in tqdm(train_loader, desc=\"Iterations\"):\n",
    "    print(batch[0])\n",
    "    break"
   ]
  },
  {
   "cell_type": "code",
   "execution_count": null,
   "id": "a55bf5ac",
   "metadata": {},
   "outputs": [],
   "source": []
  }
 ],
 "metadata": {
  "kernelspec": {
   "display_name": "Python 3 (ipykernel)",
   "language": "python",
   "name": "python3"
  },
  "language_info": {
   "codemirror_mode": {
    "name": "ipython",
    "version": 3
   },
   "file_extension": ".py",
   "mimetype": "text/x-python",
   "name": "python",
   "nbconvert_exporter": "python",
   "pygments_lexer": "ipython3",
   "version": "3.10.13"
  }
 },
 "nbformat": 4,
 "nbformat_minor": 5
}
